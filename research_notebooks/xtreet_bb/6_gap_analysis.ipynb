{
 "cells": [
  {
   "metadata": {
    "collapsed": true,
    "ExecuteTime": {
     "end_time": "2024-09-04T22:16:26.295037Z",
     "start_time": "2024-09-04T22:16:24.992308Z"
    }
   },
   "cell_type": "code",
   "source": [
    "from core.data_structures.hummingbot_database import HummingbotDatabase\n",
    "\n",
    "import pandas as pd\n",
    "import numpy as np\n",
    "import os\n",
    "import sys\n",
    "import json\n",
    "from hummingbot.connector.connector_base import TradeType\n",
    "from decimal import Decimal\n",
    "import plotly.graph_objects as go\n",
    "\n",
    "from core.backtesting import BacktestingEngine\n",
    "import warnings\n",
    "\n",
    "warnings.filterwarnings(\"ignore\")\n",
    "root_path = os.path.abspath(os.path.join(os.getcwd(), '../..'))\n",
    "sys.path.append(root_path)\n"
   ],
   "id": "initial_id",
   "outputs": [],
   "execution_count": 1
  },
  {
   "cell_type": "code",
   "execution_count": 2,
   "outputs": [],
   "source": [
    "from research_notebooks.xtreet_bb.xtreet_bt import XtreetBacktesting\n",
    "\n",
    "db = HummingbotDatabase(db_name=\"la_maquinita-2024.sqlite\", root_path=root_path)\n",
    "backtesting_engine = BacktestingEngine(root_path=root_path, load_cached_data=True)\n",
    "controllers = db.get_controller_data()\n",
    "controller_ids = controllers[\"id\"].tolist()\n",
    "controller_id = controller_ids[5]\n",
    "\n",
    "controller_executors = db.get_executors_from_controller_id(controller_id)\n",
    "controller_config = json.loads(controllers.loc[controllers[\"id\"] == controller_id, \"config\"].values[0])\n",
    "max_timestamp = controller_executors[\"timestamp\"].max()\n",
    "min_timestamp = controller_executors[\"timestamp\"].min()"
   ],
   "metadata": {
    "collapsed": false,
    "ExecuteTime": {
     "end_time": "2024-09-04T22:16:30.421210Z",
     "start_time": "2024-09-04T22:16:26.297044Z"
    }
   }
  },
  {
   "metadata": {
    "ExecuteTime": {
     "end_time": "2024-09-04T22:16:30.514750Z",
     "start_time": "2024-09-04T22:16:30.421788Z"
    }
   },
   "cell_type": "code",
   "source": [
    "from controllers.directional_trading.xtreet_bb import XtreetBBControllerConfig\n",
    "\n",
    "config = XtreetBBControllerConfig(**controller_config)\n",
    "connector = config.connector_name\n",
    "trading_pair = config.trading_pair"
   ],
   "id": "ffdd0e9267471058",
   "outputs": [],
   "execution_count": 3
  },
  {
   "cell_type": "code",
   "execution_count": 4,
   "outputs": [
    {
     "ename": "AttributeError",
     "evalue": "'int' object has no attribute 'get_controller_class'",
     "output_type": "error",
     "traceback": [
      "\u001B[0;31m---------------------------------------------------------------------------\u001B[0m",
      "\u001B[0;31mAttributeError\u001B[0m                            Traceback (most recent call last)",
      "Cell \u001B[0;32mIn[4], line 7\u001B[0m\n\u001B[1;32m      5\u001B[0m backtesting_engine\u001B[38;5;241m.\u001B[39m_dt_bt\u001B[38;5;241m.\u001B[39mbacktesting_data_provider\u001B[38;5;241m.\u001B[39mstart_time \u001B[38;5;241m=\u001B[39m start_time\n\u001B[1;32m      6\u001B[0m backtesting_engine\u001B[38;5;241m.\u001B[39m_dt_bt\u001B[38;5;241m.\u001B[39mbacktesting_data_provider\u001B[38;5;241m.\u001B[39mend_time \u001B[38;5;241m=\u001B[39m end_time\n\u001B[0;32m----> 7\u001B[0m backtesting_result \u001B[38;5;241m=\u001B[39m \u001B[38;5;28;01mawait\u001B[39;00m backtesting_engine\u001B[38;5;241m.\u001B[39mrun_backtesting(\n\u001B[1;32m      8\u001B[0m     config\u001B[38;5;241m=\u001B[39mconfig,\n\u001B[1;32m      9\u001B[0m     trade_cost\u001B[38;5;241m=\u001B[39m\u001B[38;5;241m0.0007\u001B[39m,\n\u001B[1;32m     10\u001B[0m     start\u001B[38;5;241m=\u001B[39m\u001B[38;5;28mint\u001B[39m(start_time),\n\u001B[1;32m     11\u001B[0m     end\u001B[38;5;241m=\u001B[39m\u001B[38;5;28mint\u001B[39m(end_time),\n\u001B[1;32m     12\u001B[0m     backtesting_resolution\u001B[38;5;241m=\u001B[39m\u001B[38;5;124m\"\u001B[39m\u001B[38;5;124m1s\u001B[39m\u001B[38;5;124m\"\u001B[39m,\n\u001B[1;32m     13\u001B[0m     backtester\u001B[38;5;241m=\u001B[39mXtreetBacktesting\n\u001B[1;32m     14\u001B[0m )\n",
      "File \u001B[0;32m~/Documents/work/quants-lab/core/backtesting/engine.py:75\u001B[0m, in \u001B[0;36mBacktestingEngine.run_backtesting\u001B[0;34m(self, config, start, end, backtesting_resolution, trade_cost, backtester)\u001B[0m\n\u001B[1;32m     73\u001B[0m \u001B[38;5;28;01melse\u001B[39;00m:\n\u001B[1;32m     74\u001B[0m     \u001B[38;5;28;01mraise\u001B[39;00m \u001B[38;5;167;01mException\u001B[39;00m(\u001B[38;5;124m\"\u001B[39m\u001B[38;5;124mBacktester not specified\u001B[39m\u001B[38;5;124m\"\u001B[39m)\n\u001B[0;32m---> 75\u001B[0m bt_result \u001B[38;5;241m=\u001B[39m \u001B[38;5;28;01mawait\u001B[39;00m backtester\u001B[38;5;241m.\u001B[39mrun_backtesting(config, start, end, backtesting_resolution, trade_cost)\n\u001B[1;32m     76\u001B[0m \u001B[38;5;28;01mreturn\u001B[39;00m BacktestingResult(bt_result, config)\n",
      "File \u001B[0;32m~/Documents/work/quants-lab/hummingbot/strategy_v2/backtesting/backtesting_engine_base.py:86\u001B[0m, in \u001B[0;36mBacktestingEngineBase.run_backtesting\u001B[0;34m(self, controller_config, start, end, backtesting_resolution, trade_cost)\u001B[0m\n\u001B[1;32m     80\u001B[0m \u001B[38;5;28;01masync\u001B[39;00m \u001B[38;5;28;01mdef\u001B[39;00m \u001B[38;5;21mrun_backtesting\u001B[39m(\u001B[38;5;28mself\u001B[39m,\n\u001B[1;32m     81\u001B[0m                           controller_config: ControllerConfigBase,\n\u001B[1;32m     82\u001B[0m                           start: \u001B[38;5;28mint\u001B[39m, end: \u001B[38;5;28mint\u001B[39m,\n\u001B[1;32m     83\u001B[0m                           backtesting_resolution: \u001B[38;5;28mstr\u001B[39m \u001B[38;5;241m=\u001B[39m \u001B[38;5;124m\"\u001B[39m\u001B[38;5;124m1m\u001B[39m\u001B[38;5;124m\"\u001B[39m,\n\u001B[1;32m     84\u001B[0m                           trade_cost\u001B[38;5;241m=\u001B[39m\u001B[38;5;241m0.0006\u001B[39m):\n\u001B[1;32m     85\u001B[0m     \u001B[38;5;66;03m# Load historical candles\u001B[39;00m\n\u001B[0;32m---> 86\u001B[0m     controller_class \u001B[38;5;241m=\u001B[39m \u001B[43mcontroller_config\u001B[49m\u001B[38;5;241;43m.\u001B[39;49m\u001B[43mget_controller_class\u001B[49m()\n\u001B[1;32m     87\u001B[0m     \u001B[38;5;28mself\u001B[39m\u001B[38;5;241m.\u001B[39mbacktesting_data_provider\u001B[38;5;241m.\u001B[39mupdate_backtesting_time(start, end)\n\u001B[1;32m     88\u001B[0m     \u001B[38;5;28mself\u001B[39m\u001B[38;5;241m.\u001B[39mcontroller \u001B[38;5;241m=\u001B[39m controller_class(config\u001B[38;5;241m=\u001B[39mcontroller_config, market_data_provider\u001B[38;5;241m=\u001B[39m\u001B[38;5;28mself\u001B[39m\u001B[38;5;241m.\u001B[39mbacktesting_data_provider,\n\u001B[1;32m     89\u001B[0m                                        actions_queue\u001B[38;5;241m=\u001B[39m\u001B[38;5;28;01mNone\u001B[39;00m)\n",
      "\u001B[0;31mAttributeError\u001B[0m: 'int' object has no attribute 'get_controller_class'"
     ]
    }
   ],
   "source": [
    "start_time = backtesting_engine._dt_bt.backtesting_data_provider.candles_feeds[f\"{connector}_{trading_pair}_1s\"][\n",
    "    \"timestamp\"].min() + 10\n",
    "end_time = backtesting_engine._dt_bt.backtesting_data_provider.candles_feeds[f\"{connector}_{trading_pair}_1s\"][\n",
    "    \"timestamp\"].max() - 10\n",
    "backtesting_engine._dt_bt.backtesting_data_provider.start_time = start_time\n",
    "backtesting_engine._dt_bt.backtesting_data_provider.end_time = end_time\n",
    "backtesting_result = await backtesting_engine.run_backtesting(\n",
    "    config=config,\n",
    "    trade_cost=0.0007,\n",
    "    start=int(start_time),\n",
    "    end=int(end_time),\n",
    "    backtesting_resolution=\"1s\",\n",
    "    backtester=XtreetBacktesting\n",
    ")"
   ],
   "metadata": {
    "collapsed": false,
    "ExecuteTime": {
     "end_time": "2024-09-04T22:16:30.767627Z",
     "start_time": "2024-09-04T22:16:30.516405Z"
    }
   }
  },
  {
   "cell_type": "code",
   "execution_count": null,
   "outputs": [],
   "source": [
    "from hummingbot.strategy_v2.models.executors_info import ExecutorInfo\n",
    "\n",
    "controller_executors[\"custom_info\"] = controller_executors[\"custom_info\"].apply(\n",
    "    lambda x: json.loads(x) if isinstance(x, str) else x)\n",
    "controller_executors[\"config\"] = controller_executors[\"config\"].apply(\n",
    "    lambda x: json.loads(x) if isinstance(x, str) else x)\n",
    "controller_executors_info = [ExecutorInfo(**controller) for controller in\n",
    "                             controller_executors.to_dict(orient=\"records\")]"
   ],
   "metadata": {
    "collapsed": false
   }
  },
  {
   "cell_type": "code",
   "execution_count": null,
   "outputs": [],
   "source": [
    "fig = backtesting_result.get_backtesting_figure()"
   ],
   "metadata": {
    "collapsed": false
   }
  },
  {
   "cell_type": "code",
   "execution_count": null,
   "outputs": [],
   "source": [
    "def add_executors_trace(executors, fig, row=1, col=1):\n",
    "    for executor in executors:\n",
    "        entry_time = pd.to_datetime(executor.timestamp, unit='s')\n",
    "        entry_price = executor.custom_info[\"current_position_average_price\"]\n",
    "        exit_time = pd.to_datetime(executor.close_timestamp, unit='s')\n",
    "        exit_price = executor.custom_info[\"close_price\"]\n",
    "        name = \"Buy Executor\" if executor.config.side == TradeType.BUY else \"Sell Executor\"\n",
    "\n",
    "        if executor.filled_amount_quote == 0:\n",
    "            fig.add_trace(go.Scatter(x=[entry_time, exit_time], y=[entry_price, entry_price], mode='lines', showlegend=False,\n",
    "                                     line=dict(color='grey', width=2, dash=\"dash\"), name=name), row=row, col=col)\n",
    "        else:\n",
    "            if executor.net_pnl_quote > Decimal(0):\n",
    "                fig.add_trace(go.Scatter(x=[entry_time, exit_time], y=[entry_price, exit_price], mode='lines', showlegend=False,\n",
    "                                         line=dict(color='green', width=2), name=name), row=row, col=col)\n",
    "            else:\n",
    "                fig.add_trace(go.Scatter(x=[entry_time, exit_time], y=[entry_price, exit_price], mode='lines', showlegend=False,\n",
    "                                         line=dict(color='red', width=2), name=name), row=row, col=col)\n",
    "\n",
    "    return fig\n",
    "\n",
    "\n",
    "def get_pnl_trace(executors):\n",
    "    pnl = [e.net_pnl_quote for e in executors]\n",
    "    cum_pnl = np.cumsum(pnl)\n",
    "    return go.Scatter(\n",
    "        x=pd.to_datetime([e.close_timestamp for e in executors], unit=\"s\"),\n",
    "        y=cum_pnl,\n",
    "        mode='lines',\n",
    "        line=dict(color='gold', width=2),\n",
    "        name='Cumulative PNL'\n",
    "    )\n",
    "\n",
    "\n",
    "def get_results_summary(results):\n",
    "    net_pnl_quote = results[\"net_pnl_quote\"]\n",
    "    net_pnl_pct = results[\"net_pnl\"]\n",
    "    max_drawdown = results[\"max_drawdown_usd\"]\n",
    "    max_drawdown_pct = results[\"max_drawdown_pct\"]\n",
    "    total_volume = results[\"total_volume\"]\n",
    "    sharpe_ratio = results[\"sharpe_ratio\"]\n",
    "    profit_factor = results[\"profit_factor\"]\n",
    "    total_executors = results[\"total_executors\"]\n",
    "    accuracy_long = results[\"accuracy_long\"]\n",
    "    accuracy_short = results[\"accuracy_short\"]\n",
    "    take_profit = results[\"close_types\"].get(\"TAKE_PROFIT\", 0)\n",
    "    stop_loss = results[\"close_types\"].get(\"STOP_LOSS\", 0)\n",
    "    time_limit = results[\"close_types\"].get(\"TIME_LIMIT\", 0)\n",
    "    trailing_stop = results[\"close_types\"].get(\"TRAILING_STOP\", 0)\n",
    "    early_stop = results[\"close_types\"].get(\"EARLY_STOP\", 0)\n",
    "    return f\"\"\"\n",
    "Net PNL: ${net_pnl_quote:.2f} ({net_pnl_pct:.2f}%) | Max Drawdown: ${max_drawdown:.2f} ({max_drawdown_pct:.2f}%)\n",
    "Total Volume ($): {total_volume:.2f} | Sharpe Ratio: {sharpe_ratio:.2f} | Profit Factor: {profit_factor:.2f}\n",
    "Total Executors: {total_executors} | Accuracy Long: {accuracy_long:.2f} | Accuracy Short: {accuracy_short:.2f}\n",
    "Close Types: Take Profit: {take_profit} | Stop Loss: {stop_loss} | Time Limit: {time_limit} |\n",
    "             Trailing Stop: {trailing_stop} | Early Stop: {early_stop}\n",
    "\"\"\""
   ],
   "metadata": {
    "collapsed": false
   }
  },
  {
   "cell_type": "code",
   "execution_count": null,
   "outputs": [],
   "source": [
    "fig = add_executors_trace(controller_executors_info, fig)\n",
    "fig.add_trace(get_pnl_trace(controller_executors_info), row=2, col=1)\n",
    "bb_length = controller_config[\"bb_length\"]\n",
    "bb_std = controller_config[\"bb_std\"]\n",
    "# Add Bollinger Bands\n",
    "bb_upper = f'BBU_{bb_length}_{bb_std}'\n",
    "bb_lower = f'BBL_{bb_length}_{bb_std}'\n",
    "resampled_features = backtesting_result.processed_data"
   ],
   "metadata": {
    "collapsed": false
   }
  },
  {
   "cell_type": "code",
   "execution_count": null,
   "outputs": [],
   "source": [
    "\n",
    "fig.add_trace(go.Scatter(x=resampled_features.index, y=resampled_features[bb_upper],\n",
    "                         line=dict(color='rgba(173, 204, 255, 0.7)'),\n",
    "                         name='BB Upper'), row=1, col=1)\n",
    "fig.add_trace(go.Scatter(x=resampled_features.index, y=resampled_features[bb_lower],\n",
    "                         line=dict(color='rgba(173, 204, 255, 0.7)'),\n",
    "                         fill='tonexty', fillcolor='rgba(173, 204, 255, 0.1)',\n",
    "                         name='BB Lower'), row=1, col=1)\n",
    "results_live_controller = backtesting_engine._dt_bt.summarize_results(executors_info=controller_executors_info,\n",
    "                                                                      total_amount_quote=controller_config[\n",
    "                                                                          \"total_amount_quote\"])\n",
    "\n",
    "print(\"Controller ID\", controller_id)\n",
    "print(\"Backtesting Results\", backtesting_result.get_results_summary())\n",
    "print(\"Live Bot Results\", get_results_summary(results_live_controller))\n",
    "fig.show()"
   ],
   "metadata": {
    "collapsed": false
   }
  },
  {
   "cell_type": "code",
   "execution_count": null,
   "outputs": [],
   "source": [
    "controllers"
   ],
   "metadata": {
    "collapsed": false
   }
  }
 ],
 "metadata": {
  "kernelspec": {
   "display_name": "Python 3",
   "language": "python",
   "name": "python3"
  },
  "language_info": {
   "codemirror_mode": {
    "name": "ipython",
    "version": 2
   },
   "file_extension": ".py",
   "mimetype": "text/x-python",
   "name": "python",
   "nbconvert_exporter": "python",
   "pygments_lexer": "ipython2",
   "version": "2.7.6"
  }
 },
 "nbformat": 4,
 "nbformat_minor": 5
}
