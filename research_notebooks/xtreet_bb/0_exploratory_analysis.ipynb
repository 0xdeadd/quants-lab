{
 "cells": [
  {
   "cell_type": "code",
   "execution_count": null,
   "metadata": {
    "collapsed": false,
    "jupyter": {
     "outputs_hidden": false
    }
   },
   "outputs": [],
   "source": [
    "# This is necessary to recognize the modules\n",
    "import os\n",
    "import sys\n",
    "from decimal import Decimal\n",
    "\n",
    "import pandas as pd\n",
    "\n",
    "root_path = os.path.abspath(os.path.join(os.getcwd(), '../..'))\n",
    "sys.path.append(root_path)"
   ]
  },
  {
   "cell_type": "code",
   "execution_count": null,
   "metadata": {
    "collapsed": false,
    "jupyter": {
     "outputs_hidden": false
    }
   },
   "outputs": [],
   "source": [
    "from core.data_sources.clob import CLOBDataSource\n",
    "\n",
    "# Get trading rules and candles\n",
    "clob = CLOBDataSource()"
   ]
  },
  {
   "cell_type": "code",
   "execution_count": null,
   "metadata": {
    "collapsed": false,
    "jupyter": {
     "outputs_hidden": false
    }
   },
   "outputs": [],
   "source": [
    "# Constants\n",
    "CONNECTOR_NAME = \"binance_perpetual\"\n",
    "INTERVAL = \"1m\"\n",
    "DAYS = 20\n",
    "\n",
    "# Features configuration\n",
    "VOLATILITY_WINDOW = 100\n",
    "BOLLINGER_LENGTH = 200\n",
    "BOLLINGER_STD = 2.0"
   ]
  },
  {
   "cell_type": "markdown",
   "metadata": {
    "collapsed": false,
    "jupyter": {
     "outputs_hidden": false
    }
   },
   "source": [
    "# Download data\n",
    "- Get trading rules\n",
    "- Get candles for the last x days"
   ]
  },
  {
   "cell_type": "code",
   "execution_count": null,
   "metadata": {
    "collapsed": false,
    "jupyter": {
     "outputs_hidden": false
    }
   },
   "outputs": [],
   "source": [
    "import asyncio\n",
    "\n",
    "trading_rules = await clob.get_trading_rules(CONNECTOR_NAME)\n",
    "trading_pairs = trading_rules.filter_by_quote_asset(\"USDT\")\\\n",
    "    .filter_by_min_notional_size(Decimal(\"5\"))\\\n",
    "    .get_all_trading_pairs()"
   ]
  },
  {
   "cell_type": "code",
   "execution_count": null,
   "metadata": {
    "collapsed": false,
    "jupyter": {
     "outputs_hidden": false
    }
   },
   "outputs": [],
   "source": [
    "tasks = [clob.get_candles_last_days(\n",
    "    connector_name=CONNECTOR_NAME,\n",
    "    trading_pair=trading_pair,\n",
    "    interval=INTERVAL,\n",
    "    days=DAYS,\n",
    ") for trading_pair in trading_pairs[:5]]\n",
    "candles = await asyncio.gather(*tasks)\n",
    "candles = {trading_pair: candle for trading_pair, candle in zip(trading_pairs, candles)}"
   ]
  },
  {
   "cell_type": "code",
   "execution_count": null,
   "metadata": {},
   "outputs": [],
   "source": [
    "clob.dump_candles_cache(os.path.join(root_path, \"data\"))"
   ]
  },
  {
   "cell_type": "code",
   "execution_count": null,
   "outputs": [],
   "source": [
    "clob.candles_cache.keys()"
   ],
   "metadata": {
    "collapsed": false
   }
  },
  {
   "cell_type": "code",
   "execution_count": null,
   "outputs": [],
   "source": [
    "os.listdir(os.path.join(os.path.join(root_path, \"data\"), \"candles\"))"
   ],
   "metadata": {
    "collapsed": false
   }
  },
  {
   "cell_type": "code",
   "execution_count": null,
   "outputs": [],
   "source": [
    "clob.load_candles_cache(os.path.join(root_path, \"data\"))"
   ],
   "metadata": {
    "collapsed": false
   }
  },
  {
   "cell_type": "code",
   "execution_count": null,
   "metadata": {
    "collapsed": false,
    "jupyter": {
     "outputs_hidden": false
    }
   },
   "outputs": [],
   "source": [
    "candles.keys()"
   ]
  },
  {
   "cell_type": "code",
   "execution_count": null,
   "metadata": {
    "collapsed": false,
    "jupyter": {
     "outputs_hidden": false
    }
   },
   "outputs": [],
   "source": [
    "trading_pair = list(candles.keys())[0]\n",
    "candles[trading_pair].plot(type=\"candles\")"
   ]
  },
  {
   "cell_type": "code",
   "execution_count": null,
   "metadata": {
    "collapsed": false,
    "jupyter": {
     "outputs_hidden": false
    }
   },
   "outputs": [],
   "source": [
    "candles[trading_pair].plot(type=\"returns\")"
   ]
  },
  {
   "cell_type": "code",
   "execution_count": null,
   "metadata": {
    "collapsed": false,
    "jupyter": {
     "outputs_hidden": false
    }
   },
   "outputs": [],
   "source": [
    "import pandas_ta as ta\n",
    "\n",
    "def apply_signal(x):\n",
    "    if x >= 1:\n",
    "        return -1\n",
    "    elif x <= 0:\n",
    "        return 1\n",
    "    else:\n",
    "        return 0\n"
   ]
  },
  {
   "cell_type": "code",
   "execution_count": null,
   "metadata": {
    "collapsed": false,
    "jupyter": {
     "outputs_hidden": false
    },
    "scrolled": true
   },
   "outputs": [],
   "source": [
    "import pandas as pd\n",
    "\n",
    "# Assuming df has already been created and processed as per your initial steps\n",
    "df = candles[trading_pair].data\n",
    "df.ta.bbands(length=BOLLINGER_LENGTH, std=BOLLINGER_STD, append=True)\n",
    "df[\"signal\"] = df[f\"BBP_{BOLLINGER_LENGTH}_{BOLLINGER_STD}\"].apply(apply_signal)\n",
    "df[\"out_of_bounds\"] = df[\"signal\"].diff().fillna(0)\n",
    "df.loc[df[\"signal\"] == 0, \"out_of_bounds\"] = 0\n",
    "\n",
    "# Create df_filtered for values where out_of_bounds is not 0\n",
    "df_filtered = df[df[\"out_of_bounds\"] != 0].copy()\n",
    "df[\"score\"] = 0\n",
    "\n",
    "score = (df.loc[df[\"out_of_bounds\"] != 0, \"out_of_bounds\"].shift() != df.loc[df[\"out_of_bounds\"] != 0, \"out_of_bounds\"]).cumsum()\n",
    "\n",
    "n_out_of_bounds = len(df[df[\"out_of_bounds\"] != 0])\n",
    "\n",
    "df.loc[df_filtered.index, \"score\"] = score\n",
    "df_filtered = df[df[\"score\"] != 0].copy()\n",
    "df_filtered[\"changes\"] = df_filtered[\"score\"].shift() != df_filtered[\"score\"]\n",
    "timestamps_change = df_filtered[df_filtered[\"changes\"] != 0].index\n",
    "\n",
    "prices = []\n",
    "\n",
    "for i, timestamp in enumerate(timestamps_change):\n",
    "    if i == len(timestamps_change) - 1:\n",
    "        break\n",
    "    next_timestamp = timestamps_change[i + 1]\n",
    "    df_temp = df[timestamp:next_timestamp].copy()\n",
    "    max_price = df_temp[\"high\"].max()\n",
    "    min_price = df_temp[\"low\"].min()\n",
    "    start_price = df_temp[\"close\"].iloc[0]\n",
    "    end_price = df_temp[\"close\"].iloc[-1]\n",
    "    signal = df_temp[\"signal\"].iloc[0]\n",
    "    if signal == 1:\n",
    "        reversion_price = min(end_price, max_price)\n",
    "        worst_deviation = abs(min_price - start_price) / start_price\n",
    "        total_reversion = (reversion_price - start_price) / start_price\n",
    "    elif signal == -1:\n",
    "        reversion_price = max(end_price, min_price)\n",
    "        worst_deviation = abs(max_price - start_price)  / start_price\n",
    "        total_reversion = -1 * (reversion_price - start_price) / start_price\n",
    "    else:\n",
    "        worst_deviation = 0\n",
    "        total_reversion = 0\n",
    "\n",
    "    prices.append({\n",
    "        \"start_timestamp\": timestamp,\n",
    "        \"end_timestamp\": next_timestamp,\n",
    "        \"start_price\": start_price,\n",
    "        \"max_price\": max_price,\n",
    "        \"min_price\": min_price,\n",
    "        \"end_price\": end_price,\n",
    "        \"signal\": signal,\n",
    "        \"worst_deviation\": worst_deviation,\n",
    "        \"total_reversion\": total_reversion,\n",
    "    })\n",
    "prices"
   ]
  },
  {
   "cell_type": "code",
   "execution_count": null,
   "metadata": {},
   "outputs": [],
   "source": [
    "import plotly.graph_objects as go\n",
    "\n",
    "\n",
    "candles_figure = candles[trading_pair].fig()\n",
    "candles_figure.add_trace(go.Scatter(x=df.index,\n",
    "                                    y=df[f\"BBU_{BOLLINGER_LENGTH}_{BOLLINGER_STD}\"])\n",
    "                        )\n",
    "candles_figure.add_trace(go.Scatter(x=df.index,\n",
    "                                    y=df[f\"BBM_{BOLLINGER_LENGTH}_{BOLLINGER_STD}\"])\n",
    "                        )\n",
    "candles_figure.add_trace(go.Scatter(x=df.index,\n",
    "                                    y=df[f\"BBL_{BOLLINGER_LENGTH}_{BOLLINGER_STD}\"])\n",
    "                        )\n",
    "for price in prices:\n",
    "    # Add line from start to end price\n",
    "    candles_figure.add_trace(go.Scatter(\n",
    "        x=[price['start_timestamp'], price['end_timestamp']],\n",
    "        y=[price['start_price'], price['end_price']],\n",
    "        mode='lines+markers',\n",
    "        name=f\"Signal {price['signal']}\",\n",
    "        line=dict(color='blue' if price['signal'] == 1 else 'red')\n",
    "    ))\n",
    "candles_figure.show()"
   ]
  },
  {
   "cell_type": "code",
   "execution_count": null,
   "metadata": {
    "collapsed": false,
    "jupyter": {
     "outputs_hidden": false
    }
   },
   "outputs": [],
   "source": [
    "worst_deviations = [price[\"worst_deviation\"] for price in prices]\n",
    "fig = go.Figure(go.Histogram(x=worst_deviations))\n",
    "fig.show()"
   ]
  },
  {
   "cell_type": "code",
   "execution_count": null,
   "metadata": {},
   "outputs": [],
   "source": [
    "total_reversion = [price[\"total_reversion\"] for price in prices]\n",
    "fig = go.Figure(go.Histogram(x=total_reversion))\n",
    "fig.show()"
   ]
  },
  {
   "cell_type": "code",
   "execution_count": null,
   "metadata": {},
   "outputs": [],
   "source": [
    "pd.Series(total_reversion).describe()"
   ]
  },
  {
   "cell_type": "code",
   "execution_count": null,
   "metadata": {},
   "outputs": [],
   "source": [
    "fake_reversions = [r for r in total_reversion if r < 0]\n",
    "right_reversions = [r for r in total_reversion if r > 0]\n",
    "\n",
    "# Metrics\n",
    "worst_q0 = pd.Series(worst_deviations).quantile(0)\n",
    "worst_q1 = pd.Series(worst_deviations).quantile(0.25)\n",
    "worst_q2 = pd.Series(worst_deviations).quantile(0.5)\n",
    "worst_q3 = pd.Series(worst_deviations).quantile(0.75)\n",
    "worst_q4 = pd.Series(worst_deviations).quantile(1)\n",
    "\n",
    "right_rev_q0 = pd.Series(right_reversions).quantile(0)\n",
    "right_rev_q1 = pd.Series(right_reversions).quantile(0.25)\n",
    "right_rev_q2 = pd.Series(right_reversions).quantile(0.5)\n",
    "right_rev_q3 = pd.Series(right_reversions).quantile(0.75)\n",
    "right_rev_q4 = pd.Series(right_reversions).quantile(1)\n",
    "\n",
    "n_right_reversions = len(right_reversions)\n",
    "n_fake_reversions = len(fake_reversions)\n",
    "street_cross = len(prices)\n",
    "\n",
    "\n",
    "print(f\"Fake reversions: {n_fake_reversions/len(total_reversion)} | Right reversions: {n_right_reversions/len(total_reversion)}\")"
   ]
  },
  {
   "cell_type": "code",
   "execution_count": null,
   "metadata": {},
   "outputs": [],
   "source": [
    "fig = go.Figure(go.Box(x=[r for r in total_reversion if r > 0]))\n",
    "fig.show()"
   ]
  },
  {
   "cell_type": "code",
   "execution_count": null,
   "metadata": {},
   "outputs": [],
   "source": [
    "fig = go.Figure(go.Box(x=worst_deviations))\n",
    "fig.show()"
   ]
  },
  {
   "cell_type": "code",
   "execution_count": null,
   "metadata": {
    "collapsed": false,
    "jupyter": {
     "outputs_hidden": false
    }
   },
   "outputs": [],
   "source": [
    "n_out_of_bounds"
   ]
  },
  {
   "cell_type": "code",
   "execution_count": null,
   "metadata": {
    "collapsed": false,
    "jupyter": {
     "outputs_hidden": false
    }
   },
   "outputs": [],
   "source": [
    "df[\"timestamp\"].min()"
   ]
  },
  {
   "cell_type": "code",
   "execution_count": null,
   "metadata": {
    "collapsed": false,
    "jupyter": {
     "outputs_hidden": false
    }
   },
   "outputs": [],
   "source": [
    "df[\"timestamp\"].max()"
   ]
  },
  {
   "cell_type": "code",
   "execution_count": null,
   "metadata": {
    "collapsed": false,
    "jupyter": {
     "outputs_hidden": false
    }
   },
   "outputs": [],
   "source": [
    "candles_figure = candles[\"NEAR-USDT\"].plot(type=\"candles\")"
   ]
  },
  {
   "cell_type": "code",
   "execution_count": null,
   "metadata": {
    "collapsed": false,
    "jupyter": {
     "outputs_hidden": false
    }
   },
   "outputs": [],
   "source": [
    "from features.candles.trend import TrendConfig\n",
    "from features.candles.volatility import VolatilityConfig\n",
    "from features.candles.volume import VolumeConfig\n",
    "from research_notebooks.dneitor.utils import generate_report\n",
    "\n",
    "report = generate_report(\n",
    "    candles=candles,\n",
    "    volatility_config=VolatilityConfig(window=VOLATILITY_WINDOW),\n",
    "    trend_config=TrendConfig(short_window=TREND_SHORT_WINDOW, long_window=TREND_LONG_WINDOW),\n",
    "    volume_config=VolumeConfig(short_window=VOLUME_SHORT_WINDOW, long_window=VOLUME_LONG_WINDOW))\n",
    "report"
   ]
  },
  {
   "cell_type": "code",
   "execution_count": null,
   "metadata": {
    "collapsed": false,
    "jupyter": {
     "outputs_hidden": false
    }
   },
   "outputs": [],
   "source": [
    "from research_notebooks.dneitor.utils import filter_top_markets\n",
    "\n",
    "TOP_X_MARKETS = 10  # Number of top markets to select\n",
    "# Assuming the `top_markets` DataFrame has been generated as shown in the previous steps\n",
    "# Constants\n",
    "TOTAL_AMOUNT = 3000  # General total amount for all markets\n",
    "MIN_AMOUNT_PER_MARKET = 200  # Minimum amount per market\n",
    "ACTIVATION_BOUNDS = 0.002  # Input activation bounds\n",
    "MAX_OPEN_ORDERS = 1  # Input max open orders for each market\n",
    "\n",
    "# Example values\n",
    "TAKE_PROFIT_MULTIPLIER = 0.3  # Multiplier for take profit based on NATR\n",
    "AMOUNTS_QUOTE_PCT = [0.1, 0.1, 0.1, 0.1, 0.2, 0.2]  # Weights for each cluster\n",
    "top_markets = filter_top_markets(report_df=report, top_x=TOP_X_MARKETS, min_volume_usd=2000, min_atr=0.008, trend_threshold=-0.5)\n",
    "top_markets"
   ]
  },
  {
   "cell_type": "code",
   "execution_count": null,
   "metadata": {
    "collapsed": false,
    "jupyter": {
     "outputs_hidden": false
    }
   },
   "outputs": [],
   "source": [
    "from research_notebooks.dneitor.utils import generate_config, dump_dict_to_yaml\n",
    "\n",
    "strategy_config = generate_config(\n",
    "    id=\"dneitor-binance_0.4\",\n",
    "    connector_name=CONNECTOR_NAME,\n",
    "    candles=candles,\n",
    "    top_markets=top_markets,\n",
    "    total_amount=TOTAL_AMOUNT,\n",
    "    amounts_quote_pct=AMOUNTS_QUOTE_PCT,\n",
    "    activation_bounds=ACTIVATION_BOUNDS,\n",
    "    take_profit_multiplier=TAKE_PROFIT_MULTIPLIER,\n",
    "    max_open_orders=MAX_OPEN_ORDERS,\n",
    "    min_amount_per_market=MIN_AMOUNT_PER_MARKET,\n",
    ")\n",
    "dump_dict_to_yaml(\"configs/\", strategy_config)"
   ]
  },
  {
   "cell_type": "code",
   "execution_count": null,
   "metadata": {
    "collapsed": false,
    "jupyter": {
     "outputs_hidden": false
    }
   },
   "outputs": [],
   "source": []
  }
 ],
 "metadata": {
  "kernelspec": {
   "display_name": "Python 3 (ipykernel)",
   "language": "python",
   "name": "python3"
  },
  "language_info": {
   "codemirror_mode": {
    "name": "ipython",
    "version": 3
   },
   "file_extension": ".py",
   "mimetype": "text/x-python",
   "name": "python",
   "nbconvert_exporter": "python",
   "pygments_lexer": "ipython3",
   "version": "3.10.14"
  }
 },
 "nbformat": 4,
 "nbformat_minor": 4
}
