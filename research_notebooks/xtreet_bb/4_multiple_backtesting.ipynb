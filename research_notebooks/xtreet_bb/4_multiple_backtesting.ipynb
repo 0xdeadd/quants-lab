{
 "cells": [
  {
   "cell_type": "code",
   "execution_count": null,
   "outputs": [],
   "source": [
    "# This is necessary to recognize the modules\n",
    "import os\n",
    "import sys\n",
    "import warnings\n",
    "import pickle\n",
    "\n",
    "warnings.filterwarnings(\"ignore\")\n",
    "root_path = os.path.abspath(os.path.join(os.getcwd(), '../..'))\n",
    "sys.path.append(root_path)\n"
   ],
   "metadata": {
    "collapsed": false
   }
  },
  {
   "cell_type": "code",
   "execution_count": null,
   "outputs": [],
   "source": [
    "from core.backtesting import BacktestingEngine\n",
    "import os\n",
    "import datetime\n",
    "\n",
    "EXPERIMENT_NAME = \"la_maquinita\"\n",
    "TRADE_COST = 0.0006\n",
    "\n",
    "start_time = datetime.datetime(2024, 8, 26).timestamp()\n",
    "end_time = datetime.datetime(2024, 8, 31).timestamp()\n",
    "\n",
    "controllers_conf_dir_path = os.path.join(root_path, \"research_notebooks\", \"xtreet_bb\", \"configs\")\n",
    "config_files = os.listdir(controllers_conf_dir_path)\n",
    "\n",
    "backtesting_engine = BacktestingEngine(root_path=root_path, load_cached_data=False)\n",
    "bt_results = []\n",
    "\n",
    "for i, config_file in enumerate(config_files):\n",
    "    print(f\"Experiment {i}/{len(config_files)}: {config_file}\")\n",
    "    try:\n",
    "        backtesting_results = await backtesting_engine.backtest_controller_from_yml(\n",
    "            config_file=config_file,\n",
    "            controllers_conf_dir_path=controllers_conf_dir_path,\n",
    "            trade_cost=TRADE_COST,\n",
    "            start=int(start_time), end=int(end_time), backtesting_resolution=\"1m\")\n",
    "        print(backtesting_results.get_results_summary())\n",
    "        bt_results.append(backtesting_results)\n",
    "    except Exception as e:\n",
    "        print(f\"Error with {config_file}: {e}\")\n",
    "\n",
    "\n",
    "path = os.path.join(root_path, \"research_notebooks\", \"xtreet_bb\", \"backtesting_results_2.pickle\")\n",
    "with open(f\"bt_results_{EXPERIMENT_NAME}\", \"wb\") as f:\n",
    "    pickle.dump(bt_results, f)"
   ],
   "metadata": {
    "collapsed": false
   }
  }
 ],
 "metadata": {
  "kernelspec": {
   "display_name": "quants-lab",
   "language": "python",
   "name": "python3"
  },
  "language_info": {
   "codemirror_mode": {
    "name": "ipython",
    "version": 3
   },
   "file_extension": ".py",
   "mimetype": "text/x-python",
   "name": "python",
   "nbconvert_exporter": "python",
   "pygments_lexer": "ipython3",
   "version": "3.10.14"
  }
 },
 "nbformat": 4,
 "nbformat_minor": 2
}
