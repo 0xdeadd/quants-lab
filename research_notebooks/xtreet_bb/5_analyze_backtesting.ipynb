{
 "cells": [
  {
   "cell_type": "code",
   "execution_count": null,
   "metadata": {
    "collapsed": true
   },
   "outputs": [],
   "source": [
    "# This is necessary to recognize the modules\n",
    "import os\n",
    "import sys\n",
    "import plotly.graph_objects as go\n",
    "\n",
    "\n",
    "root_path = os.path.abspath(os.path.join(os.getcwd(), '../..'))\n",
    "sys.path.append(root_path)\n"
   ]
  },
  {
   "cell_type": "code",
   "execution_count": null,
   "outputs": [],
   "source": [
    "import pickle\n",
    "\n",
    "import pandas as pd\n",
    "path = os.path.join(root_path, \"research_notebooks\", \"xtreet_bb\", \"backtesting_results_la_maquinita.pickle\")\n",
    "\n",
    "bt_results = pickle.load(open(path, 'rb'))"
   ],
   "metadata": {
    "collapsed": false
   }
  },
  {
   "cell_type": "code",
   "execution_count": null,
   "outputs": [],
   "source": [
    "import pandas as pd\n",
    "\n",
    "results_df = pd.DataFrame([bt_result.results for bt_result in bt_results])\n",
    "results_df[\"config\"] = [bt_result.controller_config.dict() for bt_result in bt_results]\n",
    "results_df[\"trading_pair\"] = results_df[\"config\"].apply(lambda x: x[\"trading_pair\"])\n",
    "results_df[\"experiment_id\"] = results_df.index"
   ],
   "metadata": {
    "collapsed": false
   }
  },
  {
   "cell_type": "code",
   "execution_count": null,
   "outputs": [],
   "source": [
    "import plotly.express as px\n",
    "\n",
    "# Create a new column with custom hover text\n",
    "results_df['custom_hover_text'] = results_df.apply(lambda row: f\"\"\"\n",
    "Pair: {row['config']['trading_pair']}\n",
    "<br>Volume: {row['total_volume']}\n",
    "<br>PNL: {row['net_pnl_quote']}\n",
    "<br>Close types: {row['close_types']}\n",
    "\n",
    "Config:\n",
    "<br>Id: {row[\"experiment_id\"]}\n",
    "<br>BB Length: {row['config']['bb_length']}\n",
    "<br>BB Std: {row['config']['bb_std']}\n",
    "<br>Take profit: {row['config']['take_profit']}\n",
    "<br>Stop loss: {row['config']['stop_loss']}\n",
    "<br>Time limit: {row['config']['time_limit']}\n",
    "<br>DCA Spreads: {row['config']['dca_spreads']}\n",
    "<br>DCA Amounts: {row['config']['dca_amounts_pct']}\n",
    "\"\"\", axis=1)\n",
    "\n",
    "# Create the scatter plot with the custom hover text\n",
    "fig = px.scatter(\n",
    "    results_df[(results_df[\"net_pnl_quote\"] > 0) & (results_df[\"sharpe_ratio\"] > 0) & (results_df[\"total_volume\"] > 10000)],\n",
    "    x=\"total_volume\",\n",
    "    y=\"net_pnl_quote\",\n",
    "    size=\"sharpe_ratio\",\n",
    "    color=\"trading_pair\",  # Color by trading_pair\n",
    "    hover_data={\"custom_hover_text\": True},  # Show the custom hover text\n",
    "    color_discrete_sequence=px.colors.qualitative.Plotly,  # Optional: use a specific color sequence\n",
    "    title=\"Net PNL Quote vs. Total Volume by Trading Pair\"\n",
    ")\n",
    "\n",
    "# Show the figure\n",
    "fig.show()\n"
   ],
   "metadata": {
    "collapsed": false
   }
  },
  {
   "cell_type": "code",
   "execution_count": null,
   "outputs": [],
   "source": [
    "index = 378\n",
    "\n",
    "bt_result_index = bt_results[index]\n",
    "print(bt_result_index.controller_config.id)\n",
    "print(f\"DCA Distribution: {bt_result_index.controller_config.dca_amounts_pct} - {bt_result_index.controller_config.dca_spreads}\")\n",
    "print(bt_result_index.get_results_summary())\n",
    "fig = bt_result_index.get_backtesting_figure()\n",
    "bb_length = bt_result_index.controller_config.bb_length\n",
    "bb_std = bt_result_index.controller_config.bb_std\n",
    "# Add Bollinger Bands\n",
    "bb_upper = f'BBU_{bb_length}_{bb_std}'\n",
    "bb_lower = f'BBL_{bb_length}_{bb_std}'\n",
    "fig.add_trace(go.Scatter(x=bt_result_index.processed_data.index, y=bt_result_index.processed_data[bb_upper],\n",
    "                         line=dict(color='rgba(173, 204, 255, 0.7)'),\n",
    "                         name='BB Upper'), row=1, col=1)\n",
    "fig.add_trace(go.Scatter(x=bt_result_index.processed_data.index, y=bt_result_index.processed_data[bb_lower],\n",
    "                         line=dict(color='rgba(173, 204, 255, 0.7)'),\n",
    "                         fill='tonexty', fillcolor='rgba(173, 204, 255, 0.1)',\n",
    "                         name='BB Lower'), row=1, col=1)"
   ],
   "metadata": {
    "collapsed": false
   }
  },
  {
   "cell_type": "code",
   "execution_count": null,
   "outputs": [],
   "source": [
    "from dotenv import load_dotenv\n",
    "from services.backend_api_client import BackendAPIClient\n",
    "load_dotenv()\n",
    "\n",
    "servers = os.environ.get(\"SERVERS\").split(\",\")\n",
    "ts_server = servers[-1]\n",
    "\n",
    "client = BackendAPIClient(host=ts_server)"
   ],
   "metadata": {
    "collapsed": false
   }
  },
  {
   "cell_type": "code",
   "execution_count": null,
   "outputs": [],
   "source": [
    "best_configs_index = [61, 322, 277, 8, 117, 337, 240, 64]\n",
    "\n",
    "best_configs = results_df[results_df[\"experiment_id\"].isin(best_configs_index)][\"config\"].tolist()"
   ],
   "metadata": {
    "collapsed": false
   }
  },
  {
   "cell_type": "code",
   "execution_count": null,
   "outputs": [],
   "source": [
    "from enum import Enum\n",
    "\n",
    "for config in best_configs:\n",
    "    if \"position_mode\" in config:\n",
    "        config[\"position_mode\"] = config[\"position_mode\"].name if isinstance(config[\"position_mode\"], Enum) else config[\"position_mode\"]\n",
    "    if \"take_profit_order_type\" in config:\n",
    "        config[\"take_profit_order_type\"] = config[\"take_profit_order_type\"].name if isinstance(config[\"take_profit_order_type\"], Enum) else config[\"take_profit_order_type\"]\n",
    "    client.add_controller_config(controller_config=config)\n",
    "configs_id = [config[\"id\"] + \".yml\" for config in best_configs]\n",
    "configs_id"
   ],
   "metadata": {
    "collapsed": false
   }
  },
  {
   "cell_type": "code",
   "execution_count": null,
   "outputs": [],
   "source": [
    "client.deploy_script_with_controllers(\n",
    "    bot_name=\"la_maquinita\",\n",
    "    controller_configs=configs_id,\n",
    "    credentials=\"ts_binance\",\n",
    "    time_to_cash_out=200000,\n",
    "    max_global_drawdown=70,\n",
    "    max_controller_drawdown=25\n",
    ")"
   ],
   "metadata": {
    "collapsed": false
   }
  },
  {
   "cell_type": "code",
   "execution_count": null,
   "outputs": [],
   "source": [],
   "metadata": {
    "collapsed": false
   }
  }
 ],
 "metadata": {
  "kernelspec": {
   "display_name": "Python 3",
   "language": "python",
   "name": "python3"
  },
  "language_info": {
   "codemirror_mode": {
    "name": "ipython",
    "version": 2
   },
   "file_extension": ".py",
   "mimetype": "text/x-python",
   "name": "python",
   "nbconvert_exporter": "python",
   "pygments_lexer": "ipython2",
   "version": "2.7.6"
  }
 },
 "nbformat": 4,
 "nbformat_minor": 0
}
