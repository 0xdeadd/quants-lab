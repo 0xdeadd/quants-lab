{
 "cells": [
  {
   "cell_type": "code",
   "execution_count": 1,
   "metadata": {
    "collapsed": true
   },
   "outputs": [],
   "source": [
    "# This is necessary to recognize the modules\n",
    "import os\n",
    "import sys\n",
    "import plotly.graph_objects as go\n",
    "\n",
    "\n",
    "root_path = os.path.abspath(os.path.join(os.getcwd(), '../..'))\n",
    "sys.path.append(root_path)\n"
   ]
  },
  {
   "cell_type": "code",
   "execution_count": 6,
   "metadata": {
    "collapsed": false
   },
   "outputs": [],
   "source": [
    "import pickle\n",
    "\n",
    "import pandas as pd\n",
    "path = os.path.join(root_path, \"research_notebooks\", \"xtreet_bb\", \"bt_results_la_maquinita\")\n",
    "\n",
    "bt_results = pickle.load(open(path, 'rb'))"
   ]
  },
  {
   "cell_type": "code",
   "execution_count": 7,
   "metadata": {
    "collapsed": false
   },
   "outputs": [],
   "source": [
    "import pandas as pd\n",
    "\n",
    "results_df = pd.DataFrame([bt_result.results for bt_result in bt_results])\n",
    "results_df[\"config\"] = [bt_result.controller_config.dict() for bt_result in bt_results]\n",
    "results_df[\"trading_pair\"] = results_df[\"config\"].apply(lambda x: x[\"trading_pair\"])\n",
    "results_df[\"experiment_id\"] = results_df.index"
   ]
  },
  {
   "cell_type": "code",
   "execution_count": 8,
   "metadata": {
    "collapsed": false
   },
   "outputs": [
    {
     "data": {
      "application/vnd.plotly.v1+json": {
       "config": {
        "plotlyServerURL": "https://plot.ly"
       },
       "data": [
        {
         "customdata": [
          [
           "\nPair: LQTY-USDT\n<br>Volume: 18571.25057231201\n<br>PNL: 20.30261587588528\n<br>Close types: {'STOP_LOSS': 11, 'TIME_LIMIT': 1, 'TRAILING_STOP': 42}\n\nConfig:\n<br>Id: 5\n<br>BB Length: 100\n<br>BB Std: 1.8\n<br>Take profit: None\n<br>Stop loss: 0.010587338601764945\n<br>Time limit: 86400\n<br>DCA Spreads: [Decimal('-0.00001'), Decimal('0.010587338601764945')]\n<br>DCA Amounts: [Decimal('1'), Decimal('2.5745865402320125')]\n"
          ],
          [
           "\nPair: LQTY-USDT\n<br>Volume: 10278.99395955842\n<br>PNL: 4.408477203253104\n<br>Close types: {'STOP_LOSS': 7, 'TIME_LIMIT': 1, 'TRAILING_STOP': 26}\n\nConfig:\n<br>Id: 64\n<br>BB Length: 100\n<br>BB Std: 2.2\n<br>Take profit: None\n<br>Stop loss: 0.013866534604432323\n<br>Time limit: 86400\n<br>DCA Spreads: [Decimal('-0.00001'), Decimal('0.02899832890985951')]\n<br>DCA Amounts: [Decimal('1'), Decimal('1.6649146401153478')]\n"
          ],
          [
           "\nPair: LQTY-USDT\n<br>Volume: 22892.55047154982\n<br>PNL: 6.07819156465206\n<br>Close types: {'STOP_LOSS': 14, 'TIME_LIMIT': 1, 'TRAILING_STOP': 59}\n\nConfig:\n<br>Id: 183\n<br>BB Length: 50\n<br>BB Std: 1.8\n<br>Take profit: None\n<br>Stop loss: 0.009462759462759438\n<br>Time limit: 86400\n<br>DCA Spreads: [Decimal('-0.00001'), Decimal('0.018699027745972666')]\n<br>DCA Amounts: [Decimal('1'), Decimal('1.4840348198663333')]\n"
          ],
          [
           "\nPair: LQTY-USDT\n<br>Volume: 10995.574494140204\n<br>PNL: 3.022354847408842\n<br>Close types: {'STOP_LOSS': 10, 'TIME_LIMIT': 1, 'TRAILING_STOP': 47}\n\nConfig:\n<br>Id: 817\n<br>BB Length: 100\n<br>BB Std: 1.4\n<br>Take profit: None\n<br>Stop loss: 0.007815387366027632\n<br>Time limit: 86400\n<br>DCA Spreads: [Decimal('-0.00001'), Decimal('0.018366511563193407')]\n<br>DCA Amounts: [Decimal('1'), Decimal('5.415543642268781')]\n"
          ],
          [
           "\nPair: LQTY-USDT\n<br>Volume: 18959.293900645924\n<br>PNL: 4.996511416452049\n<br>Close types: {'STOP_LOSS': 17, 'TIME_LIMIT': 1, 'TRAILING_STOP': 29}\n\nConfig:\n<br>Id: 1568\n<br>BB Length: 50\n<br>BB Std: 2.2\n<br>Take profit: None\n<br>Stop loss: 0.010092202165864553\n<br>Time limit: 86400\n<br>DCA Spreads: [Decimal('-0.00001'), Decimal('0.010092202165864553')]\n<br>DCA Amounts: [Decimal('1'), Decimal('1.4531025368108064')]\n"
          ],
          [
           "\nPair: LQTY-USDT\n<br>Volume: 10501.507227209117\n<br>PNL: 2.481683773817576\n<br>Close types: {'STOP_LOSS': 10, 'TIME_LIMIT': 1, 'TRAILING_STOP': 31}\n\nConfig:\n<br>Id: 1970\n<br>BB Length: 100\n<br>BB Std: 1.4\n<br>Take profit: None\n<br>Stop loss: 0.007815387366027632\n<br>Time limit: 86400\n<br>DCA Spreads: [Decimal('-0.00001'), Decimal('0.018366511563193407')]\n<br>DCA Amounts: [Decimal('1'), Decimal('3.7673883237441093')]\n"
          ],
          [
           "\nPair: LQTY-USDT\n<br>Volume: 11039.879058214301\n<br>PNL: 4.9793661217887495\n<br>Close types: {'STOP_LOSS': 8, 'TIME_LIMIT': 1, 'TRAILING_STOP': 25}\n\nConfig:\n<br>Id: 2161\n<br>BB Length: 100\n<br>BB Std: 2.2\n<br>Take profit: None\n<br>Stop loss: 0.013866534604432323\n<br>Time limit: 86400\n<br>DCA Spreads: [Decimal('-0.00001'), Decimal('0.013866534604432323')]\n<br>DCA Amounts: [Decimal('1'), Decimal('2.4376082683548197')]\n"
          ],
          [
           "\nPair: LQTY-USDT\n<br>Volume: 16910.762870876606\n<br>PNL: 11.107940924621849\n<br>Close types: {'STOP_LOSS': 11, 'TIME_LIMIT': 1, 'TRAILING_STOP': 46}\n\nConfig:\n<br>Id: 2453\n<br>BB Length: 100\n<br>BB Std: 1.4\n<br>Take profit: None\n<br>Stop loss: 0.007815387366027632\n<br>Time limit: 86400\n<br>DCA Spreads: [Decimal('-0.00001'), Decimal('0.018366511563193407')]\n<br>DCA Amounts: [Decimal('1'), Decimal('1.7350061632832872')]\n"
          ],
          [
           "\nPair: LQTY-USDT\n<br>Volume: 11722.848123628242\n<br>PNL: 13.177484333532638\n<br>Close types: {'STOP_LOSS': 9, 'TIME_LIMIT': 1, 'TRAILING_STOP': 21}\n\nConfig:\n<br>Id: 2566\n<br>BB Length: 200\n<br>BB Std: 1.4\n<br>Take profit: None\n<br>Stop loss: 0.012621427455880102\n<br>Time limit: 86400\n<br>DCA Spreads: [Decimal('-0.00001'), Decimal('0.012621427455880102')]\n<br>DCA Amounts: [Decimal('1'), Decimal('1.7531017412958323')]\n"
          ],
          [
           "\nPair: LQTY-USDT\n<br>Volume: 10753.471012607051\n<br>PNL: 8.620105763371194\n<br>Close types: {'STOP_LOSS': 8, 'TIME_LIMIT': 1, 'TRAILING_STOP': 15}\n\nConfig:\n<br>Id: 2571\n<br>BB Length: 100\n<br>BB Std: 2.2\n<br>Take profit: None\n<br>Stop loss: 0.013866534604432323\n<br>Time limit: 86400\n<br>DCA Spreads: [Decimal('-0.00001'), Decimal('0.013866534604432323')]\n<br>DCA Amounts: [Decimal('1'), Decimal('1.026187908795582')]\n"
          ]
         ],
         "hovertemplate": "trading_pair=LQTY-USDT<br>total_volume=%{x}<br>net_pnl_quote=%{y}<br>sharpe_ratio=%{marker.size}<br>custom_hover_text=%{customdata[0]}<extra></extra>",
         "legendgroup": "LQTY-USDT",
         "marker": {
          "color": "#636EFA",
          "size": [
           1.3349055582725207,
           0.3281903470816116,
           0.015233338792138928,
           0.6822702527325277,
           0.5737626103240456,
           0.42477200252808534,
           0.22401083292836027,
           0.47110963777440246,
           0.26333959471514706,
           0.6212755281147796
          ],
          "sizemode": "area",
          "sizeref": 0.009168875998020496,
          "symbol": "circle"
         },
         "mode": "markers",
         "name": "LQTY-USDT",
         "orientation": "v",
         "showlegend": true,
         "type": "scatter",
         "x": [
          18571.25057231201,
          10278.99395955842,
          22892.55047154982,
          10995.574494140204,
          18959.293900645924,
          10501.507227209117,
          11039.879058214301,
          16910.762870876606,
          11722.848123628242,
          10753.471012607051
         ],
         "xaxis": "x",
         "y": [
          20.30261587588528,
          4.408477203253104,
          6.07819156465206,
          3.022354847408842,
          4.996511416452049,
          2.481683773817576,
          4.9793661217887495,
          11.107940924621849,
          13.177484333532638,
          8.620105763371194
         ],
         "yaxis": "y"
        },
        {
         "customdata": [
          [
           "\nPair: POPCAT-USDT\n<br>Volume: 10429.261609287529\n<br>PNL: 4.563939097302476\n<br>Close types: {'STOP_LOSS': 9, 'TIME_LIMIT': 1, 'TRAILING_STOP': 46}\n\nConfig:\n<br>Id: 8\n<br>BB Length: 100\n<br>BB Std: 1.4\n<br>Take profit: None\n<br>Stop loss: 0.013786703554483843\n<br>Time limit: 86400\n<br>DCA Spreads: [Decimal('-0.00001'), Decimal('0.03512184527354856')]\n<br>DCA Amounts: [Decimal('1'), Decimal('8.812640898442668')]\n"
          ],
          [
           "\nPair: POPCAT-USDT\n<br>Volume: 10160.290030843522\n<br>PNL: 19.1699488918028\n<br>Close types: {'STOP_LOSS': 8, 'TIME_LIMIT': 1, 'TRAILING_STOP': 37}\n\nConfig:\n<br>Id: 30\n<br>BB Length: 100\n<br>BB Std: 1.5\n<br>Take profit: None\n<br>Stop loss: 0.014062771109032902\n<br>Time limit: 86400\n<br>DCA Spreads: [Decimal('-0.00001'), Decimal('0.036065715559473494')]\n<br>DCA Amounts: [Decimal('1'), Decimal('7.388799571772909')]\n"
          ],
          [
           "\nPair: POPCAT-USDT\n<br>Volume: 18218.56167003229\n<br>PNL: 18.205790437737893\n<br>Close types: {'STOP_LOSS': 15, 'TIME_LIMIT': 1, 'TRAILING_STOP': 29}\n\nConfig:\n<br>Id: 106\n<br>BB Length: 50\n<br>BB Std: 2.5\n<br>Take profit: None\n<br>Stop loss: 0.017975605125613865\n<br>Time limit: 86400\n<br>DCA Spreads: [Decimal('-0.00001'), Decimal('0.017975605125613865')]\n<br>DCA Amounts: [Decimal('1'), Decimal('1.4121333510747531')]\n"
          ],
          [
           "\nPair: POPCAT-USDT\n<br>Volume: 55707.01077740026\n<br>PNL: 11.420393378673408\n<br>Close types: {'STOP_LOSS': 48, 'TIME_LIMIT': 1, 'TRAILING_STOP': 81}\n\nConfig:\n<br>Id: 148\n<br>BB Length: 20\n<br>BB Std: 2.0\n<br>Take profit: None\n<br>Stop loss: 0.01022300212336584\n<br>Time limit: 86400\n<br>DCA Spreads: [Decimal('-0.00001'), Decimal('0.01022300212336584')]\n<br>DCA Amounts: [Decimal('1'), Decimal('1.334349365043547')]\n"
          ],
          [
           "\nPair: POPCAT-USDT\n<br>Volume: 10846.06526351467\n<br>PNL: 5.09520720643772\n<br>Close types: {'STOP_LOSS': 9, 'TIME_LIMIT': 1, 'TRAILING_STOP': 46}\n\nConfig:\n<br>Id: 226\n<br>BB Length: 100\n<br>BB Std: 1.5\n<br>Take profit: None\n<br>Stop loss: 0.014062771109032902\n<br>Time limit: 86400\n<br>DCA Spreads: [Decimal('-0.00001'), Decimal('0.036065715559473494')]\n<br>DCA Amounts: [Decimal('1'), Decimal('7.469943276996943')]\n"
          ],
          [
           "\nPair: POPCAT-USDT\n<br>Volume: 15287.985758752082\n<br>PNL: 6.4662435239725875\n<br>Close types: {'STOP_LOSS': 10, 'TIME_LIMIT': 2, 'TRAILING_STOP': 48}\n\nConfig:\n<br>Id: 1005\n<br>BB Length: 50\n<br>BB Std: 2.2\n<br>Take profit: None\n<br>Stop loss: 0.01640411404764997\n<br>Time limit: 86400\n<br>DCA Spreads: [Decimal('-0.00001'), Decimal('0.03834226106568932')]\n<br>DCA Amounts: [Decimal('1'), Decimal('2.2299791127189184')]\n"
          ],
          [
           "\nPair: POPCAT-USDT\n<br>Volume: 46754.64050460654\n<br>PNL: 5.685610225114459\n<br>Close types: {'STOP_LOSS': 40, 'TIME_LIMIT': 1, 'TRAILING_STOP': 159}\n\nConfig:\n<br>Id: 1261\n<br>BB Length: 20\n<br>BB Std: 1.5\n<br>Take profit: None\n<br>Stop loss: 0.008893280632411184\n<br>Time limit: 86400\n<br>DCA Spreads: [Decimal('-0.00001'), Decimal('0.017246175243393558')]\n<br>DCA Amounts: [Decimal('1'), Decimal('5.568024414634831')]\n"
          ],
          [
           "\nPair: POPCAT-USDT\n<br>Volume: 18366.205769884702\n<br>PNL: 0.3128802565529342\n<br>Close types: {'STOP_LOSS': 18, 'TIME_LIMIT': 1, 'TRAILING_STOP': 47}\n\nConfig:\n<br>Id: 1573\n<br>BB Length: 50\n<br>BB Std: 1.5\n<br>Take profit: None\n<br>Stop loss: 0.011488111140796222\n<br>Time limit: 86400\n<br>DCA Spreads: [Decimal('-0.00001'), Decimal('0.02603004178749633')]\n<br>DCA Amounts: [Decimal('1'), Decimal('6.307931149093891')]\n"
          ],
          [
           "\nPair: POPCAT-USDT\n<br>Volume: 24015.13686903106\n<br>PNL: 8.994149249300094\n<br>Close types: {'STOP_LOSS': 20, 'TIME_LIMIT': 2, 'TRAILING_STOP': 37}\n\nConfig:\n<br>Id: 2075\n<br>BB Length: 20\n<br>BB Std: 2.5\n<br>Take profit: None\n<br>Stop loss: 0.017582253105479482\n<br>Time limit: 86400\n<br>DCA Spreads: [Decimal('-0.00001'), Decimal('0.017582253105479482')]\n<br>DCA Amounts: [Decimal('1'), Decimal('1.721032135293751')]\n"
          ],
          [
           "\nPair: POPCAT-USDT\n<br>Volume: 11592.049431059611\n<br>PNL: 1.386694507231905\n<br>Close types: {'STOP_LOSS': 8, 'TIME_LIMIT': 1, 'TRAILING_STOP': 22}\n\nConfig:\n<br>Id: 2554\n<br>BB Length: 200\n<br>BB Std: 1.8\n<br>Take profit: None\n<br>Stop loss: 0.026763311959855023\n<br>Time limit: 86400\n<br>DCA Spreads: [Decimal('-0.00001'), Decimal('0.026763311959855023')]\n<br>DCA Amounts: [Decimal('1'), Decimal('1.8480641395495097')]\n"
          ],
          [
           "\nPair: POPCAT-USDT\n<br>Volume: 26610.574643926953\n<br>PNL: 19.66562305242546\n<br>Close types: {'STOP_LOSS': 20, 'TIME_LIMIT': 1, 'TRAILING_STOP': 71}\n\nConfig:\n<br>Id: 2684\n<br>BB Length: 50\n<br>BB Std: 1.8\n<br>Take profit: None\n<br>Stop loss: 0.012854609929078076\n<br>Time limit: 86400\n<br>DCA Spreads: [Decimal('-0.00001'), Decimal('0.027723912126028406')]\n<br>DCA Amounts: [Decimal('1'), Decimal('1.9567625540283977')]\n"
          ],
          [
           "\nPair: POPCAT-USDT\n<br>Volume: 46235.87015669493\n<br>PNL: 18.587657516611284\n<br>Close types: {'STOP_LOSS': 38, 'TIME_LIMIT': 1, 'TRAILING_STOP': 78}\n\nConfig:\n<br>Id: 2807\n<br>BB Length: 50\n<br>BB Std: 1.4\n<br>Take profit: None\n<br>Stop loss: 0.01040118870728084\n<br>Time limit: 86400\n<br>DCA Spreads: [Decimal('-0.00001'), Decimal('0.01040118870728084')]\n<br>DCA Amounts: [Decimal('1'), Decimal('1.660040550599661')]\n"
          ],
          [
           "\nPair: POPCAT-USDT\n<br>Volume: 12445.484553409558\n<br>PNL: 5.722528875553355\n<br>Close types: {'STOP_LOSS': 10, 'TIME_LIMIT': 1, 'TRAILING_STOP': 43}\n\nConfig:\n<br>Id: 2915\n<br>BB Length: 100\n<br>BB Std: 1.4\n<br>Take profit: None\n<br>Stop loss: 0.013786703554483843\n<br>Time limit: 86400\n<br>DCA Spreads: [Decimal('-0.00001'), Decimal('0.03512184527354856')]\n<br>DCA Amounts: [Decimal('1'), Decimal('4.2954648147403285')]\n"
          ],
          [
           "\nPair: POPCAT-USDT\n<br>Volume: 13636.869362869962\n<br>PNL: 3.669468163643891\n<br>Close types: {'STOP_LOSS': 11, 'TIME_LIMIT': 1, 'TRAILING_STOP': 42}\n\nConfig:\n<br>Id: 2960\n<br>BB Length: 100\n<br>BB Std: 1.5\n<br>Take profit: None\n<br>Stop loss: 0.014062771109032902\n<br>Time limit: 86400\n<br>DCA Spreads: [Decimal('-0.00001'), Decimal('0.036065715559473494')]\n<br>DCA Amounts: [Decimal('1'), Decimal('3.214588072929611')]\n"
          ],
          [
           "\nPair: POPCAT-USDT\n<br>Volume: 21913.49845536342\n<br>PNL: 0.195363234630316\n<br>Close types: {'STOP_LOSS': 16, 'TIME_LIMIT': 1, 'TRAILING_STOP': 44}\n\nConfig:\n<br>Id: 3071\n<br>BB Length: 50\n<br>BB Std: 2.5\n<br>Take profit: None\n<br>Stop loss: 0.017975605125613865\n<br>Time limit: 86400\n<br>DCA Spreads: [Decimal('-0.00001'), Decimal('0.017975605125613865')]\n<br>DCA Amounts: [Decimal('1'), Decimal('1.6854885118613399')]\n"
          ]
         ],
         "hovertemplate": "trading_pair=POPCAT-USDT<br>total_volume=%{x}<br>net_pnl_quote=%{y}<br>sharpe_ratio=%{marker.size}<br>custom_hover_text=%{customdata[0]}<extra></extra>",
         "legendgroup": "POPCAT-USDT",
         "marker": {
          "color": "#EF553B",
          "size": [
           0.6657973370694135,
           1.0555676631101847,
           0.7895546085221105,
           0.3804935742715065,
           0.6981236214332659,
           1.0566335616252132,
           0.041868931556820914,
           0.53352506037579,
           0.4747272844981005,
           0.582468838220311,
           1.027009341562029,
           0.6314695620204016,
           1.0711188127209854,
           1.0123298676101766,
           0.6063414981390778
          ],
          "sizemode": "area",
          "sizeref": 0.009168875998020496,
          "symbol": "circle"
         },
         "mode": "markers",
         "name": "POPCAT-USDT",
         "orientation": "v",
         "showlegend": true,
         "type": "scatter",
         "x": [
          10429.261609287529,
          10160.290030843522,
          18218.56167003229,
          55707.01077740026,
          10846.06526351467,
          15287.985758752082,
          46754.64050460654,
          18366.205769884702,
          24015.13686903106,
          11592.049431059611,
          26610.574643926953,
          46235.87015669493,
          12445.484553409558,
          13636.869362869962,
          21913.49845536342
         ],
         "xaxis": "x",
         "y": [
          4.563939097302476,
          19.1699488918028,
          18.205790437737893,
          11.420393378673408,
          5.09520720643772,
          6.4662435239725875,
          5.685610225114459,
          0.3128802565529342,
          8.994149249300094,
          1.386694507231905,
          19.66562305242546,
          18.587657516611284,
          5.722528875553355,
          3.669468163643891,
          0.195363234630316
         ],
         "yaxis": "y"
        },
        {
         "customdata": [
          [
           "\nPair: INJ-USDT\n<br>Volume: 18493.529409840714\n<br>PNL: 2.280989641936168\n<br>Close types: {'STOP_LOSS': 12, 'TIME_LIMIT': 1, 'TRAILING_STOP': 54}\n\nConfig:\n<br>Id: 15\n<br>BB Length: 50\n<br>BB Std: 2.2\n<br>Take profit: None\n<br>Stop loss: 0.006991908812513195\n<br>Time limit: 86400\n<br>DCA Spreads: [Decimal('-0.00001'), Decimal('0.018797096198265188')]\n<br>DCA Amounts: [Decimal('1'), Decimal('1.9220271894138925')]\n"
          ],
          [
           "\nPair: INJ-USDT\n<br>Volume: 16569.0894272656\n<br>PNL: 3.1837379162075123\n<br>Close types: {'STOP_LOSS': 13, 'TIME_LIMIT': 2, 'TRAILING_STOP': 48}\n\nConfig:\n<br>Id: 576\n<br>BB Length: 100\n<br>BB Std: 1.4\n<br>Take profit: None\n<br>Stop loss: 0.007136064383126048\n<br>Time limit: 86400\n<br>DCA Spreads: [Decimal('-0.00001'), Decimal('0.018584648115539195')]\n<br>DCA Amounts: [Decimal('1'), Decimal('2.8049490994591464')]\n"
          ]
         ],
         "hovertemplate": "trading_pair=INJ-USDT<br>total_volume=%{x}<br>net_pnl_quote=%{y}<br>sharpe_ratio=%{marker.size}<br>custom_hover_text=%{customdata[0]}<extra></extra>",
         "legendgroup": "INJ-USDT",
         "marker": {
          "color": "#00CC96",
          "size": [
           0.8533661486952123,
           0.20797665626048076
          ],
          "sizemode": "area",
          "sizeref": 0.009168875998020496,
          "symbol": "circle"
         },
         "mode": "markers",
         "name": "INJ-USDT",
         "orientation": "v",
         "showlegend": true,
         "type": "scatter",
         "x": [
          18493.529409840714,
          16569.0894272656
         ],
         "xaxis": "x",
         "y": [
          2.280989641936168,
          3.1837379162075123
         ],
         "yaxis": "y"
        },
        {
         "customdata": [
          [
           "\nPair: RUNE-USDT\n<br>Volume: 44137.43911150015\n<br>PNL: 6.393602978980839\n<br>Close types: {'STOP_LOSS': 29, 'TIME_LIMIT': 1, 'TRAILING_STOP': 114}\n\nConfig:\n<br>Id: 22\n<br>BB Length: 50\n<br>BB Std: 1.4\n<br>Take profit: None\n<br>Stop loss: 0.004940430147005671\n<br>Time limit: 86400\n<br>DCA Spreads: [Decimal('-0.00001'), Decimal('0.0110652827005344')]\n<br>DCA Amounts: [Decimal('1'), Decimal('1.5806510381288583')]\n"
          ],
          [
           "\nPair: RUNE-USDT\n<br>Volume: 23586.177201236784\n<br>PNL: 2.138993712901323\n<br>Close types: {'STOP_LOSS': 22, 'TIME_LIMIT': 2, 'TRAILING_STOP': 60}\n\nConfig:\n<br>Id: 85\n<br>BB Length: 50\n<br>BB Std: 1.8\n<br>Take profit: None\n<br>Stop loss: 0.005072313118749025\n<br>Time limit: 86400\n<br>DCA Spreads: [Decimal('-0.00001'), Decimal('0.01089971774296138')]\n<br>DCA Amounts: [Decimal('1'), Decimal('2.9189315872497126')]\n"
          ],
          [
           "\nPair: RUNE-USDT\n<br>Volume: 12397.769954685284\n<br>PNL: 2.918063631910433\n<br>Close types: {'STOP_LOSS': 10, 'TIME_LIMIT': 1, 'TRAILING_STOP': 46}\n\nConfig:\n<br>Id: 227\n<br>BB Length: 50\n<br>BB Std: 2.2\n<br>Take profit: None\n<br>Stop loss: 0.005049340606206676\n<br>Time limit: 86400\n<br>DCA Spreads: [Decimal('-0.00001'), Decimal('0.01594496201709715')]\n<br>DCA Amounts: [Decimal('1'), Decimal('4.1945353940995656')]\n"
          ],
          [
           "\nPair: RUNE-USDT\n<br>Volume: 34843.50177068851\n<br>PNL: 5.656358267930402\n<br>Close types: {'STOP_LOSS': 23, 'TIME_LIMIT': 1, 'TRAILING_STOP': 82}\n\nConfig:\n<br>Id: 1203\n<br>BB Length: 50\n<br>BB Std: 1.8\n<br>Take profit: None\n<br>Stop loss: 0.005072313118749025\n<br>Time limit: 86400\n<br>DCA Spreads: [Decimal('-0.00001'), Decimal('0.01089971774296138')]\n<br>DCA Amounts: [Decimal('1'), Decimal('1.3665262817316086')]\n"
          ],
          [
           "\nPair: RUNE-USDT\n<br>Volume: 20436.939298215333\n<br>PNL: 3.710153640580362\n<br>Close types: {'STOP_LOSS': 15, 'TIME_LIMIT': 1, 'TRAILING_STOP': 65}\n\nConfig:\n<br>Id: 1693\n<br>BB Length: 100\n<br>BB Std: 1.4\n<br>Take profit: None\n<br>Stop loss: 0.0050861742857140355\n<br>Time limit: 86400\n<br>DCA Spreads: [Decimal('-0.00001'), Decimal('0.011280248780877343')]\n<br>DCA Amounts: [Decimal('1'), Decimal('3.1164379633872796')]\n"
          ],
          [
           "\nPair: RUNE-USDT\n<br>Volume: 31834.548013130247\n<br>PNL: 4.295410772786734\n<br>Close types: {'STOP_LOSS': 23, 'TIME_LIMIT': 1, 'TRAILING_STOP': 125}\n\nConfig:\n<br>Id: 2806\n<br>BB Length: 50\n<br>BB Std: 1.4\n<br>Take profit: None\n<br>Stop loss: 0.004940430147005671\n<br>Time limit: 86400\n<br>DCA Spreads: [Decimal('-0.00001'), Decimal('0.0110652827005344')]\n<br>DCA Amounts: [Decimal('1'), Decimal('3.9880328732500594')]\n"
          ]
         ],
         "hovertemplate": "trading_pair=RUNE-USDT<br>total_volume=%{x}<br>net_pnl_quote=%{y}<br>sharpe_ratio=%{marker.size}<br>custom_hover_text=%{customdata[0]}<extra></extra>",
         "legendgroup": "RUNE-USDT",
         "marker": {
          "color": "#AB63FA",
          "size": [
           0.9481075141717595,
           1.173261346438743,
           0.6022319874739462,
           0.8092846730907907,
           1.17276722195862,
           0.6624615123641426
          ],
          "sizemode": "area",
          "sizeref": 0.009168875998020496,
          "symbol": "circle"
         },
         "mode": "markers",
         "name": "RUNE-USDT",
         "orientation": "v",
         "showlegend": true,
         "type": "scatter",
         "x": [
          44137.43911150015,
          23586.177201236784,
          12397.769954685284,
          34843.50177068851,
          20436.939298215333,
          31834.548013130247
         ],
         "xaxis": "x",
         "y": [
          6.393602978980839,
          2.138993712901323,
          2.918063631910433,
          5.656358267930402,
          3.710153640580362,
          4.295410772786734
         ],
         "yaxis": "y"
        },
        {
         "customdata": [
          [
           "\nPair: RSR-USDT\n<br>Volume: 33157.636568458656\n<br>PNL: 10.098077991628925\n<br>Close types: {'STOP_LOSS': 22, 'TIME_LIMIT': 1, 'TRAILING_STOP': 82}\n\nConfig:\n<br>Id: 27\n<br>BB Length: 50\n<br>BB Std: 1.8\n<br>Take profit: None\n<br>Stop loss: 0.006535494484573753\n<br>Time limit: 86400\n<br>DCA Spreads: [Decimal('-0.00001'), Decimal('0.013754165212383842')]\n<br>DCA Amounts: [Decimal('1'), Decimal('1.5909447505621195')]\n"
          ]
         ],
         "hovertemplate": "trading_pair=RSR-USDT<br>total_volume=%{x}<br>net_pnl_quote=%{y}<br>sharpe_ratio=%{marker.size}<br>custom_hover_text=%{customdata[0]}<extra></extra>",
         "legendgroup": "RSR-USDT",
         "marker": {
          "color": "#FFA15A",
          "size": [
           1.4102170829742546
          ],
          "sizemode": "area",
          "sizeref": 0.009168875998020496,
          "symbol": "circle"
         },
         "mode": "markers",
         "name": "RSR-USDT",
         "orientation": "v",
         "showlegend": true,
         "type": "scatter",
         "x": [
          33157.636568458656
         ],
         "xaxis": "x",
         "y": [
          10.098077991628925
         ],
         "yaxis": "y"
        },
        {
         "customdata": [
          [
           "\nPair: NFP-USDT\n<br>Volume: 29973.419398368238\n<br>PNL: 9.108084003832873\n<br>Close types: {'STOP_LOSS': 22, 'TIME_LIMIT': 1, 'TRAILING_STOP': 71}\n\nConfig:\n<br>Id: 38\n<br>BB Length: 50\n<br>BB Std: 1.8\n<br>Take profit: None\n<br>Stop loss: 0.0062917813605978985\n<br>Time limit: 86400\n<br>DCA Spreads: [Decimal('-0.00001'), Decimal('0.013287401574803053')]\n<br>DCA Amounts: [Decimal('1'), Decimal('1.5755034780924042')]\n"
          ]
         ],
         "hovertemplate": "trading_pair=NFP-USDT<br>total_volume=%{x}<br>net_pnl_quote=%{y}<br>sharpe_ratio=%{marker.size}<br>custom_hover_text=%{customdata[0]}<extra></extra>",
         "legendgroup": "NFP-USDT",
         "marker": {
          "color": "#19D3F3",
          "size": [
           1.0967183542008012
          ],
          "sizemode": "area",
          "sizeref": 0.009168875998020496,
          "symbol": "circle"
         },
         "mode": "markers",
         "name": "NFP-USDT",
         "orientation": "v",
         "showlegend": true,
         "type": "scatter",
         "x": [
          29973.419398368238
         ],
         "xaxis": "x",
         "y": [
          9.108084003832873
         ],
         "yaxis": "y"
        },
        {
         "customdata": [
          [
           "\nPair: DAR-USDT\n<br>Volume: 10641.087994429468\n<br>PNL: 0.5072342766747009\n<br>Close types: {'STOP_LOSS': 9, 'TIME_LIMIT': 2, 'TRAILING_STOP': 28}\n\nConfig:\n<br>Id: 39\n<br>BB Length: 200\n<br>BB Std: 1.4\n<br>Take profit: None\n<br>Stop loss: 0.007664580928659666\n<br>Time limit: 86400\n<br>DCA Spreads: [Decimal('-0.00001'), Decimal('0.019545763737789434')]\n<br>DCA Amounts: [Decimal('1'), Decimal('2.7491209002898884')]\n"
          ],
          [
           "\nPair: DAR-USDT\n<br>Volume: 17886.513657574797\n<br>PNL: 5.949851674365635\n<br>Close types: {'STOP_LOSS': 11, 'TRAILING_STOP': 60}\n\nConfig:\n<br>Id: 599\n<br>BB Length: 50\n<br>BB Std: 2.2\n<br>Take profit: None\n<br>Stop loss: 0.006394531122232041\n<br>Time limit: 86400\n<br>DCA Spreads: [Decimal('-0.00001'), Decimal('0.012481660757863446')]\n<br>DCA Amounts: [Decimal('1'), Decimal('3.4873969820136983')]\n"
          ],
          [
           "\nPair: DAR-USDT\n<br>Volume: 15378.444515657291\n<br>PNL: 3.981969570977119\n<br>Close types: {'STOP_LOSS': 14, 'TIME_LIMIT': 2, 'TRAILING_STOP': 43}\n\nConfig:\n<br>Id: 681\n<br>BB Length: 100\n<br>BB Std: 1.4\n<br>Take profit: None\n<br>Stop loss: 0.0060980641328206645\n<br>Time limit: 86400\n<br>DCA Spreads: [Decimal('-0.00001'), Decimal('0.013228905524351875')]\n<br>DCA Amounts: [Decimal('1'), Decimal('3.4648693831172457')]\n"
          ],
          [
           "\nPair: DAR-USDT\n<br>Volume: 16355.868933573356\n<br>PNL: 14.130506291117662\n<br>Close types: {'STOP_LOSS': 12, 'TIME_LIMIT': 1, 'TRAILING_STOP': 41}\n\nConfig:\n<br>Id: 764\n<br>BB Length: 50\n<br>BB Std: 2.2\n<br>Take profit: None\n<br>Stop loss: 0.006394531122232041\n<br>Time limit: 86400\n<br>DCA Spreads: [Decimal('-0.00001'), Decimal('0.012481660757863446')]\n<br>DCA Amounts: [Decimal('1'), Decimal('2.606314598240374')]\n"
          ],
          [
           "\nPair: DAR-USDT\n<br>Volume: 17130.269901648273\n<br>PNL: 10.869433834049767\n<br>Close types: {'STOP_LOSS': 11, 'TIME_LIMIT': 2, 'TRAILING_STOP': 57}\n\nConfig:\n<br>Id: 1682\n<br>BB Length: 100\n<br>BB Std: 1.4\n<br>Take profit: None\n<br>Stop loss: 0.0060980641328206645\n<br>Time limit: 86400\n<br>DCA Spreads: [Decimal('-0.00001'), Decimal('0.013228905524351875')]\n<br>DCA Amounts: [Decimal('1'), Decimal('3.9286998002843694')]\n"
          ],
          [
           "\nPair: DAR-USDT\n<br>Volume: 21974.27468291946\n<br>PNL: 7.905952785518901\n<br>Close types: {'STOP_LOSS': 14, 'TIME_LIMIT': 2, 'TRAILING_STOP': 51}\n\nConfig:\n<br>Id: 1989\n<br>BB Length: 100\n<br>BB Std: 1.4\n<br>Take profit: None\n<br>Stop loss: 0.0060980641328206645\n<br>Time limit: 86400\n<br>DCA Spreads: [Decimal('-0.00001'), Decimal('0.013228905524351875')]\n<br>DCA Amounts: [Decimal('1'), Decimal('1.3426666059744625')]\n"
          ],
          [
           "\nPair: DAR-USDT\n<br>Volume: 20249.92977079578\n<br>PNL: 0.07474829507225299\n<br>Close types: {'STOP_LOSS': 17, 'TIME_LIMIT': 2, 'TRAILING_STOP': 60}\n\nConfig:\n<br>Id: 2574\n<br>BB Length: 50\n<br>BB Std: 1.8\n<br>Take profit: None\n<br>Stop loss: 0.006232689969714177\n<br>Time limit: 86400\n<br>DCA Spreads: [Decimal('-0.00001'), Decimal('0.011013543254322864')]\n<br>DCA Amounts: [Decimal('1'), Decimal('3.290945618144983')]\n"
          ]
         ],
         "hovertemplate": "trading_pair=DAR-USDT<br>total_volume=%{x}<br>net_pnl_quote=%{y}<br>sharpe_ratio=%{marker.size}<br>custom_hover_text=%{customdata[0]}<extra></extra>",
         "legendgroup": "DAR-USDT",
         "marker": {
          "color": "#FF6692",
          "size": [
           0.5268932585506165,
           0.6190964116961685,
           1.3556153055879396,
           1.1183144481577993,
           1.2273940405986974,
           1.708606133127555,
           0.8917980251064792
          ],
          "sizemode": "area",
          "sizeref": 0.009168875998020496,
          "symbol": "circle"
         },
         "mode": "markers",
         "name": "DAR-USDT",
         "orientation": "v",
         "showlegend": true,
         "type": "scatter",
         "x": [
          10641.087994429468,
          17886.513657574797,
          15378.444515657291,
          16355.868933573356,
          17130.269901648273,
          21974.27468291946,
          20249.92977079578
         ],
         "xaxis": "x",
         "y": [
          0.5072342766747009,
          5.949851674365635,
          3.981969570977119,
          14.130506291117662,
          10.869433834049767,
          7.905952785518901,
          0.07474829507225299
         ],
         "yaxis": "y"
        },
        {
         "customdata": [
          [
           "\nPair: SSV-USDT\n<br>Volume: 19718.122749556213\n<br>PNL: 4.714074544484221\n<br>Close types: {'STOP_LOSS': 17, 'TIME_LIMIT': 2, 'TRAILING_STOP': 70}\n\nConfig:\n<br>Id: 45\n<br>BB Length: 50\n<br>BB Std: 1.8\n<br>Take profit: None\n<br>Stop loss: 0.0070685362204668395\n<br>Time limit: 86400\n<br>DCA Spreads: [Decimal('-0.00001'), Decimal('0.016442344951865744')]\n<br>DCA Amounts: [Decimal('1'), Decimal('4.73184833073351')]\n"
          ],
          [
           "\nPair: SSV-USDT\n<br>Volume: 16884.57128382238\n<br>PNL: 0.23751835220729473\n<br>Close types: {'STOP_LOSS': 13, 'TIME_LIMIT': 1, 'TRAILING_STOP': 44}\n\nConfig:\n<br>Id: 1083\n<br>BB Length: 50\n<br>BB Std: 2.2\n<br>Take profit: None\n<br>Stop loss: 0.00908142869557659\n<br>Time limit: 86400\n<br>DCA Spreads: [Decimal('-0.00001'), Decimal('0.021139055348464133')]\n<br>DCA Amounts: [Decimal('1'), Decimal('2.1115302254973276')]\n"
          ],
          [
           "\nPair: SSV-USDT\n<br>Volume: 34166.4100051104\n<br>PNL: 14.57751612591797\n<br>Close types: {'STOP_LOSS': 23, 'TIME_LIMIT': 2, 'TRAILING_STOP': 96}\n\nConfig:\n<br>Id: 1726\n<br>BB Length: 50\n<br>BB Std: 1.4\n<br>Take profit: None\n<br>Stop loss: 0.006061560261355582\n<br>Time limit: 86400\n<br>DCA Spreads: [Decimal('-0.00001'), Decimal('0.013891046612764905')]\n<br>DCA Amounts: [Decimal('1'), Decimal('1.9443889904617473')]\n"
          ],
          [
           "\nPair: SSV-USDT\n<br>Volume: 24999.937841398372\n<br>PNL: 9.790264675545806\n<br>Close types: {'STOP_LOSS': 18, 'TIME_LIMIT': 2, 'TRAILING_STOP': 69}\n\nConfig:\n<br>Id: 2664\n<br>BB Length: 50\n<br>BB Std: 1.8\n<br>Take profit: None\n<br>Stop loss: 0.0070685362204668395\n<br>Time limit: 86400\n<br>DCA Spreads: [Decimal('-0.00001'), Decimal('0.016442344951865744')]\n<br>DCA Amounts: [Decimal('1'), Decimal('2.2903390744254635')]\n"
          ],
          [
           "\nPair: SSV-USDT\n<br>Volume: 21585.7950044897\n<br>PNL: 4.6224950851004145\n<br>Close types: {'STOP_LOSS': 22, 'TIME_LIMIT': 2, 'TRAILING_STOP': 64}\n\nConfig:\n<br>Id: 2898\n<br>BB Length: 50\n<br>BB Std: 1.4\n<br>Take profit: None\n<br>Stop loss: 0.006061560261355582\n<br>Time limit: 86400\n<br>DCA Spreads: [Decimal('-0.00001'), Decimal('0.013891046612764905')]\n<br>DCA Amounts: [Decimal('1'), Decimal('4.739625963794925')]\n"
          ]
         ],
         "hovertemplate": "trading_pair=SSV-USDT<br>total_volume=%{x}<br>net_pnl_quote=%{y}<br>sharpe_ratio=%{marker.size}<br>custom_hover_text=%{customdata[0]}<extra></extra>",
         "legendgroup": "SSV-USDT",
         "marker": {
          "color": "#B6E880",
          "size": [
           0.6447249709616972,
           0.35266688890594056,
           1.467661057534765,
           1.1034134699755855,
           0.06895828108576924
          ],
          "sizemode": "area",
          "sizeref": 0.009168875998020496,
          "symbol": "circle"
         },
         "mode": "markers",
         "name": "SSV-USDT",
         "orientation": "v",
         "showlegend": true,
         "type": "scatter",
         "x": [
          19718.122749556213,
          16884.57128382238,
          34166.4100051104,
          24999.937841398372,
          21585.7950044897
         ],
         "xaxis": "x",
         "y": [
          4.714074544484221,
          0.23751835220729473,
          14.57751612591797,
          9.790264675545806,
          4.6224950851004145
         ],
         "yaxis": "y"
        },
        {
         "customdata": [
          [
           "\nPair: PEOPLE-USDT\n<br>Volume: 31832.77379724458\n<br>PNL: 11.467926061490335\n<br>Close types: {'STOP_LOSS': 23, 'TIME_LIMIT': 1, 'TRAILING_STOP': 87}\n\nConfig:\n<br>Id: 46\n<br>BB Length: 50\n<br>BB Std: 1.4\n<br>Take profit: None\n<br>Stop loss: 0.00827939184103581\n<br>Time limit: 86400\n<br>DCA Spreads: [Decimal('-0.00001'), Decimal('0.017585007294355318')]\n<br>DCA Amounts: [Decimal('1'), Decimal('2.312761880919678')]\n"
          ],
          [
           "\nPair: PEOPLE-USDT\n<br>Volume: 13737.151602245345\n<br>PNL: 2.915304902995447\n<br>Close types: {'STOP_LOSS': 11, 'TIME_LIMIT': 1, 'TRAILING_STOP': 48}\n\nConfig:\n<br>Id: 684\n<br>BB Length: 50\n<br>BB Std: 2.2\n<br>Take profit: None\n<br>Stop loss: 0.00998920086393076\n<br>Time limit: 86400\n<br>DCA Spreads: [Decimal('-0.00001'), Decimal('0.029045550491490553')]\n<br>DCA Amounts: [Decimal('1'), Decimal('5.381201981013217')]\n"
          ],
          [
           "\nPair: PEOPLE-USDT\n<br>Volume: 12645.535002894578\n<br>PNL: 18.233348355392412\n<br>Close types: {'STOP_LOSS': 9, 'TRAILING_STOP': 21}\n\nConfig:\n<br>Id: 1131\n<br>BB Length: 200\n<br>BB Std: 2.2\n<br>Take profit: None\n<br>Stop loss: 0.016302205065081822\n<br>Time limit: 86400\n<br>DCA Spreads: [Decimal('-0.00001'), Decimal('0.016302205065081822')]\n<br>DCA Amounts: [Decimal('1'), Decimal('1.1050307125852612')]\n"
          ],
          [
           "\nPair: PEOPLE-USDT\n<br>Volume: 15920.645981715543\n<br>PNL: 1.0343175243176879\n<br>Close types: {'STOP_LOSS': 17, 'TRAILING_STOP': 16}\n\nConfig:\n<br>Id: 2328\n<br>BB Length: 200\n<br>BB Std: 1.4\n<br>Take profit: None\n<br>Stop loss: 0.01085804948627993\n<br>Time limit: 86400\n<br>DCA Spreads: [Decimal('-0.00001'), Decimal('0.01085804948627993')]\n<br>DCA Amounts: [Decimal('1'), Decimal('1.168252815760947')]\n"
          ],
          [
           "\nPair: PEOPLE-USDT\n<br>Volume: 10766.009601394886\n<br>PNL: 10.145829086510131\n<br>Close types: {'STOP_LOSS': 10, 'TRAILING_STOP': 14}\n\nConfig:\n<br>Id: 2530\n<br>BB Length: 200\n<br>BB Std: 1.8\n<br>Take profit: None\n<br>Stop loss: 0.016620689655172396\n<br>Time limit: 86400\n<br>DCA Spreads: [Decimal('-0.00001'), Decimal('0.016620689655172396')]\n<br>DCA Amounts: [Decimal('1'), Decimal('1.5359153219254416')]\n"
          ],
          [
           "\nPair: PEOPLE-USDT\n<br>Volume: 10927.049379496304\n<br>PNL: 3.122984179477661\n<br>Close types: {'STOP_LOSS': 10, 'TRAILING_STOP': 22}\n\nConfig:\n<br>Id: 2718\n<br>BB Length: 200\n<br>BB Std: 1.8\n<br>Take profit: None\n<br>Stop loss: 0.016620689655172396\n<br>Time limit: 86400\n<br>DCA Spreads: [Decimal('-0.00001'), Decimal('0.016620689655172396')]\n<br>DCA Amounts: [Decimal('1'), Decimal('3.2737589884977547')]\n"
          ],
          [
           "\nPair: PEOPLE-USDT\n<br>Volume: 14664.354461216966\n<br>PNL: 7.7364835905401295\n<br>Close types: {'STOP_LOSS': 13, 'TIME_LIMIT': 1, 'TRAILING_STOP': 49}\n\nConfig:\n<br>Id: 3022\n<br>BB Length: 100\n<br>BB Std: 1.4\n<br>Take profit: None\n<br>Stop loss: 0.010812238026004742\n<br>Time limit: 86400\n<br>DCA Spreads: [Decimal('-0.00001'), Decimal('0.02434592866823021')]\n<br>DCA Amounts: [Decimal('1'), Decimal('7.087357029897408')]\n"
          ]
         ],
         "hovertemplate": "trading_pair=PEOPLE-USDT<br>total_volume=%{x}<br>net_pnl_quote=%{y}<br>sharpe_ratio=%{marker.size}<br>custom_hover_text=%{customdata[0]}<extra></extra>",
         "legendgroup": "PEOPLE-USDT",
         "marker": {
          "color": "#FF97FF",
          "size": [
           0.15607465872116744,
           0.4741085928089764,
           1.2635465190834523,
           0.5453956846845355,
           0.15811995583567856,
           0.05095895370582652,
           0.07135967341430156
          ],
          "sizemode": "area",
          "sizeref": 0.009168875998020496,
          "symbol": "circle"
         },
         "mode": "markers",
         "name": "PEOPLE-USDT",
         "orientation": "v",
         "showlegend": true,
         "type": "scatter",
         "x": [
          31832.77379724458,
          13737.151602245345,
          12645.535002894578,
          15920.645981715543,
          10766.009601394886,
          10927.049379496304,
          14664.354461216966
         ],
         "xaxis": "x",
         "y": [
          11.467926061490335,
          2.915304902995447,
          18.233348355392412,
          1.0343175243176879,
          10.145829086510131,
          3.122984179477661,
          7.7364835905401295
         ],
         "yaxis": "y"
        },
        {
         "customdata": [
          [
           "\nPair: DOGS-USDT\n<br>Volume: 24905.69562451357\n<br>PNL: 61.15622342892948\n<br>Close types: {'STOP_LOSS': 18, 'TIME_LIMIT': 1, 'TRAILING_STOP': 45}\n\nConfig:\n<br>Id: 53\n<br>BB Length: 50\n<br>BB Std: 1.8\n<br>Take profit: None\n<br>Stop loss: 0.019256198347107414\n<br>Time limit: 86400\n<br>DCA Spreads: [Decimal('-0.00001'), Decimal('0.019256198347107414')]\n<br>DCA Amounts: [Decimal('1'), Decimal('2.365058577171625')]\n"
          ],
          [
           "\nPair: DOGS-USDT\n<br>Volume: 10718.169907716687\n<br>PNL: 41.318149041448805\n<br>Close types: {'STOP_LOSS': 6, 'TIME_LIMIT': 1, 'TRAILING_STOP': 25}\n\nConfig:\n<br>Id: 126\n<br>BB Length: 200\n<br>BB Std: 1.8\n<br>Take profit: None\n<br>Stop loss: 0.03261758582573556\n<br>Time limit: 86400\n<br>DCA Spreads: [Decimal('-0.00001'), Decimal('0.03261758582573556')]\n<br>DCA Amounts: [Decimal('1'), Decimal('1.797694923705707')]\n"
          ],
          [
           "\nPair: DOGS-USDT\n<br>Volume: 20732.341019364445\n<br>PNL: 13.688115885451765\n<br>Close types: {'STOP_LOSS': 15, 'TRAILING_STOP': 49}\n\nConfig:\n<br>Id: 140\n<br>BB Length: 50\n<br>BB Std: 2.0\n<br>Take profit: None\n<br>Stop loss: 0.019912931312479936\n<br>Time limit: 86400\n<br>DCA Spreads: [Decimal('-0.00001'), Decimal('0.036015580636794886')]\n<br>DCA Amounts: [Decimal('1'), Decimal('1.6774674261071043')]\n"
          ],
          [
           "\nPair: DOGS-USDT\n<br>Volume: 17874.088993174722\n<br>PNL: 2.2350155111517065\n<br>Close types: {'STOP_LOSS': 14, 'TRAILING_STOP': 39}\n\nConfig:\n<br>Id: 283\n<br>BB Length: 100\n<br>BB Std: 1.4\n<br>Take profit: None\n<br>Stop loss: 0.020921592908818332\n<br>Time limit: 86400\n<br>DCA Spreads: [Decimal('-0.00001'), Decimal('0.03824362606232311')]\n<br>DCA Amounts: [Decimal('1'), Decimal('1.683074839817741')]\n"
          ],
          [
           "\nPair: DOGS-USDT\n<br>Volume: 10201.10733419628\n<br>PNL: 44.43667398370345\n<br>Close types: {'STOP_LOSS': 5, 'TIME_LIMIT': 1, 'TRAILING_STOP': 27}\n\nConfig:\n<br>Id: 602\n<br>BB Length: 200\n<br>BB Std: 1.4\n<br>Take profit: None\n<br>Stop loss: 0.030552225463054555\n<br>Time limit: 86400\n<br>DCA Spreads: [Decimal('-0.00001'), Decimal('0.05579518575392908')]\n<br>DCA Amounts: [Decimal('1'), Decimal('1.454133705125162')]\n"
          ],
          [
           "\nPair: DOGS-USDT\n<br>Volume: 13466.939922022646\n<br>PNL: 17.78789992044276\n<br>Close types: {'STOP_LOSS': 10, 'TRAILING_STOP': 26}\n\nConfig:\n<br>Id: 690\n<br>BB Length: 100\n<br>BB Std: 2.5\n<br>Take profit: None\n<br>Stop loss: 0.02772302614170564\n<br>Time limit: 86400\n<br>DCA Spreads: [Decimal('-0.00001'), Decimal('0.02772302614170564')]\n<br>DCA Amounts: [Decimal('1'), Decimal('1.6051226584764313')]\n"
          ],
          [
           "\nPair: DOGS-USDT\n<br>Volume: 17065.072635628872\n<br>PNL: 26.508961743715602\n<br>Close types: {'STOP_LOSS': 12, 'TRAILING_STOP': 38}\n\nConfig:\n<br>Id: 742\n<br>BB Length: 50\n<br>BB Std: 2.5\n<br>Take profit: None\n<br>Stop loss: 0.02116491703352528\n<br>Time limit: 86400\n<br>DCA Spreads: [Decimal('-0.00001'), Decimal('0.04092737165838649')]\n<br>DCA Amounts: [Decimal('1'), Decimal('1.3111841992582107')]\n"
          ],
          [
           "\nPair: DOGS-USDT\n<br>Volume: 10772.08412848172\n<br>PNL: 7.958823698914292\n<br>Close types: {'STOP_LOSS': 12, 'TRAILING_STOP': 23}\n\nConfig:\n<br>Id: 908\n<br>BB Length: 100\n<br>BB Std: 2.0\n<br>Take profit: None\n<br>Stop loss: 0.019912931312479936\n<br>Time limit: 86400\n<br>DCA Spreads: [Decimal('-0.00001'), Decimal('0.04088885106869734')]\n<br>DCA Amounts: [Decimal('1'), Decimal('3.4413278458383267')]\n"
          ],
          [
           "\nPair: DOGS-USDT\n<br>Volume: 13788.859129598068\n<br>PNL: 13.749375863387252\n<br>Close types: {'STOP_LOSS': 11, 'TRAILING_STOP': 40}\n\nConfig:\n<br>Id: 1153\n<br>BB Length: 50\n<br>BB Std: 2.5\n<br>Take profit: None\n<br>Stop loss: 0.02116491703352528\n<br>Time limit: 86400\n<br>DCA Spreads: [Decimal('-0.00001'), Decimal('0.04092737165838649')]\n<br>DCA Amounts: [Decimal('1'), Decimal('2.5514494299755106')]\n"
          ],
          [
           "\nPair: DOGS-USDT\n<br>Volume: 14294.906801445552\n<br>PNL: 9.907629817259687\n<br>Close types: {'STOP_LOSS': 14, 'TRAILING_STOP': 33}\n\nConfig:\n<br>Id: 1255\n<br>BB Length: 50\n<br>BB Std: 2.0\n<br>Take profit: None\n<br>Stop loss: 0.019912931312479936\n<br>Time limit: 86400\n<br>DCA Spreads: [Decimal('-0.00001'), Decimal('0.036015580636794886')]\n<br>DCA Amounts: [Decimal('1'), Decimal('2.961739984758186')]\n"
          ],
          [
           "\nPair: DOGS-USDT\n<br>Volume: 13695.962337192037\n<br>PNL: 55.26772857458039\n<br>Close types: {'STOP_LOSS': 7, 'TIME_LIMIT': 1, 'TRAILING_STOP': 36}\n\nConfig:\n<br>Id: 1273\n<br>BB Length: 200\n<br>BB Std: 1.4\n<br>Take profit: None\n<br>Stop loss: 0.030552225463054555\n<br>Time limit: 86400\n<br>DCA Spreads: [Decimal('-0.00001'), Decimal('0.030552225463054555')]\n<br>DCA Amounts: [Decimal('1'), Decimal('3.101600214302053')]\n"
          ],
          [
           "\nPair: DOGS-USDT\n<br>Volume: 17546.59280111556\n<br>PNL: 7.648990458892282\n<br>Close types: {'STOP_LOSS': 19, 'TRAILING_STOP': 21}\n\nConfig:\n<br>Id: 1333\n<br>BB Length: 100\n<br>BB Std: 2.0\n<br>Take profit: None\n<br>Stop loss: 0.019912931312479936\n<br>Time limit: 86400\n<br>DCA Spreads: [Decimal('-0.00001'), Decimal('0.019912931312479936')]\n<br>DCA Amounts: [Decimal('1'), Decimal('1.1634903498930913')]\n"
          ],
          [
           "\nPair: DOGS-USDT\n<br>Volume: 23163.40759324304\n<br>PNL: 31.659687091256536\n<br>Close types: {'STOP_LOSS': 20, 'TRAILING_STOP': 36}\n\nConfig:\n<br>Id: 1404\n<br>BB Length: 50\n<br>BB Std: 2.0\n<br>Take profit: None\n<br>Stop loss: 0.019912931312479936\n<br>Time limit: 86400\n<br>DCA Spreads: [Decimal('-0.00001'), Decimal('0.019912931312479936')]\n<br>DCA Amounts: [Decimal('1'), Decimal('1.1909285624012305')]\n"
          ],
          [
           "\nPair: DOGS-USDT\n<br>Volume: 26439.8405712148\n<br>PNL: 64.81158570577794\n<br>Close types: {'STOP_LOSS': 21, 'TIME_LIMIT': 1, 'TRAILING_STOP': 47}\n\nConfig:\n<br>Id: 1695\n<br>BB Length: 20\n<br>BB Std: 2.5\n<br>Take profit: None\n<br>Stop loss: 0.01801167944839245\n<br>Time limit: 86400\n<br>DCA Spreads: [Decimal('-0.00001'), Decimal('0.01801167944839245')]\n<br>DCA Amounts: [Decimal('1'), Decimal('1.654914078509551')]\n"
          ],
          [
           "\nPair: DOGS-USDT\n<br>Volume: 23797.236635678815\n<br>PNL: 6.033114338126834\n<br>Close types: {'STOP_LOSS': 19, 'TRAILING_STOP': 52}\n\nConfig:\n<br>Id: 1844\n<br>BB Length: 50\n<br>BB Std: 2.2\n<br>Take profit: None\n<br>Stop loss: 0.019912931312479936\n<br>Time limit: 86400\n<br>DCA Spreads: [Decimal('-0.00001'), Decimal('0.019912931312479936')]\n<br>DCA Amounts: [Decimal('1'), Decimal('1.774308153223263')]\n"
          ],
          [
           "\nPair: DOGS-USDT\n<br>Volume: 10481.410993697442\n<br>PNL: 11.55475429998903\n<br>Close types: {'STOP_LOSS': 11, 'TRAILING_STOP': 22}\n\nConfig:\n<br>Id: 1916\n<br>BB Length: 100\n<br>BB Std: 2.2\n<br>Take profit: None\n<br>Stop loss: 0.019912931312479936\n<br>Time limit: 86400\n<br>DCA Spreads: [Decimal('-0.00001'), Decimal('0.04295205315075612')]\n<br>DCA Amounts: [Decimal('1'), Decimal('2.839811600619562')]\n"
          ],
          [
           "\nPair: DOGS-USDT\n<br>Volume: 14845.666590165249\n<br>PNL: 15.989550937337453\n<br>Close types: {'STOP_LOSS': 14, 'TRAILING_STOP': 42}\n\nConfig:\n<br>Id: 2220\n<br>BB Length: 20\n<br>BB Std: 2.5\n<br>Take profit: None\n<br>Stop loss: 0.01801167944839245\n<br>Time limit: 86400\n<br>DCA Spreads: [Decimal('-0.00001'), Decimal('0.034181063484687316')]\n<br>DCA Amounts: [Decimal('1'), Decimal('4.036952081222783')]\n"
          ],
          [
           "\nPair: DOGS-USDT\n<br>Volume: 34290.32237466821\n<br>PNL: 58.70165595355046\n<br>Close types: {'STOP_LOSS': 12, 'TIME_LIMIT': 1, 'TRAILING_STOP': 71}\n\nConfig:\n<br>Id: 2343\n<br>BB Length: 50\n<br>BB Std: 2.0\n<br>Take profit: 1.0\n<br>Stop loss: 0.03954338579690789\n<br>Time limit: 28800\n<br>DCA Spreads: [Decimal('-0.0001'), Decimal('0.008178233147827358')]\n<br>DCA Amounts: [Decimal('1'), Decimal('2.0417008152989706')]\n"
          ],
          [
           "\nPair: DOGS-USDT\n<br>Volume: 20756.265068252476\n<br>PNL: 17.490836882181927\n<br>Close types: {'STOP_LOSS': 14, 'TRAILING_STOP': 51}\n\nConfig:\n<br>Id: 3006\n<br>BB Length: 50\n<br>BB Std: 2.2\n<br>Take profit: None\n<br>Stop loss: 0.019912931312479936\n<br>Time limit: 86400\n<br>DCA Spreads: [Decimal('-0.00001'), Decimal('0.03880144768958849')]\n<br>DCA Amounts: [Decimal('1'), Decimal('1.5518308600419628')]\n"
          ],
          [
           "\nPair: DOGS-USDT\n<br>Volume: 19854.614241245694\n<br>PNL: 16.695720912656345\n<br>Close types: {'STOP_LOSS': 16, 'TRAILING_STOP': 48}\n\nConfig:\n<br>Id: 3101\n<br>BB Length: 100\n<br>BB Std: 1.4\n<br>Take profit: None\n<br>Stop loss: 0.020921592908818332\n<br>Time limit: 86400\n<br>DCA Spreads: [Decimal('-0.00001'), Decimal('0.020921592908818332')]\n<br>DCA Amounts: [Decimal('1'), Decimal('4.358887717473645')]\n"
          ],
          [
           "\nPair: DOGS-USDT\n<br>Volume: 16339.32290963472\n<br>PNL: 28.11682191047997\n<br>Close types: {'STOP_LOSS': 11, 'TIME_LIMIT': 1, 'TRAILING_STOP': 70}\n\nConfig:\n<br>Id: 3198\n<br>BB Length: 20\n<br>BB Std: 2.5\n<br>Take profit: None\n<br>Stop loss: 0.01801167944839245\n<br>Time limit: 86400\n<br>DCA Spreads: [Decimal('-0.00001'), Decimal('0.034181063484687316')]\n<br>DCA Amounts: [Decimal('1'), Decimal('5.3524920539357055')]\n"
          ]
         ],
         "hovertemplate": "trading_pair=DOGS-USDT<br>total_volume=%{x}<br>net_pnl_quote=%{y}<br>sharpe_ratio=%{marker.size}<br>custom_hover_text=%{customdata[0]}<extra></extra>",
         "legendgroup": "DOGS-USDT",
         "marker": {
          "color": "#FECB52",
          "size": [
           2.1919202326826244,
           2.8077810971430215,
           1.0144245394550253,
           0.17554432670840125,
           3.6675503992081984,
           0.1464338263085367,
           0.9106291810639576,
           0.24864891278204132,
           0.6168663622340229,
           0.8013254918204211,
           3.074996825187188,
           0.4233676440297118,
           0.9624533021639365,
           0.1511601035751994,
           0.33032697550049644,
           0.3598006259126791,
           0.4918699114288382,
           1.3058154458918296,
           0.9177715030597079,
           0.6085359507757074,
           0.7216873181205142
          ],
          "sizemode": "area",
          "sizeref": 0.009168875998020496,
          "symbol": "circle"
         },
         "mode": "markers",
         "name": "DOGS-USDT",
         "orientation": "v",
         "showlegend": true,
         "type": "scatter",
         "x": [
          24905.69562451357,
          10718.169907716687,
          20732.341019364445,
          17874.088993174722,
          10201.10733419628,
          13466.939922022646,
          17065.072635628872,
          10772.08412848172,
          13788.859129598068,
          14294.906801445552,
          13695.962337192037,
          17546.59280111556,
          23163.40759324304,
          26439.8405712148,
          23797.236635678815,
          10481.410993697442,
          14845.666590165249,
          34290.32237466821,
          20756.265068252476,
          19854.614241245694,
          16339.32290963472
         ],
         "xaxis": "x",
         "y": [
          61.15622342892948,
          41.318149041448805,
          13.688115885451765,
          2.2350155111517065,
          44.43667398370345,
          17.78789992044276,
          26.508961743715602,
          7.958823698914292,
          13.749375863387252,
          9.907629817259687,
          55.26772857458039,
          7.648990458892282,
          31.659687091256536,
          64.81158570577794,
          6.033114338126834,
          11.55475429998903,
          15.989550937337453,
          58.70165595355046,
          17.490836882181927,
          16.695720912656345,
          28.11682191047997
         ],
         "yaxis": "y"
        },
        {
         "customdata": [
          [
           "\nPair: BB-USDT\n<br>Volume: 14492.22349891123\n<br>PNL: 0.6890545803063719\n<br>Close types: {'STOP_LOSS': 10, 'TIME_LIMIT': 1, 'TRAILING_STOP': 43}\n\nConfig:\n<br>Id: 54\n<br>BB Length: 100\n<br>BB Std: 1.8\n<br>Take profit: None\n<br>Stop loss: 0.009861212563915398\n<br>Time limit: 86400\n<br>DCA Spreads: [Decimal('-0.00001'), Decimal('0.023801005761635123')]\n<br>DCA Amounts: [Decimal('1'), Decimal('2.9394483810860113')]\n"
          ],
          [
           "\nPair: BB-USDT\n<br>Volume: 11721.545267893223\n<br>PNL: 2.941218722420577\n<br>Close types: {'STOP_LOSS': 10, 'TIME_LIMIT': 1, 'TRAILING_STOP': 29}\n\nConfig:\n<br>Id: 1022\n<br>BB Length: 100\n<br>BB Std: 1.8\n<br>Take profit: None\n<br>Stop loss: 0.009861212563915398\n<br>Time limit: 86400\n<br>DCA Spreads: [Decimal('-0.00001'), Decimal('0.023801005761635123')]\n<br>DCA Amounts: [Decimal('1'), Decimal('5.787505417831482')]\n"
          ],
          [
           "\nPair: BB-USDT\n<br>Volume: 22977.821247265296\n<br>PNL: 1.514728578656595\n<br>Close types: {'STOP_LOSS': 22, 'TIME_LIMIT': 1, 'TRAILING_STOP': 75}\n\nConfig:\n<br>Id: 2663\n<br>BB Length: 50\n<br>BB Std: 1.4\n<br>Take profit: None\n<br>Stop loss: 0.006034286332196723\n<br>Time limit: 86400\n<br>DCA Spreads: [Decimal('-0.00001'), Decimal('0.014554676026976385')]\n<br>DCA Amounts: [Decimal('1'), Decimal('4.176139572056857')]\n"
          ]
         ],
         "hovertemplate": "trading_pair=BB-USDT<br>total_volume=%{x}<br>net_pnl_quote=%{y}<br>sharpe_ratio=%{marker.size}<br>custom_hover_text=%{customdata[0]}<extra></extra>",
         "legendgroup": "BB-USDT",
         "marker": {
          "color": "#636EFA",
          "size": [
           0.44307748962524174,
           0.382330110863204,
           0.1541615355743092
          ],
          "sizemode": "area",
          "sizeref": 0.009168875998020496,
          "symbol": "circle"
         },
         "mode": "markers",
         "name": "BB-USDT",
         "orientation": "v",
         "showlegend": true,
         "type": "scatter",
         "x": [
          14492.22349891123,
          11721.545267893223,
          22977.821247265296
         ],
         "xaxis": "x",
         "y": [
          0.6890545803063719,
          2.941218722420577,
          1.514728578656595
         ],
         "yaxis": "y"
        },
        {
         "customdata": [
          [
           "\nPair: OM-USDT\n<br>Volume: 23390.695743922308\n<br>PNL: 14.848940411564024\n<br>Close types: {'STOP_LOSS': 16, 'TIME_LIMIT': 1, 'TRAILING_STOP': 66}\n\nConfig:\n<br>Id: 59\n<br>BB Length: 50\n<br>BB Std: 1.4\n<br>Take profit: None\n<br>Stop loss: 0.006374003397615589\n<br>Time limit: 86400\n<br>DCA Spreads: [Decimal('-0.00001'), Decimal('0.012164273042847451')]\n<br>DCA Amounts: [Decimal('1'), Decimal('4.899053018499999')]\n"
          ],
          [
           "\nPair: OM-USDT\n<br>Volume: 13584.304240628535\n<br>PNL: 7.080492907748171\n<br>Close types: {'STOP_LOSS': 10, 'TRAILING_STOP': 38}\n\nConfig:\n<br>Id: 2659\n<br>BB Length: 50\n<br>BB Std: 2.2\n<br>Take profit: None\n<br>Stop loss: 0.0071969511490560766\n<br>Time limit: 86400\n<br>DCA Spreads: [Decimal('-0.00001'), Decimal('0.013311098950065818')]\n<br>DCA Amounts: [Decimal('1'), Decimal('2.63051442773316')]\n"
          ],
          [
           "\nPair: OM-USDT\n<br>Volume: 15470.882587102315\n<br>PNL: 5.320712625255081\n<br>Close types: {'STOP_LOSS': 10, 'TIME_LIMIT': 1, 'TRAILING_STOP': 49}\n\nConfig:\n<br>Id: 2895\n<br>BB Length: 50\n<br>BB Std: 2.2\n<br>Take profit: None\n<br>Stop loss: 0.0071969511490560766\n<br>Time limit: 86400\n<br>DCA Spreads: [Decimal('-0.00001'), Decimal('0.013311098950065818')]\n<br>DCA Amounts: [Decimal('1'), Decimal('3.894815920038096')]\n"
          ]
         ],
         "hovertemplate": "trading_pair=OM-USDT<br>total_volume=%{x}<br>net_pnl_quote=%{y}<br>sharpe_ratio=%{marker.size}<br>custom_hover_text=%{customdata[0]}<extra></extra>",
         "legendgroup": "OM-USDT",
         "marker": {
          "color": "#EF553B",
          "size": [
           0.521865067359416,
           1.1966204742469004,
           0.4042526113836385
          ],
          "sizemode": "area",
          "sizeref": 0.009168875998020496,
          "symbol": "circle"
         },
         "mode": "markers",
         "name": "OM-USDT",
         "orientation": "v",
         "showlegend": true,
         "type": "scatter",
         "x": [
          23390.695743922308,
          13584.304240628535,
          15470.882587102315
         ],
         "xaxis": "x",
         "y": [
          14.848940411564024,
          7.080492907748171,
          5.320712625255081
         ],
         "yaxis": "y"
        },
        {
         "customdata": [
          [
           "\nPair: 1000BONK-USDT\n<br>Volume: 26801.83539225383\n<br>PNL: 6.642856366195609\n<br>Close types: {'STOP_LOSS': 18, 'TIME_LIMIT': 1, 'TRAILING_STOP': 106}\n\nConfig:\n<br>Id: 73\n<br>BB Length: 50\n<br>BB Std: 1.4\n<br>Take profit: None\n<br>Stop loss: 0.005223700120919007\n<br>Time limit: 86400\n<br>DCA Spreads: [Decimal('-0.00001'), Decimal('0.011932626554683547')]\n<br>DCA Amounts: [Decimal('1'), Decimal('5.475922061683135')]\n"
          ],
          [
           "\nPair: 1000BONK-USDT\n<br>Volume: 10837.974366292814\n<br>PNL: 2.8542858469075214\n<br>Close types: {'STOP_LOSS': 10, 'TRAILING_STOP': 17}\n\nConfig:\n<br>Id: 313\n<br>BB Length: 200\n<br>BB Std: 1.8\n<br>Take profit: None\n<br>Stop loss: 0.010498349637722672\n<br>Time limit: 86400\n<br>DCA Spreads: [Decimal('-0.00001'), Decimal('0.010498349637722672')]\n<br>DCA Amounts: [Decimal('1'), Decimal('1.2652331444839864')]\n"
          ],
          [
           "\nPair: 1000BONK-USDT\n<br>Volume: 10036.527295797874\n<br>PNL: 1.0417383059574\n<br>Close types: {'STOP_LOSS': 9, 'TIME_LIMIT': 1, 'TRAILING_STOP': 32}\n\nConfig:\n<br>Id: 319\n<br>BB Length: 100\n<br>BB Std: 1.8\n<br>Take profit: None\n<br>Stop loss: 0.007729101598491158\n<br>Time limit: 86400\n<br>DCA Spreads: [Decimal('-0.00001'), Decimal('0.018681124252239507')]\n<br>DCA Amounts: [Decimal('1'), Decimal('3.7565638958982595')]\n"
          ],
          [
           "\nPair: 1000BONK-USDT\n<br>Volume: 12361.41552988373\n<br>PNL: 4.067764299400505\n<br>Close types: {'STOP_LOSS': 10, 'TRAILING_STOP': 25}\n\nConfig:\n<br>Id: 1645\n<br>BB Length: 100\n<br>BB Std: 2.2\n<br>Take profit: None\n<br>Stop loss: 0.011070461348410728\n<br>Time limit: 86400\n<br>DCA Spreads: [Decimal('-0.00001'), Decimal('0.011070461348410728')]\n<br>DCA Amounts: [Decimal('1'), Decimal('2.1806812249180574')]\n"
          ],
          [
           "\nPair: 1000BONK-USDT\n<br>Volume: 24086.388857803096\n<br>PNL: 7.589016729521591\n<br>Close types: {'STOP_LOSS': 20, 'TIME_LIMIT': 1, 'TRAILING_STOP': 74}\n\nConfig:\n<br>Id: 1711\n<br>BB Length: 50\n<br>BB Std: 1.4\n<br>Take profit: None\n<br>Stop loss: 0.005223700120919007\n<br>Time limit: 86400\n<br>DCA Spreads: [Decimal('-0.00001'), Decimal('0.011932626554683547')]\n<br>DCA Amounts: [Decimal('1'), Decimal('4.922479359510527')]\n"
          ],
          [
           "\nPair: 1000BONK-USDT\n<br>Volume: 10552.46953689165\n<br>PNL: 2.5594009354713294\n<br>Close types: {'STOP_LOSS': 7, 'TRAILING_STOP': 33}\n\nConfig:\n<br>Id: 1818\n<br>BB Length: 200\n<br>BB Std: 1.8\n<br>Take profit: None\n<br>Stop loss: 0.010498349637722672\n<br>Time limit: 86400\n<br>DCA Spreads: [Decimal('-0.00001'), Decimal('0.023084628764894047')]\n<br>DCA Amounts: [Decimal('1'), Decimal('2.9538979567318755')]\n"
          ],
          [
           "\nPair: 1000BONK-USDT\n<br>Volume: 17932.92420856781\n<br>PNL: 5.33096249086681\n<br>Close types: {'STOP_LOSS': 15, 'TIME_LIMIT': 1, 'TRAILING_STOP': 57}\n\nConfig:\n<br>Id: 2376\n<br>BB Length: 50\n<br>BB Std: 1.8\n<br>Take profit: None\n<br>Stop loss: 0.0057916132984351465\n<br>Time limit: 86400\n<br>DCA Spreads: [Decimal('-0.00001'), Decimal('0.01392111368909506')]\n<br>DCA Amounts: [Decimal('1'), Decimal('4.359920147652861')]\n"
          ],
          [
           "\nPair: 1000BONK-USDT\n<br>Volume: 13217.74036053403\n<br>PNL: 1.5824338271360605\n<br>Close types: {'STOP_LOSS': 10, 'TIME_LIMIT': 1, 'TRAILING_STOP': 37}\n\nConfig:\n<br>Id: 2679\n<br>BB Length: 100\n<br>BB Std: 1.8\n<br>Take profit: None\n<br>Stop loss: 0.007729101598491158\n<br>Time limit: 86400\n<br>DCA Spreads: [Decimal('-0.00001'), Decimal('0.018681124252239507')]\n<br>DCA Amounts: [Decimal('1'), Decimal('2.1588833708494692')]\n"
          ],
          [
           "\nPair: 1000BONK-USDT\n<br>Volume: 18177.724432918738\n<br>PNL: 4.049574927745014\n<br>Close types: {'STOP_LOSS': 13, 'TIME_LIMIT': 1, 'TRAILING_STOP': 42}\n\nConfig:\n<br>Id: 3184\n<br>BB Length: 50\n<br>BB Std: 2.2\n<br>Take profit: None\n<br>Stop loss: 0.008396467692901467\n<br>Time limit: 86400\n<br>DCA Spreads: [Decimal('-0.00001'), Decimal('0.01427810851362471')]\n<br>DCA Amounts: [Decimal('1'), Decimal('1.5772867882386792')]\n"
          ]
         ],
         "hovertemplate": "trading_pair=1000BONK-USDT<br>total_volume=%{x}<br>net_pnl_quote=%{y}<br>sharpe_ratio=%{marker.size}<br>custom_hover_text=%{customdata[0]}<extra></extra>",
         "legendgroup": "1000BONK-USDT",
         "marker": {
          "color": "#00CC96",
          "size": [
           0.44639025782068453,
           0.6097590568332486,
           1.3615904207097551,
           0.6327862671494784,
           0.055677481961076074,
           0.9132402944240855,
           0.4151406998780894,
           0.2906712973883384,
           0.1540223139612706
          ],
          "sizemode": "area",
          "sizeref": 0.009168875998020496,
          "symbol": "circle"
         },
         "mode": "markers",
         "name": "1000BONK-USDT",
         "orientation": "v",
         "showlegend": true,
         "type": "scatter",
         "x": [
          26801.83539225383,
          10837.974366292814,
          10036.527295797874,
          12361.41552988373,
          24086.388857803096,
          10552.46953689165,
          17932.92420856781,
          13217.74036053403,
          18177.724432918738
         ],
         "xaxis": "x",
         "y": [
          6.642856366195609,
          2.8542858469075214,
          1.0417383059574,
          4.067764299400505,
          7.589016729521591,
          2.5594009354713294,
          5.33096249086681,
          1.5824338271360605,
          4.049574927745014
         ],
         "yaxis": "y"
        },
        {
         "customdata": [
          [
           "\nPair: ALPACA-USDT\n<br>Volume: 15308.602893618367\n<br>PNL: 21.624476550290176\n<br>Close types: {'STOP_LOSS': 10, 'TIME_LIMIT': 1, 'TRAILING_STOP': 35}\n\nConfig:\n<br>Id: 76\n<br>BB Length: 200\n<br>BB Std: 1.4\n<br>Take profit: None\n<br>Stop loss: 0.01349548440065678\n<br>Time limit: 86400\n<br>DCA Spreads: [Decimal('-0.00001'), Decimal('0.01349548440065678')]\n<br>DCA Amounts: [Decimal('1'), Decimal('3.714981066506736')]\n"
          ],
          [
           "\nPair: ALPACA-USDT\n<br>Volume: 23256.69355514876\n<br>PNL: 1.4089436233560566\n<br>Close types: {'STOP_LOSS': 20, 'TIME_LIMIT': 1, 'TRAILING_STOP': 39}\n\nConfig:\n<br>Id: 174\n<br>BB Length: 20\n<br>BB Std: 2.5\n<br>Take profit: None\n<br>Stop loss: 0.010508155583437954\n<br>Time limit: 86400\n<br>DCA Spreads: [Decimal('-0.00001'), Decimal('0.010508155583437954')]\n<br>DCA Amounts: [Decimal('1'), Decimal('1.8058466539975186')]\n"
          ],
          [
           "\nPair: ALPACA-USDT\n<br>Volume: 13522.715141291463\n<br>PNL: 9.242210194822244\n<br>Close types: {'STOP_LOSS': 11, 'TIME_LIMIT': 1, 'TRAILING_STOP': 22}\n\nConfig:\n<br>Id: 190\n<br>BB Length: 200\n<br>BB Std: 1.4\n<br>Take profit: None\n<br>Stop loss: 0.01349548440065678\n<br>Time limit: 86400\n<br>DCA Spreads: [Decimal('-0.00001'), Decimal('0.01349548440065678')]\n<br>DCA Amounts: [Decimal('1'), Decimal('1.5206097761763364')]\n"
          ],
          [
           "\nPair: ALPACA-USDT\n<br>Volume: 16959.071291527584\n<br>PNL: 12.669675565084468\n<br>Close types: {'STOP_LOSS': 9, 'TIME_LIMIT': 1, 'TRAILING_STOP': 46}\n\nConfig:\n<br>Id: 224\n<br>BB Length: 50\n<br>BB Std: 2.2\n<br>Take profit: None\n<br>Stop loss: 0.01306455728502158\n<br>Time limit: 86400\n<br>DCA Spreads: [Decimal('-0.00001'), Decimal('0.03158287175117166')]\n<br>DCA Amounts: [Decimal('1'), Decimal('1.4396423630218167')]\n"
          ],
          [
           "\nPair: ALPACA-USDT\n<br>Volume: 12583.984249137788\n<br>PNL: 7.59856481669292\n<br>Close types: {'STOP_LOSS': 9, 'TIME_LIMIT': 1, 'TRAILING_STOP': 22}\n\nConfig:\n<br>Id: 334\n<br>BB Length: 100\n<br>BB Std: 2.2\n<br>Take profit: None\n<br>Stop loss: 0.01788740564571218\n<br>Time limit: 86400\n<br>DCA Spreads: [Decimal('-0.00001'), Decimal('0.01788740564571218')]\n<br>DCA Amounts: [Decimal('1'), Decimal('1.8459946503542395')]\n"
          ],
          [
           "\nPair: ALPACA-USDT\n<br>Volume: 11941.995288013764\n<br>PNL: 7.557570558662728\n<br>Close types: {'STOP_LOSS': 11, 'TIME_LIMIT': 2, 'TRAILING_STOP': 29}\n\nConfig:\n<br>Id: 376\n<br>BB Length: 100\n<br>BB Std: 1.5\n<br>Take profit: None\n<br>Stop loss: 0.00900939490539247\n<br>Time limit: 86400\n<br>DCA Spreads: [Decimal('-0.00001'), Decimal('0.025364660066112467')]\n<br>DCA Amounts: [Decimal('1'), Decimal('4.506467011011817')]\n"
          ],
          [
           "\nPair: ALPACA-USDT\n<br>Volume: 16114.299847282424\n<br>PNL: 1.8271569196543533\n<br>Close types: {'STOP_LOSS': 14, 'TIME_LIMIT': 2, 'TRAILING_STOP': 40}\n\nConfig:\n<br>Id: 509\n<br>BB Length: 100\n<br>BB Std: 1.5\n<br>Take profit: None\n<br>Stop loss: 0.00900939490539247\n<br>Time limit: 86400\n<br>DCA Spreads: [Decimal('-0.00001'), Decimal('0.025364660066112467')]\n<br>DCA Amounts: [Decimal('1'), Decimal('2.2666606819642094')]\n"
          ],
          [
           "\nPair: ALPACA-USDT\n<br>Volume: 13974.244009317928\n<br>PNL: 6.58251532758768\n<br>Close types: {'STOP_LOSS': 10, 'TIME_LIMIT': 1, 'TRAILING_STOP': 30}\n\nConfig:\n<br>Id: 583\n<br>BB Length: 50\n<br>BB Std: 2.5\n<br>Take profit: None\n<br>Stop loss: 0.015493268594129389\n<br>Time limit: 86400\n<br>DCA Spreads: [Decimal('-0.00001'), Decimal('0.015493268594129389')]\n<br>DCA Amounts: [Decimal('1'), Decimal('1.9062236911265487')]\n"
          ],
          [
           "\nPair: ALPACA-USDT\n<br>Volume: 15957.836355524723\n<br>PNL: 6.311694969692483\n<br>Close types: {'STOP_LOSS': 16, 'TIME_LIMIT': 1, 'TRAILING_STOP': 39}\n\nConfig:\n<br>Id: 609\n<br>BB Length: 50\n<br>BB Std: 1.8\n<br>Take profit: None\n<br>Stop loss: 0.007487815684537106\n<br>Time limit: 86400\n<br>DCA Spreads: [Decimal('-0.00001'), Decimal('0.020145253328722107')]\n<br>DCA Amounts: [Decimal('1'), Decimal('3.4204581976661954')]\n"
          ],
          [
           "\nPair: ALPACA-USDT\n<br>Volume: 42952.76811407251\n<br>PNL: 24.015033028477344\n<br>Close types: {'STOP_LOSS': 38, 'TIME_LIMIT': 1, 'TRAILING_STOP': 101}\n\nConfig:\n<br>Id: 623\n<br>BB Length: 20\n<br>BB Std: 1.5\n<br>Take profit: None\n<br>Stop loss: 0.006324496316589654\n<br>Time limit: 86400\n<br>DCA Spreads: [Decimal('-0.00001'), Decimal('0.01254239457474799')]\n<br>DCA Amounts: [Decimal('1'), Decimal('2.7823410202437167')]\n"
          ],
          [
           "\nPair: ALPACA-USDT\n<br>Volume: 11427.084917091546\n<br>PNL: 15.766124534920728\n<br>Close types: {'STOP_LOSS': 9, 'TIME_LIMIT': 1, 'TRAILING_STOP': 18}\n\nConfig:\n<br>Id: 925\n<br>BB Length: 50\n<br>BB Std: 2.5\n<br>Take profit: None\n<br>Stop loss: 0.015493268594129389\n<br>Time limit: 86400\n<br>DCA Spreads: [Decimal('-0.00001'), Decimal('0.015493268594129389')]\n<br>DCA Amounts: [Decimal('1'), Decimal('1.271068641461146')]\n"
          ],
          [
           "\nPair: ALPACA-USDT\n<br>Volume: 22444.694417167106\n<br>PNL: 26.9460443757292\n<br>Close types: {'STOP_LOSS': 13, 'TIME_LIMIT': 1, 'TRAILING_STOP': 52}\n\nConfig:\n<br>Id: 931\n<br>BB Length: 50\n<br>BB Std: 2.2\n<br>Take profit: None\n<br>Stop loss: 0.01306455728502158\n<br>Time limit: 86400\n<br>DCA Spreads: [Decimal('-0.00001'), Decimal('0.01306455728502158')]\n<br>DCA Amounts: [Decimal('1'), Decimal('1.9844895325351173')]\n"
          ],
          [
           "\nPair: ALPACA-USDT\n<br>Volume: 12808.658323555142\n<br>PNL: 3.975829556122354\n<br>Close types: {'STOP_LOSS': 13, 'TIME_LIMIT': 1, 'TRAILING_STOP': 34}\n\nConfig:\n<br>Id: 1143\n<br>BB Length: 50\n<br>BB Std: 2.0\n<br>Take profit: None\n<br>Stop loss: 0.007799671592775008\n<br>Time limit: 86400\n<br>DCA Spreads: [Decimal('-0.00001'), Decimal('0.024812226686423872')]\n<br>DCA Amounts: [Decimal('1'), Decimal('3.1927395808253527')]\n"
          ],
          [
           "\nPair: ALPACA-USDT\n<br>Volume: 41527.36014796331\n<br>PNL: 5.965229840279355\n<br>Close types: {'STOP_LOSS': 36, 'TIME_LIMIT': 1, 'TRAILING_STOP': 135}\n\nConfig:\n<br>Id: 1524\n<br>BB Length: 20\n<br>BB Std: 1.5\n<br>Take profit: None\n<br>Stop loss: 0.006324496316589654\n<br>Time limit: 86400\n<br>DCA Spreads: [Decimal('-0.00001'), Decimal('0.01254239457474799')]\n<br>DCA Amounts: [Decimal('1'), Decimal('5.971771969645054')]\n"
          ],
          [
           "\nPair: ALPACA-USDT\n<br>Volume: 15198.179560356319\n<br>PNL: 7.311691505982634\n<br>Close types: {'STOP_LOSS': 10, 'TIME_LIMIT': 1, 'TRAILING_STOP': 34}\n\nConfig:\n<br>Id: 1753\n<br>BB Length: 100\n<br>BB Std: 2.0\n<br>Take profit: None\n<br>Stop loss: 0.016644569235786687\n<br>Time limit: 86400\n<br>DCA Spreads: [Decimal('-0.00001'), Decimal('0.016644569235786687')]\n<br>DCA Amounts: [Decimal('1'), Decimal('1.736026584008779')]\n"
          ],
          [
           "\nPair: ALPACA-USDT\n<br>Volume: 12789.764293233513\n<br>PNL: 5.839880657989984\n<br>Close types: {'STOP_LOSS': 11, 'TIME_LIMIT': 1, 'TRAILING_STOP': 22}\n\nConfig:\n<br>Id: 2140\n<br>BB Length: 200\n<br>BB Std: 1.5\n<br>Take profit: None\n<br>Stop loss: 0.01494583241211595\n<br>Time limit: 86400\n<br>DCA Spreads: [Decimal('-0.00001'), Decimal('0.01494583241211595')]\n<br>DCA Amounts: [Decimal('1'), Decimal('1.5251693786591338')]\n"
          ],
          [
           "\nPair: ALPACA-USDT\n<br>Volume: 10056.881224201537\n<br>PNL: 2.927468824986124\n<br>Close types: {'STOP_LOSS': 8, 'TIME_LIMIT': 1, 'TRAILING_STOP': 30}\n\nConfig:\n<br>Id: 2206\n<br>BB Length: 100\n<br>BB Std: 1.8\n<br>Take profit: None\n<br>Stop loss: 0.01244262649563431\n<br>Time limit: 86400\n<br>DCA Spreads: [Decimal('-0.00001'), Decimal('0.03316285311461028')]\n<br>DCA Amounts: [Decimal('1'), Decimal('2.865247820033516')]\n"
          ],
          [
           "\nPair: ALPACA-USDT\n<br>Volume: 11566.29520390124\n<br>PNL: 37.78331291170869\n<br>Close types: {'STOP_LOSS': 8, 'TIME_LIMIT': 1, 'TRAILING_STOP': 19}\n\nConfig:\n<br>Id: 2364\n<br>BB Length: 100\n<br>BB Std: 2.2\n<br>Take profit: None\n<br>Stop loss: 0.01788740564571218\n<br>Time limit: 86400\n<br>DCA Spreads: [Decimal('-0.00001'), Decimal('0.01788740564571218')]\n<br>DCA Amounts: [Decimal('1'), Decimal('1.652942779829952')]\n"
          ],
          [
           "\nPair: ALPACA-USDT\n<br>Volume: 11038.231966242285\n<br>PNL: 25.257722962609517\n<br>Close types: {'STOP_LOSS': 7, 'TIME_LIMIT': 1, 'TRAILING_STOP': 21}\n\nConfig:\n<br>Id: 2560\n<br>BB Length: 200\n<br>BB Std: 1.8\n<br>Take profit: None\n<br>Stop loss: 0.01759126794892183\n<br>Time limit: 86400\n<br>DCA Spreads: [Decimal('-0.00001'), Decimal('0.01759126794892183')]\n<br>DCA Amounts: [Decimal('1'), Decimal('1.6574735684841961')]\n"
          ],
          [
           "\nPair: ALPACA-USDT\n<br>Volume: 10933.109030686199\n<br>PNL: 6.930194426983735\n<br>Close types: {'STOP_LOSS': 9, 'TIME_LIMIT': 1, 'TRAILING_STOP': 33}\n\nConfig:\n<br>Id: 2627\n<br>BB Length: 50\n<br>BB Std: 2.2\n<br>Take profit: None\n<br>Stop loss: 0.01306455728502158\n<br>Time limit: 86400\n<br>DCA Spreads: [Decimal('-0.00001'), Decimal('0.03158287175117166')]\n<br>DCA Amounts: [Decimal('1'), Decimal('2.6868964422828405')]\n"
          ],
          [
           "\nPair: ALPACA-USDT\n<br>Volume: 12117.845272071796\n<br>PNL: 8.136905560179118\n<br>Close types: {'STOP_LOSS': 12, 'TIME_LIMIT': 2, 'TRAILING_STOP': 31}\n\nConfig:\n<br>Id: 2799\n<br>BB Length: 100\n<br>BB Std: 1.4\n<br>Take profit: None\n<br>Stop loss: 0.007473459040009485\n<br>Time limit: 86400\n<br>DCA Spreads: [Decimal('-0.00001'), Decimal('0.025368036960134593')]\n<br>DCA Amounts: [Decimal('1'), Decimal('4.002897818185698')]\n"
          ],
          [
           "\nPair: ALPACA-USDT\n<br>Volume: 13201.411464569295\n<br>PNL: 4.176321365407426\n<br>Close types: {'STOP_LOSS': 13, 'TIME_LIMIT': 1, 'TRAILING_STOP': 27}\n\nConfig:\n<br>Id: 2856\n<br>BB Length: 20\n<br>BB Std: 2.5\n<br>Take profit: None\n<br>Stop loss: 0.010508155583437954\n<br>Time limit: 86400\n<br>DCA Spreads: [Decimal('-0.00001'), Decimal('0.027522119959094753')]\n<br>DCA Amounts: [Decimal('1'), Decimal('2.713037899657186')]\n"
          ],
          [
           "\nPair: ALPACA-USDT\n<br>Volume: 13977.940141611385\n<br>PNL: 13.446858838276372\n<br>Close types: {'STOP_LOSS': 9, 'TIME_LIMIT': 1, 'TRAILING_STOP': 35}\n\nConfig:\n<br>Id: 2891\n<br>BB Length: 200\n<br>BB Std: 1.5\n<br>Take profit: None\n<br>Stop loss: 0.01494583241211595\n<br>Time limit: 86400\n<br>DCA Spreads: [Decimal('-0.00001'), Decimal('0.01494583241211595')]\n<br>DCA Amounts: [Decimal('1'), Decimal('4.097641641477155')]\n"
          ],
          [
           "\nPair: ALPACA-USDT\n<br>Volume: 12459.61553562098\n<br>PNL: 3.5111820945759775\n<br>Close types: {'STOP_LOSS': 12, 'TIME_LIMIT': 2, 'TRAILING_STOP': 51}\n\nConfig:\n<br>Id: 2945\n<br>BB Length: 50\n<br>BB Std: 2.0\n<br>Take profit: None\n<br>Stop loss: 0.007799671592775008\n<br>Time limit: 86400\n<br>DCA Spreads: [Decimal('-0.00001'), Decimal('0.024812226686423872')]\n<br>DCA Amounts: [Decimal('1'), Decimal('5.6958313967081455')]\n"
          ]
         ],
         "hovertemplate": "trading_pair=ALPACA-USDT<br>total_volume=%{x}<br>net_pnl_quote=%{y}<br>sharpe_ratio=%{marker.size}<br>custom_hover_text=%{customdata[0]}<extra></extra>",
         "legendgroup": "ALPACA-USDT",
         "marker": {
          "color": "#AB63FA",
          "size": [
           1.6226671594087458,
           0.887921217274848,
           0.9208206283486722,
           0.18975549228595084,
           0.07442569048080018,
           0.25638223911398356,
           0.16682475970107716,
           1.405080409700243,
           0.9696893688963456,
           0.6835897289453606,
           0.7804438428950703,
           1.0240920307430381,
           0.25655609521757455,
           0.5838709780807435,
           1.6162030119956485,
           0.5802181576352027,
           0.4073358700651655,
           0.8728831406288664,
           1.125703832611036,
           0.36943449025040304,
           0.5883299453996073,
           1.1909091239551581,
           1.5592770678523735,
           0.08206630620687028
          ],
          "sizemode": "area",
          "sizeref": 0.009168875998020496,
          "symbol": "circle"
         },
         "mode": "markers",
         "name": "ALPACA-USDT",
         "orientation": "v",
         "showlegend": true,
         "type": "scatter",
         "x": [
          15308.602893618367,
          23256.69355514876,
          13522.715141291463,
          16959.071291527584,
          12583.984249137788,
          11941.995288013764,
          16114.299847282424,
          13974.244009317928,
          15957.836355524723,
          42952.76811407251,
          11427.084917091546,
          22444.694417167106,
          12808.658323555142,
          41527.36014796331,
          15198.179560356319,
          12789.764293233513,
          10056.881224201537,
          11566.29520390124,
          11038.231966242285,
          10933.109030686199,
          12117.845272071796,
          13201.411464569295,
          13977.940141611385,
          12459.61553562098
         ],
         "xaxis": "x",
         "y": [
          21.624476550290176,
          1.4089436233560566,
          9.242210194822244,
          12.669675565084468,
          7.59856481669292,
          7.557570558662728,
          1.8271569196543533,
          6.58251532758768,
          6.311694969692483,
          24.015033028477344,
          15.766124534920728,
          26.9460443757292,
          3.975829556122354,
          5.965229840279355,
          7.311691505982634,
          5.839880657989984,
          2.927468824986124,
          37.78331291170869,
          25.257722962609517,
          6.930194426983735,
          8.136905560179118,
          4.176321365407426,
          13.446858838276372,
          3.5111820945759775
         ],
         "yaxis": "y"
        },
        {
         "customdata": [
          [
           "\nPair: NMR-USDT\n<br>Volume: 15663.968087848245\n<br>PNL: 0.8937691610033045\n<br>Close types: {'STOP_LOSS': 14, 'TIME_LIMIT': 1, 'TRAILING_STOP': 51}\n\nConfig:\n<br>Id: 77\n<br>BB Length: 50\n<br>BB Std: 2.2\n<br>Take profit: None\n<br>Stop loss: 0.006330783434450019\n<br>Time limit: 86400\n<br>DCA Spreads: [Decimal('-0.00001'), Decimal('0.014050711913778253')]\n<br>DCA Amounts: [Decimal('1'), Decimal('4.380704924939992')]\n"
          ],
          [
           "\nPair: NMR-USDT\n<br>Volume: 17830.45271109227\n<br>PNL: 2.9063284065836466\n<br>Close types: {'STOP_LOSS': 15, 'TIME_LIMIT': 1, 'TRAILING_STOP': 38}\n\nConfig:\n<br>Id: 628\n<br>BB Length: 100\n<br>BB Std: 1.8\n<br>Take profit: None\n<br>Stop loss: 0.006287830790438285\n<br>Time limit: 86400\n<br>DCA Spreads: [Decimal('-0.00001'), Decimal('0.014835410765013532')]\n<br>DCA Amounts: [Decimal('1'), Decimal('1.6499207646065939')]\n"
          ],
          [
           "\nPair: NMR-USDT\n<br>Volume: 37880.9901127942\n<br>PNL: 8.758611495202555\n<br>Close types: {'STOP_LOSS': 25, 'TIME_LIMIT': 1, 'TRAILING_STOP': 108}\n\nConfig:\n<br>Id: 1993\n<br>BB Length: 50\n<br>BB Std: 1.4\n<br>Take profit: None\n<br>Stop loss: 0.00496571293449986\n<br>Time limit: 86400\n<br>DCA Spreads: [Decimal('-0.00001'), Decimal('0.01030251328827351')]\n<br>DCA Amounts: [Decimal('1'), Decimal('1.9083088171557745')]\n"
          ],
          [
           "\nPair: NMR-USDT\n<br>Volume: 21324.981954671235\n<br>PNL: 6.969278471098355\n<br>Close types: {'STOP_LOSS': 15, 'TIME_LIMIT': 1, 'TRAILING_STOP': 49}\n\nConfig:\n<br>Id: 2842\n<br>BB Length: 50\n<br>BB Std: 2.2\n<br>Take profit: None\n<br>Stop loss: 0.006330783434450019\n<br>Time limit: 86400\n<br>DCA Spreads: [Decimal('-0.00001'), Decimal('0.014050711913778253')]\n<br>DCA Amounts: [Decimal('1'), Decimal('1.5074665456766043')]\n"
          ]
         ],
         "hovertemplate": "trading_pair=NMR-USDT<br>total_volume=%{x}<br>net_pnl_quote=%{y}<br>sharpe_ratio=%{marker.size}<br>custom_hover_text=%{customdata[0]}<extra></extra>",
         "legendgroup": "NMR-USDT",
         "marker": {
          "color": "#FFA15A",
          "size": [
           0.6009174230824778,
           0.7842375962153888,
           0.672652638451568,
           0.8350404829325845
          ],
          "sizemode": "area",
          "sizeref": 0.009168875998020496,
          "symbol": "circle"
         },
         "mode": "markers",
         "name": "NMR-USDT",
         "orientation": "v",
         "showlegend": true,
         "type": "scatter",
         "x": [
          15663.968087848245,
          17830.45271109227,
          37880.9901127942,
          21324.981954671235
         ],
         "xaxis": "x",
         "y": [
          0.8937691610033045,
          2.9063284065836466,
          8.758611495202555,
          6.969278471098355
         ],
         "yaxis": "y"
        },
        {
         "customdata": [
          [
           "\nPair: TAO-USDT\n<br>Volume: 38754.725752629\n<br>PNL: 1.5664826717631657\n<br>Close types: {'STOP_LOSS': 30, 'TIME_LIMIT': 1, 'TRAILING_STOP': 91}\n\nConfig:\n<br>Id: 83\n<br>BB Length: 50\n<br>BB Std: 1.4\n<br>Take profit: None\n<br>Stop loss: 0.006018840198749365\n<br>Time limit: 86400\n<br>DCA Spreads: [Decimal('-0.00001'), Decimal('0.015010790479968878')]\n<br>DCA Amounts: [Decimal('1'), Decimal('1.6596352396035794')]\n"
          ],
          [
           "\nPair: TAO-USDT\n<br>Volume: 20429.338840587778\n<br>PNL: 10.67910089962399\n<br>Close types: {'STOP_LOSS': 15, 'TIME_LIMIT': 1, 'TRAILING_STOP': 75}\n\nConfig:\n<br>Id: 915\n<br>BB Length: 50\n<br>BB Std: 1.8\n<br>Take profit: None\n<br>Stop loss: 0.00776302173534012\n<br>Time limit: 86400\n<br>DCA Spreads: [Decimal('-0.00001'), Decimal('0.018443068001114102')]\n<br>DCA Amounts: [Decimal('1'), Decimal('4.3644376434788335')]\n"
          ],
          [
           "\nPair: TAO-USDT\n<br>Volume: 10689.092592770983\n<br>PNL: 1.5287806688242997\n<br>Close types: {'STOP_LOSS': 8, 'TIME_LIMIT': 1, 'TRAILING_STOP': 35}\n\nConfig:\n<br>Id: 2446\n<br>BB Length: 100\n<br>BB Std: 1.8\n<br>Take profit: None\n<br>Stop loss: 0.011414699346316759\n<br>Time limit: 86400\n<br>DCA Spreads: [Decimal('-0.00001'), Decimal('0.027617553573879197')]\n<br>DCA Amounts: [Decimal('1'), Decimal('5.438007575991323')]\n"
          ],
          [
           "\nPair: TAO-USDT\n<br>Volume: 27459.30242681891\n<br>PNL: 2.1229840497827386\n<br>Close types: {'STOP_LOSS': 20, 'TIME_LIMIT': 1, 'TRAILING_STOP': 70}\n\nConfig:\n<br>Id: 2671\n<br>BB Length: 50\n<br>BB Std: 1.8\n<br>Take profit: None\n<br>Stop loss: 0.00776302173534012\n<br>Time limit: 86400\n<br>DCA Spreads: [Decimal('-0.00001'), Decimal('0.018443068001114102')]\n<br>DCA Amounts: [Decimal('1'), Decimal('1.7556223963959203')]\n"
          ]
         ],
         "hovertemplate": "trading_pair=TAO-USDT<br>total_volume=%{x}<br>net_pnl_quote=%{y}<br>sharpe_ratio=%{marker.size}<br>custom_hover_text=%{customdata[0]}<extra></extra>",
         "legendgroup": "TAO-USDT",
         "marker": {
          "color": "#19D3F3",
          "size": [
           0.7378864257989689,
           1.8077951971389912,
           0.48022183293608495,
           0.948815773851983
          ],
          "sizemode": "area",
          "sizeref": 0.009168875998020496,
          "symbol": "circle"
         },
         "mode": "markers",
         "name": "TAO-USDT",
         "orientation": "v",
         "showlegend": true,
         "type": "scatter",
         "x": [
          38754.725752629,
          20429.338840587778,
          10689.092592770983,
          27459.30242681891
         ],
         "xaxis": "x",
         "y": [
          1.5664826717631657,
          10.67910089962399,
          1.5287806688242997,
          2.1229840497827386
         ],
         "yaxis": "y"
        },
        {
         "customdata": [
          [
           "\nPair: LDO-USDT\n<br>Volume: 10408.944535794137\n<br>PNL: 11.137013531285744\n<br>Close types: {'STOP_LOSS': 8, 'TIME_LIMIT': 2, 'TRAILING_STOP': 37}\n\nConfig:\n<br>Id: 90\n<br>BB Length: 100\n<br>BB Std: 1.8\n<br>Take profit: None\n<br>Stop loss: 0.007079194633912661\n<br>Time limit: 86400\n<br>DCA Spreads: [Decimal('-0.00001'), Decimal('0.018484425307592034')]\n<br>DCA Amounts: [Decimal('1'), Decimal('4.0352187059212685')]\n"
          ],
          [
           "\nPair: LDO-USDT\n<br>Volume: 18581.546810362506\n<br>PNL: 10.306542845584593\n<br>Close types: {'STOP_LOSS': 11, 'TIME_LIMIT': 1, 'TRAILING_STOP': 60}\n\nConfig:\n<br>Id: 274\n<br>BB Length: 50\n<br>BB Std: 2.2\n<br>Take profit: None\n<br>Stop loss: 0.006032438723624474\n<br>Time limit: 86400\n<br>DCA Spreads: [Decimal('-0.00001'), Decimal('0.016724281279221775')]\n<br>DCA Amounts: [Decimal('1'), Decimal('2.283387868424953')]\n"
          ],
          [
           "\nPair: LDO-USDT\n<br>Volume: 13731.77370295248\n<br>PNL: 10.640698371767357\n<br>Close types: {'STOP_LOSS': 11, 'TIME_LIMIT': 1, 'TRAILING_STOP': 25}\n\nConfig:\n<br>Id: 598\n<br>BB Length: 200\n<br>BB Std: 1.4\n<br>Take profit: None\n<br>Stop loss: 0.010055956532316897\n<br>Time limit: 86400\n<br>DCA Spreads: [Decimal('-0.00001'), Decimal('0.010055956532316897')]\n<br>DCA Amounts: [Decimal('1'), Decimal('3.631667295297609')]\n"
          ],
          [
           "\nPair: LDO-USDT\n<br>Volume: 11890.177228343724\n<br>PNL: 1.044842303857055\n<br>Close types: {'STOP_LOSS': 10, 'TIME_LIMIT': 1, 'TRAILING_STOP': 49}\n\nConfig:\n<br>Id: 740\n<br>BB Length: 100\n<br>BB Std: 1.8\n<br>Take profit: None\n<br>Stop loss: 0.007079194633912661\n<br>Time limit: 86400\n<br>DCA Spreads: [Decimal('-0.00001'), Decimal('0.018484425307592034')]\n<br>DCA Amounts: [Decimal('1'), Decimal('4.5574697653758385')]\n"
          ],
          [
           "\nPair: LDO-USDT\n<br>Volume: 11044.250461538419\n<br>PNL: 3.1219158541865544\n<br>Close types: {'STOP_LOSS': 8, 'TIME_LIMIT': 1, 'TRAILING_STOP': 20}\n\nConfig:\n<br>Id: 759\n<br>BB Length: 200\n<br>BB Std: 1.8\n<br>Take profit: None\n<br>Stop loss: 0.013434089000839642\n<br>Time limit: 86400\n<br>DCA Spreads: [Decimal('-0.00001'), Decimal('0.013434089000839642')]\n<br>DCA Amounts: [Decimal('1'), Decimal('1.65331307157289')]\n"
          ],
          [
           "\nPair: LDO-USDT\n<br>Volume: 15907.43176739107\n<br>PNL: 7.619200489894297\n<br>Close types: {'STOP_LOSS': 12, 'TIME_LIMIT': 1, 'TRAILING_STOP': 30}\n\nConfig:\n<br>Id: 914\n<br>BB Length: 100\n<br>BB Std: 2.2\n<br>Take profit: None\n<br>Stop loss: 0.010386723838529684\n<br>Time limit: 86400\n<br>DCA Spreads: [Decimal('-0.00001'), Decimal('0.010386723838529684')]\n<br>DCA Amounts: [Decimal('1'), Decimal('1.432163004390464')]\n"
          ],
          [
           "\nPair: LDO-USDT\n<br>Volume: 11616.602959350354\n<br>PNL: 3.7359682023860246\n<br>Close types: {'STOP_LOSS': 10, 'TIME_LIMIT': 2, 'TRAILING_STOP': 48}\n\nConfig:\n<br>Id: 1531\n<br>BB Length: 100\n<br>BB Std: 1.4\n<br>Take profit: None\n<br>Stop loss: 0.007288070579209698\n<br>Time limit: 86400\n<br>DCA Spreads: [Decimal('-0.00001'), Decimal('0.016939443535188167')]\n<br>DCA Amounts: [Decimal('1'), Decimal('6.388769620615733')]\n"
          ],
          [
           "\nPair: LDO-USDT\n<br>Volume: 17729.049721692714\n<br>PNL: 3.49649569796001\n<br>Close types: {'STOP_LOSS': 11, 'TIME_LIMIT': 1, 'TRAILING_STOP': 48}\n\nConfig:\n<br>Id: 1709\n<br>BB Length: 100\n<br>BB Std: 1.8\n<br>Take profit: None\n<br>Stop loss: 0.007079194633912661\n<br>Time limit: 86400\n<br>DCA Spreads: [Decimal('-0.00001'), Decimal('0.018484425307592034')]\n<br>DCA Amounts: [Decimal('1'), Decimal('1.6417349850359275')]\n"
          ],
          [
           "\nPair: LDO-USDT\n<br>Volume: 12026.277062424364\n<br>PNL: 6.064197007070262\n<br>Close types: {'STOP_LOSS': 11, 'TIME_LIMIT': 2, 'TRAILING_STOP': 43}\n\nConfig:\n<br>Id: 1728\n<br>BB Length: 50\n<br>BB Std: 2.2\n<br>Take profit: None\n<br>Stop loss: 0.006032438723624474\n<br>Time limit: 86400\n<br>DCA Spreads: [Decimal('-0.00001'), Decimal('0.016724281279221775')]\n<br>DCA Amounts: [Decimal('1'), Decimal('5.104663659982593')]\n"
          ],
          [
           "\nPair: LDO-USDT\n<br>Volume: 32327.39804577733\n<br>PNL: 1.8942042782642123\n<br>Close types: {'STOP_LOSS': 23, 'TIME_LIMIT': 2, 'TRAILING_STOP': 75}\n\nConfig:\n<br>Id: 1875\n<br>BB Length: 50\n<br>BB Std: 1.8\n<br>Take profit: None\n<br>Stop loss: 0.004862221435351389\n<br>Time limit: 86400\n<br>DCA Spreads: [Decimal('-0.00001'), Decimal('0.012195186238914843')]\n<br>DCA Amounts: [Decimal('1'), Decimal('1.4936043305082265')]\n"
          ],
          [
           "\nPair: LDO-USDT\n<br>Volume: 20571.67572508195\n<br>PNL: 1.2691033433084298\n<br>Close types: {'STOP_LOSS': 22, 'TIME_LIMIT': 2, 'TRAILING_STOP': 58}\n\nConfig:\n<br>Id: 2951\n<br>BB Length: 50\n<br>BB Std: 1.4\n<br>Take profit: None\n<br>Stop loss: 0.0046335299073292655\n<br>Time limit: 86400\n<br>DCA Spreads: [Decimal('-0.00001'), Decimal('0.011502994581233956')]\n<br>DCA Amounts: [Decimal('1'), Decimal('5.758284702779193')]\n"
          ]
         ],
         "hovertemplate": "trading_pair=LDO-USDT<br>total_volume=%{x}<br>net_pnl_quote=%{y}<br>sharpe_ratio=%{marker.size}<br>custom_hover_text=%{customdata[0]}<extra></extra>",
         "legendgroup": "LDO-USDT",
         "marker": {
          "color": "#FF6692",
          "size": [
           1.5198142409727105,
           1.0384104547405768,
           1.5374046373454058,
           1.215081630861267,
           1.1183287164655427,
           1.0367616792939234,
           0.7400916409209491,
           0.813387945710572,
           1.2790797395985365,
           0.21912695874854204,
           0.4962816149394148
          ],
          "sizemode": "area",
          "sizeref": 0.009168875998020496,
          "symbol": "circle"
         },
         "mode": "markers",
         "name": "LDO-USDT",
         "orientation": "v",
         "showlegend": true,
         "type": "scatter",
         "x": [
          10408.944535794137,
          18581.546810362506,
          13731.77370295248,
          11890.177228343724,
          11044.250461538419,
          15907.43176739107,
          11616.602959350354,
          17729.049721692714,
          12026.277062424364,
          32327.39804577733,
          20571.67572508195
         ],
         "xaxis": "x",
         "y": [
          11.137013531285744,
          10.306542845584593,
          10.640698371767357,
          1.044842303857055,
          3.1219158541865544,
          7.619200489894297,
          3.7359682023860246,
          3.49649569796001,
          6.064197007070262,
          1.8942042782642123,
          1.2691033433084298
         ],
         "yaxis": "y"
        },
        {
         "customdata": [
          [
           "\nPair: FTM-USDT\n<br>Volume: 24582.671190518806\n<br>PNL: 0.2433974777981654\n<br>Close types: {'STOP_LOSS': 20, 'TIME_LIMIT': 1, 'TRAILING_STOP': 90}\n\nConfig:\n<br>Id: 91\n<br>BB Length: 50\n<br>BB Std: 1.4\n<br>Take profit: None\n<br>Stop loss: 0.006479981485767112\n<br>Time limit: 86400\n<br>DCA Spreads: [Decimal('-0.00001'), Decimal('0.014806110458284437')]\n<br>DCA Amounts: [Decimal('1'), Decimal('5.398831298522359')]\n"
          ]
         ],
         "hovertemplate": "trading_pair=FTM-USDT<br>total_volume=%{x}<br>net_pnl_quote=%{y}<br>sharpe_ratio=%{marker.size}<br>custom_hover_text=%{customdata[0]}<extra></extra>",
         "legendgroup": "FTM-USDT",
         "marker": {
          "color": "#B6E880",
          "size": [
           0.7745985504623467
          ],
          "sizemode": "area",
          "sizeref": 0.009168875998020496,
          "symbol": "circle"
         },
         "mode": "markers",
         "name": "FTM-USDT",
         "orientation": "v",
         "showlegend": true,
         "type": "scatter",
         "x": [
          24582.671190518806
         ],
         "xaxis": "x",
         "y": [
          0.2433974777981654
         ],
         "yaxis": "y"
        },
        {
         "customdata": [
          [
           "\nPair: TRB-USDT\n<br>Volume: 17156.770503821408\n<br>PNL: 4.712105276197316\n<br>Close types: {'STOP_LOSS': 15, 'TIME_LIMIT': 1, 'TRAILING_STOP': 51}\n\nConfig:\n<br>Id: 94\n<br>BB Length: 50\n<br>BB Std: 1.8\n<br>Take profit: None\n<br>Stop loss: 0.00725835615022986\n<br>Time limit: 86400\n<br>DCA Spreads: [Decimal('-0.00001'), Decimal('0.01583151436604515')]\n<br>DCA Amounts: [Decimal('1'), Decimal('5.823746783879347')]\n"
          ]
         ],
         "hovertemplate": "trading_pair=TRB-USDT<br>total_volume=%{x}<br>net_pnl_quote=%{y}<br>sharpe_ratio=%{marker.size}<br>custom_hover_text=%{customdata[0]}<extra></extra>",
         "legendgroup": "TRB-USDT",
         "marker": {
          "color": "#FF97FF",
          "size": [
           0.5148016224390887
          ],
          "sizemode": "area",
          "sizeref": 0.009168875998020496,
          "symbol": "circle"
         },
         "mode": "markers",
         "name": "TRB-USDT",
         "orientation": "v",
         "showlegend": true,
         "type": "scatter",
         "x": [
          17156.770503821408
         ],
         "xaxis": "x",
         "y": [
          4.712105276197316
         ],
         "yaxis": "y"
        },
        {
         "customdata": [
          [
           "\nPair: STRK-USDT\n<br>Volume: 12874.129490970745\n<br>PNL: 1.1272320893667462\n<br>Close types: {'STOP_LOSS': 13, 'TIME_LIMIT': 1, 'TRAILING_STOP': 49}\n\nConfig:\n<br>Id: 102\n<br>BB Length: 100\n<br>BB Std: 1.4\n<br>Take profit: None\n<br>Stop loss: 0.006617038875103428\n<br>Time limit: 86400\n<br>DCA Spreads: [Decimal('-0.00001'), Decimal('0.01940064495706878')]\n<br>DCA Amounts: [Decimal('1'), Decimal('7.612976388920707')]\n"
          ],
          [
           "\nPair: STRK-USDT\n<br>Volume: 23095.859870533972\n<br>PNL: 3.989261487017693\n<br>Close types: {'STOP_LOSS': 18, 'TIME_LIMIT': 1, 'TRAILING_STOP': 59}\n\nConfig:\n<br>Id: 685\n<br>BB Length: 50\n<br>BB Std: 1.8\n<br>Take profit: None\n<br>Stop loss: 0.005927180355630795\n<br>Time limit: 86400\n<br>DCA Spreads: [Decimal('-0.00001'), Decimal('0.014269725797425836')]\n<br>DCA Amounts: [Decimal('1'), Decimal('2.2584276487925417')]\n"
          ],
          [
           "\nPair: STRK-USDT\n<br>Volume: 10941.010496841573\n<br>PNL: 0.544038363567123\n<br>Close types: {'STOP_LOSS': 12, 'TIME_LIMIT': 1, 'TRAILING_STOP': 38}\n\nConfig:\n<br>Id: 1698\n<br>BB Length: 100\n<br>BB Std: 1.4\n<br>Take profit: None\n<br>Stop loss: 0.006617038875103428\n<br>Time limit: 86400\n<br>DCA Spreads: [Decimal('-0.00001'), Decimal('0.01940064495706878')]\n<br>DCA Amounts: [Decimal('1'), Decimal('7.7366817364958465')]\n"
          ]
         ],
         "hovertemplate": "trading_pair=STRK-USDT<br>total_volume=%{x}<br>net_pnl_quote=%{y}<br>sharpe_ratio=%{marker.size}<br>custom_hover_text=%{customdata[0]}<extra></extra>",
         "legendgroup": "STRK-USDT",
         "marker": {
          "color": "#FECB52",
          "size": [
           0.8439931627074344,
           0.8917504902039014,
           0.7034838744488635
          ],
          "sizemode": "area",
          "sizeref": 0.009168875998020496,
          "symbol": "circle"
         },
         "mode": "markers",
         "name": "STRK-USDT",
         "orientation": "v",
         "showlegend": true,
         "type": "scatter",
         "x": [
          12874.129490970745,
          23095.859870533972,
          10941.010496841573
         ],
         "xaxis": "x",
         "y": [
          1.1272320893667462,
          3.989261487017693,
          0.544038363567123
         ],
         "yaxis": "y"
        },
        {
         "customdata": [
          [
           "\nPair: CKB-USDT\n<br>Volume: 12896.319418721698\n<br>PNL: 6.385974463802462\n<br>Close types: {'STOP_LOSS': 13, 'TIME_LIMIT': 1, 'TRAILING_STOP': 36}\n\nConfig:\n<br>Id: 105\n<br>BB Length: 50\n<br>BB Std: 2.2\n<br>Take profit: None\n<br>Stop loss: 0.005549523464832811\n<br>Time limit: 86400\n<br>DCA Spreads: [Decimal('-0.00001'), Decimal('0.016743054905995567')]\n<br>DCA Amounts: [Decimal('1'), Decimal('3.8039291670565696')]\n"
          ],
          [
           "\nPair: CKB-USDT\n<br>Volume: 37356.43306692359\n<br>PNL: 7.216358391578746\n<br>Close types: {'STOP_LOSS': 27, 'TIME_LIMIT': 1, 'TRAILING_STOP': 98}\n\nConfig:\n<br>Id: 3141\n<br>BB Length: 50\n<br>BB Std: 1.4\n<br>Take profit: None\n<br>Stop loss: 0.005689375150094779\n<br>Time limit: 86400\n<br>DCA Spreads: [Decimal('-0.00001'), Decimal('0.012465857475910384')]\n<br>DCA Amounts: [Decimal('1'), Decimal('1.8076566504429898')]\n"
          ]
         ],
         "hovertemplate": "trading_pair=CKB-USDT<br>total_volume=%{x}<br>net_pnl_quote=%{y}<br>sharpe_ratio=%{marker.size}<br>custom_hover_text=%{customdata[0]}<extra></extra>",
         "legendgroup": "CKB-USDT",
         "marker": {
          "color": "#636EFA",
          "size": [
           0.2771411984351668,
           0.5246276146504079
          ],
          "sizemode": "area",
          "sizeref": 0.009168875998020496,
          "symbol": "circle"
         },
         "mode": "markers",
         "name": "CKB-USDT",
         "orientation": "v",
         "showlegend": true,
         "type": "scatter",
         "x": [
          12896.319418721698,
          37356.43306692359
         ],
         "xaxis": "x",
         "y": [
          6.385974463802462,
          7.216358391578746
         ],
         "yaxis": "y"
        },
        {
         "customdata": [
          [
           "\nPair: SAGA-USDT\n<br>Volume: 10854.12888139542\n<br>PNL: 6.016723420752691\n<br>Close types: {'STOP_LOSS': 8, 'TIME_LIMIT': 1, 'TRAILING_STOP': 42}\n\nConfig:\n<br>Id: 118\n<br>BB Length: 50\n<br>BB Std: 2.2\n<br>Take profit: None\n<br>Stop loss: 0.010442705809794953\n<br>Time limit: 86400\n<br>DCA Spreads: [Decimal('-0.00001'), Decimal('0.02685918697273881')]\n<br>DCA Amounts: [Decimal('1'), Decimal('3.62035286440695')]\n"
          ],
          [
           "\nPair: SAGA-USDT\n<br>Volume: 20192.361395620555\n<br>PNL: 5.151340235858835\n<br>Close types: {'STOP_LOSS': 15, 'TIME_LIMIT': 1, 'TRAILING_STOP': 60}\n\nConfig:\n<br>Id: 522\n<br>BB Length: 50\n<br>BB Std: 1.8\n<br>Take profit: None\n<br>Stop loss: 0.008556593409910888\n<br>Time limit: 86400\n<br>DCA Spreads: [Decimal('-0.00001'), Decimal('0.020995677892943845')]\n<br>DCA Amounts: [Decimal('1'), Decimal('2.542706133058307')]\n"
          ],
          [
           "\nPair: SAGA-USDT\n<br>Volume: 17143.452673258933\n<br>PNL: 12.332309239240221\n<br>Close types: {'STOP_LOSS': 13, 'TIME_LIMIT': 1, 'TRAILING_STOP': 50}\n\nConfig:\n<br>Id: 705\n<br>BB Length: 50\n<br>BB Std: 2.2\n<br>Take profit: None\n<br>Stop loss: 0.010442705809794953\n<br>Time limit: 86400\n<br>DCA Spreads: [Decimal('-0.00001'), Decimal('0.010442705809794953')]\n<br>DCA Amounts: [Decimal('1'), Decimal('5.390339148960627')]\n"
          ],
          [
           "\nPair: SAGA-USDT\n<br>Volume: 23815.911668487497\n<br>PNL: 1.5542786723550839\n<br>Close types: {'STOP_LOSS': 23, 'TIME_LIMIT': 1, 'TRAILING_STOP': 61}\n\nConfig:\n<br>Id: 760\n<br>BB Length: 50\n<br>BB Std: 1.4\n<br>Take profit: None\n<br>Stop loss: 0.006975995720794909\n<br>Time limit: 86400\n<br>DCA Spreads: [Decimal('-0.00001'), Decimal('0.015517501073593024')]\n<br>DCA Amounts: [Decimal('1'), Decimal('3.8746337776189392')]\n"
          ],
          [
           "\nPair: SAGA-USDT\n<br>Volume: 20877.846429858833\n<br>PNL: 15.094874391137317\n<br>Close types: {'STOP_LOSS': 17, 'TIME_LIMIT': 1, 'TRAILING_STOP': 33}\n\nConfig:\n<br>Id: 1822\n<br>BB Length: 50\n<br>BB Std: 2.2\n<br>Take profit: None\n<br>Stop loss: 0.010442705809794953\n<br>Time limit: 86400\n<br>DCA Spreads: [Decimal('-0.00001'), Decimal('0.010442705809794953')]\n<br>DCA Amounts: [Decimal('1'), Decimal('1.5008311288961873')]\n"
          ],
          [
           "\nPair: SAGA-USDT\n<br>Volume: 25037.49188252739\n<br>PNL: 0.20016860650673332\n<br>Close types: {'STOP_LOSS': 22, 'TIME_LIMIT': 1, 'TRAILING_STOP': 82}\n\nConfig:\n<br>Id: 2658\n<br>BB Length: 50\n<br>BB Std: 1.4\n<br>Take profit: None\n<br>Stop loss: 0.006975995720794909\n<br>Time limit: 86400\n<br>DCA Spreads: [Decimal('-0.00001'), Decimal('0.015517501073593024')]\n<br>DCA Amounts: [Decimal('1'), Decimal('5.897096075648699')]\n"
          ]
         ],
         "hovertemplate": "trading_pair=SAGA-USDT<br>total_volume=%{x}<br>net_pnl_quote=%{y}<br>sharpe_ratio=%{marker.size}<br>custom_hover_text=%{customdata[0]}<extra></extra>",
         "legendgroup": "SAGA-USDT",
         "marker": {
          "color": "#EF553B",
          "size": [
           0.5848684589054063,
           0.6631698034562876,
           0.4564280870342095,
           0.36590063934935174,
           0.7190206132023749,
           0.2558621001823479
          ],
          "sizemode": "area",
          "sizeref": 0.009168875998020496,
          "symbol": "circle"
         },
         "mode": "markers",
         "name": "SAGA-USDT",
         "orientation": "v",
         "showlegend": true,
         "type": "scatter",
         "x": [
          10854.12888139542,
          20192.361395620555,
          17143.452673258933,
          23815.911668487497,
          20877.846429858833,
          25037.49188252739
         ],
         "xaxis": "x",
         "y": [
          6.016723420752691,
          5.151340235858835,
          12.332309239240221,
          1.5542786723550839,
          15.094874391137317,
          0.20016860650673332
         ],
         "yaxis": "y"
        },
        {
         "customdata": [
          [
           "\nPair: CHR-USDT\n<br>Volume: 12837.875635288816\n<br>PNL: 2.604779620282828\n<br>Close types: {'STOP_LOSS': 10, 'TIME_LIMIT': 1, 'TRAILING_STOP': 44}\n\nConfig:\n<br>Id: 122\n<br>BB Length: 100\n<br>BB Std: 1.4\n<br>Take profit: None\n<br>Stop loss: 0.010830324909747245\n<br>Time limit: 86400\n<br>DCA Spreads: [Decimal('-0.00001'), Decimal('0.024610564453307317')]\n<br>DCA Amounts: [Decimal('1'), Decimal('6.2269607099695605')]\n"
          ],
          [
           "\nPair: CHR-USDT\n<br>Volume: 25410.047036021922\n<br>PNL: 10.431006325077401\n<br>Close types: {'STOP_LOSS': 21, 'TIME_LIMIT': 1, 'TRAILING_STOP': 50}\n\nConfig:\n<br>Id: 329\n<br>BB Length: 50\n<br>BB Std: 1.8\n<br>Take profit: None\n<br>Stop loss: 0.010530251968940123\n<br>Time limit: 86400\n<br>DCA Spreads: [Decimal('-0.00001'), Decimal('0.010530251968940123')]\n<br>DCA Amounts: [Decimal('1'), Decimal('2.2209548688010208')]\n"
          ],
          [
           "\nPair: CHR-USDT\n<br>Volume: 17091.210954217582\n<br>PNL: 13.770918648626788\n<br>Close types: {'STOP_LOSS': 16, 'TIME_LIMIT': 1, 'TRAILING_STOP': 53}\n\nConfig:\n<br>Id: 1055\n<br>BB Length: 50\n<br>BB Std: 1.4\n<br>Take profit: None\n<br>Stop loss: 0.007419620774938267\n<br>Time limit: 86400\n<br>DCA Spreads: [Decimal('-0.00001'), Decimal('0.017981885508406757')]\n<br>DCA Amounts: [Decimal('1'), Decimal('4.892507749094125')]\n"
          ],
          [
           "\nPair: CHR-USDT\n<br>Volume: 22260.32883554617\n<br>PNL: 1.712124450228529\n<br>Close types: {'STOP_LOSS': 18, 'TIME_LIMIT': 1, 'TRAILING_STOP': 84}\n\nConfig:\n<br>Id: 1278\n<br>BB Length: 50\n<br>BB Std: 1.4\n<br>Take profit: None\n<br>Stop loss: 0.007419620774938267\n<br>Time limit: 86400\n<br>DCA Spreads: [Decimal('-0.00001'), Decimal('0.017981885508406757')]\n<br>DCA Amounts: [Decimal('1'), Decimal('5.445989026126446')]\n"
          ],
          [
           "\nPair: CHR-USDT\n<br>Volume: 10458.898865403944\n<br>PNL: 2.0595844148243194\n<br>Close types: {'STOP_LOSS': 8, 'TIME_LIMIT': 1, 'TRAILING_STOP': 19}\n\nConfig:\n<br>Id: 2483\n<br>BB Length: 200\n<br>BB Std: 1.4\n<br>Take profit: None\n<br>Stop loss: 0.0202939162153144\n<br>Time limit: 86400\n<br>DCA Spreads: [Decimal('-0.00001'), Decimal('0.0202939162153144')]\n<br>DCA Amounts: [Decimal('1'), Decimal('3.079850711050815')]\n"
          ]
         ],
         "hovertemplate": "trading_pair=CHR-USDT<br>total_volume=%{x}<br>net_pnl_quote=%{y}<br>sharpe_ratio=%{marker.size}<br>custom_hover_text=%{customdata[0]}<extra></extra>",
         "legendgroup": "CHR-USDT",
         "marker": {
          "color": "#00CC96",
          "size": [
           0.2726652971140023,
           0.5508526333956387,
           1.3294576520714871,
           0.7190524265680661,
           0.733149932088047
          ],
          "sizemode": "area",
          "sizeref": 0.009168875998020496,
          "symbol": "circle"
         },
         "mode": "markers",
         "name": "CHR-USDT",
         "orientation": "v",
         "showlegend": true,
         "type": "scatter",
         "x": [
          12837.875635288816,
          25410.047036021922,
          17091.210954217582,
          22260.32883554617,
          10458.898865403944
         ],
         "xaxis": "x",
         "y": [
          2.604779620282828,
          10.431006325077401,
          13.770918648626788,
          1.712124450228529,
          2.0595844148243194
         ],
         "yaxis": "y"
        },
        {
         "customdata": [
          [
           "\nPair: IMX-USDT\n<br>Volume: 27310.892148019673\n<br>PNL: 4.32666805264162\n<br>Close types: {'STOP_LOSS': 24, 'TRAILING_STOP': 96}\n\nConfig:\n<br>Id: 128\n<br>BB Length: 50\n<br>BB Std: 1.4\n<br>Take profit: None\n<br>Stop loss: 0.0062936342253250965\n<br>Time limit: 86400\n<br>DCA Spreads: [Decimal('-0.00001'), Decimal('0.01413849332154855')]\n<br>DCA Amounts: [Decimal('1'), Decimal('5.949906744934833')]\n"
          ]
         ],
         "hovertemplate": "trading_pair=IMX-USDT<br>total_volume=%{x}<br>net_pnl_quote=%{y}<br>sharpe_ratio=%{marker.size}<br>custom_hover_text=%{customdata[0]}<extra></extra>",
         "legendgroup": "IMX-USDT",
         "marker": {
          "color": "#AB63FA",
          "size": [
           0.8380064848311374
          ],
          "sizemode": "area",
          "sizeref": 0.009168875998020496,
          "symbol": "circle"
         },
         "mode": "markers",
         "name": "IMX-USDT",
         "orientation": "v",
         "showlegend": true,
         "type": "scatter",
         "x": [
          27310.892148019673
         ],
         "xaxis": "x",
         "y": [
          4.32666805264162
         ],
         "yaxis": "y"
        },
        {
         "customdata": [
          [
           "\nPair: MEME-USDT\n<br>Volume: 13990.83379940678\n<br>PNL: 0.21122592696369108\n<br>Close types: {'STOP_LOSS': 11, 'TIME_LIMIT': 2, 'TRAILING_STOP': 53}\n\nConfig:\n<br>Id: 142\n<br>BB Length: 50\n<br>BB Std: 2.2\n<br>Take profit: None\n<br>Stop loss: 0.006465899139627413\n<br>Time limit: 86400\n<br>DCA Spreads: [Decimal('-0.00001'), Decimal('0.012713807761000845')]\n<br>DCA Amounts: [Decimal('1'), Decimal('4.136626346365032')]\n"
          ],
          [
           "\nPair: MEME-USDT\n<br>Volume: 24750.81248434\n<br>PNL: 0.37241066928950733\n<br>Close types: {'STOP_LOSS': 21, 'TIME_LIMIT': 2, 'TRAILING_STOP': 71}\n\nConfig:\n<br>Id: 156\n<br>BB Length: 50\n<br>BB Std: 1.4\n<br>Take profit: None\n<br>Stop loss: 0.005821945500121222\n<br>Time limit: 86400\n<br>DCA Spreads: [Decimal('-0.00001'), Decimal('0.01054346784242315')]\n<br>DCA Amounts: [Decimal('1'), Decimal('3.980623059340986')]\n"
          ],
          [
           "\nPair: MEME-USDT\n<br>Volume: 12132.914694848816\n<br>PNL: 1.5311638950324462\n<br>Close types: {'STOP_LOSS': 8, 'TIME_LIMIT': 1, 'TRAILING_STOP': 28}\n\nConfig:\n<br>Id: 622\n<br>BB Length: 100\n<br>BB Std: 2.2\n<br>Take profit: None\n<br>Stop loss: 0.011064259225134803\n<br>Time limit: 86400\n<br>DCA Spreads: [Decimal('-0.00001'), Decimal('0.011064259225134803')]\n<br>DCA Amounts: [Decimal('1'), Decimal('5.208240866490275')]\n"
          ],
          [
           "\nPair: MEME-USDT\n<br>Volume: 16809.656113642282\n<br>PNL: 10.614449919887873\n<br>Close types: {'STOP_LOSS': 13, 'TIME_LIMIT': 2, 'TRAILING_STOP': 37}\n\nConfig:\n<br>Id: 631\n<br>BB Length: 50\n<br>BB Std: 2.2\n<br>Take profit: None\n<br>Stop loss: 0.006465899139627413\n<br>Time limit: 86400\n<br>DCA Spreads: [Decimal('-0.00001'), Decimal('0.012713807761000845')]\n<br>DCA Amounts: [Decimal('1'), Decimal('1.7111691241468794')]\n"
          ],
          [
           "\nPair: MEME-USDT\n<br>Volume: 13491.621821826808\n<br>PNL: 1.050099426189827\n<br>Close types: {'STOP_LOSS': 13, 'TIME_LIMIT': 1, 'TRAILING_STOP': 40}\n\nConfig:\n<br>Id: 2919\n<br>BB Length: 100\n<br>BB Std: 1.4\n<br>Take profit: None\n<br>Stop loss: 0.006319326995086727\n<br>Time limit: 86400\n<br>DCA Spreads: [Decimal('-0.00001'), Decimal('0.015231958307715378')]\n<br>DCA Amounts: [Decimal('1'), Decimal('4.858739888887047')]\n"
          ]
         ],
         "hovertemplate": "trading_pair=MEME-USDT<br>total_volume=%{x}<br>net_pnl_quote=%{y}<br>sharpe_ratio=%{marker.size}<br>custom_hover_text=%{customdata[0]}<extra></extra>",
         "legendgroup": "MEME-USDT",
         "marker": {
          "color": "#FFA15A",
          "size": [
           0.7012253890703749,
           0.024431594906223562,
           0.7921108060131752,
           1.2372738259585547,
           0.8375154571687558
          ],
          "sizemode": "area",
          "sizeref": 0.009168875998020496,
          "symbol": "circle"
         },
         "mode": "markers",
         "name": "MEME-USDT",
         "orientation": "v",
         "showlegend": true,
         "type": "scatter",
         "x": [
          13990.83379940678,
          24750.81248434,
          12132.914694848816,
          16809.656113642282,
          13491.621821826808
         ],
         "xaxis": "x",
         "y": [
          0.21122592696369108,
          0.37241066928950733,
          1.5311638950324462,
          10.614449919887873,
          1.050099426189827
         ],
         "yaxis": "y"
        },
        {
         "customdata": [
          [
           "\nPair: MBOX-USDT\n<br>Volume: 11759.67663540891\n<br>PNL: 1.802679655108345\n<br>Close types: {'STOP_LOSS': 10, 'TIME_LIMIT': 1, 'TRAILING_STOP': 27}\n\nConfig:\n<br>Id: 154\n<br>BB Length: 50\n<br>BB Std: 2.2\n<br>Take profit: None\n<br>Stop loss: 0.016590389016018225\n<br>Time limit: 86400\n<br>DCA Spreads: [Decimal('-0.00001'), Decimal('0.016590389016018225')]\n<br>DCA Amounts: [Decimal('1'), Decimal('2.7881881227028456')]\n"
          ],
          [
           "\nPair: MBOX-USDT\n<br>Volume: 13512.630779224448\n<br>PNL: 26.556157855364805\n<br>Close types: {'STOP_LOSS': 11, 'TIME_LIMIT': 1, 'TRAILING_STOP': 27}\n\nConfig:\n<br>Id: 1439\n<br>BB Length: 50\n<br>BB Std: 1.8\n<br>Take profit: None\n<br>Stop loss: 0.01625135427952331\n<br>Time limit: 86400\n<br>DCA Spreads: [Decimal('-0.00001'), Decimal('0.01625135427952331')]\n<br>DCA Amounts: [Decimal('1'), Decimal('4.680121731637947')]\n"
          ],
          [
           "\nPair: MBOX-USDT\n<br>Volume: 10179.02727218429\n<br>PNL: 13.965459944195437\n<br>Close types: {'STOP_LOSS': 7, 'TIME_LIMIT': 1, 'TRAILING_STOP': 36}\n\nConfig:\n<br>Id: 1892\n<br>BB Length: 50\n<br>BB Std: 2.0\n<br>Take profit: None\n<br>Stop loss: 0.015348288075560752\n<br>Time limit: 86400\n<br>DCA Spreads: [Decimal('-0.00001'), Decimal('0.030117167666094638')]\n<br>DCA Amounts: [Decimal('1'), Decimal('5.445056807392745')]\n"
          ],
          [
           "\nPair: MBOX-USDT\n<br>Volume: 11980.24468875381\n<br>PNL: 3.6264442612200307\n<br>Close types: {'STOP_LOSS': 12, 'TIME_LIMIT': 1, 'TRAILING_STOP': 20}\n\nConfig:\n<br>Id: 2575\n<br>BB Length: 50\n<br>BB Std: 2.0\n<br>Take profit: None\n<br>Stop loss: 0.015348288075560752\n<br>Time limit: 86400\n<br>DCA Spreads: [Decimal('-0.00001'), Decimal('0.015348288075560752')]\n<br>DCA Amounts: [Decimal('1'), Decimal('3.2852737150062783')]\n"
          ],
          [
           "\nPair: MBOX-USDT\n<br>Volume: 14980.528537162812\n<br>PNL: 1.0751513186327721\n<br>Close types: {'STOP_LOSS': 12, 'TIME_LIMIT': 1, 'TRAILING_STOP': 43}\n\nConfig:\n<br>Id: 2857\n<br>BB Length: 50\n<br>BB Std: 1.5\n<br>Take profit: None\n<br>Stop loss: 0.009351256575102223\n<br>Time limit: 86400\n<br>DCA Spreads: [Decimal('-0.00001'), Decimal('0.025634942229713933')]\n<br>DCA Amounts: [Decimal('1'), Decimal('2.3930856848481943')]\n"
          ],
          [
           "\nPair: MBOX-USDT\n<br>Volume: 30085.310072408636\n<br>PNL: 12.610181765118433\n<br>Close types: {'STOP_LOSS': 27, 'TIME_LIMIT': 2, 'TRAILING_STOP': 89}\n\nConfig:\n<br>Id: 2933\n<br>BB Length: 20\n<br>BB Std: 1.5\n<br>Take profit: None\n<br>Stop loss: 0.005650393703021291\n<br>Time limit: 86400\n<br>DCA Spreads: [Decimal('-0.00001'), Decimal('0.012935499940133044')]\n<br>DCA Amounts: [Decimal('1'), Decimal('3.0646397943055126')]\n"
          ]
         ],
         "hovertemplate": "trading_pair=MBOX-USDT<br>total_volume=%{x}<br>net_pnl_quote=%{y}<br>sharpe_ratio=%{marker.size}<br>custom_hover_text=%{customdata[0]}<extra></extra>",
         "legendgroup": "MBOX-USDT",
         "marker": {
          "color": "#19D3F3",
          "size": [
           1.4633257113108276,
           1.7642305706063564,
           1.1975459577437522,
           1.6308093554427043,
           0.7396483495063683,
           0.3077001193903537
          ],
          "sizemode": "area",
          "sizeref": 0.009168875998020496,
          "symbol": "circle"
         },
         "mode": "markers",
         "name": "MBOX-USDT",
         "orientation": "v",
         "showlegend": true,
         "type": "scatter",
         "x": [
          11759.67663540891,
          13512.630779224448,
          10179.02727218429,
          11980.24468875381,
          14980.528537162812,
          30085.310072408636
         ],
         "xaxis": "x",
         "y": [
          1.802679655108345,
          26.556157855364805,
          13.965459944195437,
          3.6264442612200307,
          1.0751513186327721,
          12.610181765118433
         ],
         "yaxis": "y"
        },
        {
         "customdata": [
          [
           "\nPair: TURBO-USDT\n<br>Volume: 11845.93489923898\n<br>PNL: 16.560860248244992\n<br>Close types: {'STOP_LOSS': 10, 'TIME_LIMIT': 1, 'TRAILING_STOP': 14}\n\nConfig:\n<br>Id: 157\n<br>BB Length: 100\n<br>BB Std: 2.2\n<br>Take profit: None\n<br>Stop loss: 0.012138600750386115\n<br>Time limit: 86400\n<br>DCA Spreads: [Decimal('-0.00001'), Decimal('0.012138600750386115')]\n<br>DCA Amounts: [Decimal('1'), Decimal('3.0155462859647457')]\n"
          ],
          [
           "\nPair: TURBO-USDT\n<br>Volume: 10100.38318922196\n<br>PNL: 0.7017388799334133\n<br>Close types: {'STOP_LOSS': 7, 'TIME_LIMIT': 1, 'TRAILING_STOP': 30}\n\nConfig:\n<br>Id: 832\n<br>BB Length: 100\n<br>BB Std: 2.2\n<br>Take profit: None\n<br>Stop loss: 0.012138600750386115\n<br>Time limit: 86400\n<br>DCA Spreads: [Decimal('-0.00001'), Decimal('0.027124773960217126')]\n<br>DCA Amounts: [Decimal('1'), Decimal('2.152337636981954')]\n"
          ],
          [
           "\nPair: TURBO-USDT\n<br>Volume: 11331.927960553137\n<br>PNL: 1.4958509335376242\n<br>Close types: {'STOP_LOSS': 9, 'TIME_LIMIT': 1, 'TRAILING_STOP': 23}\n\nConfig:\n<br>Id: 1166\n<br>BB Length: 200\n<br>BB Std: 1.4\n<br>Take profit: None\n<br>Stop loss: 0.014601769911504445\n<br>Time limit: 86400\n<br>DCA Spreads: [Decimal('-0.00001'), Decimal('0.014601769911504445')]\n<br>DCA Amounts: [Decimal('1'), Decimal('7.481105100812943')]\n"
          ],
          [
           "\nPair: TURBO-USDT\n<br>Volume: 15683.187335074328\n<br>PNL: 0.05822643441792527\n<br>Close types: {'STOP_LOSS': 12, 'TIME_LIMIT': 2, 'TRAILING_STOP': 59}\n\nConfig:\n<br>Id: 2997\n<br>BB Length: 50\n<br>BB Std: 2.2\n<br>Take profit: None\n<br>Stop loss: 0.008245569908098526\n<br>Time limit: 86400\n<br>DCA Spreads: [Decimal('-0.00001'), Decimal('0.018984338182992763')]\n<br>DCA Amounts: [Decimal('1'), Decimal('4.207096293315706')]\n"
          ]
         ],
         "hovertemplate": "trading_pair=TURBO-USDT<br>total_volume=%{x}<br>net_pnl_quote=%{y}<br>sharpe_ratio=%{marker.size}<br>custom_hover_text=%{customdata[0]}<extra></extra>",
         "legendgroup": "TURBO-USDT",
         "marker": {
          "color": "#FF6692",
          "size": [
           2.5072522890766913,
           1.1948324668072436,
           0.24746155951222124,
           0.6678225598138685
          ],
          "sizemode": "area",
          "sizeref": 0.009168875998020496,
          "symbol": "circle"
         },
         "mode": "markers",
         "name": "TURBO-USDT",
         "orientation": "v",
         "showlegend": true,
         "type": "scatter",
         "x": [
          11845.93489923898,
          10100.38318922196,
          11331.927960553137,
          15683.187335074328
         ],
         "xaxis": "x",
         "y": [
          16.560860248244992,
          0.7017388799334133,
          1.4958509335376242,
          0.05822643441792527
         ],
         "yaxis": "y"
        },
        {
         "customdata": [
          [
           "\nPair: GMX-USDT\n<br>Volume: 20429.006383934233\n<br>PNL: 11.58890676958228\n<br>Close types: {'STOP_LOSS': 17, 'TIME_LIMIT': 1, 'TRAILING_STOP': 59}\n\nConfig:\n<br>Id: 164\n<br>BB Length: 50\n<br>BB Std: 1.8\n<br>Take profit: None\n<br>Stop loss: 0.005982749128280428\n<br>Time limit: 86400\n<br>DCA Spreads: [Decimal('-0.00001'), Decimal('0.014613962204244439')]\n<br>DCA Amounts: [Decimal('1'), Decimal('3.5649427109843614')]\n"
          ],
          [
           "\nPair: GMX-USDT\n<br>Volume: 16717.127520794984\n<br>PNL: 6.111430479072441\n<br>Close types: {'STOP_LOSS': 12, 'TRAILING_STOP': 57}\n\nConfig:\n<br>Id: 1025\n<br>BB Length: 100\n<br>BB Std: 1.4\n<br>Take profit: None\n<br>Stop loss: 0.00775276884601639\n<br>Time limit: 86400\n<br>DCA Spreads: [Decimal('-0.00001'), Decimal('0.023088636283154537')]\n<br>DCA Amounts: [Decimal('1'), Decimal('2.593521251582769')]\n"
          ],
          [
           "\nPair: GMX-USDT\n<br>Volume: 12497.84945142517\n<br>PNL: 5.739078337337324\n<br>Close types: {'STOP_LOSS': 10, 'TRAILING_STOP': 21}\n\nConfig:\n<br>Id: 2465\n<br>BB Length: 100\n<br>BB Std: 2.2\n<br>Take profit: None\n<br>Stop loss: 0.015568550068218976\n<br>Time limit: 86400\n<br>DCA Spreads: [Decimal('-0.00001'), Decimal('0.015568550068218976')]\n<br>DCA Amounts: [Decimal('1'), Decimal('1.7445435068935171')]\n"
          ],
          [
           "\nPair: GMX-USDT\n<br>Volume: 28561.01452403615\n<br>PNL: 9.18761717796142\n<br>Close types: {'STOP_LOSS': 27, 'TIME_LIMIT': 2, 'TRAILING_STOP': 74}\n\nConfig:\n<br>Id: 2943\n<br>BB Length: 50\n<br>BB Std: 1.4\n<br>Take profit: None\n<br>Stop loss: 0.004837747899624515\n<br>Time limit: 86400\n<br>DCA Spreads: [Decimal('-0.00001'), Decimal('0.012162433280876128')]\n<br>DCA Amounts: [Decimal('1'), Decimal('3.336907640859015')]\n"
          ],
          [
           "\nPair: GMX-USDT\n<br>Volume: 13034.065992625145\n<br>PNL: 4.226364728035726\n<br>Close types: {'STOP_LOSS': 11, 'TIME_LIMIT': 1, 'TRAILING_STOP': 49}\n\nConfig:\n<br>Id: 3197\n<br>BB Length: 100\n<br>BB Std: 1.4\n<br>Take profit: None\n<br>Stop loss: 0.00775276884601639\n<br>Time limit: 86400\n<br>DCA Spreads: [Decimal('-0.00001'), Decimal('0.023088636283154537')]\n<br>DCA Amounts: [Decimal('1'), Decimal('4.502414383116206')]\n"
          ]
         ],
         "hovertemplate": "trading_pair=GMX-USDT<br>total_volume=%{x}<br>net_pnl_quote=%{y}<br>sharpe_ratio=%{marker.size}<br>custom_hover_text=%{customdata[0]}<extra></extra>",
         "legendgroup": "GMX-USDT",
         "marker": {
          "color": "#B6E880",
          "size": [
           1.2975831540749385,
           1.4556787023833566,
           1.4284148658487164,
           1.199358652672501,
           1.1176145181128927
          ],
          "sizemode": "area",
          "sizeref": 0.009168875998020496,
          "symbol": "circle"
         },
         "mode": "markers",
         "name": "GMX-USDT",
         "orientation": "v",
         "showlegend": true,
         "type": "scatter",
         "x": [
          20429.006383934233,
          16717.127520794984,
          12497.84945142517,
          28561.01452403615,
          13034.065992625145
         ],
         "xaxis": "x",
         "y": [
          11.58890676958228,
          6.111430479072441,
          5.739078337337324,
          9.18761717796142,
          4.226364728035726
         ],
         "yaxis": "y"
        },
        {
         "customdata": [
          [
           "\nPair: 1000FLOKI-USDT\n<br>Volume: 10412.450685959117\n<br>PNL: 23.47324090987624\n<br>Close types: {'STOP_LOSS': 7, 'TRAILING_STOP': 35}\n\nConfig:\n<br>Id: 177\n<br>BB Length: 100\n<br>BB Std: 1.8\n<br>Take profit: None\n<br>Stop loss: 0.014052619252088344\n<br>Time limit: 86400\n<br>DCA Spreads: [Decimal('-0.00001'), Decimal('0.03237874124665852')]\n<br>DCA Amounts: [Decimal('1'), Decimal('4.603198853347031')]\n"
          ],
          [
           "\nPair: 1000FLOKI-USDT\n<br>Volume: 20679.460315442953\n<br>PNL: 0.7381670671510683\n<br>Close types: {'STOP_LOSS': 15, 'TIME_LIMIT': 1, 'TRAILING_STOP': 43}\n\nConfig:\n<br>Id: 1796\n<br>BB Length: 100\n<br>BB Std: 1.8\n<br>Take profit: None\n<br>Stop loss: 0.014052619252088344\n<br>Time limit: 86400\n<br>DCA Spreads: [Decimal('-0.00001'), Decimal('0.014052619252088344')]\n<br>DCA Amounts: [Decimal('1'), Decimal('1.9681285899951')]\n"
          ],
          [
           "\nPair: 1000FLOKI-USDT\n<br>Volume: 12633.12586542365\n<br>PNL: 3.472931175274807\n<br>Close types: {'STOP_LOSS': 10, 'TRAILING_STOP': 20}\n\nConfig:\n<br>Id: 1835\n<br>BB Length: 200\n<br>BB Std: 1.8\n<br>Take profit: None\n<br>Stop loss: 0.019847837748690964\n<br>Time limit: 86400\n<br>DCA Spreads: [Decimal('-0.00001'), Decimal('0.019847837748690964')]\n<br>DCA Amounts: [Decimal('1'), Decimal('1.2678276775120736')]\n"
          ],
          [
           "\nPair: 1000FLOKI-USDT\n<br>Volume: 13973.426216166878\n<br>PNL: 19.77095345746525\n<br>Close types: {'STOP_LOSS': 7, 'TIME_LIMIT': 1, 'TRAILING_STOP': 45}\n\nConfig:\n<br>Id: 2649\n<br>BB Length: 100\n<br>BB Std: 1.8\n<br>Take profit: None\n<br>Stop loss: 0.014052619252088344\n<br>Time limit: 86400\n<br>DCA Spreads: [Decimal('-0.00001'), Decimal('0.03237874124665852')]\n<br>DCA Amounts: [Decimal('1'), Decimal('2.0792823469125588')]\n"
          ]
         ],
         "hovertemplate": "trading_pair=1000FLOKI-USDT<br>total_volume=%{x}<br>net_pnl_quote=%{y}<br>sharpe_ratio=%{marker.size}<br>custom_hover_text=%{customdata[0]}<extra></extra>",
         "legendgroup": "1000FLOKI-USDT",
         "marker": {
          "color": "#FF97FF",
          "size": [
           1.5197438760382254,
           0.7071282504979055,
           1.1190154196221616,
           1.454905266344586
          ],
          "sizemode": "area",
          "sizeref": 0.009168875998020496,
          "symbol": "circle"
         },
         "mode": "markers",
         "name": "1000FLOKI-USDT",
         "orientation": "v",
         "showlegend": true,
         "type": "scatter",
         "x": [
          10412.450685959117,
          20679.460315442953,
          12633.12586542365,
          13973.426216166878
         ],
         "xaxis": "x",
         "y": [
          23.47324090987624,
          0.7381670671510683,
          3.472931175274807,
          19.77095345746525
         ],
         "yaxis": "y"
        },
        {
         "customdata": [
          [
           "\nPair: VOXEL-USDT\n<br>Volume: 15440.590847948768\n<br>PNL: 20.06452529368859\n<br>Close types: {'STOP_LOSS': 8, 'TIME_LIMIT': 2, 'TRAILING_STOP': 48}\n\nConfig:\n<br>Id: 178\n<br>BB Length: 100\n<br>BB Std: 1.5\n<br>Take profit: None\n<br>Stop loss: 0.015867310470775935\n<br>Time limit: 86400\n<br>DCA Spreads: [Decimal('-0.00001'), Decimal('0.02940145546340582')]\n<br>DCA Amounts: [Decimal('1'), Decimal('1.9281145348140782')]\n"
          ],
          [
           "\nPair: VOXEL-USDT\n<br>Volume: 11400.22116588545\n<br>PNL: 28.74647429005768\n<br>Close types: {'STOP_LOSS': 8, 'TIME_LIMIT': 1, 'TRAILING_STOP': 19}\n\nConfig:\n<br>Id: 662\n<br>BB Length: 200\n<br>BB Std: 1.4\n<br>Take profit: None\n<br>Stop loss: 0.016884531590413896\n<br>Time limit: 86400\n<br>DCA Spreads: [Decimal('-0.00001'), Decimal('0.016884531590413896')]\n<br>DCA Amounts: [Decimal('1'), Decimal('1.4998464220146066')]\n"
          ],
          [
           "\nPair: VOXEL-USDT\n<br>Volume: 11838.673633571883\n<br>PNL: 36.30560440263546\n<br>Close types: {'STOP_LOSS': 6, 'TIME_LIMIT': 1, 'TRAILING_STOP': 26}\n\nConfig:\n<br>Id: 822\n<br>BB Length: 200\n<br>BB Std: 1.5\n<br>Take profit: None\n<br>Stop loss: 0.01810747663551413\n<br>Time limit: 86400\n<br>DCA Spreads: [Decimal('-0.00001'), Decimal('0.01810747663551413')]\n<br>DCA Amounts: [Decimal('1'), Decimal('1.9712725237931545')]\n"
          ],
          [
           "\nPair: VOXEL-USDT\n<br>Volume: 11603.175568426897\n<br>PNL: 9.227164962581242\n<br>Close types: {'STOP_LOSS': 9, 'TIME_LIMIT': 1, 'TRAILING_STOP': 46}\n\nConfig:\n<br>Id: 893\n<br>BB Length: 20\n<br>BB Std: 2.5\n<br>Take profit: None\n<br>Stop loss: 0.01400784760057072\n<br>Time limit: 86400\n<br>DCA Spreads: [Decimal('-0.00001'), Decimal('0.029055477600360733')]\n<br>DCA Amounts: [Decimal('1'), Decimal('6.867192872095957')]\n"
          ],
          [
           "\nPair: VOXEL-USDT\n<br>Volume: 18053.384929129923\n<br>PNL: 35.450768089123756\n<br>Close types: {'STOP_LOSS': 10, 'TIME_LIMIT': 1, 'TRAILING_STOP': 41}\n\nConfig:\n<br>Id: 971\n<br>BB Length: 100\n<br>BB Std: 1.8\n<br>Take profit: None\n<br>Stop loss: 0.015558106658970786\n<br>Time limit: 86400\n<br>DCA Spreads: [Decimal('-0.00001'), Decimal('0.015558106658970786')]\n<br>DCA Amounts: [Decimal('1'), Decimal('1.5551894514548281')]\n"
          ],
          [
           "\nPair: VOXEL-USDT\n<br>Volume: 19399.798416584297\n<br>PNL: 14.471323431220897\n<br>Close types: {'STOP_LOSS': 12, 'TIME_LIMIT': 2, 'TRAILING_STOP': 50}\n\nConfig:\n<br>Id: 1731\n<br>BB Length: 20\n<br>BB Std: 2.5\n<br>Take profit: None\n<br>Stop loss: 0.01400784760057072\n<br>Time limit: 86400\n<br>DCA Spreads: [Decimal('-0.00001'), Decimal('0.01400784760057072')]\n<br>DCA Amounts: [Decimal('1'), Decimal('2.7942301255689217')]\n"
          ],
          [
           "\nPair: VOXEL-USDT\n<br>Volume: 14458.118044988838\n<br>PNL: 0.7596920591957376\n<br>Close types: {'STOP_LOSS': 13, 'TIME_LIMIT': 2, 'TRAILING_STOP': 31}\n\nConfig:\n<br>Id: 1870\n<br>BB Length: 20\n<br>BB Std: 2.5\n<br>Take profit: None\n<br>Stop loss: 0.01400784760057072\n<br>Time limit: 86400\n<br>DCA Spreads: [Decimal('-0.00001'), Decimal('0.029055477600360733')]\n<br>DCA Amounts: [Decimal('1'), Decimal('2.705138457589981')]\n"
          ],
          [
           "\nPair: VOXEL-USDT\n<br>Volume: 16470.821119454806\n<br>PNL: 14.615162698698391\n<br>Close types: {'STOP_LOSS': 14, 'TIME_LIMIT': 1, 'TRAILING_STOP': 22}\n\nConfig:\n<br>Id: 1904\n<br>BB Length: 50\n<br>BB Std: 2.5\n<br>Take profit: None\n<br>Stop loss: 0.014629438211387933\n<br>Time limit: 86400\n<br>DCA Spreads: [Decimal('-0.00001'), Decimal('0.014629438211387933')]\n<br>DCA Amounts: [Decimal('1'), Decimal('1.1298325745636193')]\n"
          ],
          [
           "\nPair: VOXEL-USDT\n<br>Volume: 21152.788330921943\n<br>PNL: 18.815271606933614\n<br>Close types: {'STOP_LOSS': 14, 'TIME_LIMIT': 2, 'TRAILING_STOP': 54}\n\nConfig:\n<br>Id: 1942\n<br>BB Length: 50\n<br>BB Std: 2.2\n<br>Take profit: None\n<br>Stop loss: 0.01437601775934376\n<br>Time limit: 86400\n<br>DCA Spreads: [Decimal('-0.00001'), Decimal('0.01437601775934376')]\n<br>DCA Amounts: [Decimal('1'), Decimal('3.388254324353505')]\n"
          ],
          [
           "\nPair: VOXEL-USDT\n<br>Volume: 13383.14683025866\n<br>PNL: 16.07469362411711\n<br>Close types: {'STOP_LOSS': 8, 'TIME_LIMIT': 1, 'TRAILING_STOP': 28}\n\nConfig:\n<br>Id: 2049\n<br>BB Length: 200\n<br>BB Std: 1.4\n<br>Take profit: None\n<br>Stop loss: 0.016884531590413896\n<br>Time limit: 86400\n<br>DCA Spreads: [Decimal('-0.00001'), Decimal('0.016884531590413896')]\n<br>DCA Amounts: [Decimal('1'), Decimal('1.5791906316984443')]\n"
          ],
          [
           "\nPair: VOXEL-USDT\n<br>Volume: 21162.036949820842\n<br>PNL: 40.71902937448073\n<br>Close types: {'STOP_LOSS': 10, 'TIME_LIMIT': 2, 'TRAILING_STOP': 54}\n\nConfig:\n<br>Id: 2214\n<br>BB Length: 100\n<br>BB Std: 1.5\n<br>Take profit: None\n<br>Stop loss: 0.015867310470775935\n<br>Time limit: 86400\n<br>DCA Spreads: [Decimal('-0.00001'), Decimal('0.015867310470775935')]\n<br>DCA Amounts: [Decimal('1'), Decimal('2.3157344240400746')]\n"
          ],
          [
           "\nPair: VOXEL-USDT\n<br>Volume: 19132.1530598421\n<br>PNL: 17.298071690534208\n<br>Close types: {'STOP_LOSS': 15, 'TIME_LIMIT': 2, 'TRAILING_STOP': 36}\n\nConfig:\n<br>Id: 2450\n<br>BB Length: 50\n<br>BB Std: 2.2\n<br>Take profit: None\n<br>Stop loss: 0.01437601775934376\n<br>Time limit: 86400\n<br>DCA Spreads: [Decimal('-0.00001'), Decimal('0.01437601775934376')]\n<br>DCA Amounts: [Decimal('1'), Decimal('2.3757470571433723')]\n"
          ],
          [
           "\nPair: VOXEL-USDT\n<br>Volume: 25593.43831140081\n<br>PNL: 31.061986140386374\n<br>Close types: {'STOP_LOSS': 15, 'TIME_LIMIT': 1, 'TRAILING_STOP': 66}\n\nConfig:\n<br>Id: 2639\n<br>BB Length: 50\n<br>BB Std: 2.0\n<br>Take profit: None\n<br>Stop loss: 0.013157894736842243\n<br>Time limit: 86400\n<br>DCA Spreads: [Decimal('-0.00001'), Decimal('0.013157894736842243')]\n<br>DCA Amounts: [Decimal('1'), Decimal('3.108810623134482')]\n"
          ],
          [
           "\nPair: VOXEL-USDT\n<br>Volume: 20056.219725405368\n<br>PNL: 43.979764912466294\n<br>Close types: {'STOP_LOSS': 13, 'TIME_LIMIT': 2, 'TRAILING_STOP': 36}\n\nConfig:\n<br>Id: 2908\n<br>BB Length: 100\n<br>BB Std: 1.4\n<br>Take profit: None\n<br>Stop loss: 0.014994552152332152\n<br>Time limit: 86400\n<br>DCA Spreads: [Decimal('-0.00001'), Decimal('0.014994552152332152')]\n<br>DCA Amounts: [Decimal('1'), Decimal('2.0853089555457007')]\n"
          ],
          [
           "\nPair: VOXEL-USDT\n<br>Volume: 41813.92003076865\n<br>PNL: 28.71999317856391\n<br>Close types: {'STOP_LOSS': 27, 'TIME_LIMIT': 1, 'TRAILING_STOP': 81}\n\nConfig:\n<br>Id: 3190\n<br>BB Length: 20\n<br>BB Std: 2.0\n<br>Take profit: None\n<br>Stop loss: 0.012236906510034274\n<br>Time limit: 86400\n<br>DCA Spreads: [Decimal('-0.00001'), Decimal('0.012236906510034274')]\n<br>DCA Amounts: [Decimal('1'), Decimal('1.8999703486708341')]\n"
          ]
         ],
         "hovertemplate": "trading_pair=VOXEL-USDT<br>total_volume=%{x}<br>net_pnl_quote=%{y}<br>sharpe_ratio=%{marker.size}<br>custom_hover_text=%{customdata[0]}<extra></extra>",
         "legendgroup": "VOXEL-USDT",
         "marker": {
          "color": "#FECB52",
          "size": [
           0.13653698585613028,
           0.7695376543671328,
           0.6364505717268593,
           0.2968725086124472,
           0.07337582223116518,
           0.7260613219073014,
           0.059909781786619286,
           0.06458581993893948,
           0.6749388587171302,
           0.06824298938638025,
           0.49774979806279335,
           0.048719274816013285,
           0.8501180033794544,
           0.2468608684859072,
           0.9662427465778207
          ],
          "sizemode": "area",
          "sizeref": 0.009168875998020496,
          "symbol": "circle"
         },
         "mode": "markers",
         "name": "VOXEL-USDT",
         "orientation": "v",
         "showlegend": true,
         "type": "scatter",
         "x": [
          15440.590847948768,
          11400.22116588545,
          11838.673633571883,
          11603.175568426897,
          18053.384929129923,
          19399.798416584297,
          14458.118044988838,
          16470.821119454806,
          21152.788330921943,
          13383.14683025866,
          21162.036949820842,
          19132.1530598421,
          25593.43831140081,
          20056.219725405368,
          41813.92003076865
         ],
         "xaxis": "x",
         "y": [
          20.06452529368859,
          28.74647429005768,
          36.30560440263546,
          9.227164962581242,
          35.450768089123756,
          14.471323431220897,
          0.7596920591957376,
          14.615162698698391,
          18.815271606933614,
          16.07469362411711,
          40.71902937448073,
          17.298071690534208,
          31.061986140386374,
          43.979764912466294,
          28.71999317856391
         ],
         "yaxis": "y"
        },
        {
         "customdata": [
          [
           "\nPair: VIDT-USDT\n<br>Volume: 10188.873949079949\n<br>PNL: 32.544758493614374\n<br>Close types: {'STOP_LOSS': 7, 'TIME_LIMIT': 1, 'TRAILING_STOP': 30}\n\nConfig:\n<br>Id: 184\n<br>BB Length: 200\n<br>BB Std: 1.4\n<br>Take profit: None\n<br>Stop loss: 0.018987535758917387\n<br>Time limit: 86400\n<br>DCA Spreads: [Decimal('-0.00001'), Decimal('0.04578934929888141')]\n<br>DCA Amounts: [Decimal('1'), Decimal('2.340215445765468')]\n"
          ],
          [
           "\nPair: VIDT-USDT\n<br>Volume: 25307.13970821288\n<br>PNL: 12.289736187698848\n<br>Close types: {'STOP_LOSS': 20, 'TRAILING_STOP': 45}\n\nConfig:\n<br>Id: 308\n<br>BB Length: 100\n<br>BB Std: 1.4\n<br>Take profit: None\n<br>Stop loss: 0.018342134960625204\n<br>Time limit: 86400\n<br>DCA Spreads: [Decimal('-0.00001'), Decimal('0.018342134960625204')]\n<br>DCA Amounts: [Decimal('1'), Decimal('2.0415349742931768')]\n"
          ],
          [
           "\nPair: VIDT-USDT\n<br>Volume: 25246.89929581669\n<br>PNL: 13.331938435995138\n<br>Close types: {'STOP_LOSS': 26, 'TIME_LIMIT': 1, 'TRAILING_STOP': 30}\n\nConfig:\n<br>Id: 492\n<br>BB Length: 20\n<br>BB Std: 2.5\n<br>Take profit: None\n<br>Stop loss: 0.01436031331592689\n<br>Time limit: 86400\n<br>DCA Spreads: [Decimal('-0.00001'), Decimal('0.01436031331592689')]\n<br>DCA Amounts: [Decimal('1'), Decimal('1.4806101881632405')]\n"
          ],
          [
           "\nPair: VIDT-USDT\n<br>Volume: 19925.222794830963\n<br>PNL: 27.306292040873323\n<br>Close types: {'STOP_LOSS': 15, 'TIME_LIMIT': 1, 'TRAILING_STOP': 34}\n\nConfig:\n<br>Id: 569\n<br>BB Length: 100\n<br>BB Std: 1.8\n<br>Take profit: None\n<br>Stop loss: 0.020249221183800743\n<br>Time limit: 86400\n<br>DCA Spreads: [Decimal('-0.00001'), Decimal('0.020249221183800743')]\n<br>DCA Amounts: [Decimal('1'), Decimal('1.4980585049037414')]\n"
          ],
          [
           "\nPair: VIDT-USDT\n<br>Volume: 11880.946953424102\n<br>PNL: 52.59269650238673\n<br>Close types: {'STOP_LOSS': 8, 'TIME_LIMIT': 1, 'TRAILING_STOP': 28}\n\nConfig:\n<br>Id: 729\n<br>BB Length: 200\n<br>BB Std: 1.5\n<br>Take profit: None\n<br>Stop loss: 0.018987535758917387\n<br>Time limit: 86400\n<br>DCA Spreads: [Decimal('-0.00001'), Decimal('0.04490414409190574')]\n<br>DCA Amounts: [Decimal('1'), Decimal('1.5922137799822598')]\n"
          ],
          [
           "\nPair: VIDT-USDT\n<br>Volume: 20703.762282521715\n<br>PNL: 3.561933033517044\n<br>Close types: {'STOP_LOSS': 21, 'TRAILING_STOP': 23}\n\nConfig:\n<br>Id: 839\n<br>BB Length: 50\n<br>BB Std: 2.2\n<br>Take profit: None\n<br>Stop loss: 0.018420495447808508\n<br>Time limit: 86400\n<br>DCA Spreads: [Decimal('-0.00001'), Decimal('0.018420495447808508')]\n<br>DCA Amounts: [Decimal('1'), Decimal('1.4591661339067716')]\n"
          ],
          [
           "\nPair: VIDT-USDT\n<br>Volume: 11347.28640426372\n<br>PNL: 80.04640384380657\n<br>Close types: {'STOP_LOSS': 8, 'TIME_LIMIT': 1, 'TRAILING_STOP': 19}\n\nConfig:\n<br>Id: 860\n<br>BB Length: 200\n<br>BB Std: 2.0\n<br>Take profit: None\n<br>Stop loss: 0.019627579265223856\n<br>Time limit: 86400\n<br>DCA Spreads: [Decimal('-0.00001'), Decimal('0.019627579265223856')]\n<br>DCA Amounts: [Decimal('1'), Decimal('2.322986059916558')]\n"
          ],
          [
           "\nPair: VIDT-USDT\n<br>Volume: 16740.58812786943\n<br>PNL: 10.498888950564206\n<br>Close types: {'STOP_LOSS': 12, 'TIME_LIMIT': 1, 'TRAILING_STOP': 39}\n\nConfig:\n<br>Id: 864\n<br>BB Length: 100\n<br>BB Std: 1.8\n<br>Take profit: None\n<br>Stop loss: 0.020249221183800743\n<br>Time limit: 86400\n<br>DCA Spreads: [Decimal('-0.00001'), Decimal('0.038737272090339114')]\n<br>DCA Amounts: [Decimal('1'), Decimal('1.5155681891237451')]\n"
          ],
          [
           "\nPair: VIDT-USDT\n<br>Volume: 12014.141311975156\n<br>PNL: 10.083785873523148\n<br>Close types: {'STOP_LOSS': 10, 'TIME_LIMIT': 1, 'TRAILING_STOP': 36}\n\nConfig:\n<br>Id: 1285\n<br>BB Length: 50\n<br>BB Std: 2.5\n<br>Take profit: None\n<br>Stop loss: 0.020254893035958167\n<br>Time limit: 86400\n<br>DCA Spreads: [Decimal('-0.00001'), Decimal('0.041527441490724085')]\n<br>DCA Amounts: [Decimal('1'), Decimal('4.478479752408782')]\n"
          ],
          [
           "\nPair: VIDT-USDT\n<br>Volume: 21622.346673541175\n<br>PNL: 18.50467524761686\n<br>Close types: {'STOP_LOSS': 22, 'TRAILING_STOP': 51}\n\nConfig:\n<br>Id: 1366\n<br>BB Length: 50\n<br>BB Std: 1.5\n<br>Take profit: None\n<br>Stop loss: 0.01209577882004454\n<br>Time limit: 86400\n<br>DCA Spreads: [Decimal('-0.00001'), Decimal('0.02830147063715463')]\n<br>DCA Amounts: [Decimal('1'), Decimal('4.598933844416706')]\n"
          ],
          [
           "\nPair: VIDT-USDT\n<br>Volume: 11336.104075475261\n<br>PNL: 18.72515144148877\n<br>Close types: {'STOP_LOSS': 12, 'TIME_LIMIT': 1, 'TRAILING_STOP': 15}\n\nConfig:\n<br>Id: 1412\n<br>BB Length: 200\n<br>BB Std: 1.8\n<br>Take profit: None\n<br>Stop loss: 0.01821113797053271\n<br>Time limit: 86400\n<br>DCA Spreads: [Decimal('-0.00001'), Decimal('0.01821113797053271')]\n<br>DCA Amounts: [Decimal('1'), Decimal('2.3388923386956346')]\n"
          ],
          [
           "\nPair: VIDT-USDT\n<br>Volume: 11229.191365900964\n<br>PNL: 12.832382893543443\n<br>Close types: {'STOP_LOSS': 11, 'TRAILING_STOP': 16}\n\nConfig:\n<br>Id: 1618\n<br>BB Length: 20\n<br>BB Std: 3.0\n<br>Take profit: None\n<br>Stop loss: 0.02398393956355266\n<br>Time limit: 86400\n<br>DCA Spreads: [Decimal('-0.00001'), Decimal('0.02398393956355266')]\n<br>DCA Amounts: [Decimal('1'), Decimal('1.7569715127827932')]\n"
          ],
          [
           "\nPair: VIDT-USDT\n<br>Volume: 10722.813019420093\n<br>PNL: 22.61263679843222\n<br>Close types: {'STOP_LOSS': 8, 'TIME_LIMIT': 1, 'TRAILING_STOP': 40}\n\nConfig:\n<br>Id: 1676\n<br>BB Length: 100\n<br>BB Std: 2.0\n<br>Take profit: None\n<br>Stop loss: 0.01974214343271559\n<br>Time limit: 86400\n<br>DCA Spreads: [Decimal('-0.00001'), Decimal('0.04719550741823296')]\n<br>DCA Amounts: [Decimal('1'), Decimal('3.508894058919008')]\n"
          ],
          [
           "\nPair: VIDT-USDT\n<br>Volume: 17073.990280011556\n<br>PNL: 24.304501964717506\n<br>Close types: {'STOP_LOSS': 16, 'TRAILING_STOP': 24}\n\nConfig:\n<br>Id: 1717\n<br>BB Length: 50\n<br>BB Std: 2.5\n<br>Take profit: None\n<br>Stop loss: 0.020254893035958167\n<br>Time limit: 86400\n<br>DCA Spreads: [Decimal('-0.00001'), Decimal('0.020254893035958167')]\n<br>DCA Amounts: [Decimal('1'), Decimal('1.3650025596763')]\n"
          ],
          [
           "\nPair: VIDT-USDT\n<br>Volume: 19466.879608270654\n<br>PNL: 7.048006889297167\n<br>Close types: {'STOP_LOSS': 22, 'TRAILING_STOP': 49}\n\nConfig:\n<br>Id: 1773\n<br>BB Length: 50\n<br>BB Std: 1.4\n<br>Take profit: None\n<br>Stop loss: 0.01183269124931205\n<br>Time limit: 86400\n<br>DCA Spreads: [Decimal('-0.00001'), Decimal('0.026857654431512976')]\n<br>DCA Amounts: [Decimal('1'), Decimal('5.178809912158188')]\n"
          ],
          [
           "\nPair: VIDT-USDT\n<br>Volume: 23005.787755743655\n<br>PNL: 17.351655371287965\n<br>Close types: {'STOP_LOSS': 21, 'TIME_LIMIT': 1, 'TRAILING_STOP': 66}\n\nConfig:\n<br>Id: 1911\n<br>BB Length: 50\n<br>BB Std: 1.5\n<br>Take profit: None\n<br>Stop loss: 0.01209577882004454\n<br>Time limit: 86400\n<br>DCA Spreads: [Decimal('-0.00001'), Decimal('0.02830147063715463')]\n<br>DCA Amounts: [Decimal('1'), Decimal('5.951952759097781')]\n"
          ],
          [
           "\nPair: VIDT-USDT\n<br>Volume: 14836.06639734769\n<br>PNL: 18.441882987514703\n<br>Close types: {'STOP_LOSS': 16, 'TRAILING_STOP': 21}\n\nConfig:\n<br>Id: 1962\n<br>BB Length: 100\n<br>BB Std: 2.0\n<br>Take profit: None\n<br>Stop loss: 0.01974214343271559\n<br>Time limit: 86400\n<br>DCA Spreads: [Decimal('-0.00001'), Decimal('0.01974214343271559')]\n<br>DCA Amounts: [Decimal('1'), Decimal('2.5965307474955854')]\n"
          ],
          [
           "\nPair: VIDT-USDT\n<br>Volume: 16331.926185705977\n<br>PNL: 2.1759415528062562\n<br>Close types: {'STOP_LOSS': 13, 'TIME_LIMIT': 1, 'TRAILING_STOP': 34}\n\nConfig:\n<br>Id: 1964\n<br>BB Length: 50\n<br>BB Std: 2.5\n<br>Take profit: None\n<br>Stop loss: 0.020254893035958167\n<br>Time limit: 86400\n<br>DCA Spreads: [Decimal('-0.00001'), Decimal('0.041527441490724085')]\n<br>DCA Amounts: [Decimal('1'), Decimal('1.571884750612352')]\n"
          ],
          [
           "\nPair: VIDT-USDT\n<br>Volume: 18538.20066730612\n<br>PNL: 21.46843103025633\n<br>Close types: {'STOP_LOSS': 16, 'TIME_LIMIT': 1, 'TRAILING_STOP': 28}\n\nConfig:\n<br>Id: 2011\n<br>BB Length: 100\n<br>BB Std: 1.5\n<br>Take profit: None\n<br>Stop loss: 0.021526418786692755\n<br>Time limit: 86400\n<br>DCA Spreads: [Decimal('-0.00001'), Decimal('0.021526418786692755')]\n<br>DCA Amounts: [Decimal('1'), Decimal('2.3915543883316395')]\n"
          ],
          [
           "\nPair: VIDT-USDT\n<br>Volume: 28428.089870684555\n<br>PNL: 2.3448454009343354\n<br>Close types: {'STOP_LOSS': 30, 'TRAILING_STOP': 63}\n\nConfig:\n<br>Id: 2127\n<br>BB Length: 20\n<br>BB Std: 2.0\n<br>Take profit: None\n<br>Stop loss: 0.01120206807410598\n<br>Time limit: 86400\n<br>DCA Spreads: [Decimal('-0.00001'), Decimal('0.024071991001124893')]\n<br>DCA Amounts: [Decimal('1'), Decimal('2.9661512309572857')]\n"
          ],
          [
           "\nPair: VIDT-USDT\n<br>Volume: 50889.38354580202\n<br>PNL: 10.38638480137396\n<br>Close types: {'STOP_LOSS': 48, 'TRAILING_STOP': 87}\n\nConfig:\n<br>Id: 2517\n<br>BB Length: 20\n<br>BB Std: 2.0\n<br>Take profit: None\n<br>Stop loss: 0.01120206807410598\n<br>Time limit: 86400\n<br>DCA Spreads: [Decimal('-0.00001'), Decimal('0.01120206807410598')]\n<br>DCA Amounts: [Decimal('1'), Decimal('2.667162146811346')]\n"
          ],
          [
           "\nPair: VIDT-USDT\n<br>Volume: 11972.147461614479\n<br>PNL: 17.526863093123524\n<br>Close types: {'STOP_LOSS': 9, 'TRAILING_STOP': 41}\n\nConfig:\n<br>Id: 2624\n<br>BB Length: 100\n<br>BB Std: 1.8\n<br>Take profit: None\n<br>Stop loss: 0.020249221183800743\n<br>Time limit: 86400\n<br>DCA Spreads: [Decimal('-0.00001'), Decimal('0.038737272090339114')]\n<br>DCA Amounts: [Decimal('1'), Decimal('3.777723275191179')]\n"
          ],
          [
           "\nPair: VIDT-USDT\n<br>Volume: 12173.138340276702\n<br>PNL: 30.38034153447405\n<br>Close types: {'STOP_LOSS': 13, 'TRAILING_STOP': 16}\n\nConfig:\n<br>Id: 2707\n<br>BB Length: 100\n<br>BB Std: 2.2\n<br>Take profit: None\n<br>Stop loss: 0.019627579265223856\n<br>Time limit: 86400\n<br>DCA Spreads: [Decimal('-0.00001'), Decimal('0.019627579265223856')]\n<br>DCA Amounts: [Decimal('1'), Decimal('2.649009222024599')]\n"
          ],
          [
           "\nPair: VIDT-USDT\n<br>Volume: 13515.029104009442\n<br>PNL: 25.165938773396622\n<br>Close types: {'STOP_LOSS': 9, 'TIME_LIMIT': 1, 'TRAILING_STOP': 39}\n\nConfig:\n<br>Id: 2711\n<br>BB Length: 100\n<br>BB Std: 2.0\n<br>Take profit: None\n<br>Stop loss: 0.01974214343271559\n<br>Time limit: 86400\n<br>DCA Spreads: [Decimal('-0.00001'), Decimal('0.04719550741823296')]\n<br>DCA Amounts: [Decimal('1'), Decimal('1.9574755299573945')]\n"
          ],
          [
           "\nPair: VIDT-USDT\n<br>Volume: 15967.860574923077\n<br>PNL: 5.04779226115519\n<br>Close types: {'STOP_LOSS': 13, 'TIME_LIMIT': 1, 'TRAILING_STOP': 42}\n\nConfig:\n<br>Id: 2858\n<br>BB Length: 100\n<br>BB Std: 1.4\n<br>Take profit: None\n<br>Stop loss: 0.018342134960625204\n<br>Time limit: 86400\n<br>DCA Spreads: [Decimal('-0.00001'), Decimal('0.03708442598074489')]\n<br>DCA Amounts: [Decimal('1'), Decimal('2.329871071290996')]\n"
          ],
          [
           "\nPair: VIDT-USDT\n<br>Volume: 12289.461036453073\n<br>PNL: 25.038842218465113\n<br>Close types: {'STOP_LOSS': 11, 'TIME_LIMIT': 1, 'TRAILING_STOP': 47}\n\nConfig:\n<br>Id: 2884\n<br>BB Length: 100\n<br>BB Std: 1.4\n<br>Take profit: None\n<br>Stop loss: 0.018342134960625204\n<br>Time limit: 86400\n<br>DCA Spreads: [Decimal('-0.00001'), Decimal('0.03708442598074489')]\n<br>DCA Amounts: [Decimal('1'), Decimal('5.147731270167244')]\n"
          ],
          [
           "\nPair: VIDT-USDT\n<br>Volume: 22042.17456872441\n<br>PNL: 20.603473934657448\n<br>Close types: {'STOP_LOSS': 21, 'TIME_LIMIT': 1, 'TRAILING_STOP': 61}\n\nConfig:\n<br>Id: 2894\n<br>BB Length: 50\n<br>BB Std: 1.4\n<br>Take profit: None\n<br>Stop loss: 0.01183269124931205\n<br>Time limit: 86400\n<br>DCA Spreads: [Decimal('-0.00001'), Decimal('0.026857654431512976')]\n<br>DCA Amounts: [Decimal('1'), Decimal('5.979487634585651')]\n"
          ],
          [
           "\nPair: VIDT-USDT\n<br>Volume: 11709.023011610445\n<br>PNL: 57.72377888636244\n<br>Close types: {'STOP_LOSS': 9, 'TIME_LIMIT': 1, 'TRAILING_STOP': 19}\n\nConfig:\n<br>Id: 2903\n<br>BB Length: 100\n<br>BB Std: 2.5\n<br>Take profit: None\n<br>Stop loss: 0.02112871837642471\n<br>Time limit: 86400\n<br>DCA Spreads: [Decimal('-0.00001'), Decimal('0.02112871837642471')]\n<br>DCA Amounts: [Decimal('1'), Decimal('2.1007488544759223')]\n"
          ],
          [
           "\nPair: VIDT-USDT\n<br>Volume: 13804.767732162234\n<br>PNL: 10.9848680436337\n<br>Close types: {'STOP_LOSS': 14, 'TIME_LIMIT': 1, 'TRAILING_STOP': 22}\n\nConfig:\n<br>Id: 3199\n<br>BB Length: 200\n<br>BB Std: 1.4\n<br>Take profit: None\n<br>Stop loss: 0.018987535758917387\n<br>Time limit: 86400\n<br>DCA Spreads: [Decimal('-0.00001'), Decimal('0.018987535758917387')]\n<br>DCA Amounts: [Decimal('1'), Decimal('1.7472711972405288')]\n"
          ]
         ],
         "hovertemplate": "trading_pair=VIDT-USDT<br>total_volume=%{x}<br>net_pnl_quote=%{y}<br>sharpe_ratio=%{marker.size}<br>custom_hover_text=%{customdata[0]}<extra></extra>",
         "legendgroup": "VIDT-USDT",
         "marker": {
          "color": "#636EFA",
          "size": [
           1.1698731379122185,
           0.4482452604616383,
           0.9171079621377576,
           1.379209784509846,
           1.5177905317732083,
           0.2921108626641356,
           2.3527376613332107,
           0.7770844042139259,
           0.13217892598200262,
           0.8999443008094643,
           1.3105622325078687,
           0.5843900839615629,
           0.6333828546502429,
           0.44812705337849423,
           1.0992623627297744,
           1.2199038178361166,
           1.3892511994535832,
           0.26315764258824753,
           0.3284790776275453,
           0.8446159455058256,
           0.203618863277618,
           1.0746455610692909,
           0.5338426973062084,
           1.5208427335510828,
           0.38235864317727486,
           1.3401216782276133,
           1.3634268978139916,
           1.6282843776322522,
           0.4719341552650236
          ],
          "sizemode": "area",
          "sizeref": 0.009168875998020496,
          "symbol": "circle"
         },
         "mode": "markers",
         "name": "VIDT-USDT",
         "orientation": "v",
         "showlegend": true,
         "type": "scatter",
         "x": [
          10188.873949079949,
          25307.13970821288,
          25246.89929581669,
          19925.222794830963,
          11880.946953424102,
          20703.762282521715,
          11347.28640426372,
          16740.58812786943,
          12014.141311975156,
          21622.346673541175,
          11336.104075475261,
          11229.191365900964,
          10722.813019420093,
          17073.990280011556,
          19466.879608270654,
          23005.787755743655,
          14836.06639734769,
          16331.926185705977,
          18538.20066730612,
          28428.089870684555,
          50889.38354580202,
          11972.147461614479,
          12173.138340276702,
          13515.029104009442,
          15967.860574923077,
          12289.461036453073,
          22042.17456872441,
          11709.023011610445,
          13804.767732162234
         ],
         "xaxis": "x",
         "y": [
          32.544758493614374,
          12.289736187698848,
          13.331938435995138,
          27.306292040873323,
          52.59269650238673,
          3.561933033517044,
          80.04640384380657,
          10.498888950564206,
          10.083785873523148,
          18.50467524761686,
          18.72515144148877,
          12.832382893543443,
          22.61263679843222,
          24.304501964717506,
          7.048006889297167,
          17.351655371287965,
          18.441882987514703,
          2.1759415528062562,
          21.46843103025633,
          2.3448454009343354,
          10.38638480137396,
          17.526863093123524,
          30.38034153447405,
          25.165938773396622,
          5.04779226115519,
          25.038842218465113,
          20.603473934657448,
          57.72377888636244,
          10.9848680436337
         ],
         "yaxis": "y"
        },
        {
         "customdata": [
          [
           "\nPair: STX-USDT\n<br>Volume: 14619.196468501472\n<br>PNL: 8.353506888900768\n<br>Close types: {'STOP_LOSS': 12, 'TIME_LIMIT': 1, 'TRAILING_STOP': 48}\n\nConfig:\n<br>Id: 212\n<br>BB Length: 50\n<br>BB Std: 2.2\n<br>Take profit: None\n<br>Stop loss: 0.007643858093735195\n<br>Time limit: 86400\n<br>DCA Spreads: [Decimal('-0.00001'), Decimal('0.015807017636258112')]\n<br>DCA Amounts: [Decimal('1'), Decimal('4.379347106542156')]\n"
          ],
          [
           "\nPair: STX-USDT\n<br>Volume: 15634.071236180847\n<br>PNL: 0.11404355861311716\n<br>Close types: {'STOP_LOSS': 12, 'TIME_LIMIT': 1, 'TRAILING_STOP': 27}\n\nConfig:\n<br>Id: 218\n<br>BB Length: 200\n<br>BB Std: 1.4\n<br>Take profit: None\n<br>Stop loss: 0.013146167557932176\n<br>Time limit: 86400\n<br>DCA Spreads: [Decimal('-0.00001'), Decimal('0.013146167557932176')]\n<br>DCA Amounts: [Decimal('1'), Decimal('1.539532405853933')]\n"
          ],
          [
           "\nPair: STX-USDT\n<br>Volume: 16496.80853350594\n<br>PNL: 4.761211558835396\n<br>Close types: {'STOP_LOSS': 12, 'TIME_LIMIT': 1, 'TRAILING_STOP': 30}\n\nConfig:\n<br>Id: 378\n<br>BB Length: 100\n<br>BB Std: 2.2\n<br>Take profit: None\n<br>Stop loss: 0.011055956678700272\n<br>Time limit: 86400\n<br>DCA Spreads: [Decimal('-0.00001'), Decimal('0.011055956678700272')]\n<br>DCA Amounts: [Decimal('1'), Decimal('1.633053210719138')]\n"
          ],
          [
           "\nPair: STX-USDT\n<br>Volume: 11423.39414878547\n<br>PNL: 4.7120635324681315\n<br>Close types: {'STOP_LOSS': 8, 'TIME_LIMIT': 1, 'TRAILING_STOP': 34}\n\nConfig:\n<br>Id: 1059\n<br>BB Length: 100\n<br>BB Std: 2.2\n<br>Take profit: None\n<br>Stop loss: 0.011055956678700272\n<br>Time limit: 86400\n<br>DCA Spreads: [Decimal('-0.00001'), Decimal('0.01849890218389321')]\n<br>DCA Amounts: [Decimal('1'), Decimal('3.404040765493991')]\n"
          ],
          [
           "\nPair: STX-USDT\n<br>Volume: 13333.008343385518\n<br>PNL: 4.769312109491497\n<br>Close types: {'STOP_LOSS': 12, 'TIME_LIMIT': 1, 'TRAILING_STOP': 22}\n\nConfig:\n<br>Id: 1345\n<br>BB Length: 100\n<br>BB Std: 2.2\n<br>Take profit: None\n<br>Stop loss: 0.011055956678700272\n<br>Time limit: 86400\n<br>DCA Spreads: [Decimal('-0.00001'), Decimal('0.011055956678700272')]\n<br>DCA Amounts: [Decimal('1'), Decimal('1.7694384706917075')]\n"
          ],
          [
           "\nPair: STX-USDT\n<br>Volume: 16789.777264465938\n<br>PNL: 13.494390029675932\n<br>Close types: {'STOP_LOSS': 10, 'TIME_LIMIT': 2, 'TRAILING_STOP': 62}\n\nConfig:\n<br>Id: 2239\n<br>BB Length: 50\n<br>BB Std: 2.2\n<br>Take profit: None\n<br>Stop loss: 0.007643858093735195\n<br>Time limit: 86400\n<br>DCA Spreads: [Decimal('-0.00001'), Decimal('0.015807017636258112')]\n<br>DCA Amounts: [Decimal('1'), Decimal('4.609557503804085')]\n"
          ],
          [
           "\nPair: STX-USDT\n<br>Volume: 15480.571129065605\n<br>PNL: 4.578226148030314\n<br>Close types: {'STOP_LOSS': 13, 'TIME_LIMIT': 1, 'TRAILING_STOP': 47}\n\nConfig:\n<br>Id: 2721\n<br>BB Length: 100\n<br>BB Std: 1.4\n<br>Take profit: None\n<br>Stop loss: 0.008483160293745302\n<br>Time limit: 86400\n<br>DCA Spreads: [Decimal('-0.00001'), Decimal('0.016825834098561386')]\n<br>DCA Amounts: [Decimal('1'), Decimal('2.9827295688393773')]\n"
          ],
          [
           "\nPair: STX-USDT\n<br>Volume: 11251.326980532505\n<br>PNL: 6.668504056888795\n<br>Close types: {'STOP_LOSS': 9, 'TIME_LIMIT': 1, 'TRAILING_STOP': 35}\n\nConfig:\n<br>Id: 2863\n<br>BB Length: 100\n<br>BB Std: 1.8\n<br>Take profit: None\n<br>Stop loss: 0.009840736255670493\n<br>Time limit: 86400\n<br>DCA Spreads: [Decimal('-0.00001'), Decimal('0.01791071023575211')]\n<br>DCA Amounts: [Decimal('1'), Decimal('3.887287571490341')]\n"
          ]
         ],
         "hovertemplate": "trading_pair=STX-USDT<br>total_volume=%{x}<br>net_pnl_quote=%{y}<br>sharpe_ratio=%{marker.size}<br>custom_hover_text=%{customdata[0]}<extra></extra>",
         "legendgroup": "STX-USDT",
         "marker": {
          "color": "#EF553B",
          "size": [
           1.5610216798417544,
           1.0925418160772884,
           1.0446377217472798,
           1.1330693922638764,
           1.0268908587748031,
           1.4260331604732874,
           0.9376909592673471,
           0.9186059907782588
          ],
          "sizemode": "area",
          "sizeref": 0.009168875998020496,
          "symbol": "circle"
         },
         "mode": "markers",
         "name": "STX-USDT",
         "orientation": "v",
         "showlegend": true,
         "type": "scatter",
         "x": [
          14619.196468501472,
          15634.071236180847,
          16496.80853350594,
          11423.39414878547,
          13333.008343385518,
          16789.777264465938,
          15480.571129065605,
          11251.326980532505
         ],
         "xaxis": "x",
         "y": [
          8.353506888900768,
          0.11404355861311716,
          4.761211558835396,
          4.7120635324681315,
          4.769312109491497,
          13.494390029675932,
          4.578226148030314,
          6.668504056888795
         ],
         "yaxis": "y"
        },
        {
         "customdata": [
          [
           "\nPair: BEL-USDT\n<br>Volume: 12405.374062856132\n<br>PNL: 3.2363820119245665\n<br>Close types: {'STOP_LOSS': 11, 'TIME_LIMIT': 1, 'TRAILING_STOP': 40}\n\nConfig:\n<br>Id: 222\n<br>BB Length: 50\n<br>BB Std: 2.2\n<br>Take profit: None\n<br>Stop loss: 0.009511045794119509\n<br>Time limit: 86400\n<br>DCA Spreads: [Decimal('-0.00001'), Decimal('0.02289575752233094')]\n<br>DCA Amounts: [Decimal('1'), Decimal('5.519107619378698')]\n"
          ]
         ],
         "hovertemplate": "trading_pair=BEL-USDT<br>total_volume=%{x}<br>net_pnl_quote=%{y}<br>sharpe_ratio=%{marker.size}<br>custom_hover_text=%{customdata[0]}<extra></extra>",
         "legendgroup": "BEL-USDT",
         "marker": {
          "color": "#00CC96",
          "size": [
           0.8323381818463563
          ],
          "sizemode": "area",
          "sizeref": 0.009168875998020496,
          "symbol": "circle"
         },
         "mode": "markers",
         "name": "BEL-USDT",
         "orientation": "v",
         "showlegend": true,
         "type": "scatter",
         "x": [
          12405.374062856132
         ],
         "xaxis": "x",
         "y": [
          3.2363820119245665
         ],
         "yaxis": "y"
        },
        {
         "customdata": [
          [
           "\nPair: EDU-USDT\n<br>Volume: 10352.019177650445\n<br>PNL: 0.502495872732611\n<br>Close types: {'STOP_LOSS': 10, 'TIME_LIMIT': 1, 'TRAILING_STOP': 22}\n\nConfig:\n<br>Id: 234\n<br>BB Length: 100\n<br>BB Std: 2.2\n<br>Take profit: None\n<br>Stop loss: 0.008200526071483787\n<br>Time limit: 86400\n<br>DCA Spreads: [Decimal('-0.00001'), Decimal('0.020914810406393623')]\n<br>DCA Amounts: [Decimal('1'), Decimal('2.1709419091876105')]\n"
          ],
          [
           "\nPair: EDU-USDT\n<br>Volume: 27701.500893923956\n<br>PNL: 5.139766765367957\n<br>Close types: {'STOP_LOSS': 23, 'TIME_LIMIT': 1, 'TRAILING_STOP': 88}\n\nConfig:\n<br>Id: 604\n<br>BB Length: 50\n<br>BB Std: 1.8\n<br>Take profit: None\n<br>Stop loss: 0.004995318838058084\n<br>Time limit: 86400\n<br>DCA Spreads: [Decimal('-0.00001'), Decimal('0.010519054897795302')]\n<br>DCA Amounts: [Decimal('1'), Decimal('3.263933908058285')]\n"
          ],
          [
           "\nPair: EDU-USDT\n<br>Volume: 22136.994175030122\n<br>PNL: 0.8940465579900136\n<br>Close types: {'STOP_LOSS': 24, 'TIME_LIMIT': 2, 'TRAILING_STOP': 39}\n\nConfig:\n<br>Id: 1250\n<br>BB Length: 50\n<br>BB Std: 1.8\n<br>Take profit: None\n<br>Stop loss: 0.004995318838058084\n<br>Time limit: 86400\n<br>DCA Spreads: [Decimal('-0.00001'), Decimal('0.010519054897795302')]\n<br>DCA Amounts: [Decimal('1'), Decimal('2.840327163515252')]\n"
          ],
          [
           "\nPair: EDU-USDT\n<br>Volume: 16124.720763856554\n<br>PNL: 6.77266060316413\n<br>Close types: {'STOP_LOSS': 16, 'TIME_LIMIT': 1, 'TRAILING_STOP': 35}\n\nConfig:\n<br>Id: 2266\n<br>BB Length: 100\n<br>BB Std: 1.4\n<br>Take profit: None\n<br>Stop loss: 0.00585906571654796\n<br>Time limit: 86400\n<br>DCA Spreads: [Decimal('-0.00001'), Decimal('0.012182203389830538')]\n<br>DCA Amounts: [Decimal('1'), Decimal('2.5444708429314318')]\n"
          ],
          [
           "\nPair: EDU-USDT\n<br>Volume: 12079.276670291512\n<br>PNL: 3.940856573920029\n<br>Close types: {'STOP_LOSS': 9, 'TIME_LIMIT': 2, 'TRAILING_STOP': 40}\n\nConfig:\n<br>Id: 3035\n<br>BB Length: 100\n<br>BB Std: 2.2\n<br>Take profit: None\n<br>Stop loss: 0.008200526071483787\n<br>Time limit: 86400\n<br>DCA Spreads: [Decimal('-0.00001'), Decimal('0.020914810406393623')]\n<br>DCA Amounts: [Decimal('1'), Decimal('3.3801401980898946')]\n"
          ]
         ],
         "hovertemplate": "trading_pair=EDU-USDT<br>total_volume=%{x}<br>net_pnl_quote=%{y}<br>sharpe_ratio=%{marker.size}<br>custom_hover_text=%{customdata[0]}<extra></extra>",
         "legendgroup": "EDU-USDT",
         "marker": {
          "color": "#AB63FA",
          "size": [
           0.07208239548664792,
           0.08871585139812126,
           0.7792841132280002,
           0.9554582959089571,
           1.3963408311623713
          ],
          "sizemode": "area",
          "sizeref": 0.009168875998020496,
          "symbol": "circle"
         },
         "mode": "markers",
         "name": "EDU-USDT",
         "orientation": "v",
         "showlegend": true,
         "type": "scatter",
         "x": [
          10352.019177650445,
          27701.500893923956,
          22136.994175030122,
          16124.720763856554,
          12079.276670291512
         ],
         "xaxis": "x",
         "y": [
          0.502495872732611,
          5.139766765367957,
          0.8940465579900136,
          6.77266060316413,
          3.940856573920029
         ],
         "yaxis": "y"
        },
        {
         "customdata": [
          [
           "\nPair: AEVO-USDT\n<br>Volume: 26086.953309133496\n<br>PNL: 1.1491147073838877\n<br>Close types: {'STOP_LOSS': 21, 'TIME_LIMIT': 1, 'TRAILING_STOP': 94}\n\nConfig:\n<br>Id: 251\n<br>BB Length: 50\n<br>BB Std: 1.4\n<br>Take profit: None\n<br>Stop loss: 0.005340315583928912\n<br>Time limit: 86400\n<br>DCA Spreads: [Decimal('-0.00001'), Decimal('0.011007073669954185')]\n<br>DCA Amounts: [Decimal('1'), Decimal('4.685395225156615')]\n"
          ],
          [
           "\nPair: AEVO-USDT\n<br>Volume: 35401.96868122601\n<br>PNL: 5.85464265861019\n<br>Close types: {'STOP_LOSS': 26, 'TIME_LIMIT': 1, 'TRAILING_STOP': 87}\n\nConfig:\n<br>Id: 318\n<br>BB Length: 50\n<br>BB Std: 1.4\n<br>Take profit: None\n<br>Stop loss: 0.005340315583928912\n<br>Time limit: 86400\n<br>DCA Spreads: [Decimal('-0.00001'), Decimal('0.011007073669954185')]\n<br>DCA Amounts: [Decimal('1'), Decimal('1.7184712602430476')]\n"
          ],
          [
           "\nPair: AEVO-USDT\n<br>Volume: 27540.063475816263\n<br>PNL: 4.1329522683802455\n<br>Close types: {'STOP_LOSS': 19, 'TRAILING_STOP': 65}\n\nConfig:\n<br>Id: 2352\n<br>BB Length: 50\n<br>BB Std: 1.8\n<br>Take profit: None\n<br>Stop loss: 0.006670954892049375\n<br>Time limit: 86400\n<br>DCA Spreads: [Decimal('-0.00001'), Decimal('0.013661351301266602')]\n<br>DCA Amounts: [Decimal('1'), Decimal('1.4710323776835788')]\n"
          ],
          [
           "\nPair: AEVO-USDT\n<br>Volume: 18645.1710158333\n<br>PNL: 7.073290035914783\n<br>Close types: {'STOP_LOSS': 15, 'TRAILING_STOP': 53}\n\nConfig:\n<br>Id: 2409\n<br>BB Length: 50\n<br>BB Std: 1.8\n<br>Take profit: None\n<br>Stop loss: 0.006670954892049375\n<br>Time limit: 86400\n<br>DCA Spreads: [Decimal('-0.00001'), Decimal('0.013661351301266602')]\n<br>DCA Amounts: [Decimal('1'), Decimal('3.3339742395461114')]\n"
          ]
         ],
         "hovertemplate": "trading_pair=AEVO-USDT<br>total_volume=%{x}<br>net_pnl_quote=%{y}<br>sharpe_ratio=%{marker.size}<br>custom_hover_text=%{customdata[0]}<extra></extra>",
         "legendgroup": "AEVO-USDT",
         "marker": {
          "color": "#FFA15A",
          "size": [
           0.07364617442536418,
           1.30452368792108,
           0.1753403218619403,
           0.059136747435350724
          ],
          "sizemode": "area",
          "sizeref": 0.009168875998020496,
          "symbol": "circle"
         },
         "mode": "markers",
         "name": "AEVO-USDT",
         "orientation": "v",
         "showlegend": true,
         "type": "scatter",
         "x": [
          26086.953309133496,
          35401.96868122601,
          27540.063475816263,
          18645.1710158333
         ],
         "xaxis": "x",
         "y": [
          1.1491147073838877,
          5.85464265861019,
          4.1329522683802455,
          7.073290035914783
         ],
         "yaxis": "y"
        },
        {
         "customdata": [
          [
           "\nPair: ACE-USDT\n<br>Volume: 21220.748605357276\n<br>PNL: 1.7887258394739454\n<br>Close types: {'STOP_LOSS': 17, 'TIME_LIMIT': 1, 'TRAILING_STOP': 52}\n\nConfig:\n<br>Id: 253\n<br>BB Length: 100\n<br>BB Std: 1.4\n<br>Take profit: None\n<br>Stop loss: 0.006366048702189095\n<br>Time limit: 86400\n<br>DCA Spreads: [Decimal('-0.00001'), Decimal('0.01632711886485852')]\n<br>DCA Amounts: [Decimal('1'), Decimal('1.885466417820452')]\n"
          ],
          [
           "\nPair: ACE-USDT\n<br>Volume: 20725.243293346477\n<br>PNL: 8.74010787659097\n<br>Close types: {'STOP_LOSS': 19, 'TIME_LIMIT': 1, 'TRAILING_STOP': 58}\n\nConfig:\n<br>Id: 323\n<br>BB Length: 50\n<br>BB Std: 1.8\n<br>Take profit: None\n<br>Stop loss: 0.005931453039350854\n<br>Time limit: 86400\n<br>DCA Spreads: [Decimal('-0.00001'), Decimal('0.012932201373821076')]\n<br>DCA Amounts: [Decimal('1'), Decimal('3.7651755472194317')]\n"
          ],
          [
           "\nPair: ACE-USDT\n<br>Volume: 24223.151438671248\n<br>PNL: 4.836787329630817\n<br>Close types: {'STOP_LOSS': 22, 'TIME_LIMIT': 1, 'TRAILING_STOP': 78}\n\nConfig:\n<br>Id: 761\n<br>BB Length: 50\n<br>BB Std: 1.4\n<br>Take profit: None\n<br>Stop loss: 0.00552713788936125\n<br>Time limit: 86400\n<br>DCA Spreads: [Decimal('-0.00001'), Decimal('0.012874014792850007')]\n<br>DCA Amounts: [Decimal('1'), Decimal('4.533985035605072')]\n"
          ],
          [
           "\nPair: ACE-USDT\n<br>Volume: 35655.412906382364\n<br>PNL: 2.488744902428917\n<br>Close types: {'STOP_LOSS': 27, 'TIME_LIMIT': 1, 'TRAILING_STOP': 97}\n\nConfig:\n<br>Id: 1178\n<br>BB Length: 50\n<br>BB Std: 1.4\n<br>Take profit: None\n<br>Stop loss: 0.00552713788936125\n<br>Time limit: 86400\n<br>DCA Spreads: [Decimal('-0.00001'), Decimal('0.012874014792850007')]\n<br>DCA Amounts: [Decimal('1'), Decimal('2.0866468047644764')]\n"
          ],
          [
           "\nPair: ACE-USDT\n<br>Volume: 23816.793340225777\n<br>PNL: 0.7599992352227154\n<br>Close types: {'STOP_LOSS': 19, 'TIME_LIMIT': 1, 'TRAILING_STOP': 77}\n\nConfig:\n<br>Id: 1571\n<br>BB Length: 50\n<br>BB Std: 1.8\n<br>Take profit: None\n<br>Stop loss: 0.005931453039350854\n<br>Time limit: 86400\n<br>DCA Spreads: [Decimal('-0.00001'), Decimal('0.012932201373821076')]\n<br>DCA Amounts: [Decimal('1'), Decimal('3.432556257469842')]\n"
          ],
          [
           "\nPair: ACE-USDT\n<br>Volume: 14038.319562744195\n<br>PNL: 7.5731094929135105\n<br>Close types: {'STOP_LOSS': 13, 'TIME_LIMIT': 1, 'TRAILING_STOP': 42}\n\nConfig:\n<br>Id: 1841\n<br>BB Length: 100\n<br>BB Std: 1.4\n<br>Take profit: None\n<br>Stop loss: 0.006366048702189095\n<br>Time limit: 86400\n<br>DCA Spreads: [Decimal('-0.00001'), Decimal('0.01632711886485852')]\n<br>DCA Amounts: [Decimal('1'), Decimal('5.096417877012368')]\n"
          ],
          [
           "\nPair: ACE-USDT\n<br>Volume: 32611.84223445801\n<br>PNL: 2.7654419448318035\n<br>Close types: {'STOP_LOSS': 23, 'TIME_LIMIT': 1, 'TRAILING_STOP': 71}\n\nConfig:\n<br>Id: 2262\n<br>BB Length: 50\n<br>BB Std: 1.8\n<br>Take profit: None\n<br>Stop loss: 0.005931453039350854\n<br>Time limit: 86400\n<br>DCA Spreads: [Decimal('-0.00001'), Decimal('0.012932201373821076')]\n<br>DCA Amounts: [Decimal('1'), Decimal('1.2964258078280997')]\n"
          ],
          [
           "\nPair: ACE-USDT\n<br>Volume: 16223.611143247233\n<br>PNL: 4.776882035189009\n<br>Close types: {'STOP_LOSS': 13, 'TIME_LIMIT': 1, 'TRAILING_STOP': 58}\n\nConfig:\n<br>Id: 2755\n<br>BB Length: 100\n<br>BB Std: 1.4\n<br>Take profit: None\n<br>Stop loss: 0.006366048702189095\n<br>Time limit: 86400\n<br>DCA Spreads: [Decimal('-0.00001'), Decimal('0.01632711886485852')]\n<br>DCA Amounts: [Decimal('1'), Decimal('4.478441289656394')]\n"
          ]
         ],
         "hovertemplate": "trading_pair=ACE-USDT<br>total_volume=%{x}<br>net_pnl_quote=%{y}<br>sharpe_ratio=%{marker.size}<br>custom_hover_text=%{customdata[0]}<extra></extra>",
         "legendgroup": "ACE-USDT",
         "marker": {
          "color": "#19D3F3",
          "size": [
           1.3340432614414774,
           1.5630417810859316,
           0.9803410703192695,
           1.1089974104983382,
           0.9578593537887455,
           1.463983707327142,
           0.38688997444280443,
           1.7762616154375677
          ],
          "sizemode": "area",
          "sizeref": 0.009168875998020496,
          "symbol": "circle"
         },
         "mode": "markers",
         "name": "ACE-USDT",
         "orientation": "v",
         "showlegend": true,
         "type": "scatter",
         "x": [
          21220.748605357276,
          20725.243293346477,
          24223.151438671248,
          35655.412906382364,
          23816.793340225777,
          14038.319562744195,
          32611.84223445801,
          16223.611143247233
         ],
         "xaxis": "x",
         "y": [
          1.7887258394739454,
          8.74010787659097,
          4.836787329630817,
          2.488744902428917,
          0.7599992352227154,
          7.5731094929135105,
          2.7654419448318035,
          4.776882035189009
         ],
         "yaxis": "y"
        },
        {
         "customdata": [
          [
           "\nPair: NULS-USDT\n<br>Volume: 13056.763438037055\n<br>PNL: 39.33401608902857\n<br>Close types: {'STOP_LOSS': 11, 'TIME_LIMIT': 1, 'TRAILING_STOP': 34}\n\nConfig:\n<br>Id: 255\n<br>BB Length: 20\n<br>BB Std: 2.5\n<br>Take profit: None\n<br>Stop loss: 0.010876256925918381\n<br>Time limit: 86400\n<br>DCA Spreads: [Decimal('-0.00001'), Decimal('0.023845701692423164')]\n<br>DCA Amounts: [Decimal('1'), Decimal('2.4831524639549447')]\n"
          ],
          [
           "\nPair: NULS-USDT\n<br>Volume: 54991.756747076455\n<br>PNL: 26.488015030116433\n<br>Close types: {'STOP_LOSS': 40, 'TIME_LIMIT': 1, 'TRAILING_STOP': 133}\n\nConfig:\n<br>Id: 317\n<br>BB Length: 20\n<br>BB Std: 1.5\n<br>Take profit: None\n<br>Stop loss: 0.007423117709437971\n<br>Time limit: 86400\n<br>DCA Spreads: [Decimal('-0.00001'), Decimal('0.01684060721062631')]\n<br>DCA Amounts: [Decimal('1'), Decimal('1.594238224575132')]\n"
          ],
          [
           "\nPair: NULS-USDT\n<br>Volume: 12461.792755789165\n<br>PNL: 5.531381296882535\n<br>Close types: {'STOP_LOSS': 13, 'TIME_LIMIT': 1, 'TRAILING_STOP': 24}\n\nConfig:\n<br>Id: 389\n<br>BB Length: 50\n<br>BB Std: 2.2\n<br>Take profit: None\n<br>Stop loss: 0.011053795136330148\n<br>Time limit: 86400\n<br>DCA Spreads: [Decimal('-0.00001'), Decimal('0.027802893309222372')]\n<br>DCA Amounts: [Decimal('1'), Decimal('2.5452325772840236')]\n"
          ],
          [
           "\nPair: NULS-USDT\n<br>Volume: 37699.242137438545\n<br>PNL: 16.3447243131371\n<br>Close types: {'STOP_LOSS': 31, 'TIME_LIMIT': 1, 'TRAILING_STOP': 79}\n\nConfig:\n<br>Id: 394\n<br>BB Length: 50\n<br>BB Std: 1.5\n<br>Take profit: None\n<br>Stop loss: 0.010898522644708171\n<br>Time limit: 86400\n<br>DCA Spreads: [Decimal('-0.00001'), Decimal('0.010898522644708171')]\n<br>DCA Amounts: [Decimal('1'), Decimal('2.1096610726792555')]\n"
          ],
          [
           "\nPair: NULS-USDT\n<br>Volume: 11132.97033868326\n<br>PNL: 8.875603042279778\n<br>Close types: {'STOP_LOSS': 10, 'TIME_LIMIT': 1, 'TRAILING_STOP': 19}\n\nConfig:\n<br>Id: 464\n<br>BB Length: 50\n<br>BB Std: 3.0\n<br>Take profit: None\n<br>Stop loss: 0.01741071428571435\n<br>Time limit: 86400\n<br>DCA Spreads: [Decimal('-0.00001'), Decimal('0.01741071428571435')]\n<br>DCA Amounts: [Decimal('1'), Decimal('1.5149072568852229')]\n"
          ],
          [
           "\nPair: NULS-USDT\n<br>Volume: 14910.18158729348\n<br>PNL: 25.584036863009082\n<br>Close types: {'STOP_LOSS': 11, 'TIME_LIMIT': 1, 'TRAILING_STOP': 54}\n\nConfig:\n<br>Id: 483\n<br>BB Length: 20\n<br>BB Std: 2.5\n<br>Take profit: None\n<br>Stop loss: 0.010876256925918381\n<br>Time limit: 86400\n<br>DCA Spreads: [Decimal('-0.00001'), Decimal('0.023845701692423164')]\n<br>DCA Amounts: [Decimal('1'), Decimal('2.971032359925564')]\n"
          ],
          [
           "\nPair: NULS-USDT\n<br>Volume: 16522.11760225833\n<br>PNL: 15.53793005644662\n<br>Close types: {'STOP_LOSS': 16, 'TIME_LIMIT': 1, 'TRAILING_STOP': 34}\n\nConfig:\n<br>Id: 666\n<br>BB Length: 50\n<br>BB Std: 2.0\n<br>Take profit: None\n<br>Stop loss: 0.011055956678700272\n<br>Time limit: 86400\n<br>DCA Spreads: [Decimal('-0.00001'), Decimal('0.02632161026321615')]\n<br>DCA Amounts: [Decimal('1'), Decimal('2.7484496629938273')]\n"
          ],
          [
           "\nPair: NULS-USDT\n<br>Volume: 32940.05235100184\n<br>PNL: 6.128235709872981\n<br>Close types: {'STOP_LOSS': 24, 'TIME_LIMIT': 2, 'TRAILING_STOP': 72}\n\nConfig:\n<br>Id: 724\n<br>BB Length: 50\n<br>BB Std: 1.5\n<br>Take profit: None\n<br>Stop loss: 0.010898522644708171\n<br>Time limit: 86400\n<br>DCA Spreads: [Decimal('-0.00001'), Decimal('0.020375680961707637')]\n<br>DCA Amounts: [Decimal('1'), Decimal('1.441464447429778')]\n"
          ],
          [
           "\nPair: NULS-USDT\n<br>Volume: 19800.751735931386\n<br>PNL: 15.69491823925989\n<br>Close types: {'STOP_LOSS': 18, 'TIME_LIMIT': 1, 'TRAILING_STOP': 31}\n\nConfig:\n<br>Id: 960\n<br>BB Length: 100\n<br>BB Std: 2.0\n<br>Take profit: None\n<br>Stop loss: 0.010211524434719139\n<br>Time limit: 86400\n<br>DCA Spreads: [Decimal('-0.00001'), Decimal('0.010211524434719139')]\n<br>DCA Amounts: [Decimal('1'), Decimal('1.5451646527695786')]\n"
          ],
          [
           "\nPair: NULS-USDT\n<br>Volume: 11119.663744973022\n<br>PNL: 2.823190090915761\n<br>Close types: {'STOP_LOSS': 11, 'TIME_LIMIT': 1, 'TRAILING_STOP': 45}\n\nConfig:\n<br>Id: 1112\n<br>BB Length: 100\n<br>BB Std: 1.5\n<br>Take profit: None\n<br>Stop loss: 0.010786248372330344\n<br>Time limit: 86400\n<br>DCA Spreads: [Decimal('-0.00001'), Decimal('0.033866287572700236')]\n<br>DCA Amounts: [Decimal('1'), Decimal('8.486466864768948')]\n"
          ],
          [
           "\nPair: NULS-USDT\n<br>Volume: 33399.83819860757\n<br>PNL: 22.183981899103586\n<br>Close types: {'STOP_LOSS': 24, 'TIME_LIMIT': 2, 'TRAILING_STOP': 74}\n\nConfig:\n<br>Id: 1338\n<br>BB Length: 50\n<br>BB Std: 1.4\n<br>Take profit: None\n<br>Stop loss: 0.010714981492304813\n<br>Time limit: 86400\n<br>DCA Spreads: [Decimal('-0.00001'), Decimal('0.020375680961707637')]\n<br>DCA Amounts: [Decimal('1'), Decimal('1.4456736800764598')]\n"
          ],
          [
           "\nPair: NULS-USDT\n<br>Volume: 22546.04742829803\n<br>PNL: 7.663170935503218\n<br>Close types: {'STOP_LOSS': 21, 'TRAILING_STOP': 40}\n\nConfig:\n<br>Id: 1403\n<br>BB Length: 100\n<br>BB Std: 1.5\n<br>Take profit: None\n<br>Stop loss: 0.010786248372330344\n<br>Time limit: 86400\n<br>DCA Spreads: [Decimal('-0.00001'), Decimal('0.010786248372330344')]\n<br>DCA Amounts: [Decimal('1'), Decimal('2.023302132151662')]\n"
          ],
          [
           "\nPair: NULS-USDT\n<br>Volume: 24639.76587413155\n<br>PNL: 24.65965689590998\n<br>Close types: {'STOP_LOSS': 23, 'TIME_LIMIT': 1, 'TRAILING_STOP': 62}\n\nConfig:\n<br>Id: 1414\n<br>BB Length: 20\n<br>BB Std: 2.0\n<br>Take profit: None\n<br>Stop loss: 0.008528784648187642\n<br>Time limit: 86400\n<br>DCA Spreads: [Decimal('-0.00001'), Decimal('0.01846901579586876')]\n<br>DCA Amounts: [Decimal('1'), Decimal('3.438908069286568')]\n"
          ],
          [
           "\nPair: NULS-USDT\n<br>Volume: 13173.44028545413\n<br>PNL: 17.55967499949155\n<br>Close types: {'STOP_LOSS': 14, 'TRAILING_STOP': 15}\n\nConfig:\n<br>Id: 1462\n<br>BB Length: 200\n<br>BB Std: 1.4\n<br>Take profit: None\n<br>Stop loss: 0.010752688172043048\n<br>Time limit: 86400\n<br>DCA Spreads: [Decimal('-0.00001'), Decimal('0.010752688172043048')]\n<br>DCA Amounts: [Decimal('1'), Decimal('1.0127279715195354')]\n"
          ],
          [
           "\nPair: NULS-USDT\n<br>Volume: 22964.323333820357\n<br>PNL: 15.686650628180427\n<br>Close types: {'STOP_LOSS': 21, 'TRAILING_STOP': 33}\n\nConfig:\n<br>Id: 1526\n<br>BB Length: 100\n<br>BB Std: 1.4\n<br>Take profit: None\n<br>Stop loss: 0.010748749458426916\n<br>Time limit: 86400\n<br>DCA Spreads: [Decimal('-0.00001'), Decimal('0.010748749458426916')]\n<br>DCA Amounts: [Decimal('1'), Decimal('1.184743043531547')]\n"
          ],
          [
           "\nPair: NULS-USDT\n<br>Volume: 37740.250237787506\n<br>PNL: 31.499186532614676\n<br>Close types: {'STOP_LOSS': 31, 'TIME_LIMIT': 1, 'TRAILING_STOP': 145}\n\nConfig:\n<br>Id: 1660\n<br>BB Length: 20\n<br>BB Std: 1.5\n<br>Take profit: None\n<br>Stop loss: 0.007423117709437971\n<br>Time limit: 86400\n<br>DCA Spreads: [Decimal('-0.00001'), Decimal('0.01684060721062631')]\n<br>DCA Amounts: [Decimal('1'), Decimal('5.733527220858136')]\n"
          ],
          [
           "\nPair: NULS-USDT\n<br>Volume: 18160.480439461877\n<br>PNL: 8.223628176610218\n<br>Close types: {'STOP_LOSS': 19, 'TIME_LIMIT': 1, 'TRAILING_STOP': 41}\n\nConfig:\n<br>Id: 1850\n<br>BB Length: 50\n<br>BB Std: 1.8\n<br>Take profit: None\n<br>Stop loss: 0.01097615889051916\n<br>Time limit: 86400\n<br>DCA Spreads: [Decimal('-0.00001'), Decimal('0.023920151622104042')]\n<br>DCA Amounts: [Decimal('1'), Decimal('3.31617380211891')]\n"
          ],
          [
           "\nPair: NULS-USDT\n<br>Volume: 17986.054588378985\n<br>PNL: 7.928795766871211\n<br>Close types: {'STOP_LOSS': 18, 'TIME_LIMIT': 1, 'TRAILING_STOP': 21}\n\nConfig:\n<br>Id: 1860\n<br>BB Length: 100\n<br>BB Std: 2.0\n<br>Take profit: None\n<br>Stop loss: 0.010211524434719139\n<br>Time limit: 86400\n<br>DCA Spreads: [Decimal('-0.00001'), Decimal('0.010211524434719139')]\n<br>DCA Amounts: [Decimal('1'), Decimal('1.0046592998493828')]\n"
          ],
          [
           "\nPair: NULS-USDT\n<br>Volume: 36448.840484266715\n<br>PNL: 26.169416862272616\n<br>Close types: {'STOP_LOSS': 33, 'TIME_LIMIT': 1, 'TRAILING_STOP': 100}\n\nConfig:\n<br>Id: 1913\n<br>BB Length: 20\n<br>BB Std: 1.5\n<br>Take profit: None\n<br>Stop loss: 0.007423117709437971\n<br>Time limit: 86400\n<br>DCA Spreads: [Decimal('-0.00001'), Decimal('0.01684060721062631')]\n<br>DCA Amounts: [Decimal('1'), Decimal('3.220138704558578')]\n"
          ],
          [
           "\nPair: NULS-USDT\n<br>Volume: 26328.68463045548\n<br>PNL: 21.70563627350796\n<br>Close types: {'STOP_LOSS': 23, 'TIME_LIMIT': 1, 'TRAILING_STOP': 86}\n\nConfig:\n<br>Id: 1940\n<br>BB Length: 20\n<br>BB Std: 2.0\n<br>Take profit: None\n<br>Stop loss: 0.008528784648187642\n<br>Time limit: 86400\n<br>DCA Spreads: [Decimal('-0.00001'), Decimal('0.01846901579586876')]\n<br>DCA Amounts: [Decimal('1'), Decimal('4.443130988659498')]\n"
          ],
          [
           "\nPair: NULS-USDT\n<br>Volume: 37248.35527623276\n<br>PNL: 23.061261095021248\n<br>Close types: {'STOP_LOSS': 34, 'TIME_LIMIT': 2, 'TRAILING_STOP': 55}\n\nConfig:\n<br>Id: 2143\n<br>BB Length: 50\n<br>BB Std: 1.5\n<br>Take profit: None\n<br>Stop loss: 0.010898522644708171\n<br>Time limit: 86400\n<br>DCA Spreads: [Decimal('-0.00001'), Decimal('0.010898522644708171')]\n<br>DCA Amounts: [Decimal('1'), Decimal('1.2529751279234582')]\n"
          ],
          [
           "\nPair: NULS-USDT\n<br>Volume: 20582.545117610174\n<br>PNL: 17.861269743446133\n<br>Close types: {'STOP_LOSS': 20, 'TIME_LIMIT': 1, 'TRAILING_STOP': 31}\n\nConfig:\n<br>Id: 2243\n<br>BB Length: 50\n<br>BB Std: 2.5\n<br>Take profit: None\n<br>Stop loss: 0.010876256925918381\n<br>Time limit: 86400\n<br>DCA Spreads: [Decimal('-0.00001'), Decimal('0.010876256925918381')]\n<br>DCA Amounts: [Decimal('1'), Decimal('1.3300839175925008')]\n"
          ],
          [
           "\nPair: NULS-USDT\n<br>Volume: 41748.98533094833\n<br>PNL: 52.54714668580081\n<br>Close types: {'STOP_LOSS': 35, 'TIME_LIMIT': 2, 'TRAILING_STOP': 60}\n\nConfig:\n<br>Id: 2406\n<br>BB Length: 50\n<br>BB Std: 1.4\n<br>Take profit: None\n<br>Stop loss: 0.010714981492304813\n<br>Time limit: 86400\n<br>DCA Spreads: [Decimal('-0.00001'), Decimal('0.010714981492304813')]\n<br>DCA Amounts: [Decimal('1'), Decimal('1.0717981882412322')]\n"
          ],
          [
           "\nPair: NULS-USDT\n<br>Volume: 40323.384910880675\n<br>PNL: 40.97753181681614\n<br>Close types: {'STOP_LOSS': 30, 'TIME_LIMIT': 1, 'TRAILING_STOP': 87}\n\nConfig:\n<br>Id: 2652\n<br>BB Length: 50\n<br>BB Std: 1.4\n<br>Take profit: None\n<br>Stop loss: 0.010714981492304813\n<br>Time limit: 86400\n<br>DCA Spreads: [Decimal('-0.00001'), Decimal('0.010714981492304813')]\n<br>DCA Amounts: [Decimal('1'), Decimal('2.3953228879412887')]\n"
          ],
          [
           "\nPair: NULS-USDT\n<br>Volume: 36813.52033358241\n<br>PNL: 32.8065635064593\n<br>Close types: {'STOP_LOSS': 27, 'TIME_LIMIT': 1, 'TRAILING_STOP': 83}\n\nConfig:\n<br>Id: 3050\n<br>BB Length: 20\n<br>BB Std: 2.0\n<br>Take profit: None\n<br>Stop loss: 0.008528784648187642\n<br>Time limit: 86400\n<br>DCA Spreads: [Decimal('-0.00001'), Decimal('0.01846901579586876')]\n<br>DCA Amounts: [Decimal('1'), Decimal('1.4449972243649767')]\n"
          ]
         ],
         "hovertemplate": "trading_pair=NULS-USDT<br>total_volume=%{x}<br>net_pnl_quote=%{y}<br>sharpe_ratio=%{marker.size}<br>custom_hover_text=%{customdata[0]}<extra></extra>",
         "legendgroup": "NULS-USDT",
         "marker": {
          "color": "#FF6692",
          "size": [
           2.6327370521166342,
           0.30324474598262996,
           0.7546085622668184,
           0.451598059279163,
           0.7014920863251031,
           2.381844108762511,
           0.737633259703426,
           0.22450430533900997,
           0.6182826286793092,
           0.5794658605258314,
           0.8980572855063743,
           0.43226682312514536,
           0.9950469910164496,
           0.8247735501410856,
           0.223308203160288,
           0.9739223436590451,
           0.15546730557477575,
           0.22379649659265102,
           0.6736828573210374,
           1.4511187037397575,
           0.39244181148670193,
           0.4445565771209976,
           1.1839338388415277,
           1.6171342740418282,
           1.9968669578994178
          ],
          "sizemode": "area",
          "sizeref": 0.009168875998020496,
          "symbol": "circle"
         },
         "mode": "markers",
         "name": "NULS-USDT",
         "orientation": "v",
         "showlegend": true,
         "type": "scatter",
         "x": [
          13056.763438037055,
          54991.756747076455,
          12461.792755789165,
          37699.242137438545,
          11132.97033868326,
          14910.18158729348,
          16522.11760225833,
          32940.05235100184,
          19800.751735931386,
          11119.663744973022,
          33399.83819860757,
          22546.04742829803,
          24639.76587413155,
          13173.44028545413,
          22964.323333820357,
          37740.250237787506,
          18160.480439461877,
          17986.054588378985,
          36448.840484266715,
          26328.68463045548,
          37248.35527623276,
          20582.545117610174,
          41748.98533094833,
          40323.384910880675,
          36813.52033358241
         ],
         "xaxis": "x",
         "y": [
          39.33401608902857,
          26.488015030116433,
          5.531381296882535,
          16.3447243131371,
          8.875603042279778,
          25.584036863009082,
          15.53793005644662,
          6.128235709872981,
          15.69491823925989,
          2.823190090915761,
          22.183981899103586,
          7.663170935503218,
          24.65965689590998,
          17.55967499949155,
          15.686650628180427,
          31.499186532614676,
          8.223628176610218,
          7.928795766871211,
          26.169416862272616,
          21.70563627350796,
          23.061261095021248,
          17.861269743446133,
          52.54714668580081,
          40.97753181681614,
          32.8065635064593
         ],
         "yaxis": "y"
        },
        {
         "customdata": [
          [
           "\nPair: IO-USDT\n<br>Volume: 12218.00611830943\n<br>PNL: 5.088480152749355\n<br>Close types: {'STOP_LOSS': 9, 'TIME_LIMIT': 1, 'TRAILING_STOP': 51}\n\nConfig:\n<br>Id: 273\n<br>BB Length: 100\n<br>BB Std: 1.4\n<br>Take profit: None\n<br>Stop loss: 0.010595324570529651\n<br>Time limit: 86400\n<br>DCA Spreads: [Decimal('-0.00001'), Decimal('0.02432258475410398')]\n<br>DCA Amounts: [Decimal('1'), Decimal('7.576739442154814')]\n"
          ],
          [
           "\nPair: IO-USDT\n<br>Volume: 21633.40470193786\n<br>PNL: 0.8016940786466122\n<br>Close types: {'STOP_LOSS': 24, 'TIME_LIMIT': 1, 'TRAILING_STOP': 50}\n\nConfig:\n<br>Id: 844\n<br>BB Length: 50\n<br>BB Std: 1.4\n<br>Take profit: None\n<br>Stop loss: 0.006242206982543614\n<br>Time limit: 86400\n<br>DCA Spreads: [Decimal('-0.00001'), Decimal('0.014749867991369719')]\n<br>DCA Amounts: [Decimal('1'), Decimal('4.8343966083977525')]\n"
          ],
          [
           "\nPair: IO-USDT\n<br>Volume: 11504.946157321701\n<br>PNL: 18.093866794782375\n<br>Close types: {'STOP_LOSS': 8, 'TIME_LIMIT': 2, 'TRAILING_STOP': 19}\n\nConfig:\n<br>Id: 1120\n<br>BB Length: 100\n<br>BB Std: 2.2\n<br>Take profit: None\n<br>Stop loss: 0.015611520556968846\n<br>Time limit: 86400\n<br>DCA Spreads: [Decimal('-0.00001'), Decimal('0.015611520556968846')]\n<br>DCA Amounts: [Decimal('1'), Decimal('2.353365490690352')]\n"
          ],
          [
           "\nPair: IO-USDT\n<br>Volume: 35217.13745393161\n<br>PNL: 11.220361463326496\n<br>Close types: {'STOP_LOSS': 27, 'TIME_LIMIT': 1, 'TRAILING_STOP': 90}\n\nConfig:\n<br>Id: 1762\n<br>BB Length: 50\n<br>BB Std: 1.4\n<br>Take profit: None\n<br>Stop loss: 0.006242206982543614\n<br>Time limit: 86400\n<br>DCA Spreads: [Decimal('-0.00001'), Decimal('0.014749867991369719')]\n<br>DCA Amounts: [Decimal('1'), Decimal('1.9320517444730427')]\n"
          ],
          [
           "\nPair: IO-USDT\n<br>Volume: 25259.88517902451\n<br>PNL: 2.6161991102796263\n<br>Close types: {'STOP_LOSS': 23, 'TIME_LIMIT': 1, 'TRAILING_STOP': 92}\n\nConfig:\n<br>Id: 1876\n<br>BB Length: 50\n<br>BB Std: 1.4\n<br>Take profit: None\n<br>Stop loss: 0.006242206982543614\n<br>Time limit: 86400\n<br>DCA Spreads: [Decimal('-0.00001'), Decimal('0.014749867991369719')]\n<br>DCA Amounts: [Decimal('1'), Decimal('4.894114433550652')]\n"
          ],
          [
           "\nPair: IO-USDT\n<br>Volume: 11086.259152422861\n<br>PNL: 2.7512718269222383\n<br>Close types: {'STOP_LOSS': 9, 'TIME_LIMIT': 1, 'TRAILING_STOP': 26}\n\nConfig:\n<br>Id: 1976\n<br>BB Length: 200\n<br>BB Std: 1.4\n<br>Take profit: None\n<br>Stop loss: 0.013067384096346859\n<br>Time limit: 86400\n<br>DCA Spreads: [Decimal('-0.00001'), Decimal('0.0264558564509027')]\n<br>DCA Amounts: [Decimal('1'), Decimal('2.067087132705158')]\n"
          ],
          [
           "\nPair: IO-USDT\n<br>Volume: 23820.270193134304\n<br>PNL: 11.21765772494218\n<br>Close types: {'STOP_LOSS': 16, 'TIME_LIMIT': 1, 'TRAILING_STOP': 52}\n\nConfig:\n<br>Id: 2078\n<br>BB Length: 100\n<br>BB Std: 1.4\n<br>Take profit: None\n<br>Stop loss: 0.010595324570529651\n<br>Time limit: 86400\n<br>DCA Spreads: [Decimal('-0.00001'), Decimal('0.010595324570529651')]\n<br>DCA Amounts: [Decimal('1'), Decimal('2.7381604321987987')]\n"
          ],
          [
           "\nPair: IO-USDT\n<br>Volume: 13442.688249465351\n<br>PNL: 27.56210233822532\n<br>Close types: {'STOP_LOSS': 10, 'TIME_LIMIT': 1, 'TRAILING_STOP': 20}\n\nConfig:\n<br>Id: 2215\n<br>BB Length: 200\n<br>BB Std: 1.8\n<br>Take profit: None\n<br>Stop loss: 0.012482614539504487\n<br>Time limit: 86400\n<br>DCA Spreads: [Decimal('-0.00001'), Decimal('0.012482614539504487')]\n<br>DCA Amounts: [Decimal('1'), Decimal('1.0227306340187603')]\n"
          ],
          [
           "\nPair: IO-USDT\n<br>Volume: 12189.544477715397\n<br>PNL: 24.05063816669314\n<br>Close types: {'STOP_LOSS': 7, 'TIME_LIMIT': 2, 'TRAILING_STOP': 22}\n\nConfig:\n<br>Id: 2235\n<br>BB Length: 200\n<br>BB Std: 2.2\n<br>Take profit: None\n<br>Stop loss: 0.015481166257437376\n<br>Time limit: 86400\n<br>DCA Spreads: [Decimal('-0.00001'), Decimal('0.015481166257437376')]\n<br>DCA Amounts: [Decimal('1'), Decimal('1.1468654642327376')]\n"
          ],
          [
           "\nPair: IO-USDT\n<br>Volume: 13062.618829420595\n<br>PNL: 0.35823582266590637\n<br>Close types: {'STOP_LOSS': 12, 'TIME_LIMIT': 1, 'TRAILING_STOP': 21}\n\nConfig:\n<br>Id: 2394\n<br>BB Length: 200\n<br>BB Std: 1.4\n<br>Take profit: None\n<br>Stop loss: 0.013067384096346859\n<br>Time limit: 86400\n<br>DCA Spreads: [Decimal('-0.00001'), Decimal('0.013067384096346859')]\n<br>DCA Amounts: [Decimal('1'), Decimal('2.1190265322409694')]\n"
          ],
          [
           "\nPair: IO-USDT\n<br>Volume: 18800.537515307627\n<br>PNL: 4.436386336935971\n<br>Close types: {'STOP_LOSS': 14, 'TIME_LIMIT': 1, 'TRAILING_STOP': 45}\n\nConfig:\n<br>Id: 2425\n<br>BB Length: 100\n<br>BB Std: 1.4\n<br>Take profit: None\n<br>Stop loss: 0.010595324570529651\n<br>Time limit: 86400\n<br>DCA Spreads: [Decimal('-0.00001'), Decimal('0.02432258475410398')]\n<br>DCA Amounts: [Decimal('1'), Decimal('1.7549509358877753')]\n"
          ],
          [
           "\nPair: IO-USDT\n<br>Volume: 15899.024203586592\n<br>PNL: 5.080731639291844\n<br>Close types: {'STOP_LOSS': 12, 'TIME_LIMIT': 1, 'TRAILING_STOP': 32}\n\nConfig:\n<br>Id: 2507\n<br>BB Length: 200\n<br>BB Std: 1.4\n<br>Take profit: None\n<br>Stop loss: 0.013067384096346859\n<br>Time limit: 86400\n<br>DCA Spreads: [Decimal('-0.00001'), Decimal('0.013067384096346859')]\n<br>DCA Amounts: [Decimal('1'), Decimal('1.9478730743812567')]\n"
          ],
          [
           "\nPair: IO-USDT\n<br>Volume: 10431.245516524348\n<br>PNL: 13.666013329334543\n<br>Close types: {'STOP_LOSS': 7, 'TIME_LIMIT': 2, 'TRAILING_STOP': 20}\n\nConfig:\n<br>Id: 2556\n<br>BB Length: 200\n<br>BB Std: 2.2\n<br>Take profit: None\n<br>Stop loss: 0.015481166257437376\n<br>Time limit: 86400\n<br>DCA Spreads: [Decimal('-0.00001'), Decimal('0.028956458978292993')]\n<br>DCA Amounts: [Decimal('1'), Decimal('1.1183565893841827')]\n"
          ]
         ],
         "hovertemplate": "trading_pair=IO-USDT<br>total_volume=%{x}<br>net_pnl_quote=%{y}<br>sharpe_ratio=%{marker.size}<br>custom_hover_text=%{customdata[0]}<extra></extra>",
         "legendgroup": "IO-USDT",
         "marker": {
          "color": "#B6E880",
          "size": [
           0.6894294457209257,
           0.0195494590926546,
           0.9175037840515657,
           1.035574165045179,
           0.3349043099367357,
           0.9141470248820386,
           1.2602122727387064,
           1.6098573373747567,
           1.4803441816080112,
           0.951479889603047,
           0.8624118371138378,
           1.0230601515639832,
           1.3687800638917746
          ],
          "sizemode": "area",
          "sizeref": 0.009168875998020496,
          "symbol": "circle"
         },
         "mode": "markers",
         "name": "IO-USDT",
         "orientation": "v",
         "showlegend": true,
         "type": "scatter",
         "x": [
          12218.00611830943,
          21633.40470193786,
          11504.946157321701,
          35217.13745393161,
          25259.88517902451,
          11086.259152422861,
          23820.270193134304,
          13442.688249465351,
          12189.544477715397,
          13062.618829420595,
          18800.537515307627,
          15899.024203586592,
          10431.245516524348
         ],
         "xaxis": "x",
         "y": [
          5.088480152749355,
          0.8016940786466122,
          18.093866794782375,
          11.220361463326496,
          2.6161991102796263,
          2.7512718269222383,
          11.21765772494218,
          27.56210233822532,
          24.05063816669314,
          0.35823582266590637,
          4.436386336935971,
          5.080731639291844,
          13.666013329334543
         ],
         "yaxis": "y"
        },
        {
         "customdata": [
          [
           "\nPair: LEVER-USDT\n<br>Volume: 22595.290907969716\n<br>PNL: 0.38910428773119965\n<br>Close types: {'STOP_LOSS': 17, 'TIME_LIMIT': 1, 'TRAILING_STOP': 50}\n\nConfig:\n<br>Id: 290\n<br>BB Length: 100\n<br>BB Std: 1.4\n<br>Take profit: None\n<br>Stop loss: 0.006634218085923592\n<br>Time limit: 86400\n<br>DCA Spreads: [Decimal('-0.00001'), Decimal('0.014349252939130693')]\n<br>DCA Amounts: [Decimal('1'), Decimal('1.6261041576928288')]\n"
          ],
          [
           "\nPair: LEVER-USDT\n<br>Volume: 23523.376485876484\n<br>PNL: 8.45692662082797\n<br>Close types: {'STOP_LOSS': 14, 'TIME_LIMIT': 2, 'TRAILING_STOP': 54}\n\nConfig:\n<br>Id: 648\n<br>BB Length: 50\n<br>BB Std: 2.2\n<br>Take profit: None\n<br>Stop loss: 0.007098056018204808\n<br>Time limit: 86400\n<br>DCA Spreads: [Decimal('-0.00001'), Decimal('0.01530292599222273')]\n<br>DCA Amounts: [Decimal('1'), Decimal('1.2217260828875474')]\n"
          ],
          [
           "\nPair: LEVER-USDT\n<br>Volume: 14749.313498069618\n<br>PNL: 8.832598312454282\n<br>Close types: {'STOP_LOSS': 10, 'TIME_LIMIT': 2, 'TRAILING_STOP': 57}\n\nConfig:\n<br>Id: 2672\n<br>BB Length: 50\n<br>BB Std: 2.2\n<br>Take profit: None\n<br>Stop loss: 0.007098056018204808\n<br>Time limit: 86400\n<br>DCA Spreads: [Decimal('-0.00001'), Decimal('0.01530292599222273')]\n<br>DCA Amounts: [Decimal('1'), Decimal('5.17558049474386')]\n"
          ]
         ],
         "hovertemplate": "trading_pair=LEVER-USDT<br>total_volume=%{x}<br>net_pnl_quote=%{y}<br>sharpe_ratio=%{marker.size}<br>custom_hover_text=%{customdata[0]}<extra></extra>",
         "legendgroup": "LEVER-USDT",
         "marker": {
          "color": "#FF97FF",
          "size": [
           0.2207237092442547,
           0.45056650661753234,
           1.6078053425322043
          ],
          "sizemode": "area",
          "sizeref": 0.009168875998020496,
          "symbol": "circle"
         },
         "mode": "markers",
         "name": "LEVER-USDT",
         "orientation": "v",
         "showlegend": true,
         "type": "scatter",
         "x": [
          22595.290907969716,
          23523.376485876484,
          14749.313498069618
         ],
         "xaxis": "x",
         "y": [
          0.38910428773119965,
          8.45692662082797,
          8.832598312454282
         ],
         "yaxis": "y"
        },
        {
         "customdata": [
          [
           "\nPair: FET-USDT\n<br>Volume: 10187.41319416955\n<br>PNL: 25.636865770209226\n<br>Close types: {'STOP_LOSS': 7, 'TRAILING_STOP': 20}\n\nConfig:\n<br>Id: 302\n<br>BB Length: 200\n<br>BB Std: 1.8\n<br>Take profit: None\n<br>Stop loss: 0.026374286479726363\n<br>Time limit: 86400\n<br>DCA Spreads: [Decimal('-0.00001'), Decimal('0.026374286479726363')]\n<br>DCA Amounts: [Decimal('1'), Decimal('2.5184525328561302')]\n"
          ],
          [
           "\nPair: FET-USDT\n<br>Volume: 11150.236535726059\n<br>PNL: 3.5309579663505044\n<br>Close types: {'STOP_LOSS': 8, 'TRAILING_STOP': 21}\n\nConfig:\n<br>Id: 722\n<br>BB Length: 200\n<br>BB Std: 1.8\n<br>Take profit: None\n<br>Stop loss: 0.026374286479726363\n<br>Time limit: 86400\n<br>DCA Spreads: [Decimal('-0.00001'), Decimal('0.026374286479726363')]\n<br>DCA Amounts: [Decimal('1'), Decimal('1.373502984999591')]\n"
          ],
          [
           "\nPair: FET-USDT\n<br>Volume: 21981.689445547654\n<br>PNL: 4.267589449031098\n<br>Close types: {'STOP_LOSS': 21, 'TIME_LIMIT': 1, 'TRAILING_STOP': 51}\n\nConfig:\n<br>Id: 1028\n<br>BB Length: 50\n<br>BB Std: 1.8\n<br>Take profit: None\n<br>Stop loss: 0.009886127580817096\n<br>Time limit: 86400\n<br>DCA Spreads: [Decimal('-0.00001'), Decimal('0.023519539880256332')]\n<br>DCA Amounts: [Decimal('1'), Decimal('4.21065576849644')]\n"
          ]
         ],
         "hovertemplate": "trading_pair=FET-USDT<br>total_volume=%{x}<br>net_pnl_quote=%{y}<br>sharpe_ratio=%{marker.size}<br>custom_hover_text=%{customdata[0]}<extra></extra>",
         "legendgroup": "FET-USDT",
         "marker": {
          "color": "#FECB52",
          "size": [
           2.3621760696186627,
           0.8756363693005754,
           0.5354035279372638
          ],
          "sizemode": "area",
          "sizeref": 0.009168875998020496,
          "symbol": "circle"
         },
         "mode": "markers",
         "name": "FET-USDT",
         "orientation": "v",
         "showlegend": true,
         "type": "scatter",
         "x": [
          10187.41319416955,
          11150.236535726059,
          21981.689445547654
         ],
         "xaxis": "x",
         "y": [
          25.636865770209226,
          3.5309579663505044,
          4.267589449031098
         ],
         "yaxis": "y"
        },
        {
         "customdata": [
          [
           "\nPair: ASTR-USDT\n<br>Volume: 27952.29608230695\n<br>PNL: 4.282772504238998\n<br>Close types: {'STOP_LOSS': 18, 'TIME_LIMIT': 2, 'TRAILING_STOP': 76}\n\nConfig:\n<br>Id: 354\n<br>BB Length: 50\n<br>BB Std: 1.8\n<br>Take profit: None\n<br>Stop loss: 0.005962634159268663\n<br>Time limit: 86400\n<br>DCA Spreads: [Decimal('-0.00001'), Decimal('0.012449334105385056')]\n<br>DCA Amounts: [Decimal('1'), Decimal('1.7284976760793818')]\n"
          ],
          [
           "\nPair: ASTR-USDT\n<br>Volume: 10729.423754441206\n<br>PNL: 4.42424772309642\n<br>Close types: {'STOP_LOSS': 8, 'TIME_LIMIT': 2, 'TRAILING_STOP': 46}\n\nConfig:\n<br>Id: 508\n<br>BB Length: 100\n<br>BB Std: 1.8\n<br>Take profit: None\n<br>Stop loss: 0.006626732492138136\n<br>Time limit: 86400\n<br>DCA Spreads: [Decimal('-0.00001'), Decimal('0.02591282028045775')]\n<br>DCA Amounts: [Decimal('1'), Decimal('3.8571330356391664')]\n"
          ]
         ],
         "hovertemplate": "trading_pair=ASTR-USDT<br>total_volume=%{x}<br>net_pnl_quote=%{y}<br>sharpe_ratio=%{marker.size}<br>custom_hover_text=%{customdata[0]}<extra></extra>",
         "legendgroup": "ASTR-USDT",
         "marker": {
          "color": "#636EFA",
          "size": [
           1.126435845825837,
           1.1154690460860863
          ],
          "sizemode": "area",
          "sizeref": 0.009168875998020496,
          "symbol": "circle"
         },
         "mode": "markers",
         "name": "ASTR-USDT",
         "orientation": "v",
         "showlegend": true,
         "type": "scatter",
         "x": [
          27952.29608230695,
          10729.423754441206
         ],
         "xaxis": "x",
         "y": [
          4.282772504238998,
          4.42424772309642
         ],
         "yaxis": "y"
        },
        {
         "customdata": [
          [
           "\nPair: APE-USDT\n<br>Volume: 37439.55514667929\n<br>PNL: 14.046239018610802\n<br>Close types: {'STOP_LOSS': 23, 'TIME_LIMIT': 1, 'TRAILING_STOP': 106}\n\nConfig:\n<br>Id: 366\n<br>BB Length: 50\n<br>BB Std: 1.4\n<br>Take profit: None\n<br>Stop loss: 0.005433142167219946\n<br>Time limit: 86400\n<br>DCA Spreads: [Decimal('-0.00001'), Decimal('0.011172518241974402')]\n<br>DCA Amounts: [Decimal('1'), Decimal('1.7157871458092284')]\n"
          ],
          [
           "\nPair: APE-USDT\n<br>Volume: 24076.365593785642\n<br>PNL: 4.159121610049571\n<br>Close types: {'STOP_LOSS': 21, 'TIME_LIMIT': 2, 'TRAILING_STOP': 67}\n\nConfig:\n<br>Id: 703\n<br>BB Length: 50\n<br>BB Std: 1.4\n<br>Take profit: None\n<br>Stop loss: 0.005433142167219946\n<br>Time limit: 86400\n<br>DCA Spreads: [Decimal('-0.00001'), Decimal('0.011172518241974402')]\n<br>DCA Amounts: [Decimal('1'), Decimal('3.296874073329782')]\n"
          ],
          [
           "\nPair: APE-USDT\n<br>Volume: 29532.871604168817\n<br>PNL: 12.145269304215256\n<br>Close types: {'STOP_LOSS': 17, 'TIME_LIMIT': 1, 'TRAILING_STOP': 81}\n\nConfig:\n<br>Id: 2440\n<br>BB Length: 50\n<br>BB Std: 1.8\n<br>Take profit: None\n<br>Stop loss: 0.005812830527015941\n<br>Time limit: 86400\n<br>DCA Spreads: [Decimal('-0.00001'), Decimal('0.012222741543594779')]\n<br>DCA Amounts: [Decimal('1'), Decimal('1.5448883646126745')]\n"
          ],
          [
           "\nPair: APE-USDT\n<br>Volume: 23098.461015370613\n<br>PNL: 4.798581673033982\n<br>Close types: {'STOP_LOSS': 17, 'TIME_LIMIT': 1, 'TRAILING_STOP': 113}\n\nConfig:\n<br>Id: 2817\n<br>BB Length: 50\n<br>BB Std: 1.4\n<br>Take profit: None\n<br>Stop loss: 0.005433142167219946\n<br>Time limit: 86400\n<br>DCA Spreads: [Decimal('-0.00001'), Decimal('0.011172518241974402')]\n<br>DCA Amounts: [Decimal('1'), Decimal('6.380615937296886')]\n"
          ]
         ],
         "hovertemplate": "trading_pair=APE-USDT<br>total_volume=%{x}<br>net_pnl_quote=%{y}<br>sharpe_ratio=%{marker.size}<br>custom_hover_text=%{customdata[0]}<extra></extra>",
         "legendgroup": "APE-USDT",
         "marker": {
          "color": "#EF553B",
          "size": [
           1.3902671393121901,
           0.2578227905519716,
           0.5374949229785473,
           0.007048536674006711
          ],
          "sizemode": "area",
          "sizeref": 0.009168875998020496,
          "symbol": "circle"
         },
         "mode": "markers",
         "name": "APE-USDT",
         "orientation": "v",
         "showlegend": true,
         "type": "scatter",
         "x": [
          37439.55514667929,
          24076.365593785642,
          29532.871604168817,
          23098.461015370613
         ],
         "xaxis": "x",
         "y": [
          14.046239018610802,
          4.159121610049571,
          12.145269304215256,
          4.798581673033982
         ],
         "yaxis": "y"
        },
        {
         "customdata": [
          [
           "\nPair: SEI-USDT\n<br>Volume: 42150.260354056096\n<br>PNL: 9.754044432150605\n<br>Close types: {'STOP_LOSS': 30, 'TIME_LIMIT': 1, 'TRAILING_STOP': 85}\n\nConfig:\n<br>Id: 368\n<br>BB Length: 50\n<br>BB Std: 1.4\n<br>Take profit: None\n<br>Stop loss: 0.006274097610732478\n<br>Time limit: 86400\n<br>DCA Spreads: [Decimal('-0.00001'), Decimal('0.013054899660926642')]\n<br>DCA Amounts: [Decimal('1'), Decimal('1.1366229284287472')]\n"
          ],
          [
           "\nPair: SEI-USDT\n<br>Volume: 10990.073363683718\n<br>PNL: 6.3153309346794675\n<br>Close types: {'STOP_LOSS': 10, 'TIME_LIMIT': 2, 'TRAILING_STOP': 35}\n\nConfig:\n<br>Id: 736\n<br>BB Length: 100\n<br>BB Std: 1.4\n<br>Take profit: None\n<br>Stop loss: 0.00884665792922667\n<br>Time limit: 86400\n<br>DCA Spreads: [Decimal('-0.00001'), Decimal('0.02540192926045022')]\n<br>DCA Amounts: [Decimal('1'), Decimal('5.3948372574238315')]\n"
          ],
          [
           "\nPair: SEI-USDT\n<br>Volume: 36602.76184402258\n<br>PNL: 11.972510715728315\n<br>Close types: {'STOP_LOSS': 24, 'TIME_LIMIT': 1, 'TRAILING_STOP': 74}\n\nConfig:\n<br>Id: 852\n<br>BB Length: 50\n<br>BB Std: 1.8\n<br>Take profit: None\n<br>Stop loss: 0.008030337436571718\n<br>Time limit: 86400\n<br>DCA Spreads: [Decimal('-0.00001'), Decimal('0.014352920353200752')]\n<br>DCA Amounts: [Decimal('1'), Decimal('1.0267748812571664')]\n"
          ],
          [
           "\nPair: SEI-USDT\n<br>Volume: 11503.826634832256\n<br>PNL: 12.590673192143413\n<br>Close types: {'STOP_LOSS': 8, 'TIME_LIMIT': 2, 'TRAILING_STOP': 20}\n\nConfig:\n<br>Id: 1351\n<br>BB Length: 100\n<br>BB Std: 2.2\n<br>Take profit: None\n<br>Stop loss: 0.017187940264863324\n<br>Time limit: 86400\n<br>DCA Spreads: [Decimal('-0.00001'), Decimal('0.017187940264863324')]\n<br>DCA Amounts: [Decimal('1'), Decimal('2.0929562535050623')]\n"
          ],
          [
           "\nPair: SEI-USDT\n<br>Volume: 22504.7437962512\n<br>PNL: 4.101756143180321\n<br>Close types: {'STOP_LOSS': 18, 'TIME_LIMIT': 1, 'TRAILING_STOP': 79}\n\nConfig:\n<br>Id: 1434\n<br>BB Length: 50\n<br>BB Std: 1.8\n<br>Take profit: None\n<br>Stop loss: 0.008030337436571718\n<br>Time limit: 86400\n<br>DCA Spreads: [Decimal('-0.00001'), Decimal('0.014352920353200752')]\n<br>DCA Amounts: [Decimal('1'), Decimal('4.169594999381805')]\n"
          ],
          [
           "\nPair: SEI-USDT\n<br>Volume: 28644.306270938217\n<br>PNL: 2.076539750658207\n<br>Close types: {'STOP_LOSS': 28, 'TIME_LIMIT': 1, 'TRAILING_STOP': 62}\n\nConfig:\n<br>Id: 2240\n<br>BB Length: 50\n<br>BB Std: 1.4\n<br>Take profit: None\n<br>Stop loss: 0.006274097610732478\n<br>Time limit: 86400\n<br>DCA Spreads: [Decimal('-0.00001'), Decimal('0.013054899660926642')]\n<br>DCA Amounts: [Decimal('1'), Decimal('2.4384579951375245')]\n"
          ],
          [
           "\nPair: SEI-USDT\n<br>Volume: 19927.228213423543\n<br>PNL: 4.4765226159346865\n<br>Close types: {'STOP_LOSS': 14, 'TIME_LIMIT': 2, 'TRAILING_STOP': 47}\n\nConfig:\n<br>Id: 2694\n<br>BB Length: 50\n<br>BB Std: 2.2\n<br>Take profit: None\n<br>Stop loss: 0.007977907333537867\n<br>Time limit: 86400\n<br>DCA Spreads: [Decimal('-0.00001'), Decimal('0.020072277185673768')]\n<br>DCA Amounts: [Decimal('1'), Decimal('1.5504830350945498')]\n"
          ]
         ],
         "hovertemplate": "trading_pair=SEI-USDT<br>total_volume=%{x}<br>net_pnl_quote=%{y}<br>sharpe_ratio=%{marker.size}<br>custom_hover_text=%{customdata[0]}<extra></extra>",
         "legendgroup": "SEI-USDT",
         "marker": {
          "color": "#00CC96",
          "size": [
           1.0681179648752905,
           0.9686519228732567,
           0.9010169532351153,
           1.353865543961482,
           0.3834538973680519,
           0.47694318497509763,
           0.9632814752000927
          ],
          "sizemode": "area",
          "sizeref": 0.009168875998020496,
          "symbol": "circle"
         },
         "mode": "markers",
         "name": "SEI-USDT",
         "orientation": "v",
         "showlegend": true,
         "type": "scatter",
         "x": [
          42150.260354056096,
          10990.073363683718,
          36602.76184402258,
          11503.826634832256,
          22504.7437962512,
          28644.306270938217,
          19927.228213423543
         ],
         "xaxis": "x",
         "y": [
          9.754044432150605,
          6.3153309346794675,
          11.972510715728315,
          12.590673192143413,
          4.101756143180321,
          2.076539750658207,
          4.4765226159346865
         ],
         "yaxis": "y"
        },
        {
         "customdata": [
          [
           "\nPair: BNX-USDT\n<br>Volume: 31871.92345298413\n<br>PNL: 7.189866568874563\n<br>Close types: {'STOP_LOSS': 27, 'TRAILING_STOP': 97}\n\nConfig:\n<br>Id: 371\n<br>BB Length: 50\n<br>BB Std: 1.4\n<br>Take profit: None\n<br>Stop loss: 0.004875330826020264\n<br>Time limit: 86400\n<br>DCA Spreads: [Decimal('-0.00001'), Decimal('0.010774142059058255')]\n<br>DCA Amounts: [Decimal('1'), Decimal('3.3560869196223617')]\n"
          ],
          [
           "\nPair: BNX-USDT\n<br>Volume: 24314.89788380709\n<br>PNL: 6.080648618069064\n<br>Close types: {'STOP_LOSS': 26, 'TRAILING_STOP': 54}\n\nConfig:\n<br>Id: 932\n<br>BB Length: 50\n<br>BB Std: 1.4\n<br>Take profit: None\n<br>Stop loss: 0.004875330826020264\n<br>Time limit: 86400\n<br>DCA Spreads: [Decimal('-0.00001'), Decimal('0.010774142059058255')]\n<br>DCA Amounts: [Decimal('1'), Decimal('3.750670644560568')]\n"
          ],
          [
           "\nPair: BNX-USDT\n<br>Volume: 21866.03916024518\n<br>PNL: 5.780694069057653\n<br>Close types: {'STOP_LOSS': 18, 'TRAILING_STOP': 46}\n\nConfig:\n<br>Id: 985\n<br>BB Length: 100\n<br>BB Std: 1.4\n<br>Take profit: None\n<br>Stop loss: 0.007784949098409771\n<br>Time limit: 86400\n<br>DCA Spreads: [Decimal('-0.00001'), Decimal('0.016778242118413805')]\n<br>DCA Amounts: [Decimal('1'), Decimal('1.4941173260215082')]\n"
          ],
          [
           "\nPair: BNX-USDT\n<br>Volume: 43827.29930311103\n<br>PNL: 7.448090425225308\n<br>Close types: {'STOP_LOSS': 33, 'TRAILING_STOP': 91}\n\nConfig:\n<br>Id: 2100\n<br>BB Length: 50\n<br>BB Std: 1.4\n<br>Take profit: None\n<br>Stop loss: 0.004875330826020264\n<br>Time limit: 86400\n<br>DCA Spreads: [Decimal('-0.00001'), Decimal('0.010774142059058255')]\n<br>DCA Amounts: [Decimal('1'), Decimal('1.2724151937013763')]\n"
          ]
         ],
         "hovertemplate": "trading_pair=BNX-USDT<br>total_volume=%{x}<br>net_pnl_quote=%{y}<br>sharpe_ratio=%{marker.size}<br>custom_hover_text=%{customdata[0]}<extra></extra>",
         "legendgroup": "BNX-USDT",
         "marker": {
          "color": "#AB63FA",
          "size": [
           0.45074360836344624,
           0.019470395879428205,
           0.4008921020403537,
           0.36534001111088416
          ],
          "sizemode": "area",
          "sizeref": 0.009168875998020496,
          "symbol": "circle"
         },
         "mode": "markers",
         "name": "BNX-USDT",
         "orientation": "v",
         "showlegend": true,
         "type": "scatter",
         "x": [
          31871.92345298413,
          24314.89788380709,
          21866.03916024518,
          43827.29930311103
         ],
         "xaxis": "x",
         "y": [
          7.189866568874563,
          6.080648618069064,
          5.780694069057653,
          7.448090425225308
         ],
         "yaxis": "y"
        },
        {
         "customdata": [
          [
           "\nPair: ZETA-USDT\n<br>Volume: 19963.634116718866\n<br>PNL: 1.3666273362276973\n<br>Close types: {'STOP_LOSS': 19, 'TIME_LIMIT': 2, 'TRAILING_STOP': 57}\n\nConfig:\n<br>Id: 379\n<br>BB Length: 50\n<br>BB Std: 1.8\n<br>Take profit: None\n<br>Stop loss: 0.005255617721849389\n<br>Time limit: 86400\n<br>DCA Spreads: [Decimal('-0.00001'), Decimal('0.01052233712847231')]\n<br>DCA Amounts: [Decimal('1'), Decimal('3.967743585795832')]\n"
          ]
         ],
         "hovertemplate": "trading_pair=ZETA-USDT<br>total_volume=%{x}<br>net_pnl_quote=%{y}<br>sharpe_ratio=%{marker.size}<br>custom_hover_text=%{customdata[0]}<extra></extra>",
         "legendgroup": "ZETA-USDT",
         "marker": {
          "color": "#FFA15A",
          "size": [
           0.35009833502207505
          ],
          "sizemode": "area",
          "sizeref": 0.009168875998020496,
          "symbol": "circle"
         },
         "mode": "markers",
         "name": "ZETA-USDT",
         "orientation": "v",
         "showlegend": true,
         "type": "scatter",
         "x": [
          19963.634116718866
         ],
         "xaxis": "x",
         "y": [
          1.3666273362276973
         ],
         "yaxis": "y"
        },
        {
         "customdata": [
          [
           "\nPair: VANRY-USDT\n<br>Volume: 14446.401831485005\n<br>PNL: 1.9115913393734512\n<br>Close types: {'STOP_LOSS': 12, 'TIME_LIMIT': 1, 'TRAILING_STOP': 39}\n\nConfig:\n<br>Id: 381\n<br>BB Length: 100\n<br>BB Std: 1.4\n<br>Take profit: None\n<br>Stop loss: 0.008006233731954025\n<br>Time limit: 86400\n<br>DCA Spreads: [Decimal('-0.00001'), Decimal('0.016569462256977138')]\n<br>DCA Amounts: [Decimal('1'), Decimal('2.770837704049895')]\n"
          ]
         ],
         "hovertemplate": "trading_pair=VANRY-USDT<br>total_volume=%{x}<br>net_pnl_quote=%{y}<br>sharpe_ratio=%{marker.size}<br>custom_hover_text=%{customdata[0]}<extra></extra>",
         "legendgroup": "VANRY-USDT",
         "marker": {
          "color": "#19D3F3",
          "size": [
           0.7444325162089481
          ],
          "sizemode": "area",
          "sizeref": 0.009168875998020496,
          "symbol": "circle"
         },
         "mode": "markers",
         "name": "VANRY-USDT",
         "orientation": "v",
         "showlegend": true,
         "type": "scatter",
         "x": [
          14446.401831485005
         ],
         "xaxis": "x",
         "y": [
          1.9115913393734512
         ],
         "yaxis": "y"
        },
        {
         "customdata": [
          [
           "\nPair: MANTA-USDT\n<br>Volume: 27796.914477862563\n<br>PNL: 11.702727146470748\n<br>Close types: {'STOP_LOSS': 24, 'TIME_LIMIT': 1, 'TRAILING_STOP': 73}\n\nConfig:\n<br>Id: 386\n<br>BB Length: 50\n<br>BB Std: 1.4\n<br>Take profit: None\n<br>Stop loss: 0.0054266455464695666\n<br>Time limit: 86400\n<br>DCA Spreads: [Decimal('-0.00001'), Decimal('0.010898271385480282')]\n<br>DCA Amounts: [Decimal('1'), Decimal('3.164576519698426')]\n"
          ],
          [
           "\nPair: MANTA-USDT\n<br>Volume: 14994.840792012621\n<br>PNL: 2.778499100221931\n<br>Close types: {'STOP_LOSS': 11, 'TIME_LIMIT': 1, 'TRAILING_STOP': 55}\n\nConfig:\n<br>Id: 789\n<br>BB Length: 100\n<br>BB Std: 1.4\n<br>Take profit: None\n<br>Stop loss: 0.008074628320213129\n<br>Time limit: 86400\n<br>DCA Spreads: [Decimal('-0.00001'), Decimal('0.016491633070869673')]\n<br>DCA Amounts: [Decimal('1'), Decimal('4.2044751616373395')]\n"
          ],
          [
           "\nPair: MANTA-USDT\n<br>Volume: 41392.695967817126\n<br>PNL: 13.703135396569651\n<br>Close types: {'STOP_LOSS': 27, 'TIME_LIMIT': 1, 'TRAILING_STOP': 96}\n\nConfig:\n<br>Id: 1298\n<br>BB Length: 50\n<br>BB Std: 1.4\n<br>Take profit: None\n<br>Stop loss: 0.0054266455464695666\n<br>Time limit: 86400\n<br>DCA Spreads: [Decimal('-0.00001'), Decimal('0.010898271385480282')]\n<br>DCA Amounts: [Decimal('1'), Decimal('1.3101934018633279')]\n"
          ],
          [
           "\nPair: MANTA-USDT\n<br>Volume: 25572.410238339144\n<br>PNL: 6.365150884950087\n<br>Close types: {'STOP_LOSS': 21, 'TIME_LIMIT': 1, 'TRAILING_STOP': 63}\n\nConfig:\n<br>Id: 1563\n<br>BB Length: 50\n<br>BB Std: 1.8\n<br>Take profit: None\n<br>Stop loss: 0.006628641516996721\n<br>Time limit: 86400\n<br>DCA Spreads: [Decimal('-0.00001'), Decimal('0.011866067920414922')]\n<br>DCA Amounts: [Decimal('1'), Decimal('2.5497937964790047')]\n"
          ]
         ],
         "hovertemplate": "trading_pair=MANTA-USDT<br>total_volume=%{x}<br>net_pnl_quote=%{y}<br>sharpe_ratio=%{marker.size}<br>custom_hover_text=%{customdata[0]}<extra></extra>",
         "legendgroup": "MANTA-USDT",
         "marker": {
          "color": "#FF6692",
          "size": [
           1.168339955602674,
           0.08896441990839186,
           1.997520640892371,
           0.4723381922736462
          ],
          "sizemode": "area",
          "sizeref": 0.009168875998020496,
          "symbol": "circle"
         },
         "mode": "markers",
         "name": "MANTA-USDT",
         "orientation": "v",
         "showlegend": true,
         "type": "scatter",
         "x": [
          27796.914477862563,
          14994.840792012621,
          41392.695967817126,
          25572.410238339144
         ],
         "xaxis": "x",
         "y": [
          11.702727146470748,
          2.778499100221931,
          13.703135396569651,
          6.365150884950087
         ],
         "yaxis": "y"
        },
        {
         "customdata": [
          [
           "\nPair: KLAY-USDT\n<br>Volume: 14295.572879709553\n<br>PNL: 5.064236026821708\n<br>Close types: {'STOP_LOSS': 11, 'TIME_LIMIT': 1, 'TRAILING_STOP': 43}\n\nConfig:\n<br>Id: 397\n<br>BB Length: 100\n<br>BB Std: 1.8\n<br>Take profit: None\n<br>Stop loss: 0.007144139451247693\n<br>Time limit: 86400\n<br>DCA Spreads: [Decimal('-0.00001'), Decimal('0.01907853451652444')]\n<br>DCA Amounts: [Decimal('1'), Decimal('2.636070044996295')]\n"
          ],
          [
           "\nPair: KLAY-USDT\n<br>Volume: 18027.960240718832\n<br>PNL: 4.614561253770496\n<br>Close types: {'STOP_LOSS': 15, 'TIME_LIMIT': 1, 'TRAILING_STOP': 51}\n\nConfig:\n<br>Id: 863\n<br>BB Length: 50\n<br>BB Std: 1.8\n<br>Take profit: None\n<br>Stop loss: 0.007214270848342144\n<br>Time limit: 86400\n<br>DCA Spreads: [Decimal('-0.00001'), Decimal('0.01504614318961852')]\n<br>DCA Amounts: [Decimal('1'), Decimal('4.592423850611494')]\n"
          ]
         ],
         "hovertemplate": "trading_pair=KLAY-USDT<br>total_volume=%{x}<br>net_pnl_quote=%{y}<br>sharpe_ratio=%{marker.size}<br>custom_hover_text=%{customdata[0]}<extra></extra>",
         "legendgroup": "KLAY-USDT",
         "marker": {
          "color": "#B6E880",
          "size": [
           0.518460760745298,
           0.5470566850114581
          ],
          "sizemode": "area",
          "sizeref": 0.009168875998020496,
          "symbol": "circle"
         },
         "mode": "markers",
         "name": "KLAY-USDT",
         "orientation": "v",
         "showlegend": true,
         "type": "scatter",
         "x": [
          14295.572879709553,
          18027.960240718832
         ],
         "xaxis": "x",
         "y": [
          5.064236026821708,
          4.614561253770496
         ],
         "yaxis": "y"
        },
        {
         "customdata": [
          [
           "\nPair: ETHFI-USDT\n<br>Volume: 25233.042737202737\n<br>PNL: 6.214226505396156\n<br>Close types: {'STOP_LOSS': 23, 'TIME_LIMIT': 2, 'TRAILING_STOP': 92}\n\nConfig:\n<br>Id: 411\n<br>BB Length: 50\n<br>BB Std: 1.4\n<br>Take profit: None\n<br>Stop loss: 0.005227781926811141\n<br>Time limit: 86400\n<br>DCA Spreads: [Decimal('-0.00001'), Decimal('0.012158054711246211')]\n<br>DCA Amounts: [Decimal('1'), Decimal('4.978052088428643')]\n"
          ],
          [
           "\nPair: ETHFI-USDT\n<br>Volume: 37253.305279882865\n<br>PNL: 4.433938984185252\n<br>Close types: {'STOP_LOSS': 29, 'TIME_LIMIT': 2, 'TRAILING_STOP': 83}\n\nConfig:\n<br>Id: 501\n<br>BB Length: 50\n<br>BB Std: 1.4\n<br>Take profit: None\n<br>Stop loss: 0.005227781926811141\n<br>Time limit: 86400\n<br>DCA Spreads: [Decimal('-0.00001'), Decimal('0.012158054711246211')]\n<br>DCA Amounts: [Decimal('1'), Decimal('1.5688417762697546')]\n"
          ],
          [
           "\nPair: ETHFI-USDT\n<br>Volume: 24858.07513258427\n<br>PNL: 7.150694657163329\n<br>Close types: {'STOP_LOSS': 24, 'TIME_LIMIT': 2, 'TRAILING_STOP': 66}\n\nConfig:\n<br>Id: 1249\n<br>BB Length: 50\n<br>BB Std: 1.4\n<br>Take profit: None\n<br>Stop loss: 0.005227781926811141\n<br>Time limit: 86400\n<br>DCA Spreads: [Decimal('-0.00001'), Decimal('0.012158054711246211')]\n<br>DCA Amounts: [Decimal('1'), Decimal('3.504465415554699')]\n"
          ],
          [
           "\nPair: ETHFI-USDT\n<br>Volume: 13258.583917890637\n<br>PNL: 5.767002098611455\n<br>Close types: {'STOP_LOSS': 13, 'TIME_LIMIT': 2, 'TRAILING_STOP': 32}\n\nConfig:\n<br>Id: 2368\n<br>BB Length: 50\n<br>BB Std: 2.2\n<br>Take profit: None\n<br>Stop loss: 0.006544502617801053\n<br>Time limit: 86400\n<br>DCA Spreads: [Decimal('-0.00001'), Decimal('0.013585351447135208')]\n<br>DCA Amounts: [Decimal('1'), Decimal('3.0752615030669688')]\n"
          ],
          [
           "\nPair: ETHFI-USDT\n<br>Volume: 25691.97905292399\n<br>PNL: 1.0894782324953394\n<br>Close types: {'STOP_LOSS': 19, 'TIME_LIMIT': 1, 'TRAILING_STOP': 78}\n\nConfig:\n<br>Id: 2777\n<br>BB Length: 50\n<br>BB Std: 1.8\n<br>Take profit: None\n<br>Stop loss: 0.005965697240865032\n<br>Time limit: 86400\n<br>DCA Spreads: [Decimal('-0.00001'), Decimal('0.013840830449827002')]\n<br>DCA Amounts: [Decimal('1'), Decimal('2.784063173987465')]\n"
          ]
         ],
         "hovertemplate": "trading_pair=ETHFI-USDT<br>total_volume=%{x}<br>net_pnl_quote=%{y}<br>sharpe_ratio=%{marker.size}<br>custom_hover_text=%{customdata[0]}<extra></extra>",
         "legendgroup": "ETHFI-USDT",
         "marker": {
          "color": "#FF97FF",
          "size": [
           1.1860530021774425,
           0.7019172144476166,
           1.3388718774677053,
           0.5006843953776028,
           0.2505998533031608
          ],
          "sizemode": "area",
          "sizeref": 0.009168875998020496,
          "symbol": "circle"
         },
         "mode": "markers",
         "name": "ETHFI-USDT",
         "orientation": "v",
         "showlegend": true,
         "type": "scatter",
         "x": [
          25233.042737202737,
          37253.305279882865,
          24858.07513258427,
          13258.583917890637,
          25691.97905292399
         ],
         "xaxis": "x",
         "y": [
          6.214226505396156,
          4.433938984185252,
          7.150694657163329,
          5.767002098611455,
          1.0894782324953394
         ],
         "yaxis": "y"
        },
        {
         "customdata": [
          [
           "\nPair: THETA-USDT\n<br>Volume: 19251.597448313078\n<br>PNL: 2.3836141417566714\n<br>Close types: {'STOP_LOSS': 15, 'TIME_LIMIT': 1, 'TRAILING_STOP': 73}\n\nConfig:\n<br>Id: 430\n<br>BB Length: 50\n<br>BB Std: 1.8\n<br>Take profit: None\n<br>Stop loss: 0.005695335592242822\n<br>Time limit: 86400\n<br>DCA Spreads: [Decimal('-0.00001'), Decimal('0.013722362741560457')]\n<br>DCA Amounts: [Decimal('1'), Decimal('4.7090869005188365')]\n"
          ],
          [
           "\nPair: THETA-USDT\n<br>Volume: 12692.147951645517\n<br>PNL: 10.383735729895589\n<br>Close types: {'STOP_LOSS': 10, 'TRAILING_STOP': 21}\n\nConfig:\n<br>Id: 1482\n<br>BB Length: 200\n<br>BB Std: 1.8\n<br>Take profit: None\n<br>Stop loss: 0.01099849082860255\n<br>Time limit: 86400\n<br>DCA Spreads: [Decimal('-0.00001'), Decimal('0.01099849082860255')]\n<br>DCA Amounts: [Decimal('1'), Decimal('1.207619251655569')]\n"
          ],
          [
           "\nPair: THETA-USDT\n<br>Volume: 15196.46849040787\n<br>PNL: 9.68226958385518\n<br>Close types: {'STOP_LOSS': 11, 'TIME_LIMIT': 1, 'TRAILING_STOP': 28}\n\nConfig:\n<br>Id: 1738\n<br>BB Length: 200\n<br>BB Std: 1.4\n<br>Take profit: None\n<br>Stop loss: 0.010640706361784017\n<br>Time limit: 86400\n<br>DCA Spreads: [Decimal('-0.00001'), Decimal('0.010640706361784017')]\n<br>DCA Amounts: [Decimal('1'), Decimal('1.7619507711282467')]\n"
          ]
         ],
         "hovertemplate": "trading_pair=THETA-USDT<br>total_volume=%{x}<br>net_pnl_quote=%{y}<br>sharpe_ratio=%{marker.size}<br>custom_hover_text=%{customdata[0]}<extra></extra>",
         "legendgroup": "THETA-USDT",
         "marker": {
          "color": "#FECB52",
          "size": [
           0.5619307076104931,
           1.3121519164844566,
           1.5988337557128822
          ],
          "sizemode": "area",
          "sizeref": 0.009168875998020496,
          "symbol": "circle"
         },
         "mode": "markers",
         "name": "THETA-USDT",
         "orientation": "v",
         "showlegend": true,
         "type": "scatter",
         "x": [
          19251.597448313078,
          12692.147951645517,
          15196.46849040787
         ],
         "xaxis": "x",
         "y": [
          2.3836141417566714,
          10.383735729895589,
          9.68226958385518
         ],
         "yaxis": "y"
        },
        {
         "customdata": [
          [
           "\nPair: BLUR-USDT\n<br>Volume: 26631.427393292623\n<br>PNL: 2.6425781752145006\n<br>Close types: {'STOP_LOSS': 19, 'TIME_LIMIT': 1, 'TRAILING_STOP': 72}\n\nConfig:\n<br>Id: 445\n<br>BB Length: 50\n<br>BB Std: 1.8\n<br>Take profit: None\n<br>Stop loss: 0.005820105820105766\n<br>Time limit: 86400\n<br>DCA Spreads: [Decimal('-0.00001'), Decimal('0.012622470955804295')]\n<br>DCA Amounts: [Decimal('1'), Decimal('1.9525485681461165')]\n"
          ],
          [
           "\nPair: BLUR-USDT\n<br>Volume: 27084.95983406926\n<br>PNL: 3.741860691856571\n<br>Close types: {'STOP_LOSS': 25, 'TIME_LIMIT': 1, 'TRAILING_STOP': 71}\n\nConfig:\n<br>Id: 2388\n<br>BB Length: 50\n<br>BB Std: 1.4\n<br>Take profit: None\n<br>Stop loss: 0.0049288061336253235\n<br>Time limit: 86400\n<br>DCA Spreads: [Decimal('-0.00001'), Decimal('0.011122881355932155')]\n<br>DCA Amounts: [Decimal('1'), Decimal('3.6670816096260097')]\n"
          ]
         ],
         "hovertemplate": "trading_pair=BLUR-USDT<br>total_volume=%{x}<br>net_pnl_quote=%{y}<br>sharpe_ratio=%{marker.size}<br>custom_hover_text=%{customdata[0]}<extra></extra>",
         "legendgroup": "BLUR-USDT",
         "marker": {
          "color": "#636EFA",
          "size": [
           0.7132568718033514,
           0.039567412312357976
          ],
          "sizemode": "area",
          "sizeref": 0.009168875998020496,
          "symbol": "circle"
         },
         "mode": "markers",
         "name": "BLUR-USDT",
         "orientation": "v",
         "showlegend": true,
         "type": "scatter",
         "x": [
          26631.427393292623,
          27084.95983406926
         ],
         "xaxis": "x",
         "y": [
          2.6425781752145006,
          3.741860691856571
         ],
         "yaxis": "y"
        },
        {
         "customdata": [
          [
           "\nPair: JASMY-USDT\n<br>Volume: 36054.66664297845\n<br>PNL: 7.353135527772697\n<br>Close types: {'STOP_LOSS': 28, 'TIME_LIMIT': 2, 'TRAILING_STOP': 98}\n\nConfig:\n<br>Id: 446\n<br>BB Length: 50\n<br>BB Std: 1.4\n<br>Take profit: None\n<br>Stop loss: 0.004479917610710622\n<br>Time limit: 86400\n<br>DCA Spreads: [Decimal('-0.00001'), Decimal('0.01156987311892021')]\n<br>DCA Amounts: [Decimal('1'), Decimal('2.1841898403667237')]\n"
          ],
          [
           "\nPair: JASMY-USDT\n<br>Volume: 26553.943732709853\n<br>PNL: 5.58632483714366\n<br>Close types: {'STOP_LOSS': 25, 'TIME_LIMIT': 2, 'TRAILING_STOP': 80}\n\nConfig:\n<br>Id: 936\n<br>BB Length: 50\n<br>BB Std: 1.4\n<br>Take profit: None\n<br>Stop loss: 0.004479917610710622\n<br>Time limit: 86400\n<br>DCA Spreads: [Decimal('-0.00001'), Decimal('0.01156987311892021')]\n<br>DCA Amounts: [Decimal('1'), Decimal('4.401017524037891')]\n"
          ],
          [
           "\nPair: JASMY-USDT\n<br>Volume: 22537.075636571866\n<br>PNL: 1.8376633634572062\n<br>Close types: {'STOP_LOSS': 18, 'TIME_LIMIT': 1, 'TRAILING_STOP': 66}\n\nConfig:\n<br>Id: 1816\n<br>BB Length: 50\n<br>BB Std: 1.8\n<br>Take profit: None\n<br>Stop loss: 0.005767263188782203\n<br>Time limit: 86400\n<br>DCA Spreads: [Decimal('-0.00001'), Decimal('0.013121901716651365')]\n<br>DCA Amounts: [Decimal('1'), Decimal('2.5556910352625914')]\n"
          ],
          [
           "\nPair: JASMY-USDT\n<br>Volume: 12741.319835334849\n<br>PNL: 4.998071956289262\n<br>Close types: {'STOP_LOSS': 10, 'TRAILING_STOP': 23}\n\nConfig:\n<br>Id: 2249\n<br>BB Length: 200\n<br>BB Std: 1.4\n<br>Take profit: None\n<br>Stop loss: 0.012564577269149776\n<br>Time limit: 86400\n<br>DCA Spreads: [Decimal('-0.00001'), Decimal('0.012564577269149776')]\n<br>DCA Amounts: [Decimal('1'), Decimal('1.8866818329722936')]\n"
          ],
          [
           "\nPair: JASMY-USDT\n<br>Volume: 26334.079784482034\n<br>PNL: 6.750480687830793\n<br>Close types: {'STOP_LOSS': 24, 'TIME_LIMIT': 2, 'TRAILING_STOP': 105}\n\nConfig:\n<br>Id: 2686\n<br>BB Length: 50\n<br>BB Std: 1.4\n<br>Take profit: None\n<br>Stop loss: 0.004479917610710622\n<br>Time limit: 86400\n<br>DCA Spreads: [Decimal('-0.00001'), Decimal('0.01156987311892021')]\n<br>DCA Amounts: [Decimal('1'), Decimal('6.75787186995231')]\n"
          ]
         ],
         "hovertemplate": "trading_pair=JASMY-USDT<br>total_volume=%{x}<br>net_pnl_quote=%{y}<br>sharpe_ratio=%{marker.size}<br>custom_hover_text=%{customdata[0]}<extra></extra>",
         "legendgroup": "JASMY-USDT",
         "marker": {
          "color": "#EF553B",
          "size": [
           1.632965690443655,
           0.7714251031352066,
           0.6297504166300422,
           0.19467652739784094,
           0.8721732398070021
          ],
          "sizemode": "area",
          "sizeref": 0.009168875998020496,
          "symbol": "circle"
         },
         "mode": "markers",
         "name": "JASMY-USDT",
         "orientation": "v",
         "showlegend": true,
         "type": "scatter",
         "x": [
          36054.66664297845,
          26553.943732709853,
          22537.075636571866,
          12741.319835334849,
          26334.079784482034
         ],
         "xaxis": "x",
         "y": [
          7.353135527772697,
          5.58632483714366,
          1.8376633634572062,
          4.998071956289262,
          6.750480687830793
         ],
         "yaxis": "y"
        },
        {
         "customdata": [
          [
           "\nPair: SPELL-USDT\n<br>Volume: 12389.31650667702\n<br>PNL: 0.25959494894916646\n<br>Close types: {'STOP_LOSS': 12, 'TIME_LIMIT': 1, 'TRAILING_STOP': 42}\n\nConfig:\n<br>Id: 450\n<br>BB Length: 100\n<br>BB Std: 1.4\n<br>Take profit: None\n<br>Stop loss: 0.005660074677181699\n<br>Time limit: 86400\n<br>DCA Spreads: [Decimal('-0.00001'), Decimal('0.017931747772803562')]\n<br>DCA Amounts: [Decimal('1'), Decimal('5.166469859893632')]\n"
          ],
          [
           "\nPair: SPELL-USDT\n<br>Volume: 25219.573688246746\n<br>PNL: 9.567637461439263\n<br>Close types: {'STOP_LOSS': 15, 'TIME_LIMIT': 1, 'TRAILING_STOP': 76}\n\nConfig:\n<br>Id: 1619\n<br>BB Length: 50\n<br>BB Std: 1.8\n<br>Take profit: None\n<br>Stop loss: 0.0070161274260485\n<br>Time limit: 86400\n<br>DCA Spreads: [Decimal('-0.00001'), Decimal('0.013335519731649677')]\n<br>DCA Amounts: [Decimal('1'), Decimal('2.1694175947881065')]\n"
          ],
          [
           "\nPair: SPELL-USDT\n<br>Volume: 20874.36855951882\n<br>PNL: 4.637442343292029\n<br>Close types: {'STOP_LOSS': 17, 'TIME_LIMIT': 2, 'TRAILING_STOP': 75}\n\nConfig:\n<br>Id: 1804\n<br>BB Length: 50\n<br>BB Std: 1.4\n<br>Take profit: None\n<br>Stop loss: 0.005583472920156271\n<br>Time limit: 86400\n<br>DCA Spreads: [Decimal('-0.00001'), Decimal('0.012578616352201161')]\n<br>DCA Amounts: [Decimal('1'), Decimal('4.629127616814459')]\n"
          ],
          [
           "\nPair: SPELL-USDT\n<br>Volume: 20387.58105476402\n<br>PNL: 6.52434815578572\n<br>Close types: {'STOP_LOSS': 12, 'TIME_LIMIT': 1, 'TRAILING_STOP': 57}\n\nConfig:\n<br>Id: 2600\n<br>BB Length: 50\n<br>BB Std: 2.2\n<br>Take profit: None\n<br>Stop loss: 0.00713023281275649\n<br>Time limit: 86400\n<br>DCA Spreads: [Decimal('-0.00001'), Decimal('0.01746837563547545')]\n<br>DCA Amounts: [Decimal('1'), Decimal('1.6388463400138482')]\n"
          ],
          [
           "\nPair: SPELL-USDT\n<br>Volume: 29020.663747938295\n<br>PNL: 7.559332849784063\n<br>Close types: {'STOP_LOSS': 20, 'TIME_LIMIT': 1, 'TRAILING_STOP': 85}\n\nConfig:\n<br>Id: 2666\n<br>BB Length: 50\n<br>BB Std: 1.4\n<br>Take profit: None\n<br>Stop loss: 0.005583472920156271\n<br>Time limit: 86400\n<br>DCA Spreads: [Decimal('-0.00001'), Decimal('0.012578616352201161')]\n<br>DCA Amounts: [Decimal('1'), Decimal('2.271867825524076')]\n"
          ],
          [
           "\nPair: SPELL-USDT\n<br>Volume: 12064.925796146174\n<br>PNL: 5.655960754893852\n<br>Close types: {'STOP_LOSS': 7, 'TIME_LIMIT': 1, 'TRAILING_STOP': 47}\n\nConfig:\n<br>Id: 2829\n<br>BB Length: 100\n<br>BB Std: 1.8\n<br>Take profit: None\n<br>Stop loss: 0.008009993225111825\n<br>Time limit: 86400\n<br>DCA Spreads: [Decimal('-0.00001'), Decimal('0.025341630648323215')]\n<br>DCA Amounts: [Decimal('1'), Decimal('2.8816638725971933')]\n"
          ]
         ],
         "hovertemplate": "trading_pair=SPELL-USDT<br>total_volume=%{x}<br>net_pnl_quote=%{y}<br>sharpe_ratio=%{marker.size}<br>custom_hover_text=%{customdata[0]}<extra></extra>",
         "legendgroup": "SPELL-USDT",
         "marker": {
          "color": "#00CC96",
          "size": [
           0.44571458551376075,
           0.9582703069487086,
           1.1977670601408061,
           0.3525651915472592,
           0.9239467282603352,
           0.7170710478847444
          ],
          "sizemode": "area",
          "sizeref": 0.009168875998020496,
          "symbol": "circle"
         },
         "mode": "markers",
         "name": "SPELL-USDT",
         "orientation": "v",
         "showlegend": true,
         "type": "scatter",
         "x": [
          12389.31650667702,
          25219.573688246746,
          20874.36855951882,
          20387.58105476402,
          29020.663747938295,
          12064.925796146174
         ],
         "xaxis": "x",
         "y": [
          0.25959494894916646,
          9.567637461439263,
          4.637442343292029,
          6.52434815578572,
          7.559332849784063,
          5.655960754893852
         ],
         "yaxis": "y"
        },
        {
         "customdata": [
          [
           "\nPair: SYS-USDT\n<br>Volume: 15778.698942857609\n<br>PNL: 9.745761683198683\n<br>Close types: {'STOP_LOSS': 15, 'TIME_LIMIT': 1, 'TRAILING_STOP': 66}\n\nConfig:\n<br>Id: 481\n<br>BB Length: 50\n<br>BB Std: 1.4\n<br>Take profit: None\n<br>Stop loss: 0.006981397606281286\n<br>Time limit: 86400\n<br>DCA Spreads: [Decimal('-0.00001'), Decimal('0.021635978322168115')]\n<br>DCA Amounts: [Decimal('1'), Decimal('8.84465832355192')]\n"
          ],
          [
           "\nPair: SYS-USDT\n<br>Volume: 11858.73822228898\n<br>PNL: 2.7499702108484767\n<br>Close types: {'STOP_LOSS': 9, 'TIME_LIMIT': 1, 'TRAILING_STOP': 48}\n\nConfig:\n<br>Id: 753\n<br>BB Length: 50\n<br>BB Std: 2.2\n<br>Take profit: None\n<br>Stop loss: 0.009499136442141657\n<br>Time limit: 86400\n<br>DCA Spreads: [Decimal('-0.00001'), Decimal('0.028670721112076556')]\n<br>DCA Amounts: [Decimal('1'), Decimal('3.9157342259180146')]\n"
          ],
          [
           "\nPair: SYS-USDT\n<br>Volume: 12297.112886358535\n<br>PNL: 18.665852065929506\n<br>Close types: {'STOP_LOSS': 8, 'TIME_LIMIT': 1, 'TRAILING_STOP': 25}\n\nConfig:\n<br>Id: 909\n<br>BB Length: 100\n<br>BB Std: 2.2\n<br>Take profit: None\n<br>Stop loss: 0.017678708685626415\n<br>Time limit: 86400\n<br>DCA Spreads: [Decimal('-0.00001'), Decimal('0.017678708685626415')]\n<br>DCA Amounts: [Decimal('1'), Decimal('2.4575704238597127')]\n"
          ],
          [
           "\nPair: SYS-USDT\n<br>Volume: 14060.236348044853\n<br>PNL: 7.403313359189529\n<br>Close types: {'STOP_LOSS': 16, 'TIME_LIMIT': 1, 'TRAILING_STOP': 43}\n\nConfig:\n<br>Id: 923\n<br>BB Length: 50\n<br>BB Std: 1.4\n<br>Take profit: None\n<br>Stop loss: 0.006981397606281286\n<br>Time limit: 86400\n<br>DCA Spreads: [Decimal('-0.00001'), Decimal('0.021635978322168115')]\n<br>DCA Amounts: [Decimal('1'), Decimal('10.649148906034881')]\n"
          ],
          [
           "\nPair: SYS-USDT\n<br>Volume: 12596.316134311423\n<br>PNL: 0.2685992275239876\n<br>Close types: {'STOP_LOSS': 10, 'TIME_LIMIT': 1, 'TRAILING_STOP': 56}\n\nConfig:\n<br>Id: 1070\n<br>BB Length: 50\n<br>BB Std: 1.8\n<br>Take profit: None\n<br>Stop loss: 0.008928571428571437\n<br>Time limit: 86400\n<br>DCA Spreads: [Decimal('-0.00001'), Decimal('0.023716869219440013')]\n<br>DCA Amounts: [Decimal('1'), Decimal('9.21254054256599')]\n"
          ],
          [
           "\nPair: SYS-USDT\n<br>Volume: 10085.052121168352\n<br>PNL: 19.889343897233278\n<br>Close types: {'STOP_LOSS': 7, 'TIME_LIMIT': 1, 'TRAILING_STOP': 19}\n\nConfig:\n<br>Id: 1311\n<br>BB Length: 200\n<br>BB Std: 1.4\n<br>Take profit: None\n<br>Stop loss: 0.01568866941130645\n<br>Time limit: 86400\n<br>DCA Spreads: [Decimal('-0.00001'), Decimal('0.01568866941130645')]\n<br>DCA Amounts: [Decimal('1'), Decimal('2.119527697251893')]\n"
          ],
          [
           "\nPair: SYS-USDT\n<br>Volume: 10653.765504740442\n<br>PNL: 5.512907387212132\n<br>Close types: {'STOP_LOSS': 10, 'TIME_LIMIT': 1, 'TRAILING_STOP': 41}\n\nConfig:\n<br>Id: 1706\n<br>BB Length: 100\n<br>BB Std: 1.8\n<br>Take profit: None\n<br>Stop loss: 0.00793660668460424\n<br>Time limit: 86400\n<br>DCA Spreads: [Decimal('-0.00001'), Decimal('0.02653557161606845')]\n<br>DCA Amounts: [Decimal('1'), Decimal('7.199692638070587')]\n"
          ],
          [
           "\nPair: SYS-USDT\n<br>Volume: 12326.856987351559\n<br>PNL: 9.172988981622124\n<br>Close types: {'STOP_LOSS': 8, 'TIME_LIMIT': 1, 'TRAILING_STOP': 29}\n\nConfig:\n<br>Id: 1772\n<br>BB Length: 200\n<br>BB Std: 1.4\n<br>Take profit: None\n<br>Stop loss: 0.01568866941130645\n<br>Time limit: 86400\n<br>DCA Spreads: [Decimal('-0.00001'), Decimal('0.01568866941130645')]\n<br>DCA Amounts: [Decimal('1'), Decimal('2.667054860001911')]\n"
          ],
          [
           "\nPair: SYS-USDT\n<br>Volume: 14979.325712350974\n<br>PNL: 5.666340749075406\n<br>Close types: {'STOP_LOSS': 11, 'TIME_LIMIT': 2, 'TRAILING_STOP': 47}\n\nConfig:\n<br>Id: 3157\n<br>BB Length: 100\n<br>BB Std: 1.4\n<br>Take profit: None\n<br>Stop loss: 0.0083154565413354\n<br>Time limit: 86400\n<br>DCA Spreads: [Decimal('-0.00001'), Decimal('0.022182619675718242')]\n<br>DCA Amounts: [Decimal('1'), Decimal('2.702120346275668')]\n"
          ]
         ],
         "hovertemplate": "trading_pair=SYS-USDT<br>total_volume=%{x}<br>net_pnl_quote=%{y}<br>sharpe_ratio=%{marker.size}<br>custom_hover_text=%{customdata[0]}<extra></extra>",
         "legendgroup": "SYS-USDT",
         "marker": {
          "color": "#AB63FA",
          "size": [
           1.3779321533079598,
           0.14407081774826716,
           0.4966977121537727,
           0.019783070553814862,
           0.42693100891612357,
           1.3122038672684067,
           0.08680245384434539,
           2.050014474378423,
           0.18218552309784336
          ],
          "sizemode": "area",
          "sizeref": 0.009168875998020496,
          "symbol": "circle"
         },
         "mode": "markers",
         "name": "SYS-USDT",
         "orientation": "v",
         "showlegend": true,
         "type": "scatter",
         "x": [
          15778.698942857609,
          11858.73822228898,
          12297.112886358535,
          14060.236348044853,
          12596.316134311423,
          10085.052121168352,
          10653.765504740442,
          12326.856987351559,
          14979.325712350974
         ],
         "xaxis": "x",
         "y": [
          9.745761683198683,
          2.7499702108484767,
          18.665852065929506,
          7.403313359189529,
          0.2685992275239876,
          19.889343897233278,
          5.512907387212132,
          9.172988981622124,
          5.666340749075406
         ],
         "yaxis": "y"
        },
        {
         "customdata": [
          [
           "\nPair: SUI-USDT\n<br>Volume: 28923.183773166493\n<br>PNL: 6.443961530465028\n<br>Close types: {'STOP_LOSS': 26, 'TIME_LIMIT': 1, 'TRAILING_STOP': 103}\n\nConfig:\n<br>Id: 534\n<br>BB Length: 50\n<br>BB Std: 1.4\n<br>Take profit: None\n<br>Stop loss: 0.004808335209828527\n<br>Time limit: 86400\n<br>DCA Spreads: [Decimal('-0.00001'), Decimal('0.010730479365967655')]\n<br>DCA Amounts: [Decimal('1'), Decimal('4.492904014614666')]\n"
          ],
          [
           "\nPair: SUI-USDT\n<br>Volume: 42073.658263496916\n<br>PNL: 22.652063850920772\n<br>Close types: {'STOP_LOSS': 28, 'TIME_LIMIT': 1, 'TRAILING_STOP': 101}\n\nConfig:\n<br>Id: 542\n<br>BB Length: 50\n<br>BB Std: 1.4\n<br>Take profit: None\n<br>Stop loss: 0.004808335209828527\n<br>Time limit: 86400\n<br>DCA Spreads: [Decimal('-0.00001'), Decimal('0.010730479365967655')]\n<br>DCA Amounts: [Decimal('1'), Decimal('1.421493531405067')]\n"
          ],
          [
           "\nPair: SUI-USDT\n<br>Volume: 23295.20202148684\n<br>PNL: 7.572676226163666\n<br>Close types: {'STOP_LOSS': 23, 'TIME_LIMIT': 1, 'TRAILING_STOP': 48}\n\nConfig:\n<br>Id: 2567\n<br>BB Length: 50\n<br>BB Std: 1.8\n<br>Take profit: None\n<br>Stop loss: 0.005531564263200617\n<br>Time limit: 86400\n<br>DCA Spreads: [Decimal('-0.00001'), Decimal('0.011343523104632623')]\n<br>DCA Amounts: [Decimal('1'), Decimal('2.3995555414990855')]\n"
          ],
          [
           "\nPair: SUI-USDT\n<br>Volume: 35559.940139939834\n<br>PNL: 14.982635893059648\n<br>Close types: {'STOP_LOSS': 26, 'TIME_LIMIT': 1, 'TRAILING_STOP': 68}\n\nConfig:\n<br>Id: 2914\n<br>BB Length: 50\n<br>BB Std: 1.8\n<br>Take profit: None\n<br>Stop loss: 0.005531564263200617\n<br>Time limit: 86400\n<br>DCA Spreads: [Decimal('-0.00001'), Decimal('0.011343523104632623')]\n<br>DCA Amounts: [Decimal('1'), Decimal('1.0741545169846782')]\n"
          ]
         ],
         "hovertemplate": "trading_pair=SUI-USDT<br>total_volume=%{x}<br>net_pnl_quote=%{y}<br>sharpe_ratio=%{marker.size}<br>custom_hover_text=%{customdata[0]}<extra></extra>",
         "legendgroup": "SUI-USDT",
         "marker": {
          "color": "#FFA15A",
          "size": [
           0.3535454454431709,
           1.427418247450302,
           1.113707069986176,
           1.0049561354580885
          ],
          "sizemode": "area",
          "sizeref": 0.009168875998020496,
          "symbol": "circle"
         },
         "mode": "markers",
         "name": "SUI-USDT",
         "orientation": "v",
         "showlegend": true,
         "type": "scatter",
         "x": [
          28923.183773166493,
          42073.658263496916,
          23295.20202148684,
          35559.940139939834
         ],
         "xaxis": "x",
         "y": [
          6.443961530465028,
          22.652063850920772,
          7.572676226163666,
          14.982635893059648
         ],
         "yaxis": "y"
        },
        {
         "customdata": [
          [
           "\nPair: WIF-USDT\n<br>Volume: 22384.127639010232\n<br>PNL: 10.404292605172602\n<br>Close types: {'STOP_LOSS': 15, 'TIME_LIMIT': 1, 'TRAILING_STOP': 52}\n\nConfig:\n<br>Id: 562\n<br>BB Length: 50\n<br>BB Std: 2.2\n<br>Take profit: None\n<br>Stop loss: 0.008444649163212017\n<br>Time limit: 86400\n<br>DCA Spreads: [Decimal('-0.00001'), Decimal('0.019728307005259828')]\n<br>DCA Amounts: [Decimal('1'), Decimal('1.3759486503486182')]\n"
          ],
          [
           "\nPair: WIF-USDT\n<br>Volume: 18952.045682203767\n<br>PNL: 2.1170186032698837\n<br>Close types: {'STOP_LOSS': 17, 'TIME_LIMIT': 1, 'TRAILING_STOP': 47}\n\nConfig:\n<br>Id: 1151\n<br>BB Length: 100\n<br>BB Std: 1.4\n<br>Take profit: None\n<br>Stop loss: 0.00736118301759802\n<br>Time limit: 86400\n<br>DCA Spreads: [Decimal('-0.00001'), Decimal('0.021400476712815832')]\n<br>DCA Amounts: [Decimal('1'), Decimal('2.4592544128600378')]\n"
          ],
          [
           "\nPair: WIF-USDT\n<br>Volume: 23968.097009834888\n<br>PNL: 20.19888124228496\n<br>Close types: {'STOP_LOSS': 18, 'TIME_LIMIT': 1, 'TRAILING_STOP': 82}\n\nConfig:\n<br>Id: 1712\n<br>BB Length: 50\n<br>BB Std: 1.8\n<br>Take profit: None\n<br>Stop loss: 0.007391220515457191\n<br>Time limit: 86400\n<br>DCA Spreads: [Decimal('-0.00001'), Decimal('0.017344809598330697')]\n<br>DCA Amounts: [Decimal('1'), Decimal('4.3775667212165725')]\n"
          ],
          [
           "\nPair: WIF-USDT\n<br>Volume: 13076.477016466033\n<br>PNL: 5.916970167428001\n<br>Close types: {'STOP_LOSS': 13, 'TIME_LIMIT': 1, 'TRAILING_STOP': 36}\n\nConfig:\n<br>Id: 1991\n<br>BB Length: 100\n<br>BB Std: 1.4\n<br>Take profit: None\n<br>Stop loss: 0.00736118301759802\n<br>Time limit: 86400\n<br>DCA Spreads: [Decimal('-0.00001'), Decimal('0.021400476712815832')]\n<br>DCA Amounts: [Decimal('1'), Decimal('4.868009454219648')]\n"
          ],
          [
           "\nPair: WIF-USDT\n<br>Volume: 14146.327453559545\n<br>PNL: 1.1442726073945508\n<br>Close types: {'STOP_LOSS': 14, 'TIME_LIMIT': 1, 'TRAILING_STOP': 50}\n\nConfig:\n<br>Id: 2136\n<br>BB Length: 100\n<br>BB Std: 1.4\n<br>Take profit: None\n<br>Stop loss: 0.00736118301759802\n<br>Time limit: 86400\n<br>DCA Spreads: [Decimal('-0.00001'), Decimal('0.021400476712815832')]\n<br>DCA Amounts: [Decimal('1'), Decimal('7.4271489838817715')]\n"
          ],
          [
           "\nPair: WIF-USDT\n<br>Volume: 16796.414545412586\n<br>PNL: 3.139302473538228\n<br>Close types: {'STOP_LOSS': 14, 'TIME_LIMIT': 1, 'TRAILING_STOP': 56}\n\nConfig:\n<br>Id: 2256\n<br>BB Length: 50\n<br>BB Std: 2.2\n<br>Take profit: None\n<br>Stop loss: 0.008444649163212017\n<br>Time limit: 86400\n<br>DCA Spreads: [Decimal('-0.00001'), Decimal('0.019728307005259828')]\n<br>DCA Amounts: [Decimal('1'), Decimal('3.5856168779265403')]\n"
          ],
          [
           "\nPair: WIF-USDT\n<br>Volume: 14102.41194573988\n<br>PNL: 1.4930131006220555\n<br>Close types: {'STOP_LOSS': 14, 'TIME_LIMIT': 2, 'TRAILING_STOP': 37}\n\nConfig:\n<br>Id: 3046\n<br>BB Length: 50\n<br>BB Std: 2.2\n<br>Take profit: None\n<br>Stop loss: 0.008444649163212017\n<br>Time limit: 86400\n<br>DCA Spreads: [Decimal('-0.00001'), Decimal('0.019728307005259828')]\n<br>DCA Amounts: [Decimal('1'), Decimal('3.930690542655773')]\n"
          ]
         ],
         "hovertemplate": "trading_pair=WIF-USDT<br>total_volume=%{x}<br>net_pnl_quote=%{y}<br>sharpe_ratio=%{marker.size}<br>custom_hover_text=%{customdata[0]}<extra></extra>",
         "legendgroup": "WIF-USDT",
         "marker": {
          "color": "#19D3F3",
          "size": [
           1.4088174526566397,
           0.1052817388102617,
           2.1101734507558354,
           0.39589250991929426,
           0.7224100996938138,
           0.7086792299353764,
           0.9364969897061678
          ],
          "sizemode": "area",
          "sizeref": 0.009168875998020496,
          "symbol": "circle"
         },
         "mode": "markers",
         "name": "WIF-USDT",
         "orientation": "v",
         "showlegend": true,
         "type": "scatter",
         "x": [
          22384.127639010232,
          18952.045682203767,
          23968.097009834888,
          13076.477016466033,
          14146.327453559545,
          16796.414545412586,
          14102.41194573988
         ],
         "xaxis": "x",
         "y": [
          10.404292605172602,
          2.1170186032698837,
          20.19888124228496,
          5.916970167428001,
          1.1442726073945508,
          3.139302473538228,
          1.4930131006220555
         ],
         "yaxis": "y"
        },
        {
         "customdata": [
          [
           "\nPair: JTO-USDT\n<br>Volume: 13503.740518713554\n<br>PNL: 2.7813181533369984\n<br>Close types: {'STOP_LOSS': 12, 'TIME_LIMIT': 2, 'TRAILING_STOP': 40}\n\nConfig:\n<br>Id: 586\n<br>BB Length: 100\n<br>BB Std: 1.4\n<br>Take profit: None\n<br>Stop loss: 0.007125789383853779\n<br>Time limit: 86400\n<br>DCA Spreads: [Decimal('-0.00001'), Decimal('0.020132233860783093')]\n<br>DCA Amounts: [Decimal('1'), Decimal('5.719656060835093')]\n"
          ],
          [
           "\nPair: JTO-USDT\n<br>Volume: 21897.58048783231\n<br>PNL: 7.308330004727333\n<br>Close types: {'STOP_LOSS': 21, 'TIME_LIMIT': 2, 'TRAILING_STOP': 66}\n\nConfig:\n<br>Id: 1401\n<br>BB Length: 50\n<br>BB Std: 1.4\n<br>Take profit: None\n<br>Stop loss: 0.005370929842228841\n<br>Time limit: 86400\n<br>DCA Spreads: [Decimal('-0.00001'), Decimal('0.013380488361301898')]\n<br>DCA Amounts: [Decimal('1'), Decimal('4.567169541223852')]\n"
          ],
          [
           "\nPair: JTO-USDT\n<br>Volume: 13184.183858639075\n<br>PNL: 7.019838061425771\n<br>Close types: {'STOP_LOSS': 12, 'TIME_LIMIT': 2, 'TRAILING_STOP': 45}\n\nConfig:\n<br>Id: 2816\n<br>BB Length: 50\n<br>BB Std: 2.2\n<br>Take profit: None\n<br>Stop loss: 0.008333333333333397\n<br>Time limit: 86400\n<br>DCA Spreads: [Decimal('-0.00001'), Decimal('0.01846166965123215')]\n<br>DCA Amounts: [Decimal('1'), Decimal('6.198291443061275')]\n"
          ],
          [
           "\nPair: JTO-USDT\n<br>Volume: 14167.276349725984\n<br>PNL: 3.4442738294620745\n<br>Close types: {'STOP_LOSS': 10, 'TIME_LIMIT': 2, 'TRAILING_STOP': 55}\n\nConfig:\n<br>Id: 2963\n<br>BB Length: 50\n<br>BB Std: 2.2\n<br>Take profit: None\n<br>Stop loss: 0.008333333333333397\n<br>Time limit: 86400\n<br>DCA Spreads: [Decimal('-0.00001'), Decimal('0.01846166965123215')]\n<br>DCA Amounts: [Decimal('1'), Decimal('6.56186293956358')]\n"
          ],
          [
           "\nPair: JTO-USDT\n<br>Volume: 11120.42156158407\n<br>PNL: 23.72195735526164\n<br>Close types: {'STOP_LOSS': 6, 'TIME_LIMIT': 1, 'TRAILING_STOP': 22}\n\nConfig:\n<br>Id: 3048\n<br>BB Length: 200\n<br>BB Std: 1.8\n<br>Take profit: None\n<br>Stop loss: 0.016050166100556214\n<br>Time limit: 86400\n<br>DCA Spreads: [Decimal('-0.00001'), Decimal('0.016050166100556214')]\n<br>DCA Amounts: [Decimal('1'), Decimal('1.8911991510560306')]\n"
          ]
         ],
         "hovertemplate": "trading_pair=JTO-USDT<br>total_volume=%{x}<br>net_pnl_quote=%{y}<br>sharpe_ratio=%{marker.size}<br>custom_hover_text=%{customdata[0]}<extra></extra>",
         "legendgroup": "JTO-USDT",
         "marker": {
          "color": "#FF6692",
          "size": [
           1.0463559867805763,
           0.5244506941062053,
           1.373789457636915,
           0.5426510130212144,
           1.7906013319360436
          ],
          "sizemode": "area",
          "sizeref": 0.009168875998020496,
          "symbol": "circle"
         },
         "mode": "markers",
         "name": "JTO-USDT",
         "orientation": "v",
         "showlegend": true,
         "type": "scatter",
         "x": [
          13503.740518713554,
          21897.58048783231,
          13184.183858639075,
          14167.276349725984,
          11120.42156158407
         ],
         "xaxis": "x",
         "y": [
          2.7813181533369984,
          7.308330004727333,
          7.019838061425771,
          3.4442738294620745,
          23.72195735526164
         ],
         "yaxis": "y"
        },
        {
         "customdata": [
          [
           "\nPair: ARKM-USDT\n<br>Volume: 15519.888391441016\n<br>PNL: 18.937048399003753\n<br>Close types: {'STOP_LOSS': 12, 'TIME_LIMIT': 1, 'TRAILING_STOP': 24}\n\nConfig:\n<br>Id: 640\n<br>BB Length: 100\n<br>BB Std: 2.2\n<br>Take profit: None\n<br>Stop loss: 0.016978919410408168\n<br>Time limit: 86400\n<br>DCA Spreads: [Decimal('-0.00001'), Decimal('0.016978919410408168')]\n<br>DCA Amounts: [Decimal('1'), Decimal('1.897819153812486')]\n"
          ],
          [
           "\nPair: ARKM-USDT\n<br>Volume: 11729.609967195634\n<br>PNL: 3.2770033441575372\n<br>Close types: {'STOP_LOSS': 11, 'TIME_LIMIT': 1, 'TRAILING_STOP': 39}\n\nConfig:\n<br>Id: 641\n<br>BB Length: 50\n<br>BB Std: 2.2\n<br>Take profit: None\n<br>Stop loss: 0.009136735979836212\n<br>Time limit: 86400\n<br>DCA Spreads: [Decimal('-0.00001'), Decimal('0.026145801291910204')]\n<br>DCA Amounts: [Decimal('1'), Decimal('3.6787182950521364')]\n"
          ],
          [
           "\nPair: ARKM-USDT\n<br>Volume: 10815.23354553424\n<br>PNL: 4.789748211649229\n<br>Close types: {'STOP_LOSS': 8, 'TIME_LIMIT': 1, 'TRAILING_STOP': 63}\n\nConfig:\n<br>Id: 2653\n<br>BB Length: 50\n<br>BB Std: 2.2\n<br>Take profit: None\n<br>Stop loss: 0.009136735979836212\n<br>Time limit: 86400\n<br>DCA Spreads: [Decimal('-0.00001'), Decimal('0.026145801291910204')]\n<br>DCA Amounts: [Decimal('1'), Decimal('5.980308361986047')]\n"
          ]
         ],
         "hovertemplate": "trading_pair=ARKM-USDT<br>total_volume=%{x}<br>net_pnl_quote=%{y}<br>sharpe_ratio=%{marker.size}<br>custom_hover_text=%{customdata[0]}<extra></extra>",
         "legendgroup": "ARKM-USDT",
         "marker": {
          "color": "#B6E880",
          "size": [
           1.411769862375876,
           0.8862629581916555,
           1.0393398396191618
          ],
          "sizemode": "area",
          "sizeref": 0.009168875998020496,
          "symbol": "circle"
         },
         "mode": "markers",
         "name": "ARKM-USDT",
         "orientation": "v",
         "showlegend": true,
         "type": "scatter",
         "x": [
          15519.888391441016,
          11729.609967195634,
          10815.23354553424
         ],
         "xaxis": "x",
         "y": [
          18.937048399003753,
          3.2770033441575372,
          4.789748211649229
         ],
         "yaxis": "y"
        },
        {
         "customdata": [
          [
           "\nPair: MOVR-USDT\n<br>Volume: 11970.405508250613\n<br>PNL: 1.4242003804084955\n<br>Close types: {'STOP_LOSS': 8, 'TIME_LIMIT': 1, 'TRAILING_STOP': 37}\n\nConfig:\n<br>Id: 657\n<br>BB Length: 100\n<br>BB Std: 1.8\n<br>Take profit: None\n<br>Stop loss: 0.009060877772534223\n<br>Time limit: 86400\n<br>DCA Spreads: [Decimal('-0.00001'), Decimal('0.02165416710679202')]\n<br>DCA Amounts: [Decimal('1'), Decimal('2.1797364840475515')]\n"
          ],
          [
           "\nPair: MOVR-USDT\n<br>Volume: 35322.31682723948\n<br>PNL: 4.906464240075682\n<br>Close types: {'STOP_LOSS': 24, 'TIME_LIMIT': 1, 'TRAILING_STOP': 87}\n\nConfig:\n<br>Id: 951\n<br>BB Length: 50\n<br>BB Std: 1.4\n<br>Take profit: None\n<br>Stop loss: 0.005227404737870591\n<br>Time limit: 86400\n<br>DCA Spreads: [Decimal('-0.00001'), Decimal('0.011926856020449926')]\n<br>DCA Amounts: [Decimal('1'), Decimal('1.5686047729574089')]\n"
          ],
          [
           "\nPair: MOVR-USDT\n<br>Volume: 13035.342938876847\n<br>PNL: 8.720328149847013\n<br>Close types: {'STOP_LOSS': 8, 'TIME_LIMIT': 2, 'TRAILING_STOP': 64}\n\nConfig:\n<br>Id: 2889\n<br>BB Length: 100\n<br>BB Std: 1.4\n<br>Take profit: None\n<br>Stop loss: 0.00819942070339661\n<br>Time limit: 86400\n<br>DCA Spreads: [Decimal('-0.00001'), Decimal('0.018803124585840318')]\n<br>DCA Amounts: [Decimal('1'), Decimal('6.766415662165195')]\n"
          ],
          [
           "\nPair: MOVR-USDT\n<br>Volume: 12554.664356468205\n<br>PNL: 1.611990756451149\n<br>Close types: {'STOP_LOSS': 11, 'TIME_LIMIT': 2, 'TRAILING_STOP': 36}\n\nConfig:\n<br>Id: 3098\n<br>BB Length: 100\n<br>BB Std: 1.4\n<br>Take profit: None\n<br>Stop loss: 0.00819942070339661\n<br>Time limit: 86400\n<br>DCA Spreads: [Decimal('-0.00001'), Decimal('0.018803124585840318')]\n<br>DCA Amounts: [Decimal('1'), Decimal('4.054559935101874')]\n"
          ]
         ],
         "hovertemplate": "trading_pair=MOVR-USDT<br>total_volume=%{x}<br>net_pnl_quote=%{y}<br>sharpe_ratio=%{marker.size}<br>custom_hover_text=%{customdata[0]}<extra></extra>",
         "legendgroup": "MOVR-USDT",
         "marker": {
          "color": "#FF97FF",
          "size": [
           0.13879170245903155,
           1.726543704679812,
           0.6378840881351542,
           0.12108721054692141
          ],
          "sizemode": "area",
          "sizeref": 0.009168875998020496,
          "symbol": "circle"
         },
         "mode": "markers",
         "name": "MOVR-USDT",
         "orientation": "v",
         "showlegend": true,
         "type": "scatter",
         "x": [
          11970.405508250613,
          35322.31682723948,
          13035.342938876847,
          12554.664356468205
         ],
         "xaxis": "x",
         "y": [
          1.4242003804084955,
          4.906464240075682,
          8.720328149847013,
          1.611990756451149
         ],
         "yaxis": "y"
        },
        {
         "customdata": [
          [
           "\nPair: RARE-USDT\n<br>Volume: 12599.744561050153\n<br>PNL: 2.082261491087369\n<br>Close types: {'STOP_LOSS': 12, 'TIME_LIMIT': 1, 'TRAILING_STOP': 39}\n\nConfig:\n<br>Id: 668\n<br>BB Length: 20\n<br>BB Std: 2.5\n<br>Take profit: None\n<br>Stop loss: 0.014784674279887043\n<br>Time limit: 86400\n<br>DCA Spreads: [Decimal('-0.00001'), Decimal('0.03369870657717954')]\n<br>DCA Amounts: [Decimal('1'), Decimal('3.4446546922087053')]\n"
          ],
          [
           "\nPair: RARE-USDT\n<br>Volume: 13766.774620983844\n<br>PNL: 6.869176104689883\n<br>Close types: {'STOP_LOSS': 11, 'TRAILING_STOP': 28}\n\nConfig:\n<br>Id: 1135\n<br>BB Length: 200\n<br>BB Std: 1.4\n<br>Take profit: None\n<br>Stop loss: 0.0201978565539983\n<br>Time limit: 86400\n<br>DCA Spreads: [Decimal('-0.00001'), Decimal('0.0201978565539983')]\n<br>DCA Amounts: [Decimal('1'), Decimal('2.7008225645496395')]\n"
          ],
          [
           "\nPair: RARE-USDT\n<br>Volume: 19210.49036154494\n<br>PNL: 45.72670230063565\n<br>Close types: {'STOP_LOSS': 13, 'TIME_LIMIT': 1, 'TRAILING_STOP': 40}\n\nConfig:\n<br>Id: 1170\n<br>BB Length: 100\n<br>BB Std: 1.5\n<br>Take profit: None\n<br>Stop loss: 0.016681135708482214\n<br>Time limit: 86400\n<br>DCA Spreads: [Decimal('-0.00001'), Decimal('0.016681135708482214')]\n<br>DCA Amounts: [Decimal('1'), Decimal('3.1325352882687723')]\n"
          ],
          [
           "\nPair: RARE-USDT\n<br>Volume: 11697.920163601228\n<br>PNL: 1.2471282289488592\n<br>Close types: {'STOP_LOSS': 9, 'TRAILING_STOP': 25}\n\nConfig:\n<br>Id: 1259\n<br>BB Length: 100\n<br>BB Std: 2.2\n<br>Take profit: None\n<br>Stop loss: 0.02158273381294957\n<br>Time limit: 86400\n<br>DCA Spreads: [Decimal('-0.00001'), Decimal('0.02158273381294957')]\n<br>DCA Amounts: [Decimal('1'), Decimal('3.225477148583633')]\n"
          ],
          [
           "\nPair: RARE-USDT\n<br>Volume: 18457.129483005363\n<br>PNL: 9.299632655249898\n<br>Close types: {'STOP_LOSS': 12, 'TIME_LIMIT': 1, 'TRAILING_STOP': 50}\n\nConfig:\n<br>Id: 2522\n<br>BB Length: 20\n<br>BB Std: 2.5\n<br>Take profit: None\n<br>Stop loss: 0.014784674279887043\n<br>Time limit: 86400\n<br>DCA Spreads: [Decimal('-0.00001'), Decimal('0.03369870657717954')]\n<br>DCA Amounts: [Decimal('1'), Decimal('1.8150169375196383')]\n"
          ],
          [
           "\nPair: RARE-USDT\n<br>Volume: 11493.772789056167\n<br>PNL: 3.368606648915963\n<br>Close types: {'STOP_LOSS': 11, 'TIME_LIMIT': 1, 'TRAILING_STOP': 20}\n\nConfig:\n<br>Id: 3152\n<br>BB Length: 200\n<br>BB Std: 1.4\n<br>Take profit: None\n<br>Stop loss: 0.0201978565539983\n<br>Time limit: 86400\n<br>DCA Spreads: [Decimal('-0.00001'), Decimal('0.0201978565539983')]\n<br>DCA Amounts: [Decimal('1'), Decimal('4.069245928274489')]\n"
          ]
         ],
         "hovertemplate": "trading_pair=RARE-USDT<br>total_volume=%{x}<br>net_pnl_quote=%{y}<br>sharpe_ratio=%{marker.size}<br>custom_hover_text=%{customdata[0]}<extra></extra>",
         "legendgroup": "RARE-USDT",
         "marker": {
          "color": "#FECB52",
          "size": [
           0.14309882049616454,
           1.0556216371758607,
           0.5900468697592475,
           0.5165696834972561,
           0.8906581244253554,
           0.19216282241479588
          ],
          "sizemode": "area",
          "sizeref": 0.009168875998020496,
          "symbol": "circle"
         },
         "mode": "markers",
         "name": "RARE-USDT",
         "orientation": "v",
         "showlegend": true,
         "type": "scatter",
         "x": [
          12599.744561050153,
          13766.774620983844,
          19210.49036154494,
          11697.920163601228,
          18457.129483005363,
          11493.772789056167
         ],
         "xaxis": "x",
         "y": [
          2.082261491087369,
          6.869176104689883,
          45.72670230063565,
          1.2471282289488592,
          9.299632655249898,
          3.368606648915963
         ],
         "yaxis": "y"
        },
        {
         "customdata": [
          [
           "\nPair: ONDO-USDT\n<br>Volume: 17925.874681806257\n<br>PNL: 3.147076169176857\n<br>Close types: {'STOP_LOSS': 14, 'TIME_LIMIT': 1, 'TRAILING_STOP': 61}\n\nConfig:\n<br>Id: 670\n<br>BB Length: 100\n<br>BB Std: 1.4\n<br>Take profit: None\n<br>Stop loss: 0.0047509357903829106\n<br>Time limit: 86400\n<br>DCA Spreads: [Decimal('-0.00001'), Decimal('0.010817247530094927')]\n<br>DCA Amounts: [Decimal('1'), Decimal('3.883611002709767')]\n"
          ]
         ],
         "hovertemplate": "trading_pair=ONDO-USDT<br>total_volume=%{x}<br>net_pnl_quote=%{y}<br>sharpe_ratio=%{marker.size}<br>custom_hover_text=%{customdata[0]}<extra></extra>",
         "legendgroup": "ONDO-USDT",
         "marker": {
          "color": "#636EFA",
          "size": [
           0.029640428340185796
          ],
          "sizemode": "area",
          "sizeref": 0.009168875998020496,
          "symbol": "circle"
         },
         "mode": "markers",
         "name": "ONDO-USDT",
         "orientation": "v",
         "showlegend": true,
         "type": "scatter",
         "x": [
          17925.874681806257
         ],
         "xaxis": "x",
         "y": [
          3.147076169176857
         ],
         "yaxis": "y"
        },
        {
         "customdata": [
          [
           "\nPair: XAI-USDT\n<br>Volume: 15330.63266785505\n<br>PNL: 5.064771882396977\n<br>Close types: {'STOP_LOSS': 13, 'TIME_LIMIT': 2, 'TRAILING_STOP': 45}\n\nConfig:\n<br>Id: 673\n<br>BB Length: 50\n<br>BB Std: 1.8\n<br>Take profit: None\n<br>Stop loss: 0.007015902712815722\n<br>Time limit: 86400\n<br>DCA Spreads: [Decimal('-0.00001'), Decimal('0.017057227471325542')]\n<br>DCA Amounts: [Decimal('1'), Decimal('4.0286196011740865')]\n"
          ],
          [
           "\nPair: XAI-USDT\n<br>Volume: 12602.161531360189\n<br>PNL: 8.563592877104169\n<br>Close types: {'STOP_LOSS': 8, 'TIME_LIMIT': 1, 'TRAILING_STOP': 29}\n\nConfig:\n<br>Id: 871\n<br>BB Length: 200\n<br>BB Std: 1.4\n<br>Take profit: None\n<br>Stop loss: 0.012506253126563293\n<br>Time limit: 86400\n<br>DCA Spreads: [Decimal('-0.00001'), Decimal('0.012506253126563293')]\n<br>DCA Amounts: [Decimal('1'), Decimal('4.245275904849509')]\n"
          ],
          [
           "\nPair: XAI-USDT\n<br>Volume: 18674.584067996537\n<br>PNL: 2.2829941252456014\n<br>Close types: {'STOP_LOSS': 13, 'TIME_LIMIT': 2, 'TRAILING_STOP': 52}\n\nConfig:\n<br>Id: 2918\n<br>BB Length: 100\n<br>BB Std: 1.4\n<br>Take profit: None\n<br>Stop loss: 0.007501850676818992\n<br>Time limit: 86400\n<br>DCA Spreads: [Decimal('-0.00001'), Decimal('0.018781917931251585')]\n<br>DCA Amounts: [Decimal('1'), Decimal('2.0950157971894185')]\n"
          ]
         ],
         "hovertemplate": "trading_pair=XAI-USDT<br>total_volume=%{x}<br>net_pnl_quote=%{y}<br>sharpe_ratio=%{marker.size}<br>custom_hover_text=%{customdata[0]}<extra></extra>",
         "legendgroup": "XAI-USDT",
         "marker": {
          "color": "#EF553B",
          "size": [
           0.879710834476197,
           0.06893459682809239,
           0.03954889357882239
          ],
          "sizemode": "area",
          "sizeref": 0.009168875998020496,
          "symbol": "circle"
         },
         "mode": "markers",
         "name": "XAI-USDT",
         "orientation": "v",
         "showlegend": true,
         "type": "scatter",
         "x": [
          15330.63266785505,
          12602.161531360189,
          18674.584067996537
         ],
         "xaxis": "x",
         "y": [
          5.064771882396977,
          8.563592877104169,
          2.2829941252456014
         ],
         "yaxis": "y"
        },
        {
         "customdata": [
          [
           "\nPair: GRT-USDT\n<br>Volume: 14582.582471477283\n<br>PNL: 1.9350099948998623\n<br>Close types: {'STOP_LOSS': 13, 'TIME_LIMIT': 2, 'TRAILING_STOP': 45}\n\nConfig:\n<br>Id: 692\n<br>BB Length: 50\n<br>BB Std: 1.8\n<br>Take profit: None\n<br>Stop loss: 0.006040395142515677\n<br>Time limit: 86400\n<br>DCA Spreads: [Decimal('-0.00001'), Decimal('0.013628909121755333')]\n<br>DCA Amounts: [Decimal('1'), Decimal('5.662115152814679')]\n"
          ],
          [
           "\nPair: GRT-USDT\n<br>Volume: 36845.968705450025\n<br>PNL: 6.5070759710718615\n<br>Close types: {'STOP_LOSS': 27, 'TIME_LIMIT': 2, 'TRAILING_STOP': 97}\n\nConfig:\n<br>Id: 1485\n<br>BB Length: 50\n<br>BB Std: 1.4\n<br>Take profit: None\n<br>Stop loss: 0.004790583082398071\n<br>Time limit: 86400\n<br>DCA Spreads: [Decimal('-0.00001'), Decimal('0.010260869565217356')]\n<br>DCA Amounts: [Decimal('1'), Decimal('1.9332580961285086')]\n"
          ],
          [
           "\nPair: GRT-USDT\n<br>Volume: 21987.94003364844\n<br>PNL: 9.193308610957033\n<br>Close types: {'STOP_LOSS': 20, 'TIME_LIMIT': 2, 'TRAILING_STOP': 70}\n\nConfig:\n<br>Id: 2822\n<br>BB Length: 50\n<br>BB Std: 1.4\n<br>Take profit: None\n<br>Stop loss: 0.004790583082398071\n<br>Time limit: 86400\n<br>DCA Spreads: [Decimal('-0.00001'), Decimal('0.010260869565217356')]\n<br>DCA Amounts: [Decimal('1'), Decimal('5.738148594019945')]\n"
          ]
         ],
         "hovertemplate": "trading_pair=GRT-USDT<br>total_volume=%{x}<br>net_pnl_quote=%{y}<br>sharpe_ratio=%{marker.size}<br>custom_hover_text=%{customdata[0]}<extra></extra>",
         "legendgroup": "GRT-USDT",
         "marker": {
          "color": "#00CC96",
          "size": [
           0.19076394010332956,
           0.48715666284220344,
           0.3555082936644452
          ],
          "sizemode": "area",
          "sizeref": 0.009168875998020496,
          "symbol": "circle"
         },
         "mode": "markers",
         "name": "GRT-USDT",
         "orientation": "v",
         "showlegend": true,
         "type": "scatter",
         "x": [
          14582.582471477283,
          36845.968705450025,
          21987.94003364844
         ],
         "xaxis": "x",
         "y": [
          1.9350099948998623,
          6.5070759710718615,
          9.193308610957033
         ],
         "yaxis": "y"
        },
        {
         "customdata": [
          [
           "\nPair: BRETT-USDT\n<br>Volume: 10806.189688920453\n<br>PNL: 5.407241551362116\n<br>Close types: {'STOP_LOSS': 10, 'TIME_LIMIT': 2, 'TRAILING_STOP': 30}\n\nConfig:\n<br>Id: 709\n<br>BB Length: 50\n<br>BB Std: 2.2\n<br>Take profit: None\n<br>Stop loss: 0.006115604655750597\n<br>Time limit: 86400\n<br>DCA Spreads: [Decimal('-0.00001'), Decimal('0.014239396512226431')]\n<br>DCA Amounts: [Decimal('1'), Decimal('3.991417965422797')]\n"
          ],
          [
           "\nPair: BRETT-USDT\n<br>Volume: 23523.372681383702\n<br>PNL: 4.983221154283913\n<br>Close types: {'STOP_LOSS': 21, 'TIME_LIMIT': 2, 'TRAILING_STOP': 80}\n\nConfig:\n<br>Id: 859\n<br>BB Length: 50\n<br>BB Std: 1.4\n<br>Take profit: None\n<br>Stop loss: 0.005261516477092402\n<br>Time limit: 86400\n<br>DCA Spreads: [Decimal('-0.00001'), Decimal('0.011354981915571792')]\n<br>DCA Amounts: [Decimal('1'), Decimal('5.693069406162799')]\n"
          ],
          [
           "\nPair: BRETT-USDT\n<br>Volume: 13718.051430448806\n<br>PNL: 8.773047226611943\n<br>Close types: {'STOP_LOSS': 11, 'TIME_LIMIT': 2, 'TRAILING_STOP': 46}\n\nConfig:\n<br>Id: 1644\n<br>BB Length: 50\n<br>BB Std: 2.2\n<br>Take profit: None\n<br>Stop loss: 0.006115604655750597\n<br>Time limit: 86400\n<br>DCA Spreads: [Decimal('-0.00001'), Decimal('0.014239396512226431')]\n<br>DCA Amounts: [Decimal('1'), Decimal('3.326446377557697')]\n"
          ],
          [
           "\nPair: BRETT-USDT\n<br>Volume: 19367.748609757517\n<br>PNL: 11.880828233134904\n<br>Close types: {'STOP_LOSS': 12, 'TIME_LIMIT': 2, 'TRAILING_STOP': 45}\n\nConfig:\n<br>Id: 1794\n<br>BB Length: 50\n<br>BB Std: 2.2\n<br>Take profit: None\n<br>Stop loss: 0.006115604655750597\n<br>Time limit: 86400\n<br>DCA Spreads: [Decimal('-0.00001'), Decimal('0.014239396512226431')]\n<br>DCA Amounts: [Decimal('1'), Decimal('1.317602122169582')]\n"
          ],
          [
           "\nPair: BRETT-USDT\n<br>Volume: 17565.273282221086\n<br>PNL: 4.406265873601164\n<br>Close types: {'STOP_LOSS': 15, 'TIME_LIMIT': 2, 'TRAILING_STOP': 65}\n\nConfig:\n<br>Id: 1800\n<br>BB Length: 50\n<br>BB Std: 1.8\n<br>Take profit: None\n<br>Stop loss: 0.006023757261399931\n<br>Time limit: 86400\n<br>DCA Spreads: [Decimal('-0.00001'), Decimal('0.013922800024451492')]\n<br>DCA Amounts: [Decimal('1'), Decimal('5.684307870170499')]\n"
          ],
          [
           "\nPair: BRETT-USDT\n<br>Volume: 16429.102526833907\n<br>PNL: 7.537701983078047\n<br>Close types: {'STOP_LOSS': 12, 'TIME_LIMIT': 1, 'TRAILING_STOP': 54}\n\nConfig:\n<br>Id: 2054\n<br>BB Length: 100\n<br>BB Std: 1.4\n<br>Take profit: None\n<br>Stop loss: 0.005846946043774106\n<br>Time limit: 86400\n<br>DCA Spreads: [Decimal('-0.00001'), Decimal('0.01521498179481687')]\n<br>DCA Amounts: [Decimal('1'), Decimal('2.575645617117316')]\n"
          ],
          [
           "\nPair: BRETT-USDT\n<br>Volume: 12395.959399644154\n<br>PNL: 2.0822086873810526\n<br>Close types: {'STOP_LOSS': 11, 'TIME_LIMIT': 1, 'TRAILING_STOP': 55}\n\nConfig:\n<br>Id: 2876\n<br>BB Length: 100\n<br>BB Std: 1.4\n<br>Take profit: None\n<br>Stop loss: 0.005846946043774106\n<br>Time limit: 86400\n<br>DCA Spreads: [Decimal('-0.00001'), Decimal('0.01521498179481687')]\n<br>DCA Amounts: [Decimal('1'), Decimal('5.351088886926254')]\n"
          ],
          [
           "\nPair: BRETT-USDT\n<br>Volume: 16784.001670716745\n<br>PNL: 13.23390768033825\n<br>Close types: {'STOP_LOSS': 15, 'TIME_LIMIT': 1, 'TRAILING_STOP': 53}\n\nConfig:\n<br>Id: 3213\n<br>BB Length: 50\n<br>BB Std: 1.8\n<br>Take profit: None\n<br>Stop loss: 0.006023757261399931\n<br>Time limit: 86400\n<br>DCA Spreads: [Decimal('-0.00001'), Decimal('0.013922800024451492')]\n<br>DCA Amounts: [Decimal('1'), Decimal('4.5720636498254')]\n"
          ]
         ],
         "hovertemplate": "trading_pair=BRETT-USDT<br>total_volume=%{x}<br>net_pnl_quote=%{y}<br>sharpe_ratio=%{marker.size}<br>custom_hover_text=%{customdata[0]}<extra></extra>",
         "legendgroup": "BRETT-USDT",
         "marker": {
          "color": "#AB63FA",
          "size": [
           0.20331806591865434,
           0.6990120975836981,
           1.181357845800101,
           1.6060400433277005,
           1.2415725381711311,
           0.5941334020830339,
           0.184263378383864,
           1.4534512300628815
          ],
          "sizemode": "area",
          "sizeref": 0.009168875998020496,
          "symbol": "circle"
         },
         "mode": "markers",
         "name": "BRETT-USDT",
         "orientation": "v",
         "showlegend": true,
         "type": "scatter",
         "x": [
          10806.189688920453,
          23523.372681383702,
          13718.051430448806,
          19367.748609757517,
          17565.273282221086,
          16429.102526833907,
          12395.959399644154,
          16784.001670716745
         ],
         "xaxis": "x",
         "y": [
          5.407241551362116,
          4.983221154283913,
          8.773047226611943,
          11.880828233134904,
          4.406265873601164,
          7.537701983078047,
          2.0822086873810526,
          13.23390768033825
         ],
         "yaxis": "y"
        },
        {
         "customdata": [
          [
           "\nPair: USTC-USDT\n<br>Volume: 28269.259046955027\n<br>PNL: 6.717566333146307\n<br>Close types: {'STOP_LOSS': 18, 'TIME_LIMIT': 2, 'TRAILING_STOP': 62}\n\nConfig:\n<br>Id: 717\n<br>BB Length: 50\n<br>BB Std: 1.8\n<br>Take profit: None\n<br>Stop loss: 0.006269592476489135\n<br>Time limit: 86400\n<br>DCA Spreads: [Decimal('-0.00001'), Decimal('0.012711864406779563')]\n<br>DCA Amounts: [Decimal('1'), Decimal('1.1981470362758917')]\n"
          ],
          [
           "\nPair: USTC-USDT\n<br>Volume: 17421.63229630175\n<br>PNL: 6.663215096092911\n<br>Close types: {'STOP_LOSS': 10, 'TIME_LIMIT': 2, 'TRAILING_STOP': 45}\n\nConfig:\n<br>Id: 1921\n<br>BB Length: 100\n<br>BB Std: 1.8\n<br>Take profit: None\n<br>Stop loss: 0.007878787878787978\n<br>Time limit: 86400\n<br>DCA Spreads: [Decimal('-0.00001'), Decimal('0.01782590981751745')]\n<br>DCA Amounts: [Decimal('1'), Decimal('1.4689991122486914')]\n"
          ],
          [
           "\nPair: USTC-USDT\n<br>Volume: 33236.95701372211\n<br>PNL: 11.260860122525367\n<br>Close types: {'STOP_LOSS': 21, 'TIME_LIMIT': 2, 'TRAILING_STOP': 89}\n\nConfig:\n<br>Id: 2872\n<br>BB Length: 50\n<br>BB Std: 1.4\n<br>Take profit: None\n<br>Stop loss: 0.005737234652897268\n<br>Time limit: 86400\n<br>DCA Spreads: [Decimal('-0.00001'), Decimal('0.011600609531425943')]\n<br>DCA Amounts: [Decimal('1'), Decimal('1.6950200054338906')]\n"
          ]
         ],
         "hovertemplate": "trading_pair=USTC-USDT<br>total_volume=%{x}<br>net_pnl_quote=%{y}<br>sharpe_ratio=%{marker.size}<br>custom_hover_text=%{customdata[0]}<extra></extra>",
         "legendgroup": "USTC-USDT",
         "marker": {
          "color": "#FFA15A",
          "size": [
           0.8602220257040242,
           1.0316177637039272,
           1.117779051869573
          ],
          "sizemode": "area",
          "sizeref": 0.009168875998020496,
          "symbol": "circle"
         },
         "mode": "markers",
         "name": "USTC-USDT",
         "orientation": "v",
         "showlegend": true,
         "type": "scatter",
         "x": [
          28269.259046955027,
          17421.63229630175,
          33236.95701372211
         ],
         "xaxis": "x",
         "y": [
          6.717566333146307,
          6.663215096092911,
          11.260860122525367
         ],
         "yaxis": "y"
        },
        {
         "customdata": [
          [
           "\nPair: ENS-USDT\n<br>Volume: 26018.94533667506\n<br>PNL: 3.4364993983699503\n<br>Close types: {'STOP_LOSS': 18, 'TIME_LIMIT': 2, 'TRAILING_STOP': 68}\n\nConfig:\n<br>Id: 723\n<br>BB Length: 50\n<br>BB Std: 1.8\n<br>Take profit: None\n<br>Stop loss: 0.005071654569142088\n<br>Time limit: 86400\n<br>DCA Spreads: [Decimal('-0.00001'), Decimal('0.011556570124126054')]\n<br>DCA Amounts: [Decimal('1'), Decimal('1.831941637823788')]\n"
          ],
          [
           "\nPair: ENS-USDT\n<br>Volume: 13578.941657163385\n<br>PNL: 0.31593508976255436\n<br>Close types: {'STOP_LOSS': 11, 'TIME_LIMIT': 2, 'TRAILING_STOP': 46}\n\nConfig:\n<br>Id: 823\n<br>BB Length: 50\n<br>BB Std: 2.2\n<br>Take profit: None\n<br>Stop loss: 0.0053039185395981235\n<br>Time limit: 86400\n<br>DCA Spreads: [Decimal('-0.00001'), Decimal('0.010927536185777787')]\n<br>DCA Amounts: [Decimal('1'), Decimal('4.765524432638124')]\n"
          ],
          [
           "\nPair: ENS-USDT\n<br>Volume: 18785.756403927706\n<br>PNL: 0.3808062822332549\n<br>Close types: {'STOP_LOSS': 14, 'TIME_LIMIT': 2, 'TRAILING_STOP': 40}\n\nConfig:\n<br>Id: 1683\n<br>BB Length: 50\n<br>BB Std: 2.2\n<br>Take profit: None\n<br>Stop loss: 0.0053039185395981235\n<br>Time limit: 86400\n<br>DCA Spreads: [Decimal('-0.00001'), Decimal('0.010927536185777787')]\n<br>DCA Amounts: [Decimal('1'), Decimal('1.4264000636939471')]\n"
          ],
          [
           "\nPair: ENS-USDT\n<br>Volume: 14182.817873107477\n<br>PNL: 3.4574035248062915\n<br>Close types: {'STOP_LOSS': 13, 'TIME_LIMIT': 2, 'TRAILING_STOP': 33}\n\nConfig:\n<br>Id: 2882\n<br>BB Length: 50\n<br>BB Std: 2.2\n<br>Take profit: None\n<br>Stop loss: 0.0053039185395981235\n<br>Time limit: 86400\n<br>DCA Spreads: [Decimal('-0.00001'), Decimal('0.010927536185777787')]\n<br>DCA Amounts: [Decimal('1'), Decimal('3.1895620842075996')]\n"
          ],
          [
           "\nPair: ENS-USDT\n<br>Volume: 18457.41318520605\n<br>PNL: 1.3619204980176496\n<br>Close types: {'STOP_LOSS': 14, 'TIME_LIMIT': 2, 'TRAILING_STOP': 77}\n\nConfig:\n<br>Id: 3160\n<br>BB Length: 50\n<br>BB Std: 1.8\n<br>Take profit: None\n<br>Stop loss: 0.005071654569142088\n<br>Time limit: 86400\n<br>DCA Spreads: [Decimal('-0.00001'), Decimal('0.011556570124126054')]\n<br>DCA Amounts: [Decimal('1'), Decimal('5.291256985360097')]\n"
          ]
         ],
         "hovertemplate": "trading_pair=ENS-USDT<br>total_volume=%{x}<br>net_pnl_quote=%{y}<br>sharpe_ratio=%{marker.size}<br>custom_hover_text=%{customdata[0]}<extra></extra>",
         "legendgroup": "ENS-USDT",
         "marker": {
          "color": "#19D3F3",
          "size": [
           0.4423249799041197,
           0.5720954868735871,
           0.5551737797870637,
           0.9339263199392788,
           0.7764015639343627
          ],
          "sizemode": "area",
          "sizeref": 0.009168875998020496,
          "symbol": "circle"
         },
         "mode": "markers",
         "name": "ENS-USDT",
         "orientation": "v",
         "showlegend": true,
         "type": "scatter",
         "x": [
          26018.94533667506,
          13578.941657163385,
          18785.756403927706,
          14182.817873107477,
          18457.41318520605
         ],
         "xaxis": "x",
         "y": [
          3.4364993983699503,
          0.31593508976255436,
          0.3808062822332549,
          3.4574035248062915,
          1.3619204980176496
         ],
         "yaxis": "y"
        },
        {
         "customdata": [
          [
           "\nPair: PIXEL-USDT\n<br>Volume: 11718.79734272755\n<br>PNL: 15.251639433242037\n<br>Close types: {'STOP_LOSS': 9, 'TIME_LIMIT': 2, 'TRAILING_STOP': 36}\n\nConfig:\n<br>Id: 730\n<br>BB Length: 50\n<br>BB Std: 2.2\n<br>Take profit: None\n<br>Stop loss: 0.006666666666666673\n<br>Time limit: 86400\n<br>DCA Spreads: [Decimal('-0.00001'), Decimal('0.01931649331352148')]\n<br>DCA Amounts: [Decimal('1'), Decimal('4.96601658832455')]\n"
          ],
          [
           "\nPair: PIXEL-USDT\n<br>Volume: 24149.16552429184\n<br>PNL: 10.555381847907217\n<br>Close types: {'STOP_LOSS': 19, 'TIME_LIMIT': 1, 'TRAILING_STOP': 93}\n\nConfig:\n<br>Id: 1360\n<br>BB Length: 50\n<br>BB Std: 1.4\n<br>Take profit: None\n<br>Stop loss: 0.0054911531421599265\n<br>Time limit: 86400\n<br>DCA Spreads: [Decimal('-0.00001'), Decimal('0.01277584204413461')]\n<br>DCA Amounts: [Decimal('1'), Decimal('7.098659859336795')]\n"
          ],
          [
           "\nPair: PIXEL-USDT\n<br>Volume: 10944.715788194106\n<br>PNL: 0.896757418925088\n<br>Close types: {'STOP_LOSS': 10, 'TIME_LIMIT': 2, 'TRAILING_STOP': 37}\n\nConfig:\n<br>Id: 1851\n<br>BB Length: 100\n<br>BB Std: 1.4\n<br>Take profit: None\n<br>Stop loss: 0.00868290335532143\n<br>Time limit: 86400\n<br>DCA Spreads: [Decimal('-0.00001'), Decimal('0.01985442711295011')]\n<br>DCA Amounts: [Decimal('1'), Decimal('9.48996471558642')]\n"
          ],
          [
           "\nPair: PIXEL-USDT\n<br>Volume: 33555.44708342059\n<br>PNL: 3.35788952995087\n<br>Close types: {'STOP_LOSS': 27, 'TIME_LIMIT': 1, 'TRAILING_STOP': 83}\n\nConfig:\n<br>Id: 2283\n<br>BB Length: 50\n<br>BB Std: 1.4\n<br>Take profit: None\n<br>Stop loss: 0.0054911531421599265\n<br>Time limit: 86400\n<br>DCA Spreads: [Decimal('-0.00001'), Decimal('0.01277584204413461')]\n<br>DCA Amounts: [Decimal('1'), Decimal('2.045412469611635')]\n"
          ]
         ],
         "hovertemplate": "trading_pair=PIXEL-USDT<br>total_volume=%{x}<br>net_pnl_quote=%{y}<br>sharpe_ratio=%{marker.size}<br>custom_hover_text=%{customdata[0]}<extra></extra>",
         "legendgroup": "PIXEL-USDT",
         "marker": {
          "color": "#FF6692",
          "size": [
           2.189731726640603,
           0.10504502421435308,
           0.40524536808328415,
           0.5648891801212311
          ],
          "sizemode": "area",
          "sizeref": 0.009168875998020496,
          "symbol": "circle"
         },
         "mode": "markers",
         "name": "PIXEL-USDT",
         "orientation": "v",
         "showlegend": true,
         "type": "scatter",
         "x": [
          11718.79734272755,
          24149.16552429184,
          10944.715788194106,
          33555.44708342059
         ],
         "xaxis": "x",
         "y": [
          15.251639433242037,
          10.555381847907217,
          0.896757418925088,
          3.35788952995087
         ],
         "yaxis": "y"
        },
        {
         "customdata": [
          [
           "\nPair: NEAR-USDT\n<br>Volume: 15563.206114020986\n<br>PNL: 2.2795577843573636\n<br>Close types: {'STOP_LOSS': 13, 'TIME_LIMIT': 2, 'TRAILING_STOP': 58}\n\nConfig:\n<br>Id: 754\n<br>BB Length: 50\n<br>BB Std: 2.2\n<br>Take profit: None\n<br>Stop loss: 0.006636643754444292\n<br>Time limit: 86400\n<br>DCA Spreads: [Decimal('-0.00001'), Decimal('0.01702409904930355')]\n<br>DCA Amounts: [Decimal('1'), Decimal('4.302286625686905')]\n"
          ],
          [
           "\nPair: NEAR-USDT\n<br>Volume: 14530.522331484308\n<br>PNL: 4.213893834198945\n<br>Close types: {'STOP_LOSS': 14, 'TIME_LIMIT': 2, 'TRAILING_STOP': 35}\n\nConfig:\n<br>Id: 2258\n<br>BB Length: 50\n<br>BB Std: 2.2\n<br>Take profit: None\n<br>Stop loss: 0.006636643754444292\n<br>Time limit: 86400\n<br>DCA Spreads: [Decimal('-0.00001'), Decimal('0.01702409904930355')]\n<br>DCA Amounts: [Decimal('1'), Decimal('3.7107481357815324')]\n"
          ]
         ],
         "hovertemplate": "trading_pair=NEAR-USDT<br>total_volume=%{x}<br>net_pnl_quote=%{y}<br>sharpe_ratio=%{marker.size}<br>custom_hover_text=%{customdata[0]}<extra></extra>",
         "legendgroup": "NEAR-USDT",
         "marker": {
          "color": "#B6E880",
          "size": [
           0.4195532375566268,
           1.0029273298125223
          ],
          "sizemode": "area",
          "sizeref": 0.009168875998020496,
          "symbol": "circle"
         },
         "mode": "markers",
         "name": "NEAR-USDT",
         "orientation": "v",
         "showlegend": true,
         "type": "scatter",
         "x": [
          15563.206114020986,
          14530.522331484308
         ],
         "xaxis": "x",
         "y": [
          2.2795577843573636,
          4.213893834198945
         ],
         "yaxis": "y"
        },
        {
         "customdata": [
          [
           "\nPair: LUNA2-USDT\n<br>Volume: 21752.649956683737\n<br>PNL: 7.151003796681352\n<br>Close types: {'STOP_LOSS': 19, 'TIME_LIMIT': 2, 'TRAILING_STOP': 45}\n\nConfig:\n<br>Id: 771\n<br>BB Length: 50\n<br>BB Std: 1.8\n<br>Take profit: None\n<br>Stop loss: 0.005047955577990918\n<br>Time limit: 86400\n<br>DCA Spreads: [Decimal('-0.00001'), Decimal('0.012848267438244299')]\n<br>DCA Amounts: [Decimal('1'), Decimal('1.7239402585802588')]\n"
          ],
          [
           "\nPair: LUNA2-USDT\n<br>Volume: 13868.800604715405\n<br>PNL: 4.1969106853147595\n<br>Close types: {'STOP_LOSS': 12, 'TIME_LIMIT': 1, 'TRAILING_STOP': 37}\n\nConfig:\n<br>Id: 1329\n<br>BB Length: 50\n<br>BB Std: 2.2\n<br>Take profit: None\n<br>Stop loss: 0.006460674157303439\n<br>Time limit: 86400\n<br>DCA Spreads: [Decimal('-0.00001'), Decimal('0.017376412701952428')]\n<br>DCA Amounts: [Decimal('1'), Decimal('2.41890564007544')]\n"
          ],
          [
           "\nPair: LUNA2-USDT\n<br>Volume: 22491.31053578087\n<br>PNL: 1.078241711883767\n<br>Close types: {'STOP_LOSS': 19, 'TIME_LIMIT': 1, 'TRAILING_STOP': 78}\n\nConfig:\n<br>Id: 2993\n<br>BB Length: 50\n<br>BB Std: 1.8\n<br>Take profit: None\n<br>Stop loss: 0.005047955577990918\n<br>Time limit: 86400\n<br>DCA Spreads: [Decimal('-0.00001'), Decimal('0.012848267438244299')]\n<br>DCA Amounts: [Decimal('1'), Decimal('3.4608345011223767')]\n"
          ]
         ],
         "hovertemplate": "trading_pair=LUNA2-USDT<br>total_volume=%{x}<br>net_pnl_quote=%{y}<br>sharpe_ratio=%{marker.size}<br>custom_hover_text=%{customdata[0]}<extra></extra>",
         "legendgroup": "LUNA2-USDT",
         "marker": {
          "color": "#FF97FF",
          "size": [
           0.5899092871679381,
           0.602342531143521,
           0.02122032337008197
          ],
          "sizemode": "area",
          "sizeref": 0.009168875998020496,
          "symbol": "circle"
         },
         "mode": "markers",
         "name": "LUNA2-USDT",
         "orientation": "v",
         "showlegend": true,
         "type": "scatter",
         "x": [
          21752.649956683737,
          13868.800604715405,
          22491.31053578087
         ],
         "xaxis": "x",
         "y": [
          7.151003796681352,
          4.1969106853147595,
          1.078241711883767
         ],
         "yaxis": "y"
        },
        {
         "customdata": [
          [
           "\nPair: ZK-USDT\n<br>Volume: 24562.017803384748\n<br>PNL: 7.780791947752319\n<br>Close types: {'STOP_LOSS': 22, 'TIME_LIMIT': 1, 'TRAILING_STOP': 75}\n\nConfig:\n<br>Id: 802\n<br>BB Length: 50\n<br>BB Std: 1.4\n<br>Take profit: None\n<br>Stop loss: 0.0059510920706743785\n<br>Time limit: 86400\n<br>DCA Spreads: [Decimal('-0.00001'), Decimal('0.012214056489689512')]\n<br>DCA Amounts: [Decimal('1'), Decimal('6.385279469792637')]\n"
          ],
          [
           "\nPair: ZK-USDT\n<br>Volume: 27993.808244390922\n<br>PNL: 5.81625391955391\n<br>Close types: {'STOP_LOSS': 20, 'TIME_LIMIT': 1, 'TRAILING_STOP': 103}\n\nConfig:\n<br>Id: 2751\n<br>BB Length: 50\n<br>BB Std: 1.4\n<br>Take profit: None\n<br>Stop loss: 0.0059510920706743785\n<br>Time limit: 86400\n<br>DCA Spreads: [Decimal('-0.00001'), Decimal('0.012214056489689512')]\n<br>DCA Amounts: [Decimal('1'), Decimal('4.940082929978731')]\n"
          ]
         ],
         "hovertemplate": "trading_pair=ZK-USDT<br>total_volume=%{x}<br>net_pnl_quote=%{y}<br>sharpe_ratio=%{marker.size}<br>custom_hover_text=%{customdata[0]}<extra></extra>",
         "legendgroup": "ZK-USDT",
         "marker": {
          "color": "#FECB52",
          "size": [
           0.4969033301364221,
           0.2906377422507714
          ],
          "sizemode": "area",
          "sizeref": 0.009168875998020496,
          "symbol": "circle"
         },
         "mode": "markers",
         "name": "ZK-USDT",
         "orientation": "v",
         "showlegend": true,
         "type": "scatter",
         "x": [
          24562.017803384748,
          27993.808244390922
         ],
         "xaxis": "x",
         "y": [
          7.780791947752319,
          5.81625391955391
         ],
         "yaxis": "y"
        },
        {
         "customdata": [
          [
           "\nPair: HIGH-USDT\n<br>Volume: 34782.240380464915\n<br>PNL: 10.583035101097524\n<br>Close types: {'STOP_LOSS': 23, 'TIME_LIMIT': 1, 'TRAILING_STOP': 104}\n\nConfig:\n<br>Id: 833\n<br>BB Length: 50\n<br>BB Std: 1.4\n<br>Take profit: None\n<br>Stop loss: 0.00569000834534562\n<br>Time limit: 86400\n<br>DCA Spreads: [Decimal('-0.00001'), Decimal('0.012644459551325746')]\n<br>DCA Amounts: [Decimal('1'), Decimal('2.190451104049646')]\n"
          ]
         ],
         "hovertemplate": "trading_pair=HIGH-USDT<br>total_volume=%{x}<br>net_pnl_quote=%{y}<br>sharpe_ratio=%{marker.size}<br>custom_hover_text=%{customdata[0]}<extra></extra>",
         "legendgroup": "HIGH-USDT",
         "marker": {
          "color": "#636EFA",
          "size": [
           1.038134992051903
          ],
          "sizemode": "area",
          "sizeref": 0.009168875998020496,
          "symbol": "circle"
         },
         "mode": "markers",
         "name": "HIGH-USDT",
         "orientation": "v",
         "showlegend": true,
         "type": "scatter",
         "x": [
          34782.240380464915
         ],
         "xaxis": "x",
         "y": [
          10.583035101097524
         ],
         "yaxis": "y"
        },
        {
         "customdata": [
          [
           "\nPair: SUN-USDT\n<br>Volume: 43400.871502787515\n<br>PNL: 15.068816686227812\n<br>Close types: {'STOP_LOSS': 41, 'TIME_LIMIT': 1, 'TRAILING_STOP': 69}\n\nConfig:\n<br>Id: 848\n<br>BB Length: 20\n<br>BB Std: 2.0\n<br>Take profit: None\n<br>Stop loss: 0.012523176007546431\n<br>Time limit: 86400\n<br>DCA Spreads: [Decimal('-0.00001'), Decimal('0.012523176007546431')]\n<br>DCA Amounts: [Decimal('1'), Decimal('1.5888865601470044')]\n"
          ],
          [
           "\nPair: SUN-USDT\n<br>Volume: 13566.478574513216\n<br>PNL: 23.27449623114217\n<br>Close types: {'STOP_LOSS': 10, 'TIME_LIMIT': 1, 'TRAILING_STOP': 33}\n\nConfig:\n<br>Id: 2910\n<br>BB Length: 100\n<br>BB Std: 1.4\n<br>Take profit: None\n<br>Stop loss: 0.020526060997256887\n<br>Time limit: 86400\n<br>DCA Spreads: [Decimal('-0.00001'), Decimal('0.043319875928252594')]\n<br>DCA Amounts: [Decimal('1'), Decimal('8.192593013584508')]\n"
          ]
         ],
         "hovertemplate": "trading_pair=SUN-USDT<br>total_volume=%{x}<br>net_pnl_quote=%{y}<br>sharpe_ratio=%{marker.size}<br>custom_hover_text=%{customdata[0]}<extra></extra>",
         "legendgroup": "SUN-USDT",
         "marker": {
          "color": "#EF553B",
          "size": [
           0.20377470782678891,
           1.4429674910240928
          ],
          "sizemode": "area",
          "sizeref": 0.009168875998020496,
          "symbol": "circle"
         },
         "mode": "markers",
         "name": "SUN-USDT",
         "orientation": "v",
         "showlegend": true,
         "type": "scatter",
         "x": [
          43400.871502787515,
          13566.478574513216
         ],
         "xaxis": "x",
         "y": [
          15.068816686227812,
          23.27449623114217
         ],
         "yaxis": "y"
        },
        {
         "customdata": [
          [
           "\nPair: CHESS-USDT\n<br>Volume: 15494.204797307655\n<br>PNL: 25.158064300868688\n<br>Close types: {'STOP_LOSS': 11, 'TIME_LIMIT': 1, 'TRAILING_STOP': 27}\n\nConfig:\n<br>Id: 881\n<br>BB Length: 50\n<br>BB Std: 1.5\n<br>Take profit: None\n<br>Stop loss: 0.01098604223284106\n<br>Time limit: 86400\n<br>DCA Spreads: [Decimal('-0.00001'), Decimal('0.01098604223284106')]\n<br>DCA Amounts: [Decimal('1'), Decimal('1.684160692611171')]\n"
          ],
          [
           "\nPair: CHESS-USDT\n<br>Volume: 11753.688190471199\n<br>PNL: 31.543714741362077\n<br>Close types: {'STOP_LOSS': 8, 'TIME_LIMIT': 1, 'TRAILING_STOP': 23}\n\nConfig:\n<br>Id: 1108\n<br>BB Length: 50\n<br>BB Std: 1.8\n<br>Take profit: None\n<br>Stop loss: 0.012497014872150073\n<br>Time limit: 86400\n<br>DCA Spreads: [Decimal('-0.00001'), Decimal('0.012497014872150073')]\n<br>DCA Amounts: [Decimal('1'), Decimal('2.220335161356363')]\n"
          ],
          [
           "\nPair: CHESS-USDT\n<br>Volume: 10199.645331640739\n<br>PNL: 29.829295015864226\n<br>Close types: {'STOP_LOSS': 7, 'TIME_LIMIT': 1, 'TRAILING_STOP': 20}\n\nConfig:\n<br>Id: 1686\n<br>BB Length: 50\n<br>BB Std: 2.0\n<br>Take profit: None\n<br>Stop loss: 0.01098604223284106\n<br>Time limit: 86400\n<br>DCA Spreads: [Decimal('-0.00001'), Decimal('0.01098604223284106')]\n<br>DCA Amounts: [Decimal('1'), Decimal('2.200378357647041')]\n"
          ],
          [
           "\nPair: CHESS-USDT\n<br>Volume: 12732.069458334892\n<br>PNL: 14.07758619745529\n<br>Close types: {'STOP_LOSS': 10, 'TIME_LIMIT': 1, 'TRAILING_STOP': 24}\n\nConfig:\n<br>Id: 1690\n<br>BB Length: 50\n<br>BB Std: 1.4\n<br>Take profit: None\n<br>Stop loss: 0.010427758279343778\n<br>Time limit: 86400\n<br>DCA Spreads: [Decimal('-0.00001'), Decimal('0.01692965967550458')]\n<br>DCA Amounts: [Decimal('1'), Decimal('1.2281410037189509')]\n"
          ],
          [
           "\nPair: CHESS-USDT\n<br>Volume: 13916.405175203327\n<br>PNL: 33.610833378892224\n<br>Close types: {'STOP_LOSS': 10, 'TIME_LIMIT': 1, 'TRAILING_STOP': 30}\n\nConfig:\n<br>Id: 1898\n<br>BB Length: 50\n<br>BB Std: 1.4\n<br>Take profit: None\n<br>Stop loss: 0.010427758279343778\n<br>Time limit: 86400\n<br>DCA Spreads: [Decimal('-0.00001'), Decimal('0.010427758279343778')]\n<br>DCA Amounts: [Decimal('1'), Decimal('4.245578148571974')]\n"
          ],
          [
           "\nPair: CHESS-USDT\n<br>Volume: 13567.489509860694\n<br>PNL: 5.579560911866734\n<br>Close types: {'STOP_LOSS': 12, 'TIME_LIMIT': 1, 'TRAILING_STOP': 36}\n\nConfig:\n<br>Id: 1928\n<br>BB Length: 20\n<br>BB Std: 2.0\n<br>Take profit: None\n<br>Stop loss: 0.008361204013377933\n<br>Time limit: 86400\n<br>DCA Spreads: [Decimal('-0.00001'), Decimal('0.01664932362122793')]\n<br>DCA Amounts: [Decimal('1'), Decimal('2.745130348840759')]\n"
          ],
          [
           "\nPair: CHESS-USDT\n<br>Volume: 17508.824585273473\n<br>PNL: 11.54780184635617\n<br>Close types: {'STOP_LOSS': 14, 'TRAILING_STOP': 42}\n\nConfig:\n<br>Id: 2019\n<br>BB Length: 20\n<br>BB Std: 1.5\n<br>Take profit: None\n<br>Stop loss: 0.0072625698324022105\n<br>Time limit: 86400\n<br>DCA Spreads: [Decimal('-0.00001'), Decimal('0.014829643586120283')]\n<br>DCA Amounts: [Decimal('1'), Decimal('1.7665479518336142')]\n"
          ],
          [
           "\nPair: CHESS-USDT\n<br>Volume: 16808.241382841952\n<br>PNL: 11.732710390957811\n<br>Close types: {'STOP_LOSS': 12, 'TIME_LIMIT': 1, 'TRAILING_STOP': 69}\n\nConfig:\n<br>Id: 3183\n<br>BB Length: 20\n<br>BB Std: 1.5\n<br>Take profit: None\n<br>Stop loss: 0.0072625698324022105\n<br>Time limit: 86400\n<br>DCA Spreads: [Decimal('-0.00001'), Decimal('0.014829643586120283')]\n<br>DCA Amounts: [Decimal('1'), Decimal('3.8523821025473186')]\n"
          ]
         ],
         "hovertemplate": "trading_pair=CHESS-USDT<br>total_volume=%{x}<br>net_pnl_quote=%{y}<br>sharpe_ratio=%{marker.size}<br>custom_hover_text=%{customdata[0]}<extra></extra>",
         "legendgroup": "CHESS-USDT",
         "marker": {
          "color": "#00CC96",
          "size": [
           1.9536667299409838,
           2.697333503460692,
           1.9561487011074474,
           1.6590557198862546,
           2.9802717964250105,
           0.20876555735574323,
           0.038154324227165595,
           0.2969975064814356
          ],
          "sizemode": "area",
          "sizeref": 0.009168875998020496,
          "symbol": "circle"
         },
         "mode": "markers",
         "name": "CHESS-USDT",
         "orientation": "v",
         "showlegend": true,
         "type": "scatter",
         "x": [
          15494.204797307655,
          11753.688190471199,
          10199.645331640739,
          12732.069458334892,
          13916.405175203327,
          13567.489509860694,
          17508.824585273473,
          16808.241382841952
         ],
         "xaxis": "x",
         "y": [
          25.158064300868688,
          31.543714741362077,
          29.829295015864226,
          14.07758619745529,
          33.610833378892224,
          5.579560911866734,
          11.54780184635617,
          11.732710390957811
         ],
         "yaxis": "y"
        },
        {
         "customdata": [
          [
           "\nPair: TLM-USDT\n<br>Volume: 14735.500663412557\n<br>PNL: 5.611752010305573\n<br>Close types: {'STOP_LOSS': 14, 'TIME_LIMIT': 2, 'TRAILING_STOP': 39}\n\nConfig:\n<br>Id: 903\n<br>BB Length: 100\n<br>BB Std: 1.4\n<br>Take profit: None\n<br>Stop loss: 0.006189709428432919\n<br>Time limit: 86400\n<br>DCA Spreads: [Decimal('-0.00001'), Decimal('0.017024593135277474')]\n<br>DCA Amounts: [Decimal('1'), Decimal('8.552794971929695')]\n"
          ],
          [
           "\nPair: TLM-USDT\n<br>Volume: 34399.46481809455\n<br>PNL: 0.26838708816629453\n<br>Close types: {'STOP_LOSS': 31, 'TIME_LIMIT': 2, 'TRAILING_STOP': 80}\n\nConfig:\n<br>Id: 1669\n<br>BB Length: 50\n<br>BB Std: 1.4\n<br>Take profit: None\n<br>Stop loss: 0.004615113703267096\n<br>Time limit: 86400\n<br>DCA Spreads: [Decimal('-0.00001'), Decimal('0.011783829689324402')]\n<br>DCA Amounts: [Decimal('1'), Decimal('2.1140295298897107')]\n"
          ],
          [
           "\nPair: TLM-USDT\n<br>Volume: 19043.335292212396\n<br>PNL: 6.124078612257337\n<br>Close types: {'STOP_LOSS': 19, 'TIME_LIMIT': 1, 'TRAILING_STOP': 46}\n\nConfig:\n<br>Id: 2102\n<br>BB Length: 50\n<br>BB Std: 1.8\n<br>Take profit: None\n<br>Stop loss: 0.006358743024812147\n<br>Time limit: 86400\n<br>DCA Spreads: [Decimal('-0.00001'), Decimal('0.01475238083659056')]\n<br>DCA Amounts: [Decimal('1'), Decimal('3.920532173160689')]\n"
          ],
          [
           "\nPair: TLM-USDT\n<br>Volume: 12041.60166828568\n<br>PNL: 0.09976132594125983\n<br>Close types: {'STOP_LOSS': 10, 'TIME_LIMIT': 1, 'TRAILING_STOP': 44}\n\nConfig:\n<br>Id: 2204\n<br>BB Length: 100\n<br>BB Std: 1.8\n<br>Take profit: None\n<br>Stop loss: 0.007416147910946257\n<br>Time limit: 86400\n<br>DCA Spreads: [Decimal('-0.00001'), Decimal('0.018949220920236803')]\n<br>DCA Amounts: [Decimal('1'), Decimal('4.328815083859488')]\n"
          ],
          [
           "\nPair: TLM-USDT\n<br>Volume: 12082.935124880549\n<br>PNL: 5.051134539296978\n<br>Close types: {'STOP_LOSS': 9, 'TIME_LIMIT': 1, 'TRAILING_STOP': 20}\n\nConfig:\n<br>Id: 2687\n<br>BB Length: 100\n<br>BB Std: 2.2\n<br>Take profit: None\n<br>Stop loss: 0.01287271051488428\n<br>Time limit: 86400\n<br>DCA Spreads: [Decimal('-0.00001'), Decimal('0.01287271051488428')]\n<br>DCA Amounts: [Decimal('1'), Decimal('2.3830928226141688')]\n"
          ],
          [
           "\nPair: TLM-USDT\n<br>Volume: 15612.307746319202\n<br>PNL: 2.9789658236683088\n<br>Close types: {'STOP_LOSS': 11, 'TIME_LIMIT': 1, 'TRAILING_STOP': 42}\n\nConfig:\n<br>Id: 3018\n<br>BB Length: 100\n<br>BB Std: 1.8\n<br>Take profit: None\n<br>Stop loss: 0.007416147910946257\n<br>Time limit: 86400\n<br>DCA Spreads: [Decimal('-0.00001'), Decimal('0.018949220920236803')]\n<br>DCA Amounts: [Decimal('1'), Decimal('1.862751775263912')]\n"
          ]
         ],
         "hovertemplate": "trading_pair=TLM-USDT<br>total_volume=%{x}<br>net_pnl_quote=%{y}<br>sharpe_ratio=%{marker.size}<br>custom_hover_text=%{customdata[0]}<extra></extra>",
         "legendgroup": "TLM-USDT",
         "marker": {
          "color": "#AB63FA",
          "size": [
           0.03143363753208464,
           0.20372754637553653,
           0.7209683817004169,
           0.42003401812117885,
           0.08465617221108558,
           0.4726644618331068
          ],
          "sizemode": "area",
          "sizeref": 0.009168875998020496,
          "symbol": "circle"
         },
         "mode": "markers",
         "name": "TLM-USDT",
         "orientation": "v",
         "showlegend": true,
         "type": "scatter",
         "x": [
          14735.500663412557,
          34399.46481809455,
          19043.335292212396,
          12041.60166828568,
          12082.935124880549,
          15612.307746319202
         ],
         "xaxis": "x",
         "y": [
          5.611752010305573,
          0.26838708816629453,
          6.124078612257337,
          0.09976132594125983,
          5.051134539296978,
          2.9789658236683088
         ],
         "yaxis": "y"
        },
        {
         "customdata": [
          [
           "\nPair: BANANA-USDT\n<br>Volume: 12836.153042531925\n<br>PNL: 7.253572539130737\n<br>Close types: {'STOP_LOSS': 11, 'TIME_LIMIT': 1, 'TRAILING_STOP': 45}\n\nConfig:\n<br>Id: 905\n<br>BB Length: 50\n<br>BB Std: 2.2\n<br>Take profit: None\n<br>Stop loss: 0.009136171272093712\n<br>Time limit: 86400\n<br>DCA Spreads: [Decimal('-0.00001'), Decimal('0.02211074393186779')]\n<br>DCA Amounts: [Decimal('1'), Decimal('5.569080983111033')]\n"
          ],
          [
           "\nPair: BANANA-USDT\n<br>Volume: 13789.911470039126\n<br>PNL: 11.115377992455574\n<br>Close types: {'STOP_LOSS': 12, 'TIME_LIMIT': 1, 'TRAILING_STOP': 34}\n\nConfig:\n<br>Id: 1884\n<br>BB Length: 50\n<br>BB Std: 2.2\n<br>Take profit: None\n<br>Stop loss: 0.009136171272093712\n<br>Time limit: 86400\n<br>DCA Spreads: [Decimal('-0.00001'), Decimal('0.02211074393186779')]\n<br>DCA Amounts: [Decimal('1'), Decimal('4.0140512238882105')]\n"
          ]
         ],
         "hovertemplate": "trading_pair=BANANA-USDT<br>total_volume=%{x}<br>net_pnl_quote=%{y}<br>sharpe_ratio=%{marker.size}<br>custom_hover_text=%{customdata[0]}<extra></extra>",
         "legendgroup": "BANANA-USDT",
         "marker": {
          "color": "#FFA15A",
          "size": [
           1.7222473670627803,
           0.8666340779609214
          ],
          "sizemode": "area",
          "sizeref": 0.009168875998020496,
          "symbol": "circle"
         },
         "mode": "markers",
         "name": "BANANA-USDT",
         "orientation": "v",
         "showlegend": true,
         "type": "scatter",
         "x": [
          12836.153042531925,
          13789.911470039126
         ],
         "xaxis": "x",
         "y": [
          7.253572539130737,
          11.115377992455574
         ],
         "yaxis": "y"
        },
        {
         "customdata": [
          [
           "\nPair: HOOK-USDT\n<br>Volume: 17830.682282066293\n<br>PNL: 2.8164640750945056\n<br>Close types: {'STOP_LOSS': 16, 'TIME_LIMIT': 1, 'TRAILING_STOP': 51}\n\nConfig:\n<br>Id: 973\n<br>BB Length: 100\n<br>BB Std: 1.4\n<br>Take profit: None\n<br>Stop loss: 0.006994477097877995\n<br>Time limit: 86400\n<br>DCA Spreads: [Decimal('-0.00001'), Decimal('0.012278581424412731')]\n<br>DCA Amounts: [Decimal('1'), Decimal('5.698617779955282')]\n"
          ],
          [
           "\nPair: HOOK-USDT\n<br>Volume: 17074.520462031924\n<br>PNL: 0.6156911878539749\n<br>Close types: {'STOP_LOSS': 16, 'TIME_LIMIT': 1, 'TRAILING_STOP': 36}\n\nConfig:\n<br>Id: 1097\n<br>BB Length: 50\n<br>BB Std: 2.2\n<br>Take profit: None\n<br>Stop loss: 0.007086439907789917\n<br>Time limit: 86400\n<br>DCA Spreads: [Decimal('-0.00001'), Decimal('0.01465304752322696')]\n<br>DCA Amounts: [Decimal('1'), Decimal('1.970090203481094')]\n"
          ],
          [
           "\nPair: HOOK-USDT\n<br>Volume: 23884.53716880094\n<br>PNL: 7.358869078602379\n<br>Close types: {'STOP_LOSS': 19, 'TIME_LIMIT': 1, 'TRAILING_STOP': 48}\n\nConfig:\n<br>Id: 1297\n<br>BB Length: 100\n<br>BB Std: 1.4\n<br>Take profit: None\n<br>Stop loss: 0.006994477097877995\n<br>Time limit: 86400\n<br>DCA Spreads: [Decimal('-0.00001'), Decimal('0.012278581424412731')]\n<br>DCA Amounts: [Decimal('1'), Decimal('1.6773663032877022')]\n"
          ],
          [
           "\nPair: HOOK-USDT\n<br>Volume: 41359.74200847473\n<br>PNL: 6.974954405523787\n<br>Close types: {'STOP_LOSS': 31, 'TIME_LIMIT': 1, 'TRAILING_STOP': 97}\n\nConfig:\n<br>Id: 1364\n<br>BB Length: 50\n<br>BB Std: 1.4\n<br>Take profit: None\n<br>Stop loss: 0.005027652086475621\n<br>Time limit: 86400\n<br>DCA Spreads: [Decimal('-0.00001'), Decimal('0.011432603103060268')]\n<br>DCA Amounts: [Decimal('1'), Decimal('1.6263843675500422')]\n"
          ],
          [
           "\nPair: HOOK-USDT\n<br>Volume: 30072.946228032994\n<br>PNL: 5.009569446810306\n<br>Close types: {'STOP_LOSS': 25, 'TIME_LIMIT': 1, 'TRAILING_STOP': 103}\n\nConfig:\n<br>Id: 1625\n<br>BB Length: 50\n<br>BB Std: 1.4\n<br>Take profit: None\n<br>Stop loss: 0.005027652086475621\n<br>Time limit: 86400\n<br>DCA Spreads: [Decimal('-0.00001'), Decimal('0.011432603103060268')]\n<br>DCA Amounts: [Decimal('1'), Decimal('4.606960137961213')]\n"
          ],
          [
           "\nPair: HOOK-USDT\n<br>Volume: 29975.659024230557\n<br>PNL: 5.717116691944695\n<br>Close types: {'STOP_LOSS': 24, 'TRAILING_STOP': 65}\n\nConfig:\n<br>Id: 2820\n<br>BB Length: 50\n<br>BB Std: 1.8\n<br>Take profit: None\n<br>Stop loss: 0.005967180507210376\n<br>Time limit: 86400\n<br>DCA Spreads: [Decimal('-0.00001'), Decimal('0.012281100750511623')]\n<br>DCA Amounts: [Decimal('1'), Decimal('1.6294446700695313')]\n"
          ]
         ],
         "hovertemplate": "trading_pair=HOOK-USDT<br>total_volume=%{x}<br>net_pnl_quote=%{y}<br>sharpe_ratio=%{marker.size}<br>custom_hover_text=%{customdata[0]}<extra></extra>",
         "legendgroup": "HOOK-USDT",
         "marker": {
          "color": "#19D3F3",
          "size": [
           0.18915309436680205,
           0.08483245631963889,
           0.3299926602728404,
           0.9845305178504511,
           0.47520694820253057,
           0.6121476588709006
          ],
          "sizemode": "area",
          "sizeref": 0.009168875998020496,
          "symbol": "circle"
         },
         "mode": "markers",
         "name": "HOOK-USDT",
         "orientation": "v",
         "showlegend": true,
         "type": "scatter",
         "x": [
          17830.682282066293,
          17074.520462031924,
          23884.53716880094,
          41359.74200847473,
          30072.946228032994,
          29975.659024230557
         ],
         "xaxis": "x",
         "y": [
          2.8164640750945056,
          0.6156911878539749,
          7.358869078602379,
          6.974954405523787,
          5.009569446810306,
          5.717116691944695
         ],
         "yaxis": "y"
        },
        {
         "customdata": [
          [
           "\nPair: GALA-USDT\n<br>Volume: 28032.024191841243\n<br>PNL: 2.1708846432001625\n<br>Close types: {'STOP_LOSS': 22, 'TIME_LIMIT': 1, 'TRAILING_STOP': 76}\n\nConfig:\n<br>Id: 980\n<br>BB Length: 50\n<br>BB Std: 1.8\n<br>Take profit: None\n<br>Stop loss: 0.006083294337856723\n<br>Time limit: 86400\n<br>DCA Spreads: [Decimal('-0.00001'), Decimal('0.01695974774931319')]\n<br>DCA Amounts: [Decimal('1'), Decimal('2.114881650841263')]\n"
          ],
          [
           "\nPair: GALA-USDT\n<br>Volume: 20443.225861631\n<br>PNL: 1.3740451658084782\n<br>Close types: {'STOP_LOSS': 18, 'TIME_LIMIT': 1, 'TRAILING_STOP': 83}\n\nConfig:\n<br>Id: 3207\n<br>BB Length: 50\n<br>BB Std: 1.8\n<br>Take profit: None\n<br>Stop loss: 0.006083294337856723\n<br>Time limit: 86400\n<br>DCA Spreads: [Decimal('-0.00001'), Decimal('0.01695974774931319')]\n<br>DCA Amounts: [Decimal('1'), Decimal('6.1350878304117575')]\n"
          ]
         ],
         "hovertemplate": "trading_pair=GALA-USDT<br>total_volume=%{x}<br>net_pnl_quote=%{y}<br>sharpe_ratio=%{marker.size}<br>custom_hover_text=%{customdata[0]}<extra></extra>",
         "legendgroup": "GALA-USDT",
         "marker": {
          "color": "#FF6692",
          "size": [
           1.3255761420926548,
           0.8912152961721952
          ],
          "sizemode": "area",
          "sizeref": 0.009168875998020496,
          "symbol": "circle"
         },
         "mode": "markers",
         "name": "GALA-USDT",
         "orientation": "v",
         "showlegend": true,
         "type": "scatter",
         "x": [
          28032.024191841243,
          20443.225861631
         ],
         "xaxis": "x",
         "y": [
          2.1708846432001625,
          1.3740451658084782
         ],
         "yaxis": "y"
        },
        {
         "customdata": [
          [
           "\nPair: SYN-USDT\n<br>Volume: 21336.67324030058\n<br>PNL: 9.664388799717676\n<br>Close types: {'STOP_LOSS': 14, 'TRAILING_STOP': 44}\n\nConfig:\n<br>Id: 996\n<br>BB Length: 50\n<br>BB Std: 2.2\n<br>Take profit: None\n<br>Stop loss: 0.009438727706615344\n<br>Time limit: 86400\n<br>DCA Spreads: [Decimal('-0.00001'), Decimal('0.01890831293840376')]\n<br>DCA Amounts: [Decimal('1'), Decimal('1.0407101199524926')]\n"
          ],
          [
           "\nPair: SYN-USDT\n<br>Volume: 14391.052668457845\n<br>PNL: 11.334050620616495\n<br>Close types: {'STOP_LOSS': 8, 'TIME_LIMIT': 1, 'TRAILING_STOP': 29}\n\nConfig:\n<br>Id: 1075\n<br>BB Length: 100\n<br>BB Std: 2.2\n<br>Take profit: None\n<br>Stop loss: 0.012947482297403633\n<br>Time limit: 86400\n<br>DCA Spreads: [Decimal('-0.00001'), Decimal('0.012947482297403633')]\n<br>DCA Amounts: [Decimal('1'), Decimal('1.1693625007679844')]\n"
          ],
          [
           "\nPair: SYN-USDT\n<br>Volume: 18835.72370573853\n<br>PNL: 4.479424405877733\n<br>Close types: {'STOP_LOSS': 12, 'TIME_LIMIT': 1, 'TRAILING_STOP': 54}\n\nConfig:\n<br>Id: 1185\n<br>BB Length: 100\n<br>BB Std: 1.4\n<br>Take profit: None\n<br>Stop loss: 0.009856217911534262\n<br>Time limit: 86400\n<br>DCA Spreads: [Decimal('-0.00001'), Decimal('0.0205724374677404')]\n<br>DCA Amounts: [Decimal('1'), Decimal('2.047225175434016')]\n"
          ],
          [
           "\nPair: SYN-USDT\n<br>Volume: 16033.287085797532\n<br>PNL: 4.762671963126981\n<br>Close types: {'STOP_LOSS': 10, 'TIME_LIMIT': 1, 'TRAILING_STOP': 40}\n\nConfig:\n<br>Id: 2712\n<br>BB Length: 100\n<br>BB Std: 1.8\n<br>Take profit: None\n<br>Stop loss: 0.009314726979976363\n<br>Time limit: 86400\n<br>DCA Spreads: [Decimal('-0.00001'), Decimal('0.02227200716824797')]\n<br>DCA Amounts: [Decimal('1'), Decimal('1.4518385440024097')]\n"
          ]
         ],
         "hovertemplate": "trading_pair=SYN-USDT<br>total_volume=%{x}<br>net_pnl_quote=%{y}<br>sharpe_ratio=%{marker.size}<br>custom_hover_text=%{customdata[0]}<extra></extra>",
         "legendgroup": "SYN-USDT",
         "marker": {
          "color": "#B6E880",
          "size": [
           1.479785054921695,
           0.10502207002674574,
           1.1240091093269993,
           0.6905278669347722
          ],
          "sizemode": "area",
          "sizeref": 0.009168875998020496,
          "symbol": "circle"
         },
         "mode": "markers",
         "name": "SYN-USDT",
         "orientation": "v",
         "showlegend": true,
         "type": "scatter",
         "x": [
          21336.67324030058,
          14391.052668457845,
          18835.72370573853,
          16033.287085797532
         ],
         "xaxis": "x",
         "y": [
          9.664388799717676,
          11.334050620616495,
          4.479424405877733,
          4.762671963126981
         ],
         "yaxis": "y"
        },
        {
         "customdata": [
          [
           "\nPair: DYM-USDT\n<br>Volume: 18184.312775409748\n<br>PNL: 1.742943030627707\n<br>Close types: {'STOP_LOSS': 12, 'TIME_LIMIT': 1, 'TRAILING_STOP': 53}\n\nConfig:\n<br>Id: 997\n<br>BB Length: 100\n<br>BB Std: 1.4\n<br>Take profit: None\n<br>Stop loss: 0.008207836699735968\n<br>Time limit: 86400\n<br>DCA Spreads: [Decimal('-0.00001'), Decimal('0.018126888217522577')]\n<br>DCA Amounts: [Decimal('1'), Decimal('2.4947468463563798')]\n"
          ],
          [
           "\nPair: DYM-USDT\n<br>Volume: 38998.558095603796\n<br>PNL: 2.33025512972924\n<br>Close types: {'STOP_LOSS': 27, 'TIME_LIMIT': 1, 'TRAILING_STOP': 87}\n\nConfig:\n<br>Id: 1569\n<br>BB Length: 50\n<br>BB Std: 1.4\n<br>Take profit: None\n<br>Stop loss: 0.006072311888425952\n<br>Time limit: 86400\n<br>DCA Spreads: [Decimal('-0.00001'), Decimal('0.013542092112070749')]\n<br>DCA Amounts: [Decimal('1'), Decimal('1.315935936763533')]\n"
          ]
         ],
         "hovertemplate": "trading_pair=DYM-USDT<br>total_volume=%{x}<br>net_pnl_quote=%{y}<br>sharpe_ratio=%{marker.size}<br>custom_hover_text=%{customdata[0]}<extra></extra>",
         "legendgroup": "DYM-USDT",
         "marker": {
          "color": "#FF97FF",
          "size": [
           0.7383942024849114,
           0.5030612191151667
          ],
          "sizemode": "area",
          "sizeref": 0.009168875998020496,
          "symbol": "circle"
         },
         "mode": "markers",
         "name": "DYM-USDT",
         "orientation": "v",
         "showlegend": true,
         "type": "scatter",
         "x": [
          18184.312775409748,
          38998.558095603796
         ],
         "xaxis": "x",
         "y": [
          1.742943030627707,
          2.33025512972924
         ],
         "yaxis": "y"
        },
        {
         "customdata": [
          [
           "\nPair: BEAMX-USDT\n<br>Volume: 13236.833523802654\n<br>PNL: 0.1892477141996239\n<br>Close types: {'STOP_LOSS': 13, 'TIME_LIMIT': 1, 'TRAILING_STOP': 50}\n\nConfig:\n<br>Id: 1104\n<br>BB Length: 100\n<br>BB Std: 1.4\n<br>Take profit: None\n<br>Stop loss: 0.005460022593196954\n<br>Time limit: 86400\n<br>DCA Spreads: [Decimal('-0.00001'), Decimal('0.020745583705287007')]\n<br>DCA Amounts: [Decimal('1'), Decimal('6.918976717385422')]\n"
          ]
         ],
         "hovertemplate": "trading_pair=BEAMX-USDT<br>total_volume=%{x}<br>net_pnl_quote=%{y}<br>sharpe_ratio=%{marker.size}<br>custom_hover_text=%{customdata[0]}<extra></extra>",
         "legendgroup": "BEAMX-USDT",
         "marker": {
          "color": "#FECB52",
          "size": [
           1.2398500411150941
          ],
          "sizemode": "area",
          "sizeref": 0.009168875998020496,
          "symbol": "circle"
         },
         "mode": "markers",
         "name": "BEAMX-USDT",
         "orientation": "v",
         "showlegend": true,
         "type": "scatter",
         "x": [
          13236.833523802654
         ],
         "xaxis": "x",
         "y": [
          0.1892477141996239
         ],
         "yaxis": "y"
        },
        {
         "customdata": [
          [
           "\nPair: JUP-USDT\n<br>Volume: 12480.736578185077\n<br>PNL: 11.150973299443804\n<br>Close types: {'STOP_LOSS': 9, 'TIME_LIMIT': 1, 'TRAILING_STOP': 22}\n\nConfig:\n<br>Id: 1137\n<br>BB Length: 200\n<br>BB Std: 1.8\n<br>Take profit: None\n<br>Stop loss: 0.012342471092633575\n<br>Time limit: 86400\n<br>DCA Spreads: [Decimal('-0.00001'), Decimal('0.012342471092633575')]\n<br>DCA Amounts: [Decimal('1'), Decimal('1.2724102636689842')]\n"
          ],
          [
           "\nPair: JUP-USDT\n<br>Volume: 11525.686806692878\n<br>PNL: 4.414426148346678\n<br>Close types: {'STOP_LOSS': 9, 'TIME_LIMIT': 2, 'TRAILING_STOP': 39}\n\nConfig:\n<br>Id: 1847\n<br>BB Length: 100\n<br>BB Std: 1.4\n<br>Take profit: None\n<br>Stop loss: 0.008420779893768701\n<br>Time limit: 86400\n<br>DCA Spreads: [Decimal('-0.00001'), Decimal('0.019012362559425205')]\n<br>DCA Amounts: [Decimal('1'), Decimal('4.270839295328296')]\n"
          ],
          [
           "\nPair: JUP-USDT\n<br>Volume: 13349.475013825002\n<br>PNL: 7.695498341928158\n<br>Close types: {'STOP_LOSS': 10, 'TIME_LIMIT': 2, 'TRAILING_STOP': 40}\n\nConfig:\n<br>Id: 2130\n<br>BB Length: 50\n<br>BB Std: 2.2\n<br>Take profit: None\n<br>Stop loss: 0.008592777085927653\n<br>Time limit: 86400\n<br>DCA Spreads: [Decimal('-0.00001'), Decimal('0.016518709967411997')]\n<br>DCA Amounts: [Decimal('1'), Decimal('4.1040642673969385')]\n"
          ],
          [
           "\nPair: JUP-USDT\n<br>Volume: 27514.355214723528\n<br>PNL: 7.438856425223638\n<br>Close types: {'STOP_LOSS': 17, 'TIME_LIMIT': 1, 'TRAILING_STOP': 77}\n\nConfig:\n<br>Id: 2207\n<br>BB Length: 50\n<br>BB Std: 1.8\n<br>Take profit: None\n<br>Stop loss: 0.006258587426407114\n<br>Time limit: 86400\n<br>DCA Spreads: [Decimal('-0.00001'), Decimal('0.013869634655225524')]\n<br>DCA Amounts: [Decimal('1'), Decimal('1.7029594472107688')]\n"
          ],
          [
           "\nPair: JUP-USDT\n<br>Volume: 17940.44201123598\n<br>PNL: 5.402692903498662\n<br>Close types: {'STOP_LOSS': 16, 'TIME_LIMIT': 2, 'TRAILING_STOP': 50}\n\nConfig:\n<br>Id: 2433\n<br>BB Length: 50\n<br>BB Std: 1.8\n<br>Take profit: None\n<br>Stop loss: 0.006258587426407114\n<br>Time limit: 86400\n<br>DCA Spreads: [Decimal('-0.00001'), Decimal('0.013869634655225524')]\n<br>DCA Amounts: [Decimal('1'), Decimal('3.8481240866465107')]\n"
          ]
         ],
         "hovertemplate": "trading_pair=JUP-USDT<br>total_volume=%{x}<br>net_pnl_quote=%{y}<br>sharpe_ratio=%{marker.size}<br>custom_hover_text=%{customdata[0]}<extra></extra>",
         "legendgroup": "JUP-USDT",
         "marker": {
          "color": "#636EFA",
          "size": [
           1.1342175829127048,
           0.5252484229627528,
           1.0658833238071885,
           0.14721398724668033,
           0.21797687554067183
          ],
          "sizemode": "area",
          "sizeref": 0.009168875998020496,
          "symbol": "circle"
         },
         "mode": "markers",
         "name": "JUP-USDT",
         "orientation": "v",
         "showlegend": true,
         "type": "scatter",
         "x": [
          12480.736578185077,
          11525.686806692878,
          13349.475013825002,
          27514.355214723528,
          17940.44201123598
         ],
         "xaxis": "x",
         "y": [
          11.150973299443804,
          4.414426148346678,
          7.695498341928158,
          7.438856425223638,
          5.402692903498662
         ],
         "yaxis": "y"
        },
        {
         "customdata": [
          [
           "\nPair: ORBS-USDT\n<br>Volume: 16310.744322410312\n<br>PNL: 5.429047440871311\n<br>Close types: {'STOP_LOSS': 12, 'TIME_LIMIT': 1, 'TRAILING_STOP': 52}\n\nConfig:\n<br>Id: 1352\n<br>BB Length: 50\n<br>BB Std: 2.2\n<br>Take profit: None\n<br>Stop loss: 0.004234026173979946\n<br>Time limit: 86400\n<br>DCA Spreads: [Decimal('-0.00001'), Decimal('0.010041841004184126')]\n<br>DCA Amounts: [Decimal('1'), Decimal('2.868156870310345')]\n"
          ]
         ],
         "hovertemplate": "trading_pair=ORBS-USDT<br>total_volume=%{x}<br>net_pnl_quote=%{y}<br>sharpe_ratio=%{marker.size}<br>custom_hover_text=%{customdata[0]}<extra></extra>",
         "legendgroup": "ORBS-USDT",
         "marker": {
          "color": "#EF553B",
          "size": [
           1.0024943666410535
          ],
          "sizemode": "area",
          "sizeref": 0.009168875998020496,
          "symbol": "circle"
         },
         "mode": "markers",
         "name": "ORBS-USDT",
         "orientation": "v",
         "showlegend": true,
         "type": "scatter",
         "x": [
          16310.744322410312
         ],
         "xaxis": "x",
         "y": [
          5.429047440871311
         ],
         "yaxis": "y"
        },
        {
         "customdata": [
          [
           "\nPair: TOKEN-USDT\n<br>Volume: 12022.913040339488\n<br>PNL: 5.527409455854914\n<br>Close types: {'STOP_LOSS': 11, 'TIME_LIMIT': 2, 'TRAILING_STOP': 40}\n\nConfig:\n<br>Id: 1362\n<br>BB Length: 100\n<br>BB Std: 1.4\n<br>Take profit: None\n<br>Stop loss: 0.009039229971401629\n<br>Time limit: 86400\n<br>DCA Spreads: [Decimal('-0.00001'), Decimal('0.023288647354845548')]\n<br>DCA Amounts: [Decimal('1'), Decimal('6.542393610316839')]\n"
          ],
          [
           "\nPair: TOKEN-USDT\n<br>Volume: 12283.746419925714\n<br>PNL: 1.719441096556577\n<br>Close types: {'STOP_LOSS': 10, 'TRAILING_STOP': 21}\n\nConfig:\n<br>Id: 1854\n<br>BB Length: 200\n<br>BB Std: 1.4\n<br>Take profit: None\n<br>Stop loss: 0.013182974333434155\n<br>Time limit: 86400\n<br>DCA Spreads: [Decimal('-0.00001'), Decimal('0.013182974333434155')]\n<br>DCA Amounts: [Decimal('1'), Decimal('4.256962979152812')]\n"
          ],
          [
           "\nPair: TOKEN-USDT\n<br>Volume: 12804.224656764252\n<br>PNL: 11.08072569358873\n<br>Close types: {'STOP_LOSS': 10, 'TIME_LIMIT': 2, 'TRAILING_STOP': 52}\n\nConfig:\n<br>Id: 3023\n<br>BB Length: 100\n<br>BB Std: 1.4\n<br>Take profit: None\n<br>Stop loss: 0.009039229971401629\n<br>Time limit: 86400\n<br>DCA Spreads: [Decimal('-0.00001'), Decimal('0.023288647354845548')]\n<br>DCA Amounts: [Decimal('1'), Decimal('7.988133818645331')]\n"
          ]
         ],
         "hovertemplate": "trading_pair=TOKEN-USDT<br>total_volume=%{x}<br>net_pnl_quote=%{y}<br>sharpe_ratio=%{marker.size}<br>custom_hover_text=%{customdata[0]}<extra></extra>",
         "legendgroup": "TOKEN-USDT",
         "marker": {
          "color": "#00CC96",
          "size": [
           0.8423727902204908,
           0.6121277755531793,
           1.1614001170361332
          ],
          "sizemode": "area",
          "sizeref": 0.009168875998020496,
          "symbol": "circle"
         },
         "mode": "markers",
         "name": "TOKEN-USDT",
         "orientation": "v",
         "showlegend": true,
         "type": "scatter",
         "x": [
          12022.913040339488,
          12283.746419925714,
          12804.224656764252
         ],
         "xaxis": "x",
         "y": [
          5.527409455854914,
          1.719441096556577,
          11.08072569358873
         ],
         "yaxis": "y"
        },
        {
         "customdata": [
          [
           "\nPair: LISTA-USDT\n<br>Volume: 32117.27913889586\n<br>PNL: 1.4956547456429226\n<br>Close types: {'STOP_LOSS': 24, 'TIME_LIMIT': 2, 'TRAILING_STOP': 91}\n\nConfig:\n<br>Id: 1469\n<br>BB Length: 50\n<br>BB Std: 1.4\n<br>Take profit: None\n<br>Stop loss: 0.005750035937724602\n<br>Time limit: 86400\n<br>DCA Spreads: [Decimal('-0.00001'), Decimal('0.013515030323124292')]\n<br>DCA Amounts: [Decimal('1'), Decimal('2.224811580864401')]\n"
          ],
          [
           "\nPair: LISTA-USDT\n<br>Volume: 12373.96073688317\n<br>PNL: 9.109345739613092\n<br>Close types: {'STOP_LOSS': 8, 'TIME_LIMIT': 1, 'TRAILING_STOP': 23}\n\nConfig:\n<br>Id: 2734\n<br>BB Length: 200\n<br>BB Std: 1.8\n<br>Take profit: None\n<br>Stop loss: 0.013637490701710898\n<br>Time limit: 86400\n<br>DCA Spreads: [Decimal('-0.00001'), Decimal('0.013637490701710898')]\n<br>DCA Amounts: [Decimal('1'), Decimal('1.3193063516034496')]\n"
          ],
          [
           "\nPair: LISTA-USDT\n<br>Volume: 13705.34281935256\n<br>PNL: 1.4418013046597418\n<br>Close types: {'STOP_LOSS': 12, 'TIME_LIMIT': 2, 'TRAILING_STOP': 49}\n\nConfig:\n<br>Id: 2949\n<br>BB Length: 100\n<br>BB Std: 1.4\n<br>Take profit: None\n<br>Stop loss: 0.007970112079701072\n<br>Time limit: 86400\n<br>DCA Spreads: [Decimal('-0.00001'), Decimal('0.02187286397812713')]\n<br>DCA Amounts: [Decimal('1'), Decimal('5.869097476358218')]\n"
          ],
          [
           "\nPair: LISTA-USDT\n<br>Volume: 21145.449603944995\n<br>PNL: 6.827803294398564\n<br>Close types: {'STOP_LOSS': 12, 'TIME_LIMIT': 2, 'TRAILING_STOP': 53}\n\nConfig:\n<br>Id: 2966\n<br>BB Length: 50\n<br>BB Std: 2.2\n<br>Take profit: None\n<br>Stop loss: 0.009111617586944572\n<br>Time limit: 86400\n<br>DCA Spreads: [Decimal('-0.00001'), Decimal('0.018693386707925534')]\n<br>DCA Amounts: [Decimal('1'), Decimal('1.3663632896184796')]\n"
          ]
         ],
         "hovertemplate": "trading_pair=LISTA-USDT<br>total_volume=%{x}<br>net_pnl_quote=%{y}<br>sharpe_ratio=%{marker.size}<br>custom_hover_text=%{customdata[0]}<extra></extra>",
         "legendgroup": "LISTA-USDT",
         "marker": {
          "color": "#AB63FA",
          "size": [
           0.5038324323270011,
           0.7306970667925725,
           0.7543826238972704,
           0.3404422545137282
          ],
          "sizemode": "area",
          "sizeref": 0.009168875998020496,
          "symbol": "circle"
         },
         "mode": "markers",
         "name": "LISTA-USDT",
         "orientation": "v",
         "showlegend": true,
         "type": "scatter",
         "x": [
          32117.27913889586,
          12373.96073688317,
          13705.34281935256,
          21145.449603944995
         ],
         "xaxis": "x",
         "y": [
          1.4956547456429226,
          9.109345739613092,
          1.4418013046597418,
          6.827803294398564
         ],
         "yaxis": "y"
        },
        {
         "customdata": [
          [
           "\nPair: MEW-USDT\n<br>Volume: 31171.575922695196\n<br>PNL: 3.543679119822978\n<br>Close types: {'STOP_LOSS': 23, 'TIME_LIMIT': 1, 'TRAILING_STOP': 86}\n\nConfig:\n<br>Id: 1675\n<br>BB Length: 50\n<br>BB Std: 1.4\n<br>Take profit: None\n<br>Stop loss: 0.006421691045308522\n<br>Time limit: 86400\n<br>DCA Spreads: [Decimal('-0.00001'), Decimal('0.014062145611249813')]\n<br>DCA Amounts: [Decimal('1'), Decimal('2.153681511548085')]\n"
          ],
          [
           "\nPair: MEW-USDT\n<br>Volume: 12053.223252773623\n<br>PNL: 3.483417521412479\n<br>Close types: {'STOP_LOSS': 9, 'TIME_LIMIT': 2, 'TRAILING_STOP': 52}\n\nConfig:\n<br>Id: 1984\n<br>BB Length: 100\n<br>BB Std: 1.4\n<br>Take profit: None\n<br>Stop loss: 0.008682674081633441\n<br>Time limit: 86400\n<br>DCA Spreads: [Decimal('-0.00001'), Decimal('0.02365541228333662')]\n<br>DCA Amounts: [Decimal('1'), Decimal('7.047687744700177')]\n"
          ],
          [
           "\nPair: MEW-USDT\n<br>Volume: 12067.477120060134\n<br>PNL: 3.2154793284338825\n<br>Close types: {'STOP_LOSS': 10, 'TIME_LIMIT': 1, 'TRAILING_STOP': 49}\n\nConfig:\n<br>Id: 2844\n<br>BB Length: 50\n<br>BB Std: 2.2\n<br>Take profit: None\n<br>Stop loss: 0.008307372793354124\n<br>Time limit: 86400\n<br>DCA Spreads: [Decimal('-0.00001'), Decimal('0.0207156308851223')]\n<br>DCA Amounts: [Decimal('1'), Decimal('6.5256093211966535')]\n"
          ]
         ],
         "hovertemplate": "trading_pair=MEW-USDT<br>total_volume=%{x}<br>net_pnl_quote=%{y}<br>sharpe_ratio=%{marker.size}<br>custom_hover_text=%{customdata[0]}<extra></extra>",
         "legendgroup": "MEW-USDT",
         "marker": {
          "color": "#FFA15A",
          "size": [
           0.20712394236353693,
           1.3321986247141306,
           0.5189451949412885
          ],
          "sizemode": "area",
          "sizeref": 0.009168875998020496,
          "symbol": "circle"
         },
         "mode": "markers",
         "name": "MEW-USDT",
         "orientation": "v",
         "showlegend": true,
         "type": "scatter",
         "x": [
          31171.575922695196,
          12053.223252773623,
          12067.477120060134
         ],
         "xaxis": "x",
         "y": [
          3.543679119822978,
          3.483417521412479,
          3.2154793284338825
         ],
         "yaxis": "y"
        },
        {
         "customdata": [
          [
           "\nPair: AAVE-USDT\n<br>Volume: 10671.039363189893\n<br>PNL: 0.8549709201270802\n<br>Close types: {'STOP_LOSS': 10, 'TIME_LIMIT': 1, 'TRAILING_STOP': 26}\n\nConfig:\n<br>Id: 1685\n<br>BB Length: 100\n<br>BB Std: 1.8\n<br>Take profit: None\n<br>Stop loss: 0.007504407861623438\n<br>Time limit: 86400\n<br>DCA Spreads: [Decimal('-0.00001'), Decimal('0.018178698688867602')]\n<br>DCA Amounts: [Decimal('1'), Decimal('5.076512905798592')]\n"
          ],
          [
           "\nPair: AAVE-USDT\n<br>Volume: 20250.488092174066\n<br>PNL: 2.160078000015375\n<br>Close types: {'STOP_LOSS': 15, 'TIME_LIMIT': 1, 'TRAILING_STOP': 58}\n\nConfig:\n<br>Id: 2695\n<br>BB Length: 100\n<br>BB Std: 1.4\n<br>Take profit: None\n<br>Stop loss: 0.005704481715340373\n<br>Time limit: 86400\n<br>DCA Spreads: [Decimal('-0.00001'), Decimal('0.014198686918483448')]\n<br>DCA Amounts: [Decimal('1'), Decimal('2.146530151400679')]\n"
          ]
         ],
         "hovertemplate": "trading_pair=AAVE-USDT<br>total_volume=%{x}<br>net_pnl_quote=%{y}<br>sharpe_ratio=%{marker.size}<br>custom_hover_text=%{customdata[0]}<extra></extra>",
         "legendgroup": "AAVE-USDT",
         "marker": {
          "color": "#19D3F3",
          "size": [
           0.3042250466730878,
           0.8645493584492168
          ],
          "sizemode": "area",
          "sizeref": 0.009168875998020496,
          "symbol": "circle"
         },
         "mode": "markers",
         "name": "AAVE-USDT",
         "orientation": "v",
         "showlegend": true,
         "type": "scatter",
         "x": [
          10671.039363189893,
          20250.488092174066
         ],
         "xaxis": "x",
         "y": [
          0.8549709201270802,
          2.160078000015375
         ],
         "yaxis": "y"
        },
        {
         "customdata": [
          [
           "\nPair: ROSE-USDT\n<br>Volume: 20042.439772740076\n<br>PNL: 3.536961360883402\n<br>Close types: {'STOP_LOSS': 16, 'TIME_LIMIT': 1, 'TRAILING_STOP': 55}\n\nConfig:\n<br>Id: 1729\n<br>BB Length: 100\n<br>BB Std: 1.4\n<br>Take profit: None\n<br>Stop loss: 0.0059269258469376185\n<br>Time limit: 86400\n<br>DCA Spreads: [Decimal('-0.00001'), Decimal('0.014567450028573944')]\n<br>DCA Amounts: [Decimal('1'), Decimal('2.505567879983542')]\n"
          ],
          [
           "\nPair: ROSE-USDT\n<br>Volume: 17586.96537067705\n<br>PNL: 4.027280298132248\n<br>Close types: {'STOP_LOSS': 12, 'TIME_LIMIT': 1, 'TRAILING_STOP': 41}\n\nConfig:\n<br>Id: 2759\n<br>BB Length: 100\n<br>BB Std: 1.8\n<br>Take profit: None\n<br>Stop loss: 0.006955931672776453\n<br>Time limit: 86400\n<br>DCA Spreads: [Decimal('-0.00001'), Decimal('0.016522881150332482')]\n<br>DCA Amounts: [Decimal('1'), Decimal('1.4261176484847948')]\n"
          ]
         ],
         "hovertemplate": "trading_pair=ROSE-USDT<br>total_volume=%{x}<br>net_pnl_quote=%{y}<br>sharpe_ratio=%{marker.size}<br>custom_hover_text=%{customdata[0]}<extra></extra>",
         "legendgroup": "ROSE-USDT",
         "marker": {
          "color": "#FF6692",
          "size": [
           0.2796327738488105,
           0.18755309532744066
          ],
          "sizemode": "area",
          "sizeref": 0.009168875998020496,
          "symbol": "circle"
         },
         "mode": "markers",
         "name": "ROSE-USDT",
         "orientation": "v",
         "showlegend": true,
         "type": "scatter",
         "x": [
          20042.439772740076,
          17586.96537067705
         ],
         "xaxis": "x",
         "y": [
          3.536961360883402,
          4.027280298132248
         ],
         "yaxis": "y"
        },
        {
         "customdata": [
          [
           "\nPair: PHB-USDT\n<br>Volume: 32255.967344544213\n<br>PNL: 5.45114832125406\n<br>Close types: {'STOP_LOSS': 24, 'TIME_LIMIT': 1, 'TRAILING_STOP': 95}\n\nConfig:\n<br>Id: 1777\n<br>BB Length: 50\n<br>BB Std: 1.4\n<br>Take profit: None\n<br>Stop loss: 0.007222222222222308\n<br>Time limit: 86400\n<br>DCA Spreads: [Decimal('-0.00001'), Decimal('0.015936254980079664')]\n<br>DCA Amounts: [Decimal('1'), Decimal('2.303205138367487')]\n"
          ],
          [
           "\nPair: PHB-USDT\n<br>Volume: 22771.83071128297\n<br>PNL: 7.012416675712796\n<br>Close types: {'STOP_LOSS': 20, 'TIME_LIMIT': 2, 'TRAILING_STOP': 69}\n\nConfig:\n<br>Id: 2325\n<br>BB Length: 50\n<br>BB Std: 1.4\n<br>Take profit: None\n<br>Stop loss: 0.007222222222222308\n<br>Time limit: 86400\n<br>DCA Spreads: [Decimal('-0.00001'), Decimal('0.015936254980079664')]\n<br>DCA Amounts: [Decimal('1'), Decimal('4.437942077835699')]\n"
          ]
         ],
         "hovertemplate": "trading_pair=PHB-USDT<br>total_volume=%{x}<br>net_pnl_quote=%{y}<br>sharpe_ratio=%{marker.size}<br>custom_hover_text=%{customdata[0]}<extra></extra>",
         "legendgroup": "PHB-USDT",
         "marker": {
          "color": "#B6E880",
          "size": [
           0.6994196026224992,
           0.22255552857770408
          ],
          "sizemode": "area",
          "sizeref": 0.009168875998020496,
          "symbol": "circle"
         },
         "mode": "markers",
         "name": "PHB-USDT",
         "orientation": "v",
         "showlegend": true,
         "type": "scatter",
         "x": [
          32255.967344544213,
          22771.83071128297
         ],
         "xaxis": "x",
         "y": [
          5.45114832125406,
          7.012416675712796
         ],
         "yaxis": "y"
        },
        {
         "customdata": [
          [
           "\nPair: 1000SATS-USDT\n<br>Volume: 14378.088877164395\n<br>PNL: 1.7424631909622212\n<br>Close types: {'STOP_LOSS': 13, 'TIME_LIMIT': 2, 'TRAILING_STOP': 44}\n\nConfig:\n<br>Id: 1900\n<br>BB Length: 50\n<br>BB Std: 1.8\n<br>Take profit: None\n<br>Stop loss: 0.0119289340101523\n<br>Time limit: 86400\n<br>DCA Spreads: [Decimal('-0.00001'), Decimal('0.02649456521739121')]\n<br>DCA Amounts: [Decimal('1'), Decimal('5.031465758838251')]\n"
          ]
         ],
         "hovertemplate": "trading_pair=1000SATS-USDT<br>total_volume=%{x}<br>net_pnl_quote=%{y}<br>sharpe_ratio=%{marker.size}<br>custom_hover_text=%{customdata[0]}<extra></extra>",
         "legendgroup": "1000SATS-USDT",
         "marker": {
          "color": "#FF97FF",
          "size": [
           0.569378229677214
          ],
          "sizemode": "area",
          "sizeref": 0.009168875998020496,
          "symbol": "circle"
         },
         "mode": "markers",
         "name": "1000SATS-USDT",
         "orientation": "v",
         "showlegend": true,
         "type": "scatter",
         "x": [
          14378.088877164395
         ],
         "xaxis": "x",
         "y": [
          1.7424631909622212
         ],
         "yaxis": "y"
        },
        {
         "customdata": [
          [
           "\nPair: RDNT-USDT\n<br>Volume: 28548.160383844835\n<br>PNL: 10.498623582400487\n<br>Close types: {'STOP_LOSS': 26, 'TRAILING_STOP': 72}\n\nConfig:\n<br>Id: 1978\n<br>BB Length: 50\n<br>BB Std: 1.4\n<br>Take profit: None\n<br>Stop loss: 0.005446466962878104\n<br>Time limit: 86400\n<br>DCA Spreads: [Decimal('-0.00001'), Decimal('0.01211801896733409')]\n<br>DCA Amounts: [Decimal('1'), Decimal('3.236127577403928')]\n"
          ],
          [
           "\nPair: RDNT-USDT\n<br>Volume: 41264.36497213511\n<br>PNL: 15.13745755485768\n<br>Close types: {'STOP_LOSS': 28, 'TRAILING_STOP': 106}\n\nConfig:\n<br>Id: 3128\n<br>BB Length: 50\n<br>BB Std: 1.4\n<br>Take profit: None\n<br>Stop loss: 0.005446466962878104\n<br>Time limit: 86400\n<br>DCA Spreads: [Decimal('-0.00001'), Decimal('0.01211801896733409')]\n<br>DCA Amounts: [Decimal('1'), Decimal('1.6399193975436206')]\n"
          ]
         ],
         "hovertemplate": "trading_pair=RDNT-USDT<br>total_volume=%{x}<br>net_pnl_quote=%{y}<br>sharpe_ratio=%{marker.size}<br>custom_hover_text=%{customdata[0]}<extra></extra>",
         "legendgroup": "RDNT-USDT",
         "marker": {
          "color": "#FECB52",
          "size": [
           0.4190738598951103,
           1.1648074820261456
          ],
          "sizemode": "area",
          "sizeref": 0.009168875998020496,
          "symbol": "circle"
         },
         "mode": "markers",
         "name": "RDNT-USDT",
         "orientation": "v",
         "showlegend": true,
         "type": "scatter",
         "x": [
          28548.160383844835,
          41264.36497213511
         ],
         "xaxis": "x",
         "y": [
          10.498623582400487,
          15.13745755485768
         ],
         "yaxis": "y"
        },
        {
         "customdata": [
          [
           "\nPair: 1000PEPE-USDT\n<br>Volume: 15435.274089229604\n<br>PNL: 2.188959275668689\n<br>Close types: {'STOP_LOSS': 13, 'TIME_LIMIT': 1, 'TRAILING_STOP': 42}\n\nConfig:\n<br>Id: 2017\n<br>BB Length: 100\n<br>BB Std: 1.4\n<br>Take profit: None\n<br>Stop loss: 0.008211098188440884\n<br>Time limit: 86400\n<br>DCA Spreads: [Decimal('-0.00001'), Decimal('0.01735366548191869')]\n<br>DCA Amounts: [Decimal('1'), Decimal('4.501485031525659')]\n"
          ],
          [
           "\nPair: 1000PEPE-USDT\n<br>Volume: 15421.859830095289\n<br>PNL: 9.194228871326803\n<br>Close types: {'STOP_LOSS': 14, 'TIME_LIMIT': 1, 'TRAILING_STOP': 41}\n\nConfig:\n<br>Id: 2237\n<br>BB Length: 50\n<br>BB Std: 2.2\n<br>Take profit: None\n<br>Stop loss: 0.008113533167300815\n<br>Time limit: 86400\n<br>DCA Spreads: [Decimal('-0.00001'), Decimal('0.01677864311662652')]\n<br>DCA Amounts: [Decimal('1'), Decimal('3.12239399443033')]\n"
          ],
          [
           "\nPair: 1000PEPE-USDT\n<br>Volume: 13719.047291923376\n<br>PNL: 3.098210246815298\n<br>Close types: {'STOP_LOSS': 11, 'TIME_LIMIT': 1, 'TRAILING_STOP': 22}\n\nConfig:\n<br>Id: 2830\n<br>BB Length: 200\n<br>BB Std: 1.4\n<br>Take profit: None\n<br>Stop loss: 0.012354591925849112\n<br>Time limit: 86400\n<br>DCA Spreads: [Decimal('-0.00001'), Decimal('0.012354591925849112')]\n<br>DCA Amounts: [Decimal('1'), Decimal('1.256043110994936')]\n"
          ]
         ],
         "hovertemplate": "trading_pair=1000PEPE-USDT<br>total_volume=%{x}<br>net_pnl_quote=%{y}<br>sharpe_ratio=%{marker.size}<br>custom_hover_text=%{customdata[0]}<extra></extra>",
         "legendgroup": "1000PEPE-USDT",
         "marker": {
          "color": "#636EFA",
          "size": [
           0.49385105499001786,
           0.5852896243710588,
           0.5129175119810784
          ],
          "sizemode": "area",
          "sizeref": 0.009168875998020496,
          "symbol": "circle"
         },
         "mode": "markers",
         "name": "1000PEPE-USDT",
         "orientation": "v",
         "showlegend": true,
         "type": "scatter",
         "x": [
          15435.274089229604,
          15421.859830095289,
          13719.047291923376
         ],
         "xaxis": "x",
         "y": [
          2.188959275668689,
          9.194228871326803,
          3.098210246815298
         ],
         "yaxis": "y"
        },
        {
         "customdata": [
          [
           "\nPair: 1000LUNC-USDT\n<br>Volume: 23934.854137665403\n<br>PNL: 2.504413245475832\n<br>Close types: {'STOP_LOSS': 18, 'TIME_LIMIT': 2, 'TRAILING_STOP': 59}\n\nConfig:\n<br>Id: 2064\n<br>BB Length: 50\n<br>BB Std: 1.8\n<br>Take profit: None\n<br>Stop loss: 0.004504783177149724\n<br>Time limit: 86400\n<br>DCA Spreads: [Decimal('-0.00001'), Decimal('0.011259479478471833')]\n<br>DCA Amounts: [Decimal('1'), Decimal('1.7864793637141454')]\n"
          ]
         ],
         "hovertemplate": "trading_pair=1000LUNC-USDT<br>total_volume=%{x}<br>net_pnl_quote=%{y}<br>sharpe_ratio=%{marker.size}<br>custom_hover_text=%{customdata[0]}<extra></extra>",
         "legendgroup": "1000LUNC-USDT",
         "marker": {
          "color": "#EF553B",
          "size": [
           0.721959436374897
          ],
          "sizemode": "area",
          "sizeref": 0.009168875998020496,
          "symbol": "circle"
         },
         "mode": "markers",
         "name": "1000LUNC-USDT",
         "orientation": "v",
         "showlegend": true,
         "type": "scatter",
         "x": [
          23934.854137665403
         ],
         "xaxis": "x",
         "y": [
          2.504413245475832
         ],
         "yaxis": "y"
        },
        {
         "customdata": [
          [
           "\nPair: NOT-USDT\n<br>Volume: 16394.02546709351\n<br>PNL: 12.908506772056548\n<br>Close types: {'STOP_LOSS': 14, 'TRAILING_STOP': 30}\n\nConfig:\n<br>Id: 2096\n<br>BB Length: 200\n<br>BB Std: 1.4\n<br>Take profit: None\n<br>Stop loss: 0.012854066723995534\n<br>Time limit: 86400\n<br>DCA Spreads: [Decimal('-0.00001'), Decimal('0.012854066723995534')]\n<br>DCA Amounts: [Decimal('1'), Decimal('2.003589008273501')]\n"
          ]
         ],
         "hovertemplate": "trading_pair=NOT-USDT<br>total_volume=%{x}<br>net_pnl_quote=%{y}<br>sharpe_ratio=%{marker.size}<br>custom_hover_text=%{customdata[0]}<extra></extra>",
         "legendgroup": "NOT-USDT",
         "marker": {
          "color": "#00CC96",
          "size": [
           0.19308304156193967
          ],
          "sizemode": "area",
          "sizeref": 0.009168875998020496,
          "symbol": "circle"
         },
         "mode": "markers",
         "name": "NOT-USDT",
         "orientation": "v",
         "showlegend": true,
         "type": "scatter",
         "x": [
          16394.02546709351
         ],
         "xaxis": "x",
         "y": [
          12.908506772056548
         ],
         "yaxis": "y"
        },
        {
         "customdata": [
          [
           "\nPair: TNSR-USDT\n<br>Volume: 34815.044263933356\n<br>PNL: 3.8889944361914677\n<br>Close types: {'STOP_LOSS': 27, 'TIME_LIMIT': 2, 'TRAILING_STOP': 86}\n\nConfig:\n<br>Id: 2200\n<br>BB Length: 50\n<br>BB Std: 1.4\n<br>Take profit: None\n<br>Stop loss: 0.005019489204981269\n<br>Time limit: 86400\n<br>DCA Spreads: [Decimal('-0.00001'), Decimal('0.012083670247583781')]\n<br>DCA Amounts: [Decimal('1'), Decimal('1.8364154955193945')]\n"
          ]
         ],
         "hovertemplate": "trading_pair=TNSR-USDT<br>total_volume=%{x}<br>net_pnl_quote=%{y}<br>sharpe_ratio=%{marker.size}<br>custom_hover_text=%{customdata[0]}<extra></extra>",
         "legendgroup": "TNSR-USDT",
         "marker": {
          "color": "#AB63FA",
          "size": [
           0.5952353910356988
          ],
          "sizemode": "area",
          "sizeref": 0.009168875998020496,
          "symbol": "circle"
         },
         "mode": "markers",
         "name": "TNSR-USDT",
         "orientation": "v",
         "showlegend": true,
         "type": "scatter",
         "x": [
          34815.044263933356
         ],
         "xaxis": "x",
         "y": [
          3.8889944361914677
         ],
         "yaxis": "y"
        },
        {
         "customdata": [
          [
           "\nPair: LPT-USDT\n<br>Volume: 24754.00176765847\n<br>PNL: 7.693274245848636\n<br>Close types: {'STOP_LOSS': 24, 'TIME_LIMIT': 1, 'TRAILING_STOP': 65}\n\nConfig:\n<br>Id: 2232\n<br>BB Length: 50\n<br>BB Std: 1.4\n<br>Take profit: None\n<br>Stop loss: 0.00484332990509952\n<br>Time limit: 86400\n<br>DCA Spreads: [Decimal('-0.00001'), Decimal('0.010385569031900101')]\n<br>DCA Amounts: [Decimal('1'), Decimal('3.418984356879224')]\n"
          ]
         ],
         "hovertemplate": "trading_pair=LPT-USDT<br>total_volume=%{x}<br>net_pnl_quote=%{y}<br>sharpe_ratio=%{marker.size}<br>custom_hover_text=%{customdata[0]}<extra></extra>",
         "legendgroup": "LPT-USDT",
         "marker": {
          "color": "#FFA15A",
          "size": [
           0.5309623977043922
          ],
          "sizemode": "area",
          "sizeref": 0.009168875998020496,
          "symbol": "circle"
         },
         "mode": "markers",
         "name": "LPT-USDT",
         "orientation": "v",
         "showlegend": true,
         "type": "scatter",
         "x": [
          24754.00176765847
         ],
         "xaxis": "x",
         "y": [
          7.693274245848636
         ],
         "yaxis": "y"
        },
        {
         "customdata": [
          [
           "\nPair: BOME-USDT\n<br>Volume: 31305.670367742674\n<br>PNL: 0.17530447495591883\n<br>Close types: {'STOP_LOSS': 24, 'TIME_LIMIT': 1, 'TRAILING_STOP': 96}\n\nConfig:\n<br>Id: 2299\n<br>BB Length: 50\n<br>BB Std: 1.4\n<br>Take profit: None\n<br>Stop loss: 0.0056074453454100694\n<br>Time limit: 86400\n<br>DCA Spreads: [Decimal('-0.00001'), Decimal('0.013376295780786354')]\n<br>DCA Amounts: [Decimal('1'), Decimal('2.442631894151332')]\n"
          ]
         ],
         "hovertemplate": "trading_pair=BOME-USDT<br>total_volume=%{x}<br>net_pnl_quote=%{y}<br>sharpe_ratio=%{marker.size}<br>custom_hover_text=%{customdata[0]}<extra></extra>",
         "legendgroup": "BOME-USDT",
         "marker": {
          "color": "#19D3F3",
          "size": [
           0.5372983524611802
          ],
          "sizemode": "area",
          "sizeref": 0.009168875998020496,
          "symbol": "circle"
         },
         "mode": "markers",
         "name": "BOME-USDT",
         "orientation": "v",
         "showlegend": true,
         "type": "scatter",
         "x": [
          31305.670367742674
         ],
         "xaxis": "x",
         "y": [
          0.17530447495591883
         ],
         "yaxis": "y"
        },
        {
         "customdata": [
          [
           "\nPair: TON-USDT\n<br>Volume: 13919.38558300242\n<br>PNL: 11.229454122836835\n<br>Close types: {'STOP_LOSS': 12, 'TIME_LIMIT': 1, 'TRAILING_STOP': 24}\n\nConfig:\n<br>Id: 2305\n<br>BB Length: 200\n<br>BB Std: 1.4\n<br>Take profit: None\n<br>Stop loss: 0.01201927515093316\n<br>Time limit: 86400\n<br>DCA Spreads: [Decimal('-0.00001'), Decimal('0.01201927515093316')]\n<br>DCA Amounts: [Decimal('1'), Decimal('1.6832619190512244')]\n"
          ],
          [
           "\nPair: TON-USDT\n<br>Volume: 12592.647426284564\n<br>PNL: 0.25453202143322645\n<br>Close types: {'STOP_LOSS': 11, 'TIME_LIMIT': 2, 'TRAILING_STOP': 34}\n\nConfig:\n<br>Id: 2988\n<br>BB Length: 50\n<br>BB Std: 2.2\n<br>Take profit: None\n<br>Stop loss: 0.010356638815059185\n<br>Time limit: 86400\n<br>DCA Spreads: [Decimal('-0.00001'), Decimal('0.021553052979890408')]\n<br>DCA Amounts: [Decimal('1'), Decimal('2.6044169568961237')]\n"
          ],
          [
           "\nPair: TON-USDT\n<br>Volume: 12720.458111551747\n<br>PNL: 21.8855291474046\n<br>Close types: {'STOP_LOSS': 11, 'TIME_LIMIT': 2, 'TRAILING_STOP': 37}\n\nConfig:\n<br>Id: 3016\n<br>BB Length: 100\n<br>BB Std: 1.4\n<br>Take profit: None\n<br>Stop loss: 0.009285182691285475\n<br>Time limit: 86400\n<br>DCA Spreads: [Decimal('-0.00001'), Decimal('0.022309238489278023')]\n<br>DCA Amounts: [Decimal('1'), Decimal('3.511775021086171')]\n"
          ]
         ],
         "hovertemplate": "trading_pair=TON-USDT<br>total_volume=%{x}<br>net_pnl_quote=%{y}<br>sharpe_ratio=%{marker.size}<br>custom_hover_text=%{customdata[0]}<extra></extra>",
         "legendgroup": "TON-USDT",
         "marker": {
          "color": "#FF6692",
          "size": [
           0.719372157416003,
           0.01925318904786978,
           0.20069270141516984
          ],
          "sizemode": "area",
          "sizeref": 0.009168875998020496,
          "symbol": "circle"
         },
         "mode": "markers",
         "name": "TON-USDT",
         "orientation": "v",
         "showlegend": true,
         "type": "scatter",
         "x": [
          13919.38558300242,
          12592.647426284564,
          12720.458111551747
         ],
         "xaxis": "x",
         "y": [
          11.229454122836835,
          0.25453202143322645,
          21.8855291474046
         ],
         "yaxis": "y"
        },
        {
         "customdata": [
          [
           "\nPair: MAV-USDT\n<br>Volume: 16910.594536053766\n<br>PNL: 8.774119305218834\n<br>Close types: {'STOP_LOSS': 13, 'TIME_LIMIT': 2, 'TRAILING_STOP': 48}\n\nConfig:\n<br>Id: 2467\n<br>BB Length: 50\n<br>BB Std: 1.8\n<br>Take profit: None\n<br>Stop loss: 0.007790077900779085\n<br>Time limit: 86400\n<br>DCA Spreads: [Decimal('-0.00001'), Decimal('0.01716603070918099')]\n<br>DCA Amounts: [Decimal('1'), Decimal('3.7907716358506587')]\n"
          ],
          [
           "\nPair: MAV-USDT\n<br>Volume: 23962.47970148975\n<br>PNL: 1.8450211281037185\n<br>Close types: {'STOP_LOSS': 20, 'TIME_LIMIT': 2, 'TRAILING_STOP': 69}\n\nConfig:\n<br>Id: 2792\n<br>BB Length: 50\n<br>BB Std: 1.4\n<br>Take profit: None\n<br>Stop loss: 0.006437898637946363\n<br>Time limit: 86400\n<br>DCA Spreads: [Decimal('-0.00001'), Decimal('0.013635755422549974')]\n<br>DCA Amounts: [Decimal('1'), Decimal('3.418420048797172')]\n"
          ]
         ],
         "hovertemplate": "trading_pair=MAV-USDT<br>total_volume=%{x}<br>net_pnl_quote=%{y}<br>sharpe_ratio=%{marker.size}<br>custom_hover_text=%{customdata[0]}<extra></extra>",
         "legendgroup": "MAV-USDT",
         "marker": {
          "color": "#B6E880",
          "size": [
           0.23471933668307388,
           0.2745164623155954
          ],
          "sizemode": "area",
          "sizeref": 0.009168875998020496,
          "symbol": "circle"
         },
         "mode": "markers",
         "name": "MAV-USDT",
         "orientation": "v",
         "showlegend": true,
         "type": "scatter",
         "x": [
          16910.594536053766,
          23962.47970148975
         ],
         "xaxis": "x",
         "y": [
          8.774119305218834,
          1.8450211281037185
         ],
         "yaxis": "y"
        },
        {
         "customdata": [
          [
           "\nPair: ORDI-USDT\n<br>Volume: 12063.7189005157\n<br>PNL: 3.234524751253093\n<br>Close types: {'STOP_LOSS': 12, 'TIME_LIMIT': 2, 'TRAILING_STOP': 34}\n\nConfig:\n<br>Id: 2486\n<br>BB Length: 100\n<br>BB Std: 1.8\n<br>Take profit: None\n<br>Stop loss: 0.0061480054397098464\n<br>Time limit: 86400\n<br>DCA Spreads: [Decimal('-0.00001'), Decimal('0.020102785428319895')]\n<br>DCA Amounts: [Decimal('1'), Decimal('6.793096848825204')]\n"
          ]
         ],
         "hovertemplate": "trading_pair=ORDI-USDT<br>total_volume=%{x}<br>net_pnl_quote=%{y}<br>sharpe_ratio=%{marker.size}<br>custom_hover_text=%{customdata[0]}<extra></extra>",
         "legendgroup": "ORDI-USDT",
         "marker": {
          "color": "#FF97FF",
          "size": [
           0.7050706258103985
          ],
          "sizemode": "area",
          "sizeref": 0.009168875998020496,
          "symbol": "circle"
         },
         "mode": "markers",
         "name": "ORDI-USDT",
         "orientation": "v",
         "showlegend": true,
         "type": "scatter",
         "x": [
          12063.7189005157
         ],
         "xaxis": "x",
         "y": [
          3.234524751253093
         ],
         "yaxis": "y"
        },
        {
         "customdata": [
          [
           "\nPair: KEY-USDT\n<br>Volume: 13016.1983105966\n<br>PNL: 3.5087997784212557\n<br>Close types: {'STOP_LOSS': 8, 'TIME_LIMIT': 1, 'TRAILING_STOP': 37}\n\nConfig:\n<br>Id: 2576\n<br>BB Length: 200\n<br>BB Std: 1.4\n<br>Take profit: None\n<br>Stop loss: 0.009312048650703236\n<br>Time limit: 86400\n<br>DCA Spreads: [Decimal('-0.00001'), Decimal('0.02308896706579701')]\n<br>DCA Amounts: [Decimal('1'), Decimal('1.775006047577305')]\n"
          ],
          [
           "\nPair: KEY-USDT\n<br>Volume: 11749.2053152368\n<br>PNL: 1.3400840073888054\n<br>Close types: {'STOP_LOSS': 9, 'TRAILING_STOP': 54}\n\nConfig:\n<br>Id: 2690\n<br>BB Length: 100\n<br>BB Std: 1.4\n<br>Take profit: None\n<br>Stop loss: 0.007981755986316895\n<br>Time limit: 86400\n<br>DCA Spreads: [Decimal('-0.00001'), Decimal('0.01751417990240193')]\n<br>DCA Amounts: [Decimal('1'), Decimal('9.475754517271957')]\n"
          ],
          [
           "\nPair: KEY-USDT\n<br>Volume: 20765.42164624666\n<br>PNL: 4.113072802174096\n<br>Close types: {'STOP_LOSS': 14, 'TIME_LIMIT': 1, 'TRAILING_STOP': 52}\n\nConfig:\n<br>Id: 2793\n<br>BB Length: 50\n<br>BB Std: 2.2\n<br>Take profit: None\n<br>Stop loss: 0.0066577896138480955\n<br>Time limit: 86400\n<br>DCA Spreads: [Decimal('-0.00001'), Decimal('0.01264044943820236')]\n<br>DCA Amounts: [Decimal('1'), Decimal('1.5716874773657565')]\n"
          ]
         ],
         "hovertemplate": "trading_pair=KEY-USDT<br>total_volume=%{x}<br>net_pnl_quote=%{y}<br>sharpe_ratio=%{marker.size}<br>custom_hover_text=%{customdata[0]}<extra></extra>",
         "legendgroup": "KEY-USDT",
         "marker": {
          "color": "#FECB52",
          "size": [
           0.18309145901724658,
           0.1829653777108371,
           0.1616947461402747
          ],
          "sizemode": "area",
          "sizeref": 0.009168875998020496,
          "symbol": "circle"
         },
         "mode": "markers",
         "name": "KEY-USDT",
         "orientation": "v",
         "showlegend": true,
         "type": "scatter",
         "x": [
          13016.1983105966,
          11749.2053152368,
          20765.42164624666
         ],
         "xaxis": "x",
         "y": [
          3.5087997784212557,
          1.3400840073888054,
          4.113072802174096
         ],
         "yaxis": "y"
        },
        {
         "customdata": [
          [
           "\nPair: TIA-USDT\n<br>Volume: 10328.948051101135\n<br>PNL: 3.688952346710496\n<br>Close types: {'STOP_LOSS': 10, 'TRAILING_STOP': 14}\n\nConfig:\n<br>Id: 2618\n<br>BB Length: 200\n<br>BB Std: 2.2\n<br>Take profit: None\n<br>Stop loss: 0.012666491181829002\n<br>Time limit: 86400\n<br>DCA Spreads: [Decimal('-0.00001'), Decimal('0.012666491181829002')]\n<br>DCA Amounts: [Decimal('1'), Decimal('1.0917427363185461')]\n"
          ]
         ],
         "hovertemplate": "trading_pair=TIA-USDT<br>total_volume=%{x}<br>net_pnl_quote=%{y}<br>sharpe_ratio=%{marker.size}<br>custom_hover_text=%{customdata[0]}<extra></extra>",
         "legendgroup": "TIA-USDT",
         "marker": {
          "color": "#636EFA",
          "size": [
           0.8705017877194443
          ],
          "sizemode": "area",
          "sizeref": 0.009168875998020496,
          "symbol": "circle"
         },
         "mode": "markers",
         "name": "TIA-USDT",
         "orientation": "v",
         "showlegend": true,
         "type": "scatter",
         "x": [
          10328.948051101135
         ],
         "xaxis": "x",
         "y": [
          3.688952346710496
         ],
         "yaxis": "y"
        },
        {
         "customdata": [
          [
           "\nPair: REZ-USDT\n<br>Volume: 21891.664046228278\n<br>PNL: 0.6232047759038407\n<br>Close types: {'STOP_LOSS': 19, 'TIME_LIMIT': 2, 'TRAILING_STOP': 69}\n\nConfig:\n<br>Id: 2764\n<br>BB Length: 50\n<br>BB Std: 1.4\n<br>Take profit: None\n<br>Stop loss: 0.007295711607088905\n<br>Time limit: 86400\n<br>DCA Spreads: [Decimal('-0.00001'), Decimal('0.014161512764320254')]\n<br>DCA Amounts: [Decimal('1'), Decimal('4.285875041331686')]\n"
          ]
         ],
         "hovertemplate": "trading_pair=REZ-USDT<br>total_volume=%{x}<br>net_pnl_quote=%{y}<br>sharpe_ratio=%{marker.size}<br>custom_hover_text=%{customdata[0]}<extra></extra>",
         "legendgroup": "REZ-USDT",
         "marker": {
          "color": "#EF553B",
          "size": [
           0.0321246520773661
          ],
          "sizemode": "area",
          "sizeref": 0.009168875998020496,
          "symbol": "circle"
         },
         "mode": "markers",
         "name": "REZ-USDT",
         "orientation": "v",
         "showlegend": true,
         "type": "scatter",
         "x": [
          21891.664046228278
         ],
         "xaxis": "x",
         "y": [
          0.6232047759038407
         ],
         "yaxis": "y"
        },
        {
         "customdata": [
          [
           "\nPair: PENDLE-USDT\n<br>Volume: 22818.72774529219\n<br>PNL: 6.756836790301608\n<br>Close types: {'STOP_LOSS': 19, 'TRAILING_STOP': 39}\n\nConfig:\n<br>Id: 2845\n<br>BB Length: 100\n<br>BB Std: 1.4\n<br>Take profit: None\n<br>Stop loss: 0.011196746231644888\n<br>Time limit: 86400\n<br>DCA Spreads: [Decimal('-0.00001'), Decimal('0.011196746231644888')]\n<br>DCA Amounts: [Decimal('1'), Decimal('1.8102077492505901')]\n"
          ]
         ],
         "hovertemplate": "trading_pair=PENDLE-USDT<br>total_volume=%{x}<br>net_pnl_quote=%{y}<br>sharpe_ratio=%{marker.size}<br>custom_hover_text=%{customdata[0]}<extra></extra>",
         "legendgroup": "PENDLE-USDT",
         "marker": {
          "color": "#00CC96",
          "size": [
           0.640628914455314
          ],
          "sizemode": "area",
          "sizeref": 0.009168875998020496,
          "symbol": "circle"
         },
         "mode": "markers",
         "name": "PENDLE-USDT",
         "orientation": "v",
         "showlegend": true,
         "type": "scatter",
         "x": [
          22818.72774529219
         ],
         "xaxis": "x",
         "y": [
          6.756836790301608
         ],
         "yaxis": "y"
        },
        {
         "customdata": [
          [
           "\nPair: WLD-USDT\n<br>Volume: 17982.494866815498\n<br>PNL: 2.4692269280107344\n<br>Close types: {'STOP_LOSS': 16, 'TIME_LIMIT': 2, 'TRAILING_STOP': 64}\n\nConfig:\n<br>Id: 2852\n<br>BB Length: 50\n<br>BB Std: 1.8\n<br>Take profit: None\n<br>Stop loss: 0.007092571188399741\n<br>Time limit: 86400\n<br>DCA Spreads: [Decimal('-0.00001'), Decimal('0.01774219260729893')]\n<br>DCA Amounts: [Decimal('1'), Decimal('6.527451884955432')]\n"
          ]
         ],
         "hovertemplate": "trading_pair=WLD-USDT<br>total_volume=%{x}<br>net_pnl_quote=%{y}<br>sharpe_ratio=%{marker.size}<br>custom_hover_text=%{customdata[0]}<extra></extra>",
         "legendgroup": "WLD-USDT",
         "marker": {
          "color": "#AB63FA",
          "size": [
           0.5779046415198734
          ],
          "sizemode": "area",
          "sizeref": 0.009168875998020496,
          "symbol": "circle"
         },
         "mode": "markers",
         "name": "WLD-USDT",
         "orientation": "v",
         "showlegend": true,
         "type": "scatter",
         "x": [
          17982.494866815498
         ],
         "xaxis": "x",
         "y": [
          2.4692269280107344
         ],
         "yaxis": "y"
        },
        {
         "customdata": [
          [
           "\nPair: COTI-USDT\n<br>Volume: 33594.02089141538\n<br>PNL: 1.8540280088145447\n<br>Close types: {'STOP_LOSS': 24, 'TIME_LIMIT': 2, 'TRAILING_STOP': 104}\n\nConfig:\n<br>Id: 2959\n<br>BB Length: 50\n<br>BB Std: 1.4\n<br>Take profit: None\n<br>Stop loss: 0.005244215938303307\n<br>Time limit: 86400\n<br>DCA Spreads: [Decimal('-0.00001'), Decimal('0.011794900284621775')]\n<br>DCA Amounts: [Decimal('1'), Decimal('2.3135318732744223')]\n"
          ]
         ],
         "hovertemplate": "trading_pair=COTI-USDT<br>total_volume=%{x}<br>net_pnl_quote=%{y}<br>sharpe_ratio=%{marker.size}<br>custom_hover_text=%{customdata[0]}<extra></extra>",
         "legendgroup": "COTI-USDT",
         "marker": {
          "color": "#FFA15A",
          "size": [
           0.3318575810838952
          ],
          "sizemode": "area",
          "sizeref": 0.009168875998020496,
          "symbol": "circle"
         },
         "mode": "markers",
         "name": "COTI-USDT",
         "orientation": "v",
         "showlegend": true,
         "type": "scatter",
         "x": [
          33594.02089141538
         ],
         "xaxis": "x",
         "y": [
          1.8540280088145447
         ],
         "yaxis": "y"
        }
       ],
       "layout": {
        "legend": {
         "itemsizing": "constant",
         "title": {
          "text": "trading_pair"
         },
         "tracegroupgap": 0
        },
        "template": {
         "data": {
          "bar": [
           {
            "error_x": {
             "color": "#2a3f5f"
            },
            "error_y": {
             "color": "#2a3f5f"
            },
            "marker": {
             "line": {
              "color": "#E5ECF6",
              "width": 0.5
             },
             "pattern": {
              "fillmode": "overlay",
              "size": 10,
              "solidity": 0.2
             }
            },
            "type": "bar"
           }
          ],
          "barpolar": [
           {
            "marker": {
             "line": {
              "color": "#E5ECF6",
              "width": 0.5
             },
             "pattern": {
              "fillmode": "overlay",
              "size": 10,
              "solidity": 0.2
             }
            },
            "type": "barpolar"
           }
          ],
          "carpet": [
           {
            "aaxis": {
             "endlinecolor": "#2a3f5f",
             "gridcolor": "white",
             "linecolor": "white",
             "minorgridcolor": "white",
             "startlinecolor": "#2a3f5f"
            },
            "baxis": {
             "endlinecolor": "#2a3f5f",
             "gridcolor": "white",
             "linecolor": "white",
             "minorgridcolor": "white",
             "startlinecolor": "#2a3f5f"
            },
            "type": "carpet"
           }
          ],
          "choropleth": [
           {
            "colorbar": {
             "outlinewidth": 0,
             "ticks": ""
            },
            "type": "choropleth"
           }
          ],
          "contour": [
           {
            "colorbar": {
             "outlinewidth": 0,
             "ticks": ""
            },
            "colorscale": [
             [
              0,
              "#0d0887"
             ],
             [
              0.1111111111111111,
              "#46039f"
             ],
             [
              0.2222222222222222,
              "#7201a8"
             ],
             [
              0.3333333333333333,
              "#9c179e"
             ],
             [
              0.4444444444444444,
              "#bd3786"
             ],
             [
              0.5555555555555556,
              "#d8576b"
             ],
             [
              0.6666666666666666,
              "#ed7953"
             ],
             [
              0.7777777777777778,
              "#fb9f3a"
             ],
             [
              0.8888888888888888,
              "#fdca26"
             ],
             [
              1,
              "#f0f921"
             ]
            ],
            "type": "contour"
           }
          ],
          "contourcarpet": [
           {
            "colorbar": {
             "outlinewidth": 0,
             "ticks": ""
            },
            "type": "contourcarpet"
           }
          ],
          "heatmap": [
           {
            "colorbar": {
             "outlinewidth": 0,
             "ticks": ""
            },
            "colorscale": [
             [
              0,
              "#0d0887"
             ],
             [
              0.1111111111111111,
              "#46039f"
             ],
             [
              0.2222222222222222,
              "#7201a8"
             ],
             [
              0.3333333333333333,
              "#9c179e"
             ],
             [
              0.4444444444444444,
              "#bd3786"
             ],
             [
              0.5555555555555556,
              "#d8576b"
             ],
             [
              0.6666666666666666,
              "#ed7953"
             ],
             [
              0.7777777777777778,
              "#fb9f3a"
             ],
             [
              0.8888888888888888,
              "#fdca26"
             ],
             [
              1,
              "#f0f921"
             ]
            ],
            "type": "heatmap"
           }
          ],
          "heatmapgl": [
           {
            "colorbar": {
             "outlinewidth": 0,
             "ticks": ""
            },
            "colorscale": [
             [
              0,
              "#0d0887"
             ],
             [
              0.1111111111111111,
              "#46039f"
             ],
             [
              0.2222222222222222,
              "#7201a8"
             ],
             [
              0.3333333333333333,
              "#9c179e"
             ],
             [
              0.4444444444444444,
              "#bd3786"
             ],
             [
              0.5555555555555556,
              "#d8576b"
             ],
             [
              0.6666666666666666,
              "#ed7953"
             ],
             [
              0.7777777777777778,
              "#fb9f3a"
             ],
             [
              0.8888888888888888,
              "#fdca26"
             ],
             [
              1,
              "#f0f921"
             ]
            ],
            "type": "heatmapgl"
           }
          ],
          "histogram": [
           {
            "marker": {
             "pattern": {
              "fillmode": "overlay",
              "size": 10,
              "solidity": 0.2
             }
            },
            "type": "histogram"
           }
          ],
          "histogram2d": [
           {
            "colorbar": {
             "outlinewidth": 0,
             "ticks": ""
            },
            "colorscale": [
             [
              0,
              "#0d0887"
             ],
             [
              0.1111111111111111,
              "#46039f"
             ],
             [
              0.2222222222222222,
              "#7201a8"
             ],
             [
              0.3333333333333333,
              "#9c179e"
             ],
             [
              0.4444444444444444,
              "#bd3786"
             ],
             [
              0.5555555555555556,
              "#d8576b"
             ],
             [
              0.6666666666666666,
              "#ed7953"
             ],
             [
              0.7777777777777778,
              "#fb9f3a"
             ],
             [
              0.8888888888888888,
              "#fdca26"
             ],
             [
              1,
              "#f0f921"
             ]
            ],
            "type": "histogram2d"
           }
          ],
          "histogram2dcontour": [
           {
            "colorbar": {
             "outlinewidth": 0,
             "ticks": ""
            },
            "colorscale": [
             [
              0,
              "#0d0887"
             ],
             [
              0.1111111111111111,
              "#46039f"
             ],
             [
              0.2222222222222222,
              "#7201a8"
             ],
             [
              0.3333333333333333,
              "#9c179e"
             ],
             [
              0.4444444444444444,
              "#bd3786"
             ],
             [
              0.5555555555555556,
              "#d8576b"
             ],
             [
              0.6666666666666666,
              "#ed7953"
             ],
             [
              0.7777777777777778,
              "#fb9f3a"
             ],
             [
              0.8888888888888888,
              "#fdca26"
             ],
             [
              1,
              "#f0f921"
             ]
            ],
            "type": "histogram2dcontour"
           }
          ],
          "mesh3d": [
           {
            "colorbar": {
             "outlinewidth": 0,
             "ticks": ""
            },
            "type": "mesh3d"
           }
          ],
          "parcoords": [
           {
            "line": {
             "colorbar": {
              "outlinewidth": 0,
              "ticks": ""
             }
            },
            "type": "parcoords"
           }
          ],
          "pie": [
           {
            "automargin": true,
            "type": "pie"
           }
          ],
          "scatter": [
           {
            "fillpattern": {
             "fillmode": "overlay",
             "size": 10,
             "solidity": 0.2
            },
            "type": "scatter"
           }
          ],
          "scatter3d": [
           {
            "line": {
             "colorbar": {
              "outlinewidth": 0,
              "ticks": ""
             }
            },
            "marker": {
             "colorbar": {
              "outlinewidth": 0,
              "ticks": ""
             }
            },
            "type": "scatter3d"
           }
          ],
          "scattercarpet": [
           {
            "marker": {
             "colorbar": {
              "outlinewidth": 0,
              "ticks": ""
             }
            },
            "type": "scattercarpet"
           }
          ],
          "scattergeo": [
           {
            "marker": {
             "colorbar": {
              "outlinewidth": 0,
              "ticks": ""
             }
            },
            "type": "scattergeo"
           }
          ],
          "scattergl": [
           {
            "marker": {
             "colorbar": {
              "outlinewidth": 0,
              "ticks": ""
             }
            },
            "type": "scattergl"
           }
          ],
          "scattermapbox": [
           {
            "marker": {
             "colorbar": {
              "outlinewidth": 0,
              "ticks": ""
             }
            },
            "type": "scattermapbox"
           }
          ],
          "scatterpolar": [
           {
            "marker": {
             "colorbar": {
              "outlinewidth": 0,
              "ticks": ""
             }
            },
            "type": "scatterpolar"
           }
          ],
          "scatterpolargl": [
           {
            "marker": {
             "colorbar": {
              "outlinewidth": 0,
              "ticks": ""
             }
            },
            "type": "scatterpolargl"
           }
          ],
          "scatterternary": [
           {
            "marker": {
             "colorbar": {
              "outlinewidth": 0,
              "ticks": ""
             }
            },
            "type": "scatterternary"
           }
          ],
          "surface": [
           {
            "colorbar": {
             "outlinewidth": 0,
             "ticks": ""
            },
            "colorscale": [
             [
              0,
              "#0d0887"
             ],
             [
              0.1111111111111111,
              "#46039f"
             ],
             [
              0.2222222222222222,
              "#7201a8"
             ],
             [
              0.3333333333333333,
              "#9c179e"
             ],
             [
              0.4444444444444444,
              "#bd3786"
             ],
             [
              0.5555555555555556,
              "#d8576b"
             ],
             [
              0.6666666666666666,
              "#ed7953"
             ],
             [
              0.7777777777777778,
              "#fb9f3a"
             ],
             [
              0.8888888888888888,
              "#fdca26"
             ],
             [
              1,
              "#f0f921"
             ]
            ],
            "type": "surface"
           }
          ],
          "table": [
           {
            "cells": {
             "fill": {
              "color": "#EBF0F8"
             },
             "line": {
              "color": "white"
             }
            },
            "header": {
             "fill": {
              "color": "#C8D4E3"
             },
             "line": {
              "color": "white"
             }
            },
            "type": "table"
           }
          ]
         },
         "layout": {
          "annotationdefaults": {
           "arrowcolor": "#2a3f5f",
           "arrowhead": 0,
           "arrowwidth": 1
          },
          "autotypenumbers": "strict",
          "coloraxis": {
           "colorbar": {
            "outlinewidth": 0,
            "ticks": ""
           }
          },
          "colorscale": {
           "diverging": [
            [
             0,
             "#8e0152"
            ],
            [
             0.1,
             "#c51b7d"
            ],
            [
             0.2,
             "#de77ae"
            ],
            [
             0.3,
             "#f1b6da"
            ],
            [
             0.4,
             "#fde0ef"
            ],
            [
             0.5,
             "#f7f7f7"
            ],
            [
             0.6,
             "#e6f5d0"
            ],
            [
             0.7,
             "#b8e186"
            ],
            [
             0.8,
             "#7fbc41"
            ],
            [
             0.9,
             "#4d9221"
            ],
            [
             1,
             "#276419"
            ]
           ],
           "sequential": [
            [
             0,
             "#0d0887"
            ],
            [
             0.1111111111111111,
             "#46039f"
            ],
            [
             0.2222222222222222,
             "#7201a8"
            ],
            [
             0.3333333333333333,
             "#9c179e"
            ],
            [
             0.4444444444444444,
             "#bd3786"
            ],
            [
             0.5555555555555556,
             "#d8576b"
            ],
            [
             0.6666666666666666,
             "#ed7953"
            ],
            [
             0.7777777777777778,
             "#fb9f3a"
            ],
            [
             0.8888888888888888,
             "#fdca26"
            ],
            [
             1,
             "#f0f921"
            ]
           ],
           "sequentialminus": [
            [
             0,
             "#0d0887"
            ],
            [
             0.1111111111111111,
             "#46039f"
            ],
            [
             0.2222222222222222,
             "#7201a8"
            ],
            [
             0.3333333333333333,
             "#9c179e"
            ],
            [
             0.4444444444444444,
             "#bd3786"
            ],
            [
             0.5555555555555556,
             "#d8576b"
            ],
            [
             0.6666666666666666,
             "#ed7953"
            ],
            [
             0.7777777777777778,
             "#fb9f3a"
            ],
            [
             0.8888888888888888,
             "#fdca26"
            ],
            [
             1,
             "#f0f921"
            ]
           ]
          },
          "colorway": [
           "#636efa",
           "#EF553B",
           "#00cc96",
           "#ab63fa",
           "#FFA15A",
           "#19d3f3",
           "#FF6692",
           "#B6E880",
           "#FF97FF",
           "#FECB52"
          ],
          "font": {
           "color": "#2a3f5f"
          },
          "geo": {
           "bgcolor": "white",
           "lakecolor": "white",
           "landcolor": "#E5ECF6",
           "showlakes": true,
           "showland": true,
           "subunitcolor": "white"
          },
          "hoverlabel": {
           "align": "left"
          },
          "hovermode": "closest",
          "mapbox": {
           "style": "light"
          },
          "paper_bgcolor": "white",
          "plot_bgcolor": "#E5ECF6",
          "polar": {
           "angularaxis": {
            "gridcolor": "white",
            "linecolor": "white",
            "ticks": ""
           },
           "bgcolor": "#E5ECF6",
           "radialaxis": {
            "gridcolor": "white",
            "linecolor": "white",
            "ticks": ""
           }
          },
          "scene": {
           "xaxis": {
            "backgroundcolor": "#E5ECF6",
            "gridcolor": "white",
            "gridwidth": 2,
            "linecolor": "white",
            "showbackground": true,
            "ticks": "",
            "zerolinecolor": "white"
           },
           "yaxis": {
            "backgroundcolor": "#E5ECF6",
            "gridcolor": "white",
            "gridwidth": 2,
            "linecolor": "white",
            "showbackground": true,
            "ticks": "",
            "zerolinecolor": "white"
           },
           "zaxis": {
            "backgroundcolor": "#E5ECF6",
            "gridcolor": "white",
            "gridwidth": 2,
            "linecolor": "white",
            "showbackground": true,
            "ticks": "",
            "zerolinecolor": "white"
           }
          },
          "shapedefaults": {
           "line": {
            "color": "#2a3f5f"
           }
          },
          "ternary": {
           "aaxis": {
            "gridcolor": "white",
            "linecolor": "white",
            "ticks": ""
           },
           "baxis": {
            "gridcolor": "white",
            "linecolor": "white",
            "ticks": ""
           },
           "bgcolor": "#E5ECF6",
           "caxis": {
            "gridcolor": "white",
            "linecolor": "white",
            "ticks": ""
           }
          },
          "title": {
           "x": 0.05
          },
          "xaxis": {
           "automargin": true,
           "gridcolor": "white",
           "linecolor": "white",
           "ticks": "",
           "title": {
            "standoff": 15
           },
           "zerolinecolor": "white",
           "zerolinewidth": 2
          },
          "yaxis": {
           "automargin": true,
           "gridcolor": "white",
           "linecolor": "white",
           "ticks": "",
           "title": {
            "standoff": 15
           },
           "zerolinecolor": "white",
           "zerolinewidth": 2
          }
         }
        },
        "title": {
         "text": "Net PNL Quote vs. Total Volume by Trading Pair"
        },
        "xaxis": {
         "anchor": "y",
         "domain": [
          0,
          1
         ],
         "title": {
          "text": "total_volume"
         }
        },
        "yaxis": {
         "anchor": "x",
         "domain": [
          0,
          1
         ],
         "title": {
          "text": "net_pnl_quote"
         }
        }
       }
      }
     },
     "metadata": {},
     "output_type": "display_data"
    }
   ],
   "source": [
    "import plotly.express as px\n",
    "\n",
    "# Create a new column with custom hover text\n",
    "results_df['custom_hover_text'] = results_df.apply(lambda row: f\"\"\"\n",
    "Pair: {row['config']['trading_pair']}\n",
    "<br>Volume: {row['total_volume']}\n",
    "<br>PNL: {row['net_pnl_quote']}\n",
    "<br>Close types: {row['close_types']}\n",
    "\n",
    "Config:\n",
    "<br>Id: {row[\"experiment_id\"]}\n",
    "<br>BB Length: {row['config']['bb_length']}\n",
    "<br>BB Std: {row['config']['bb_std']}\n",
    "<br>Take profit: {row['config']['take_profit']}\n",
    "<br>Stop loss: {row['config']['stop_loss']}\n",
    "<br>Time limit: {row['config']['time_limit']}\n",
    "<br>DCA Spreads: {row['config']['dca_spreads']}\n",
    "<br>DCA Amounts: {row['config']['dca_amounts_pct']}\n",
    "\"\"\", axis=1)\n",
    "\n",
    "# Create the scatter plot with the custom hover text\n",
    "fig = px.scatter(\n",
    "    results_df[(results_df[\"net_pnl_quote\"] > 0) & (results_df[\"sharpe_ratio\"] > 0) & (results_df[\"total_volume\"] > 10000)],\n",
    "    x=\"total_volume\",\n",
    "    y=\"net_pnl_quote\",\n",
    "    size=\"sharpe_ratio\",\n",
    "    color=\"trading_pair\",  # Color by trading_pair\n",
    "    hover_data={\"custom_hover_text\": True},  # Show the custom hover text\n",
    "    color_discrete_sequence=px.colors.qualitative.Plotly,  # Optional: use a specific color sequence\n",
    "    title=\"Net PNL Quote vs. Total Volume by Trading Pair\"\n",
    ")\n",
    "\n",
    "# Show the figure\n",
    "fig.show()\n"
   ]
  },
  {
   "cell_type": "code",
   "execution_count": 10,
   "metadata": {
    "collapsed": false
   },
   "outputs": [],
   "source": [
    "index = 378\n",
    "\n",
    "bt_result_index = bt_results[index]\n",
    "print(bt_result_index.controller_config.id)\n",
    "print(f\"DCA Distribution: {bt_result_index.controller_config.dca_amounts_pct} - {bt_result_index.controller_config.dca_spreads}\")\n",
    "print(bt_result_index.get_results_summary())\n",
    "fig = bt_result_index.get_backtesting_figure()\n",
    "bb_length = bt_result_index.controller_config.bb_length\n",
    "bb_std = bt_result_index.controller_config.bb_std\n",
    "# Add Bollinger Bands\n",
    "bb_upper = f'BBU_{bb_length}_{bb_std}'\n",
    "bb_lower = f'BBL_{bb_length}_{bb_std}'\n",
    "fig.add_trace(go.Scatter(x=bt_result_index.processed_data.index, y=bt_result_index.processed_data[bb_upper],\n",
    "                         line=dict(color='rgba(173, 204, 255, 0.7)'),\n",
    "                         name='BB Upper'), row=1, col=1)\n",
    "fig.add_trace(go.Scatter(x=bt_result_index.processed_data.index, y=bt_result_index.processed_data[bb_lower],\n",
    "                         line=dict(color='rgba(173, 204, 255, 0.7)'),\n",
    "                         fill='tonexty', fillcolor='rgba(173, 204, 255, 0.1)',\n",
    "                         name='BB Lower'), row=1, col=1)"
   ]
  },
  {
   "cell_type": "code",
   "execution_count": null,
   "metadata": {
    "collapsed": false
   },
   "outputs": [],
   "source": [
    "from dotenv import load_dotenv\n",
    "from services.backend_api_client import BackendAPIClient\n",
    "load_dotenv()\n",
    "\n",
    "servers = os.environ.get(\"SERVERS\").split(\",\")\n",
    "ts_server = servers[-1]\n",
    "\n",
    "client = BackendAPIClient(host=ts_server)"
   ]
  },
  {
   "cell_type": "code",
   "execution_count": null,
   "metadata": {
    "collapsed": false
   },
   "outputs": [],
   "source": [
    "best_configs_index = [61, 322, 277, 8, 117, 337, 240, 64]\n",
    "\n",
    "best_configs = results_df[results_df[\"experiment_id\"].isin(best_configs_index)][\"config\"].tolist()"
   ]
  },
  {
   "cell_type": "code",
   "execution_count": null,
   "metadata": {
    "collapsed": false
   },
   "outputs": [],
   "source": [
    "from enum import Enum\n",
    "\n",
    "for config in best_configs:\n",
    "    if \"position_mode\" in config:\n",
    "        config[\"position_mode\"] = config[\"position_mode\"].name if isinstance(config[\"position_mode\"], Enum) else config[\"position_mode\"]\n",
    "    if \"take_profit_order_type\" in config:\n",
    "        config[\"take_profit_order_type\"] = config[\"take_profit_order_type\"].name if isinstance(config[\"take_profit_order_type\"], Enum) else config[\"take_profit_order_type\"]\n",
    "    client.add_controller_config(controller_config=config)\n",
    "configs_id = [config[\"id\"] + \".yml\" for config in best_configs]\n",
    "configs_id"
   ]
  },
  {
   "cell_type": "code",
   "execution_count": null,
   "metadata": {
    "collapsed": false
   },
   "outputs": [],
   "source": [
    "client.deploy_script_with_controllers(\n",
    "    bot_name=\"la_maquinita\",\n",
    "    controller_configs=configs_id,\n",
    "    credentials=\"ts_binance\",\n",
    "    time_to_cash_out=200000,\n",
    "    max_global_drawdown=70,\n",
    "    max_controller_drawdown=25\n",
    ")"
   ]
  },
  {
   "cell_type": "code",
   "execution_count": null,
   "metadata": {
    "collapsed": false
   },
   "outputs": [],
   "source": []
  }
 ],
 "metadata": {
  "kernelspec": {
   "display_name": "Python 3",
   "language": "python",
   "name": "python3"
  },
  "language_info": {
   "codemirror_mode": {
    "name": "ipython",
    "version": 3
   },
   "file_extension": ".py",
   "mimetype": "text/x-python",
   "name": "python",
   "nbconvert_exporter": "python",
   "pygments_lexer": "ipython3",
   "version": "3.10.14"
  }
 },
 "nbformat": 4,
 "nbformat_minor": 0
}
