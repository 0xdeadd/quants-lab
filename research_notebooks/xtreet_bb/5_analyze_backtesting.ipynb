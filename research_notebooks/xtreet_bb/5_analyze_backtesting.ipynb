{
 "cells": [
  {
   "cell_type": "code",
   "execution_count": null,
   "metadata": {
    "collapsed": true
   },
   "outputs": [],
   "source": [
    "# This is necessary to recognize the modules\n",
    "import os\n",
    "import sys\n",
    "\n",
    "\n",
    "root_path = os.path.abspath(os.path.join(os.getcwd(), '../..'))\n",
    "sys.path.append(root_path)\n"
   ]
  },
  {
   "cell_type": "code",
   "execution_count": null,
   "outputs": [],
   "source": [
    "from plotly.subplots import make_subplots\n",
    "import pandas as pd\n",
    "import numpy as np\n",
    "import plotly.graph_objects as go\n",
    "\n",
    "from hummingbot.connector.connector_base import TradeType\n",
    "\n",
    "\n",
    "def get_bt_candlestick_trace(df):\n",
    "    df.index = pd.to_datetime(df.timestamp, unit='s')\n",
    "    return go.Scatter(x=df.index,\n",
    "                      y=df['close'],\n",
    "                      mode='lines',\n",
    "                      line=dict(color=\"blue\"),\n",
    "                      )\n",
    "\n",
    "\n",
    "def get_pnl_trace(executors):\n",
    "    pnl = [e.net_pnl_quote for e in executors]\n",
    "    cum_pnl = np.cumsum(pnl)\n",
    "    return go.Scatter(\n",
    "        x=pd.to_datetime([e.close_timestamp for e in executors], unit=\"s\"),\n",
    "        y=cum_pnl,\n",
    "        mode='lines',\n",
    "        line=dict(color='gold', width=2, dash=\"dash\"),\n",
    "        name='Cumulative PNL'\n",
    "    )\n",
    "\n",
    "\n",
    "def get_default_layout(title=None, height=800, width=1800):\n",
    "    layout = {\n",
    "        \"template\": \"plotly_dark\",\n",
    "        \"plot_bgcolor\": 'rgba(0, 0, 0, 0)',  # Transparent background\n",
    "        \"paper_bgcolor\": 'rgba(0, 0, 0, 0.1)',  # Lighter shade for the paper\n",
    "        \"font\": {\"color\": 'white', \"size\": 12},  # Consistent font color and size\n",
    "        \"height\": height,\n",
    "        \"width\": width,\n",
    "        \"margin\": {\"l\": 20, \"r\": 20, \"t\": 50, \"b\": 20},\n",
    "        \"xaxis_rangeslider_visible\": False,\n",
    "        \"hovermode\": \"x unified\",\n",
    "        \"showlegend\": False,\n",
    "    }\n",
    "    if title:\n",
    "        layout[\"title\"] = title\n",
    "    return layout\n",
    "\n",
    "\n",
    "def add_executors_trace(fig, executors, row, col):\n",
    "    for executor in executors:\n",
    "        entry_time = pd.to_datetime(executor.timestamp, unit='s')\n",
    "        entry_price = executor.custom_info[\"current_position_average_price\"]\n",
    "        exit_time = pd.to_datetime(executor.close_timestamp, unit='s')\n",
    "        exit_price = executor.custom_info[\"close_price\"]\n",
    "        name = \"Buy Executor\" if executor.config.side == TradeType.BUY else \"Sell Executor\"\n",
    "\n",
    "        if executor.filled_amount_quote == 0:\n",
    "            fig.add_trace(go.Scatter(x=[entry_time, exit_time], y=[entry_price, entry_price], mode='lines',\n",
    "                                     line=dict(color='grey', width=2, dash=\"dash\"), name=name), row=row, col=col)\n",
    "        else:\n",
    "            if executor.net_pnl_quote > Decimal(0):\n",
    "                fig.add_trace(go.Scatter(x=[entry_time, exit_time], y=[entry_price, exit_price], mode='lines',\n",
    "                                         line=dict(color='green', width=4), name=name), row=row, col=col)\n",
    "            else:\n",
    "                fig.add_trace(go.Scatter(x=[entry_time, exit_time], y=[entry_price, exit_price], mode='lines',\n",
    "                                         line=dict(color='red', width=4), name=name), row=row, col=col)\n",
    "\n",
    "    return fig\n",
    "\n",
    "\n",
    "def create_backtesting_figure(df, executors, config):\n",
    "    # Create subplots\n",
    "    fig = make_subplots(rows=2, cols=1, shared_xaxes=True,\n",
    "                        vertical_spacing=0.02, subplot_titles=('Candlestick', 'PNL Quote'),\n",
    "                        row_heights=[0.7, 0.3])\n",
    "\n",
    "    # Add candlestick trace\n",
    "    fig.add_trace(get_bt_candlestick_trace(df), row=1, col=1)\n",
    "\n",
    "    # Add executors trace\n",
    "    fig = add_executors_trace(fig, executors, row=1, col=1)\n",
    "\n",
    "    # Add PNL trace\n",
    "    fig.add_trace(get_pnl_trace(executors), row=2, col=1)\n",
    "\n",
    "    # Apply the theme layout\n",
    "    layout_settings = get_default_layout(f\"Trading Pair: {config['trading_pair']}\")\n",
    "    layout_settings[\"showlegend\"] = False\n",
    "    fig.update_layout(**layout_settings)\n",
    "\n",
    "    # Update axis properties\n",
    "    fig.update_xaxes(rangeslider_visible=False, row=1, col=1)\n",
    "    fig.update_xaxes(row=2, col=1)\n",
    "    fig.update_yaxes(title_text=\"Price\", row=1, col=1)\n",
    "    fig.update_yaxes(title_text=\"PNL\", row=2, col=1)\n",
    "    return fig"
   ],
   "metadata": {
    "collapsed": false
   }
  },
  {
   "cell_type": "code",
   "execution_count": null,
   "outputs": [],
   "source": [
    "import pickle\n",
    "\n",
    "import pandas as pd\n",
    "path = os.path.join(root_path, \"research_notebooks\", \"xtreet_bb\", \"backtesting_results_ts_nuevo.pickle\")\n",
    "\n",
    "bt_results = pickle.load(open(path, 'rb'))"
   ],
   "metadata": {
    "collapsed": false
   }
  },
  {
   "cell_type": "code",
   "execution_count": null,
   "outputs": [],
   "source": [
    "import pandas as pd\n",
    "\n",
    "results_df = pd.DataFrame([result[\"results\"] for result in bt_results.values()])\n",
    "results_df"
   ],
   "metadata": {
    "collapsed": false
   }
  },
  {
   "cell_type": "code",
   "execution_count": null,
   "outputs": [],
   "source": [
    "import plotly.express as px\n",
    "\n",
    "# Create a new column with custom hover text\n",
    "results_df['custom_hover_text'] = results_df.apply(lambda row: f\"\"\"\n",
    "Pair: {row['config']['trading_pair']}\n",
    "<br>Volume: {row['total_volume']}\n",
    "<br>PNL: {row['net_pnl_quote']}\n",
    "<br>Close types: {row['close_types']}\n",
    "\n",
    "Config:\n",
    "<br>Id: {row['config']['id']}\n",
    "<br>BB Length: {row['config']['bb_length']}\n",
    "<br>BB Std: {row['config']['bb_std']}\n",
    "<br>Take profit: {row['config']['take_profit']}\n",
    "<br>Stop loss: {row['config']['stop_loss']}\n",
    "<br>Time limit: {row['config']['time_limit']}\n",
    "<br>DCA Spreads: {row['config']['dca_spreads']}\n",
    "<br>DCA Amounts: {row['config']['dca_amounts_pct']}\n",
    "\"\"\", axis=1)\n",
    "\n",
    "# Create the scatter plot with the custom hover text\n",
    "fig = px.scatter(\n",
    "    results_df,\n",
    "    x=\"total_volume\",\n",
    "    y=\"net_pnl_quote\",\n",
    "    color=\"trading_pair\",  # Color by trading_pair\n",
    "    hover_data={\"custom_hover_text\": True},  # Show the custom hover text\n",
    "    color_discrete_sequence=px.colors.qualitative.Plotly,  # Optional: use a specific color sequence\n",
    "    title=\"Net PNL Quote vs. Total Volume by Trading Pair\"\n",
    ")\n",
    "\n",
    "# Show the figure\n",
    "fig.show()\n"
   ],
   "metadata": {
    "collapsed": false
   }
  },
  {
   "cell_type": "code",
   "execution_count": null,
   "outputs": [],
   "source": [
    "results_df.sort_values(\"net_pnl_quote\", ascending=False)"
   ],
   "metadata": {
    "collapsed": false
   }
  },
  {
   "cell_type": "code",
   "execution_count": null,
   "outputs": [],
   "source": [
    "from pprint import pprint\n",
    "from decimal import Decimal\n",
    "\n",
    "\n",
    "result = bt_results[results_df.sort_values(\"net_pnl_quote\", ascending=False).loc[138][\"config\"][\"id\"] + \".yml\"]\n",
    "df = result[\"df\"]\n",
    "config = result[\"config\"]\n",
    "executors = result[\"executors\"]\n",
    "\n",
    "\n",
    "fig = create_backtesting_figure(\n",
    "    df=df,\n",
    "    executors=executors,\n",
    "    config=config.dict())\n",
    "# df.ta.bbands(length=config.bb_length, std=config.bb_std, append=True)\n",
    "fig.add_trace(go.Scatter(x=df.index,\n",
    "                         y=df[f\"BBU_{config.bb_length}_{config.bb_std}\"],\n",
    "                         line=dict(color='lightblue', width=1))\n",
    "              )\n",
    "# fig.add_trace(go.Scatter(x=df.index,\n",
    "#                          y=df[f\"BBM_{config.bb_length}_{config.bb_std}\"])\n",
    "#               )\n",
    "fig.add_trace(go.Scatter(x=df.index,\n",
    "                         y=df[f\"BBL_{config.bb_length}_{config.bb_std}\"],\n",
    "                         line=dict(color='lightblue', width=1))\n",
    "                         )\n",
    "pprint(config)\n",
    "fig.update_layout(width=1400)\n",
    "fig.show()"
   ],
   "metadata": {
    "collapsed": false
   }
  },
  {
   "cell_type": "code",
   "execution_count": null,
   "outputs": [],
   "source": [
    "executors"
   ],
   "metadata": {
    "collapsed": false
   }
  },
  {
   "cell_type": "code",
   "execution_count": null,
   "outputs": [],
   "source": [
    "filtered_report = results_df[results_df[\"net_pnl_quote\"] > 20]\n",
    "unique_trading_pairs = filtered_report[\"trading_pair\"].unique()"
   ],
   "metadata": {
    "collapsed": false
   }
  },
  {
   "cell_type": "code",
   "execution_count": null,
   "outputs": [],
   "source": [
    "best_configs = []\n",
    "for trading_pair in unique_trading_pairs:\n",
    "    best_configs.append(filtered_report[filtered_report[\"trading_pair\"] == trading_pair].sort_values(\"net_pnl_quote\", ascending=False).iloc[0][\"config\"])"
   ],
   "metadata": {
    "collapsed": false
   }
  },
  {
   "cell_type": "code",
   "execution_count": null,
   "outputs": [],
   "source": [
    "from services.backend_api_client import BackendAPIClient\n",
    "\n",
    "client = BackendAPIClient(host=\"localhost\")"
   ],
   "metadata": {
    "collapsed": false
   }
  },
  {
   "cell_type": "code",
   "execution_count": null,
   "outputs": [],
   "source": [
    "for config in best_configs:\n",
    "    if \"position_mode\" in config:\n",
    "        config.pop(\"position_mode\")\n",
    "    if \"take_profit_order_type\" in config:\n",
    "        config.pop(\"take_profit_order_type\")\n",
    "    client.add_controller_config(config)"
   ],
   "metadata": {
    "collapsed": false
   }
  },
  {
   "cell_type": "code",
   "execution_count": null,
   "outputs": [],
   "source": [
    "from decimal import Decimal\n",
    "configs_id = [config[\"id\"] + \".yml\" for config in best_configs if (config[\"trading_pair\"] != \"CRV-USDT\") and (config[\"dca_amounts_pct\"][1] > Decimal(1)) and (config[\"dca_spreads\"][1] > Decimal(0.0001))]"
   ],
   "metadata": {
    "collapsed": false
   }
  },
  {
   "cell_type": "code",
   "execution_count": null,
   "outputs": [],
   "source": [
    "configs_id"
   ],
   "metadata": {
    "collapsed": false
   }
  },
  {
   "cell_type": "code",
   "execution_count": null,
   "outputs": [],
   "source": [
    "client.deploy_script_with_controllers(\n",
    "    bot_name=\"la_maquinita\",\n",
    "    controller_configs=configs_id,\n",
    "    credentials=\"master_account\",\n",
    "    time_to_cash_out=200000,\n",
    "    max_global_drawdown=50,\n",
    "    max_controller_drawdown=15\n",
    ")"
   ],
   "metadata": {
    "collapsed": false
   }
  },
  {
   "cell_type": "code",
   "execution_count": null,
   "outputs": [],
   "source": [],
   "metadata": {
    "collapsed": false
   }
  }
 ],
 "metadata": {
  "kernelspec": {
   "display_name": "Python 3",
   "language": "python",
   "name": "python3"
  },
  "language_info": {
   "codemirror_mode": {
    "name": "ipython",
    "version": 2
   },
   "file_extension": ".py",
   "mimetype": "text/x-python",
   "name": "python",
   "nbconvert_exporter": "python",
   "pygments_lexer": "ipython2",
   "version": "2.7.6"
  }
 },
 "nbformat": 4,
 "nbformat_minor": 0
}
