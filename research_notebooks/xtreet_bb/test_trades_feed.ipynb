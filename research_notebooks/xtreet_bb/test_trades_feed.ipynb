{
 "cells": [
  {
   "cell_type": "code",
   "execution_count": 1,
   "outputs": [
    {
     "name": "stderr",
     "output_type": "stream",
     "text": [
      "2024-09-09 16:12:43,295 - asyncio - ERROR - Unclosed client session\n",
      "client_session: <aiohttp.client.ClientSession object at 0x1065446d0>\n"
     ]
    }
   ],
   "source": [
    "from core.data_sources import CLOBDataSource\n",
    "\n",
    "clob = CLOBDataSource()"
   ],
   "metadata": {
    "collapsed": false,
    "ExecuteTime": {
     "end_time": "2024-09-09T08:12:43.548103Z",
     "start_time": "2024-09-09T08:12:42.445816Z"
    }
   }
  },
  {
   "cell_type": "code",
   "execution_count": 14,
   "outputs": [],
   "source": [
    "import time\n",
    "\n",
    "connector_name = \"binance_perpetual\"\n",
    "trading_pair = \"NULS-USDT\"\n",
    "interval = \"1s\"\n",
    "start_time = 1725092280 - 60 * 60 * 2\n",
    "end_time = 1725241320 + 60 * 60 * 2\n",
    "\n",
    "candles = await clob.get_candles(connector_name, trading_pair, interval, start_time, end_time, True)"
   ],
   "metadata": {
    "collapsed": false,
    "ExecuteTime": {
     "end_time": "2024-09-09T08:48:03.344964Z",
     "start_time": "2024-09-09T08:41:42.502900Z"
    }
   }
  },
  {
   "cell_type": "code",
   "execution_count": 15,
   "outputs": [
    {
     "data": {
      "text/plain": "                      open   high    low  close  volume  timestamp\ntimestamp                                                         \n2024-08-31 06:18:01 0.4021 0.4023 0.4021 0.4022    3465 1725085081\n2024-08-31 06:18:02 0.4021 0.4023 0.4021 0.4022       0 1725085082\n2024-08-31 06:18:03 0.4022 0.4023 0.4022 0.4023     588 1725085083\n2024-08-31 06:18:04 0.4021 0.4021 0.4021 0.4021      46 1725085084\n2024-08-31 06:18:05 0.4021 0.4021 0.4021 0.4021       0 1725085085\n...                    ...    ...    ...    ...     ...        ...\n2024-09-02 03:41:56  0.431  0.431 0.4309 0.4309    1176 1725248516\n2024-09-02 03:41:57  0.431  0.431 0.4309 0.4309       0 1725248517\n2024-09-02 03:41:58  0.431 0.4312  0.431 0.4312   11757 1725248518\n2024-09-02 03:41:59  0.431 0.4312  0.431 0.4312       0 1725248519\n2024-09-02 03:42:00  0.431  0.431 0.4306 0.4306   13988 1725248520\n\n[163440 rows x 6 columns]",
      "text/html": "<div>\n<style scoped>\n    .dataframe tbody tr th:only-of-type {\n        vertical-align: middle;\n    }\n\n    .dataframe tbody tr th {\n        vertical-align: top;\n    }\n\n    .dataframe thead th {\n        text-align: right;\n    }\n</style>\n<table border=\"1\" class=\"dataframe\">\n  <thead>\n    <tr style=\"text-align: right;\">\n      <th></th>\n      <th>open</th>\n      <th>high</th>\n      <th>low</th>\n      <th>close</th>\n      <th>volume</th>\n      <th>timestamp</th>\n    </tr>\n    <tr>\n      <th>timestamp</th>\n      <th></th>\n      <th></th>\n      <th></th>\n      <th></th>\n      <th></th>\n      <th></th>\n    </tr>\n  </thead>\n  <tbody>\n    <tr>\n      <th>2024-08-31 06:18:01</th>\n      <td>0.4021</td>\n      <td>0.4023</td>\n      <td>0.4021</td>\n      <td>0.4022</td>\n      <td>3465</td>\n      <td>1725085081</td>\n    </tr>\n    <tr>\n      <th>2024-08-31 06:18:02</th>\n      <td>0.4021</td>\n      <td>0.4023</td>\n      <td>0.4021</td>\n      <td>0.4022</td>\n      <td>0</td>\n      <td>1725085082</td>\n    </tr>\n    <tr>\n      <th>2024-08-31 06:18:03</th>\n      <td>0.4022</td>\n      <td>0.4023</td>\n      <td>0.4022</td>\n      <td>0.4023</td>\n      <td>588</td>\n      <td>1725085083</td>\n    </tr>\n    <tr>\n      <th>2024-08-31 06:18:04</th>\n      <td>0.4021</td>\n      <td>0.4021</td>\n      <td>0.4021</td>\n      <td>0.4021</td>\n      <td>46</td>\n      <td>1725085084</td>\n    </tr>\n    <tr>\n      <th>2024-08-31 06:18:05</th>\n      <td>0.4021</td>\n      <td>0.4021</td>\n      <td>0.4021</td>\n      <td>0.4021</td>\n      <td>0</td>\n      <td>1725085085</td>\n    </tr>\n    <tr>\n      <th>...</th>\n      <td>...</td>\n      <td>...</td>\n      <td>...</td>\n      <td>...</td>\n      <td>...</td>\n      <td>...</td>\n    </tr>\n    <tr>\n      <th>2024-09-02 03:41:56</th>\n      <td>0.431</td>\n      <td>0.431</td>\n      <td>0.4309</td>\n      <td>0.4309</td>\n      <td>1176</td>\n      <td>1725248516</td>\n    </tr>\n    <tr>\n      <th>2024-09-02 03:41:57</th>\n      <td>0.431</td>\n      <td>0.431</td>\n      <td>0.4309</td>\n      <td>0.4309</td>\n      <td>0</td>\n      <td>1725248517</td>\n    </tr>\n    <tr>\n      <th>2024-09-02 03:41:58</th>\n      <td>0.431</td>\n      <td>0.4312</td>\n      <td>0.431</td>\n      <td>0.4312</td>\n      <td>11757</td>\n      <td>1725248518</td>\n    </tr>\n    <tr>\n      <th>2024-09-02 03:41:59</th>\n      <td>0.431</td>\n      <td>0.4312</td>\n      <td>0.431</td>\n      <td>0.4312</td>\n      <td>0</td>\n      <td>1725248519</td>\n    </tr>\n    <tr>\n      <th>2024-09-02 03:42:00</th>\n      <td>0.431</td>\n      <td>0.431</td>\n      <td>0.4306</td>\n      <td>0.4306</td>\n      <td>13988</td>\n      <td>1725248520</td>\n    </tr>\n  </tbody>\n</table>\n<p>163440 rows × 6 columns</p>\n</div>"
     },
     "execution_count": 15,
     "metadata": {},
     "output_type": "execute_result"
    }
   ],
   "source": [
    "candles.data"
   ],
   "metadata": {
    "collapsed": false,
    "ExecuteTime": {
     "end_time": "2024-09-09T08:50:12.482432Z",
     "start_time": "2024-09-09T08:50:12.473763Z"
    }
   }
  },
  {
   "cell_type": "code",
   "execution_count": 16,
   "outputs": [],
   "source": [
    "import os\n",
    "import sys\n",
    "\n",
    "root_path = os.path.abspath(os.path.join(os.getcwd(), '../..'))\n",
    "sys.path.append(root_path)\n",
    "\n",
    "clob.dump_candles_cache(root_path)"
   ],
   "metadata": {
    "collapsed": false,
    "ExecuteTime": {
     "end_time": "2024-09-09T08:50:13.684407Z",
     "start_time": "2024-09-09T08:50:12.847955Z"
    }
   }
  },
  {
   "cell_type": "code",
   "execution_count": 9,
   "outputs": [
    {
     "data": {
      "text/plain": "'/Users/dardonacci/Documents/work/quants-lab'"
     },
     "execution_count": 9,
     "metadata": {},
     "output_type": "execute_result"
    }
   ],
   "source": [],
   "metadata": {
    "collapsed": false,
    "ExecuteTime": {
     "end_time": "2024-09-09T08:32:03.951299Z",
     "start_time": "2024-09-09T08:32:03.947776Z"
    }
   }
  }
 ],
 "metadata": {
  "kernelspec": {
   "display_name": "Python 3",
   "language": "python",
   "name": "python3"
  },
  "language_info": {
   "codemirror_mode": {
    "name": "ipython",
    "version": 2
   },
   "file_extension": ".py",
   "mimetype": "text/x-python",
   "name": "python",
   "nbconvert_exporter": "python",
   "pygments_lexer": "ipython2",
   "version": "2.7.6"
  }
 },
 "nbformat": 4,
 "nbformat_minor": 0
}
