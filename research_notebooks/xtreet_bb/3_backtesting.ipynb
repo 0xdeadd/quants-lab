{
 "cells": [
  {
   "cell_type": "code",
   "execution_count": null,
   "outputs": [],
   "source": [
    "# This is necessary to recognize the modules\n",
    "import os\n",
    "import sys\n",
    "from decimal import Decimal\n",
    "\n",
    "root_path = os.path.abspath(os.path.join(os.getcwd(), '../..'))\n",
    "sys.path.append(root_path)"
   ],
   "metadata": {
    "collapsed": false
   }
  },
  {
   "cell_type": "code",
   "execution_count": null,
   "metadata": {},
   "outputs": [],
   "source": [
    "from core.backtesting import BacktestingEngine\n",
    "import datetime\n",
    "\n",
    "\n",
    "backtesting_engine = BacktestingEngine(root_path=root_path, load_cached_data=False)"
   ]
  },
  {
   "cell_type": "code",
   "execution_count": null,
   "metadata": {},
   "outputs": [],
   "source": [
    "start_time = datetime.datetime(2024, 8, 28).timestamp()\n",
    "end_time = datetime.datetime(2024, 8, 30).timestamp()\n",
    "\n",
    "bt_result = await backtesting_engine.backtest_controller_from_yml(config_file=\"shupo_config.yml\",\n",
    "                                                controllers_conf_dir_path=os.path.join(root_path, \"research_notebooks\", \"xtreet_bb\", \"configs\"),\n",
    "                                                start=int(start_time), end=int(end_time))"
   ]
  },
  {
   "cell_type": "code",
   "execution_count": null,
   "metadata": {},
   "outputs": [],
   "source": [
    "print(bt_result.get_results_summary())\n",
    "bt_result.get_backtesting_figure()"
   ]
  },
  {
   "cell_type": "code",
   "execution_count": null,
   "outputs": [],
   "source": [],
   "metadata": {
    "collapsed": false
   }
  }
 ],
 "metadata": {
  "kernelspec": {
   "display_name": "quants-lab",
   "language": "python",
   "name": "python3"
  },
  "language_info": {
   "codemirror_mode": {
    "name": "ipython",
    "version": 3
   },
   "file_extension": ".py",
   "mimetype": "text/x-python",
   "name": "python",
   "nbconvert_exporter": "python",
   "pygments_lexer": "ipython3",
   "version": "3.10.14"
  }
 },
 "nbformat": 4,
 "nbformat_minor": 2
}
