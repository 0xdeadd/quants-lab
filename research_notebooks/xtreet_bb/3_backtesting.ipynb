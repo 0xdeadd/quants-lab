{
 "cells": [
  {
   "cell_type": "code",
   "execution_count": 1,
   "outputs": [],
   "source": [
    "# This is necessary to recognize the modules\n",
    "import os\n",
    "import sys\n",
    "from decimal import Decimal\n",
    "\n",
    "root_path = os.path.abspath(os.path.join(os.getcwd(), '../..'))\n",
    "sys.path.append(root_path)"
   ],
   "metadata": {
    "collapsed": false,
    "ExecuteTime": {
     "end_time": "2024-09-14T05:56:33.245620Z",
     "start_time": "2024-09-14T05:56:33.243275Z"
    }
   }
  },
  {
   "cell_type": "code",
   "execution_count": 2,
   "metadata": {
    "ExecuteTime": {
     "end_time": "2024-09-14T05:56:34.813396Z",
     "start_time": "2024-09-14T05:56:33.376642Z"
    }
   },
   "outputs": [],
   "source": [
    "from core.backtesting import BacktestingEngine\n",
    "import datetime\n",
    "\n",
    "backtesting_engine = BacktestingEngine(root_path=root_path, load_cached_data=False)"
   ]
  },
  {
   "cell_type": "code",
   "execution_count": 3,
   "metadata": {
    "ExecuteTime": {
     "end_time": "2024-09-14T05:56:35.086356Z",
     "start_time": "2024-09-14T05:56:34.814259Z"
    }
   },
   "outputs": [
    {
     "ename": "AttributeError",
     "evalue": "'NoneType' object has no attribute 'get'",
     "output_type": "error",
     "traceback": [
      "\u001B[0;31m---------------------------------------------------------------------------\u001B[0m",
      "\u001B[0;31mAttributeError\u001B[0m                            Traceback (most recent call last)",
      "Cell \u001B[0;32mIn[3], line 5\u001B[0m\n\u001B[1;32m      2\u001B[0m end_time \u001B[38;5;241m=\u001B[39m datetime\u001B[38;5;241m.\u001B[39mdatetime(\u001B[38;5;241m2024\u001B[39m, \u001B[38;5;241m8\u001B[39m, \u001B[38;5;241m30\u001B[39m)\u001B[38;5;241m.\u001B[39mtimestamp()\n\u001B[1;32m      3\u001B[0m controllers_conf_dir_path \u001B[38;5;241m=\u001B[39m os\u001B[38;5;241m.\u001B[39mpath\u001B[38;5;241m.\u001B[39mjoin(root_path, \u001B[38;5;124m\"\u001B[39m\u001B[38;5;124mresearch_notebooks\u001B[39m\u001B[38;5;124m\"\u001B[39m, \u001B[38;5;124m\"\u001B[39m\u001B[38;5;124mxtreet_bb\u001B[39m\u001B[38;5;124m\"\u001B[39m, \u001B[38;5;124m\"\u001B[39m\u001B[38;5;124mconfigs\u001B[39m\u001B[38;5;124m\"\u001B[39m)\n\u001B[0;32m----> 5\u001B[0m bt_result \u001B[38;5;241m=\u001B[39m \u001B[38;5;28;01mawait\u001B[39;00m backtesting_engine\u001B[38;5;241m.\u001B[39mbacktest_controller_from_yml(config_file\u001B[38;5;241m=\u001B[39m\u001B[38;5;124m\"\u001B[39m\u001B[38;5;124mshupo_config.yml\u001B[39m\u001B[38;5;124m\"\u001B[39m,\n\u001B[1;32m      6\u001B[0m                                                                   controllers_conf_dir_path\u001B[38;5;241m=\u001B[39mcontrollers_conf_dir_path,\n\u001B[1;32m      7\u001B[0m                                                                   start\u001B[38;5;241m=\u001B[39m\u001B[38;5;28mint\u001B[39m(start_time), end\u001B[38;5;241m=\u001B[39m\u001B[38;5;28mint\u001B[39m(end_time),\n\u001B[1;32m      8\u001B[0m                                                                   backtesting_resolution\u001B[38;5;241m=\u001B[39m\u001B[38;5;124m\"\u001B[39m\u001B[38;5;124m1s\u001B[39m\u001B[38;5;124m\"\u001B[39m)\n",
      "File \u001B[0;32m~/Documents/work/quants-lab/core/backtesting/engine.py:91\u001B[0m, in \u001B[0;36mBacktestingEngine.backtest_controller_from_yml\u001B[0;34m(self, config_file, controllers_conf_dir_path, start, end, backtesting_resolution, trade_cost, backtester)\u001B[0m\n\u001B[1;32m     83\u001B[0m \u001B[38;5;28;01masync\u001B[39;00m \u001B[38;5;28;01mdef\u001B[39;00m \u001B[38;5;21mbacktest_controller_from_yml\u001B[39m(\u001B[38;5;28mself\u001B[39m,\n\u001B[1;32m     84\u001B[0m                                        config_file: \u001B[38;5;28mstr\u001B[39m,\n\u001B[1;32m     85\u001B[0m                                        controllers_conf_dir_path: \u001B[38;5;28mstr\u001B[39m,\n\u001B[0;32m   (...)\u001B[0m\n\u001B[1;32m     89\u001B[0m                                        trade_cost: \u001B[38;5;28mfloat\u001B[39m \u001B[38;5;241m=\u001B[39m \u001B[38;5;241m0.0006\u001B[39m,\n\u001B[1;32m     90\u001B[0m                                        backtester: Optional[BacktestingEngineBase] \u001B[38;5;241m=\u001B[39m \u001B[38;5;28;01mNone\u001B[39;00m):\n\u001B[0;32m---> 91\u001B[0m     config \u001B[38;5;241m=\u001B[39m \u001B[38;5;28;43mself\u001B[39;49m\u001B[38;5;241;43m.\u001B[39;49m\u001B[43m_dt_bt\u001B[49m\u001B[38;5;241;43m.\u001B[39;49m\u001B[43mget_controller_config_instance_from_yml\u001B[49m\u001B[43m(\u001B[49m\u001B[43mconfig_file\u001B[49m\u001B[43m,\u001B[49m\u001B[43m \u001B[49m\u001B[43mcontrollers_conf_dir_path\u001B[49m\u001B[43m)\u001B[49m\n\u001B[1;32m     92\u001B[0m     \u001B[38;5;28;01mreturn\u001B[39;00m \u001B[38;5;28;01mawait\u001B[39;00m \u001B[38;5;28mself\u001B[39m\u001B[38;5;241m.\u001B[39mrun_backtesting(config, start, end, backtesting_resolution, trade_cost, backtester)\n",
      "File \u001B[0;32m~/Documents/work/quants-lab/hummingbot/strategy_v2/backtesting/backtesting_engine_base.py:55\u001B[0m, in \u001B[0;36mBacktestingEngineBase.get_controller_config_instance_from_yml\u001B[0;34m(cls, config_path, controllers_conf_dir_path, controllers_module)\u001B[0m\n\u001B[1;32m     49\u001B[0m \u001B[38;5;129m@classmethod\u001B[39m\n\u001B[1;32m     50\u001B[0m \u001B[38;5;28;01mdef\u001B[39;00m \u001B[38;5;21mget_controller_config_instance_from_yml\u001B[39m(\u001B[38;5;28mcls\u001B[39m,\n\u001B[1;32m     51\u001B[0m                                             config_path: \u001B[38;5;28mstr\u001B[39m,\n\u001B[1;32m     52\u001B[0m                                             controllers_conf_dir_path: \u001B[38;5;28mstr\u001B[39m \u001B[38;5;241m=\u001B[39m settings\u001B[38;5;241m.\u001B[39mCONTROLLERS_CONF_DIR_PATH,\n\u001B[1;32m     53\u001B[0m                                             controllers_module: \u001B[38;5;28mstr\u001B[39m \u001B[38;5;241m=\u001B[39m settings\u001B[38;5;241m.\u001B[39mCONTROLLERS_MODULE) \u001B[38;5;241m-\u001B[39m\u001B[38;5;241m>\u001B[39m ControllerConfigBase:\n\u001B[1;32m     54\u001B[0m     config_data \u001B[38;5;241m=\u001B[39m \u001B[38;5;28mcls\u001B[39m\u001B[38;5;241m.\u001B[39mload_controller_config(config_path, controllers_conf_dir_path)\n\u001B[0;32m---> 55\u001B[0m     \u001B[38;5;28;01mreturn\u001B[39;00m \u001B[38;5;28;43mcls\u001B[39;49m\u001B[38;5;241;43m.\u001B[39;49m\u001B[43mget_controller_config_instance_from_dict\u001B[49m\u001B[43m(\u001B[49m\u001B[43mconfig_data\u001B[49m\u001B[43m,\u001B[49m\u001B[43m \u001B[49m\u001B[43mcontrollers_module\u001B[49m\u001B[43m)\u001B[49m\n",
      "File \u001B[0;32m~/Documents/work/quants-lab/hummingbot/strategy_v2/backtesting/backtesting_engine_base.py:61\u001B[0m, in \u001B[0;36mBacktestingEngineBase.get_controller_config_instance_from_dict\u001B[0;34m(cls, config_data, controllers_module)\u001B[0m\n\u001B[1;32m     57\u001B[0m \u001B[38;5;129m@classmethod\u001B[39m\n\u001B[1;32m     58\u001B[0m \u001B[38;5;28;01mdef\u001B[39;00m \u001B[38;5;21mget_controller_config_instance_from_dict\u001B[39m(\u001B[38;5;28mcls\u001B[39m,\n\u001B[1;32m     59\u001B[0m                                              config_data: \u001B[38;5;28mdict\u001B[39m,\n\u001B[1;32m     60\u001B[0m                                              controllers_module: \u001B[38;5;28mstr\u001B[39m \u001B[38;5;241m=\u001B[39m settings\u001B[38;5;241m.\u001B[39mCONTROLLERS_MODULE) \u001B[38;5;241m-\u001B[39m\u001B[38;5;241m>\u001B[39m ControllerConfigBase:\n\u001B[0;32m---> 61\u001B[0m     controller_type \u001B[38;5;241m=\u001B[39m \u001B[43mconfig_data\u001B[49m\u001B[38;5;241;43m.\u001B[39;49m\u001B[43mget\u001B[49m(\u001B[38;5;124m'\u001B[39m\u001B[38;5;124mcontroller_type\u001B[39m\u001B[38;5;124m'\u001B[39m)\n\u001B[1;32m     62\u001B[0m     controller_name \u001B[38;5;241m=\u001B[39m config_data\u001B[38;5;241m.\u001B[39mget(\u001B[38;5;124m'\u001B[39m\u001B[38;5;124mcontroller_name\u001B[39m\u001B[38;5;124m'\u001B[39m)\n\u001B[1;32m     64\u001B[0m     \u001B[38;5;28;01mif\u001B[39;00m \u001B[38;5;129;01mnot\u001B[39;00m controller_type \u001B[38;5;129;01mor\u001B[39;00m \u001B[38;5;129;01mnot\u001B[39;00m controller_name:\n",
      "\u001B[0;31mAttributeError\u001B[0m: 'NoneType' object has no attribute 'get'"
     ]
    }
   ],
   "source": [
    "start_time = datetime.datetime(2024, 8, 28).timestamp()\n",
    "end_time = datetime.datetime(2024, 8, 30).timestamp()\n",
    "controllers_conf_dir_path = os.path.join(root_path, \"research_notebooks\", \"xtreet_bb\", \"configs\")\n",
    "\n",
    "bt_result = await backtesting_engine.backtest_controller_from_yml(config_file=\"shupo_config.yml\",\n",
    "                                                                  controllers_conf_dir_path=controllers_conf_dir_path,\n",
    "                                                                  start=int(start_time), end=int(end_time),\n",
    "                                                                  backtesting_resolution=\"1s\")"
   ]
  },
  {
   "cell_type": "code",
   "execution_count": 4,
   "metadata": {
    "ExecuteTime": {
     "end_time": "2024-09-14T05:53:51.953615Z",
     "start_time": "2024-09-14T05:53:51.926541Z"
    }
   },
   "outputs": [
    {
     "ename": "NameError",
     "evalue": "name 'bt_result' is not defined",
     "output_type": "error",
     "traceback": [
      "\u001B[0;31m---------------------------------------------------------------------------\u001B[0m",
      "\u001B[0;31mNameError\u001B[0m                                 Traceback (most recent call last)",
      "Cell \u001B[0;32mIn[4], line 1\u001B[0m\n\u001B[0;32m----> 1\u001B[0m \u001B[38;5;28mprint\u001B[39m(\u001B[43mbt_result\u001B[49m\u001B[38;5;241m.\u001B[39mget_results_summary())\n\u001B[1;32m      2\u001B[0m bt_result\u001B[38;5;241m.\u001B[39mget_backtesting_figure()\n",
      "\u001B[0;31mNameError\u001B[0m: name 'bt_result' is not defined"
     ]
    }
   ],
   "source": [
    "print(bt_result.get_results_summary())\n",
    "bt_result.get_backtesting_figure()"
   ]
  },
  {
   "cell_type": "code",
   "execution_count": null,
   "outputs": [],
   "source": [],
   "metadata": {
    "collapsed": false
   }
  }
 ],
 "metadata": {
  "kernelspec": {
   "display_name": "quants-lab",
   "language": "python",
   "name": "python3"
  },
  "language_info": {
   "codemirror_mode": {
    "name": "ipython",
    "version": 3
   },
   "file_extension": ".py",
   "mimetype": "text/x-python",
   "name": "python",
   "nbconvert_exporter": "python",
   "pygments_lexer": "ipython3",
   "version": "3.10.14"
  }
 },
 "nbformat": 4,
 "nbformat_minor": 2
}
