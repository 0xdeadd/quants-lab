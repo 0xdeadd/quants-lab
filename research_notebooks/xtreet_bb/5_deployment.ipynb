{
 "cells": [
  {
   "cell_type": "code",
   "execution_count": 14,
   "metadata": {
    "collapsed": true,
    "ExecuteTime": {
     "end_time": "2024-08-17T05:36:33.281547Z",
     "start_time": "2024-08-17T05:36:33.267630Z"
    }
   },
   "outputs": [],
   "source": [
    "# This is necessary to recognize the modules\n",
    "import os\n",
    "import sys\n",
    "from services.backend_api_client import BackendAPIClient\n",
    "\n",
    "\n",
    "root_path = os.path.abspath(os.path.join(os.getcwd(), '../..'))\n",
    "sys.path.append(root_path)\n",
    "\n",
    "client = BackendAPIClient()"
   ]
  },
  {
   "cell_type": "code",
   "execution_count": 15,
   "outputs": [
    {
     "data": {
      "text/plain": "{'status': 'success', 'data': {}}"
     },
     "execution_count": 15,
     "metadata": {},
     "output_type": "execute_result"
    }
   ],
   "source": [
    "client.get_active_bots_status()"
   ],
   "metadata": {
    "collapsed": false,
    "ExecuteTime": {
     "end_time": "2024-08-17T05:36:34.186554Z",
     "start_time": "2024-08-17T05:36:34.173914Z"
    }
   }
  },
  {
   "cell_type": "code",
   "execution_count": 19,
   "outputs": [
    {
     "data": {
      "text/plain": "[{'bb_length': 50,\n  'bb_std': 1.0,\n  'candles_config': [],\n  'candles_connector': 'binance_perpetual',\n  'candles_trading_pair': '1000SHIB-USDT',\n  'connector_name': 'binance_perpetual',\n  'controller_name': 'xtreet_bb',\n  'controller_type': 'directional_trading',\n  'cooldown_time': 0,\n  'dca_amounts_pct': [1, 1.2028886916703914],\n  'dca_spreads': [0.0, 0.011716159457667042],\n  'id': 'xtreet_bb_binance_perpetual_1m_1000SHIB-USDT_0.0_0.012_0.014_0.019_50_1.0_0.011716159457667042',\n  'interval': '1m',\n  'leverage': 20,\n  'manual_kill_switch': None,\n  'max_executors_per_side': 1,\n  'position_mode': 'HEDGE',\n  'stop_loss': 0.011716159457667042,\n  'take_profit': 0.014120851551860153,\n  'time_limit': 14400,\n  'total_amount_quote': 300.0,\n  'trading_pair': '1000SHIB-USDT'}]"
     },
     "execution_count": 19,
     "metadata": {},
     "output_type": "execute_result"
    }
   ],
   "source": [
    "client.get_all_controllers_config()"
   ],
   "metadata": {
    "collapsed": false,
    "ExecuteTime": {
     "end_time": "2024-08-17T05:36:48.688445Z",
     "start_time": "2024-08-17T05:36:48.669370Z"
    }
   }
  },
  {
   "cell_type": "code",
   "execution_count": 17,
   "outputs": [],
   "source": [
    "import yaml\n",
    "config_file = \"xtreet_bb_binance_perpetual_1m_1000SHIB-USDT_0.0_0.012_0.014_0.019_50_1.0_0.011716159457667042.yml\"\n",
    "full_path = root_path + \"/research_notebooks/xtreet_bb/configs/\" + config_file\n",
    "with open(full_path, 'r') as file:\n",
    "    config_data = yaml.safe_load(file)\n",
    "\n"
   ],
   "metadata": {
    "collapsed": false,
    "ExecuteTime": {
     "end_time": "2024-08-17T05:36:39.109818Z",
     "start_time": "2024-08-17T05:36:39.100985Z"
    }
   }
  },
  {
   "cell_type": "code",
   "execution_count": 18,
   "outputs": [
    {
     "data": {
      "text/plain": "{'message': 'Controller configuration uploaded successfully.'}"
     },
     "execution_count": 18,
     "metadata": {},
     "output_type": "execute_result"
    }
   ],
   "source": [
    "client.add_controller_config(config_data)\n"
   ],
   "metadata": {
    "collapsed": false,
    "ExecuteTime": {
     "end_time": "2024-08-17T05:36:39.826270Z",
     "start_time": "2024-08-17T05:36:39.815948Z"
    }
   }
  },
  {
   "cell_type": "code",
   "execution_count": null,
   "outputs": [],
   "source": [],
   "metadata": {
    "collapsed": false
   }
  }
 ],
 "metadata": {
  "kernelspec": {
   "display_name": "Python 3",
   "language": "python",
   "name": "python3"
  },
  "language_info": {
   "codemirror_mode": {
    "name": "ipython",
    "version": 2
   },
   "file_extension": ".py",
   "mimetype": "text/x-python",
   "name": "python",
   "nbconvert_exporter": "python",
   "pygments_lexer": "ipython2",
   "version": "2.7.6"
  }
 },
 "nbformat": 4,
 "nbformat_minor": 0
}
