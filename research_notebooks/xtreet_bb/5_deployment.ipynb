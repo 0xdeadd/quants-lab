{
 "cells": [
  {
   "cell_type": "code",
   "execution_count": 2,
   "metadata": {},
   "outputs": [],
   "source": [
    "import os\n",
    "import sys\n",
    "from decimal import Decimal\n",
    "\n",
    "import pandas as pd\n",
    "\n",
    "root_path = os.path.abspath(os.path.join(os.getcwd(), '../..'))\n",
    "sys.path.append(root_path)"
   ]
  },
  {
   "cell_type": "code",
   "execution_count": 4,
   "metadata": {
    "ExecuteTime": {
     "end_time": "2024-08-20T21:29:15.388191Z",
     "start_time": "2024-08-20T21:29:15.384874Z"
    },
    "collapsed": true
   },
   "outputs": [],
   "source": [
    "# This is necessary to recognize the modules\n",
    "import os\n",
    "import sys\n",
    "from services.backend_api_client import BackendAPIClient\n",
    "\n",
    "\n",
    "client = BackendAPIClient(host=\"localhost\")"
   ]
  },
  {
   "cell_type": "code",
   "execution_count": 5,
   "metadata": {
    "ExecuteTime": {
     "end_time": "2024-08-20T21:29:16.904004Z",
     "start_time": "2024-08-20T21:29:16.231099Z"
    },
    "collapsed": false
   },
   "outputs": [
    {
     "data": {
      "text/plain": [
       "{'status': 'success', 'data': {}}"
      ]
     },
     "execution_count": 5,
     "metadata": {},
     "output_type": "execute_result"
    }
   ],
   "source": [
    "client.get_active_bots_status()"
   ]
  },
  {
   "cell_type": "code",
   "execution_count": 6,
   "metadata": {
    "ExecuteTime": {
     "end_time": "2024-08-20T21:29:18.984065Z",
     "start_time": "2024-08-20T21:29:18.334128Z"
    },
    "collapsed": false
   },
   "outputs": [
    {
     "data": {
      "text/plain": [
       "[{'bb_length': 50,\n",
       "  'bb_std': 1.0,\n",
       "  'candles_config': [],\n",
       "  'candles_connector': 'binance_perpetual',\n",
       "  'candles_trading_pair': '1000SHIB-USDT',\n",
       "  'connector_name': 'binance_perpetual',\n",
       "  'controller_name': 'xtreet_bb',\n",
       "  'controller_type': 'directional_trading',\n",
       "  'cooldown_time': 0,\n",
       "  'dca_amounts_pct': [1, 1.2028886916703914],\n",
       "  'dca_spreads': [0.0, 0.011716159457667042],\n",
       "  'id': 'xtreet_bb_binance_perpetual_1m_1000SHIB-USDT_0.0_0.012_0.014_0.019_50_1.0_0.011716159457667042',\n",
       "  'interval': '1m',\n",
       "  'leverage': 20,\n",
       "  'manual_kill_switch': None,\n",
       "  'max_executors_per_side': 1,\n",
       "  'position_mode': 'HEDGE',\n",
       "  'stop_loss': 0.011716159457667042,\n",
       "  'take_profit': 0.014120851551860153,\n",
       "  'time_limit': 14400,\n",
       "  'total_amount_quote': 300.0,\n",
       "  'trading_pair': '1000SHIB-USDT'}]"
      ]
     },
     "execution_count": 6,
     "metadata": {},
     "output_type": "execute_result"
    }
   ],
   "source": [
    "client.get_all_controllers_config()"
   ]
  },
  {
   "cell_type": "code",
   "execution_count": 9,
   "metadata": {
    "ExecuteTime": {
     "end_time": "2024-08-20T21:30:07.718730Z",
     "start_time": "2024-08-20T21:30:07.712451Z"
    },
    "collapsed": false
   },
   "outputs": [],
   "source": [
    "import yaml\n",
    "config_file = \"xtreet_bb_binance_perpetual_1m_ADA-USDT_bb50_1.0_sl0.3_tp0.2bep0.00731609911668607.yml\"\n",
    "full_path = root_path + \"/research_notebooks/xtreet_bb/configs/\" + config_file\n",
    "with open(full_path, 'r') as file:\n",
    "    config_data = yaml.safe_load(file)"
   ]
  },
  {
   "cell_type": "code",
   "execution_count": 8,
   "metadata": {
    "ExecuteTime": {
     "end_time": "2024-08-20T21:30:09.561093Z",
     "start_time": "2024-08-20T21:30:08.888157Z"
    },
    "collapsed": false
   },
   "outputs": [
    {
     "data": {
      "text/plain": [
       "{'message': 'Controller configuration uploaded successfully.'}"
      ]
     },
     "execution_count": 8,
     "metadata": {},
     "output_type": "execute_result"
    }
   ],
   "source": [
    "client.add_controller_config(config_data)"
   ]
  },
  {
   "cell_type": "code",
   "execution_count": 9,
   "metadata": {
    "ExecuteTime": {
     "end_time": "2024-08-20T21:31:37.109468Z",
     "start_time": "2024-08-20T21:31:35.373850Z"
    },
    "collapsed": false
   },
   "outputs": [],
   "source": [
    "client.deploy_script_with_controllers(\n",
    "    bot_name=\"bot_office_hours\",\n",
    "    controller_configs=[\"shupoalgo.yml\"],\n",
    ")"
   ]
  }
 ],
 "metadata": {
  "kernelspec": {
   "display_name": "Python 3",
   "language": "python",
   "name": "python3"
  },
  "language_info": {
   "codemirror_mode": {
    "name": "ipython",
    "version": 3
   },
   "file_extension": ".py",
   "mimetype": "text/x-python",
   "name": "python",
   "nbconvert_exporter": "python",
   "pygments_lexer": "ipython3",
   "version": "3.10.14"
  }
 },
 "nbformat": 4,
 "nbformat_minor": 0
}
