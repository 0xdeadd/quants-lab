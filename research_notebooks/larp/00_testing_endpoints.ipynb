{
 "cells": [
  {
   "cell_type": "code",
   "execution_count": 1,
   "metadata": {
    "ExecuteTime": {
     "end_time": "2024-10-11T13:57:15.149022Z",
     "start_time": "2024-10-11T13:57:15.146286Z"
    }
   },
   "outputs": [],
   "source": [
    "# This is necessary to recognize the modules\n",
    "import os\n",
    "import sys\n",
    "from decimal import Decimal\n",
    "import warnings\n",
    "\n",
    "warnings.filterwarnings(\"ignore\")\n",
    "\n",
    "root_path = os.path.abspath(os.path.join(os.getcwd(), '../..'))\n",
    "sys.path.append(root_path)"
   ]
  },
  {
   "cell_type": "code",
   "execution_count": 2,
   "metadata": {
    "ExecuteTime": {
     "end_time": "2024-10-11T13:57:15.495085Z",
     "start_time": "2024-10-11T13:57:15.304427Z"
    }
   },
   "outputs": [
    {
     "data": {
      "text/plain": "[{'address': 'So11111111111111111111111111111111111111112',\n  'chainId': 101,\n  'name': 'Wrapped Solana',\n  'symbol': 'SOL',\n  'decimals': 9},\n {'address': 'BRjpCHtyQLNCo8gqRUr8jtdAj5AjPYQaoqbvcZiHok1k',\n  'chainId': 103,\n  'name': 'devUSDC',\n  'symbol': 'devUSDC',\n  'decimals': 6},\n {'address': 'H8UekPGwePSmQ3ttuYGPU1szyFfjZR4N53rymSFwpLPm',\n  'chainId': 103,\n  'name': 'devUSDT',\n  'symbol': 'devUSDT',\n  'decimals': 6},\n {'address': 'Jd4M8bfJG3sAkd82RsGWyEXoaBXQP7njFzBwEaCTuDa',\n  'chainId': 103,\n  'name': 'devSAMO',\n  'symbol': 'devSAMO',\n  'decimals': 9},\n {'address': 'Afn8YB1p4NsoZeS5XJBZ18LTfEy5NFPwN46wapZcBQr6',\n  'chainId': 103,\n  'name': 'devTMAC',\n  'symbol': 'devTMAC',\n  'decimals': 6}]"
     },
     "execution_count": 2,
     "metadata": {},
     "output_type": "execute_result"
    }
   ],
   "source": [
    "from core.services.larp_client import LarpClient\n",
    "\n",
    "client = LarpClient()\n",
    "\n",
    "await client.get_tokens()"
   ]
  },
  {
   "cell_type": "code",
   "execution_count": 3,
   "metadata": {
    "ExecuteTime": {
     "end_time": "2024-10-11T13:57:16.567687Z",
     "start_time": "2024-10-11T13:57:16.038945Z"
    }
   },
   "outputs": [
    {
     "data": {
      "text/plain": "[{'address': 'BRjpCHtyQLNCo8gqRUr8jtdAj5AjPYQaoqbvcZiHok1k',\n  'symbol': 'devUSDC',\n  'amount': '14.999998'}]"
     },
     "execution_count": 3,
     "metadata": {},
     "output_type": "execute_result"
    }
   ],
   "source": [
    "# Test get_balance\n",
    "await client.get_balance(symbols=[\"devUSDC\"])"
   ]
  },
  {
   "cell_type": "code",
   "execution_count": 4,
   "metadata": {
    "ExecuteTime": {
     "end_time": "2024-10-11T13:57:17.487228Z",
     "start_time": "2024-10-11T13:57:17.142129Z"
    }
   },
   "outputs": [
    {
     "data": {
      "text/plain": "[]"
     },
     "execution_count": 4,
     "metadata": {},
     "output_type": "execute_result"
    }
   ],
   "source": [
    "await client.get_orca_positions_owned()"
   ]
  },
  {
   "cell_type": "code",
   "execution_count": 5,
   "outputs": [
    {
     "data": {
      "text/plain": "[{'positionBundleAddress': 'ChohgaCmAFPrrtPtvKTFernJmA7jTBGMGCcmVQFYNrn3',\n  'positionBitmapCount': 14},\n {'positionBundleAddress': 'G3sXXZxYNgs8N3j5aCnNjjDRW5MJtMX7ra915ENn1Bo9',\n  'positionBitmapCount': 13},\n {'positionBundleAddress': '8LuBpAo5rkxvm73fMEjsBp6C8iH1d9zUTVMgcone4qRm',\n  'positionBitmapCount': 2},\n {'positionBundleAddress': '7U4G6dsreagkCQRtKS4ouRydGuQvALftB4BwJa29aouw',\n  'positionBitmapCount': 2},\n {'positionBundleAddress': '8iNBqFSUEFHdpcpvn8eLxngU6T2sqf1azvUbgjQ3Pzob',\n  'positionBitmapCount': 2},\n {'positionBundleAddress': 'GE24a3iEq3nwLsA5Ku6bgPCKF5C9DavMv34DQhWScnh3',\n  'positionBitmapCount': 2},\n {'positionBundleAddress': 'CMbzptDmmRkQvzWqCmeT7cUG9TG9bPG4QFxDSFgkEjeh',\n  'positionBitmapCount': 1},\n {'positionBundleAddress': 'G7XSGGxfXfsCz93sarafo9wAiySUQDbGCaCdzGGF2K7t',\n  'positionBitmapCount': 0},\n {'positionBundleAddress': '4xty4ng8U492hS9ZPL2Erw2fAjnCzmXxjHzbfZTu5LpX',\n  'positionBitmapCount': 0},\n {'positionBundleAddress': 'Xs6yKd9KE2PkUa1LguPq9nGtSyVq4fD4BjvoU9mRmcK',\n  'positionBitmapCount': 0},\n {'positionBundleAddress': 'HXRqUjfKUi3pJL625kZp8txi73LQY68FXZLnHTNV7iqd',\n  'positionBitmapCount': 0}]"
     },
     "execution_count": 5,
     "metadata": {},
     "output_type": "execute_result"
    }
   ],
   "source": [
    "await client.get_orca_bundles_owned()"
   ],
   "metadata": {
    "collapsed": false,
    "ExecuteTime": {
     "end_time": "2024-10-11T13:57:28.280687Z",
     "start_time": "2024-10-11T13:57:26.706998Z"
    }
   }
  },
  {
   "cell_type": "code",
   "execution_count": 8,
   "outputs": [
    {
     "data": {
      "text/plain": "[{'position': 'ARTkzPN8ZxgxXhxVBzsKXYQbegLKMUwrTkeR57EMA1F8',\n  'whirlpoolAddress': 'EgxU92G34jw6QDG9RuTX9StFg1PmHuDqkRKAE5kVEiZ4',\n  'whirlpoolPrice': '0.010011',\n  'tokenA': 'Jd4M8bfJG3sAkd82RsGWyEXoaBXQP7njFzBwEaCTuDa',\n  'tokenB': 'BRjpCHtyQLNCo8gqRUr8jtdAj5AjPYQaoqbvcZiHok1k',\n  'liquidity': '0',\n  'lower': {'tickIndex': -122048, 'price': '0.005009'},\n  'upper': {'tickIndex': -121536, 'price': '0.005272'},\n  'amountA': '0',\n  'amountB': '0'},\n {'position': '5T7nY7r4NRLMqUWmiksodw2c2o9wyyFuGfmPnr2tZPkm',\n  'whirlpoolAddress': 'EgxU92G34jw6QDG9RuTX9StFg1PmHuDqkRKAE5kVEiZ4',\n  'whirlpoolPrice': '0.010011',\n  'tokenA': 'Jd4M8bfJG3sAkd82RsGWyEXoaBXQP7njFzBwEaCTuDa',\n  'tokenB': 'BRjpCHtyQLNCo8gqRUr8jtdAj5AjPYQaoqbvcZiHok1k',\n  'liquidity': '0',\n  'lower': {'tickIndex': -121536, 'price': '0.005272'},\n  'upper': {'tickIndex': -121088, 'price': '0.005514'},\n  'amountA': '0',\n  'amountB': '0'},\n {'position': '9DZgwV4FojTkfHTm8CLbmGKgUukqJVqaE7CisHTidVnA',\n  'whirlpoolAddress': 'EgxU92G34jw6QDG9RuTX9StFg1PmHuDqkRKAE5kVEiZ4',\n  'whirlpoolPrice': '0.010011',\n  'tokenA': 'Jd4M8bfJG3sAkd82RsGWyEXoaBXQP7njFzBwEaCTuDa',\n  'tokenB': 'BRjpCHtyQLNCo8gqRUr8jtdAj5AjPYQaoqbvcZiHok1k',\n  'liquidity': '0',\n  'lower': {'tickIndex': -121088, 'price': '0.005514'},\n  'upper': {'tickIndex': -120640, 'price': '0.005766'},\n  'amountA': '0',\n  'amountB': '0'},\n {'position': 'F8pVGrEEaiGDL7vcnsGhKWEo4w5hXVEubtieG2q3vATg',\n  'whirlpoolAddress': 'EgxU92G34jw6QDG9RuTX9StFg1PmHuDqkRKAE5kVEiZ4',\n  'whirlpoolPrice': '0.010011',\n  'tokenA': 'Jd4M8bfJG3sAkd82RsGWyEXoaBXQP7njFzBwEaCTuDa',\n  'tokenB': 'BRjpCHtyQLNCo8gqRUr8jtdAj5AjPYQaoqbvcZiHok1k',\n  'liquidity': '0',\n  'lower': {'tickIndex': -120640, 'price': '0.005766'},\n  'upper': {'tickIndex': -120192, 'price': '0.006030'},\n  'amountA': '0',\n  'amountB': '0'},\n {'position': 'DSQNrfyEc5Kwk15wWWsGUeyEr56yWvpqtcKar35NjTMx',\n  'whirlpoolAddress': 'EgxU92G34jw6QDG9RuTX9StFg1PmHuDqkRKAE5kVEiZ4',\n  'whirlpoolPrice': '0.010011',\n  'tokenA': 'Jd4M8bfJG3sAkd82RsGWyEXoaBXQP7njFzBwEaCTuDa',\n  'tokenB': 'BRjpCHtyQLNCo8gqRUr8jtdAj5AjPYQaoqbvcZiHok1k',\n  'liquidity': '0',\n  'lower': {'tickIndex': -120192, 'price': '0.006030'},\n  'upper': {'tickIndex': -119808, 'price': '0.006267'},\n  'amountA': '0',\n  'amountB': '0'},\n {'position': 'CxEjG1kJP3sCG2DqDzhZhUbgwQPFbfYuM7R7cBnawvaY',\n  'whirlpoolAddress': 'EgxU92G34jw6QDG9RuTX9StFg1PmHuDqkRKAE5kVEiZ4',\n  'whirlpoolPrice': '0.010011',\n  'tokenA': 'Jd4M8bfJG3sAkd82RsGWyEXoaBXQP7njFzBwEaCTuDa',\n  'tokenB': 'BRjpCHtyQLNCo8gqRUr8jtdAj5AjPYQaoqbvcZiHok1k',\n  'liquidity': '0',\n  'lower': {'tickIndex': -119808, 'price': '0.006267'},\n  'upper': {'tickIndex': -119424, 'price': '0.006512'},\n  'amountA': '0',\n  'amountB': '0'},\n {'position': '4feMLusrwd8wHsD2tqaGkshoMJ9AwhNtvxzfayhByzkE',\n  'whirlpoolAddress': 'EgxU92G34jw6QDG9RuTX9StFg1PmHuDqkRKAE5kVEiZ4',\n  'whirlpoolPrice': '0.010011',\n  'tokenA': 'Jd4M8bfJG3sAkd82RsGWyEXoaBXQP7njFzBwEaCTuDa',\n  'tokenB': 'BRjpCHtyQLNCo8gqRUr8jtdAj5AjPYQaoqbvcZiHok1k',\n  'liquidity': '0',\n  'lower': {'tickIndex': -119424, 'price': '0.006512'},\n  'upper': {'tickIndex': -119040, 'price': '0.006767'},\n  'amountA': '0',\n  'amountB': '0'},\n {'position': 'DZugu7jABrU9p98T5nV9qFSrJQW4zbjJjtgcyNxC2Qoj',\n  'whirlpoolAddress': 'EgxU92G34jw6QDG9RuTX9StFg1PmHuDqkRKAE5kVEiZ4',\n  'whirlpoolPrice': '0.010011',\n  'tokenA': 'Jd4M8bfJG3sAkd82RsGWyEXoaBXQP7njFzBwEaCTuDa',\n  'tokenB': 'BRjpCHtyQLNCo8gqRUr8jtdAj5AjPYQaoqbvcZiHok1k',\n  'liquidity': '0',\n  'lower': {'tickIndex': -119040, 'price': '0.006767'},\n  'upper': {'tickIndex': -118656, 'price': '0.007032'},\n  'amountA': '0',\n  'amountB': '0'},\n {'position': 'HUwfqrhiXkWxjVWqSfDDr4xkw7df3eFqLwaMhYEALyyv',\n  'whirlpoolAddress': 'EgxU92G34jw6QDG9RuTX9StFg1PmHuDqkRKAE5kVEiZ4',\n  'whirlpoolPrice': '0.010011',\n  'tokenA': 'Jd4M8bfJG3sAkd82RsGWyEXoaBXQP7njFzBwEaCTuDa',\n  'tokenB': 'BRjpCHtyQLNCo8gqRUr8jtdAj5AjPYQaoqbvcZiHok1k',\n  'liquidity': '0',\n  'lower': {'tickIndex': -118656, 'price': '0.007032'},\n  'upper': {'tickIndex': -118336, 'price': '0.007260'},\n  'amountA': '0',\n  'amountB': '0'},\n {'position': 'HJGtxhQZ4F73j4RbG8h7Jnv3BdnTTDQjPy5gWqFMtWB4',\n  'whirlpoolAddress': 'EgxU92G34jw6QDG9RuTX9StFg1PmHuDqkRKAE5kVEiZ4',\n  'whirlpoolPrice': '0.010011',\n  'tokenA': 'Jd4M8bfJG3sAkd82RsGWyEXoaBXQP7njFzBwEaCTuDa',\n  'tokenB': 'BRjpCHtyQLNCo8gqRUr8jtdAj5AjPYQaoqbvcZiHok1k',\n  'liquidity': '0',\n  'lower': {'tickIndex': -118336, 'price': '0.007260'},\n  'upper': {'tickIndex': -117952, 'price': '0.007545'},\n  'amountA': '0',\n  'amountB': '0'},\n {'position': '26xWkue38s1wAdehT6XhhucGgRCYheGP6cjGEtccaDZ4',\n  'whirlpoolAddress': 'EgxU92G34jw6QDG9RuTX9StFg1PmHuDqkRKAE5kVEiZ4',\n  'whirlpoolPrice': '0.010011',\n  'tokenA': 'Jd4M8bfJG3sAkd82RsGWyEXoaBXQP7njFzBwEaCTuDa',\n  'tokenB': 'BRjpCHtyQLNCo8gqRUr8jtdAj5AjPYQaoqbvcZiHok1k',\n  'liquidity': '0',\n  'lower': {'tickIndex': -117952, 'price': '0.007545'},\n  'upper': {'tickIndex': -117632, 'price': '0.007790'},\n  'amountA': '0',\n  'amountB': '0'},\n {'position': 'ADnd73EczC6hCnsQmA4YQ5H5Q8mhtFxEDrbNugntbaLL',\n  'whirlpoolAddress': 'EgxU92G34jw6QDG9RuTX9StFg1PmHuDqkRKAE5kVEiZ4',\n  'whirlpoolPrice': '0.010011',\n  'tokenA': 'Jd4M8bfJG3sAkd82RsGWyEXoaBXQP7njFzBwEaCTuDa',\n  'tokenB': 'BRjpCHtyQLNCo8gqRUr8jtdAj5AjPYQaoqbvcZiHok1k',\n  'liquidity': '0',\n  'lower': {'tickIndex': -117632, 'price': '0.007790'},\n  'upper': {'tickIndex': -117312, 'price': '0.008043'},\n  'amountA': '0',\n  'amountB': '0'},\n {'position': '9bHW8Nhye5z1UaUDngXyWifesbUuHMLE7hXAypvwcCCV',\n  'whirlpoolAddress': 'EgxU92G34jw6QDG9RuTX9StFg1PmHuDqkRKAE5kVEiZ4',\n  'whirlpoolPrice': '0.010011',\n  'tokenA': 'Jd4M8bfJG3sAkd82RsGWyEXoaBXQP7njFzBwEaCTuDa',\n  'tokenB': 'BRjpCHtyQLNCo8gqRUr8jtdAj5AjPYQaoqbvcZiHok1k',\n  'liquidity': '0',\n  'lower': {'tickIndex': -117312, 'price': '0.008043'},\n  'upper': {'tickIndex': -117056, 'price': '0.008252'},\n  'amountA': '0',\n  'amountB': '0'},\n {'position': 'BgE5xErFA8AVAm9vmGN12n3xX86xmXAFFLCc3Mvmjscb',\n  'whirlpoolAddress': 'EgxU92G34jw6QDG9RuTX9StFg1PmHuDqkRKAE5kVEiZ4',\n  'whirlpoolPrice': '0.010011',\n  'tokenA': 'Jd4M8bfJG3sAkd82RsGWyEXoaBXQP7njFzBwEaCTuDa',\n  'tokenB': 'BRjpCHtyQLNCo8gqRUr8jtdAj5AjPYQaoqbvcZiHok1k',\n  'liquidity': '0',\n  'lower': {'tickIndex': -117056, 'price': '0.008252'},\n  'upper': {'tickIndex': -116736, 'price': '0.008520'},\n  'amountA': '0',\n  'amountB': '0'},\n {'position': '82eF5Fd65xC2k4o3NxCzSxxAiyUfN18JpuVQxx5tDxRx',\n  'whirlpoolAddress': 'EgxU92G34jw6QDG9RuTX9StFg1PmHuDqkRKAE5kVEiZ4',\n  'whirlpoolPrice': '0.010011',\n  'tokenA': 'Jd4M8bfJG3sAkd82RsGWyEXoaBXQP7njFzBwEaCTuDa',\n  'tokenB': 'BRjpCHtyQLNCo8gqRUr8jtdAj5AjPYQaoqbvcZiHok1k',\n  'liquidity': '0',\n  'lower': {'tickIndex': -116736, 'price': '0.008520'},\n  'upper': {'tickIndex': -116416, 'price': '0.008797'},\n  'amountA': '0',\n  'amountB': '0'},\n {'position': 'E7RyQ9AGJQD8y2xABJ1NHRp9U56dGqndfH49yZTmrGPj',\n  'whirlpoolAddress': 'EgxU92G34jw6QDG9RuTX9StFg1PmHuDqkRKAE5kVEiZ4',\n  'whirlpoolPrice': '0.010011',\n  'tokenA': 'Jd4M8bfJG3sAkd82RsGWyEXoaBXQP7njFzBwEaCTuDa',\n  'tokenB': 'BRjpCHtyQLNCo8gqRUr8jtdAj5AjPYQaoqbvcZiHok1k',\n  'liquidity': '0',\n  'lower': {'tickIndex': -116416, 'price': '0.008797'},\n  'upper': {'tickIndex': -116160, 'price': '0.009025'},\n  'amountA': '0',\n  'amountB': '0'},\n {'position': '9Ah8vvSwyrht5t8B7mE9b9BzjoKigYWBV2b8eU2tvCr4',\n  'whirlpoolAddress': 'EgxU92G34jw6QDG9RuTX9StFg1PmHuDqkRKAE5kVEiZ4',\n  'whirlpoolPrice': '0.010011',\n  'tokenA': 'Jd4M8bfJG3sAkd82RsGWyEXoaBXQP7njFzBwEaCTuDa',\n  'tokenB': 'BRjpCHtyQLNCo8gqRUr8jtdAj5AjPYQaoqbvcZiHok1k',\n  'liquidity': '0',\n  'lower': {'tickIndex': -116160, 'price': '0.009025'},\n  'upper': {'tickIndex': -115904, 'price': '0.009259'},\n  'amountA': '0',\n  'amountB': '0'},\n {'position': 'EoUYaT49ZscFrFYV5eH5fjjaJZoBMupLpjGRsKW9xAkj',\n  'whirlpoolAddress': 'EgxU92G34jw6QDG9RuTX9StFg1PmHuDqkRKAE5kVEiZ4',\n  'whirlpoolPrice': '0.010011',\n  'tokenA': 'Jd4M8bfJG3sAkd82RsGWyEXoaBXQP7njFzBwEaCTuDa',\n  'tokenB': 'BRjpCHtyQLNCo8gqRUr8jtdAj5AjPYQaoqbvcZiHok1k',\n  'liquidity': '0',\n  'lower': {'tickIndex': -115904, 'price': '0.009259'},\n  'upper': {'tickIndex': -115648, 'price': '0.009499'},\n  'amountA': '0',\n  'amountB': '0'},\n {'position': 'A21G44fJzc8RGedkwtKHJhA5pLJb9TyWUB4WXi3fbrJR',\n  'whirlpoolAddress': 'EgxU92G34jw6QDG9RuTX9StFg1PmHuDqkRKAE5kVEiZ4',\n  'whirlpoolPrice': '0.010011',\n  'tokenA': 'Jd4M8bfJG3sAkd82RsGWyEXoaBXQP7njFzBwEaCTuDa',\n  'tokenB': 'BRjpCHtyQLNCo8gqRUr8jtdAj5AjPYQaoqbvcZiHok1k',\n  'liquidity': '0',\n  'lower': {'tickIndex': -115648, 'price': '0.009499'},\n  'upper': {'tickIndex': -115328, 'price': '0.009808'},\n  'amountA': '0',\n  'amountB': '0'},\n {'position': '4BGeut2XxeFwkcExnJcXBu7iECnvZ1gzNW4jGhAS9U5o',\n  'whirlpoolAddress': 'EgxU92G34jw6QDG9RuTX9StFg1PmHuDqkRKAE5kVEiZ4',\n  'whirlpoolPrice': '0.010011',\n  'tokenA': 'Jd4M8bfJG3sAkd82RsGWyEXoaBXQP7njFzBwEaCTuDa',\n  'tokenB': 'BRjpCHtyQLNCo8gqRUr8jtdAj5AjPYQaoqbvcZiHok1k',\n  'liquidity': '0',\n  'lower': {'tickIndex': -115328, 'price': '0.009808'},\n  'upper': {'tickIndex': -115136, 'price': '0.009999'},\n  'amountA': '0',\n  'amountB': '0'},\n {'position': '7V4Er9rZkN4BPcigLyNvEkTBcXkS11NgxhFA7A2FzDAd',\n  'whirlpoolAddress': 'EgxU92G34jw6QDG9RuTX9StFg1PmHuDqkRKAE5kVEiZ4',\n  'whirlpoolPrice': '0.010011',\n  'tokenA': 'Jd4M8bfJG3sAkd82RsGWyEXoaBXQP7njFzBwEaCTuDa',\n  'tokenB': 'BRjpCHtyQLNCo8gqRUr8jtdAj5AjPYQaoqbvcZiHok1k',\n  'liquidity': '0',\n  'lower': {'tickIndex': -115136, 'price': '0.009999'},\n  'upper': {'tickIndex': -114880, 'price': '0.010258'},\n  'amountA': '0',\n  'amountB': '0'},\n {'position': 'De4GPihUEqTCToKwn8oNwRsHRc1bxkv9xQsm6aVFemBd',\n  'whirlpoolAddress': 'EgxU92G34jw6QDG9RuTX9StFg1PmHuDqkRKAE5kVEiZ4',\n  'whirlpoolPrice': '0.010011',\n  'tokenA': 'Jd4M8bfJG3sAkd82RsGWyEXoaBXQP7njFzBwEaCTuDa',\n  'tokenB': 'BRjpCHtyQLNCo8gqRUr8jtdAj5AjPYQaoqbvcZiHok1k',\n  'liquidity': '0',\n  'lower': {'tickIndex': -114880, 'price': '0.010258'},\n  'upper': {'tickIndex': -114624, 'price': '0.010524'},\n  'amountA': '0',\n  'amountB': '0'},\n {'position': 'CUMKCQHVefWnaeTUXbQmMubh9faom1KyVf1dfNWvqdZ7',\n  'whirlpoolAddress': 'EgxU92G34jw6QDG9RuTX9StFg1PmHuDqkRKAE5kVEiZ4',\n  'whirlpoolPrice': '0.010011',\n  'tokenA': 'Jd4M8bfJG3sAkd82RsGWyEXoaBXQP7njFzBwEaCTuDa',\n  'tokenB': 'BRjpCHtyQLNCo8gqRUr8jtdAj5AjPYQaoqbvcZiHok1k',\n  'liquidity': '0',\n  'lower': {'tickIndex': -114624, 'price': '0.010524'},\n  'upper': {'tickIndex': -114368, 'price': '0.010797'},\n  'amountA': '0',\n  'amountB': '0'},\n {'position': '6cFS2KWo5Qz2wvCxUwXceNJM8LGyg9fiCbuFdXTfEdgi',\n  'whirlpoolAddress': 'EgxU92G34jw6QDG9RuTX9StFg1PmHuDqkRKAE5kVEiZ4',\n  'whirlpoolPrice': '0.010011',\n  'tokenA': 'Jd4M8bfJG3sAkd82RsGWyEXoaBXQP7njFzBwEaCTuDa',\n  'tokenB': 'BRjpCHtyQLNCo8gqRUr8jtdAj5AjPYQaoqbvcZiHok1k',\n  'liquidity': '0',\n  'lower': {'tickIndex': -114368, 'price': '0.010797'},\n  'upper': {'tickIndex': -114176, 'price': '0.011006'},\n  'amountA': '0',\n  'amountB': '0'},\n {'position': 'xzzwzLfy8Ns4Sn6u6fHA6T8m9ws6BjVqwAHQbxN4DNz',\n  'whirlpoolAddress': 'EgxU92G34jw6QDG9RuTX9StFg1PmHuDqkRKAE5kVEiZ4',\n  'whirlpoolPrice': '0.010011',\n  'tokenA': 'Jd4M8bfJG3sAkd82RsGWyEXoaBXQP7njFzBwEaCTuDa',\n  'tokenB': 'BRjpCHtyQLNCo8gqRUr8jtdAj5AjPYQaoqbvcZiHok1k',\n  'liquidity': '0',\n  'lower': {'tickIndex': -114176, 'price': '0.011006'},\n  'upper': {'tickIndex': -113920, 'price': '0.011291'},\n  'amountA': '0',\n  'amountB': '0'},\n {'position': '8QVz1bJj7Go4jUT1z8ag8Kg2otvt1qE6T8RbkD4ZL1ui',\n  'whirlpoolAddress': 'EgxU92G34jw6QDG9RuTX9StFg1PmHuDqkRKAE5kVEiZ4',\n  'whirlpoolPrice': '0.010011',\n  'tokenA': 'Jd4M8bfJG3sAkd82RsGWyEXoaBXQP7njFzBwEaCTuDa',\n  'tokenB': 'BRjpCHtyQLNCo8gqRUr8jtdAj5AjPYQaoqbvcZiHok1k',\n  'liquidity': '0',\n  'lower': {'tickIndex': -113920, 'price': '0.011291'},\n  'upper': {'tickIndex': -113728, 'price': '0.011510'},\n  'amountA': '0',\n  'amountB': '0'},\n {'position': 'GiLJZKVs29XnAJ475CUgd8kHT5TvTMFftbnjNgFGZwst',\n  'whirlpoolAddress': 'EgxU92G34jw6QDG9RuTX9StFg1PmHuDqkRKAE5kVEiZ4',\n  'whirlpoolPrice': '0.010011',\n  'tokenA': 'Jd4M8bfJG3sAkd82RsGWyEXoaBXQP7njFzBwEaCTuDa',\n  'tokenB': 'BRjpCHtyQLNCo8gqRUr8jtdAj5AjPYQaoqbvcZiHok1k',\n  'liquidity': '0',\n  'lower': {'tickIndex': -113728, 'price': '0.011510'},\n  'upper': {'tickIndex': -113472, 'price': '0.011809'},\n  'amountA': '0',\n  'amountB': '0'},\n {'position': 'J47i9ZqnS1x9My3orXVj2UcSPtnSrVDpL7sJZ3q16xFc',\n  'whirlpoolAddress': 'EgxU92G34jw6QDG9RuTX9StFg1PmHuDqkRKAE5kVEiZ4',\n  'whirlpoolPrice': '0.010011',\n  'tokenA': 'Jd4M8bfJG3sAkd82RsGWyEXoaBXQP7njFzBwEaCTuDa',\n  'tokenB': 'BRjpCHtyQLNCo8gqRUr8jtdAj5AjPYQaoqbvcZiHok1k',\n  'liquidity': '0',\n  'lower': {'tickIndex': -113472, 'price': '0.011809'},\n  'upper': {'tickIndex': -113280, 'price': '0.012038'},\n  'amountA': '0',\n  'amountB': '0'},\n {'position': 'CZ3FysZWXjh9pMPB2g52B4m1DvDhM1c9dbrBiHh9mH4H',\n  'whirlpoolAddress': 'EgxU92G34jw6QDG9RuTX9StFg1PmHuDqkRKAE5kVEiZ4',\n  'whirlpoolPrice': '0.010011',\n  'tokenA': 'Jd4M8bfJG3sAkd82RsGWyEXoaBXQP7njFzBwEaCTuDa',\n  'tokenB': 'BRjpCHtyQLNCo8gqRUr8jtdAj5AjPYQaoqbvcZiHok1k',\n  'liquidity': '0',\n  'lower': {'tickIndex': -113280, 'price': '0.012038'},\n  'upper': {'tickIndex': -113088, 'price': '0.012271'},\n  'amountA': '0',\n  'amountB': '0'},\n {'position': 'J7KJrmj7iN8BWy1FFfrvd11SdJM6hpYYuqc8FKAScnnB',\n  'whirlpoolAddress': 'EgxU92G34jw6QDG9RuTX9StFg1PmHuDqkRKAE5kVEiZ4',\n  'whirlpoolPrice': '0.010011',\n  'tokenA': 'Jd4M8bfJG3sAkd82RsGWyEXoaBXQP7njFzBwEaCTuDa',\n  'tokenB': 'BRjpCHtyQLNCo8gqRUr8jtdAj5AjPYQaoqbvcZiHok1k',\n  'liquidity': '0',\n  'lower': {'tickIndex': -113088, 'price': '0.012271'},\n  'upper': {'tickIndex': -112896, 'price': '0.012509'},\n  'amountA': '0',\n  'amountB': '0'},\n {'position': '7obS888humFekrpiaTmwT5DZAEzvuKpj5TB73EfNo6DK',\n  'whirlpoolAddress': 'EgxU92G34jw6QDG9RuTX9StFg1PmHuDqkRKAE5kVEiZ4',\n  'whirlpoolPrice': '0.010011',\n  'tokenA': 'Jd4M8bfJG3sAkd82RsGWyEXoaBXQP7njFzBwEaCTuDa',\n  'tokenB': 'BRjpCHtyQLNCo8gqRUr8jtdAj5AjPYQaoqbvcZiHok1k',\n  'liquidity': '0',\n  'lower': {'tickIndex': -112896, 'price': '0.012509'},\n  'upper': {'tickIndex': -112704, 'price': '0.012751'},\n  'amountA': '0',\n  'amountB': '0'},\n {'position': 'B7q83rR1cR9PjxCoKTVYyiVvvR2Z6PsdpRXHQwVnzey',\n  'whirlpoolAddress': 'EgxU92G34jw6QDG9RuTX9StFg1PmHuDqkRKAE5kVEiZ4',\n  'whirlpoolPrice': '0.010011',\n  'tokenA': 'Jd4M8bfJG3sAkd82RsGWyEXoaBXQP7njFzBwEaCTuDa',\n  'tokenB': 'BRjpCHtyQLNCo8gqRUr8jtdAj5AjPYQaoqbvcZiHok1k',\n  'liquidity': '0',\n  'lower': {'tickIndex': -112704, 'price': '0.012751'},\n  'upper': {'tickIndex': -112512, 'price': '0.012999'},\n  'amountA': '0',\n  'amountB': '0'},\n {'position': '5Kt78PAgRGb3k9ZqNMpV9hynmxDMk49h9owkZeNBd8Wf',\n  'whirlpoolAddress': 'EgxU92G34jw6QDG9RuTX9StFg1PmHuDqkRKAE5kVEiZ4',\n  'whirlpoolPrice': '0.010011',\n  'tokenA': 'Jd4M8bfJG3sAkd82RsGWyEXoaBXQP7njFzBwEaCTuDa',\n  'tokenB': 'BRjpCHtyQLNCo8gqRUr8jtdAj5AjPYQaoqbvcZiHok1k',\n  'liquidity': '0',\n  'lower': {'tickIndex': -112512, 'price': '0.012999'},\n  'upper': {'tickIndex': -112320, 'price': '0.013250'},\n  'amountA': '0',\n  'amountB': '0'},\n {'position': 'ATJDC16yRL588GSamQJxu3kSGWcuSHteEpY3ZPWDc7Rt',\n  'whirlpoolAddress': 'EgxU92G34jw6QDG9RuTX9StFg1PmHuDqkRKAE5kVEiZ4',\n  'whirlpoolPrice': '0.010011',\n  'tokenA': 'Jd4M8bfJG3sAkd82RsGWyEXoaBXQP7njFzBwEaCTuDa',\n  'tokenB': 'BRjpCHtyQLNCo8gqRUr8jtdAj5AjPYQaoqbvcZiHok1k',\n  'liquidity': '0',\n  'lower': {'tickIndex': -112320, 'price': '0.013250'},\n  'upper': {'tickIndex': -112128, 'price': '0.013507'},\n  'amountA': '0',\n  'amountB': '0'},\n {'position': '65ABj4pXih3QaScM9GATfUg8ydMYx2LRCfqHG7KwA2hZ',\n  'whirlpoolAddress': 'EgxU92G34jw6QDG9RuTX9StFg1PmHuDqkRKAE5kVEiZ4',\n  'whirlpoolPrice': '0.010011',\n  'tokenA': 'Jd4M8bfJG3sAkd82RsGWyEXoaBXQP7njFzBwEaCTuDa',\n  'tokenB': 'BRjpCHtyQLNCo8gqRUr8jtdAj5AjPYQaoqbvcZiHok1k',\n  'liquidity': '0',\n  'lower': {'tickIndex': -112128, 'price': '0.013507'},\n  'upper': {'tickIndex': -111936, 'price': '0.013769'},\n  'amountA': '0',\n  'amountB': '0'},\n {'position': 'EYjQCKNEHgJRpom6m9fhWUooPHFRwuh6KfoyobyQBFDz',\n  'whirlpoolAddress': 'EgxU92G34jw6QDG9RuTX9StFg1PmHuDqkRKAE5kVEiZ4',\n  'whirlpoolPrice': '0.010011',\n  'tokenA': 'Jd4M8bfJG3sAkd82RsGWyEXoaBXQP7njFzBwEaCTuDa',\n  'tokenB': 'BRjpCHtyQLNCo8gqRUr8jtdAj5AjPYQaoqbvcZiHok1k',\n  'liquidity': '0',\n  'lower': {'tickIndex': -111936, 'price': '0.013769'},\n  'upper': {'tickIndex': -111744, 'price': '0.014036'},\n  'amountA': '0',\n  'amountB': '0'},\n {'position': 'CGyQVPjSv4QHYUVmAb99xwTaCngakDsnb9nQUMjWV9Wj',\n  'whirlpoolAddress': 'EgxU92G34jw6QDG9RuTX9StFg1PmHuDqkRKAE5kVEiZ4',\n  'whirlpoolPrice': '0.010011',\n  'tokenA': 'Jd4M8bfJG3sAkd82RsGWyEXoaBXQP7njFzBwEaCTuDa',\n  'tokenB': 'BRjpCHtyQLNCo8gqRUr8jtdAj5AjPYQaoqbvcZiHok1k',\n  'liquidity': '0',\n  'lower': {'tickIndex': -111744, 'price': '0.014036'},\n  'upper': {'tickIndex': -111552, 'price': '0.014308'},\n  'amountA': '0',\n  'amountB': '0'},\n {'position': 'Hd8chMSSCCYfar1HGguh74riJiYMQ3m6oonzcnBW1XgY',\n  'whirlpoolAddress': 'EgxU92G34jw6QDG9RuTX9StFg1PmHuDqkRKAE5kVEiZ4',\n  'whirlpoolPrice': '0.010011',\n  'tokenA': 'Jd4M8bfJG3sAkd82RsGWyEXoaBXQP7njFzBwEaCTuDa',\n  'tokenB': 'BRjpCHtyQLNCo8gqRUr8jtdAj5AjPYQaoqbvcZiHok1k',\n  'liquidity': '0',\n  'lower': {'tickIndex': -111552, 'price': '0.014308'},\n  'upper': {'tickIndex': -111360, 'price': '0.014586'},\n  'amountA': '0',\n  'amountB': '0'},\n {'position': '14UnnVxoY1J4ppujqAC5478CMwTQZGwPWrYs7TmzDpdq',\n  'whirlpoolAddress': 'EgxU92G34jw6QDG9RuTX9StFg1PmHuDqkRKAE5kVEiZ4',\n  'whirlpoolPrice': '0.010011',\n  'tokenA': 'Jd4M8bfJG3sAkd82RsGWyEXoaBXQP7njFzBwEaCTuDa',\n  'tokenB': 'BRjpCHtyQLNCo8gqRUr8jtdAj5AjPYQaoqbvcZiHok1k',\n  'liquidity': '0',\n  'lower': {'tickIndex': -111360, 'price': '0.014586'},\n  'upper': {'tickIndex': -111232, 'price': '0.014773'},\n  'amountA': '0',\n  'amountB': '0'},\n {'position': '79APn4wSFQHaYpuVBLp2RbKtWuNYAXX188JuxxiAsAR6',\n  'whirlpoolAddress': 'EgxU92G34jw6QDG9RuTX9StFg1PmHuDqkRKAE5kVEiZ4',\n  'whirlpoolPrice': '0.010011',\n  'tokenA': 'Jd4M8bfJG3sAkd82RsGWyEXoaBXQP7njFzBwEaCTuDa',\n  'tokenB': 'BRjpCHtyQLNCo8gqRUr8jtdAj5AjPYQaoqbvcZiHok1k',\n  'liquidity': '0',\n  'lower': {'tickIndex': -111232, 'price': '0.014773'},\n  'upper': {'tickIndex': -111040, 'price': '0.015060'},\n  'amountA': '0',\n  'amountB': '0'},\n {'position': 'ERt13hiCfVqzhYi5Jvq1SFzk4sz8ZmxieVFnDozFk84p',\n  'whirlpoolAddress': 'EgxU92G34jw6QDG9RuTX9StFg1PmHuDqkRKAE5kVEiZ4',\n  'whirlpoolPrice': '0.010011',\n  'tokenA': 'Jd4M8bfJG3sAkd82RsGWyEXoaBXQP7njFzBwEaCTuDa',\n  'tokenB': 'BRjpCHtyQLNCo8gqRUr8jtdAj5AjPYQaoqbvcZiHok1k',\n  'liquidity': '0',\n  'lower': {'tickIndex': -111040, 'price': '0.015060'},\n  'upper': {'tickIndex': -110912, 'price': '0.015254'},\n  'amountA': '0',\n  'amountB': '0'},\n {'position': 'GXnPmdArMpSrh6DGSiFWEQGZRYtF6JyyFdgCUEKAC8io',\n  'whirlpoolAddress': 'EgxU92G34jw6QDG9RuTX9StFg1PmHuDqkRKAE5kVEiZ4',\n  'whirlpoolPrice': '0.010011',\n  'tokenA': 'Jd4M8bfJG3sAkd82RsGWyEXoaBXQP7njFzBwEaCTuDa',\n  'tokenB': 'BRjpCHtyQLNCo8gqRUr8jtdAj5AjPYQaoqbvcZiHok1k',\n  'liquidity': '0',\n  'lower': {'tickIndex': -110912, 'price': '0.015254'},\n  'upper': {'tickIndex': -110720, 'price': '0.015550'},\n  'amountA': '0',\n  'amountB': '0'},\n {'position': '5mAPJhGdM8NrwWmd9KGpj5W7oeWANGHkh1unACgkMSrR',\n  'whirlpoolAddress': 'EgxU92G34jw6QDG9RuTX9StFg1PmHuDqkRKAE5kVEiZ4',\n  'whirlpoolPrice': '0.010011',\n  'tokenA': 'Jd4M8bfJG3sAkd82RsGWyEXoaBXQP7njFzBwEaCTuDa',\n  'tokenB': 'BRjpCHtyQLNCo8gqRUr8jtdAj5AjPYQaoqbvcZiHok1k',\n  'liquidity': '0',\n  'lower': {'tickIndex': -110720, 'price': '0.015550'},\n  'upper': {'tickIndex': -110592, 'price': '0.015750'},\n  'amountA': '0',\n  'amountB': '0'},\n {'position': '6qBoCWpQj9ToQibcWVckVJhAHE9jEzeJxiU65syXHijx',\n  'whirlpoolAddress': 'EgxU92G34jw6QDG9RuTX9StFg1PmHuDqkRKAE5kVEiZ4',\n  'whirlpoolPrice': '0.010011',\n  'tokenA': 'Jd4M8bfJG3sAkd82RsGWyEXoaBXQP7njFzBwEaCTuDa',\n  'tokenB': 'BRjpCHtyQLNCo8gqRUr8jtdAj5AjPYQaoqbvcZiHok1k',\n  'liquidity': '0',\n  'lower': {'tickIndex': -110592, 'price': '0.015750'},\n  'upper': {'tickIndex': -110400, 'price': '0.016055'},\n  'amountA': '0',\n  'amountB': '0'},\n {'position': '4dEvjfPVxjkzC9CXqdNJLcKLrAm4hQCuH9D4XdeGrpDW',\n  'whirlpoolAddress': 'EgxU92G34jw6QDG9RuTX9StFg1PmHuDqkRKAE5kVEiZ4',\n  'whirlpoolPrice': '0.010011',\n  'tokenA': 'Jd4M8bfJG3sAkd82RsGWyEXoaBXQP7njFzBwEaCTuDa',\n  'tokenB': 'BRjpCHtyQLNCo8gqRUr8jtdAj5AjPYQaoqbvcZiHok1k',\n  'liquidity': '0',\n  'lower': {'tickIndex': -110400, 'price': '0.016055'},\n  'upper': {'tickIndex': -110272, 'price': '0.016262'},\n  'amountA': '0',\n  'amountB': '0'},\n {'position': '9URC3YusECuVYnidCYvwxC8RxbUWoSaCeSmuKb7uV1j1',\n  'whirlpoolAddress': 'EgxU92G34jw6QDG9RuTX9StFg1PmHuDqkRKAE5kVEiZ4',\n  'whirlpoolPrice': '0.010011',\n  'tokenA': 'Jd4M8bfJG3sAkd82RsGWyEXoaBXQP7njFzBwEaCTuDa',\n  'tokenB': 'BRjpCHtyQLNCo8gqRUr8jtdAj5AjPYQaoqbvcZiHok1k',\n  'liquidity': '0',\n  'lower': {'tickIndex': -110272, 'price': '0.016262'},\n  'upper': {'tickIndex': -110080, 'price': '0.016577'},\n  'amountA': '0',\n  'amountB': '0'},\n {'position': 'HokQfvqTECY9Zv1ifrYwkHV2S1BfQkDqvaRPHM8ZdVMA',\n  'whirlpoolAddress': 'EgxU92G34jw6QDG9RuTX9StFg1PmHuDqkRKAE5kVEiZ4',\n  'whirlpoolPrice': '0.010011',\n  'tokenA': 'Jd4M8bfJG3sAkd82RsGWyEXoaBXQP7njFzBwEaCTuDa',\n  'tokenB': 'BRjpCHtyQLNCo8gqRUr8jtdAj5AjPYQaoqbvcZiHok1k',\n  'liquidity': '0',\n  'lower': {'tickIndex': -110080, 'price': '0.016577'},\n  'upper': {'tickIndex': -109952, 'price': '0.016791'},\n  'amountA': '0',\n  'amountB': '0'},\n {'position': 'GogTSwsbdQjsU1xxhqDYihpvoUSFavP6hv3FcKbgMYto',\n  'whirlpoolAddress': 'EgxU92G34jw6QDG9RuTX9StFg1PmHuDqkRKAE5kVEiZ4',\n  'whirlpoolPrice': '0.010011',\n  'tokenA': 'Jd4M8bfJG3sAkd82RsGWyEXoaBXQP7njFzBwEaCTuDa',\n  'tokenB': 'BRjpCHtyQLNCo8gqRUr8jtdAj5AjPYQaoqbvcZiHok1k',\n  'liquidity': '0',\n  'lower': {'tickIndex': -109952, 'price': '0.016791'},\n  'upper': {'tickIndex': -109824, 'price': '0.017007'},\n  'amountA': '0',\n  'amountB': '0'},\n {'position': '4Pe5FuzqDnmEQhJvAPtn8bdT6oPcjNP2sUSiNjgQDGU2',\n  'whirlpoolAddress': 'EgxU92G34jw6QDG9RuTX9StFg1PmHuDqkRKAE5kVEiZ4',\n  'whirlpoolPrice': '0.010011',\n  'tokenA': 'Jd4M8bfJG3sAkd82RsGWyEXoaBXQP7njFzBwEaCTuDa',\n  'tokenB': 'BRjpCHtyQLNCo8gqRUr8jtdAj5AjPYQaoqbvcZiHok1k',\n  'liquidity': '0',\n  'lower': {'tickIndex': -109824, 'price': '0.017007'},\n  'upper': {'tickIndex': -109632, 'price': '0.017337'},\n  'amountA': '0',\n  'amountB': '0'},\n {'position': 'FYW4x6LroU5fcweV6a3SJAmUW3rk7arBaKSQtdhJPC25',\n  'whirlpoolAddress': 'EgxU92G34jw6QDG9RuTX9StFg1PmHuDqkRKAE5kVEiZ4',\n  'whirlpoolPrice': '0.010011',\n  'tokenA': 'Jd4M8bfJG3sAkd82RsGWyEXoaBXQP7njFzBwEaCTuDa',\n  'tokenB': 'BRjpCHtyQLNCo8gqRUr8jtdAj5AjPYQaoqbvcZiHok1k',\n  'liquidity': '0',\n  'lower': {'tickIndex': -109632, 'price': '0.017337'},\n  'upper': {'tickIndex': -109504, 'price': '0.017560'},\n  'amountA': '0',\n  'amountB': '0'},\n {'position': 'GmAYtCbSudhPhTJJmiYodcyemsp2hTcsPhEDTy7FDvNY',\n  'whirlpoolAddress': 'EgxU92G34jw6QDG9RuTX9StFg1PmHuDqkRKAE5kVEiZ4',\n  'whirlpoolPrice': '0.010011',\n  'tokenA': 'Jd4M8bfJG3sAkd82RsGWyEXoaBXQP7njFzBwEaCTuDa',\n  'tokenB': 'BRjpCHtyQLNCo8gqRUr8jtdAj5AjPYQaoqbvcZiHok1k',\n  'liquidity': '0',\n  'lower': {'tickIndex': -109504, 'price': '0.017560'},\n  'upper': {'tickIndex': -109376, 'price': '0.017786'},\n  'amountA': '0',\n  'amountB': '0'},\n {'position': 'GeHSjEzKxjggQ3TCaNdiNDkAEbKBN1dc2eFEHQWgHLyL',\n  'whirlpoolAddress': 'EgxU92G34jw6QDG9RuTX9StFg1PmHuDqkRKAE5kVEiZ4',\n  'whirlpoolPrice': '0.010011',\n  'tokenA': 'Jd4M8bfJG3sAkd82RsGWyEXoaBXQP7njFzBwEaCTuDa',\n  'tokenB': 'BRjpCHtyQLNCo8gqRUr8jtdAj5AjPYQaoqbvcZiHok1k',\n  'liquidity': '0',\n  'lower': {'tickIndex': -109376, 'price': '0.017786'},\n  'upper': {'tickIndex': -109248, 'price': '0.018015'},\n  'amountA': '0',\n  'amountB': '0'},\n {'position': 'C2G4w3AnrYjtQEWCSVGE61bW3CEJx9ESRimKHdHSQPxi',\n  'whirlpoolAddress': 'EgxU92G34jw6QDG9RuTX9StFg1PmHuDqkRKAE5kVEiZ4',\n  'whirlpoolPrice': '0.010011',\n  'tokenA': 'Jd4M8bfJG3sAkd82RsGWyEXoaBXQP7njFzBwEaCTuDa',\n  'tokenB': 'BRjpCHtyQLNCo8gqRUr8jtdAj5AjPYQaoqbvcZiHok1k',\n  'liquidity': '0',\n  'lower': {'tickIndex': -109248, 'price': '0.018015'},\n  'upper': {'tickIndex': -109056, 'price': '0.018365'},\n  'amountA': '0',\n  'amountB': '0'},\n {'position': 'jk9o3xgzp52YgDYw55zxmaKavwVTXWbmCbUh2U4UEKH',\n  'whirlpoolAddress': 'EgxU92G34jw6QDG9RuTX9StFg1PmHuDqkRKAE5kVEiZ4',\n  'whirlpoolPrice': '0.010011',\n  'tokenA': 'Jd4M8bfJG3sAkd82RsGWyEXoaBXQP7njFzBwEaCTuDa',\n  'tokenB': 'BRjpCHtyQLNCo8gqRUr8jtdAj5AjPYQaoqbvcZiHok1k',\n  'liquidity': '0',\n  'lower': {'tickIndex': -109056, 'price': '0.018365'},\n  'upper': {'tickIndex': -108928, 'price': '0.018601'},\n  'amountA': '0',\n  'amountB': '0'},\n {'position': 'FH8m445Yk4C8pDmePS49n7EaRxjnx6bdZywYwpkQwse7',\n  'whirlpoolAddress': 'EgxU92G34jw6QDG9RuTX9StFg1PmHuDqkRKAE5kVEiZ4',\n  'whirlpoolPrice': '0.010011',\n  'tokenA': 'Jd4M8bfJG3sAkd82RsGWyEXoaBXQP7njFzBwEaCTuDa',\n  'tokenB': 'BRjpCHtyQLNCo8gqRUr8jtdAj5AjPYQaoqbvcZiHok1k',\n  'liquidity': '0',\n  'lower': {'tickIndex': -108928, 'price': '0.018601'},\n  'upper': {'tickIndex': -108800, 'price': '0.018841'},\n  'amountA': '0',\n  'amountB': '0'},\n {'position': 'DeHzDG3J6ZZfQEzMp5VZmVcEzLafKGD968rVDnaVFfyq',\n  'whirlpoolAddress': 'EgxU92G34jw6QDG9RuTX9StFg1PmHuDqkRKAE5kVEiZ4',\n  'whirlpoolPrice': '0.010011',\n  'tokenA': 'Jd4M8bfJG3sAkd82RsGWyEXoaBXQP7njFzBwEaCTuDa',\n  'tokenB': 'BRjpCHtyQLNCo8gqRUr8jtdAj5AjPYQaoqbvcZiHok1k',\n  'liquidity': '0',\n  'lower': {'tickIndex': -108800, 'price': '0.018841'},\n  'upper': {'tickIndex': -108672, 'price': '0.019084'},\n  'amountA': '0',\n  'amountB': '0'},\n {'position': 'B46ZVPDi1PbDsvYsZL6P3zQz7K6g2TpJzfT8ehvW7Es5',\n  'whirlpoolAddress': 'EgxU92G34jw6QDG9RuTX9StFg1PmHuDqkRKAE5kVEiZ4',\n  'whirlpoolPrice': '0.010011',\n  'tokenA': 'Jd4M8bfJG3sAkd82RsGWyEXoaBXQP7njFzBwEaCTuDa',\n  'tokenB': 'BRjpCHtyQLNCo8gqRUr8jtdAj5AjPYQaoqbvcZiHok1k',\n  'liquidity': '0',\n  'lower': {'tickIndex': -108672, 'price': '0.019084'},\n  'upper': {'tickIndex': -108544, 'price': '0.019329'},\n  'amountA': '0',\n  'amountB': '0'},\n {'position': '6omKjHVrDGGNeRdC9myCZJ3pZWrqG5ykNKP5oFjoTt4t',\n  'whirlpoolAddress': 'EgxU92G34jw6QDG9RuTX9StFg1PmHuDqkRKAE5kVEiZ4',\n  'whirlpoolPrice': '0.010011',\n  'tokenA': 'Jd4M8bfJG3sAkd82RsGWyEXoaBXQP7njFzBwEaCTuDa',\n  'tokenB': 'BRjpCHtyQLNCo8gqRUr8jtdAj5AjPYQaoqbvcZiHok1k',\n  'liquidity': '0',\n  'lower': {'tickIndex': -108544, 'price': '0.019329'},\n  'upper': {'tickIndex': -108416, 'price': '0.019578'},\n  'amountA': '0',\n  'amountB': '0'},\n {'position': '938uZqUAGa1zwVa2xR87WBih1tUzrwk7anenkbbeuSG6',\n  'whirlpoolAddress': 'EgxU92G34jw6QDG9RuTX9StFg1PmHuDqkRKAE5kVEiZ4',\n  'whirlpoolPrice': '0.010011',\n  'tokenA': 'Jd4M8bfJG3sAkd82RsGWyEXoaBXQP7njFzBwEaCTuDa',\n  'tokenB': 'BRjpCHtyQLNCo8gqRUr8jtdAj5AjPYQaoqbvcZiHok1k',\n  'liquidity': '0',\n  'lower': {'tickIndex': -108416, 'price': '0.019578'},\n  'upper': {'tickIndex': -108288, 'price': '0.019831'},\n  'amountA': '0',\n  'amountB': '0'},\n {'position': '3kn5Avx2aL61xQbsJobALkajw6vKqp1VxYrtuBHnhYKv',\n  'whirlpoolAddress': 'EgxU92G34jw6QDG9RuTX9StFg1PmHuDqkRKAE5kVEiZ4',\n  'whirlpoolPrice': '0.010011',\n  'tokenA': 'Jd4M8bfJG3sAkd82RsGWyEXoaBXQP7njFzBwEaCTuDa',\n  'tokenB': 'BRjpCHtyQLNCo8gqRUr8jtdAj5AjPYQaoqbvcZiHok1k',\n  'liquidity': '0',\n  'lower': {'tickIndex': -108288, 'price': '0.019831'},\n  'upper': {'tickIndex': -108160, 'price': '0.020086'},\n  'amountA': '0',\n  'amountB': '0'},\n {'position': '6u3MLDaiPKj8pU93x6EyumRUJEKSvAKa8zfwa6te4d7P',\n  'whirlpoolAddress': 'EgxU92G34jw6QDG9RuTX9StFg1PmHuDqkRKAE5kVEiZ4',\n  'whirlpoolPrice': '0.010011',\n  'tokenA': 'Jd4M8bfJG3sAkd82RsGWyEXoaBXQP7njFzBwEaCTuDa',\n  'tokenB': 'BRjpCHtyQLNCo8gqRUr8jtdAj5AjPYQaoqbvcZiHok1k',\n  'liquidity': '0',\n  'lower': {'tickIndex': -108160, 'price': '0.020086'},\n  'upper': {'tickIndex': -108032, 'price': '0.020345'},\n  'amountA': '0',\n  'amountB': '0'},\n {'position': '6NtCfA4vyMRQBjpxSWdXYsdXb5vfKor1FsMPJHRWWyXP',\n  'whirlpoolAddress': 'EgxU92G34jw6QDG9RuTX9StFg1PmHuDqkRKAE5kVEiZ4',\n  'whirlpoolPrice': '0.010011',\n  'tokenA': 'Jd4M8bfJG3sAkd82RsGWyEXoaBXQP7njFzBwEaCTuDa',\n  'tokenB': 'BRjpCHtyQLNCo8gqRUr8jtdAj5AjPYQaoqbvcZiHok1k',\n  'liquidity': '0',\n  'lower': {'tickIndex': -108032, 'price': '0.020345'},\n  'upper': {'tickIndex': -107904, 'price': '0.020607'},\n  'amountA': '0',\n  'amountB': '0'},\n {'position': 'FDApbSmtAS7YPqZQCc2S3HYjq5KhSt76Dx3RuwWGtFjD',\n  'whirlpoolAddress': 'EgxU92G34jw6QDG9RuTX9StFg1PmHuDqkRKAE5kVEiZ4',\n  'whirlpoolPrice': '0.010011',\n  'tokenA': 'Jd4M8bfJG3sAkd82RsGWyEXoaBXQP7njFzBwEaCTuDa',\n  'tokenB': 'BRjpCHtyQLNCo8gqRUr8jtdAj5AjPYQaoqbvcZiHok1k',\n  'liquidity': '0',\n  'lower': {'tickIndex': -107904, 'price': '0.020607'},\n  'upper': {'tickIndex': -107776, 'price': '0.020872'},\n  'amountA': '0',\n  'amountB': '0'},\n {'position': '9n2ayEXRT3JhiqjbCoJf7nNoWtmj8kQVTJoVfHrre47K',\n  'whirlpoolAddress': 'EgxU92G34jw6QDG9RuTX9StFg1PmHuDqkRKAE5kVEiZ4',\n  'whirlpoolPrice': '0.010011',\n  'tokenA': 'Jd4M8bfJG3sAkd82RsGWyEXoaBXQP7njFzBwEaCTuDa',\n  'tokenB': 'BRjpCHtyQLNCo8gqRUr8jtdAj5AjPYQaoqbvcZiHok1k',\n  'liquidity': '0',\n  'lower': {'tickIndex': -107776, 'price': '0.020872'},\n  'upper': {'tickIndex': -107712, 'price': '0.021006'},\n  'amountA': '0',\n  'amountB': '0'},\n {'position': '9uF8RTP2WSXVwRQPJriDEDVSTKfVJPzAMYcLKsWBW5Bo',\n  'whirlpoolAddress': 'EgxU92G34jw6QDG9RuTX9StFg1PmHuDqkRKAE5kVEiZ4',\n  'whirlpoolPrice': '0.010011',\n  'tokenA': 'Jd4M8bfJG3sAkd82RsGWyEXoaBXQP7njFzBwEaCTuDa',\n  'tokenB': 'BRjpCHtyQLNCo8gqRUr8jtdAj5AjPYQaoqbvcZiHok1k',\n  'liquidity': '0',\n  'lower': {'tickIndex': -107712, 'price': '0.021006'},\n  'upper': {'tickIndex': -107584, 'price': '0.021277'},\n  'amountA': '0',\n  'amountB': '0'},\n {'position': 'CKw5SZG1Kj74owcPp43gyMECnqoNEuaP4mhwJiFRF1Cc',\n  'whirlpoolAddress': 'EgxU92G34jw6QDG9RuTX9StFg1PmHuDqkRKAE5kVEiZ4',\n  'whirlpoolPrice': '0.010011',\n  'tokenA': 'Jd4M8bfJG3sAkd82RsGWyEXoaBXQP7njFzBwEaCTuDa',\n  'tokenB': 'BRjpCHtyQLNCo8gqRUr8jtdAj5AjPYQaoqbvcZiHok1k',\n  'liquidity': '0',\n  'lower': {'tickIndex': -107584, 'price': '0.021277'},\n  'upper': {'tickIndex': -107456, 'price': '0.021551'},\n  'amountA': '0',\n  'amountB': '0'},\n {'position': '8HswyQ16F9x98kMpmE5JodwgPAdYtDpzHz6qSVgXHeVN',\n  'whirlpoolAddress': 'EgxU92G34jw6QDG9RuTX9StFg1PmHuDqkRKAE5kVEiZ4',\n  'whirlpoolPrice': '0.010011',\n  'tokenA': 'Jd4M8bfJG3sAkd82RsGWyEXoaBXQP7njFzBwEaCTuDa',\n  'tokenB': 'BRjpCHtyQLNCo8gqRUr8jtdAj5AjPYQaoqbvcZiHok1k',\n  'liquidity': '0',\n  'lower': {'tickIndex': -107456, 'price': '0.021551'},\n  'upper': {'tickIndex': -107328, 'price': '0.021829'},\n  'amountA': '0',\n  'amountB': '0'},\n {'position': '6PhEbg9VMBtRnHjcYMzsc3VXHxTaY21wtBLiK8L3RQHr',\n  'whirlpoolAddress': 'EgxU92G34jw6QDG9RuTX9StFg1PmHuDqkRKAE5kVEiZ4',\n  'whirlpoolPrice': '0.010011',\n  'tokenA': 'Jd4M8bfJG3sAkd82RsGWyEXoaBXQP7njFzBwEaCTuDa',\n  'tokenB': 'BRjpCHtyQLNCo8gqRUr8jtdAj5AjPYQaoqbvcZiHok1k',\n  'liquidity': '0',\n  'lower': {'tickIndex': -107328, 'price': '0.021829'},\n  'upper': {'tickIndex': -107200, 'price': '0.022110'},\n  'amountA': '0',\n  'amountB': '0'},\n {'position': '25TufUtzGCfjf56UknwiscLHA5fk92CX85Y7R4S6iD6V',\n  'whirlpoolAddress': 'EgxU92G34jw6QDG9RuTX9StFg1PmHuDqkRKAE5kVEiZ4',\n  'whirlpoolPrice': '0.010011',\n  'tokenA': 'Jd4M8bfJG3sAkd82RsGWyEXoaBXQP7njFzBwEaCTuDa',\n  'tokenB': 'BRjpCHtyQLNCo8gqRUr8jtdAj5AjPYQaoqbvcZiHok1k',\n  'liquidity': '0',\n  'lower': {'tickIndex': -107200, 'price': '0.022110'},\n  'upper': {'tickIndex': -107136, 'price': '0.022252'},\n  'amountA': '0',\n  'amountB': '0'},\n {'position': 'HCS3ytWMqv7rJPvtx1rY3P7imqo4n38V2KeBDB8838Uy',\n  'whirlpoolAddress': 'EgxU92G34jw6QDG9RuTX9StFg1PmHuDqkRKAE5kVEiZ4',\n  'whirlpoolPrice': '0.010011',\n  'tokenA': 'Jd4M8bfJG3sAkd82RsGWyEXoaBXQP7njFzBwEaCTuDa',\n  'tokenB': 'BRjpCHtyQLNCo8gqRUr8jtdAj5AjPYQaoqbvcZiHok1k',\n  'liquidity': '0',\n  'lower': {'tickIndex': -107136, 'price': '0.022252'},\n  'upper': {'tickIndex': -107008, 'price': '0.022538'},\n  'amountA': '0',\n  'amountB': '0'},\n {'position': 'EX4Y2rY6K4w5pGsEFXFEQ61ofcrrdVBSLNwqriNJV4sM',\n  'whirlpoolAddress': 'EgxU92G34jw6QDG9RuTX9StFg1PmHuDqkRKAE5kVEiZ4',\n  'whirlpoolPrice': '0.010011',\n  'tokenA': 'Jd4M8bfJG3sAkd82RsGWyEXoaBXQP7njFzBwEaCTuDa',\n  'tokenB': 'BRjpCHtyQLNCo8gqRUr8jtdAj5AjPYQaoqbvcZiHok1k',\n  'liquidity': '0',\n  'lower': {'tickIndex': -107008, 'price': '0.022538'},\n  'upper': {'tickIndex': -106880, 'price': '0.022829'},\n  'amountA': '0',\n  'amountB': '0'},\n {'position': 'EZf7xhLZKfavUMLRYc6Gvfn3WxbidgHAf28hckSWEEzR',\n  'whirlpoolAddress': 'EgxU92G34jw6QDG9RuTX9StFg1PmHuDqkRKAE5kVEiZ4',\n  'whirlpoolPrice': '0.010011',\n  'tokenA': 'Jd4M8bfJG3sAkd82RsGWyEXoaBXQP7njFzBwEaCTuDa',\n  'tokenB': 'BRjpCHtyQLNCo8gqRUr8jtdAj5AjPYQaoqbvcZiHok1k',\n  'liquidity': '0',\n  'lower': {'tickIndex': -106880, 'price': '0.022829'},\n  'upper': {'tickIndex': -106752, 'price': '0.023123'},\n  'amountA': '0',\n  'amountB': '0'},\n {'position': 'A9aykonNRtWuGKESNegWYqnS3gwjHWXwoJBjSFehBjjX',\n  'whirlpoolAddress': 'EgxU92G34jw6QDG9RuTX9StFg1PmHuDqkRKAE5kVEiZ4',\n  'whirlpoolPrice': '0.010011',\n  'tokenA': 'Jd4M8bfJG3sAkd82RsGWyEXoaBXQP7njFzBwEaCTuDa',\n  'tokenB': 'BRjpCHtyQLNCo8gqRUr8jtdAj5AjPYQaoqbvcZiHok1k',\n  'liquidity': '0',\n  'lower': {'tickIndex': -106752, 'price': '0.023123'},\n  'upper': {'tickIndex': -106688, 'price': '0.023271'},\n  'amountA': '0',\n  'amountB': '0'},\n {'position': '3b7PSXcnQJyu2ETnrCoJNZttQxUt6frNzvoQnYs74snH',\n  'whirlpoolAddress': 'EgxU92G34jw6QDG9RuTX9StFg1PmHuDqkRKAE5kVEiZ4',\n  'whirlpoolPrice': '0.010011',\n  'tokenA': 'Jd4M8bfJG3sAkd82RsGWyEXoaBXQP7njFzBwEaCTuDa',\n  'tokenB': 'BRjpCHtyQLNCo8gqRUr8jtdAj5AjPYQaoqbvcZiHok1k',\n  'liquidity': '0',\n  'lower': {'tickIndex': -106688, 'price': '0.023271'},\n  'upper': {'tickIndex': -106560, 'price': '0.023571'},\n  'amountA': '0',\n  'amountB': '0'},\n {'position': 'ABQ5BgpF8ynTy99S6ArD4CvUB918kr7LpoAxsPyFCp7W',\n  'whirlpoolAddress': 'EgxU92G34jw6QDG9RuTX9StFg1PmHuDqkRKAE5kVEiZ4',\n  'whirlpoolPrice': '0.010011',\n  'tokenA': 'Jd4M8bfJG3sAkd82RsGWyEXoaBXQP7njFzBwEaCTuDa',\n  'tokenB': 'BRjpCHtyQLNCo8gqRUr8jtdAj5AjPYQaoqbvcZiHok1k',\n  'liquidity': '0',\n  'lower': {'tickIndex': -106560, 'price': '0.023571'},\n  'upper': {'tickIndex': -106432, 'price': '0.023875'},\n  'amountA': '0',\n  'amountB': '0'},\n {'position': 'BhB4F7NsdR4tKLw7uQaN7eHQCHuMmFoVvY2TSo8ssYBx',\n  'whirlpoolAddress': 'EgxU92G34jw6QDG9RuTX9StFg1PmHuDqkRKAE5kVEiZ4',\n  'whirlpoolPrice': '0.010011',\n  'tokenA': 'Jd4M8bfJG3sAkd82RsGWyEXoaBXQP7njFzBwEaCTuDa',\n  'tokenB': 'BRjpCHtyQLNCo8gqRUr8jtdAj5AjPYQaoqbvcZiHok1k',\n  'liquidity': '0',\n  'lower': {'tickIndex': -106432, 'price': '0.023875'},\n  'upper': {'tickIndex': -106368, 'price': '0.024028'},\n  'amountA': '0',\n  'amountB': '0'},\n {'position': '6xEK2rZhEoRa4aKkRguPNA1aaUTh8Xt3Fmniigon6AKD',\n  'whirlpoolAddress': 'EgxU92G34jw6QDG9RuTX9StFg1PmHuDqkRKAE5kVEiZ4',\n  'whirlpoolPrice': '0.010011',\n  'tokenA': 'Jd4M8bfJG3sAkd82RsGWyEXoaBXQP7njFzBwEaCTuDa',\n  'tokenB': 'BRjpCHtyQLNCo8gqRUr8jtdAj5AjPYQaoqbvcZiHok1k',\n  'liquidity': '0',\n  'lower': {'tickIndex': -106368, 'price': '0.024028'},\n  'upper': {'tickIndex': -106240, 'price': '0.024338'},\n  'amountA': '0',\n  'amountB': '0'},\n {'position': 'Bz3SdZ1SBeTXG2pEmj95SY2TvTo6n8YxSTmctg3yFoPW',\n  'whirlpoolAddress': 'EgxU92G34jw6QDG9RuTX9StFg1PmHuDqkRKAE5kVEiZ4',\n  'whirlpoolPrice': '0.010011',\n  'tokenA': 'Jd4M8bfJG3sAkd82RsGWyEXoaBXQP7njFzBwEaCTuDa',\n  'tokenB': 'BRjpCHtyQLNCo8gqRUr8jtdAj5AjPYQaoqbvcZiHok1k',\n  'liquidity': '0',\n  'lower': {'tickIndex': -106240, 'price': '0.024338'},\n  'upper': {'tickIndex': -106112, 'price': '0.024651'},\n  'amountA': '0',\n  'amountB': '0'},\n {'position': '5GTNojLdKp5GzbmHuEBVsVjArt7EyyWpJTXQUYn9UUZn',\n  'whirlpoolAddress': 'EgxU92G34jw6QDG9RuTX9StFg1PmHuDqkRKAE5kVEiZ4',\n  'whirlpoolPrice': '0.010011',\n  'tokenA': 'Jd4M8bfJG3sAkd82RsGWyEXoaBXQP7njFzBwEaCTuDa',\n  'tokenB': 'BRjpCHtyQLNCo8gqRUr8jtdAj5AjPYQaoqbvcZiHok1k',\n  'liquidity': '0',\n  'lower': {'tickIndex': -106112, 'price': '0.024651'},\n  'upper': {'tickIndex': -106048, 'price': '0.024809'},\n  'amountA': '0',\n  'amountB': '0'},\n {'position': 'BxAEMNtrVENQt69avWL5DFVpz3JUwSDprhXPAKLB7VKw',\n  'whirlpoolAddress': 'EgxU92G34jw6QDG9RuTX9StFg1PmHuDqkRKAE5kVEiZ4',\n  'whirlpoolPrice': '0.010011',\n  'tokenA': 'Jd4M8bfJG3sAkd82RsGWyEXoaBXQP7njFzBwEaCTuDa',\n  'tokenB': 'BRjpCHtyQLNCo8gqRUr8jtdAj5AjPYQaoqbvcZiHok1k',\n  'liquidity': '0',\n  'lower': {'tickIndex': -106048, 'price': '0.024809'},\n  'upper': {'tickIndex': -105920, 'price': '0.025129'},\n  'amountA': '0',\n  'amountB': '0'},\n {'position': 'UBRjoXyR6DGR6UHNuGhBUgf9xNU1vMe6KRJuD2vGUfv',\n  'whirlpoolAddress': 'EgxU92G34jw6QDG9RuTX9StFg1PmHuDqkRKAE5kVEiZ4',\n  'whirlpoolPrice': '0.010011',\n  'tokenA': 'Jd4M8bfJG3sAkd82RsGWyEXoaBXQP7njFzBwEaCTuDa',\n  'tokenB': 'BRjpCHtyQLNCo8gqRUr8jtdAj5AjPYQaoqbvcZiHok1k',\n  'liquidity': '0',\n  'lower': {'tickIndex': -105920, 'price': '0.025129'},\n  'upper': {'tickIndex': -105856, 'price': '0.025290'},\n  'amountA': '0',\n  'amountB': '0'},\n {'position': 'FPZitKdwvPAjE265iJNEQJwutp7xbc6wufWKVJUyZ29V',\n  'whirlpoolAddress': 'EgxU92G34jw6QDG9RuTX9StFg1PmHuDqkRKAE5kVEiZ4',\n  'whirlpoolPrice': '0.010011',\n  'tokenA': 'Jd4M8bfJG3sAkd82RsGWyEXoaBXQP7njFzBwEaCTuDa',\n  'tokenB': 'BRjpCHtyQLNCo8gqRUr8jtdAj5AjPYQaoqbvcZiHok1k',\n  'liquidity': '0',\n  'lower': {'tickIndex': -105856, 'price': '0.025290'},\n  'upper': {'tickIndex': -105728, 'price': '0.025616'},\n  'amountA': '0',\n  'amountB': '0'},\n {'position': 'EajhohmzYmBAshPeYNXBqsLd8CEJeiXYVM2fMt393GA6',\n  'whirlpoolAddress': 'EgxU92G34jw6QDG9RuTX9StFg1PmHuDqkRKAE5kVEiZ4',\n  'whirlpoolPrice': '0.010011',\n  'tokenA': 'Jd4M8bfJG3sAkd82RsGWyEXoaBXQP7njFzBwEaCTuDa',\n  'tokenB': 'BRjpCHtyQLNCo8gqRUr8jtdAj5AjPYQaoqbvcZiHok1k',\n  'liquidity': '0',\n  'lower': {'tickIndex': -105728, 'price': '0.025616'},\n  'upper': {'tickIndex': -105664, 'price': '0.025781'},\n  'amountA': '0',\n  'amountB': '0'},\n {'position': 'GM3zFwL5fXLcx92YiUJrQeTqwUoHFZw9RBEGWTTN7uzk',\n  'whirlpoolAddress': 'EgxU92G34jw6QDG9RuTX9StFg1PmHuDqkRKAE5kVEiZ4',\n  'whirlpoolPrice': '0.010011',\n  'tokenA': 'Jd4M8bfJG3sAkd82RsGWyEXoaBXQP7njFzBwEaCTuDa',\n  'tokenB': 'BRjpCHtyQLNCo8gqRUr8jtdAj5AjPYQaoqbvcZiHok1k',\n  'liquidity': '0',\n  'lower': {'tickIndex': -105664, 'price': '0.025781'},\n  'upper': {'tickIndex': -105536, 'price': '0.026113'},\n  'amountA': '0',\n  'amountB': '0'},\n {'position': '8L2HH3wiBGqj63ncAYvobcTmwz9QYdPfJewzgDq2vYDE',\n  'whirlpoolAddress': 'EgxU92G34jw6QDG9RuTX9StFg1PmHuDqkRKAE5kVEiZ4',\n  'whirlpoolPrice': '0.010011',\n  'tokenA': 'Jd4M8bfJG3sAkd82RsGWyEXoaBXQP7njFzBwEaCTuDa',\n  'tokenB': 'BRjpCHtyQLNCo8gqRUr8jtdAj5AjPYQaoqbvcZiHok1k',\n  'liquidity': '0',\n  'lower': {'tickIndex': -105536, 'price': '0.026113'},\n  'upper': {'tickIndex': -105472, 'price': '0.026280'},\n  'amountA': '0',\n  'amountB': '0'},\n {'position': 'ANm9TwpnD6sX4HSKftSXDkZGt9D98bEn5XiyXFt7moJX',\n  'whirlpoolAddress': 'EgxU92G34jw6QDG9RuTX9StFg1PmHuDqkRKAE5kVEiZ4',\n  'whirlpoolPrice': '0.010011',\n  'tokenA': 'Jd4M8bfJG3sAkd82RsGWyEXoaBXQP7njFzBwEaCTuDa',\n  'tokenB': 'BRjpCHtyQLNCo8gqRUr8jtdAj5AjPYQaoqbvcZiHok1k',\n  'liquidity': '0',\n  'lower': {'tickIndex': -105472, 'price': '0.026280'},\n  'upper': {'tickIndex': -105344, 'price': '0.026619'},\n  'amountA': '0',\n  'amountB': '0'},\n {'position': '5ZngqiFsXWjLRDtWuRyCR5714Tg686YiaaN9hxf4EzJ9',\n  'whirlpoolAddress': 'EgxU92G34jw6QDG9RuTX9StFg1PmHuDqkRKAE5kVEiZ4',\n  'whirlpoolPrice': '0.010011',\n  'tokenA': 'Jd4M8bfJG3sAkd82RsGWyEXoaBXQP7njFzBwEaCTuDa',\n  'tokenB': 'BRjpCHtyQLNCo8gqRUr8jtdAj5AjPYQaoqbvcZiHok1k',\n  'liquidity': '0',\n  'lower': {'tickIndex': -105344, 'price': '0.026619'},\n  'upper': {'tickIndex': -105280, 'price': '0.026790'},\n  'amountA': '0',\n  'amountB': '0'},\n {'position': 'C5Tu49UHWJNajnqBc2RtXF9h1N9ec2ffPS16xcZcJ6mM',\n  'whirlpoolAddress': 'EgxU92G34jw6QDG9RuTX9StFg1PmHuDqkRKAE5kVEiZ4',\n  'whirlpoolPrice': '0.010011',\n  'tokenA': 'Jd4M8bfJG3sAkd82RsGWyEXoaBXQP7njFzBwEaCTuDa',\n  'tokenB': 'BRjpCHtyQLNCo8gqRUr8jtdAj5AjPYQaoqbvcZiHok1k',\n  'liquidity': '0',\n  'lower': {'tickIndex': -105280, 'price': '0.026790'},\n  'upper': {'tickIndex': -105152, 'price': '0.027135'},\n  'amountA': '0',\n  'amountB': '0'},\n {'position': '62a3NPsM1trSc3VhLW7B8Sqp61LpNc9nr89y4rcSw2XX',\n  'whirlpoolAddress': 'EgxU92G34jw6QDG9RuTX9StFg1PmHuDqkRKAE5kVEiZ4',\n  'whirlpoolPrice': '0.010011',\n  'tokenA': 'Jd4M8bfJG3sAkd82RsGWyEXoaBXQP7njFzBwEaCTuDa',\n  'tokenB': 'BRjpCHtyQLNCo8gqRUr8jtdAj5AjPYQaoqbvcZiHok1k',\n  'liquidity': '0',\n  'lower': {'tickIndex': -105152, 'price': '0.027135'},\n  'upper': {'tickIndex': -105088, 'price': '0.027309'},\n  'amountA': '0',\n  'amountB': '0'},\n {'position': '9KYEqt3LMTcXCNoC9HNuHMSdtnLzESF9yL61EXFLDobZ',\n  'whirlpoolAddress': 'EgxU92G34jw6QDG9RuTX9StFg1PmHuDqkRKAE5kVEiZ4',\n  'whirlpoolPrice': '0.010011',\n  'tokenA': 'Jd4M8bfJG3sAkd82RsGWyEXoaBXQP7njFzBwEaCTuDa',\n  'tokenB': 'BRjpCHtyQLNCo8gqRUr8jtdAj5AjPYQaoqbvcZiHok1k',\n  'liquidity': '0',\n  'lower': {'tickIndex': -105088, 'price': '0.027309'},\n  'upper': {'tickIndex': -104960, 'price': '0.027661'},\n  'amountA': '0',\n  'amountB': '0'},\n {'position': 'GvpLScxzdh2opHwFdpGSukhVBziAsUNcMbaeTCfQgxfZ',\n  'whirlpoolAddress': 'EgxU92G34jw6QDG9RuTX9StFg1PmHuDqkRKAE5kVEiZ4',\n  'whirlpoolPrice': '0.010011',\n  'tokenA': 'Jd4M8bfJG3sAkd82RsGWyEXoaBXQP7njFzBwEaCTuDa',\n  'tokenB': 'BRjpCHtyQLNCo8gqRUr8jtdAj5AjPYQaoqbvcZiHok1k',\n  'liquidity': '0',\n  'lower': {'tickIndex': -104960, 'price': '0.027661'},\n  'upper': {'tickIndex': -104896, 'price': '0.027838'},\n  'amountA': '0',\n  'amountB': '0'},\n {'position': '2VEGzpVCu6YPBquoYxmcZBBLQjCywJYTegEbAiJ3bmTJ',\n  'whirlpoolAddress': 'EgxU92G34jw6QDG9RuTX9StFg1PmHuDqkRKAE5kVEiZ4',\n  'whirlpoolPrice': '0.010011',\n  'tokenA': 'Jd4M8bfJG3sAkd82RsGWyEXoaBXQP7njFzBwEaCTuDa',\n  'tokenB': 'BRjpCHtyQLNCo8gqRUr8jtdAj5AjPYQaoqbvcZiHok1k',\n  'liquidity': '0',\n  'lower': {'tickIndex': -104896, 'price': '0.027838'},\n  'upper': {'tickIndex': -104832, 'price': '0.028017'},\n  'amountA': '0',\n  'amountB': '0'},\n {'position': 'H1SFTtDhxoyi6n6nSWkLjFTMwBRT8ZRa7q9DfXvU8aWW',\n  'whirlpoolAddress': 'EgxU92G34jw6QDG9RuTX9StFg1PmHuDqkRKAE5kVEiZ4',\n  'whirlpoolPrice': '0.010011',\n  'tokenA': 'Jd4M8bfJG3sAkd82RsGWyEXoaBXQP7njFzBwEaCTuDa',\n  'tokenB': 'BRjpCHtyQLNCo8gqRUr8jtdAj5AjPYQaoqbvcZiHok1k',\n  'liquidity': '0',\n  'lower': {'tickIndex': -104832, 'price': '0.028017'},\n  'upper': {'tickIndex': -104704, 'price': '0.028378'},\n  'amountA': '0',\n  'amountB': '0'},\n {'position': 'C8P22dyRGRTnuJ5JbMPE1XXyTmQNaVFPxKX9cn9xJDzJ',\n  'whirlpoolAddress': 'EgxU92G34jw6QDG9RuTX9StFg1PmHuDqkRKAE5kVEiZ4',\n  'whirlpoolPrice': '0.010011',\n  'tokenA': 'Jd4M8bfJG3sAkd82RsGWyEXoaBXQP7njFzBwEaCTuDa',\n  'tokenB': 'BRjpCHtyQLNCo8gqRUr8jtdAj5AjPYQaoqbvcZiHok1k',\n  'liquidity': '0',\n  'lower': {'tickIndex': -104704, 'price': '0.028378'},\n  'upper': {'tickIndex': -104640, 'price': '0.028560'},\n  'amountA': '0',\n  'amountB': '0'},\n {'position': 'CQu8RxJ8WRmUs41gYSsPXNo5tek76M6UMnXvvfqzJnXw',\n  'whirlpoolAddress': 'EgxU92G34jw6QDG9RuTX9StFg1PmHuDqkRKAE5kVEiZ4',\n  'whirlpoolPrice': '0.010011',\n  'tokenA': 'Jd4M8bfJG3sAkd82RsGWyEXoaBXQP7njFzBwEaCTuDa',\n  'tokenB': 'BRjpCHtyQLNCo8gqRUr8jtdAj5AjPYQaoqbvcZiHok1k',\n  'liquidity': '0',\n  'lower': {'tickIndex': -104640, 'price': '0.028560'},\n  'upper': {'tickIndex': -104512, 'price': '0.028928'},\n  'amountA': '0',\n  'amountB': '0'},\n {'position': '8vMoHztvcL8GGtTwdmD6JZAAFPK5E8Z8k7QLdfV9AzSs',\n  'whirlpoolAddress': 'EgxU92G34jw6QDG9RuTX9StFg1PmHuDqkRKAE5kVEiZ4',\n  'whirlpoolPrice': '0.010011',\n  'tokenA': 'Jd4M8bfJG3sAkd82RsGWyEXoaBXQP7njFzBwEaCTuDa',\n  'tokenB': 'BRjpCHtyQLNCo8gqRUr8jtdAj5AjPYQaoqbvcZiHok1k',\n  'liquidity': '0',\n  'lower': {'tickIndex': -104512, 'price': '0.028928'},\n  'upper': {'tickIndex': -104448, 'price': '0.029114'},\n  'amountA': '0',\n  'amountB': '0'},\n {'position': 'EPtwgj87p3ty7T9QSsrJKNmPLbYnqJLkhqAgfo9en2wt',\n  'whirlpoolAddress': 'EgxU92G34jw6QDG9RuTX9StFg1PmHuDqkRKAE5kVEiZ4',\n  'whirlpoolPrice': '0.010011',\n  'tokenA': 'Jd4M8bfJG3sAkd82RsGWyEXoaBXQP7njFzBwEaCTuDa',\n  'tokenB': 'BRjpCHtyQLNCo8gqRUr8jtdAj5AjPYQaoqbvcZiHok1k',\n  'liquidity': '0',\n  'lower': {'tickIndex': -104448, 'price': '0.029114'},\n  'upper': {'tickIndex': -104384, 'price': '0.029301'},\n  'amountA': '0',\n  'amountB': '0'},\n {'position': '28QvomaEVx8wa5YiZEn4fCRxZhUPD1UoJfdR5r7Boupe',\n  'whirlpoolAddress': 'EgxU92G34jw6QDG9RuTX9StFg1PmHuDqkRKAE5kVEiZ4',\n  'whirlpoolPrice': '0.010011',\n  'tokenA': 'Jd4M8bfJG3sAkd82RsGWyEXoaBXQP7njFzBwEaCTuDa',\n  'tokenB': 'BRjpCHtyQLNCo8gqRUr8jtdAj5AjPYQaoqbvcZiHok1k',\n  'liquidity': '0',\n  'lower': {'tickIndex': -104384, 'price': '0.029301'},\n  'upper': {'tickIndex': -104256, 'price': '0.029678'},\n  'amountA': '0',\n  'amountB': '0'},\n {'position': 'DYQhMVxm8hTq3SQfzYyBPDvoKbPU7Njgz1Hc61tmFyc3',\n  'whirlpoolAddress': 'EgxU92G34jw6QDG9RuTX9StFg1PmHuDqkRKAE5kVEiZ4',\n  'whirlpoolPrice': '0.010011',\n  'tokenA': 'Jd4M8bfJG3sAkd82RsGWyEXoaBXQP7njFzBwEaCTuDa',\n  'tokenB': 'BRjpCHtyQLNCo8gqRUr8jtdAj5AjPYQaoqbvcZiHok1k',\n  'liquidity': '0',\n  'lower': {'tickIndex': -104256, 'price': '0.029678'},\n  'upper': {'tickIndex': -104192, 'price': '0.029869'},\n  'amountA': '0',\n  'amountB': '0'},\n {'position': '29b2f7WNuiDzxegNMz7cBJqZwiRPipgBsnfdft74f1ur',\n  'whirlpoolAddress': 'EgxU92G34jw6QDG9RuTX9StFg1PmHuDqkRKAE5kVEiZ4',\n  'whirlpoolPrice': '0.010011',\n  'tokenA': 'Jd4M8bfJG3sAkd82RsGWyEXoaBXQP7njFzBwEaCTuDa',\n  'tokenB': 'BRjpCHtyQLNCo8gqRUr8jtdAj5AjPYQaoqbvcZiHok1k',\n  'liquidity': '0',\n  'lower': {'tickIndex': -104192, 'price': '0.029869'},\n  'upper': {'tickIndex': -104128, 'price': '0.030061'},\n  'amountA': '0',\n  'amountB': '0'}]"
     },
     "execution_count": 8,
     "metadata": {},
     "output_type": "execute_result"
    }
   ],
   "source": [
    "await client.get_orca_positions_in_bundle(\"G3sXXZxYNgs8N3j5aCnNjjDRW5MJtMX7ra915ENn1Bo9\")"
   ],
   "metadata": {
    "collapsed": false,
    "ExecuteTime": {
     "end_time": "2024-10-11T16:46:23.991082Z",
     "start_time": "2024-10-11T16:45:17.380807Z"
    }
   }
  },
  {
   "cell_type": "code",
   "execution_count": 9,
   "metadata": {
    "ExecuteTime": {
     "end_time": "2024-10-11T16:54:47.457083Z",
     "start_time": "2024-10-11T16:54:45.054576Z"
    }
   },
   "outputs": [
    {
     "data": {
      "text/plain": "{'signature': '3tkcXTYF9RwX9XTJ3FZet2vJDC8nMiAVGGh7dYNRTxv14ukP2fUSjENYA2NW1Zeepyu8pHCwCCegJ35yxaEicnpa',\n 'positionBundleMint': 'VduVKZb6vrzmRcxRmyaUjra1G7LJaLtK9PzjTY1FJKb',\n 'positionBundleAddress': 'G176a3hzm7m3e6sDgcGrhM44FrYhvsrsn7vjap29zq46'}"
     },
     "execution_count": 9,
     "metadata": {},
     "output_type": "execute_result"
    }
   ],
   "source": [
    "await client.create_orca_position_bundle()"
   ]
  },
  {
   "cell_type": "code",
   "execution_count": 11,
   "metadata": {
    "ExecuteTime": {
     "end_time": "2024-10-11T16:55:06.136253Z",
     "start_time": "2024-10-11T16:55:05.646865Z"
    }
   },
   "outputs": [
    {
     "data": {
      "text/plain": "[]"
     },
     "execution_count": 11,
     "metadata": {},
     "output_type": "execute_result"
    }
   ],
   "source": [
    "await client.get_orca_positions_in_bundle(\"G176a3hzm7m3e6sDgcGrhM44FrYhvsrsn7vjap29zq46\")"
   ]
  },
  {
   "cell_type": "code",
   "execution_count": 12,
   "metadata": {
    "ExecuteTime": {
     "end_time": "2024-10-11T16:55:29.691516Z",
     "start_time": "2024-10-11T16:55:24.744269Z"
    }
   },
   "outputs": [
    {
     "data": {
      "text/plain": "{'signatures': ['kNaQJHHEErzgqPLrwSytVBSkX1ZdAGzPvqxK5x4DcthhBUN4SZi2yPWXBxDnmyyz88VyAv5L3jNhZ9fa6gUZBu6'],\n 'bundledPositions': ['61jkB96mRTpfzd83L1Uut1y2xyjg9x5FKzaFz24aVksC',\n  'HjuRvWN6abDLXqj289Rt4aNqZuDcN1xU2CfUg37Q1Aq9',\n  '53kbhcPBLNxB5vywcLn3Rg7Syus2VdfjZFPX2DA6bFbT',\n  'HGWP7gZ9rqcN8WYvCPVA7xcmP8fZuFNjdqFNQZF3a7Yj',\n  '3Wo4xxShf2npMpRyD28UcowiENpPAVCSaZmtZjx3gCDn',\n  '4zhhC3cGMXCtTLdfbPrQrDcv15MzYoBww8uREn1wEJhF',\n  'Gcj62Uc9fS7DNHetLwHxFu19zQHYUMJ1EHHK8GBjcuRg',\n  '58z87UGBDBeWySrNZ276eVnu14YkBYk8PCekKkLK31XU',\n  'CpaU1hjrChKprcm3FHh1uofDWRkXMjYpTdRRMYFDVHZF',\n  '3bHAfffaGXioGd5tCU2JupPkxL3Qspbu7VQaAgrfS4H5']}"
     },
     "execution_count": 12,
     "metadata": {},
     "output_type": "execute_result"
    }
   ],
   "source": [
    "await client.open_orca_positions_in_bundle(\n",
    "    base_symbol=\"devSAMO\",\n",
    "    quote_symbol=\"devUSDC\",\n",
    "    tick_spacing=64,\n",
    "    lower_price=\"0.005\",\n",
    "    upper_price=\"0.03\",\n",
    "    position_bundle_address=\"G176a3hzm7m3e6sDgcGrhM44FrYhvsrsn7vjap29zq46\",\n",
    "    number_of_positions=10\n",
    ")\n"
   ]
  },
  {
   "cell_type": "code",
   "execution_count": 13,
   "outputs": [
    {
     "data": {
      "text/plain": "{'position': '61jkB96mRTpfzd83L1Uut1y2xyjg9x5FKzaFz24aVksC',\n 'whirlpoolAddress': 'EgxU92G34jw6QDG9RuTX9StFg1PmHuDqkRKAE5kVEiZ4',\n 'whirlpoolPrice': '0.010011',\n 'tokenA': 'Jd4M8bfJG3sAkd82RsGWyEXoaBXQP7njFzBwEaCTuDa',\n 'tokenB': 'BRjpCHtyQLNCo8gqRUr8jtdAj5AjPYQaoqbvcZiHok1k',\n 'liquidity': '0',\n 'lower': {'tickIndex': -122048, 'price': '0.005009'},\n 'upper': {'tickIndex': -117952, 'price': '0.007545'},\n 'amountA': '0',\n 'amountB': '0'}"
     },
     "execution_count": 13,
     "metadata": {},
     "output_type": "execute_result"
    }
   ],
   "source": [
    "await client.get_orca_position(\"61jkB96mRTpfzd83L1Uut1y2xyjg9x5FKzaFz24aVksC\")"
   ],
   "metadata": {
    "collapsed": false,
    "ExecuteTime": {
     "end_time": "2024-10-11T16:56:22.589866Z",
     "start_time": "2024-10-11T16:56:20.574142Z"
    }
   }
  },
  {
   "cell_type": "code",
   "execution_count": 14,
   "metadata": {
    "ExecuteTime": {
     "end_time": "2024-10-11T16:57:05.171277Z",
     "start_time": "2024-10-11T16:56:44.721646Z"
    }
   },
   "outputs": [
    {
     "data": {
      "text/plain": "{'baseToken': {'address': 'Jd4M8bfJG3sAkd82RsGWyEXoaBXQP7njFzBwEaCTuDa',\n  'name': 'devSAMO',\n  'symbol': 'devSAMO',\n  'decimals': 9,\n  'amountBefore': 0,\n  'amountAfter': 0,\n  'chainId': 103},\n 'quoteToken': {'address': 'BRjpCHtyQLNCo8gqRUr8jtdAj5AjPYQaoqbvcZiHok1k',\n  'name': 'devUSDC',\n  'symbol': 'devUSDC',\n  'decimals': 6,\n  'amountBefore': 0,\n  'amountAfter': 10,\n  'chainId': 103},\n 'signature': '2QpRYzq1BHJe5RJBBiA5pkgqf1zrLzqmTMhpCh2MPNDxLtkhSPXteDjRukLWt31AQyFWFkCywTDhKJZv3RNLXmXK',\n 'liquidityBefore': '0',\n 'liquidityAfter': '19659376029'}"
     },
     "execution_count": 14,
     "metadata": {},
     "output_type": "execute_result"
    }
   ],
   "source": [
    "await client.add_liquidity(\n",
    "    position_address=\"61jkB96mRTpfzd83L1Uut1y2xyjg9x5FKzaFz24aVksC\",\n",
    "    quote_token_amount=10,\n",
    "    slippage_pct=0.5\n",
    ")"
   ]
  },
  {
   "cell_type": "code",
   "execution_count": null,
   "metadata": {},
   "outputs": [],
   "source": []
  }
 ],
 "metadata": {
  "kernelspec": {
   "display_name": "quants-lab",
   "language": "python",
   "name": "python3"
  },
  "language_info": {
   "codemirror_mode": {
    "name": "ipython",
    "version": 3
   },
   "file_extension": ".py",
   "mimetype": "text/x-python",
   "name": "python",
   "nbconvert_exporter": "python",
   "pygments_lexer": "ipython3",
   "version": "3.10.14"
  }
 },
 "nbformat": 4,
 "nbformat_minor": 2
}
