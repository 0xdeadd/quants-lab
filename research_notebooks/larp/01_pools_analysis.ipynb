{
 "cells": [
  {
   "cell_type": "code",
   "execution_count": 1,
   "metadata": {
    "ExecuteTime": {
     "end_time": "2024-10-11T22:24:50.449079Z",
     "start_time": "2024-10-11T22:24:50.157960Z"
    }
   },
   "outputs": [],
   "source": [
    "import asyncio\n",
    "# This is necessary to recognize the modules\n",
    "import os\n",
    "import sys\n",
    "from decimal import Decimal\n",
    "import warnings\n",
    "\n",
    "import pandas as pd\n",
    "\n",
    "warnings.filterwarnings(\"ignore\")\n",
    "\n",
    "root_path = os.path.abspath(os.path.join(os.getcwd(), '../..'))\n",
    "sys.path.append(root_path)"
   ]
  },
  {
   "cell_type": "code",
   "execution_count": 2,
   "metadata": {
    "ExecuteTime": {
     "end_time": "2024-10-11T22:24:51.007556Z",
     "start_time": "2024-10-11T22:24:50.850096Z"
    }
   },
   "outputs": [],
   "source": [
    "from core.services.larp_client import LarpClient\n",
    "from geckoterminal_py import GeckoTerminalAsyncClient\n",
    "import pandas as pd\n",
    "import asyncio\n",
    "\n",
    "\n",
    "client = LarpClient()\n",
    "gt = GeckoTerminalAsyncClient()"
   ]
  },
  {
   "cell_type": "code",
   "execution_count": 3,
   "metadata": {
    "ExecuteTime": {
     "end_time": "2024-10-11T22:24:52.066329Z",
     "start_time": "2024-10-11T22:24:52.061091Z"
    },
    "collapsed": false
   },
   "outputs": [],
   "source": [
    "# Criteria\n",
    "MIN_POOL_AGE_DAYS = 7\n",
    "MAX_POOL_AGE_DAYS = 720\n",
    "MIN_MARKET_CAP = 1_000_000\n",
    "MAX_MARKET_CAP = 100_000_000\n",
    "MIN_VOLUME_24H = 100_000\n",
    "MIN_LIQUIDITY = 10_000\n",
    "NETWORK = \"solana\"\n",
    "DEX = \"orca\"\n",
    "QUOTE_ASSET = \"SOL\""
   ]
  },
  {
   "cell_type": "code",
   "execution_count": 4,
   "metadata": {
    "ExecuteTime": {
     "end_time": "2024-10-11T22:25:00.157370Z",
     "start_time": "2024-10-11T22:24:54.785029Z"
    },
    "collapsed": false
   },
   "outputs": [],
   "source": [
    "pools = await gt.get_top_pools_by_network_dex(NETWORK, DEX)"
   ]
  },
  {
   "cell_type": "code",
   "execution_count": 5,
   "metadata": {
    "ExecuteTime": {
     "end_time": "2024-10-11T22:25:35.040650Z",
     "start_time": "2024-10-11T22:25:35.039234Z"
    },
    "collapsed": false
   },
   "outputs": [],
   "source": [
    "pools[\"market_cap_usd\"] = pd.to_numeric(pools[\"market_cap_usd\"])\n",
    "pools[\"volume_usd_h24\"] = pd.to_numeric(pools[\"volume_usd_h24\"])\n",
    "pools[\"reserve_in_usd\"] = pd.to_numeric(pools[\"reserve_in_usd\"])\n",
    "pools[\"pool_created_at\"] = pd.to_datetime(pools[\"pool_created_at\"]).dt.tz_localize(None)\n",
    "pools[\"base\"] = pools[\"name\"].apply(lambda x: x.split(\"/\")[0].strip())\n",
    "pools[\"quote\"] = pools[\"name\"].apply(lambda x: x.split(\"/\")[1].strip())\n",
    "pools[\"volume_liquidity_ratio\"] = pools[\"volume_usd_h24\"] / pools[\"reserve_in_usd\"]"
   ]
  },
  {
   "cell_type": "code",
   "execution_count": 6,
   "metadata": {
    "ExecuteTime": {
     "end_time": "2024-10-11T22:25:36.362064Z",
     "start_time": "2024-10-11T22:25:36.342894Z"
    },
    "collapsed": false
   },
   "outputs": [
    {
     "data": {
      "text/html": [
       "<div>\n",
       "<style scoped>\n",
       "    .dataframe tbody tr th:only-of-type {\n",
       "        vertical-align: middle;\n",
       "    }\n",
       "\n",
       "    .dataframe tbody tr th {\n",
       "        vertical-align: top;\n",
       "    }\n",
       "\n",
       "    .dataframe thead th {\n",
       "        text-align: right;\n",
       "    }\n",
       "</style>\n",
       "<table border=\"1\" class=\"dataframe\">\n",
       "  <thead>\n",
       "    <tr style=\"text-align: right;\">\n",
       "      <th></th>\n",
       "      <th>id</th>\n",
       "      <th>type</th>\n",
       "      <th>name</th>\n",
       "      <th>base_token_price_usd</th>\n",
       "      <th>base_token_price_native_currency</th>\n",
       "      <th>quote_token_price_usd</th>\n",
       "      <th>quote_token_price_native_currency</th>\n",
       "      <th>address</th>\n",
       "      <th>reserve_in_usd</th>\n",
       "      <th>pool_created_at</th>\n",
       "      <th>...</th>\n",
       "      <th>transactions_h1_sells</th>\n",
       "      <th>transactions_h24_buys</th>\n",
       "      <th>transactions_h24_sells</th>\n",
       "      <th>volume_usd_h24</th>\n",
       "      <th>dex_id</th>\n",
       "      <th>base_token_id</th>\n",
       "      <th>quote_token_id</th>\n",
       "      <th>base</th>\n",
       "      <th>quote</th>\n",
       "      <th>volume_liquidity_ratio</th>\n",
       "    </tr>\n",
       "  </thead>\n",
       "  <tbody>\n",
       "    <tr>\n",
       "      <th>0</th>\n",
       "      <td>solana_AHTTzwf3GmVMJdxWM8v2MSxyjZj8rQR6hyAC3g9...</td>\n",
       "      <td>pool</td>\n",
       "      <td>POPCAT / SOL</td>\n",
       "      <td>1.50779872193283279081341366369096223260383407...</td>\n",
       "      <td>0.010286465277830898272964049</td>\n",
       "      <td>146.739111259193053479398442339674264916237291...</td>\n",
       "      <td>1.0</td>\n",
       "      <td>AHTTzwf3GmVMJdxWM8v2MSxyjZj8rQR6hyAC3g9477Yj</td>\n",
       "      <td>2.584788e+06</td>\n",
       "      <td>2024-07-03 22:39:49</td>\n",
       "      <td>...</td>\n",
       "      <td>788</td>\n",
       "      <td>23160</td>\n",
       "      <td>23504</td>\n",
       "      <td>4.087373e+07</td>\n",
       "      <td>orca</td>\n",
       "      <td>solana_7GCihgDB8fe6KNjn2MYtkzZcRjQy3t9GHdC8uHY...</td>\n",
       "      <td>solana_So1111111111111111111111111111111111111...</td>\n",
       "      <td>POPCAT</td>\n",
       "      <td>SOL</td>\n",
       "      <td>15.813182</td>\n",
       "    </tr>\n",
       "    <tr>\n",
       "      <th>1</th>\n",
       "      <td>solana_D6NdKrKNQPmRZCCnG1GqXtF7MMoHB7qR6GU5TkG...</td>\n",
       "      <td>pool</td>\n",
       "      <td>$WIF / SOL</td>\n",
       "      <td>2.71737609637323098940899197183475680787532639...</td>\n",
       "      <td>0.01854722004636222558052729</td>\n",
       "      <td>146.739111259193053479398442339674264916237291...</td>\n",
       "      <td>1.0</td>\n",
       "      <td>D6NdKrKNQPmRZCCnG1GqXtF7MMoHB7qR6GU5TkG59Qz1</td>\n",
       "      <td>2.224150e+06</td>\n",
       "      <td>2024-05-18 20:46:00</td>\n",
       "      <td>...</td>\n",
       "      <td>512</td>\n",
       "      <td>15152</td>\n",
       "      <td>14517</td>\n",
       "      <td>2.656913e+07</td>\n",
       "      <td>orca</td>\n",
       "      <td>solana_EKpQGSJtjMFqKZ9KQanSqYXRcF8fBopzLHYxdM6...</td>\n",
       "      <td>solana_So1111111111111111111111111111111111111...</td>\n",
       "      <td>$WIF</td>\n",
       "      <td>SOL</td>\n",
       "      <td>11.945747</td>\n",
       "    </tr>\n",
       "    <tr>\n",
       "      <th>2</th>\n",
       "      <td>solana_83v8iPyZihDEjDdY8RdZddyZNyUtXngz69Lgo9K...</td>\n",
       "      <td>pool</td>\n",
       "      <td>SOL / USDC</td>\n",
       "      <td>146.739111259193053479398442339674264916237291...</td>\n",
       "      <td>1.0</td>\n",
       "      <td>0.99977485887035993376012983162542688799613181...</td>\n",
       "      <td>0.00681201505896137</td>\n",
       "      <td>83v8iPyZihDEjDdY8RdZddyZNyUtXngz69Lgo9Kt5d6d</td>\n",
       "      <td>1.126179e+05</td>\n",
       "      <td>2023-07-05 14:50:59</td>\n",
       "      <td>...</td>\n",
       "      <td>613</td>\n",
       "      <td>14340</td>\n",
       "      <td>13768</td>\n",
       "      <td>7.170053e+05</td>\n",
       "      <td>orca</td>\n",
       "      <td>solana_So1111111111111111111111111111111111111...</td>\n",
       "      <td>solana_EPjFWdd5AufqSSqeM2qN1xzybapC8G4wEGGkZwy...</td>\n",
       "      <td>SOL</td>\n",
       "      <td>USDC</td>\n",
       "      <td>6.366708</td>\n",
       "    </tr>\n",
       "    <tr>\n",
       "      <th>3</th>\n",
       "      <td>solana_FpCMFDFGYotvufJ7HrFHsWEiiQCGbkLCtwHiDnh...</td>\n",
       "      <td>pool</td>\n",
       "      <td>SOL / USDC</td>\n",
       "      <td>146.739111259193053479398442339674264916237291...</td>\n",
       "      <td>1.0</td>\n",
       "      <td>1.00015977616880897347895742100855591745381961...</td>\n",
       "      <td>0.00681201505896137</td>\n",
       "      <td>FpCMFDFGYotvufJ7HrFHsWEiiQCGbkLCtwHiDnh7o28Q</td>\n",
       "      <td>6.647568e+06</td>\n",
       "      <td>2023-07-05 14:39:00</td>\n",
       "      <td>...</td>\n",
       "      <td>489</td>\n",
       "      <td>13946</td>\n",
       "      <td>13923</td>\n",
       "      <td>1.554340e+07</td>\n",
       "      <td>orca</td>\n",
       "      <td>solana_So1111111111111111111111111111111111111...</td>\n",
       "      <td>solana_EPjFWdd5AufqSSqeM2qN1xzybapC8G4wEGGkZwy...</td>\n",
       "      <td>SOL</td>\n",
       "      <td>USDC</td>\n",
       "      <td>2.338209</td>\n",
       "    </tr>\n",
       "    <tr>\n",
       "      <th>4</th>\n",
       "      <td>solana_CwZbEdMZdxjnPLcRGRz8PwuvA4tK4iBmS9YZrMv...</td>\n",
       "      <td>pool</td>\n",
       "      <td>bSOL / mSOL</td>\n",
       "      <td>170.248662514432942243074345035730344634972670...</td>\n",
       "      <td>1.16021325912022</td>\n",
       "      <td>179.678665026005927916093626957434076799432913...</td>\n",
       "      <td>1.22447698833769</td>\n",
       "      <td>CwZbEdMZdxjnPLcRGRz8PwuvA4tK4iBmS9YZrMvnrNJr</td>\n",
       "      <td>1.721491e+06</td>\n",
       "      <td>2023-07-05 14:44:01</td>\n",
       "      <td>...</td>\n",
       "      <td>638</td>\n",
       "      <td>12328</td>\n",
       "      <td>12653</td>\n",
       "      <td>1.127439e+06</td>\n",
       "      <td>orca</td>\n",
       "      <td>solana_bSo13r4TkiE4KumL71LsHTPpL2euBYLFx6h9HP3...</td>\n",
       "      <td>solana_mSoLzYCxHdYgdzU16g5QSh3i5K3z3KZK7ytfqcJ...</td>\n",
       "      <td>bSOL</td>\n",
       "      <td>mSOL</td>\n",
       "      <td>0.654920</td>\n",
       "    </tr>\n",
       "    <tr>\n",
       "      <th>...</th>\n",
       "      <td>...</td>\n",
       "      <td>...</td>\n",
       "      <td>...</td>\n",
       "      <td>...</td>\n",
       "      <td>...</td>\n",
       "      <td>...</td>\n",
       "      <td>...</td>\n",
       "      <td>...</td>\n",
       "      <td>...</td>\n",
       "      <td>...</td>\n",
       "      <td>...</td>\n",
       "      <td>...</td>\n",
       "      <td>...</td>\n",
       "      <td>...</td>\n",
       "      <td>...</td>\n",
       "      <td>...</td>\n",
       "      <td>...</td>\n",
       "      <td>...</td>\n",
       "      <td>...</td>\n",
       "      <td>...</td>\n",
       "      <td>...</td>\n",
       "    </tr>\n",
       "    <tr>\n",
       "      <th>195</th>\n",
       "      <td>solana_EBDbBce5YUsgJEP8QNza5wHeFScuW4sYiwhBY8Z...</td>\n",
       "      <td>pool</td>\n",
       "      <td>ATLAS / USDC</td>\n",
       "      <td>0.00309523675739812715655289875273332563324889...</td>\n",
       "      <td>0.00002109231421777985887303513350302600072514</td>\n",
       "      <td>0.99969290187282750308143599349317859340944623...</td>\n",
       "      <td>0.00681304003630862</td>\n",
       "      <td>EBDbBce5YUsgJEP8QNza5wHeFScuW4sYiwhBY8ZV8ZwY</td>\n",
       "      <td>1.476120e+04</td>\n",
       "      <td>2023-07-05 14:39:01</td>\n",
       "      <td>...</td>\n",
       "      <td>31</td>\n",
       "      <td>109</td>\n",
       "      <td>322</td>\n",
       "      <td>1.789540e+03</td>\n",
       "      <td>orca</td>\n",
       "      <td>solana_ATLASXmbPQxBUYbxPsV97usA3fPQYEqzQBUHgiF...</td>\n",
       "      <td>solana_EPjFWdd5AufqSSqeM2qN1xzybapC8G4wEGGkZwy...</td>\n",
       "      <td>ATLAS</td>\n",
       "      <td>USDC</td>\n",
       "      <td>0.121233</td>\n",
       "    </tr>\n",
       "    <tr>\n",
       "      <th>196</th>\n",
       "      <td>solana_5r2SKyVDAmaj8HJak4qRS2oLCn2caf3jmrJi8ik...</td>\n",
       "      <td>pool</td>\n",
       "      <td>Bonk / SOL</td>\n",
       "      <td>0.00002185503218536993012150131518778164244543...</td>\n",
       "      <td>0.000000148797436817439</td>\n",
       "      <td>146.726005418212675936683979623555148389668307...</td>\n",
       "      <td>1.0</td>\n",
       "      <td>5r2SKyVDAmaj8HJak4qRS2oLCn2caf3jmrJi8ikRKj6s</td>\n",
       "      <td>2.161138e+03</td>\n",
       "      <td>2024-02-05 07:53:03</td>\n",
       "      <td>...</td>\n",
       "      <td>12</td>\n",
       "      <td>210</td>\n",
       "      <td>218</td>\n",
       "      <td>7.848424e+02</td>\n",
       "      <td>orca</td>\n",
       "      <td>solana_DezXAZ8z7PnrnRJjz3wXBoRgixCa6xjnB7YaB1p...</td>\n",
       "      <td>solana_So1111111111111111111111111111111111111...</td>\n",
       "      <td>Bonk</td>\n",
       "      <td>SOL</td>\n",
       "      <td>0.363162</td>\n",
       "    </tr>\n",
       "    <tr>\n",
       "      <th>197</th>\n",
       "      <td>solana_Ge3RzCy6gyW2iGRDa2w7gTcJvRkSy1RBR8HvvUr...</td>\n",
       "      <td>pool</td>\n",
       "      <td>$WIF / $MYRO</td>\n",
       "      <td>2.72223490189142344042575111758338444421493056...</td>\n",
       "      <td>0.018553154715676275747514165</td>\n",
       "      <td>0.11477057846769320977471984593336726344220004...</td>\n",
       "      <td>0.00078220887464167344663646267994077350814716</td>\n",
       "      <td>Ge3RzCy6gyW2iGRDa2w7gTcJvRkSy1RBR8HvvUrRVnHQ</td>\n",
       "      <td>9.537817e+03</td>\n",
       "      <td>2024-03-23 06:46:00</td>\n",
       "      <td>...</td>\n",
       "      <td>0</td>\n",
       "      <td>195</td>\n",
       "      <td>230</td>\n",
       "      <td>2.287560e+03</td>\n",
       "      <td>orca</td>\n",
       "      <td>solana_EKpQGSJtjMFqKZ9KQanSqYXRcF8fBopzLHYxdM6...</td>\n",
       "      <td>solana_HhJpBhRRn4g56VsyLuT8DL5Bv31HkXqsrahTTUC...</td>\n",
       "      <td>$WIF</td>\n",
       "      <td>$MYRO</td>\n",
       "      <td>0.239841</td>\n",
       "    </tr>\n",
       "    <tr>\n",
       "      <th>198</th>\n",
       "      <td>solana_J7caZ14NDYVUgKboEqfxH9qyynWbkY7U6u72twV...</td>\n",
       "      <td>pool</td>\n",
       "      <td>WYNN / SOL</td>\n",
       "      <td>0.00262964809543889991555599489845706445615778...</td>\n",
       "      <td>0.000018054780057388643380217</td>\n",
       "      <td>146.725566396059365079484970097803677653801263...</td>\n",
       "      <td>1.0</td>\n",
       "      <td>J7caZ14NDYVUgKboEqfxH9qyynWbkY7U6u72twVUXwZ2</td>\n",
       "      <td>6.215997e+03</td>\n",
       "      <td>2024-01-12 01:53:02</td>\n",
       "      <td>...</td>\n",
       "      <td>24</td>\n",
       "      <td>232</td>\n",
       "      <td>188</td>\n",
       "      <td>6.901321e+03</td>\n",
       "      <td>orca</td>\n",
       "      <td>solana_4vqYQTjmKjxrWGtbL2tVkbAU1EVAz9JwcYtd2VE...</td>\n",
       "      <td>solana_So1111111111111111111111111111111111111...</td>\n",
       "      <td>WYNN</td>\n",
       "      <td>SOL</td>\n",
       "      <td>1.110252</td>\n",
       "    </tr>\n",
       "    <tr>\n",
       "      <th>199</th>\n",
       "      <td>solana_8JwS5zosnLFT84S1NebSp1HS6aeaxviXYS7jBh9...</td>\n",
       "      <td>pool</td>\n",
       "      <td>HNT / USDC</td>\n",
       "      <td>6.67156964608223958921918053070779762579343037...</td>\n",
       "      <td>0.045490493009115553880458937</td>\n",
       "      <td>0.99771762955873554445051926953422009571448818...</td>\n",
       "      <td>0.00680186782980976</td>\n",
       "      <td>8JwS5zosnLFT84S1NebSp1HS6aeaxviXYS7jBh9PQ8vp</td>\n",
       "      <td>1.529957e+05</td>\n",
       "      <td>2023-07-05 14:33:04</td>\n",
       "      <td>...</td>\n",
       "      <td>12</td>\n",
       "      <td>196</td>\n",
       "      <td>224</td>\n",
       "      <td>4.913668e+04</td>\n",
       "      <td>orca</td>\n",
       "      <td>solana_hntyVP6YFm1Hg25TN9WGLqM12b8TQmcknKrdu1o...</td>\n",
       "      <td>solana_EPjFWdd5AufqSSqeM2qN1xzybapC8G4wEGGkZwy...</td>\n",
       "      <td>HNT</td>\n",
       "      <td>USDC</td>\n",
       "      <td>0.321164</td>\n",
       "    </tr>\n",
       "  </tbody>\n",
       "</table>\n",
       "<p>200 rows × 25 columns</p>\n",
       "</div>"
      ],
      "text/plain": [
       "                                                    id  type          name  \\\n",
       "0    solana_AHTTzwf3GmVMJdxWM8v2MSxyjZj8rQR6hyAC3g9...  pool  POPCAT / SOL   \n",
       "1    solana_D6NdKrKNQPmRZCCnG1GqXtF7MMoHB7qR6GU5TkG...  pool    $WIF / SOL   \n",
       "2    solana_83v8iPyZihDEjDdY8RdZddyZNyUtXngz69Lgo9K...  pool    SOL / USDC   \n",
       "3    solana_FpCMFDFGYotvufJ7HrFHsWEiiQCGbkLCtwHiDnh...  pool    SOL / USDC   \n",
       "4    solana_CwZbEdMZdxjnPLcRGRz8PwuvA4tK4iBmS9YZrMv...  pool   bSOL / mSOL   \n",
       "..                                                 ...   ...           ...   \n",
       "195  solana_EBDbBce5YUsgJEP8QNza5wHeFScuW4sYiwhBY8Z...  pool  ATLAS / USDC   \n",
       "196  solana_5r2SKyVDAmaj8HJak4qRS2oLCn2caf3jmrJi8ik...  pool    Bonk / SOL   \n",
       "197  solana_Ge3RzCy6gyW2iGRDa2w7gTcJvRkSy1RBR8HvvUr...  pool  $WIF / $MYRO   \n",
       "198  solana_J7caZ14NDYVUgKboEqfxH9qyynWbkY7U6u72twV...  pool    WYNN / SOL   \n",
       "199  solana_8JwS5zosnLFT84S1NebSp1HS6aeaxviXYS7jBh9...  pool    HNT / USDC   \n",
       "\n",
       "                                  base_token_price_usd  \\\n",
       "0    1.50779872193283279081341366369096223260383407...   \n",
       "1    2.71737609637323098940899197183475680787532639...   \n",
       "2    146.739111259193053479398442339674264916237291...   \n",
       "3    146.739111259193053479398442339674264916237291...   \n",
       "4    170.248662514432942243074345035730344634972670...   \n",
       "..                                                 ...   \n",
       "195  0.00309523675739812715655289875273332563324889...   \n",
       "196  0.00002185503218536993012150131518778164244543...   \n",
       "197  2.72223490189142344042575111758338444421493056...   \n",
       "198  0.00262964809543889991555599489845706445615778...   \n",
       "199  6.67156964608223958921918053070779762579343037...   \n",
       "\n",
       "                   base_token_price_native_currency  \\\n",
       "0                     0.010286465277830898272964049   \n",
       "1                      0.01854722004636222558052729   \n",
       "2                                               1.0   \n",
       "3                                               1.0   \n",
       "4                                  1.16021325912022   \n",
       "..                                              ...   \n",
       "195  0.00002109231421777985887303513350302600072514   \n",
       "196                         0.000000148797436817439   \n",
       "197                   0.018553154715676275747514165   \n",
       "198                   0.000018054780057388643380217   \n",
       "199                   0.045490493009115553880458937   \n",
       "\n",
       "                                 quote_token_price_usd  \\\n",
       "0    146.739111259193053479398442339674264916237291...   \n",
       "1    146.739111259193053479398442339674264916237291...   \n",
       "2    0.99977485887035993376012983162542688799613181...   \n",
       "3    1.00015977616880897347895742100855591745381961...   \n",
       "4    179.678665026005927916093626957434076799432913...   \n",
       "..                                                 ...   \n",
       "195  0.99969290187282750308143599349317859340944623...   \n",
       "196  146.726005418212675936683979623555148389668307...   \n",
       "197  0.11477057846769320977471984593336726344220004...   \n",
       "198  146.725566396059365079484970097803677653801263...   \n",
       "199  0.99771762955873554445051926953422009571448818...   \n",
       "\n",
       "                  quote_token_price_native_currency  \\\n",
       "0                                               1.0   \n",
       "1                                               1.0   \n",
       "2                               0.00681201505896137   \n",
       "3                               0.00681201505896137   \n",
       "4                                  1.22447698833769   \n",
       "..                                              ...   \n",
       "195                             0.00681304003630862   \n",
       "196                                             1.0   \n",
       "197  0.00078220887464167344663646267994077350814716   \n",
       "198                                             1.0   \n",
       "199                             0.00680186782980976   \n",
       "\n",
       "                                          address  reserve_in_usd  \\\n",
       "0    AHTTzwf3GmVMJdxWM8v2MSxyjZj8rQR6hyAC3g9477Yj    2.584788e+06   \n",
       "1    D6NdKrKNQPmRZCCnG1GqXtF7MMoHB7qR6GU5TkG59Qz1    2.224150e+06   \n",
       "2    83v8iPyZihDEjDdY8RdZddyZNyUtXngz69Lgo9Kt5d6d    1.126179e+05   \n",
       "3    FpCMFDFGYotvufJ7HrFHsWEiiQCGbkLCtwHiDnh7o28Q    6.647568e+06   \n",
       "4    CwZbEdMZdxjnPLcRGRz8PwuvA4tK4iBmS9YZrMvnrNJr    1.721491e+06   \n",
       "..                                            ...             ...   \n",
       "195  EBDbBce5YUsgJEP8QNza5wHeFScuW4sYiwhBY8ZV8ZwY    1.476120e+04   \n",
       "196  5r2SKyVDAmaj8HJak4qRS2oLCn2caf3jmrJi8ikRKj6s    2.161138e+03   \n",
       "197  Ge3RzCy6gyW2iGRDa2w7gTcJvRkSy1RBR8HvvUrRVnHQ    9.537817e+03   \n",
       "198  J7caZ14NDYVUgKboEqfxH9qyynWbkY7U6u72twVUXwZ2    6.215997e+03   \n",
       "199  8JwS5zosnLFT84S1NebSp1HS6aeaxviXYS7jBh9PQ8vp    1.529957e+05   \n",
       "\n",
       "        pool_created_at  ... transactions_h1_sells  transactions_h24_buys  \\\n",
       "0   2024-07-03 22:39:49  ...                   788                  23160   \n",
       "1   2024-05-18 20:46:00  ...                   512                  15152   \n",
       "2   2023-07-05 14:50:59  ...                   613                  14340   \n",
       "3   2023-07-05 14:39:00  ...                   489                  13946   \n",
       "4   2023-07-05 14:44:01  ...                   638                  12328   \n",
       "..                  ...  ...                   ...                    ...   \n",
       "195 2023-07-05 14:39:01  ...                    31                    109   \n",
       "196 2024-02-05 07:53:03  ...                    12                    210   \n",
       "197 2024-03-23 06:46:00  ...                     0                    195   \n",
       "198 2024-01-12 01:53:02  ...                    24                    232   \n",
       "199 2023-07-05 14:33:04  ...                    12                    196   \n",
       "\n",
       "    transactions_h24_sells volume_usd_h24  dex_id  \\\n",
       "0                    23504   4.087373e+07    orca   \n",
       "1                    14517   2.656913e+07    orca   \n",
       "2                    13768   7.170053e+05    orca   \n",
       "3                    13923   1.554340e+07    orca   \n",
       "4                    12653   1.127439e+06    orca   \n",
       "..                     ...            ...     ...   \n",
       "195                    322   1.789540e+03    orca   \n",
       "196                    218   7.848424e+02    orca   \n",
       "197                    230   2.287560e+03    orca   \n",
       "198                    188   6.901321e+03    orca   \n",
       "199                    224   4.913668e+04    orca   \n",
       "\n",
       "                                         base_token_id  \\\n",
       "0    solana_7GCihgDB8fe6KNjn2MYtkzZcRjQy3t9GHdC8uHY...   \n",
       "1    solana_EKpQGSJtjMFqKZ9KQanSqYXRcF8fBopzLHYxdM6...   \n",
       "2    solana_So1111111111111111111111111111111111111...   \n",
       "3    solana_So1111111111111111111111111111111111111...   \n",
       "4    solana_bSo13r4TkiE4KumL71LsHTPpL2euBYLFx6h9HP3...   \n",
       "..                                                 ...   \n",
       "195  solana_ATLASXmbPQxBUYbxPsV97usA3fPQYEqzQBUHgiF...   \n",
       "196  solana_DezXAZ8z7PnrnRJjz3wXBoRgixCa6xjnB7YaB1p...   \n",
       "197  solana_EKpQGSJtjMFqKZ9KQanSqYXRcF8fBopzLHYxdM6...   \n",
       "198  solana_4vqYQTjmKjxrWGtbL2tVkbAU1EVAz9JwcYtd2VE...   \n",
       "199  solana_hntyVP6YFm1Hg25TN9WGLqM12b8TQmcknKrdu1o...   \n",
       "\n",
       "                                        quote_token_id    base  quote  \\\n",
       "0    solana_So1111111111111111111111111111111111111...  POPCAT    SOL   \n",
       "1    solana_So1111111111111111111111111111111111111...    $WIF    SOL   \n",
       "2    solana_EPjFWdd5AufqSSqeM2qN1xzybapC8G4wEGGkZwy...     SOL   USDC   \n",
       "3    solana_EPjFWdd5AufqSSqeM2qN1xzybapC8G4wEGGkZwy...     SOL   USDC   \n",
       "4    solana_mSoLzYCxHdYgdzU16g5QSh3i5K3z3KZK7ytfqcJ...    bSOL   mSOL   \n",
       "..                                                 ...     ...    ...   \n",
       "195  solana_EPjFWdd5AufqSSqeM2qN1xzybapC8G4wEGGkZwy...   ATLAS   USDC   \n",
       "196  solana_So1111111111111111111111111111111111111...    Bonk    SOL   \n",
       "197  solana_HhJpBhRRn4g56VsyLuT8DL5Bv31HkXqsrahTTUC...    $WIF  $MYRO   \n",
       "198  solana_So1111111111111111111111111111111111111...    WYNN    SOL   \n",
       "199  solana_EPjFWdd5AufqSSqeM2qN1xzybapC8G4wEGGkZwy...     HNT   USDC   \n",
       "\n",
       "    volume_liquidity_ratio  \n",
       "0                15.813182  \n",
       "1                11.945747  \n",
       "2                 6.366708  \n",
       "3                 2.338209  \n",
       "4                 0.654920  \n",
       "..                     ...  \n",
       "195               0.121233  \n",
       "196               0.363162  \n",
       "197               0.239841  \n",
       "198               1.110252  \n",
       "199               0.321164  \n",
       "\n",
       "[200 rows x 25 columns]"
      ]
     },
     "execution_count": 6,
     "metadata": {},
     "output_type": "execute_result"
    }
   ],
   "source": [
    "pools"
   ]
  },
  {
   "cell_type": "code",
   "execution_count": 7,
   "metadata": {
    "ExecuteTime": {
     "end_time": "2024-10-11T22:44:43.390066Z",
     "start_time": "2024-10-11T22:44:07.812922Z"
    },
    "collapsed": false
   },
   "outputs": [
    {
     "name": "stdout",
     "output_type": "stream",
     "text": [
      "Error: 500 - {\"statusCode\":500,\"error\":\"Internal Server Error\",\"message\":\"An error occurred while fetching pool info\"}\n",
      "Error with pool 8kVPz3px43yiCysesi91jGpEtzjc5AzNATRPQevhuB8p\n",
      "Error: 500 - {\"statusCode\":500,\"error\":\"Internal Server Error\",\"message\":\"An error occurred while fetching pool info\"}\n",
      "Error with pool 8JptKdcwKdARFFfAy4SJtx9j1fMoFyYnGPh4LGqG2pRL\n",
      "Error: 500 - {\"statusCode\":500,\"error\":\"Internal Server Error\",\"message\":\"An error occurred while fetching pool info\"}\n",
      "Error with pool 2TmgxdB26y653ty5P9bmaMbp2axqwfbdjV1ii3pcvC29\n"
     ]
    }
   ],
   "source": [
    "from datetime import datetime, timedelta\n",
    "\n",
    "min_pool_date_created = datetime.utcnow() - timedelta(days=MIN_POOL_AGE_DAYS)\n",
    "max_pool_date_created = datetime.utcnow() - timedelta(days=MAX_POOL_AGE_DAYS)\n",
    "pools_filtered = pools[(pools[\"market_cap_usd\"] > MIN_MARKET_CAP) & (pools[\"market_cap_usd\"] < MAX_MARKET_CAP) & (pools[\"volume_usd_h24\"] > MIN_VOLUME_24H) & (pools[\"reserve_in_usd\"] > MIN_LIQUIDITY) & (pools[\"pool_created_at\"] < min_pool_date_created) & (pools[\"pool_created_at\"] > max_pool_date_created) & (pools[\"quote\"] == QUOTE_ASSET)]\n",
    "fee_rates = []\n",
    "tick_spacings = []\n",
    "liquidity = []\n",
    "for i, pool in pools_filtered.iterrows():\n",
    "    try:\n",
    "        pool_info = await client.get_pool_info(pool[\"address\"])\n",
    "        fee_rates.append(pool_info[\"feeRateBps\"])\n",
    "        tick_spacings.append(pool_info[\"tickSpacing\"])\n",
    "        liquidity.append(pool_info[\"liquidity\"])\n",
    "        await asyncio.sleep(2)\n",
    "    except:\n",
    "        fee_rates.append(None)\n",
    "        tick_spacings.append(None)\n",
    "        liquidity.append(None)\n",
    "        print(f\"Error with pool {pool['address']}\")\n",
    "pools_filtered[\"fee_rate\"] = fee_rates\n",
    "pools_filtered[\"tick_spacing\"] = tick_spacings\n",
    "pools_filtered[\"liquidity\"] = liquidity"
   ]
  },
  {
   "cell_type": "code",
   "execution_count": 8,
   "metadata": {
    "ExecuteTime": {
     "end_time": "2024-10-11T22:44:48.156745Z",
     "start_time": "2024-10-11T22:44:48.126376Z"
    },
    "collapsed": false
   },
   "outputs": [
    {
     "data": {
      "text/html": [
       "<div>\n",
       "<style scoped>\n",
       "    .dataframe tbody tr th:only-of-type {\n",
       "        vertical-align: middle;\n",
       "    }\n",
       "\n",
       "    .dataframe tbody tr th {\n",
       "        vertical-align: top;\n",
       "    }\n",
       "\n",
       "    .dataframe thead th {\n",
       "        text-align: right;\n",
       "    }\n",
       "</style>\n",
       "<table border=\"1\" class=\"dataframe\">\n",
       "  <thead>\n",
       "    <tr style=\"text-align: right;\">\n",
       "      <th></th>\n",
       "      <th>id</th>\n",
       "      <th>type</th>\n",
       "      <th>name</th>\n",
       "      <th>base_token_price_usd</th>\n",
       "      <th>base_token_price_native_currency</th>\n",
       "      <th>quote_token_price_usd</th>\n",
       "      <th>quote_token_price_native_currency</th>\n",
       "      <th>address</th>\n",
       "      <th>reserve_in_usd</th>\n",
       "      <th>pool_created_at</th>\n",
       "      <th>...</th>\n",
       "      <th>volume_usd_h24</th>\n",
       "      <th>dex_id</th>\n",
       "      <th>base_token_id</th>\n",
       "      <th>quote_token_id</th>\n",
       "      <th>base</th>\n",
       "      <th>quote</th>\n",
       "      <th>volume_liquidity_ratio</th>\n",
       "      <th>fee_rate</th>\n",
       "      <th>tick_spacing</th>\n",
       "      <th>liquidity</th>\n",
       "    </tr>\n",
       "  </thead>\n",
       "  <tbody>\n",
       "    <tr>\n",
       "      <th>119</th>\n",
       "      <td>solana_9qyqY3BPfc2Ex9BktiZhDJwfqVHChHXwTQpFNH1...</td>\n",
       "      <td>pool</td>\n",
       "      <td>GINNAN / SOL</td>\n",
       "      <td>0.00000201907665288414305644277112080465655945...</td>\n",
       "      <td>0.00000001397897482273685894123435307290850769...</td>\n",
       "      <td>146.725566396059365079484970097803677653801263...</td>\n",
       "      <td>1.0</td>\n",
       "      <td>9qyqY3BPfc2Ex9BktiZhDJwfqVHChHXwTQpFNH136psy</td>\n",
       "      <td>4.896574e+04</td>\n",
       "      <td>2024-07-29 07:26:00</td>\n",
       "      <td>...</td>\n",
       "      <td>1.706224e+05</td>\n",
       "      <td>orca</td>\n",
       "      <td>solana_GinNabffZL4fUj9Vactxha74GDAW8kDPGaHqMtM...</td>\n",
       "      <td>solana_So1111111111111111111111111111111111111...</td>\n",
       "      <td>GINNAN</td>\n",
       "      <td>SOL</td>\n",
       "      <td>3.484526</td>\n",
       "      <td>100.0</td>\n",
       "      <td>128.0</td>\n",
       "      <td>182012584168488</td>\n",
       "    </tr>\n",
       "    <tr>\n",
       "      <th>99</th>\n",
       "      <td>solana_8kVPz3px43yiCysesi91jGpEtzjc5AzNATRPQev...</td>\n",
       "      <td>pool</td>\n",
       "      <td>alpha / SOL</td>\n",
       "      <td>0.00784715344053132344724145065400961706309723...</td>\n",
       "      <td>0.000053606106370048034825891</td>\n",
       "      <td>146.732280530450560626080011116018309037105542...</td>\n",
       "      <td>1.0</td>\n",
       "      <td>8kVPz3px43yiCysesi91jGpEtzjc5AzNATRPQevhuB8p</td>\n",
       "      <td>5.443087e+04</td>\n",
       "      <td>2024-09-22 23:22:28</td>\n",
       "      <td>...</td>\n",
       "      <td>1.733381e+05</td>\n",
       "      <td>orca</td>\n",
       "      <td>solana_2zrH2jE542mzB4HABgBjdWMQPtNC5H12pwo1iLp...</td>\n",
       "      <td>solana_So1111111111111111111111111111111111111...</td>\n",
       "      <td>alpha</td>\n",
       "      <td>SOL</td>\n",
       "      <td>3.184555</td>\n",
       "      <td>NaN</td>\n",
       "      <td>NaN</td>\n",
       "      <td>None</td>\n",
       "    </tr>\n",
       "    <tr>\n",
       "      <th>13</th>\n",
       "      <td>solana_6P1JbEwYEaXZBP9skhXpZZaaHqbXvd8VwdqNUsk...</td>\n",
       "      <td>pool</td>\n",
       "      <td>ZYN / SOL</td>\n",
       "      <td>0.09129610520601853459086206860103563835262490...</td>\n",
       "      <td>0.000626204201716053</td>\n",
       "      <td>146.739111259193053479398442339674264916237291...</td>\n",
       "      <td>1.0</td>\n",
       "      <td>6P1JbEwYEaXZBP9skhXpZZaaHqbXvd8VwdqNUsk9QkPU</td>\n",
       "      <td>7.973046e+05</td>\n",
       "      <td>2024-03-11 13:23:03</td>\n",
       "      <td>...</td>\n",
       "      <td>2.107711e+06</td>\n",
       "      <td>orca</td>\n",
       "      <td>solana_PzuaVAUH2tfxGZcbBR6kMxeJsBngnsPLFotGJNC...</td>\n",
       "      <td>solana_So1111111111111111111111111111111111111...</td>\n",
       "      <td>ZYN</td>\n",
       "      <td>SOL</td>\n",
       "      <td>2.643546</td>\n",
       "      <td>30.0</td>\n",
       "      <td>64.0</td>\n",
       "      <td>50987667210894</td>\n",
       "    </tr>\n",
       "    <tr>\n",
       "      <th>117</th>\n",
       "      <td>solana_8JptKdcwKdARFFfAy4SJtx9j1fMoFyYnGPh4LGq...</td>\n",
       "      <td>pool</td>\n",
       "      <td>🐕 / SOL</td>\n",
       "      <td>0.00889117693625007110685583278777302083371626...</td>\n",
       "      <td>0.000059788023089860257204269</td>\n",
       "      <td>146.648456580026077921291134202224812329421764...</td>\n",
       "      <td>1.0</td>\n",
       "      <td>8JptKdcwKdARFFfAy4SJtx9j1fMoFyYnGPh4LGqG2pRL</td>\n",
       "      <td>4.512132e+04</td>\n",
       "      <td>2024-10-02 03:28:01</td>\n",
       "      <td>...</td>\n",
       "      <td>1.157516e+05</td>\n",
       "      <td>orca</td>\n",
       "      <td>solana_DLScRnWofxiYGqnvZWGy9Gt98MPqKdznaK4TRuk...</td>\n",
       "      <td>solana_So1111111111111111111111111111111111111...</td>\n",
       "      <td>🐕</td>\n",
       "      <td>SOL</td>\n",
       "      <td>2.565341</td>\n",
       "      <td>NaN</td>\n",
       "      <td>NaN</td>\n",
       "      <td>None</td>\n",
       "    </tr>\n",
       "    <tr>\n",
       "      <th>181</th>\n",
       "      <td>solana_HU4mukYu86NQBg5XW3FwVUu3Y5oFResowkeUryi...</td>\n",
       "      <td>pool</td>\n",
       "      <td>LOCKIN / SOL</td>\n",
       "      <td>0.05201197847995445653981654850727835935421211...</td>\n",
       "      <td>0.000352654636578887232381281</td>\n",
       "      <td>146.739111259193053479398442339674264916237291...</td>\n",
       "      <td>1.0</td>\n",
       "      <td>HU4mukYu86NQBg5XW3FwVUu3Y5oFResowkeUryi8D6eN</td>\n",
       "      <td>7.721142e+04</td>\n",
       "      <td>2024-06-03 03:58:28</td>\n",
       "      <td>...</td>\n",
       "      <td>1.794425e+05</td>\n",
       "      <td>orca</td>\n",
       "      <td>solana_8Ki8DpuWNxu9VsS3kQbarsCWMcFGWkzzA8pUPto...</td>\n",
       "      <td>solana_So1111111111111111111111111111111111111...</td>\n",
       "      <td>LOCKIN</td>\n",
       "      <td>SOL</td>\n",
       "      <td>2.324041</td>\n",
       "      <td>100.0</td>\n",
       "      <td>128.0</td>\n",
       "      <td>67455201365791</td>\n",
       "    </tr>\n",
       "    <tr>\n",
       "      <th>111</th>\n",
       "      <td>solana_9BTidgAt1T18SSr1x9Xetig3gLCE7D1AMyssXMK...</td>\n",
       "      <td>pool</td>\n",
       "      <td>PENG / SOL</td>\n",
       "      <td>0.20708209453997984526587778824359333362437546...</td>\n",
       "      <td>0.001441236814483954133129748</td>\n",
       "      <td>146.689751553117249617468185513180043171872754...</td>\n",
       "      <td>1.0</td>\n",
       "      <td>9BTidgAt1T18SSr1x9Xetig3gLCE7D1AMyssXMKJCLKh</td>\n",
       "      <td>6.759658e+04</td>\n",
       "      <td>2024-03-13 10:03:03</td>\n",
       "      <td>...</td>\n",
       "      <td>1.525771e+05</td>\n",
       "      <td>orca</td>\n",
       "      <td>solana_A3eME5CetyZPBoWbRUwY3tSe25S6tb18ba9ZPbW...</td>\n",
       "      <td>solana_So1111111111111111111111111111111111111...</td>\n",
       "      <td>PENG</td>\n",
       "      <td>SOL</td>\n",
       "      <td>2.257171</td>\n",
       "      <td>100.0</td>\n",
       "      <td>128.0</td>\n",
       "      <td>444721099312</td>\n",
       "    </tr>\n",
       "    <tr>\n",
       "      <th>44</th>\n",
       "      <td>solana_8S24t7whcEUn8VuBRXwritKRy27NfdSWLrRz5gw...</td>\n",
       "      <td>pool</td>\n",
       "      <td>MOBILE / SOL</td>\n",
       "      <td>0.00097378354785851562424421539362921179373073...</td>\n",
       "      <td>0.00000657673097721939</td>\n",
       "      <td>146.739111259193053479398442339674264916237291...</td>\n",
       "      <td>1.0</td>\n",
       "      <td>8S24t7whcEUn8VuBRXwritKRy27NfdSWLrRz5gwQXJ9f</td>\n",
       "      <td>1.089048e+05</td>\n",
       "      <td>2024-02-13 04:33:03</td>\n",
       "      <td>...</td>\n",
       "      <td>2.253199e+05</td>\n",
       "      <td>orca</td>\n",
       "      <td>solana_mb1eu7TzEc71KxDpsmsKoucSSuuoGLv1drys1oP...</td>\n",
       "      <td>solana_So1111111111111111111111111111111111111...</td>\n",
       "      <td>MOBILE</td>\n",
       "      <td>SOL</td>\n",
       "      <td>2.068963</td>\n",
       "      <td>16.0</td>\n",
       "      <td>16.0</td>\n",
       "      <td>45225947384185</td>\n",
       "    </tr>\n",
       "    <tr>\n",
       "      <th>138</th>\n",
       "      <td>solana_AGsEkdwzLMDdTzjnHPv2QdKbXhcUfG9udDdauWH...</td>\n",
       "      <td>pool</td>\n",
       "      <td>SIGMA / SOL</td>\n",
       "      <td>0.08416929297022537107226046030097955762608311...</td>\n",
       "      <td>0.000594766227056278337851095</td>\n",
       "      <td>146.739111259193053479398442339674264916237291...</td>\n",
       "      <td>1.0</td>\n",
       "      <td>AGsEkdwzLMDdTzjnHPv2QdKbXhcUfG9udDdauWH1E7kk</td>\n",
       "      <td>2.999367e+05</td>\n",
       "      <td>2024-07-12 20:52:59</td>\n",
       "      <td>...</td>\n",
       "      <td>5.606902e+05</td>\n",
       "      <td>orca</td>\n",
       "      <td>solana_5SVG3T9CNQsm2kEwzbRq6hASqh1oGfjqTtLXYUi...</td>\n",
       "      <td>solana_So1111111111111111111111111111111111111...</td>\n",
       "      <td>SIGMA</td>\n",
       "      <td>SOL</td>\n",
       "      <td>1.869362</td>\n",
       "      <td>200.0</td>\n",
       "      <td>256.0</td>\n",
       "      <td>7386736183406</td>\n",
       "    </tr>\n",
       "    <tr>\n",
       "      <th>25</th>\n",
       "      <td>solana_7BZzoP3QB2zK3R7WqRzjS5fpeeErgdy3HGzxXrN...</td>\n",
       "      <td>pool</td>\n",
       "      <td>WEN / SOL</td>\n",
       "      <td>0.00010525310070475697426025234324636951763306...</td>\n",
       "      <td>0.000000707592621294964</td>\n",
       "      <td>146.725566396059365079484970097803677653801263...</td>\n",
       "      <td>1.0</td>\n",
       "      <td>7BZzoP3QB2zK3R7WqRzjS5fpeeErgdy3HGzxXrN97aEY</td>\n",
       "      <td>3.397690e+05</td>\n",
       "      <td>2024-01-26 16:03:04</td>\n",
       "      <td>...</td>\n",
       "      <td>6.303152e+05</td>\n",
       "      <td>orca</td>\n",
       "      <td>solana_WENWENvqqNya429ubCdR81ZmD69brwQaaBYY6p3...</td>\n",
       "      <td>solana_So1111111111111111111111111111111111111...</td>\n",
       "      <td>WEN</td>\n",
       "      <td>SOL</td>\n",
       "      <td>1.855129</td>\n",
       "      <td>16.0</td>\n",
       "      <td>16.0</td>\n",
       "      <td>64673518864541</td>\n",
       "    </tr>\n",
       "    <tr>\n",
       "      <th>60</th>\n",
       "      <td>solana_369QdoDGUhHU2FzNNBcnk8BztwTYtKAo1fAKNvF...</td>\n",
       "      <td>pool</td>\n",
       "      <td>SILLY / SOL</td>\n",
       "      <td>0.02283073108196366247853395382521511313099202...</td>\n",
       "      <td>0.000155185800602711024548357</td>\n",
       "      <td>146.725566396059365079484970097803677653801263...</td>\n",
       "      <td>1.0</td>\n",
       "      <td>369QdoDGUhHU2FzNNBcnk8BztwTYtKAo1fAKNvFoW5BE</td>\n",
       "      <td>1.778153e+05</td>\n",
       "      <td>2023-12-16 05:03:03</td>\n",
       "      <td>...</td>\n",
       "      <td>2.755357e+05</td>\n",
       "      <td>orca</td>\n",
       "      <td>solana_7EYnhQoR9YM3N7UoaKRoA44Uy8JeaZV3qyouov8...</td>\n",
       "      <td>solana_So1111111111111111111111111111111111111...</td>\n",
       "      <td>SILLY</td>\n",
       "      <td>SOL</td>\n",
       "      <td>1.549562</td>\n",
       "      <td>100.0</td>\n",
       "      <td>128.0</td>\n",
       "      <td>56850681944439</td>\n",
       "    </tr>\n",
       "    <tr>\n",
       "      <th>179</th>\n",
       "      <td>solana_2TmgxdB26y653ty5P9bmaMbp2axqwfbdjV1ii3p...</td>\n",
       "      <td>pool</td>\n",
       "      <td>PESTO / SOL</td>\n",
       "      <td>0.00380995989684199120210313964790046724521554...</td>\n",
       "      <td>0.00002592331975871090529263</td>\n",
       "      <td>146.732280530450560626080011116018309037105542...</td>\n",
       "      <td>1.0</td>\n",
       "      <td>2TmgxdB26y653ty5P9bmaMbp2axqwfbdjV1ii3pcvC29</td>\n",
       "      <td>1.588099e+05</td>\n",
       "      <td>2024-09-21 16:00:00</td>\n",
       "      <td>...</td>\n",
       "      <td>1.709379e+05</td>\n",
       "      <td>orca</td>\n",
       "      <td>solana_34a8ALsPmbWxp7D3bQ6erERrCLz1ahr6u6o66Ud...</td>\n",
       "      <td>solana_So1111111111111111111111111111111111111...</td>\n",
       "      <td>PESTO</td>\n",
       "      <td>SOL</td>\n",
       "      <td>1.076368</td>\n",
       "      <td>NaN</td>\n",
       "      <td>NaN</td>\n",
       "      <td>None</td>\n",
       "    </tr>\n",
       "    <tr>\n",
       "      <th>152</th>\n",
       "      <td>solana_66EJHtNydK1icLA1Zq21LwGwnqkZzmuuWLf495a...</td>\n",
       "      <td>pool</td>\n",
       "      <td>BILLY / SOL</td>\n",
       "      <td>0.03738804712604944588398148471785788176498950...</td>\n",
       "      <td>0.000258415971613105122319547</td>\n",
       "      <td>146.725566396059365079484970097803677653801263...</td>\n",
       "      <td>1.0</td>\n",
       "      <td>66EJHtNydK1icLA1Zq21LwGwnqkZzmuuWLf495aN4mnX</td>\n",
       "      <td>3.312919e+05</td>\n",
       "      <td>2024-06-19 00:01:08</td>\n",
       "      <td>...</td>\n",
       "      <td>3.169504e+05</td>\n",
       "      <td>orca</td>\n",
       "      <td>solana_3B5wuUrMEi5yATD7on46hKfej3pfmd7t1RKgrsN...</td>\n",
       "      <td>solana_So1111111111111111111111111111111111111...</td>\n",
       "      <td>BILLY</td>\n",
       "      <td>SOL</td>\n",
       "      <td>0.956710</td>\n",
       "      <td>100.0</td>\n",
       "      <td>128.0</td>\n",
       "      <td>7830288908079</td>\n",
       "    </tr>\n",
       "    <tr>\n",
       "      <th>42</th>\n",
       "      <td>solana_DxD41srN8Xk9QfYjdNXF9tTnP6qQxeF2bZF8s1e...</td>\n",
       "      <td>pool</td>\n",
       "      <td>INF / SOL</td>\n",
       "      <td>181.972607027046650434111354524163053185519002...</td>\n",
       "      <td>1.24046863824874</td>\n",
       "      <td>146.726005418212675936683979623555148389668307...</td>\n",
       "      <td>1.0</td>\n",
       "      <td>DxD41srN8Xk9QfYjdNXF9tTnP6qQxeF2bZF8s1eN62Pe</td>\n",
       "      <td>3.153255e+06</td>\n",
       "      <td>2023-07-05 14:40:02</td>\n",
       "      <td>...</td>\n",
       "      <td>2.481360e+06</td>\n",
       "      <td>orca</td>\n",
       "      <td>solana_5oVNBeEEQvYi1cX3ir8Dx5n1P7pdxydbGF2X4Tx...</td>\n",
       "      <td>solana_So1111111111111111111111111111111111111...</td>\n",
       "      <td>INF</td>\n",
       "      <td>SOL</td>\n",
       "      <td>0.786920</td>\n",
       "      <td>1.0</td>\n",
       "      <td>1.0</td>\n",
       "      <td>16469271234632568</td>\n",
       "    </tr>\n",
       "    <tr>\n",
       "      <th>159</th>\n",
       "      <td>solana_7B12MDALsnmgLeqxGfJDeLUuPvkekHNyA9rvXEg...</td>\n",
       "      <td>pool</td>\n",
       "      <td>GIKO / SOL</td>\n",
       "      <td>4.67979860236581325152475245183041219529464010...</td>\n",
       "      <td>0.032053153700411826599097479</td>\n",
       "      <td>146.739111259193053479398442339674264916237291...</td>\n",
       "      <td>1.0</td>\n",
       "      <td>7B12MDALsnmgLeqxGfJDeLUuPvkekHNyA9rvXEgnQ7bj</td>\n",
       "      <td>1.832767e+05</td>\n",
       "      <td>2024-05-02 07:27:32</td>\n",
       "      <td>...</td>\n",
       "      <td>1.258123e+05</td>\n",
       "      <td>orca</td>\n",
       "      <td>solana_3WPep4ufaToK1aS5s8BL9inzeUrt4DYaQCiic6Z...</td>\n",
       "      <td>solana_So1111111111111111111111111111111111111...</td>\n",
       "      <td>GIKO</td>\n",
       "      <td>SOL</td>\n",
       "      <td>0.686461</td>\n",
       "      <td>100.0</td>\n",
       "      <td>128.0</td>\n",
       "      <td>5049875057866</td>\n",
       "    </tr>\n",
       "    <tr>\n",
       "      <th>72</th>\n",
       "      <td>solana_GgvEV7WiEM9t7xobkBUw54x5XSXZH9mZ1vf43hC...</td>\n",
       "      <td>pool</td>\n",
       "      <td>CROWN / SOL</td>\n",
       "      <td>0.41333564540780836620345353846353469313614780...</td>\n",
       "      <td>0.00281702855989542</td>\n",
       "      <td>146.725566396059365079484970097803677653801263...</td>\n",
       "      <td>1.0</td>\n",
       "      <td>GgvEV7WiEM9t7xobkBUw54x5XSXZH9mZ1vf43hCmrVyX</td>\n",
       "      <td>7.812855e+05</td>\n",
       "      <td>2023-07-05 14:42:01</td>\n",
       "      <td>...</td>\n",
       "      <td>2.686252e+05</td>\n",
       "      <td>orca</td>\n",
       "      <td>solana_GDfnEsia2WLAW5t8yx2X5j2mkfA74i5kwGdDuZH...</td>\n",
       "      <td>solana_So1111111111111111111111111111111111111...</td>\n",
       "      <td>CROWN</td>\n",
       "      <td>SOL</td>\n",
       "      <td>0.343825</td>\n",
       "      <td>30.0</td>\n",
       "      <td>64.0</td>\n",
       "      <td>112080622027548</td>\n",
       "    </tr>\n",
       "    <tr>\n",
       "      <th>169</th>\n",
       "      <td>solana_4ZPYGoax8uz1LTciwf58gqtFKmk1t3oqwm6aSTd...</td>\n",
       "      <td>pool</td>\n",
       "      <td>MOTHER / SOL</td>\n",
       "      <td>0.07932026358249208697530369369194976878658892...</td>\n",
       "      <td>0.000537092148430761720420965</td>\n",
       "      <td>146.732280530450560626080011116018309037105542...</td>\n",
       "      <td>1.0</td>\n",
       "      <td>4ZPYGoax8uz1LTciwf58gqtFKmk1t3oqwm6aSTdkWZ4D</td>\n",
       "      <td>8.096882e+05</td>\n",
       "      <td>2024-05-29 00:47:42</td>\n",
       "      <td>...</td>\n",
       "      <td>2.686774e+05</td>\n",
       "      <td>orca</td>\n",
       "      <td>solana_3S8qX1MsMqRbiwKg2cQyx7nis1oHMgaCuc9c4Vf...</td>\n",
       "      <td>solana_So1111111111111111111111111111111111111...</td>\n",
       "      <td>MOTHER</td>\n",
       "      <td>SOL</td>\n",
       "      <td>0.331828</td>\n",
       "      <td>100.0</td>\n",
       "      <td>128.0</td>\n",
       "      <td>18358212559636</td>\n",
       "    </tr>\n",
       "    <tr>\n",
       "      <th>182</th>\n",
       "      <td>solana_ALUvp16ecvkD9JD7Hbc2ocecBtE9comyH52zAs2...</td>\n",
       "      <td>pool</td>\n",
       "      <td>hubSOL / SOL</td>\n",
       "      <td>153.055919342768891110354516874887681316597975...</td>\n",
       "      <td>1.04314388180425</td>\n",
       "      <td>146.725566396059365079484970097803677653801263...</td>\n",
       "      <td>1.0</td>\n",
       "      <td>ALUvp16ecvkD9JD7Hbc2ocecBtE9comyH52zAs2ZWNk9</td>\n",
       "      <td>6.018690e+05</td>\n",
       "      <td>2024-08-19 09:50:00</td>\n",
       "      <td>...</td>\n",
       "      <td>1.671525e+05</td>\n",
       "      <td>orca</td>\n",
       "      <td>solana_HUBsveNpjo5pWqNkH57QzxjQASdTVXcSK7bVKTS...</td>\n",
       "      <td>solana_So1111111111111111111111111111111111111...</td>\n",
       "      <td>hubSOL</td>\n",
       "      <td>SOL</td>\n",
       "      <td>0.277722</td>\n",
       "      <td>1.0</td>\n",
       "      <td>1.0</td>\n",
       "      <td>4228548816057651</td>\n",
       "    </tr>\n",
       "  </tbody>\n",
       "</table>\n",
       "<p>17 rows × 28 columns</p>\n",
       "</div>"
      ],
      "text/plain": [
       "                                                    id  type          name  \\\n",
       "119  solana_9qyqY3BPfc2Ex9BktiZhDJwfqVHChHXwTQpFNH1...  pool  GINNAN / SOL   \n",
       "99   solana_8kVPz3px43yiCysesi91jGpEtzjc5AzNATRPQev...  pool   alpha / SOL   \n",
       "13   solana_6P1JbEwYEaXZBP9skhXpZZaaHqbXvd8VwdqNUsk...  pool     ZYN / SOL   \n",
       "117  solana_8JptKdcwKdARFFfAy4SJtx9j1fMoFyYnGPh4LGq...  pool       🐕 / SOL   \n",
       "181  solana_HU4mukYu86NQBg5XW3FwVUu3Y5oFResowkeUryi...  pool  LOCKIN / SOL   \n",
       "111  solana_9BTidgAt1T18SSr1x9Xetig3gLCE7D1AMyssXMK...  pool    PENG / SOL   \n",
       "44   solana_8S24t7whcEUn8VuBRXwritKRy27NfdSWLrRz5gw...  pool  MOBILE / SOL   \n",
       "138  solana_AGsEkdwzLMDdTzjnHPv2QdKbXhcUfG9udDdauWH...  pool   SIGMA / SOL   \n",
       "25   solana_7BZzoP3QB2zK3R7WqRzjS5fpeeErgdy3HGzxXrN...  pool     WEN / SOL   \n",
       "60   solana_369QdoDGUhHU2FzNNBcnk8BztwTYtKAo1fAKNvF...  pool   SILLY / SOL   \n",
       "179  solana_2TmgxdB26y653ty5P9bmaMbp2axqwfbdjV1ii3p...  pool   PESTO / SOL   \n",
       "152  solana_66EJHtNydK1icLA1Zq21LwGwnqkZzmuuWLf495a...  pool   BILLY / SOL   \n",
       "42   solana_DxD41srN8Xk9QfYjdNXF9tTnP6qQxeF2bZF8s1e...  pool     INF / SOL   \n",
       "159  solana_7B12MDALsnmgLeqxGfJDeLUuPvkekHNyA9rvXEg...  pool    GIKO / SOL   \n",
       "72   solana_GgvEV7WiEM9t7xobkBUw54x5XSXZH9mZ1vf43hC...  pool   CROWN / SOL   \n",
       "169  solana_4ZPYGoax8uz1LTciwf58gqtFKmk1t3oqwm6aSTd...  pool  MOTHER / SOL   \n",
       "182  solana_ALUvp16ecvkD9JD7Hbc2ocecBtE9comyH52zAs2...  pool  hubSOL / SOL   \n",
       "\n",
       "                                  base_token_price_usd  \\\n",
       "119  0.00000201907665288414305644277112080465655945...   \n",
       "99   0.00784715344053132344724145065400961706309723...   \n",
       "13   0.09129610520601853459086206860103563835262490...   \n",
       "117  0.00889117693625007110685583278777302083371626...   \n",
       "181  0.05201197847995445653981654850727835935421211...   \n",
       "111  0.20708209453997984526587778824359333362437546...   \n",
       "44   0.00097378354785851562424421539362921179373073...   \n",
       "138  0.08416929297022537107226046030097955762608311...   \n",
       "25   0.00010525310070475697426025234324636951763306...   \n",
       "60   0.02283073108196366247853395382521511313099202...   \n",
       "179  0.00380995989684199120210313964790046724521554...   \n",
       "152  0.03738804712604944588398148471785788176498950...   \n",
       "42   181.972607027046650434111354524163053185519002...   \n",
       "159  4.67979860236581325152475245183041219529464010...   \n",
       "72   0.41333564540780836620345353846353469313614780...   \n",
       "169  0.07932026358249208697530369369194976878658892...   \n",
       "182  153.055919342768891110354516874887681316597975...   \n",
       "\n",
       "                      base_token_price_native_currency  \\\n",
       "119  0.00000001397897482273685894123435307290850769...   \n",
       "99                       0.000053606106370048034825891   \n",
       "13                                0.000626204201716053   \n",
       "117                      0.000059788023089860257204269   \n",
       "181                      0.000352654636578887232381281   \n",
       "111                      0.001441236814483954133129748   \n",
       "44                              0.00000657673097721939   \n",
       "138                      0.000594766227056278337851095   \n",
       "25                             0.000000707592621294964   \n",
       "60                       0.000155185800602711024548357   \n",
       "179                       0.00002592331975871090529263   \n",
       "152                      0.000258415971613105122319547   \n",
       "42                                    1.24046863824874   \n",
       "159                      0.032053153700411826599097479   \n",
       "72                                 0.00281702855989542   \n",
       "169                      0.000537092148430761720420965   \n",
       "182                                   1.04314388180425   \n",
       "\n",
       "                                 quote_token_price_usd  \\\n",
       "119  146.725566396059365079484970097803677653801263...   \n",
       "99   146.732280530450560626080011116018309037105542...   \n",
       "13   146.739111259193053479398442339674264916237291...   \n",
       "117  146.648456580026077921291134202224812329421764...   \n",
       "181  146.739111259193053479398442339674264916237291...   \n",
       "111  146.689751553117249617468185513180043171872754...   \n",
       "44   146.739111259193053479398442339674264916237291...   \n",
       "138  146.739111259193053479398442339674264916237291...   \n",
       "25   146.725566396059365079484970097803677653801263...   \n",
       "60   146.725566396059365079484970097803677653801263...   \n",
       "179  146.732280530450560626080011116018309037105542...   \n",
       "152  146.725566396059365079484970097803677653801263...   \n",
       "42   146.726005418212675936683979623555148389668307...   \n",
       "159  146.739111259193053479398442339674264916237291...   \n",
       "72   146.725566396059365079484970097803677653801263...   \n",
       "169  146.732280530450560626080011116018309037105542...   \n",
       "182  146.725566396059365079484970097803677653801263...   \n",
       "\n",
       "    quote_token_price_native_currency  \\\n",
       "119                               1.0   \n",
       "99                                1.0   \n",
       "13                                1.0   \n",
       "117                               1.0   \n",
       "181                               1.0   \n",
       "111                               1.0   \n",
       "44                                1.0   \n",
       "138                               1.0   \n",
       "25                                1.0   \n",
       "60                                1.0   \n",
       "179                               1.0   \n",
       "152                               1.0   \n",
       "42                                1.0   \n",
       "159                               1.0   \n",
       "72                                1.0   \n",
       "169                               1.0   \n",
       "182                               1.0   \n",
       "\n",
       "                                          address  reserve_in_usd  \\\n",
       "119  9qyqY3BPfc2Ex9BktiZhDJwfqVHChHXwTQpFNH136psy    4.896574e+04   \n",
       "99   8kVPz3px43yiCysesi91jGpEtzjc5AzNATRPQevhuB8p    5.443087e+04   \n",
       "13   6P1JbEwYEaXZBP9skhXpZZaaHqbXvd8VwdqNUsk9QkPU    7.973046e+05   \n",
       "117  8JptKdcwKdARFFfAy4SJtx9j1fMoFyYnGPh4LGqG2pRL    4.512132e+04   \n",
       "181  HU4mukYu86NQBg5XW3FwVUu3Y5oFResowkeUryi8D6eN    7.721142e+04   \n",
       "111  9BTidgAt1T18SSr1x9Xetig3gLCE7D1AMyssXMKJCLKh    6.759658e+04   \n",
       "44   8S24t7whcEUn8VuBRXwritKRy27NfdSWLrRz5gwQXJ9f    1.089048e+05   \n",
       "138  AGsEkdwzLMDdTzjnHPv2QdKbXhcUfG9udDdauWH1E7kk    2.999367e+05   \n",
       "25   7BZzoP3QB2zK3R7WqRzjS5fpeeErgdy3HGzxXrN97aEY    3.397690e+05   \n",
       "60   369QdoDGUhHU2FzNNBcnk8BztwTYtKAo1fAKNvFoW5BE    1.778153e+05   \n",
       "179  2TmgxdB26y653ty5P9bmaMbp2axqwfbdjV1ii3pcvC29    1.588099e+05   \n",
       "152  66EJHtNydK1icLA1Zq21LwGwnqkZzmuuWLf495aN4mnX    3.312919e+05   \n",
       "42   DxD41srN8Xk9QfYjdNXF9tTnP6qQxeF2bZF8s1eN62Pe    3.153255e+06   \n",
       "159  7B12MDALsnmgLeqxGfJDeLUuPvkekHNyA9rvXEgnQ7bj    1.832767e+05   \n",
       "72   GgvEV7WiEM9t7xobkBUw54x5XSXZH9mZ1vf43hCmrVyX    7.812855e+05   \n",
       "169  4ZPYGoax8uz1LTciwf58gqtFKmk1t3oqwm6aSTdkWZ4D    8.096882e+05   \n",
       "182  ALUvp16ecvkD9JD7Hbc2ocecBtE9comyH52zAs2ZWNk9    6.018690e+05   \n",
       "\n",
       "        pool_created_at  ... volume_usd_h24  dex_id  \\\n",
       "119 2024-07-29 07:26:00  ...   1.706224e+05    orca   \n",
       "99  2024-09-22 23:22:28  ...   1.733381e+05    orca   \n",
       "13  2024-03-11 13:23:03  ...   2.107711e+06    orca   \n",
       "117 2024-10-02 03:28:01  ...   1.157516e+05    orca   \n",
       "181 2024-06-03 03:58:28  ...   1.794425e+05    orca   \n",
       "111 2024-03-13 10:03:03  ...   1.525771e+05    orca   \n",
       "44  2024-02-13 04:33:03  ...   2.253199e+05    orca   \n",
       "138 2024-07-12 20:52:59  ...   5.606902e+05    orca   \n",
       "25  2024-01-26 16:03:04  ...   6.303152e+05    orca   \n",
       "60  2023-12-16 05:03:03  ...   2.755357e+05    orca   \n",
       "179 2024-09-21 16:00:00  ...   1.709379e+05    orca   \n",
       "152 2024-06-19 00:01:08  ...   3.169504e+05    orca   \n",
       "42  2023-07-05 14:40:02  ...   2.481360e+06    orca   \n",
       "159 2024-05-02 07:27:32  ...   1.258123e+05    orca   \n",
       "72  2023-07-05 14:42:01  ...   2.686252e+05    orca   \n",
       "169 2024-05-29 00:47:42  ...   2.686774e+05    orca   \n",
       "182 2024-08-19 09:50:00  ...   1.671525e+05    orca   \n",
       "\n",
       "                                         base_token_id  \\\n",
       "119  solana_GinNabffZL4fUj9Vactxha74GDAW8kDPGaHqMtM...   \n",
       "99   solana_2zrH2jE542mzB4HABgBjdWMQPtNC5H12pwo1iLp...   \n",
       "13   solana_PzuaVAUH2tfxGZcbBR6kMxeJsBngnsPLFotGJNC...   \n",
       "117  solana_DLScRnWofxiYGqnvZWGy9Gt98MPqKdznaK4TRuk...   \n",
       "181  solana_8Ki8DpuWNxu9VsS3kQbarsCWMcFGWkzzA8pUPto...   \n",
       "111  solana_A3eME5CetyZPBoWbRUwY3tSe25S6tb18ba9ZPbW...   \n",
       "44   solana_mb1eu7TzEc71KxDpsmsKoucSSuuoGLv1drys1oP...   \n",
       "138  solana_5SVG3T9CNQsm2kEwzbRq6hASqh1oGfjqTtLXYUi...   \n",
       "25   solana_WENWENvqqNya429ubCdR81ZmD69brwQaaBYY6p3...   \n",
       "60   solana_7EYnhQoR9YM3N7UoaKRoA44Uy8JeaZV3qyouov8...   \n",
       "179  solana_34a8ALsPmbWxp7D3bQ6erERrCLz1ahr6u6o66Ud...   \n",
       "152  solana_3B5wuUrMEi5yATD7on46hKfej3pfmd7t1RKgrsN...   \n",
       "42   solana_5oVNBeEEQvYi1cX3ir8Dx5n1P7pdxydbGF2X4Tx...   \n",
       "159  solana_3WPep4ufaToK1aS5s8BL9inzeUrt4DYaQCiic6Z...   \n",
       "72   solana_GDfnEsia2WLAW5t8yx2X5j2mkfA74i5kwGdDuZH...   \n",
       "169  solana_3S8qX1MsMqRbiwKg2cQyx7nis1oHMgaCuc9c4Vf...   \n",
       "182  solana_HUBsveNpjo5pWqNkH57QzxjQASdTVXcSK7bVKTS...   \n",
       "\n",
       "                                        quote_token_id    base  quote  \\\n",
       "119  solana_So1111111111111111111111111111111111111...  GINNAN    SOL   \n",
       "99   solana_So1111111111111111111111111111111111111...   alpha    SOL   \n",
       "13   solana_So1111111111111111111111111111111111111...     ZYN    SOL   \n",
       "117  solana_So1111111111111111111111111111111111111...       🐕    SOL   \n",
       "181  solana_So1111111111111111111111111111111111111...  LOCKIN    SOL   \n",
       "111  solana_So1111111111111111111111111111111111111...    PENG    SOL   \n",
       "44   solana_So1111111111111111111111111111111111111...  MOBILE    SOL   \n",
       "138  solana_So1111111111111111111111111111111111111...   SIGMA    SOL   \n",
       "25   solana_So1111111111111111111111111111111111111...     WEN    SOL   \n",
       "60   solana_So1111111111111111111111111111111111111...   SILLY    SOL   \n",
       "179  solana_So1111111111111111111111111111111111111...   PESTO    SOL   \n",
       "152  solana_So1111111111111111111111111111111111111...   BILLY    SOL   \n",
       "42   solana_So1111111111111111111111111111111111111...     INF    SOL   \n",
       "159  solana_So1111111111111111111111111111111111111...    GIKO    SOL   \n",
       "72   solana_So1111111111111111111111111111111111111...   CROWN    SOL   \n",
       "169  solana_So1111111111111111111111111111111111111...  MOTHER    SOL   \n",
       "182  solana_So1111111111111111111111111111111111111...  hubSOL    SOL   \n",
       "\n",
       "     volume_liquidity_ratio  fee_rate  tick_spacing          liquidity  \n",
       "119                3.484526     100.0         128.0    182012584168488  \n",
       "99                 3.184555       NaN           NaN               None  \n",
       "13                 2.643546      30.0          64.0     50987667210894  \n",
       "117                2.565341       NaN           NaN               None  \n",
       "181                2.324041     100.0         128.0     67455201365791  \n",
       "111                2.257171     100.0         128.0       444721099312  \n",
       "44                 2.068963      16.0          16.0     45225947384185  \n",
       "138                1.869362     200.0         256.0      7386736183406  \n",
       "25                 1.855129      16.0          16.0     64673518864541  \n",
       "60                 1.549562     100.0         128.0     56850681944439  \n",
       "179                1.076368       NaN           NaN               None  \n",
       "152                0.956710     100.0         128.0      7830288908079  \n",
       "42                 0.786920       1.0           1.0  16469271234632568  \n",
       "159                0.686461     100.0         128.0      5049875057866  \n",
       "72                 0.343825      30.0          64.0    112080622027548  \n",
       "169                0.331828     100.0         128.0     18358212559636  \n",
       "182                0.277722       1.0           1.0   4228548816057651  \n",
       "\n",
       "[17 rows x 28 columns]"
      ]
     },
     "execution_count": 8,
     "metadata": {},
     "output_type": "execute_result"
    }
   ],
   "source": [
    "pools_filtered.sort_values(\"volume_liquidity_ratio\", ascending=False, inplace=True)\n",
    "pools_filtered"
   ]
  },
  {
   "cell_type": "code",
   "execution_count": 77,
   "metadata": {
    "ExecuteTime": {
     "end_time": "2024-10-11T22:54:55.635692Z",
     "start_time": "2024-10-11T22:54:55.631019Z"
    },
    "collapsed": false
   },
   "outputs": [],
   "source": [
    "from core.data_structures.candles import Candles\n",
    "\n",
    "\n",
    "async def get_candles(pool, interval):\n",
    "    trading_pair = f\"{pool['base']}/{pool['quote']}\"\n",
    "    address = pool[\"address\"]\n",
    "    ohlc = await gt.get_ohlcv(NETWORK, address, interval, currency=\"token\")\n",
    "    ohlc.index = pd.to_datetime(ohlc[\"timestamp\"], unit=\"s\")\n",
    "    return Candles(candles_df=ohlc, connector_name=\"orca\", trading_pair=trading_pair, interval=interval)\n",
    "\n",
    "def add_position_metrics(candle, lookback_periods):\n",
    "    df = candle.data\n",
    "    results = []\n",
    "    \n",
    "    for period in lookback_periods:\n",
    "        df_period = df.iloc[-period:]\n",
    "        max_price = df_period['high'].max()\n",
    "        min_price = df_period['low'].min()\n",
    "        range_price = max_price - min_price\n",
    "        range_price_pct = (max_price - df_period['close'].iloc[-1]) / df_period['close'].iloc[-1]\n",
    "        current_position = (max_price - df_period['close'].iloc[-1]) / range_price if range_price != 0 else 0\n",
    "        \n",
    "        results.append({\n",
    "            'period': period,\n",
    "            'max_price': max_price,\n",
    "            'min_price': min_price,\n",
    "            'current_position': current_position,\n",
    "            'range_price_pct': range_price_pct,\n",
    "            'current_price': df_period['close'].iloc[-1]\n",
    "        })\n",
    "    \n",
    "    return results"
   ]
  },
  {
   "cell_type": "code",
   "execution_count": 78,
   "metadata": {
    "ExecuteTime": {
     "end_time": "2024-10-11T22:55:10.686803Z",
     "start_time": "2024-10-11T22:54:56.396314Z"
    },
    "collapsed": false
   },
   "outputs": [],
   "source": [
    "pools_data = {}\n",
    "interval = \"1d\"\n",
    "\n",
    "for i, pool in pools_filtered.iterrows():\n",
    "    candle = await get_candles(pool, interval)\n",
    "    pools_data[pool[\"address\"]] = {\n",
    "        \"candle\": candle,\n",
    "        \"metrics\": add_position_metrics(candle, [len(candle.data)])[0],\n",
    "        \"pool\": pool\n",
    "    }"
   ]
  },
  {
   "cell_type": "code",
   "execution_count": 79,
   "metadata": {},
   "outputs": [],
   "source": [
    "# SORT BY CURRENT POSITION\n",
    "pools_data = dict(sorted(pools_data.items(), key=lambda item: item[1]['metrics']['current_position'], reverse=True))\n"
   ]
  },
  {
   "cell_type": "code",
   "execution_count": 80,
   "metadata": {
    "collapsed": false
   },
   "outputs": [
    {
     "data": {
      "application/vnd.plotly.v1+json": {
       "config": {
        "plotlyServerURL": "https://plot.ly"
       },
       "data": [
        {
         "close": [
          0.000015544870138108,
          0.000015668451409691,
          0.00001595779685,
          0.0000156694621007029,
          0.000016287540979914,
          0.00001452175951,
          0.0000145753199305791,
          0.0000154759774432259,
          0.0000151800700092101,
          0.00001423744395,
          0.0000138300365585957,
          0.0000132792745513913,
          0.000014001260630243,
          0.0000169623069018035,
          0.0000210677360026907,
          0.0000211130767563657,
          0.0000209997802901462,
          0.0000195722016198392,
          0.0000186303353263257,
          0.000017886558357108,
          0.0000171377955042845,
          0.0000167214307060328,
          0.0000162774119891358,
          0.00001462798496,
          0.0000146789421197637,
          0.0000141358937489631,
          0.0000138521692864787,
          0.000013344347225,
          0.0000140135503495813,
          0.0000137307645679943,
          0.0000128582680077079,
          0.0000126764816229735,
          0.0000120017957384689,
          0.0000120036015591714,
          0.0000131099592673821,
          0.000012445476178825,
          0.0000118830041242271,
          0.0000112637739181763,
          0.0000114009361287079,
          0.0000110706625400225,
          0.0000108282923342089,
          0.000011705515880734,
          0.0000114656231692041,
          0.0000115912783323214,
          0.0000111144844121988,
          0.0000110014878678956,
          0.0000107036206271585,
          0.0000107816712817818,
          0.0000107802784177546,
          0.0000106867753261756,
          0.0000107979595227274,
          0.0000104980457707581,
          0.0000102973098359714,
          0.0000103094951,
          0.0000103153870846808,
          0.0000098707151,
          0.00000941840426972521,
          0.00000959510716666665,
          0.00000917651384148984,
          0.0000088859694172374,
          0.00000910227537570855,
          0.00000888090433810921,
          0.00000905501769356145,
          0.0000091227513043839,
          0.00000885889312,
          0.00000820831362253397,
          0.00000826136013753186,
          0.00000892518058100649,
          0.00000889518582416638,
          0.00000856207728800974,
          0.00000850981728673291,
          0.00000837249632311652,
          0.00000829557412671229,
          0.00000838676753333333,
          0.00000815264102208446,
          0.00000957547065583373,
          0.0000108102871065901,
          0.0000105324490883039,
          0.0000105834591534134,
          0.000012271546309142,
          0.0000144767158621845,
          0.0000139989953062756,
          0.0000122004389016817,
          0.0000104288454657787,
          0.00000986719310563423,
          0.00000944025013250475,
          0.0000101869372254737,
          0.0000114045694188976,
          0.0000113034521793266,
          0.0000110024808497065,
          0.0000105713176117987,
          0.00000997959623438989,
          0.00000983315914773635,
          0.0000102520778582337,
          0.00000952863318109175,
          0.0000093230514177675,
          0.0000093517663124475,
          0.00000945031046820043,
          0.00000949340550675377,
          0.00000890674775622398,
          0.00000886293671682193,
          0.00000909725174259676,
          0.00000841593763428597,
          0.00000844677615462028,
          0.00000792811520278111,
          0.00000781617725758272,
          0.00000745905233873812,
          0.00000744054433146441,
          0.00000777903083404229,
          0.00000797287823674476,
          0.00000806273663942725,
          0.00000800725712576666,
          0.00000839038297624144,
          0.00000817700584681289,
          0.00000833271068133766,
          0.00000777579517920863,
          0.000007427483298412,
          0.00000767099325659274,
          0.00000894642424589125,
          0.00000977240269407011,
          0.00000911288352729692,
          0.00000937699566036548,
          0.00000952708404389883,
          0.00000886673136141567,
          0.0000084235404,
          0.00000864144030335884,
          0.00000874018876640689,
          0.00000865001955599869,
          0.00000852371871655392,
          0.00000865003408348228,
          0.00000884710951873488,
          0.00000859224,
          0.00000864076799695122,
          0.00000846541724293388,
          0.00000817580938524845,
          0.00000810309492965334,
          0.00000829557905889339,
          0.00000828834489613261,
          0.00000835189070179576,
          0.00000838493267102138,
          0.000008205897,
          0.00000806072643568518,
          0.00000784757841051263,
          0.00000889224056720675,
          0.00000876355261517702,
          0.00000850593590954296,
          0.00000900959280772212,
          0.00000900674712691129,
          0.00000877419795488252,
          0.00000858752358600118,
          0.00000821923311612607,
          0.00000830713390330227,
          0.00000813379803697842,
          0.00000830817952666667,
          0.00000805892685629019,
          0.00000830534743794067,
          0.00000806713584556471,
          0.00000803475040599625,
          0.00000801666552734498,
          0.00000761672287916055,
          0.0000074242485334278,
          0.00000762484545952339,
          0.00000787397574296749,
          0.00000769400181836142,
          0.00000732460699352767,
          0.00000735657316586671,
          0.00000718516308458132,
          0.00000766901541165752,
          0.00000732074390171337,
          0.00000707804187522611,
          0.000006932218,
          0.00000719362593579834,
          0.00000720875281979218,
          0.00000732659665955665,
          0.00000714280606703581,
          0.00000707927991830966,
          0.00000693123146758495,
          0.00000683165873553414,
          0.00000652145782864967,
          0.00000638095100275329,
          0.0000065404002,
          0.00000673722290372941,
          0.000006630856608617993
         ],
         "decreasing": {
          "line": {
           "color": "#E74C3C"
          }
         },
         "high": [
          0.0000167638268,
          0.0000159273835020682,
          0.0000186338848087846,
          0.0000162807604988253,
          0.0000164544941019797,
          0.0000165725114319315,
          0.0000154649701348827,
          0.0000156376127787855,
          0.0000159067302418227,
          0.0000152365936454752,
          0.000014301422115217,
          0.0000140654048471272,
          0.0000141855821427007,
          0.0000173363259136963,
          0.0000222545441381766,
          0.0000235107535771057,
          0.000021973797697937,
          0.0000213494749976188,
          0.000019736968590904,
          0.0000200052784266667,
          0.0000180400367439177,
          0.0000175166677391824,
          0.0000167214307060328,
          0.0000162774119891358,
          0.0000157096403300755,
          0.0000146845906850521,
          0.00001489727628803,
          0.0000139436380980686,
          0.0000142995308483427,
          0.0000143815596059469,
          0.0000138922922744083,
          0.0000129976414410707,
          0.0000131083812349788,
          0.0000122360886400343,
          0.0000142337416182172,
          0.0000142857142857143,
          0.0000125299303657878,
          0.0000136054421768707,
          0.0000120185458914463,
          0.0000114244638260684,
          0.0000112821430091237,
          0.0000118996349582078,
          0.0000117602236089396,
          0.0000116932991606254,
          0.0000116034888453632,
          0.0000112100190692192,
          0.0000110555530358227,
          0.0000115942028985507,
          0.0000118343195266272,
          0.0000109140640685768,
          0.0000109938802419234,
          0.0000116959064327485,
          0.0000105395781225153,
          0.0000108330634960922,
          0.0000108173076923077,
          0.0000103555402140145,
          0.0000100624003101182,
          0.00000968962318893693,
          0.0000096237814347165,
          0.00000923648441860581,
          0.00000928264366128699,
          0.00000915403047307376,
          0.00000938074696387352,
          0.00000964907839156086,
          0.00000922433322056092,
          0.00000890975375384002,
          0.00000872600349040139,
          0.0000104347826086957,
          0.00000901822598662137,
          0.00000903507215033961,
          0.00000862932044989165,
          0.00000900261731287819,
          0.00000868514452343912,
          0.00000844994032829279,
          0.00000849617672047579,
          0.0000104050678303218,
          0.0000134529147982063,
          0.0000116107075994966,
          0.0000113967873620156,
          0.0000130710975942086,
          0.0000159857904085258,
          0.0000166469662860075,
          0.0000165562913907285,
          0.0000136286201022147,
          0.0000110517581076067,
          0.0000147058823529412,
          0.0000111999712264512,
          0.0000117518421048033,
          0.0000128203383755838,
          0.0000116387483551262,
          0.0000111981750020386,
          0.0000107438184515106,
          0.00000997970424967538,
          0.0000108470374442784,
          0.0000102914636683506,
          0.000010029761751171,
          0.00000957282314817227,
          0.0000100189894406414,
          0.0000103072734344613,
          0.000009553161174816,
          0.00000955758355866368,
          0.00000937394794961696,
          0.00000911654806814707,
          0.00000864087499599421,
          0.00000845589772905953,
          0.00000818436355804437,
          0.00000786726694850745,
          0.00000752914418152107,
          0.00000794653571703181,
          0.00000797287823674476,
          0.0000082685494394228,
          0.00000817949125326088,
          0.00000851511434742737,
          0.0000084824273916322,
          0.00000953516090584029,
          0.00000837448339877172,
          0.00000795903151456319,
          0.00000794492340840777,
          0.00000914063805318234,
          0.0000103124097760945,
          0.00000986592757010764,
          0.00000969206344845761,
          0.00000955991105765133,
          0.00000963527447641542,
          0.00000896003242066382,
          0.00000902011748198867,
          0.00000901146320063641,
          0.00000892439258885927,
          0.00000868981201002859,
          0.00000901394555198615,
          0.00000892411198096526,
          0.0000088755383683071,
          0.0000088288007901769,
          0.00000904769247489666,
          0.00000853683419261822,
          0.00000821354638774651,
          0.00000832984796334861,
          0.00000852283215259325,
          0.00000840707999948706,
          0.00000846161535343392,
          0.00000856041869835995,
          0.0000083358984697803,
          0.00000811860227999713,
          0.00000988976089705956,
          0.00000933360454896047,
          0.00000904331323364938,
          0.00000913419173491792,
          0.00000937058610148869,
          0.00000908355956303945,
          0.00000888247740214457,
          0.00000868488759863756,
          0.00000842808522126983,
          0.00000841510500371348,
          0.00000841807969855219,
          0.00000830817952666667,
          0.00000838629554997372,
          0.00000830534743794067,
          0.00000816149694978615,
          0.0000082205037301362,
          0.00000807067357849691,
          0.0000076874718586412,
          0.00000805035580882028,
          0.00000808087979464226,
          0.00000789487171452308,
          0.00000772126110562223,
          0.00000744586948040259,
          0.00000736417576711595,
          0.00000767899846704758,
          0.00000774546078943773,
          0.000007345727446095,
          0.00000710423401889493,
          0.00000728288552923034,
          0.00000727795556745608,
          0.00000740523592482738,
          0.00000743813556646123,
          0.00000721279411732911,
          0.00000730115059504579,
          0.00000695531774785254,
          0.00000686362435174374,
          0.0000067391932222971,
          0.00000666741251882514,
          0.00000699187033899345,
          0.000006800315993304151
         ],
         "increasing": {
          "line": {
           "color": "#2ECC71"
          }
         },
         "low": [
          0.0000144363019292562,
          0.0000145167844259321,
          0.0000152489383818182,
          0.0000143626186531697,
          0.000015506473632,
          0.0000144601282214757,
          0.0000142982915355075,
          0.0000145294873219141,
          0.000014711027658297,
          0.000014236093024,
          0.0000135647608117789,
          0.0000126036617206365,
          0.0000122471692603085,
          0.0000137841859,
          0.0000167009480028892,
          0.0000185438495135678,
          0.0000195377044482952,
          0.0000192108169820688,
          0.0000181312297876038,
          0.0000171156971831162,
          0.0000170573574007481,
          0.0000163449401455416,
          0.0000160081124485553,
          0.0000144643336908878,
          0.000014326080832,
          0.0000136263077369482,
          0.0000137513939961718,
          0.0000124523056483987,
          0.0000131453417235762,
          0.0000133475324597548,
          0.0000126517659471336,
          0.0000118219256395629,
          0.0000119804108847937,
          0.0000116434310740626,
          0.0000113219852979945,
          0.000012368080760704,
          0.0000111631669232134,
          0.0000110629138531696,
          0.0000111831696298874,
          0.0000107684848067587,
          0.0000107690769767955,
          0.0000106657145506569,
          0.0000111693430566667,
          0.000011398221557,
          0.0000110282641728706,
          0.0000106661634897052,
          0.00000998051207101841,
          0.0000104931687627075,
          0.0000103026186663263,
          0.0000103545134459045,
          0.000010646489189,
          0.000010127664862605,
          0.0000100384826956928,
          0.0000100883336850342,
          0.00000999999476966269,
          0.00000930902490500668,
          0.00000901457647988137,
          0.00000860635572380621,
          0.00000903836988532814,
          0.00000821998162947599,
          0.00000867234520491033,
          0.00000850383802823671,
          0.00000874125874125875,
          0.00000897189342267033,
          0.00000885673508448333,
          0.00000810984440027919,
          0.00000770271151547114,
          0.00000812187807790141,
          0.00000852878464818761,
          0.00000850352606393195,
          0.00000828196427498156,
          0.00000829879706070602,
          0.00000793578075952461,
          0.00000808595168806938,
          0.00000803079275386352,
          0.00000797335786390734,
          0.00000929702512,
          0.0000102221704368212,
          0.0000100793481790511,
          0.000010516448216,
          0.0000121923392240399,
          0.0000136176055476521,
          0.0000110884796516311,
          0.0000102520211833333,
          0.00000979508705333333,
          0.00000940837257779505,
          0.0000093459149310185,
          0.000010031542583051,
          0.00001123377534521,
          0.0000109483106522472,
          0.000010548831934,
          0.00000961076405574243,
          0.00000948056145333333,
          0.00000978010436339408,
          0.00000918421172472979,
          0.00000929414666413996,
          0.00000914165661554782,
          0.00000917714855594356,
          0.00000892575088623599,
          0.00000881175148771802,
          0.00000884151054769476,
          0.00000870775272205898,
          0.00000836489079863007,
          0.00000781820657472118,
          0.00000769987136753474,
          0.00000767281100050441,
          0.00000743555762985191,
          0.00000695280988914293,
          0.00000742384187018911,
          0.00000739607243050242,
          0.00000763732351023435,
          0.00000778693555880278,
          0.00000785443227066109,
          0.0000079788314433729,
          0.00000760066866314885,
          0.00000763513252922274,
          0.00000733905104563355,
          0.00000700451747872767,
          0.00000757893860736901,
          0.00000885040132482097,
          0.0000086557726037603,
          0.0000089181168,
          0.00000915325934225041,
          0.00000847731402790084,
          0.00000826118250226293,
          0.00000828510220396796,
          0.00000850710762433333,
          0.0000085452720514817,
          0.00000814348433534964,
          0.00000847429631889641,
          0.00000846555068726935,
          0.00000852553675281141,
          0.00000849251929628214,
          0.00000844147483547821,
          0.00000810708671415175,
          0.00000787247014998052,
          0.00000796584967518923,
          0.00000808233882522938,
          0.00000804527920339694,
          0.00000828450797824609,
          0.00000809205602357143,
          0.00000799984245300667,
          0.00000762398968150307,
          0.00000741206248055489,
          0.00000854526791997266,
          0.00000827440924012559,
          0.00000821868633410538,
          0.00000885347644296508,
          0.000008717093558,
          0.00000840220085083196,
          0.00000820505229335806,
          0.00000799433129180167,
          0.00000807605411111818,
          0.00000813379803697842,
          0.00000798719038639414,
          0.00000792705257805866,
          0.00000796459871799005,
          0.00000791238969000099,
          0.00000793839567346939,
          0.00000758272451667084,
          0.00000713747571016322,
          0.00000728437045570339,
          0.00000759549361540981,
          0.00000747625376049326,
          0.00000729910078582017,
          0.00000723223435631839,
          0.00000686573849909185,
          0.00000710469509466454,
          0.00000727793852166667,
          0.00000703121058008737,
          0.00000677827242133826,
          0.00000688388432385927,
          0.00000694661343109521,
          0.0000070120763537203,
          0.00000712042863875,
          0.00000692219222291893,
          0.00000681808873016954,
          0.00000663286112673715,
          0.00000649409997403859,
          0.00000631022267322771,
          0.00000618706991514442,
          0.00000635980676457594,
          0.000006539538939416766
         ],
         "name": "Candlesticks",
         "open": [
          0.0000165434687439585,
          0.000015544870138108,
          0.000015668451409691,
          0.00001595779685,
          0.0000156694621007029,
          0.000016287540979914,
          0.00001452175951,
          0.0000145753199305791,
          0.0000154759774432259,
          0.0000151800700092101,
          0.00001423744395,
          0.0000138300365585957,
          0.0000132792745513913,
          0.000014001260630243,
          0.0000169623069018035,
          0.0000210677360026907,
          0.0000211130767563657,
          0.0000209997802901462,
          0.0000195722016198392,
          0.0000186303353263257,
          0.000017886558357108,
          0.0000171377955042845,
          0.0000167214307060328,
          0.0000162774119891358,
          0.00001462798496,
          0.0000146789421197637,
          0.0000141358937489631,
          0.0000138521692864787,
          0.000013344347225,
          0.0000140135503495813,
          0.0000137307645679943,
          0.0000128582680077079,
          0.0000126764816229735,
          0.0000120017957384689,
          0.0000120036015591714,
          0.0000131099592673821,
          0.000012445476178825,
          0.0000118830041242271,
          0.0000112637739181763,
          0.0000114009361287079,
          0.0000110706625400225,
          0.0000108282923342089,
          0.000011705515880734,
          0.0000114656231692041,
          0.0000115912783323214,
          0.0000111144844121988,
          0.0000110014878678956,
          0.0000107036206271585,
          0.0000107816712817818,
          0.0000107802784177546,
          0.0000106867753261756,
          0.0000107979595227274,
          0.0000104980457707581,
          0.0000102973098359714,
          0.0000103094951,
          0.0000103153870846808,
          0.0000098707151,
          0.00000941840426972521,
          0.00000959510716666665,
          0.00000917651384148984,
          0.0000088859694172374,
          0.00000910227537570855,
          0.00000888090433810921,
          0.00000905501769356145,
          0.0000091227513043839,
          0.00000885889312,
          0.00000820831362253397,
          0.00000826136013753186,
          0.00000892518058100649,
          0.00000889518582416638,
          0.00000856207728800974,
          0.00000850981728673291,
          0.00000837249632311652,
          0.00000829557412671229,
          0.00000838676753333333,
          0.00000815264102208446,
          0.00000957547065583373,
          0.0000108102871065901,
          0.0000105324490883039,
          0.0000105834591534134,
          0.000012271546309142,
          0.0000144767158621845,
          0.0000139989953062756,
          0.0000122004389016817,
          0.0000104288454657787,
          0.00000986719310563423,
          0.00000944025013250475,
          0.0000101869372254737,
          0.0000114045694188976,
          0.0000113034521793266,
          0.0000110024808497065,
          0.0000105713176117987,
          0.00000997959623438989,
          0.00000983315914773635,
          0.0000102520778582337,
          0.00000952863318109175,
          0.0000093230514177675,
          0.0000093517663124475,
          0.00000945031046820043,
          0.00000949340550675377,
          0.00000890674775622398,
          0.00000886293671682193,
          0.00000909725174259676,
          0.00000841593763428597,
          0.00000844677615462028,
          0.00000792811520278111,
          0.00000781617725758272,
          0.00000745905233873812,
          0.00000744054433146441,
          0.00000777903083404229,
          0.00000797287823674476,
          0.00000806273663942725,
          0.00000800725712576666,
          0.00000839038297624144,
          0.00000817700584681289,
          0.00000833271068133766,
          0.00000777579517920863,
          0.000007427483298412,
          0.00000767099325659274,
          0.00000894642424589125,
          0.00000977240269407011,
          0.00000911288352729692,
          0.00000937699566036548,
          0.00000952708404389883,
          0.00000886673136141567,
          0.0000084235404,
          0.00000864144030335884,
          0.00000874018876640689,
          0.00000865001955599869,
          0.00000852371871655392,
          0.00000865003408348228,
          0.00000884710951873488,
          0.00000859224,
          0.00000864076799695122,
          0.00000846541724293388,
          0.00000817580938524845,
          0.00000810309492965334,
          0.00000829557905889339,
          0.00000828834489613261,
          0.00000835189070179576,
          0.00000838493267102138,
          0.000008205897,
          0.00000806072643568518,
          0.00000784757841051263,
          0.00000889224056720675,
          0.00000876355261517702,
          0.00000850593590954296,
          0.00000900959280772212,
          0.00000900674712691129,
          0.00000877419795488252,
          0.00000858752358600118,
          0.00000821923311612607,
          0.00000830713390330227,
          0.00000813379803697842,
          0.00000830817952666667,
          0.00000805892685629019,
          0.00000830534743794067,
          0.00000806713584556471,
          0.00000803475040599625,
          0.00000801666552734498,
          0.00000761672287916055,
          0.0000074242485334278,
          0.00000762484545952339,
          0.00000787397574296749,
          0.00000769400181836142,
          0.00000732460699352767,
          0.00000735657316586671,
          0.00000718516308458132,
          0.00000766901541165752,
          0.00000732074390171337,
          0.00000707804187522611,
          0.000006932218,
          0.00000719362593579834,
          0.00000720875281979218,
          0.00000732659665955665,
          0.00000714280606703581,
          0.00000707927991830966,
          0.00000693123146758495,
          0.00000683165873553414,
          0.00000652145782864967,
          0.00000638095100275329,
          0.0000065404002,
          0.00000673722290372941
         ],
         "type": "candlestick",
         "x": [
          "2024-04-13T00:00:00",
          "2024-04-14T00:00:00",
          "2024-04-15T00:00:00",
          "2024-04-16T00:00:00",
          "2024-04-17T00:00:00",
          "2024-04-18T00:00:00",
          "2024-04-19T00:00:00",
          "2024-04-20T00:00:00",
          "2024-04-21T00:00:00",
          "2024-04-22T00:00:00",
          "2024-04-23T00:00:00",
          "2024-04-24T00:00:00",
          "2024-04-25T00:00:00",
          "2024-04-26T00:00:00",
          "2024-04-27T00:00:00",
          "2024-04-28T00:00:00",
          "2024-04-29T00:00:00",
          "2024-04-30T00:00:00",
          "2024-05-01T00:00:00",
          "2024-05-02T00:00:00",
          "2024-05-03T00:00:00",
          "2024-05-04T00:00:00",
          "2024-05-05T00:00:00",
          "2024-05-06T00:00:00",
          "2024-05-07T00:00:00",
          "2024-05-08T00:00:00",
          "2024-05-09T00:00:00",
          "2024-05-10T00:00:00",
          "2024-05-11T00:00:00",
          "2024-05-12T00:00:00",
          "2024-05-13T00:00:00",
          "2024-05-14T00:00:00",
          "2024-05-15T00:00:00",
          "2024-05-16T00:00:00",
          "2024-05-17T00:00:00",
          "2024-05-18T00:00:00",
          "2024-05-19T00:00:00",
          "2024-05-20T00:00:00",
          "2024-05-21T00:00:00",
          "2024-05-22T00:00:00",
          "2024-05-23T00:00:00",
          "2024-05-24T00:00:00",
          "2024-05-25T00:00:00",
          "2024-05-26T00:00:00",
          "2024-05-27T00:00:00",
          "2024-05-28T00:00:00",
          "2024-05-29T00:00:00",
          "2024-05-30T00:00:00",
          "2024-05-31T00:00:00",
          "2024-06-01T00:00:00",
          "2024-06-02T00:00:00",
          "2024-06-03T00:00:00",
          "2024-06-04T00:00:00",
          "2024-06-05T00:00:00",
          "2024-06-06T00:00:00",
          "2024-06-07T00:00:00",
          "2024-06-08T00:00:00",
          "2024-06-09T00:00:00",
          "2024-06-10T00:00:00",
          "2024-06-11T00:00:00",
          "2024-06-12T00:00:00",
          "2024-06-13T00:00:00",
          "2024-06-14T00:00:00",
          "2024-06-15T00:00:00",
          "2024-06-16T00:00:00",
          "2024-06-17T00:00:00",
          "2024-06-18T00:00:00",
          "2024-06-19T00:00:00",
          "2024-06-20T00:00:00",
          "2024-06-21T00:00:00",
          "2024-06-22T00:00:00",
          "2024-06-23T00:00:00",
          "2024-06-24T00:00:00",
          "2024-06-25T00:00:00",
          "2024-06-26T00:00:00",
          "2024-06-27T00:00:00",
          "2024-06-28T00:00:00",
          "2024-06-29T00:00:00",
          "2024-06-30T00:00:00",
          "2024-07-01T00:00:00",
          "2024-07-02T00:00:00",
          "2024-07-03T00:00:00",
          "2024-07-04T00:00:00",
          "2024-07-05T00:00:00",
          "2024-07-06T00:00:00",
          "2024-07-07T00:00:00",
          "2024-07-08T00:00:00",
          "2024-07-09T00:00:00",
          "2024-07-10T00:00:00",
          "2024-07-11T00:00:00",
          "2024-07-12T00:00:00",
          "2024-07-13T00:00:00",
          "2024-07-14T00:00:00",
          "2024-07-15T00:00:00",
          "2024-07-16T00:00:00",
          "2024-07-17T00:00:00",
          "2024-07-18T00:00:00",
          "2024-07-19T00:00:00",
          "2024-07-20T00:00:00",
          "2024-07-21T00:00:00",
          "2024-07-22T00:00:00",
          "2024-07-23T00:00:00",
          "2024-07-24T00:00:00",
          "2024-07-25T00:00:00",
          "2024-07-26T00:00:00",
          "2024-07-27T00:00:00",
          "2024-07-28T00:00:00",
          "2024-07-29T00:00:00",
          "2024-07-30T00:00:00",
          "2024-07-31T00:00:00",
          "2024-08-01T00:00:00",
          "2024-08-02T00:00:00",
          "2024-08-03T00:00:00",
          "2024-08-04T00:00:00",
          "2024-08-05T00:00:00",
          "2024-08-06T00:00:00",
          "2024-08-07T00:00:00",
          "2024-08-08T00:00:00",
          "2024-08-09T00:00:00",
          "2024-08-10T00:00:00",
          "2024-08-11T00:00:00",
          "2024-08-12T00:00:00",
          "2024-08-13T00:00:00",
          "2024-08-14T00:00:00",
          "2024-08-15T00:00:00",
          "2024-08-16T00:00:00",
          "2024-08-17T00:00:00",
          "2024-08-18T00:00:00",
          "2024-08-19T00:00:00",
          "2024-08-20T00:00:00",
          "2024-08-21T00:00:00",
          "2024-08-22T00:00:00",
          "2024-08-23T00:00:00",
          "2024-08-24T00:00:00",
          "2024-08-25T00:00:00",
          "2024-08-26T00:00:00",
          "2024-08-27T00:00:00",
          "2024-08-28T00:00:00",
          "2024-08-29T00:00:00",
          "2024-08-30T00:00:00",
          "2024-08-31T00:00:00",
          "2024-09-01T00:00:00",
          "2024-09-02T00:00:00",
          "2024-09-03T00:00:00",
          "2024-09-04T00:00:00",
          "2024-09-05T00:00:00",
          "2024-09-06T00:00:00",
          "2024-09-07T00:00:00",
          "2024-09-08T00:00:00",
          "2024-09-09T00:00:00",
          "2024-09-10T00:00:00",
          "2024-09-11T00:00:00",
          "2024-09-12T00:00:00",
          "2024-09-13T00:00:00",
          "2024-09-14T00:00:00",
          "2024-09-15T00:00:00",
          "2024-09-16T00:00:00",
          "2024-09-17T00:00:00",
          "2024-09-18T00:00:00",
          "2024-09-19T00:00:00",
          "2024-09-20T00:00:00",
          "2024-09-21T00:00:00",
          "2024-09-22T00:00:00",
          "2024-09-23T00:00:00",
          "2024-09-24T00:00:00",
          "2024-09-25T00:00:00",
          "2024-09-26T00:00:00",
          "2024-09-27T00:00:00",
          "2024-09-28T00:00:00",
          "2024-09-29T00:00:00",
          "2024-09-30T00:00:00",
          "2024-10-01T00:00:00",
          "2024-10-02T00:00:00",
          "2024-10-03T00:00:00",
          "2024-10-04T00:00:00",
          "2024-10-05T00:00:00",
          "2024-10-06T00:00:00",
          "2024-10-07T00:00:00",
          "2024-10-08T00:00:00",
          "2024-10-09T00:00:00",
          "2024-10-10T00:00:00",
          "2024-10-11T00:00:00",
          "2024-10-12T00:00:00"
         ]
        }
       ],
       "layout": {
        "annotations": [
         {
          "showarrow": false,
          "text": "Max Price (183)",
          "x": 1,
          "xanchor": "left",
          "xref": "x domain",
          "y": 0.0000235107535771057,
          "yanchor": "middle",
          "yref": "y"
         },
         {
          "showarrow": false,
          "text": "Min Price (183)",
          "x": 1,
          "xanchor": "left",
          "xref": "x domain",
          "y": 0.00000618706991514442,
          "yanchor": "middle",
          "yref": "y"
         },
         {
          "showarrow": false,
          "text": "Current Position (0.9743826600546842)",
          "x": 1,
          "xanchor": "left",
          "xref": "x domain",
          "y": 0.000006630856608617993,
          "yanchor": "middle",
          "yref": "y"
         }
        ],
        "font": {
         "color": "white",
         "size": 12
        },
        "height": 600,
        "hovermode": "x unified",
        "margin": {
         "b": 20,
         "l": 20,
         "r": 20,
         "t": 50
        },
        "paper_bgcolor": "rgba(0, 0, 0, 0.1)",
        "plot_bgcolor": "rgba(0, 0, 0, 0)",
        "shapes": [
         {
          "line": {
           "color": "green",
           "dash": "dash"
          },
          "type": "line",
          "x0": 0,
          "x1": 1,
          "xref": "x domain",
          "y0": 0.0000235107535771057,
          "y1": 0.0000235107535771057,
          "yref": "y"
         },
         {
          "line": {
           "color": "red",
           "dash": "dash"
          },
          "type": "line",
          "x0": 0,
          "x1": 1,
          "xref": "x domain",
          "y0": 0.00000618706991514442,
          "y1": 0.00000618706991514442,
          "yref": "y"
         },
         {
          "line": {
           "color": "orange",
           "dash": "dash"
          },
          "type": "line",
          "x0": 0,
          "x1": 1,
          "xref": "x domain",
          "y0": 0.000006630856608617993,
          "y1": 0.000006630856608617993,
          "yref": "y"
         }
        ],
        "showlegend": true,
        "template": {
         "data": {
          "bar": [
           {
            "error_x": {
             "color": "#f2f5fa"
            },
            "error_y": {
             "color": "#f2f5fa"
            },
            "marker": {
             "line": {
              "color": "rgb(17,17,17)",
              "width": 0.5
             },
             "pattern": {
              "fillmode": "overlay",
              "size": 10,
              "solidity": 0.2
             }
            },
            "type": "bar"
           }
          ],
          "barpolar": [
           {
            "marker": {
             "line": {
              "color": "rgb(17,17,17)",
              "width": 0.5
             },
             "pattern": {
              "fillmode": "overlay",
              "size": 10,
              "solidity": 0.2
             }
            },
            "type": "barpolar"
           }
          ],
          "carpet": [
           {
            "aaxis": {
             "endlinecolor": "#A2B1C6",
             "gridcolor": "#506784",
             "linecolor": "#506784",
             "minorgridcolor": "#506784",
             "startlinecolor": "#A2B1C6"
            },
            "baxis": {
             "endlinecolor": "#A2B1C6",
             "gridcolor": "#506784",
             "linecolor": "#506784",
             "minorgridcolor": "#506784",
             "startlinecolor": "#A2B1C6"
            },
            "type": "carpet"
           }
          ],
          "choropleth": [
           {
            "colorbar": {
             "outlinewidth": 0,
             "ticks": ""
            },
            "type": "choropleth"
           }
          ],
          "contour": [
           {
            "colorbar": {
             "outlinewidth": 0,
             "ticks": ""
            },
            "colorscale": [
             [
              0,
              "#0d0887"
             ],
             [
              0.1111111111111111,
              "#46039f"
             ],
             [
              0.2222222222222222,
              "#7201a8"
             ],
             [
              0.3333333333333333,
              "#9c179e"
             ],
             [
              0.4444444444444444,
              "#bd3786"
             ],
             [
              0.5555555555555556,
              "#d8576b"
             ],
             [
              0.6666666666666666,
              "#ed7953"
             ],
             [
              0.7777777777777778,
              "#fb9f3a"
             ],
             [
              0.8888888888888888,
              "#fdca26"
             ],
             [
              1,
              "#f0f921"
             ]
            ],
            "type": "contour"
           }
          ],
          "contourcarpet": [
           {
            "colorbar": {
             "outlinewidth": 0,
             "ticks": ""
            },
            "type": "contourcarpet"
           }
          ],
          "heatmap": [
           {
            "colorbar": {
             "outlinewidth": 0,
             "ticks": ""
            },
            "colorscale": [
             [
              0,
              "#0d0887"
             ],
             [
              0.1111111111111111,
              "#46039f"
             ],
             [
              0.2222222222222222,
              "#7201a8"
             ],
             [
              0.3333333333333333,
              "#9c179e"
             ],
             [
              0.4444444444444444,
              "#bd3786"
             ],
             [
              0.5555555555555556,
              "#d8576b"
             ],
             [
              0.6666666666666666,
              "#ed7953"
             ],
             [
              0.7777777777777778,
              "#fb9f3a"
             ],
             [
              0.8888888888888888,
              "#fdca26"
             ],
             [
              1,
              "#f0f921"
             ]
            ],
            "type": "heatmap"
           }
          ],
          "heatmapgl": [
           {
            "colorbar": {
             "outlinewidth": 0,
             "ticks": ""
            },
            "colorscale": [
             [
              0,
              "#0d0887"
             ],
             [
              0.1111111111111111,
              "#46039f"
             ],
             [
              0.2222222222222222,
              "#7201a8"
             ],
             [
              0.3333333333333333,
              "#9c179e"
             ],
             [
              0.4444444444444444,
              "#bd3786"
             ],
             [
              0.5555555555555556,
              "#d8576b"
             ],
             [
              0.6666666666666666,
              "#ed7953"
             ],
             [
              0.7777777777777778,
              "#fb9f3a"
             ],
             [
              0.8888888888888888,
              "#fdca26"
             ],
             [
              1,
              "#f0f921"
             ]
            ],
            "type": "heatmapgl"
           }
          ],
          "histogram": [
           {
            "marker": {
             "pattern": {
              "fillmode": "overlay",
              "size": 10,
              "solidity": 0.2
             }
            },
            "type": "histogram"
           }
          ],
          "histogram2d": [
           {
            "colorbar": {
             "outlinewidth": 0,
             "ticks": ""
            },
            "colorscale": [
             [
              0,
              "#0d0887"
             ],
             [
              0.1111111111111111,
              "#46039f"
             ],
             [
              0.2222222222222222,
              "#7201a8"
             ],
             [
              0.3333333333333333,
              "#9c179e"
             ],
             [
              0.4444444444444444,
              "#bd3786"
             ],
             [
              0.5555555555555556,
              "#d8576b"
             ],
             [
              0.6666666666666666,
              "#ed7953"
             ],
             [
              0.7777777777777778,
              "#fb9f3a"
             ],
             [
              0.8888888888888888,
              "#fdca26"
             ],
             [
              1,
              "#f0f921"
             ]
            ],
            "type": "histogram2d"
           }
          ],
          "histogram2dcontour": [
           {
            "colorbar": {
             "outlinewidth": 0,
             "ticks": ""
            },
            "colorscale": [
             [
              0,
              "#0d0887"
             ],
             [
              0.1111111111111111,
              "#46039f"
             ],
             [
              0.2222222222222222,
              "#7201a8"
             ],
             [
              0.3333333333333333,
              "#9c179e"
             ],
             [
              0.4444444444444444,
              "#bd3786"
             ],
             [
              0.5555555555555556,
              "#d8576b"
             ],
             [
              0.6666666666666666,
              "#ed7953"
             ],
             [
              0.7777777777777778,
              "#fb9f3a"
             ],
             [
              0.8888888888888888,
              "#fdca26"
             ],
             [
              1,
              "#f0f921"
             ]
            ],
            "type": "histogram2dcontour"
           }
          ],
          "mesh3d": [
           {
            "colorbar": {
             "outlinewidth": 0,
             "ticks": ""
            },
            "type": "mesh3d"
           }
          ],
          "parcoords": [
           {
            "line": {
             "colorbar": {
              "outlinewidth": 0,
              "ticks": ""
             }
            },
            "type": "parcoords"
           }
          ],
          "pie": [
           {
            "automargin": true,
            "type": "pie"
           }
          ],
          "scatter": [
           {
            "marker": {
             "line": {
              "color": "#283442"
             }
            },
            "type": "scatter"
           }
          ],
          "scatter3d": [
           {
            "line": {
             "colorbar": {
              "outlinewidth": 0,
              "ticks": ""
             }
            },
            "marker": {
             "colorbar": {
              "outlinewidth": 0,
              "ticks": ""
             }
            },
            "type": "scatter3d"
           }
          ],
          "scattercarpet": [
           {
            "marker": {
             "colorbar": {
              "outlinewidth": 0,
              "ticks": ""
             }
            },
            "type": "scattercarpet"
           }
          ],
          "scattergeo": [
           {
            "marker": {
             "colorbar": {
              "outlinewidth": 0,
              "ticks": ""
             }
            },
            "type": "scattergeo"
           }
          ],
          "scattergl": [
           {
            "marker": {
             "line": {
              "color": "#283442"
             }
            },
            "type": "scattergl"
           }
          ],
          "scattermapbox": [
           {
            "marker": {
             "colorbar": {
              "outlinewidth": 0,
              "ticks": ""
             }
            },
            "type": "scattermapbox"
           }
          ],
          "scatterpolar": [
           {
            "marker": {
             "colorbar": {
              "outlinewidth": 0,
              "ticks": ""
             }
            },
            "type": "scatterpolar"
           }
          ],
          "scatterpolargl": [
           {
            "marker": {
             "colorbar": {
              "outlinewidth": 0,
              "ticks": ""
             }
            },
            "type": "scatterpolargl"
           }
          ],
          "scatterternary": [
           {
            "marker": {
             "colorbar": {
              "outlinewidth": 0,
              "ticks": ""
             }
            },
            "type": "scatterternary"
           }
          ],
          "surface": [
           {
            "colorbar": {
             "outlinewidth": 0,
             "ticks": ""
            },
            "colorscale": [
             [
              0,
              "#0d0887"
             ],
             [
              0.1111111111111111,
              "#46039f"
             ],
             [
              0.2222222222222222,
              "#7201a8"
             ],
             [
              0.3333333333333333,
              "#9c179e"
             ],
             [
              0.4444444444444444,
              "#bd3786"
             ],
             [
              0.5555555555555556,
              "#d8576b"
             ],
             [
              0.6666666666666666,
              "#ed7953"
             ],
             [
              0.7777777777777778,
              "#fb9f3a"
             ],
             [
              0.8888888888888888,
              "#fdca26"
             ],
             [
              1,
              "#f0f921"
             ]
            ],
            "type": "surface"
           }
          ],
          "table": [
           {
            "cells": {
             "fill": {
              "color": "#506784"
             },
             "line": {
              "color": "rgb(17,17,17)"
             }
            },
            "header": {
             "fill": {
              "color": "#2a3f5f"
             },
             "line": {
              "color": "rgb(17,17,17)"
             }
            },
            "type": "table"
           }
          ]
         },
         "layout": {
          "annotationdefaults": {
           "arrowcolor": "#f2f5fa",
           "arrowhead": 0,
           "arrowwidth": 1
          },
          "autotypenumbers": "strict",
          "coloraxis": {
           "colorbar": {
            "outlinewidth": 0,
            "ticks": ""
           }
          },
          "colorscale": {
           "diverging": [
            [
             0,
             "#8e0152"
            ],
            [
             0.1,
             "#c51b7d"
            ],
            [
             0.2,
             "#de77ae"
            ],
            [
             0.3,
             "#f1b6da"
            ],
            [
             0.4,
             "#fde0ef"
            ],
            [
             0.5,
             "#f7f7f7"
            ],
            [
             0.6,
             "#e6f5d0"
            ],
            [
             0.7,
             "#b8e186"
            ],
            [
             0.8,
             "#7fbc41"
            ],
            [
             0.9,
             "#4d9221"
            ],
            [
             1,
             "#276419"
            ]
           ],
           "sequential": [
            [
             0,
             "#0d0887"
            ],
            [
             0.1111111111111111,
             "#46039f"
            ],
            [
             0.2222222222222222,
             "#7201a8"
            ],
            [
             0.3333333333333333,
             "#9c179e"
            ],
            [
             0.4444444444444444,
             "#bd3786"
            ],
            [
             0.5555555555555556,
             "#d8576b"
            ],
            [
             0.6666666666666666,
             "#ed7953"
            ],
            [
             0.7777777777777778,
             "#fb9f3a"
            ],
            [
             0.8888888888888888,
             "#fdca26"
            ],
            [
             1,
             "#f0f921"
            ]
           ],
           "sequentialminus": [
            [
             0,
             "#0d0887"
            ],
            [
             0.1111111111111111,
             "#46039f"
            ],
            [
             0.2222222222222222,
             "#7201a8"
            ],
            [
             0.3333333333333333,
             "#9c179e"
            ],
            [
             0.4444444444444444,
             "#bd3786"
            ],
            [
             0.5555555555555556,
             "#d8576b"
            ],
            [
             0.6666666666666666,
             "#ed7953"
            ],
            [
             0.7777777777777778,
             "#fb9f3a"
            ],
            [
             0.8888888888888888,
             "#fdca26"
            ],
            [
             1,
             "#f0f921"
            ]
           ]
          },
          "colorway": [
           "#636efa",
           "#EF553B",
           "#00cc96",
           "#ab63fa",
           "#FFA15A",
           "#19d3f3",
           "#FF6692",
           "#B6E880",
           "#FF97FF",
           "#FECB52"
          ],
          "font": {
           "color": "#f2f5fa"
          },
          "geo": {
           "bgcolor": "rgb(17,17,17)",
           "lakecolor": "rgb(17,17,17)",
           "landcolor": "rgb(17,17,17)",
           "showlakes": true,
           "showland": true,
           "subunitcolor": "#506784"
          },
          "hoverlabel": {
           "align": "left"
          },
          "hovermode": "closest",
          "mapbox": {
           "style": "dark"
          },
          "paper_bgcolor": "rgb(17,17,17)",
          "plot_bgcolor": "rgb(17,17,17)",
          "polar": {
           "angularaxis": {
            "gridcolor": "#506784",
            "linecolor": "#506784",
            "ticks": ""
           },
           "bgcolor": "rgb(17,17,17)",
           "radialaxis": {
            "gridcolor": "#506784",
            "linecolor": "#506784",
            "ticks": ""
           }
          },
          "scene": {
           "xaxis": {
            "backgroundcolor": "rgb(17,17,17)",
            "gridcolor": "#506784",
            "gridwidth": 2,
            "linecolor": "#506784",
            "showbackground": true,
            "ticks": "",
            "zerolinecolor": "#C8D4E3"
           },
           "yaxis": {
            "backgroundcolor": "rgb(17,17,17)",
            "gridcolor": "#506784",
            "gridwidth": 2,
            "linecolor": "#506784",
            "showbackground": true,
            "ticks": "",
            "zerolinecolor": "#C8D4E3"
           },
           "zaxis": {
            "backgroundcolor": "rgb(17,17,17)",
            "gridcolor": "#506784",
            "gridwidth": 2,
            "linecolor": "#506784",
            "showbackground": true,
            "ticks": "",
            "zerolinecolor": "#C8D4E3"
           }
          },
          "shapedefaults": {
           "line": {
            "color": "#f2f5fa"
           }
          },
          "sliderdefaults": {
           "bgcolor": "#C8D4E3",
           "bordercolor": "rgb(17,17,17)",
           "borderwidth": 1,
           "tickwidth": 0
          },
          "ternary": {
           "aaxis": {
            "gridcolor": "#506784",
            "linecolor": "#506784",
            "ticks": ""
           },
           "baxis": {
            "gridcolor": "#506784",
            "linecolor": "#506784",
            "ticks": ""
           },
           "bgcolor": "rgb(17,17,17)",
           "caxis": {
            "gridcolor": "#506784",
            "linecolor": "#506784",
            "ticks": ""
           }
          },
          "title": {
           "x": 0.05
          },
          "updatemenudefaults": {
           "bgcolor": "#506784",
           "borderwidth": 0
          },
          "xaxis": {
           "automargin": true,
           "gridcolor": "#283442",
           "linecolor": "#506784",
           "ticks": "",
           "title": {
            "standoff": 15
           },
           "zerolinecolor": "#283442",
           "zerolinewidth": 2
          },
          "yaxis": {
           "automargin": true,
           "gridcolor": "#283442",
           "linecolor": "#506784",
           "ticks": "",
           "title": {
            "standoff": 15
           },
           "zerolinecolor": "#283442",
           "zerolinewidth": 2
          }
         }
        },
        "title": {
         "text": "MOBILE/SOL - Price Range and Current Position"
        },
        "width": 1200,
        "xaxis": {
         "rangeslider": {
          "visible": false
         },
         "title": {
          "text": "Date"
         }
        },
        "yaxis": {
         "title": {
          "text": "Price"
         }
        }
       }
      }
     },
     "metadata": {},
     "output_type": "display_data"
    },
    {
     "data": {
      "application/vnd.plotly.v1+json": {
       "config": {
        "plotlyServerURL": "https://plot.ly"
       },
       "data": [
        {
         "close": [
          0.000523091940508899,
          0.000757572063444773,
          0.000474635242041846,
          0.000344340937662734,
          0.000243744702055805,
          0.00031881196,
          0.000255587132348065,
          0.000205902993194195,
          0.000296237776495347,
          0.000484101470438696,
          0.000553652380214865,
          0.000504898334302528,
          0.000576053657877511,
          0.000731758924155396,
          0.00101528803354845,
          0.000792897294533333,
          0.00125553404534382,
          0.00103331881336607,
          0.00092479397039954,
          0.0012666027482,
          0.00116250446474371,
          0.00110897549209802,
          0.000822411237714326,
          0.000861138433023072,
          0.00077328589272181,
          0.000856535235777778,
          0.00103705424205945,
          0.000935846300065281,
          0.000782612826188003,
          0.000882507413067786,
          0.00102401670971286,
          0.00115414572234236,
          0.00112733997820088,
          0.00102316476214286,
          0.00100249021476569,
          0.000909888202828054,
          0.000988730409820194,
          0.000957870014444444,
          0.000802201087588232,
          0.000653860783863737,
          0.000671664568959879,
          0.000676510073698407,
          0.000601767546407422,
          0.000657006805112236,
          0.000540089638901197,
          0.000537077448349138,
          0.000478608643761787,
          0.000393290629081425,
          0.00039669040760771,
          0.00037494683149133,
          0.000406170638679221,
          0.000346967474562597,
          0.000325903799172788,
          0.000295547930939772,
          0.000272321385,
          0.000324112461273277,
          0.00031684167328313,
          0.000296531848945222,
          0.000274901737180935,
          0.00027660992167304,
          0.00024653575,
          0.000219223715306379,
          0.000189560795107047,
          0.000188351837340014,
          0.000218954219651837,
          0.000287388278577651,
          0.000265187814407778,
          0.000229336232950925,
          0.000178055172757345,
          0.000189247364532747,
          0.00020136374395143,
          0.000202331929677865,
          0.00019060753652,
          0.000194893849875389,
          0.000158703604947707,
          0.00015993741177101,
          0.000123189251807761,
          0.000147271429352529,
          0.000125490292098861,
          0.000130819494400681,
          0.000175071028797932,
          0.000170096258678912,
          0.000202789333333333,
          0.000227020822297439,
          0.00019847851265713,
          0.000199852024002312,
          0.000174072135275362,
          0.000161595065359046,
          0.000144917719899873,
          0.000155328652532279,
          0.00015736400725,
          0.000271655042914568,
          0.000324550011752654,
          0.000302386141759727,
          0.000321920016309781,
          0.000292932787978798,
          0.000285098308001203,
          0.000305377989899559,
          0.000391056170564198,
          0.000407922247537129,
          0.000347011060660666,
          0.000341609149972609,
          0.000342240785335928,
          0.000331820817597172,
          0.00031551226702128,
          0.000299120773109234,
          0.000302183437160659,
          0.000321636593858816,
          0.000280141785454186,
          0.000306599963869371,
          0.00030242234778196,
          0.000282610058566376,
          0.000256202399299819,
          0.0002361776214237,
          0.000274262627531934,
          0.0002546411163651981
         ],
         "decreasing": {
          "line": {
           "color": "#E74C3C"
          }
         },
         "high": [
          0.000732419283577801,
          0.00132019414036827,
          0.00454586999021605,
          0.000519847417570929,
          0.000344340937662734,
          0.000350632256160054,
          0.000348581264418058,
          0.000272560172820403,
          0.000327312303133257,
          0.000489813738710812,
          0.00062406689625604,
          0.000583574998393193,
          0.000614341170298876,
          0.000883716036589818,
          0.00101528803354845,
          0.00110179921510744,
          0.00134844631676359,
          0.00147796763306546,
          0.00126468675268931,
          0.00133300025100536,
          0.00141281189530502,
          0.00129441318649242,
          0.00111371163740913,
          0.000916817423347437,
          0.000983852404869741,
          0.0009022440864,
          0.00123751565650049,
          0.00113964765103038,
          0.000958971568626961,
          0.000988884502896471,
          0.0011731156888297,
          0.00118759936406995,
          0.00133552287792827,
          0.00115126944525976,
          0.00110752641113962,
          0.00110939391830797,
          0.00105364672409386,
          0.00109630430743687,
          0.000985050410577676,
          0.000830019245703481,
          0.00080376751245097,
          0.000696973757369844,
          0.000731658305760131,
          0.000700712589073634,
          0.000657006805112236,
          0.000574214312509479,
          0.00057011773375142,
          0.000491513047872084,
          0.000504243824527892,
          0.00047617087135592,
          0.000429323398575884,
          0.000406170638679221,
          0.000397515005796975,
          0.000337647386460664,
          0.000299570109719248,
          0.000339656275598637,
          0.000383872200026718,
          0.000332898842298324,
          0.000306139956127285,
          0.000286026478827215,
          0.000294627676476017,
          0.000247219223289485,
          0.000261156849989255,
          0.0002178937008695,
          0.00023920803634835,
          0.000305606246244602,
          0.000298968962421764,
          0.000265294396775359,
          0.000234272812716583,
          0.00019497579110825,
          0.000262138306280027,
          0.000233274531235086,
          0.000209826267135569,
          0.000199110042078444,
          0.000195243911853125,
          0.000163875287441264,
          0.00015993741177101,
          0.000147271429352529,
          0.000155319321958204,
          0.000146972265490453,
          0.00019718493371144,
          0.000181015314221403,
          0.000220922364600076,
          0.000259841622269824,
          0.000231234104814711,
          0.000221995221707714,
          0.000201605209639429,
          0.000189532696744751,
          0.000168765231265081,
          0.000164379036542058,
          0.000172955143678773,
          0.000336706645553249,
          0.000387020506296985,
          0.000399379621813816,
          0.000346183703588083,
          0.000355412502134903,
          0.000311538147280404,
          0.000333773452735675,
          0.000452976712855095,
          0.000473142831782401,
          0.000417337750984651,
          0.000394943549590285,
          0.000359300695511843,
          0.000366114694068818,
          0.000356485158275489,
          0.000328155870379536,
          0.000324286797232116,
          0.000345035000100691,
          0.000334233391821924,
          0.000319249663206519,
          0.000344299500549105,
          0.000310010059046098,
          0.000310435053525408,
          0.000268718282156771,
          0.000294926511043509,
          0.0002950019775847653
         ],
         "increasing": {
          "line": {
           "color": "#2ECC71"
          }
         },
         "low": [
          0.00031528201966915,
          0.000523091940508899,
          0.000363356093070153,
          0.000282846184292894,
          0.000216702259903298,
          0.000184459808869285,
          0.000242155306562658,
          0.000183109161554419,
          0.000184793542313665,
          0.00024084179,
          0.000399847997212648,
          0.000431821394577377,
          0.000383884179574495,
          0.000568261940740741,
          0.00055639564780576,
          0.000776288819643406,
          0.000728896485644915,
          0.00103331881336607,
          0.000868137714071642,
          0.000825227427483488,
          0.00108750341677605,
          0.000972015297885,
          0.000763677448946445,
          0.000672167668587782,
          0.000760843641078167,
          0.000656851032995815,
          0.000856535235777778,
          0.000867647058823529,
          0.000740450158187511,
          0.000710115229754649,
          0.000824380531666667,
          0.000936012825338995,
          0.00106815610692654,
          0.000961551947471708,
          0.000843900091658883,
          0.000864864864864865,
          0.00087944913430652,
          0.000957870014444444,
          0.000700249290547359,
          0.000581810489146033,
          0.000619258959921043,
          0.000571428571428571,
          0.000601767546407422,
          0.000522991471266667,
          0.000539482515988561,
          0.000463987661386979,
          0.000473866869503058,
          0.000309529484937941,
          0.000370011432666667,
          0.000330475072578723,
          0.000272429135626194,
          0.00031456792934646,
          0.000310334004135531,
          0.000265289055953964,
          0.000258179594923972,
          0.000196395058873614,
          0.000294186311363647,
          0.000271734083402939,
          0.000268376926210621,
          0.000260543855994789,
          0.000243439161033478,
          0.000207073618992878,
          0.000189340359615972,
          0.000171202833669363,
          0.000175587276047557,
          0.000216934639619176,
          0.000246345550134675,
          0.000211395828217662,
          0.000178055172757345,
          0.00016727772266831,
          0.000167018779995098,
          0.00020136374395143,
          0.000188006486198194,
          0.000174030496641346,
          0.000152542318986667,
          0.00013705036161927,
          0.000120580434156367,
          0.000114572451344222,
          0.000123988910788518,
          0.000123302474492775,
          0.000129317235085817,
          0.00015735634919067,
          0.000166734842851221,
          0.000183259917351277,
          0.000194940484804608,
          0.000195268143007089,
          0.000166720242854988,
          0.000155745654260479,
          0.000138160755091959,
          0.000131680233997202,
          0.000146045503024419,
          0.000149464522865313,
          0.000251735595279042,
          0.000295321533288927,
          0.000286391257284287,
          0.000280260651485316,
          0.000257368493561025,
          0.000263528345293659,
          0.000273314164899211,
          0.000379288746758753,
          0.0003092188719,
          0.000300503456925455,
          0.000310696311505376,
          0.000304821574332947,
          0.000284407141066667,
          0.00027678337375592,
          0.000278935495838428,
          0.00029325271555,
          0.000265948877731177,
          0.000267652607626606,
          0.00029132930784306,
          0.000271305250839659,
          0.0002473555439047,
          0.000216266357080816,
          0.0002361776214237,
          0.0002481320091459282
         ],
         "name": "Candlesticks",
         "open": [
          0.000410138625912202,
          0.000523091940508899,
          0.000757572063444773,
          0.000474635242041846,
          0.000344340937662734,
          0.000243744702055805,
          0.00031881196,
          0.000255587132348065,
          0.000205902993194195,
          0.000296237776495347,
          0.000484101470438696,
          0.000553652380214865,
          0.000504898334302528,
          0.000576053657877511,
          0.000731758924155396,
          0.00101528803354845,
          0.000792897294533333,
          0.00125553404534382,
          0.00103331881336607,
          0.00092479397039954,
          0.0012666027482,
          0.00116250446474371,
          0.00110897549209802,
          0.000822411237714326,
          0.000861138433023072,
          0.00077328589272181,
          0.000856535235777778,
          0.00103705424205945,
          0.000935846300065281,
          0.000782612826188003,
          0.000882507413067786,
          0.00102401670971286,
          0.00115414572234236,
          0.00112733997820088,
          0.00102316476214286,
          0.00100249021476569,
          0.000909888202828054,
          0.000988730409820194,
          0.000957870014444444,
          0.000802201087588232,
          0.000653860783863737,
          0.000671664568959879,
          0.000676510073698407,
          0.000601767546407422,
          0.000657006805112236,
          0.000540089638901197,
          0.000537077448349138,
          0.000478608643761787,
          0.000393290629081425,
          0.00039669040760771,
          0.00037494683149133,
          0.000406170638679221,
          0.000346967474562597,
          0.000325903799172788,
          0.000295547930939772,
          0.000272321385,
          0.000324112461273277,
          0.00031684167328313,
          0.000296531848945222,
          0.000274901737180935,
          0.00027660992167304,
          0.00024653575,
          0.000219223715306379,
          0.000189560795107047,
          0.000188351837340014,
          0.000218954219651837,
          0.000287388278577651,
          0.000265187814407778,
          0.000229336232950925,
          0.000178055172757345,
          0.000189247364532747,
          0.00020136374395143,
          0.000202331929677865,
          0.00019060753652,
          0.000194893849875389,
          0.000158703604947707,
          0.00015993741177101,
          0.000123189251807761,
          0.000147271429352529,
          0.000125490292098861,
          0.000130819494400681,
          0.000175071028797932,
          0.000170096258678912,
          0.000202789333333333,
          0.000227020822297439,
          0.00019847851265713,
          0.000199852024002312,
          0.000174072135275362,
          0.000161595065359046,
          0.000144917719899873,
          0.000155328652532279,
          0.00015736400725,
          0.000271655042914568,
          0.000324550011752654,
          0.000302386141759727,
          0.000321920016309781,
          0.000292932787978798,
          0.000285098308001203,
          0.000305377989899559,
          0.000391056170564198,
          0.000407922247537129,
          0.000347011060660666,
          0.000341609149972609,
          0.000342240785335928,
          0.000331820817597172,
          0.00031551226702128,
          0.000299120773109234,
          0.000302183437160659,
          0.000321636593858816,
          0.000280141785454186,
          0.000306599963869371,
          0.00030242234778196,
          0.000282610058566376,
          0.000256202399299819,
          0.0002361776214237,
          0.000274262627531934
         ],
         "type": "candlestick",
         "x": [
          "2024-06-19T00:00:00",
          "2024-06-20T00:00:00",
          "2024-06-21T00:00:00",
          "2024-06-22T00:00:00",
          "2024-06-23T00:00:00",
          "2024-06-24T00:00:00",
          "2024-06-25T00:00:00",
          "2024-06-26T00:00:00",
          "2024-06-27T00:00:00",
          "2024-06-28T00:00:00",
          "2024-06-29T00:00:00",
          "2024-06-30T00:00:00",
          "2024-07-01T00:00:00",
          "2024-07-02T00:00:00",
          "2024-07-03T00:00:00",
          "2024-07-04T00:00:00",
          "2024-07-05T00:00:00",
          "2024-07-06T00:00:00",
          "2024-07-07T00:00:00",
          "2024-07-08T00:00:00",
          "2024-07-09T00:00:00",
          "2024-07-10T00:00:00",
          "2024-07-11T00:00:00",
          "2024-07-12T00:00:00",
          "2024-07-13T00:00:00",
          "2024-07-14T00:00:00",
          "2024-07-15T00:00:00",
          "2024-07-16T00:00:00",
          "2024-07-17T00:00:00",
          "2024-07-18T00:00:00",
          "2024-07-19T00:00:00",
          "2024-07-20T00:00:00",
          "2024-07-21T00:00:00",
          "2024-07-22T00:00:00",
          "2024-07-23T00:00:00",
          "2024-07-24T00:00:00",
          "2024-07-25T00:00:00",
          "2024-07-26T00:00:00",
          "2024-07-27T00:00:00",
          "2024-07-28T00:00:00",
          "2024-07-29T00:00:00",
          "2024-07-30T00:00:00",
          "2024-07-31T00:00:00",
          "2024-08-01T00:00:00",
          "2024-08-02T00:00:00",
          "2024-08-03T00:00:00",
          "2024-08-04T00:00:00",
          "2024-08-05T00:00:00",
          "2024-08-06T00:00:00",
          "2024-08-07T00:00:00",
          "2024-08-08T00:00:00",
          "2024-08-09T00:00:00",
          "2024-08-10T00:00:00",
          "2024-08-11T00:00:00",
          "2024-08-12T00:00:00",
          "2024-08-13T00:00:00",
          "2024-08-14T00:00:00",
          "2024-08-15T00:00:00",
          "2024-08-16T00:00:00",
          "2024-08-17T00:00:00",
          "2024-08-18T00:00:00",
          "2024-08-19T00:00:00",
          "2024-08-20T00:00:00",
          "2024-08-21T00:00:00",
          "2024-08-22T00:00:00",
          "2024-08-23T00:00:00",
          "2024-08-24T00:00:00",
          "2024-08-25T00:00:00",
          "2024-08-26T00:00:00",
          "2024-08-27T00:00:00",
          "2024-08-28T00:00:00",
          "2024-08-29T00:00:00",
          "2024-08-30T00:00:00",
          "2024-08-31T00:00:00",
          "2024-09-01T00:00:00",
          "2024-09-02T00:00:00",
          "2024-09-03T00:00:00",
          "2024-09-04T00:00:00",
          "2024-09-05T00:00:00",
          "2024-09-06T00:00:00",
          "2024-09-07T00:00:00",
          "2024-09-08T00:00:00",
          "2024-09-09T00:00:00",
          "2024-09-10T00:00:00",
          "2024-09-11T00:00:00",
          "2024-09-12T00:00:00",
          "2024-09-13T00:00:00",
          "2024-09-14T00:00:00",
          "2024-09-15T00:00:00",
          "2024-09-16T00:00:00",
          "2024-09-17T00:00:00",
          "2024-09-18T00:00:00",
          "2024-09-19T00:00:00",
          "2024-09-20T00:00:00",
          "2024-09-21T00:00:00",
          "2024-09-22T00:00:00",
          "2024-09-23T00:00:00",
          "2024-09-24T00:00:00",
          "2024-09-25T00:00:00",
          "2024-09-26T00:00:00",
          "2024-09-27T00:00:00",
          "2024-09-28T00:00:00",
          "2024-09-29T00:00:00",
          "2024-09-30T00:00:00",
          "2024-10-01T00:00:00",
          "2024-10-02T00:00:00",
          "2024-10-03T00:00:00",
          "2024-10-04T00:00:00",
          "2024-10-05T00:00:00",
          "2024-10-06T00:00:00",
          "2024-10-07T00:00:00",
          "2024-10-08T00:00:00",
          "2024-10-09T00:00:00",
          "2024-10-10T00:00:00",
          "2024-10-11T00:00:00",
          "2024-10-12T00:00:00"
         ]
        }
       ],
       "layout": {
        "annotations": [
         {
          "showarrow": false,
          "text": "Max Price (116)",
          "x": 1,
          "xanchor": "left",
          "xref": "x domain",
          "y": 0.00454586999021605,
          "yanchor": "middle",
          "yref": "y"
         },
         {
          "showarrow": false,
          "text": "Min Price (116)",
          "x": 1,
          "xanchor": "left",
          "xref": "x domain",
          "y": 0.000114572451344222,
          "yanchor": "middle",
          "yref": "y"
         },
         {
          "showarrow": false,
          "text": "Current Position (0.9683910493952893)",
          "x": 1,
          "xanchor": "left",
          "xref": "x domain",
          "y": 0.0002546411163651981,
          "yanchor": "middle",
          "yref": "y"
         }
        ],
        "font": {
         "color": "white",
         "size": 12
        },
        "height": 600,
        "hovermode": "x unified",
        "margin": {
         "b": 20,
         "l": 20,
         "r": 20,
         "t": 50
        },
        "paper_bgcolor": "rgba(0, 0, 0, 0.1)",
        "plot_bgcolor": "rgba(0, 0, 0, 0)",
        "shapes": [
         {
          "line": {
           "color": "green",
           "dash": "dash"
          },
          "type": "line",
          "x0": 0,
          "x1": 1,
          "xref": "x domain",
          "y0": 0.00454586999021605,
          "y1": 0.00454586999021605,
          "yref": "y"
         },
         {
          "line": {
           "color": "red",
           "dash": "dash"
          },
          "type": "line",
          "x0": 0,
          "x1": 1,
          "xref": "x domain",
          "y0": 0.000114572451344222,
          "y1": 0.000114572451344222,
          "yref": "y"
         },
         {
          "line": {
           "color": "orange",
           "dash": "dash"
          },
          "type": "line",
          "x0": 0,
          "x1": 1,
          "xref": "x domain",
          "y0": 0.0002546411163651981,
          "y1": 0.0002546411163651981,
          "yref": "y"
         }
        ],
        "showlegend": true,
        "template": {
         "data": {
          "bar": [
           {
            "error_x": {
             "color": "#f2f5fa"
            },
            "error_y": {
             "color": "#f2f5fa"
            },
            "marker": {
             "line": {
              "color": "rgb(17,17,17)",
              "width": 0.5
             },
             "pattern": {
              "fillmode": "overlay",
              "size": 10,
              "solidity": 0.2
             }
            },
            "type": "bar"
           }
          ],
          "barpolar": [
           {
            "marker": {
             "line": {
              "color": "rgb(17,17,17)",
              "width": 0.5
             },
             "pattern": {
              "fillmode": "overlay",
              "size": 10,
              "solidity": 0.2
             }
            },
            "type": "barpolar"
           }
          ],
          "carpet": [
           {
            "aaxis": {
             "endlinecolor": "#A2B1C6",
             "gridcolor": "#506784",
             "linecolor": "#506784",
             "minorgridcolor": "#506784",
             "startlinecolor": "#A2B1C6"
            },
            "baxis": {
             "endlinecolor": "#A2B1C6",
             "gridcolor": "#506784",
             "linecolor": "#506784",
             "minorgridcolor": "#506784",
             "startlinecolor": "#A2B1C6"
            },
            "type": "carpet"
           }
          ],
          "choropleth": [
           {
            "colorbar": {
             "outlinewidth": 0,
             "ticks": ""
            },
            "type": "choropleth"
           }
          ],
          "contour": [
           {
            "colorbar": {
             "outlinewidth": 0,
             "ticks": ""
            },
            "colorscale": [
             [
              0,
              "#0d0887"
             ],
             [
              0.1111111111111111,
              "#46039f"
             ],
             [
              0.2222222222222222,
              "#7201a8"
             ],
             [
              0.3333333333333333,
              "#9c179e"
             ],
             [
              0.4444444444444444,
              "#bd3786"
             ],
             [
              0.5555555555555556,
              "#d8576b"
             ],
             [
              0.6666666666666666,
              "#ed7953"
             ],
             [
              0.7777777777777778,
              "#fb9f3a"
             ],
             [
              0.8888888888888888,
              "#fdca26"
             ],
             [
              1,
              "#f0f921"
             ]
            ],
            "type": "contour"
           }
          ],
          "contourcarpet": [
           {
            "colorbar": {
             "outlinewidth": 0,
             "ticks": ""
            },
            "type": "contourcarpet"
           }
          ],
          "heatmap": [
           {
            "colorbar": {
             "outlinewidth": 0,
             "ticks": ""
            },
            "colorscale": [
             [
              0,
              "#0d0887"
             ],
             [
              0.1111111111111111,
              "#46039f"
             ],
             [
              0.2222222222222222,
              "#7201a8"
             ],
             [
              0.3333333333333333,
              "#9c179e"
             ],
             [
              0.4444444444444444,
              "#bd3786"
             ],
             [
              0.5555555555555556,
              "#d8576b"
             ],
             [
              0.6666666666666666,
              "#ed7953"
             ],
             [
              0.7777777777777778,
              "#fb9f3a"
             ],
             [
              0.8888888888888888,
              "#fdca26"
             ],
             [
              1,
              "#f0f921"
             ]
            ],
            "type": "heatmap"
           }
          ],
          "heatmapgl": [
           {
            "colorbar": {
             "outlinewidth": 0,
             "ticks": ""
            },
            "colorscale": [
             [
              0,
              "#0d0887"
             ],
             [
              0.1111111111111111,
              "#46039f"
             ],
             [
              0.2222222222222222,
              "#7201a8"
             ],
             [
              0.3333333333333333,
              "#9c179e"
             ],
             [
              0.4444444444444444,
              "#bd3786"
             ],
             [
              0.5555555555555556,
              "#d8576b"
             ],
             [
              0.6666666666666666,
              "#ed7953"
             ],
             [
              0.7777777777777778,
              "#fb9f3a"
             ],
             [
              0.8888888888888888,
              "#fdca26"
             ],
             [
              1,
              "#f0f921"
             ]
            ],
            "type": "heatmapgl"
           }
          ],
          "histogram": [
           {
            "marker": {
             "pattern": {
              "fillmode": "overlay",
              "size": 10,
              "solidity": 0.2
             }
            },
            "type": "histogram"
           }
          ],
          "histogram2d": [
           {
            "colorbar": {
             "outlinewidth": 0,
             "ticks": ""
            },
            "colorscale": [
             [
              0,
              "#0d0887"
             ],
             [
              0.1111111111111111,
              "#46039f"
             ],
             [
              0.2222222222222222,
              "#7201a8"
             ],
             [
              0.3333333333333333,
              "#9c179e"
             ],
             [
              0.4444444444444444,
              "#bd3786"
             ],
             [
              0.5555555555555556,
              "#d8576b"
             ],
             [
              0.6666666666666666,
              "#ed7953"
             ],
             [
              0.7777777777777778,
              "#fb9f3a"
             ],
             [
              0.8888888888888888,
              "#fdca26"
             ],
             [
              1,
              "#f0f921"
             ]
            ],
            "type": "histogram2d"
           }
          ],
          "histogram2dcontour": [
           {
            "colorbar": {
             "outlinewidth": 0,
             "ticks": ""
            },
            "colorscale": [
             [
              0,
              "#0d0887"
             ],
             [
              0.1111111111111111,
              "#46039f"
             ],
             [
              0.2222222222222222,
              "#7201a8"
             ],
             [
              0.3333333333333333,
              "#9c179e"
             ],
             [
              0.4444444444444444,
              "#bd3786"
             ],
             [
              0.5555555555555556,
              "#d8576b"
             ],
             [
              0.6666666666666666,
              "#ed7953"
             ],
             [
              0.7777777777777778,
              "#fb9f3a"
             ],
             [
              0.8888888888888888,
              "#fdca26"
             ],
             [
              1,
              "#f0f921"
             ]
            ],
            "type": "histogram2dcontour"
           }
          ],
          "mesh3d": [
           {
            "colorbar": {
             "outlinewidth": 0,
             "ticks": ""
            },
            "type": "mesh3d"
           }
          ],
          "parcoords": [
           {
            "line": {
             "colorbar": {
              "outlinewidth": 0,
              "ticks": ""
             }
            },
            "type": "parcoords"
           }
          ],
          "pie": [
           {
            "automargin": true,
            "type": "pie"
           }
          ],
          "scatter": [
           {
            "marker": {
             "line": {
              "color": "#283442"
             }
            },
            "type": "scatter"
           }
          ],
          "scatter3d": [
           {
            "line": {
             "colorbar": {
              "outlinewidth": 0,
              "ticks": ""
             }
            },
            "marker": {
             "colorbar": {
              "outlinewidth": 0,
              "ticks": ""
             }
            },
            "type": "scatter3d"
           }
          ],
          "scattercarpet": [
           {
            "marker": {
             "colorbar": {
              "outlinewidth": 0,
              "ticks": ""
             }
            },
            "type": "scattercarpet"
           }
          ],
          "scattergeo": [
           {
            "marker": {
             "colorbar": {
              "outlinewidth": 0,
              "ticks": ""
             }
            },
            "type": "scattergeo"
           }
          ],
          "scattergl": [
           {
            "marker": {
             "line": {
              "color": "#283442"
             }
            },
            "type": "scattergl"
           }
          ],
          "scattermapbox": [
           {
            "marker": {
             "colorbar": {
              "outlinewidth": 0,
              "ticks": ""
             }
            },
            "type": "scattermapbox"
           }
          ],
          "scatterpolar": [
           {
            "marker": {
             "colorbar": {
              "outlinewidth": 0,
              "ticks": ""
             }
            },
            "type": "scatterpolar"
           }
          ],
          "scatterpolargl": [
           {
            "marker": {
             "colorbar": {
              "outlinewidth": 0,
              "ticks": ""
             }
            },
            "type": "scatterpolargl"
           }
          ],
          "scatterternary": [
           {
            "marker": {
             "colorbar": {
              "outlinewidth": 0,
              "ticks": ""
             }
            },
            "type": "scatterternary"
           }
          ],
          "surface": [
           {
            "colorbar": {
             "outlinewidth": 0,
             "ticks": ""
            },
            "colorscale": [
             [
              0,
              "#0d0887"
             ],
             [
              0.1111111111111111,
              "#46039f"
             ],
             [
              0.2222222222222222,
              "#7201a8"
             ],
             [
              0.3333333333333333,
              "#9c179e"
             ],
             [
              0.4444444444444444,
              "#bd3786"
             ],
             [
              0.5555555555555556,
              "#d8576b"
             ],
             [
              0.6666666666666666,
              "#ed7953"
             ],
             [
              0.7777777777777778,
              "#fb9f3a"
             ],
             [
              0.8888888888888888,
              "#fdca26"
             ],
             [
              1,
              "#f0f921"
             ]
            ],
            "type": "surface"
           }
          ],
          "table": [
           {
            "cells": {
             "fill": {
              "color": "#506784"
             },
             "line": {
              "color": "rgb(17,17,17)"
             }
            },
            "header": {
             "fill": {
              "color": "#2a3f5f"
             },
             "line": {
              "color": "rgb(17,17,17)"
             }
            },
            "type": "table"
           }
          ]
         },
         "layout": {
          "annotationdefaults": {
           "arrowcolor": "#f2f5fa",
           "arrowhead": 0,
           "arrowwidth": 1
          },
          "autotypenumbers": "strict",
          "coloraxis": {
           "colorbar": {
            "outlinewidth": 0,
            "ticks": ""
           }
          },
          "colorscale": {
           "diverging": [
            [
             0,
             "#8e0152"
            ],
            [
             0.1,
             "#c51b7d"
            ],
            [
             0.2,
             "#de77ae"
            ],
            [
             0.3,
             "#f1b6da"
            ],
            [
             0.4,
             "#fde0ef"
            ],
            [
             0.5,
             "#f7f7f7"
            ],
            [
             0.6,
             "#e6f5d0"
            ],
            [
             0.7,
             "#b8e186"
            ],
            [
             0.8,
             "#7fbc41"
            ],
            [
             0.9,
             "#4d9221"
            ],
            [
             1,
             "#276419"
            ]
           ],
           "sequential": [
            [
             0,
             "#0d0887"
            ],
            [
             0.1111111111111111,
             "#46039f"
            ],
            [
             0.2222222222222222,
             "#7201a8"
            ],
            [
             0.3333333333333333,
             "#9c179e"
            ],
            [
             0.4444444444444444,
             "#bd3786"
            ],
            [
             0.5555555555555556,
             "#d8576b"
            ],
            [
             0.6666666666666666,
             "#ed7953"
            ],
            [
             0.7777777777777778,
             "#fb9f3a"
            ],
            [
             0.8888888888888888,
             "#fdca26"
            ],
            [
             1,
             "#f0f921"
            ]
           ],
           "sequentialminus": [
            [
             0,
             "#0d0887"
            ],
            [
             0.1111111111111111,
             "#46039f"
            ],
            [
             0.2222222222222222,
             "#7201a8"
            ],
            [
             0.3333333333333333,
             "#9c179e"
            ],
            [
             0.4444444444444444,
             "#bd3786"
            ],
            [
             0.5555555555555556,
             "#d8576b"
            ],
            [
             0.6666666666666666,
             "#ed7953"
            ],
            [
             0.7777777777777778,
             "#fb9f3a"
            ],
            [
             0.8888888888888888,
             "#fdca26"
            ],
            [
             1,
             "#f0f921"
            ]
           ]
          },
          "colorway": [
           "#636efa",
           "#EF553B",
           "#00cc96",
           "#ab63fa",
           "#FFA15A",
           "#19d3f3",
           "#FF6692",
           "#B6E880",
           "#FF97FF",
           "#FECB52"
          ],
          "font": {
           "color": "#f2f5fa"
          },
          "geo": {
           "bgcolor": "rgb(17,17,17)",
           "lakecolor": "rgb(17,17,17)",
           "landcolor": "rgb(17,17,17)",
           "showlakes": true,
           "showland": true,
           "subunitcolor": "#506784"
          },
          "hoverlabel": {
           "align": "left"
          },
          "hovermode": "closest",
          "mapbox": {
           "style": "dark"
          },
          "paper_bgcolor": "rgb(17,17,17)",
          "plot_bgcolor": "rgb(17,17,17)",
          "polar": {
           "angularaxis": {
            "gridcolor": "#506784",
            "linecolor": "#506784",
            "ticks": ""
           },
           "bgcolor": "rgb(17,17,17)",
           "radialaxis": {
            "gridcolor": "#506784",
            "linecolor": "#506784",
            "ticks": ""
           }
          },
          "scene": {
           "xaxis": {
            "backgroundcolor": "rgb(17,17,17)",
            "gridcolor": "#506784",
            "gridwidth": 2,
            "linecolor": "#506784",
            "showbackground": true,
            "ticks": "",
            "zerolinecolor": "#C8D4E3"
           },
           "yaxis": {
            "backgroundcolor": "rgb(17,17,17)",
            "gridcolor": "#506784",
            "gridwidth": 2,
            "linecolor": "#506784",
            "showbackground": true,
            "ticks": "",
            "zerolinecolor": "#C8D4E3"
           },
           "zaxis": {
            "backgroundcolor": "rgb(17,17,17)",
            "gridcolor": "#506784",
            "gridwidth": 2,
            "linecolor": "#506784",
            "showbackground": true,
            "ticks": "",
            "zerolinecolor": "#C8D4E3"
           }
          },
          "shapedefaults": {
           "line": {
            "color": "#f2f5fa"
           }
          },
          "sliderdefaults": {
           "bgcolor": "#C8D4E3",
           "bordercolor": "rgb(17,17,17)",
           "borderwidth": 1,
           "tickwidth": 0
          },
          "ternary": {
           "aaxis": {
            "gridcolor": "#506784",
            "linecolor": "#506784",
            "ticks": ""
           },
           "baxis": {
            "gridcolor": "#506784",
            "linecolor": "#506784",
            "ticks": ""
           },
           "bgcolor": "rgb(17,17,17)",
           "caxis": {
            "gridcolor": "#506784",
            "linecolor": "#506784",
            "ticks": ""
           }
          },
          "title": {
           "x": 0.05
          },
          "updatemenudefaults": {
           "bgcolor": "#506784",
           "borderwidth": 0
          },
          "xaxis": {
           "automargin": true,
           "gridcolor": "#283442",
           "linecolor": "#506784",
           "ticks": "",
           "title": {
            "standoff": 15
           },
           "zerolinecolor": "#283442",
           "zerolinewidth": 2
          },
          "yaxis": {
           "automargin": true,
           "gridcolor": "#283442",
           "linecolor": "#506784",
           "ticks": "",
           "title": {
            "standoff": 15
           },
           "zerolinecolor": "#283442",
           "zerolinewidth": 2
          }
         }
        },
        "title": {
         "text": "BILLY/SOL - Price Range and Current Position"
        },
        "width": 1200,
        "xaxis": {
         "rangeslider": {
          "visible": false
         },
         "title": {
          "text": "Date"
         }
        },
        "yaxis": {
         "title": {
          "text": "Price"
         }
        }
       }
      }
     },
     "metadata": {},
     "output_type": "display_data"
    },
    {
     "data": {
      "application/vnd.plotly.v1+json": {
       "config": {
        "plotlyServerURL": "https://plot.ly"
       },
       "data": [
        {
         "close": [
          2.56823735443836e-8,
          2.67902259423224e-8,
          3.72701808685129e-8,
          4.06303571006802e-8,
          3.35169982121104e-8,
          3.22166978352743e-8,
          2.81702261179732e-8,
          2.30200751574243e-8,
          5.2323629e-8,
          5.81796950249471e-8,
          5.74979237744488e-8,
          4.24980307096499e-8,
          5.00586242894346e-8,
          3.79784237631765e-8,
          4.50350564944755e-8,
          3.4296116543247e-8,
          3.34292038180861e-8,
          3.50123735939494e-8,
          2.67338454608412e-8,
          2.43659917688069e-8,
          1.78529523354545e-8,
          1.75547606473295e-8,
          1.87065850650866e-8,
          1.66469897066213e-8,
          2.37580135513678e-8,
          2.1941152299415e-8,
          2.746289098e-8,
          2.62141933913109e-8,
          2.32053228315468e-8,
          2.35378416337568e-8,
          2.0923713964145e-8,
          1.80843704981766e-8,
          1.8097930655431e-8,
          1.8185591502661e-8,
          1.38556434524407e-8,
          1.20106264225312e-8,
          1.57464217346851e-8,
          1.71146111201833e-8,
          1.73618111748505e-8,
          2.43479101960324e-8,
          2.53240875079922e-8,
          2.76398653851622e-8,
          2.55209590175941e-8,
          2.31911360429898e-8,
          2.13727688372144e-8,
          1.97898130627386e-8,
          2.21653809740547e-8,
          2.43014740622749e-8,
          2.1479990358354e-8,
          2.20164128897189e-8,
          2.28012396446936e-8,
          2.06141990733791e-8,
          2.23298955845579e-8,
          2.04127916279089e-8,
          1.92109558847888e-8,
          1.85804252979451e-8,
          1.92379553219141e-8,
          1.97444349149458e-8,
          2.62064251665401e-8,
          2.6264836773665e-8,
          1.96184386261964e-8,
          1.79173940734499e-8,
          1.62095188097042e-8,
          1.5143576426088e-8,
          1.39581058397147e-8,
          1.33071173719911e-8,
          1.23812517850154e-8,
          1.3842971297862e-8,
          1.25073132293661e-8,
          1.31835833658845e-8,
          1.26806266571055e-8,
          1.2417765272717e-8,
          1.29390096497887e-8,
          1.49062686830427e-8,
          1.42076910266667e-8,
          1.475654817086934e-8
         ],
         "decreasing": {
          "line": {
           "color": "#E74C3C"
          }
         },
         "high": [
          3.33605674000225e-8,
          3.59399307076831e-8,
          4.32163605455094e-8,
          5.11364018304026e-8,
          4.66459579345928e-8,
          3.83606348174417e-8,
          3.63525876444152e-8,
          2.93178977546365e-8,
          6.72707149312247e-8,
          7.60727844943764e-8,
          7.70255264269899e-8,
          5.84894485673591e-8,
          5.34775462319969e-8,
          5.3829695900099e-8,
          4.89649651536724e-8,
          4.59802507077441e-8,
          3.69742431093344e-8,
          4.25022136541589e-8,
          3.64777945480433e-8,
          2.79093180550605e-8,
          2.5010166984272e-8,
          1.98700165402358e-8,
          3.00790754898979e-8,
          1.95636196028199e-8,
          2.84085725333333e-8,
          2.82339751812127e-8,
          3.21742853750326e-8,
          2.939380871482e-8,
          2.87472597936659e-8,
          3.11007993051053e-8,
          2.56637381193072e-8,
          2.26764622141695e-8,
          1.87217596360399e-8,
          2.09273887553452e-8,
          1.84454727761397e-8,
          1.53478627137886e-8,
          2.23738469913548e-8,
          1.84813547245018e-8,
          2.26525450256752e-8,
          2.77703457966869e-8,
          3.30608074365108e-8,
          2.92559000827481e-8,
          2.82091254936367e-8,
          2.89639987276708e-8,
          2.49337960407029e-8,
          2.47627544066414e-8,
          2.44679646880099e-8,
          2.74107508849203e-8,
          2.43014740622749e-8,
          2.74333359713248e-8,
          2.33797284933828e-8,
          2.44866171855267e-8,
          2.4933888609356e-8,
          2.29961235022484e-8,
          2.04927888677433e-8,
          1.95092068350763e-8,
          2.05919124405669e-8,
          2.0386768519993e-8,
          2.68178736261992e-8,
          3.13666959189242e-8,
          2.71290580278478e-8,
          2.03203719568625e-8,
          1.85515326321506e-8,
          1.64970412618632e-8,
          1.64579498420779e-8,
          1.60684121863088e-8,
          1.37205361159835e-8,
          1.53279007095422e-8,
          1.44684256244783e-8,
          1.47355949514965e-8,
          1.33447856747523e-8,
          1.30283279392441e-8,
          1.62506105957775e-8,
          1.65556854290263e-8,
          1.8498345481494e-8,
          1.586163578389916e-8
         ],
         "increasing": {
          "line": {
           "color": "#2ECC71"
          }
         },
         "low": [
          1.42739375942841e-8,
          1.74304127775851e-8,
          2.63443284074514e-8,
          2.70324372480924e-8,
          3.18069894e-8,
          1.98135967667541e-8,
          2.45023779135543e-8,
          1.32192713900581e-8,
          2.27383342273014e-8,
          4.86219519216244e-8,
          4.83658527917714e-8,
          3.99635488701309e-8,
          3.96787564061161e-8,
          3.46513633979426e-8,
          3.66771866807449e-8,
          2.84224278093163e-8,
          2.88636752459189e-8,
          3.14857881208654e-8,
          2.6075333270977e-8,
          2.03001549596824e-8,
          1.74820102128439e-8,
          1.33834332109314e-8,
          1.65921003717548e-8,
          1.5025532169784e-8,
          1.29653998751758e-8,
          2.17678950767222e-8,
          2.17298248146438e-8,
          2.32485245975655e-8,
          2.32053228315468e-8,
          2.16098434238899e-8,
          1.94556215342411e-8,
          1.52865262834948e-8,
          1.54761563601446e-8,
          1.68844871600212e-8,
          1.24222130889187e-8,
          1.03340670221593e-8,
          1.20106264225312e-8,
          1.41625845931723e-8,
          1.67622035638915e-8,
          1.57400984872453e-8,
          2.19517041816297e-8,
          2.43102116771158e-8,
          2.3875786774068e-8,
          2.18851781370222e-8,
          2.08886557310319e-8,
          1.8590490318009e-8,
          1.7026909756348e-8,
          2.187665129e-8,
          2.06278326362427e-8,
          1.95960957281418e-8,
          2.09106527251491e-8,
          1.92732074933019e-8,
          1.94936827423882e-8,
          1.66604831240675e-8,
          1.87083861729055e-8,
          1.74863002036911e-8,
          1.7226180170143e-8,
          1.81161760407954e-8,
          1.93041783654759e-8,
          2.25836159149769e-8,
          1.93403980181647e-8,
          1.68252345634859e-8,
          1.5677558515e-8,
          1.37266540813208e-8,
          1.23864472706044e-8,
          1.27911454668971e-8,
          1.1623372326772e-8,
          1.16434954303588e-8,
          1.20431339909847e-8,
          1.13880353264152e-8,
          1.13910256249225e-8,
          1.158929866521e-8,
          1.156129022e-8,
          1.20541859031984e-8,
          1.33041349083384e-8,
          1.262704413477772e-8
         ],
         "name": "Candlesticks",
         "open": [
          2.89982385324418e-8,
          2.56823735443836e-8,
          2.67902259423224e-8,
          3.72701808685129e-8,
          4.06303571006802e-8,
          3.35169982121104e-8,
          3.22166978352743e-8,
          2.81702261179732e-8,
          2.30200751574243e-8,
          5.2323629e-8,
          5.81796950249471e-8,
          5.74979237744488e-8,
          4.24980307096499e-8,
          5.00586242894346e-8,
          3.79784237631765e-8,
          4.50350564944755e-8,
          3.4296116543247e-8,
          3.34292038180861e-8,
          3.50123735939494e-8,
          2.67338454608412e-8,
          2.43659917688069e-8,
          1.78529523354545e-8,
          1.75547606473295e-8,
          1.87065850650866e-8,
          1.66469897066213e-8,
          2.37580135513678e-8,
          2.1941152299415e-8,
          2.746289098e-8,
          2.62141933913109e-8,
          2.32053228315468e-8,
          2.35378416337568e-8,
          2.0923713964145e-8,
          1.80843704981766e-8,
          1.8097930655431e-8,
          1.8185591502661e-8,
          1.38556434524407e-8,
          1.20106264225312e-8,
          1.57464217346851e-8,
          1.71146111201833e-8,
          1.73618111748505e-8,
          2.43479101960324e-8,
          2.53240875079922e-8,
          2.76398653851622e-8,
          2.55209590175941e-8,
          2.31911360429898e-8,
          2.13727688372144e-8,
          1.97898130627386e-8,
          2.21653809740547e-8,
          2.43014740622749e-8,
          2.1479990358354e-8,
          2.20164128897189e-8,
          2.28012396446936e-8,
          2.06141990733791e-8,
          2.23298955845579e-8,
          2.04127916279089e-8,
          1.92109558847888e-8,
          1.85804252979451e-8,
          1.92379553219141e-8,
          1.97444349149458e-8,
          2.62064251665401e-8,
          2.6264836773665e-8,
          1.96184386261964e-8,
          1.79173940734499e-8,
          1.62095188097042e-8,
          1.5143576426088e-8,
          1.39581058397147e-8,
          1.33071173719911e-8,
          1.23812517850154e-8,
          1.3842971297862e-8,
          1.25073132293661e-8,
          1.31835833658845e-8,
          1.26806266571055e-8,
          1.2417765272717e-8,
          1.29390096497887e-8,
          1.49062686830427e-8,
          1.42076910266667e-8
         ],
         "type": "candlestick",
         "x": [
          "2024-07-29T00:00:00",
          "2024-07-30T00:00:00",
          "2024-07-31T00:00:00",
          "2024-08-01T00:00:00",
          "2024-08-02T00:00:00",
          "2024-08-03T00:00:00",
          "2024-08-04T00:00:00",
          "2024-08-05T00:00:00",
          "2024-08-06T00:00:00",
          "2024-08-07T00:00:00",
          "2024-08-08T00:00:00",
          "2024-08-09T00:00:00",
          "2024-08-10T00:00:00",
          "2024-08-11T00:00:00",
          "2024-08-12T00:00:00",
          "2024-08-13T00:00:00",
          "2024-08-14T00:00:00",
          "2024-08-15T00:00:00",
          "2024-08-16T00:00:00",
          "2024-08-17T00:00:00",
          "2024-08-18T00:00:00",
          "2024-08-19T00:00:00",
          "2024-08-20T00:00:00",
          "2024-08-21T00:00:00",
          "2024-08-22T00:00:00",
          "2024-08-23T00:00:00",
          "2024-08-24T00:00:00",
          "2024-08-25T00:00:00",
          "2024-08-26T00:00:00",
          "2024-08-27T00:00:00",
          "2024-08-28T00:00:00",
          "2024-08-29T00:00:00",
          "2024-08-30T00:00:00",
          "2024-08-31T00:00:00",
          "2024-09-01T00:00:00",
          "2024-09-02T00:00:00",
          "2024-09-03T00:00:00",
          "2024-09-04T00:00:00",
          "2024-09-05T00:00:00",
          "2024-09-06T00:00:00",
          "2024-09-07T00:00:00",
          "2024-09-08T00:00:00",
          "2024-09-09T00:00:00",
          "2024-09-10T00:00:00",
          "2024-09-11T00:00:00",
          "2024-09-12T00:00:00",
          "2024-09-13T00:00:00",
          "2024-09-14T00:00:00",
          "2024-09-15T00:00:00",
          "2024-09-16T00:00:00",
          "2024-09-17T00:00:00",
          "2024-09-18T00:00:00",
          "2024-09-19T00:00:00",
          "2024-09-20T00:00:00",
          "2024-09-21T00:00:00",
          "2024-09-22T00:00:00",
          "2024-09-23T00:00:00",
          "2024-09-24T00:00:00",
          "2024-09-25T00:00:00",
          "2024-09-26T00:00:00",
          "2024-09-27T00:00:00",
          "2024-09-28T00:00:00",
          "2024-09-29T00:00:00",
          "2024-09-30T00:00:00",
          "2024-10-01T00:00:00",
          "2024-10-02T00:00:00",
          "2024-10-03T00:00:00",
          "2024-10-04T00:00:00",
          "2024-10-05T00:00:00",
          "2024-10-06T00:00:00",
          "2024-10-07T00:00:00",
          "2024-10-08T00:00:00",
          "2024-10-09T00:00:00",
          "2024-10-10T00:00:00",
          "2024-10-11T00:00:00",
          "2024-10-12T00:00:00"
         ]
        }
       ],
       "layout": {
        "annotations": [
         {
          "showarrow": false,
          "text": "Max Price (76)",
          "x": 1,
          "xanchor": "left",
          "xref": "x domain",
          "y": 7.70255264269899e-8,
          "yanchor": "middle",
          "yref": "y"
         },
         {
          "showarrow": false,
          "text": "Min Price (76)",
          "x": 1,
          "xanchor": "left",
          "xref": "x domain",
          "y": 1.03340670221593e-8,
          "yanchor": "middle",
          "yref": "y"
         },
         {
          "showarrow": false,
          "text": "Current Position (0.9336874438169859)",
          "x": 1,
          "xanchor": "left",
          "xref": "x domain",
          "y": 1.475654817086934e-8,
          "yanchor": "middle",
          "yref": "y"
         }
        ],
        "font": {
         "color": "white",
         "size": 12
        },
        "height": 600,
        "hovermode": "x unified",
        "margin": {
         "b": 20,
         "l": 20,
         "r": 20,
         "t": 50
        },
        "paper_bgcolor": "rgba(0, 0, 0, 0.1)",
        "plot_bgcolor": "rgba(0, 0, 0, 0)",
        "shapes": [
         {
          "line": {
           "color": "green",
           "dash": "dash"
          },
          "type": "line",
          "x0": 0,
          "x1": 1,
          "xref": "x domain",
          "y0": 7.70255264269899e-8,
          "y1": 7.70255264269899e-8,
          "yref": "y"
         },
         {
          "line": {
           "color": "red",
           "dash": "dash"
          },
          "type": "line",
          "x0": 0,
          "x1": 1,
          "xref": "x domain",
          "y0": 1.03340670221593e-8,
          "y1": 1.03340670221593e-8,
          "yref": "y"
         },
         {
          "line": {
           "color": "orange",
           "dash": "dash"
          },
          "type": "line",
          "x0": 0,
          "x1": 1,
          "xref": "x domain",
          "y0": 1.475654817086934e-8,
          "y1": 1.475654817086934e-8,
          "yref": "y"
         }
        ],
        "showlegend": true,
        "template": {
         "data": {
          "bar": [
           {
            "error_x": {
             "color": "#f2f5fa"
            },
            "error_y": {
             "color": "#f2f5fa"
            },
            "marker": {
             "line": {
              "color": "rgb(17,17,17)",
              "width": 0.5
             },
             "pattern": {
              "fillmode": "overlay",
              "size": 10,
              "solidity": 0.2
             }
            },
            "type": "bar"
           }
          ],
          "barpolar": [
           {
            "marker": {
             "line": {
              "color": "rgb(17,17,17)",
              "width": 0.5
             },
             "pattern": {
              "fillmode": "overlay",
              "size": 10,
              "solidity": 0.2
             }
            },
            "type": "barpolar"
           }
          ],
          "carpet": [
           {
            "aaxis": {
             "endlinecolor": "#A2B1C6",
             "gridcolor": "#506784",
             "linecolor": "#506784",
             "minorgridcolor": "#506784",
             "startlinecolor": "#A2B1C6"
            },
            "baxis": {
             "endlinecolor": "#A2B1C6",
             "gridcolor": "#506784",
             "linecolor": "#506784",
             "minorgridcolor": "#506784",
             "startlinecolor": "#A2B1C6"
            },
            "type": "carpet"
           }
          ],
          "choropleth": [
           {
            "colorbar": {
             "outlinewidth": 0,
             "ticks": ""
            },
            "type": "choropleth"
           }
          ],
          "contour": [
           {
            "colorbar": {
             "outlinewidth": 0,
             "ticks": ""
            },
            "colorscale": [
             [
              0,
              "#0d0887"
             ],
             [
              0.1111111111111111,
              "#46039f"
             ],
             [
              0.2222222222222222,
              "#7201a8"
             ],
             [
              0.3333333333333333,
              "#9c179e"
             ],
             [
              0.4444444444444444,
              "#bd3786"
             ],
             [
              0.5555555555555556,
              "#d8576b"
             ],
             [
              0.6666666666666666,
              "#ed7953"
             ],
             [
              0.7777777777777778,
              "#fb9f3a"
             ],
             [
              0.8888888888888888,
              "#fdca26"
             ],
             [
              1,
              "#f0f921"
             ]
            ],
            "type": "contour"
           }
          ],
          "contourcarpet": [
           {
            "colorbar": {
             "outlinewidth": 0,
             "ticks": ""
            },
            "type": "contourcarpet"
           }
          ],
          "heatmap": [
           {
            "colorbar": {
             "outlinewidth": 0,
             "ticks": ""
            },
            "colorscale": [
             [
              0,
              "#0d0887"
             ],
             [
              0.1111111111111111,
              "#46039f"
             ],
             [
              0.2222222222222222,
              "#7201a8"
             ],
             [
              0.3333333333333333,
              "#9c179e"
             ],
             [
              0.4444444444444444,
              "#bd3786"
             ],
             [
              0.5555555555555556,
              "#d8576b"
             ],
             [
              0.6666666666666666,
              "#ed7953"
             ],
             [
              0.7777777777777778,
              "#fb9f3a"
             ],
             [
              0.8888888888888888,
              "#fdca26"
             ],
             [
              1,
              "#f0f921"
             ]
            ],
            "type": "heatmap"
           }
          ],
          "heatmapgl": [
           {
            "colorbar": {
             "outlinewidth": 0,
             "ticks": ""
            },
            "colorscale": [
             [
              0,
              "#0d0887"
             ],
             [
              0.1111111111111111,
              "#46039f"
             ],
             [
              0.2222222222222222,
              "#7201a8"
             ],
             [
              0.3333333333333333,
              "#9c179e"
             ],
             [
              0.4444444444444444,
              "#bd3786"
             ],
             [
              0.5555555555555556,
              "#d8576b"
             ],
             [
              0.6666666666666666,
              "#ed7953"
             ],
             [
              0.7777777777777778,
              "#fb9f3a"
             ],
             [
              0.8888888888888888,
              "#fdca26"
             ],
             [
              1,
              "#f0f921"
             ]
            ],
            "type": "heatmapgl"
           }
          ],
          "histogram": [
           {
            "marker": {
             "pattern": {
              "fillmode": "overlay",
              "size": 10,
              "solidity": 0.2
             }
            },
            "type": "histogram"
           }
          ],
          "histogram2d": [
           {
            "colorbar": {
             "outlinewidth": 0,
             "ticks": ""
            },
            "colorscale": [
             [
              0,
              "#0d0887"
             ],
             [
              0.1111111111111111,
              "#46039f"
             ],
             [
              0.2222222222222222,
              "#7201a8"
             ],
             [
              0.3333333333333333,
              "#9c179e"
             ],
             [
              0.4444444444444444,
              "#bd3786"
             ],
             [
              0.5555555555555556,
              "#d8576b"
             ],
             [
              0.6666666666666666,
              "#ed7953"
             ],
             [
              0.7777777777777778,
              "#fb9f3a"
             ],
             [
              0.8888888888888888,
              "#fdca26"
             ],
             [
              1,
              "#f0f921"
             ]
            ],
            "type": "histogram2d"
           }
          ],
          "histogram2dcontour": [
           {
            "colorbar": {
             "outlinewidth": 0,
             "ticks": ""
            },
            "colorscale": [
             [
              0,
              "#0d0887"
             ],
             [
              0.1111111111111111,
              "#46039f"
             ],
             [
              0.2222222222222222,
              "#7201a8"
             ],
             [
              0.3333333333333333,
              "#9c179e"
             ],
             [
              0.4444444444444444,
              "#bd3786"
             ],
             [
              0.5555555555555556,
              "#d8576b"
             ],
             [
              0.6666666666666666,
              "#ed7953"
             ],
             [
              0.7777777777777778,
              "#fb9f3a"
             ],
             [
              0.8888888888888888,
              "#fdca26"
             ],
             [
              1,
              "#f0f921"
             ]
            ],
            "type": "histogram2dcontour"
           }
          ],
          "mesh3d": [
           {
            "colorbar": {
             "outlinewidth": 0,
             "ticks": ""
            },
            "type": "mesh3d"
           }
          ],
          "parcoords": [
           {
            "line": {
             "colorbar": {
              "outlinewidth": 0,
              "ticks": ""
             }
            },
            "type": "parcoords"
           }
          ],
          "pie": [
           {
            "automargin": true,
            "type": "pie"
           }
          ],
          "scatter": [
           {
            "marker": {
             "line": {
              "color": "#283442"
             }
            },
            "type": "scatter"
           }
          ],
          "scatter3d": [
           {
            "line": {
             "colorbar": {
              "outlinewidth": 0,
              "ticks": ""
             }
            },
            "marker": {
             "colorbar": {
              "outlinewidth": 0,
              "ticks": ""
             }
            },
            "type": "scatter3d"
           }
          ],
          "scattercarpet": [
           {
            "marker": {
             "colorbar": {
              "outlinewidth": 0,
              "ticks": ""
             }
            },
            "type": "scattercarpet"
           }
          ],
          "scattergeo": [
           {
            "marker": {
             "colorbar": {
              "outlinewidth": 0,
              "ticks": ""
             }
            },
            "type": "scattergeo"
           }
          ],
          "scattergl": [
           {
            "marker": {
             "line": {
              "color": "#283442"
             }
            },
            "type": "scattergl"
           }
          ],
          "scattermapbox": [
           {
            "marker": {
             "colorbar": {
              "outlinewidth": 0,
              "ticks": ""
             }
            },
            "type": "scattermapbox"
           }
          ],
          "scatterpolar": [
           {
            "marker": {
             "colorbar": {
              "outlinewidth": 0,
              "ticks": ""
             }
            },
            "type": "scatterpolar"
           }
          ],
          "scatterpolargl": [
           {
            "marker": {
             "colorbar": {
              "outlinewidth": 0,
              "ticks": ""
             }
            },
            "type": "scatterpolargl"
           }
          ],
          "scatterternary": [
           {
            "marker": {
             "colorbar": {
              "outlinewidth": 0,
              "ticks": ""
             }
            },
            "type": "scatterternary"
           }
          ],
          "surface": [
           {
            "colorbar": {
             "outlinewidth": 0,
             "ticks": ""
            },
            "colorscale": [
             [
              0,
              "#0d0887"
             ],
             [
              0.1111111111111111,
              "#46039f"
             ],
             [
              0.2222222222222222,
              "#7201a8"
             ],
             [
              0.3333333333333333,
              "#9c179e"
             ],
             [
              0.4444444444444444,
              "#bd3786"
             ],
             [
              0.5555555555555556,
              "#d8576b"
             ],
             [
              0.6666666666666666,
              "#ed7953"
             ],
             [
              0.7777777777777778,
              "#fb9f3a"
             ],
             [
              0.8888888888888888,
              "#fdca26"
             ],
             [
              1,
              "#f0f921"
             ]
            ],
            "type": "surface"
           }
          ],
          "table": [
           {
            "cells": {
             "fill": {
              "color": "#506784"
             },
             "line": {
              "color": "rgb(17,17,17)"
             }
            },
            "header": {
             "fill": {
              "color": "#2a3f5f"
             },
             "line": {
              "color": "rgb(17,17,17)"
             }
            },
            "type": "table"
           }
          ]
         },
         "layout": {
          "annotationdefaults": {
           "arrowcolor": "#f2f5fa",
           "arrowhead": 0,
           "arrowwidth": 1
          },
          "autotypenumbers": "strict",
          "coloraxis": {
           "colorbar": {
            "outlinewidth": 0,
            "ticks": ""
           }
          },
          "colorscale": {
           "diverging": [
            [
             0,
             "#8e0152"
            ],
            [
             0.1,
             "#c51b7d"
            ],
            [
             0.2,
             "#de77ae"
            ],
            [
             0.3,
             "#f1b6da"
            ],
            [
             0.4,
             "#fde0ef"
            ],
            [
             0.5,
             "#f7f7f7"
            ],
            [
             0.6,
             "#e6f5d0"
            ],
            [
             0.7,
             "#b8e186"
            ],
            [
             0.8,
             "#7fbc41"
            ],
            [
             0.9,
             "#4d9221"
            ],
            [
             1,
             "#276419"
            ]
           ],
           "sequential": [
            [
             0,
             "#0d0887"
            ],
            [
             0.1111111111111111,
             "#46039f"
            ],
            [
             0.2222222222222222,
             "#7201a8"
            ],
            [
             0.3333333333333333,
             "#9c179e"
            ],
            [
             0.4444444444444444,
             "#bd3786"
            ],
            [
             0.5555555555555556,
             "#d8576b"
            ],
            [
             0.6666666666666666,
             "#ed7953"
            ],
            [
             0.7777777777777778,
             "#fb9f3a"
            ],
            [
             0.8888888888888888,
             "#fdca26"
            ],
            [
             1,
             "#f0f921"
            ]
           ],
           "sequentialminus": [
            [
             0,
             "#0d0887"
            ],
            [
             0.1111111111111111,
             "#46039f"
            ],
            [
             0.2222222222222222,
             "#7201a8"
            ],
            [
             0.3333333333333333,
             "#9c179e"
            ],
            [
             0.4444444444444444,
             "#bd3786"
            ],
            [
             0.5555555555555556,
             "#d8576b"
            ],
            [
             0.6666666666666666,
             "#ed7953"
            ],
            [
             0.7777777777777778,
             "#fb9f3a"
            ],
            [
             0.8888888888888888,
             "#fdca26"
            ],
            [
             1,
             "#f0f921"
            ]
           ]
          },
          "colorway": [
           "#636efa",
           "#EF553B",
           "#00cc96",
           "#ab63fa",
           "#FFA15A",
           "#19d3f3",
           "#FF6692",
           "#B6E880",
           "#FF97FF",
           "#FECB52"
          ],
          "font": {
           "color": "#f2f5fa"
          },
          "geo": {
           "bgcolor": "rgb(17,17,17)",
           "lakecolor": "rgb(17,17,17)",
           "landcolor": "rgb(17,17,17)",
           "showlakes": true,
           "showland": true,
           "subunitcolor": "#506784"
          },
          "hoverlabel": {
           "align": "left"
          },
          "hovermode": "closest",
          "mapbox": {
           "style": "dark"
          },
          "paper_bgcolor": "rgb(17,17,17)",
          "plot_bgcolor": "rgb(17,17,17)",
          "polar": {
           "angularaxis": {
            "gridcolor": "#506784",
            "linecolor": "#506784",
            "ticks": ""
           },
           "bgcolor": "rgb(17,17,17)",
           "radialaxis": {
            "gridcolor": "#506784",
            "linecolor": "#506784",
            "ticks": ""
           }
          },
          "scene": {
           "xaxis": {
            "backgroundcolor": "rgb(17,17,17)",
            "gridcolor": "#506784",
            "gridwidth": 2,
            "linecolor": "#506784",
            "showbackground": true,
            "ticks": "",
            "zerolinecolor": "#C8D4E3"
           },
           "yaxis": {
            "backgroundcolor": "rgb(17,17,17)",
            "gridcolor": "#506784",
            "gridwidth": 2,
            "linecolor": "#506784",
            "showbackground": true,
            "ticks": "",
            "zerolinecolor": "#C8D4E3"
           },
           "zaxis": {
            "backgroundcolor": "rgb(17,17,17)",
            "gridcolor": "#506784",
            "gridwidth": 2,
            "linecolor": "#506784",
            "showbackground": true,
            "ticks": "",
            "zerolinecolor": "#C8D4E3"
           }
          },
          "shapedefaults": {
           "line": {
            "color": "#f2f5fa"
           }
          },
          "sliderdefaults": {
           "bgcolor": "#C8D4E3",
           "bordercolor": "rgb(17,17,17)",
           "borderwidth": 1,
           "tickwidth": 0
          },
          "ternary": {
           "aaxis": {
            "gridcolor": "#506784",
            "linecolor": "#506784",
            "ticks": ""
           },
           "baxis": {
            "gridcolor": "#506784",
            "linecolor": "#506784",
            "ticks": ""
           },
           "bgcolor": "rgb(17,17,17)",
           "caxis": {
            "gridcolor": "#506784",
            "linecolor": "#506784",
            "ticks": ""
           }
          },
          "title": {
           "x": 0.05
          },
          "updatemenudefaults": {
           "bgcolor": "#506784",
           "borderwidth": 0
          },
          "xaxis": {
           "automargin": true,
           "gridcolor": "#283442",
           "linecolor": "#506784",
           "ticks": "",
           "title": {
            "standoff": 15
           },
           "zerolinecolor": "#283442",
           "zerolinewidth": 2
          },
          "yaxis": {
           "automargin": true,
           "gridcolor": "#283442",
           "linecolor": "#506784",
           "ticks": "",
           "title": {
            "standoff": 15
           },
           "zerolinecolor": "#283442",
           "zerolinewidth": 2
          }
         }
        },
        "title": {
         "text": "GINNAN/SOL - Price Range and Current Position"
        },
        "width": 1200,
        "xaxis": {
         "rangeslider": {
          "visible": false
         },
         "title": {
          "text": "Date"
         }
        },
        "yaxis": {
         "title": {
          "text": "Price"
         }
        }
       }
      }
     },
     "metadata": {},
     "output_type": "display_data"
    },
    {
     "data": {
      "application/vnd.plotly.v1+json": {
       "config": {
        "plotlyServerURL": "https://plot.ly"
       },
       "data": [
        {
         "close": [
          0.00806214128244763,
          0.00773945222603562,
          0.00705722908726399,
          0.00745486975600608,
          0.00722059844009507,
          0.00732426447574156,
          0.00704731258278974,
          0.00733277772724281,
          0.00724437505230271,
          0.00689322177525209,
          0.00701184071666665,
          0.00681058522778155,
          0.00692462576211178,
          0.00745172599438291,
          0.00722178006666667,
          0.0072177874,
          0.00715729369642563,
          0.00659731432318466,
          0.0062117652,
          0.00612155014545699,
          0.005524076,
          0.00545434101592343,
          0.00459185408721008,
          0.00494758357604452,
          0.00514998285772331,
          0.00464252831966786,
          0.00445136812247897,
          0.00448553498719977,
          0.0041133175813885,
          0.00432378370660123,
          0.00412878795876746,
          0.0038241798713197,
          0.00409694367433494,
          0.00414100196666666,
          0.004183913581523,
          0.00395780490984564,
          0.00377907733621712,
          0.00393617604763657,
          0.00427564120913017,
          0.00424037747770701,
          0.00364390679436022,
          0.00362752389854836,
          0.0040662350989946,
          0.00393495661860118,
          0.00362239410222222,
          0.00370162271269352,
          0.0032367242226089,
          0.00325412339234697,
          0.00333082095756289,
          0.00327950174130808,
          0.00335733481141348,
          0.0033532507402381,
          0.00326112646578259,
          0.00284906731292835,
          0.0027656483577205,
          0.00280696996988046,
          0.00278358296101254,
          0.00315645897939995,
          0.00292577866,
          0.00321907551306843,
          0.00314961390485143,
          0.00322059130546294,
          0.00324554651943139,
          0.00316528018471152,
          0.00323542074726522,
          0.00280129177092376,
          0.00321008868186135,
          0.00363030792191819,
          0.00305990132891538,
          0.00282496227181967,
          0.00286564259604141,
          0.00302298397176804,
          0.00311382691139241,
          0.00302015698141193,
          0.00275832208437788,
          0.00270606926386722,
          0.00255546280788769,
          0.00285557652201528,
          0.00297511002486863,
          0.00288707372626489,
          0.00259734317748802,
          0.00276576319180973,
          0.00295299666058909,
          0.00302145516794288,
          0.00301800890367442,
          0.00305105122631299,
          0.00288789771814536,
          0.0028468770809211,
          0.00278590663446866,
          0.00306817280061697,
          0.00347853961914245,
          0.003280569556,
          0.00325868200028983,
          0.003149362547,
          0.00284501399155988,
          0.0028569865834213,
          0.00251968417308758,
          0.00263196047871575,
          0.0027634111207393,
          0.00287343984509538,
          0.00307104659200926,
          0.00290555869235015,
          0.0029135353,
          0.0031698049434452,
          0.00303471285464766,
          0.00293288920445225,
          0.00297608120889988,
          0.00284456392613212,
          0.00260403689213088,
          0.00261730075132712,
          0.00261271230955471,
          0.00274083172801096,
          0.00254975567041632,
          0.0021713179680139,
          0.00206442846721321,
          0.00212986888364103,
          0.001765670825,
          0.00175866171841126,
          0.00195595784641252,
          0.00180213863556228,
          0.00182185905662988,
          0.002018982528,
          0.00207093689281325,
          0.00208368141121334,
          0.00205642359444444,
          0.00206824953968695,
          0.00224389465921436,
          0.00214522069184139,
          0.00210664290241348,
          0.00201219188830396,
          0.00189798531333333,
          0.00192846220461918,
          0.00199991177077442,
          0.00192918552789395,
          0.00189999160313008,
          0.00169116765082222,
          0.001703275628,
          0.00178256392982456,
          0.00188849607692308,
          0.00184691369230769,
          0.00182667615384615,
          0.00178993505221169,
          0.00178696238461538,
          0.00173748259989432,
          0.00200407364130435,
          0.00190892564527539,
          0.00192404730769231,
          0.00195820184,
          0.00194334834105263,
          0.00198824426277025,
          0.00231599101107018,
          0.00293453356460029,
          0.00318730075493625,
          0.00325414063823911,
          0.00296565062400825,
          0.00281892553846154,
          0.00297368169494702,
          0.00323332340818887,
          0.00309290808443715,
          0.00301238867568307,
          0.00340799814170596,
          0.00321745931655593,
          0.00322009908,
          0.00278638611796742,
          0.00270166978819164,
          0.00303583098824478,
          0.00316800661967098,
          0.00330967662677731,
          0.00366170622727944,
          0.00352664329744197,
          0.00336631122199858,
          0.00311181176639897,
          0.00299137988264618,
          0.00314828342178649,
          0.00311527663186959,
          0.00295239790211446,
          0.002778846475501,
          0.00251879425410536,
          0.00268513977031067,
          0.00254505196939316,
          0.00264291407326323,
          0.00267655114218198,
          0.002804966074436767
         ],
         "decreasing": {
          "line": {
           "color": "#E74C3C"
          }
         },
         "high": [
          0.00806214128244763,
          0.00835065699731212,
          0.00828060993900436,
          0.00836320191158899,
          0.00763529044233649,
          0.00754368579858099,
          0.00738551982076778,
          0.00750454453879987,
          0.00741718578055838,
          0.00730351869850741,
          0.0071582383045367,
          0.00716933496375035,
          0.00696578006299124,
          0.00749212526764758,
          0.00778236090446275,
          0.00727087790821813,
          0.00745804847731507,
          0.00734167533161934,
          0.00659770086675241,
          0.00631721431186276,
          0.00917431192660549,
          0.00608755329992528,
          0.00545685629804231,
          0.00522154329579015,
          0.00524928173256901,
          0.0103092783505155,
          0.00478856796925726,
          0.00472362653780728,
          0.00508905852417303,
          0.00440799827480867,
          0.004673255208669,
          0.00422141432051695,
          0.00410478481557697,
          0.00432681507850611,
          0.00468249926107888,
          0.00421983030153025,
          0.00398130859334908,
          0.00455954910416859,
          0.00454290296157804,
          0.00449057481082477,
          0.00427228457037037,
          0.00408599889469541,
          0.00420821516787119,
          0.00417268450483951,
          0.0040123463079558,
          0.0039057281407506,
          0.00394907249962972,
          0.0033158938499277,
          0.00363240101707229,
          0.00333082095756289,
          0.0034241848034663,
          0.00343100304509151,
          0.00347540785922411,
          0.00326112646578259,
          0.00332378016610191,
          0.00296711312710677,
          0.00288539425918857,
          0.00324854458356966,
          0.00323318887247896,
          0.00326975141303363,
          0.00330800199610762,
          0.00332961948640891,
          0.00336542658677151,
          0.00326268269288925,
          0.00324835466113498,
          0.00323542074726522,
          0.00328432657092675,
          0.00404838231655695,
          0.00368155093244327,
          0.00305990132891538,
          0.00302105993376357,
          0.00302458835314955,
          0.0034551916618458,
          0.00320456305820795,
          0.0030356128672814,
          0.00283702417091158,
          0.00274679163343346,
          0.0031933371554739,
          0.00303349323224926,
          0.00302047586898756,
          0.00298354760257622,
          0.00281490747652586,
          0.00298663068256805,
          0.00314546340008645,
          0.00313990513735672,
          0.00306954931056075,
          0.00314436782771123,
          0.00304516915425128,
          0.00300632727064101,
          0.00327036645657307,
          0.00352941176470588,
          0.00369829683698297,
          0.00329958528382609,
          0.00338506916780677,
          0.00319794749667346,
          0.00298966684119607,
          0.00285917225288436,
          0.002897297385007,
          0.00297125278662685,
          0.00292200494493144,
          0.00328816119826929,
          0.00316493909108986,
          0.00294965015777198,
          0.00331859979030658,
          0.00341298968881076,
          0.00311593292583162,
          0.00308567396289506,
          0.00305539128720678,
          0.00290837171166944,
          0.0026533789071773,
          0.00263069482844934,
          0.00291855688329505,
          0.00280743610267504,
          0.00262113314629247,
          0.00232085187944867,
          0.00227591800316922,
          0.00212986888364103,
          0.00183064069739247,
          0.00197583320627441,
          0.00202732220739089,
          0.00184569375245676,
          0.00213082496736608,
          0.00209049586039263,
          0.00209907824053491,
          0.00212402340617388,
          0.00208646481927823,
          0.00232260132092538,
          0.00225734109019094,
          0.0022526488270771,
          0.00214500008365601,
          0.00205349072590502,
          0.00195741985363046,
          0.00202136584581606,
          0.00200148500528426,
          0.00193356991412475,
          0.00192967538509396,
          0.00178896615679717,
          0.00183931522078237,
          0.00191804177352119,
          0.00193942627415117,
          0.00188928639079668,
          0.00183925860383105,
          0.00191396472,
          0.00181758084206286,
          0.00202701286226647,
          0.00202479330089509,
          0.00201311733466156,
          0.00199574461063491,
          0.00197264526584092,
          0.00201538020312599,
          0.00232241247029445,
          0.00302285851597283,
          0.00320629263644336,
          0.00329805966315418,
          0.00329989179837673,
          0.00300587294338547,
          0.00301673016262971,
          0.00332497163576253,
          0.00332328783633645,
          0.00341040608655626,
          0.00367202747089613,
          0.00368921342283014,
          0.00328927965920527,
          0.00325184683703116,
          0.00278889929296139,
          0.00317858598470824,
          0.00345307709940414,
          0.00351721438308119,
          0.00381969514123289,
          0.00379135109349703,
          0.00352664329744197,
          0.00341794164099132,
          0.00345097552297558,
          0.00321725656685785,
          0.00323161645645972,
          0.00311527663186959,
          0.00295264279548649,
          0.00285719147535252,
          0.00272248144257098,
          0.00269931402876785,
          0.00264601544120994,
          0.00272877402395374,
          0.002880720421162246
         ],
         "increasing": {
          "line": {
           "color": "#2ECC71"
          }
         },
         "low": [
          0.00713518472260505,
          0.00753911575,
          0.00701887579051145,
          0.00687260375722798,
          0.00700593953034579,
          0.00707935671758093,
          0.00665586442265795,
          0.00698868211434501,
          0.00699791376718212,
          0.00679248013475263,
          0.00673172114828324,
          0.00677315464807057,
          0.0063880834,
          0.00687225724511935,
          0.00703179890128879,
          0.00693571954233334,
          0.00682346091375162,
          0.00579222610213362,
          0.00566369316538169,
          0.00550085147079909,
          0.00539982758403723,
          0.0043233236447176,
          0.00428100536368734,
          0.0045725318605445,
          0.00478531203666666,
          0.00420316602439516,
          0.00421629683311344,
          0.00434711824977778,
          0.00401209838294827,
          0.00392019295752562,
          0.0040471366,
          0.00371816634987229,
          0.00365960942485455,
          0.00370710215437108,
          0.00399188403333334,
          0.00391745568181818,
          0.00375519321749705,
          0.0035506784,
          0.00390126240857471,
          0.0041675029,
          0.00359636598938564,
          0.00269811449343674,
          0.00324715350717838,
          0.00393495661860118,
          0.00358235786555454,
          0.00313223038044656,
          0.00318229420679028,
          0.00310313696985167,
          0.00323665289974107,
          0.00298251132098566,
          0.0032099243814,
          0.00312195056459505,
          0.00321935428737706,
          0.00278190232064295,
          0.00262277381666667,
          0.00244459732451001,
          0.00260112056469542,
          0.00275853416,
          0.002917211244,
          0.00280016391203387,
          0.00311488601304348,
          0.00306804792829145,
          0.00316933234094889,
          0.00311705873470588,
          0.00310936217854192,
          0.00277341836076923,
          0.00274861653815276,
          0.00319166788283393,
          0.00292102651371947,
          0.00275748340387076,
          0.00280144113,
          0.00282967978544445,
          0.00292969449110704,
          0.00294326570347053,
          0.00269296151078955,
          0.00256036800903654,
          0.00252546634833333,
          0.00224937886491763,
          0.00280752274015949,
          0.00285966731043964,
          0.00259060018245182,
          0.0025762102544,
          0.00274614738834951,
          0.00263135227226981,
          0.00293602871228232,
          0.00285711947440269,
          0.00281785350856769,
          0.00279417568664235,
          0.0027038246196,
          0.00271181339375425,
          0.00304520965097212,
          0.003280569556,
          0.0031619854134,
          0.00310380439571586,
          0.00282793044819972,
          0.00270979213914849,
          0.0023437323318014,
          0.00214598969252719,
          0.00256921260437233,
          0.00253207572666667,
          0.00268929207048673,
          0.00286889165152529,
          0.0027395629,
          0.00274340752808314,
          0.00231977387030204,
          0.0028942242932814,
          0.002844619725,
          0.00277085654102548,
          0.00258549563385688,
          0.00252238516371638,
          0.00236025578443656,
          0.00259273491841659,
          0.00240375176801607,
          0.0021713179680139,
          0.00172464491099039,
          0.0020323619815,
          0.00167144173732733,
          0.001661816151,
          0.00175866171841126,
          0.00179121204994213,
          0.00169585727628002,
          0.00174784304,
          0.00194816482492538,
          0.00192681611201063,
          0.00201091924482098,
          0.00202354204428571,
          0.00201319512812753,
          0.00212345377,
          0.00210285089802131,
          0.00200323104665828,
          0.00184748712841189,
          0.00181954513073408,
          0.00171831927260426,
          0.00190280568961218,
          0.00180602620428571,
          0.00164128692801621,
          0.00164764361424344,
          0.00170236240277097,
          0.00169919348832381,
          0.0017705788444106,
          0.00181564396266667,
          0.00175866043645644,
          0.0017717284508357,
          0.00169398479119901,
          0.00168473432188601,
          0.00186932361538462,
          0.00188783194938589,
          0.00190570382333969,
          0.001913187,
          0.001914017,
          0.00198145205710115,
          0.00226804092020017,
          0.00250716669230769,
          0.00293991876923077,
          0.00296565062400825,
          0.0027714369059023,
          0.00280121246153846,
          0.00294166568,
          0.00306295371707074,
          0.00289151409233611,
          0.00295000538629061,
          0.00319392168557963,
          0.00299956007692308,
          0.00277095134802277,
          0.00245473577653354,
          0.00266103362571914,
          0.00290026110798576,
          0.00312292155065699,
          0.00322271769675214,
          0.00347967930499535,
          0.00330480433992731,
          0.00309085064687814,
          0.00298848861076458,
          0.00298420852499059,
          0.00302274212286365,
          0.00293000566505188,
          0.00268448169385724,
          0.00238045841080825,
          0.00244771448,
          0.00252803268342775,
          0.00242943675162419,
          0.0025977645206973,
          0.002674438643809377
         ],
         "name": "Candlesticks",
         "open": [
          0.00782378608870042,
          0.00806214128244763,
          0.00773945222603562,
          0.00705722908726399,
          0.00745486975600608,
          0.00722059844009507,
          0.00732426447574156,
          0.00704731258278974,
          0.00733277772724281,
          0.00724437505230271,
          0.00689322177525209,
          0.00701184071666665,
          0.00681058522778155,
          0.00692462576211178,
          0.00745172599438291,
          0.00722178006666667,
          0.0072177874,
          0.00715729369642563,
          0.00659731432318466,
          0.0062117652,
          0.00612155014545699,
          0.005524076,
          0.00545434101592343,
          0.00459185408721008,
          0.00494758357604452,
          0.00514998285772331,
          0.00464252831966786,
          0.00445136812247897,
          0.00448553498719977,
          0.0041133175813885,
          0.00432378370660123,
          0.00412878795876746,
          0.0038241798713197,
          0.00409694367433494,
          0.00414100196666666,
          0.004183913581523,
          0.00395780490984564,
          0.00377907733621712,
          0.00393617604763657,
          0.00427564120913017,
          0.00424037747770701,
          0.00364390679436022,
          0.00362752389854836,
          0.0040662350989946,
          0.00393495661860118,
          0.00362239410222222,
          0.00370162271269352,
          0.0032367242226089,
          0.00325412339234697,
          0.00333082095756289,
          0.00327950174130808,
          0.00335733481141348,
          0.0033532507402381,
          0.00326112646578259,
          0.00284906731292835,
          0.0027656483577205,
          0.00280696996988046,
          0.00278358296101254,
          0.00315645897939995,
          0.00292577866,
          0.00321907551306843,
          0.00314961390485143,
          0.00322059130546294,
          0.00324554651943139,
          0.00316528018471152,
          0.00323542074726522,
          0.00280129177092376,
          0.00321008868186135,
          0.00363030792191819,
          0.00305990132891538,
          0.00282496227181967,
          0.00286564259604141,
          0.00302298397176804,
          0.00311382691139241,
          0.00302015698141193,
          0.00275832208437788,
          0.00270606926386722,
          0.00255546280788769,
          0.00285557652201528,
          0.00297511002486863,
          0.00288707372626489,
          0.00259734317748802,
          0.00276576319180973,
          0.00295299666058909,
          0.00302145516794288,
          0.00301800890367442,
          0.00305105122631299,
          0.00288789771814536,
          0.0028468770809211,
          0.00278590663446866,
          0.00306817280061697,
          0.00347853961914245,
          0.003280569556,
          0.00325868200028983,
          0.003149362547,
          0.00284501399155988,
          0.0028569865834213,
          0.00251968417308758,
          0.00263196047871575,
          0.0027634111207393,
          0.00287343984509538,
          0.00307104659200926,
          0.00290555869235015,
          0.0029135353,
          0.0031698049434452,
          0.00303471285464766,
          0.00293288920445225,
          0.00297608120889988,
          0.00284456392613212,
          0.00260403689213088,
          0.00261730075132712,
          0.00261271230955471,
          0.00274083172801096,
          0.00254975567041632,
          0.0021713179680139,
          0.00206442846721321,
          0.00212986888364103,
          0.001765670825,
          0.00175866171841126,
          0.00195595784641252,
          0.00180213863556228,
          0.00182185905662988,
          0.002018982528,
          0.00207093689281325,
          0.00208368141121334,
          0.00205642359444444,
          0.00206824953968695,
          0.00224389465921436,
          0.00214522069184139,
          0.00210664290241348,
          0.00201219188830396,
          0.00189798531333333,
          0.00192846220461918,
          0.00199991177077442,
          0.00192918552789395,
          0.00189999160313008,
          0.00169116765082222,
          0.001703275628,
          0.00178256392982456,
          0.00188849607692308,
          0.00184691369230769,
          0.00182667615384615,
          0.00178993505221169,
          0.00178696238461538,
          0.00173748259989432,
          0.00200407364130435,
          0.00190892564527539,
          0.00192404730769231,
          0.00195820184,
          0.00194334834105263,
          0.00198824426277025,
          0.00231599101107018,
          0.00293453356460029,
          0.00318730075493625,
          0.00325414063823911,
          0.00296565062400825,
          0.00281892553846154,
          0.00297368169494702,
          0.00323332340818887,
          0.00309290808443715,
          0.00301238867568307,
          0.00340799814170596,
          0.00321745931655593,
          0.00322009908,
          0.00278638611796742,
          0.00270166978819164,
          0.00303583098824478,
          0.00316800661967098,
          0.00330967662677731,
          0.00366170622727944,
          0.00352664329744197,
          0.00336631122199858,
          0.00311181176639897,
          0.00299137988264618,
          0.00314828342178649,
          0.00311527663186959,
          0.00295239790211446,
          0.002778846475501,
          0.00251879425410536,
          0.00268513977031067,
          0.00254505196939316,
          0.00264291407326323,
          0.00267655114218198
         ],
         "type": "candlestick",
         "x": [
          "2024-04-13T00:00:00",
          "2024-04-14T00:00:00",
          "2024-04-15T00:00:00",
          "2024-04-16T00:00:00",
          "2024-04-17T00:00:00",
          "2024-04-18T00:00:00",
          "2024-04-19T00:00:00",
          "2024-04-20T00:00:00",
          "2024-04-21T00:00:00",
          "2024-04-22T00:00:00",
          "2024-04-23T00:00:00",
          "2024-04-24T00:00:00",
          "2024-04-25T00:00:00",
          "2024-04-26T00:00:00",
          "2024-04-27T00:00:00",
          "2024-04-28T00:00:00",
          "2024-04-29T00:00:00",
          "2024-04-30T00:00:00",
          "2024-05-01T00:00:00",
          "2024-05-02T00:00:00",
          "2024-05-03T00:00:00",
          "2024-05-04T00:00:00",
          "2024-05-05T00:00:00",
          "2024-05-06T00:00:00",
          "2024-05-07T00:00:00",
          "2024-05-08T00:00:00",
          "2024-05-09T00:00:00",
          "2024-05-10T00:00:00",
          "2024-05-11T00:00:00",
          "2024-05-12T00:00:00",
          "2024-05-13T00:00:00",
          "2024-05-14T00:00:00",
          "2024-05-15T00:00:00",
          "2024-05-16T00:00:00",
          "2024-05-17T00:00:00",
          "2024-05-18T00:00:00",
          "2024-05-19T00:00:00",
          "2024-05-20T00:00:00",
          "2024-05-21T00:00:00",
          "2024-05-22T00:00:00",
          "2024-05-23T00:00:00",
          "2024-05-24T00:00:00",
          "2024-05-25T00:00:00",
          "2024-05-26T00:00:00",
          "2024-05-27T00:00:00",
          "2024-05-28T00:00:00",
          "2024-05-29T00:00:00",
          "2024-05-30T00:00:00",
          "2024-05-31T00:00:00",
          "2024-06-01T00:00:00",
          "2024-06-02T00:00:00",
          "2024-06-03T00:00:00",
          "2024-06-04T00:00:00",
          "2024-06-05T00:00:00",
          "2024-06-06T00:00:00",
          "2024-06-07T00:00:00",
          "2024-06-08T00:00:00",
          "2024-06-09T00:00:00",
          "2024-06-10T00:00:00",
          "2024-06-11T00:00:00",
          "2024-06-12T00:00:00",
          "2024-06-13T00:00:00",
          "2024-06-14T00:00:00",
          "2024-06-15T00:00:00",
          "2024-06-16T00:00:00",
          "2024-06-17T00:00:00",
          "2024-06-18T00:00:00",
          "2024-06-19T00:00:00",
          "2024-06-20T00:00:00",
          "2024-06-21T00:00:00",
          "2024-06-22T00:00:00",
          "2024-06-23T00:00:00",
          "2024-06-24T00:00:00",
          "2024-06-25T00:00:00",
          "2024-06-26T00:00:00",
          "2024-06-27T00:00:00",
          "2024-06-28T00:00:00",
          "2024-06-29T00:00:00",
          "2024-06-30T00:00:00",
          "2024-07-01T00:00:00",
          "2024-07-02T00:00:00",
          "2024-07-03T00:00:00",
          "2024-07-04T00:00:00",
          "2024-07-05T00:00:00",
          "2024-07-06T00:00:00",
          "2024-07-07T00:00:00",
          "2024-07-08T00:00:00",
          "2024-07-09T00:00:00",
          "2024-07-10T00:00:00",
          "2024-07-11T00:00:00",
          "2024-07-12T00:00:00",
          "2024-07-13T00:00:00",
          "2024-07-14T00:00:00",
          "2024-07-15T00:00:00",
          "2024-07-16T00:00:00",
          "2024-07-17T00:00:00",
          "2024-07-18T00:00:00",
          "2024-07-19T00:00:00",
          "2024-07-20T00:00:00",
          "2024-07-21T00:00:00",
          "2024-07-22T00:00:00",
          "2024-07-23T00:00:00",
          "2024-07-24T00:00:00",
          "2024-07-25T00:00:00",
          "2024-07-26T00:00:00",
          "2024-07-27T00:00:00",
          "2024-07-28T00:00:00",
          "2024-07-29T00:00:00",
          "2024-07-30T00:00:00",
          "2024-07-31T00:00:00",
          "2024-08-01T00:00:00",
          "2024-08-02T00:00:00",
          "2024-08-03T00:00:00",
          "2024-08-04T00:00:00",
          "2024-08-05T00:00:00",
          "2024-08-06T00:00:00",
          "2024-08-07T00:00:00",
          "2024-08-08T00:00:00",
          "2024-08-09T00:00:00",
          "2024-08-10T00:00:00",
          "2024-08-11T00:00:00",
          "2024-08-12T00:00:00",
          "2024-08-13T00:00:00",
          "2024-08-14T00:00:00",
          "2024-08-15T00:00:00",
          "2024-08-16T00:00:00",
          "2024-08-17T00:00:00",
          "2024-08-18T00:00:00",
          "2024-08-19T00:00:00",
          "2024-08-20T00:00:00",
          "2024-08-21T00:00:00",
          "2024-08-22T00:00:00",
          "2024-08-23T00:00:00",
          "2024-08-24T00:00:00",
          "2024-08-25T00:00:00",
          "2024-08-26T00:00:00",
          "2024-08-27T00:00:00",
          "2024-08-28T00:00:00",
          "2024-08-29T00:00:00",
          "2024-08-30T00:00:00",
          "2024-08-31T00:00:00",
          "2024-09-01T00:00:00",
          "2024-09-02T00:00:00",
          "2024-09-03T00:00:00",
          "2024-09-04T00:00:00",
          "2024-09-05T00:00:00",
          "2024-09-06T00:00:00",
          "2024-09-07T00:00:00",
          "2024-09-08T00:00:00",
          "2024-09-09T00:00:00",
          "2024-09-10T00:00:00",
          "2024-09-11T00:00:00",
          "2024-09-12T00:00:00",
          "2024-09-13T00:00:00",
          "2024-09-14T00:00:00",
          "2024-09-15T00:00:00",
          "2024-09-16T00:00:00",
          "2024-09-17T00:00:00",
          "2024-09-18T00:00:00",
          "2024-09-19T00:00:00",
          "2024-09-20T00:00:00",
          "2024-09-21T00:00:00",
          "2024-09-22T00:00:00",
          "2024-09-23T00:00:00",
          "2024-09-24T00:00:00",
          "2024-09-25T00:00:00",
          "2024-09-26T00:00:00",
          "2024-09-27T00:00:00",
          "2024-09-28T00:00:00",
          "2024-09-29T00:00:00",
          "2024-09-30T00:00:00",
          "2024-10-01T00:00:00",
          "2024-10-02T00:00:00",
          "2024-10-03T00:00:00",
          "2024-10-04T00:00:00",
          "2024-10-05T00:00:00",
          "2024-10-06T00:00:00",
          "2024-10-07T00:00:00",
          "2024-10-08T00:00:00",
          "2024-10-09T00:00:00",
          "2024-10-10T00:00:00",
          "2024-10-11T00:00:00",
          "2024-10-12T00:00:00"
         ]
        }
       ],
       "layout": {
        "annotations": [
         {
          "showarrow": false,
          "text": "Max Price (183)",
          "x": 1,
          "xanchor": "left",
          "xref": "x domain",
          "y": 0.0103092783505155,
          "yanchor": "middle",
          "yref": "y"
         },
         {
          "showarrow": false,
          "text": "Min Price (183)",
          "x": 1,
          "xanchor": "left",
          "xref": "x domain",
          "y": 0.00164128692801621,
          "yanchor": "middle",
          "yref": "y"
         },
         {
          "showarrow": false,
          "text": "Current Position (0.8657498502594241)",
          "x": 1,
          "xanchor": "left",
          "xref": "x domain",
          "y": 0.002804966074436767,
          "yanchor": "middle",
          "yref": "y"
         }
        ],
        "font": {
         "color": "white",
         "size": 12
        },
        "height": 600,
        "hovermode": "x unified",
        "margin": {
         "b": 20,
         "l": 20,
         "r": 20,
         "t": 50
        },
        "paper_bgcolor": "rgba(0, 0, 0, 0.1)",
        "plot_bgcolor": "rgba(0, 0, 0, 0)",
        "shapes": [
         {
          "line": {
           "color": "green",
           "dash": "dash"
          },
          "type": "line",
          "x0": 0,
          "x1": 1,
          "xref": "x domain",
          "y0": 0.0103092783505155,
          "y1": 0.0103092783505155,
          "yref": "y"
         },
         {
          "line": {
           "color": "red",
           "dash": "dash"
          },
          "type": "line",
          "x0": 0,
          "x1": 1,
          "xref": "x domain",
          "y0": 0.00164128692801621,
          "y1": 0.00164128692801621,
          "yref": "y"
         },
         {
          "line": {
           "color": "orange",
           "dash": "dash"
          },
          "type": "line",
          "x0": 0,
          "x1": 1,
          "xref": "x domain",
          "y0": 0.002804966074436767,
          "y1": 0.002804966074436767,
          "yref": "y"
         }
        ],
        "showlegend": true,
        "template": {
         "data": {
          "bar": [
           {
            "error_x": {
             "color": "#f2f5fa"
            },
            "error_y": {
             "color": "#f2f5fa"
            },
            "marker": {
             "line": {
              "color": "rgb(17,17,17)",
              "width": 0.5
             },
             "pattern": {
              "fillmode": "overlay",
              "size": 10,
              "solidity": 0.2
             }
            },
            "type": "bar"
           }
          ],
          "barpolar": [
           {
            "marker": {
             "line": {
              "color": "rgb(17,17,17)",
              "width": 0.5
             },
             "pattern": {
              "fillmode": "overlay",
              "size": 10,
              "solidity": 0.2
             }
            },
            "type": "barpolar"
           }
          ],
          "carpet": [
           {
            "aaxis": {
             "endlinecolor": "#A2B1C6",
             "gridcolor": "#506784",
             "linecolor": "#506784",
             "minorgridcolor": "#506784",
             "startlinecolor": "#A2B1C6"
            },
            "baxis": {
             "endlinecolor": "#A2B1C6",
             "gridcolor": "#506784",
             "linecolor": "#506784",
             "minorgridcolor": "#506784",
             "startlinecolor": "#A2B1C6"
            },
            "type": "carpet"
           }
          ],
          "choropleth": [
           {
            "colorbar": {
             "outlinewidth": 0,
             "ticks": ""
            },
            "type": "choropleth"
           }
          ],
          "contour": [
           {
            "colorbar": {
             "outlinewidth": 0,
             "ticks": ""
            },
            "colorscale": [
             [
              0,
              "#0d0887"
             ],
             [
              0.1111111111111111,
              "#46039f"
             ],
             [
              0.2222222222222222,
              "#7201a8"
             ],
             [
              0.3333333333333333,
              "#9c179e"
             ],
             [
              0.4444444444444444,
              "#bd3786"
             ],
             [
              0.5555555555555556,
              "#d8576b"
             ],
             [
              0.6666666666666666,
              "#ed7953"
             ],
             [
              0.7777777777777778,
              "#fb9f3a"
             ],
             [
              0.8888888888888888,
              "#fdca26"
             ],
             [
              1,
              "#f0f921"
             ]
            ],
            "type": "contour"
           }
          ],
          "contourcarpet": [
           {
            "colorbar": {
             "outlinewidth": 0,
             "ticks": ""
            },
            "type": "contourcarpet"
           }
          ],
          "heatmap": [
           {
            "colorbar": {
             "outlinewidth": 0,
             "ticks": ""
            },
            "colorscale": [
             [
              0,
              "#0d0887"
             ],
             [
              0.1111111111111111,
              "#46039f"
             ],
             [
              0.2222222222222222,
              "#7201a8"
             ],
             [
              0.3333333333333333,
              "#9c179e"
             ],
             [
              0.4444444444444444,
              "#bd3786"
             ],
             [
              0.5555555555555556,
              "#d8576b"
             ],
             [
              0.6666666666666666,
              "#ed7953"
             ],
             [
              0.7777777777777778,
              "#fb9f3a"
             ],
             [
              0.8888888888888888,
              "#fdca26"
             ],
             [
              1,
              "#f0f921"
             ]
            ],
            "type": "heatmap"
           }
          ],
          "heatmapgl": [
           {
            "colorbar": {
             "outlinewidth": 0,
             "ticks": ""
            },
            "colorscale": [
             [
              0,
              "#0d0887"
             ],
             [
              0.1111111111111111,
              "#46039f"
             ],
             [
              0.2222222222222222,
              "#7201a8"
             ],
             [
              0.3333333333333333,
              "#9c179e"
             ],
             [
              0.4444444444444444,
              "#bd3786"
             ],
             [
              0.5555555555555556,
              "#d8576b"
             ],
             [
              0.6666666666666666,
              "#ed7953"
             ],
             [
              0.7777777777777778,
              "#fb9f3a"
             ],
             [
              0.8888888888888888,
              "#fdca26"
             ],
             [
              1,
              "#f0f921"
             ]
            ],
            "type": "heatmapgl"
           }
          ],
          "histogram": [
           {
            "marker": {
             "pattern": {
              "fillmode": "overlay",
              "size": 10,
              "solidity": 0.2
             }
            },
            "type": "histogram"
           }
          ],
          "histogram2d": [
           {
            "colorbar": {
             "outlinewidth": 0,
             "ticks": ""
            },
            "colorscale": [
             [
              0,
              "#0d0887"
             ],
             [
              0.1111111111111111,
              "#46039f"
             ],
             [
              0.2222222222222222,
              "#7201a8"
             ],
             [
              0.3333333333333333,
              "#9c179e"
             ],
             [
              0.4444444444444444,
              "#bd3786"
             ],
             [
              0.5555555555555556,
              "#d8576b"
             ],
             [
              0.6666666666666666,
              "#ed7953"
             ],
             [
              0.7777777777777778,
              "#fb9f3a"
             ],
             [
              0.8888888888888888,
              "#fdca26"
             ],
             [
              1,
              "#f0f921"
             ]
            ],
            "type": "histogram2d"
           }
          ],
          "histogram2dcontour": [
           {
            "colorbar": {
             "outlinewidth": 0,
             "ticks": ""
            },
            "colorscale": [
             [
              0,
              "#0d0887"
             ],
             [
              0.1111111111111111,
              "#46039f"
             ],
             [
              0.2222222222222222,
              "#7201a8"
             ],
             [
              0.3333333333333333,
              "#9c179e"
             ],
             [
              0.4444444444444444,
              "#bd3786"
             ],
             [
              0.5555555555555556,
              "#d8576b"
             ],
             [
              0.6666666666666666,
              "#ed7953"
             ],
             [
              0.7777777777777778,
              "#fb9f3a"
             ],
             [
              0.8888888888888888,
              "#fdca26"
             ],
             [
              1,
              "#f0f921"
             ]
            ],
            "type": "histogram2dcontour"
           }
          ],
          "mesh3d": [
           {
            "colorbar": {
             "outlinewidth": 0,
             "ticks": ""
            },
            "type": "mesh3d"
           }
          ],
          "parcoords": [
           {
            "line": {
             "colorbar": {
              "outlinewidth": 0,
              "ticks": ""
             }
            },
            "type": "parcoords"
           }
          ],
          "pie": [
           {
            "automargin": true,
            "type": "pie"
           }
          ],
          "scatter": [
           {
            "marker": {
             "line": {
              "color": "#283442"
             }
            },
            "type": "scatter"
           }
          ],
          "scatter3d": [
           {
            "line": {
             "colorbar": {
              "outlinewidth": 0,
              "ticks": ""
             }
            },
            "marker": {
             "colorbar": {
              "outlinewidth": 0,
              "ticks": ""
             }
            },
            "type": "scatter3d"
           }
          ],
          "scattercarpet": [
           {
            "marker": {
             "colorbar": {
              "outlinewidth": 0,
              "ticks": ""
             }
            },
            "type": "scattercarpet"
           }
          ],
          "scattergeo": [
           {
            "marker": {
             "colorbar": {
              "outlinewidth": 0,
              "ticks": ""
             }
            },
            "type": "scattergeo"
           }
          ],
          "scattergl": [
           {
            "marker": {
             "line": {
              "color": "#283442"
             }
            },
            "type": "scattergl"
           }
          ],
          "scattermapbox": [
           {
            "marker": {
             "colorbar": {
              "outlinewidth": 0,
              "ticks": ""
             }
            },
            "type": "scattermapbox"
           }
          ],
          "scatterpolar": [
           {
            "marker": {
             "colorbar": {
              "outlinewidth": 0,
              "ticks": ""
             }
            },
            "type": "scatterpolar"
           }
          ],
          "scatterpolargl": [
           {
            "marker": {
             "colorbar": {
              "outlinewidth": 0,
              "ticks": ""
             }
            },
            "type": "scatterpolargl"
           }
          ],
          "scatterternary": [
           {
            "marker": {
             "colorbar": {
              "outlinewidth": 0,
              "ticks": ""
             }
            },
            "type": "scatterternary"
           }
          ],
          "surface": [
           {
            "colorbar": {
             "outlinewidth": 0,
             "ticks": ""
            },
            "colorscale": [
             [
              0,
              "#0d0887"
             ],
             [
              0.1111111111111111,
              "#46039f"
             ],
             [
              0.2222222222222222,
              "#7201a8"
             ],
             [
              0.3333333333333333,
              "#9c179e"
             ],
             [
              0.4444444444444444,
              "#bd3786"
             ],
             [
              0.5555555555555556,
              "#d8576b"
             ],
             [
              0.6666666666666666,
              "#ed7953"
             ],
             [
              0.7777777777777778,
              "#fb9f3a"
             ],
             [
              0.8888888888888888,
              "#fdca26"
             ],
             [
              1,
              "#f0f921"
             ]
            ],
            "type": "surface"
           }
          ],
          "table": [
           {
            "cells": {
             "fill": {
              "color": "#506784"
             },
             "line": {
              "color": "rgb(17,17,17)"
             }
            },
            "header": {
             "fill": {
              "color": "#2a3f5f"
             },
             "line": {
              "color": "rgb(17,17,17)"
             }
            },
            "type": "table"
           }
          ]
         },
         "layout": {
          "annotationdefaults": {
           "arrowcolor": "#f2f5fa",
           "arrowhead": 0,
           "arrowwidth": 1
          },
          "autotypenumbers": "strict",
          "coloraxis": {
           "colorbar": {
            "outlinewidth": 0,
            "ticks": ""
           }
          },
          "colorscale": {
           "diverging": [
            [
             0,
             "#8e0152"
            ],
            [
             0.1,
             "#c51b7d"
            ],
            [
             0.2,
             "#de77ae"
            ],
            [
             0.3,
             "#f1b6da"
            ],
            [
             0.4,
             "#fde0ef"
            ],
            [
             0.5,
             "#f7f7f7"
            ],
            [
             0.6,
             "#e6f5d0"
            ],
            [
             0.7,
             "#b8e186"
            ],
            [
             0.8,
             "#7fbc41"
            ],
            [
             0.9,
             "#4d9221"
            ],
            [
             1,
             "#276419"
            ]
           ],
           "sequential": [
            [
             0,
             "#0d0887"
            ],
            [
             0.1111111111111111,
             "#46039f"
            ],
            [
             0.2222222222222222,
             "#7201a8"
            ],
            [
             0.3333333333333333,
             "#9c179e"
            ],
            [
             0.4444444444444444,
             "#bd3786"
            ],
            [
             0.5555555555555556,
             "#d8576b"
            ],
            [
             0.6666666666666666,
             "#ed7953"
            ],
            [
             0.7777777777777778,
             "#fb9f3a"
            ],
            [
             0.8888888888888888,
             "#fdca26"
            ],
            [
             1,
             "#f0f921"
            ]
           ],
           "sequentialminus": [
            [
             0,
             "#0d0887"
            ],
            [
             0.1111111111111111,
             "#46039f"
            ],
            [
             0.2222222222222222,
             "#7201a8"
            ],
            [
             0.3333333333333333,
             "#9c179e"
            ],
            [
             0.4444444444444444,
             "#bd3786"
            ],
            [
             0.5555555555555556,
             "#d8576b"
            ],
            [
             0.6666666666666666,
             "#ed7953"
            ],
            [
             0.7777777777777778,
             "#fb9f3a"
            ],
            [
             0.8888888888888888,
             "#fdca26"
            ],
            [
             1,
             "#f0f921"
            ]
           ]
          },
          "colorway": [
           "#636efa",
           "#EF553B",
           "#00cc96",
           "#ab63fa",
           "#FFA15A",
           "#19d3f3",
           "#FF6692",
           "#B6E880",
           "#FF97FF",
           "#FECB52"
          ],
          "font": {
           "color": "#f2f5fa"
          },
          "geo": {
           "bgcolor": "rgb(17,17,17)",
           "lakecolor": "rgb(17,17,17)",
           "landcolor": "rgb(17,17,17)",
           "showlakes": true,
           "showland": true,
           "subunitcolor": "#506784"
          },
          "hoverlabel": {
           "align": "left"
          },
          "hovermode": "closest",
          "mapbox": {
           "style": "dark"
          },
          "paper_bgcolor": "rgb(17,17,17)",
          "plot_bgcolor": "rgb(17,17,17)",
          "polar": {
           "angularaxis": {
            "gridcolor": "#506784",
            "linecolor": "#506784",
            "ticks": ""
           },
           "bgcolor": "rgb(17,17,17)",
           "radialaxis": {
            "gridcolor": "#506784",
            "linecolor": "#506784",
            "ticks": ""
           }
          },
          "scene": {
           "xaxis": {
            "backgroundcolor": "rgb(17,17,17)",
            "gridcolor": "#506784",
            "gridwidth": 2,
            "linecolor": "#506784",
            "showbackground": true,
            "ticks": "",
            "zerolinecolor": "#C8D4E3"
           },
           "yaxis": {
            "backgroundcolor": "rgb(17,17,17)",
            "gridcolor": "#506784",
            "gridwidth": 2,
            "linecolor": "#506784",
            "showbackground": true,
            "ticks": "",
            "zerolinecolor": "#C8D4E3"
           },
           "zaxis": {
            "backgroundcolor": "rgb(17,17,17)",
            "gridcolor": "#506784",
            "gridwidth": 2,
            "linecolor": "#506784",
            "showbackground": true,
            "ticks": "",
            "zerolinecolor": "#C8D4E3"
           }
          },
          "shapedefaults": {
           "line": {
            "color": "#f2f5fa"
           }
          },
          "sliderdefaults": {
           "bgcolor": "#C8D4E3",
           "bordercolor": "rgb(17,17,17)",
           "borderwidth": 1,
           "tickwidth": 0
          },
          "ternary": {
           "aaxis": {
            "gridcolor": "#506784",
            "linecolor": "#506784",
            "ticks": ""
           },
           "baxis": {
            "gridcolor": "#506784",
            "linecolor": "#506784",
            "ticks": ""
           },
           "bgcolor": "rgb(17,17,17)",
           "caxis": {
            "gridcolor": "#506784",
            "linecolor": "#506784",
            "ticks": ""
           }
          },
          "title": {
           "x": 0.05
          },
          "updatemenudefaults": {
           "bgcolor": "#506784",
           "borderwidth": 0
          },
          "xaxis": {
           "automargin": true,
           "gridcolor": "#283442",
           "linecolor": "#506784",
           "ticks": "",
           "title": {
            "standoff": 15
           },
           "zerolinecolor": "#283442",
           "zerolinewidth": 2
          },
          "yaxis": {
           "automargin": true,
           "gridcolor": "#283442",
           "linecolor": "#506784",
           "ticks": "",
           "title": {
            "standoff": 15
           },
           "zerolinecolor": "#283442",
           "zerolinewidth": 2
          }
         }
        },
        "title": {
         "text": "CROWN/SOL - Price Range and Current Position"
        },
        "width": 1200,
        "xaxis": {
         "rangeslider": {
          "visible": false
         },
         "title": {
          "text": "Date"
         }
        },
        "yaxis": {
         "title": {
          "text": "Price"
         }
        }
       }
      }
     },
     "metadata": {},
     "output_type": "display_data"
    },
    {
     "data": {
      "application/vnd.plotly.v1+json": {
       "config": {
        "plotlyServerURL": "https://plot.ly"
       },
       "data": [
        {
         "close": [
          0.00184363636363636,
          0.00212021868495832,
          0.00182031623236331,
          0.00190325679116519,
          0.0017451155642382,
          0.00179838117696018,
          0.0016719665756113,
          0.001867218544,
          0.00180675313169919,
          0.00172038077761211,
          0.00178735605239432,
          0.00164717770886138,
          0.00159733311668757,
          0.00156266642616353,
          0.00159972246830324,
          0.00151914735903195,
          0.00150502564184575,
          0.00149985309098019,
          0.00159872970328976,
          0.00146231777878684,
          0.00163510652676089,
          0.00144135909609637,
          0.00145290884518918,
          0.00131536118119832,
          0.00124338387668069,
          0.00120043653983902,
          0.00117556212696927,
          0.00114857733770866,
          0.00118527188649859,
          0.00113303283203653,
          0.00106355934474196,
          0.00117384691150499,
          0.00132148499600461,
          0.00126060340487497,
          0.00134470224396044,
          0.00162945117426731,
          0.00167794345847184,
          0.00179403657273101,
          0.00165735168724368,
          0.00162599440142857,
          0.00164663724565012,
          0.00197900054785883,
          0.002155363125,
          0.00250070669612536,
          0.00404597052838744,
          0.00466986916837615,
          0.00386625930024311,
          0.0035927245383564,
          0.0035212755908452,
          0.00345936555438842,
          0.00343657774756961,
          0.00375260716652225,
          0.00365353364164029,
          0.00408810884648746,
          0.00366040343575716,
          0.00291896678477775,
          0.00261435497347837,
          0.00278042070144384,
          0.00277582286461955,
          0.00270433995466125,
          0.00268798564447777,
          0.00247123775187538,
          0.00252904266240004,
          0.00226993916656197,
          0.00228272531717668,
          0.00224753197737806,
          0.00195839149645534,
          0.00208189833955817,
          0.00206954576,
          0.001995787152,
          0.00191479129451308,
          0.00180147831617574,
          0.00197143672078471,
          0.00232620277258487,
          0.00216902900520582,
          0.00202439265068157,
          0.00191821711712349,
          0.00183122141429567,
          0.0019020304742752,
          0.00212815169955773,
          0.00184340631653608,
          0.00177323766090923,
          0.00175437519910247,
          0.00150833443199785,
          0.0015560724355012,
          0.00151388999080473,
          0.00148515709346879,
          0.00153662070246914,
          0.00155354482779957,
          0.00159247127,
          0.00169301783735917,
          0.0016398437125,
          0.00168128173559429,
          0.00167507351606756,
          0.001588299442,
          0.00161635176784399,
          0.00140937484565418,
          0.00149773789937456,
          0.00164179406581257,
          0.00167866412000567,
          0.0015863255085566,
          0.00149404801592948,
          0.00140080070840484,
          0.00134033686362305,
          0.00151439881898081,
          0.00142443664258095,
          0.00133029163212809,
          0.00131868748472887,
          0.00130229267359698,
          0.00127929867748886,
          0.00127886546531393,
          0.00129998544012183,
          0.00120691543333333,
          0.00125630623753821,
          0.000930664750276854,
          0.000964392654337881,
          0.000914540362153793,
          0.000930053039363674,
          0.00091978859826611,
          0.000883291905226995,
          0.000848211327577281,
          0.0009406053681655,
          0.000933117702992648,
          0.00090633857547668,
          0.000857458733390209,
          0.000865549448352331,
          0.000859516525406563,
          0.000912134308785168,
          0.000915772980051605,
          0.000925383970300126,
          0.000919241166396485,
          0.000900794083128626,
          0.000920282499299611,
          0.00101513118367347,
          0.000959347004545455,
          0.000895766315524774,
          0.000849323048107467,
          0.000842453141324109,
          0.00085997851,
          0.000848909037233423,
          0.000795966827687134,
          0.000771459664566905,
          0.000779070108307757,
          0.000742017853761664,
          0.000820203393909677,
          0.000811073745027672,
          0.000833750156453144,
          0.000898718472,
          0.000908394113886012,
          0.000977943273384872,
          0.00114673163584169,
          0.00110403636910536,
          0.00104391590792094,
          0.00104779984664681,
          0.000981151029088106,
          0.000873143095022835,
          0.00084729764462063,
          0.000907405814993411,
          0.000939224341946325,
          0.000899671209474364,
          0.000833880427931021,
          0.000897620042020176,
          0.000848962266056856,
          0.000848960111528394,
          0.000854011584634073,
          0.000831823091483095,
          0.000865572194531058,
          0.00107516293366043,
          0.000991483058377711,
          0.00100504275724801,
          0.000908925449310744,
          0.000853503694739903,
          0.000847758222067893,
          0.000850930297115634,
          0.000854181373839405,
          0.000845188823069009,
          0.000890729937115405,
          0.000922465128653027,
          0.000843321545852562,
          0.000898686069975066,
          0.00104999716411856,
          0.00119617188604736,
          0.001474279990032614
         ],
         "decreasing": {
          "line": {
           "color": "#E74C3C"
          }
         },
         "high": [
          0.00238975266926665,
          0.00221884810800861,
          0.00213788953898214,
          0.00190805059738325,
          0.00190325679116519,
          0.00192292661141834,
          0.00182342930883265,
          0.00221120259380296,
          0.00194429615,
          0.00183770264749092,
          0.00200882246031448,
          0.00191486049237926,
          0.00170740512953779,
          0.00161399664013581,
          0.00159972246830324,
          0.00163659827081023,
          0.00152629045569295,
          0.00171096597401949,
          0.0016460172567297,
          0.00168655112767005,
          0.00168299186458621,
          0.00167881552243526,
          0.00148748786271263,
          0.00146019286567595,
          0.00143146883168484,
          0.00131779155451245,
          0.00127682934074348,
          0.00120469362391286,
          0.00122594009138621,
          0.00122113492939783,
          0.00113804777092369,
          0.00132757458606835,
          0.00161713550136441,
          0.00155717466596783,
          0.00140142461920142,
          0.00188898024736876,
          0.00177675927691798,
          0.00207181413493932,
          0.00186398262466293,
          0.00168181855413495,
          0.00185923129742121,
          0.0021212771750352,
          0.00236139984669866,
          0.00262645556004904,
          0.00477412398125,
          0.00573153203829604,
          0.00530695097639357,
          0.00407229701874093,
          0.00388221436287961,
          0.00361311506079993,
          0.00398806688514278,
          0.0039275950679213,
          0.00385431333647069,
          0.00458122656911666,
          0.00412645643521928,
          0.00374896124378657,
          0.00295014306824974,
          0.00285338473534582,
          0.00307562151494025,
          0.00278854027808011,
          0.0029429108723405,
          0.00268798564447777,
          0.00264814223303752,
          0.00260846519994408,
          0.00260120916468227,
          0.00237366050999461,
          0.00224753197737806,
          0.00219337025057835,
          0.00213324450333624,
          0.00212965531079132,
          0.00210903196664999,
          0.00198645617316829,
          0.00200506895578211,
          0.00234509769100087,
          0.00247803524214221,
          0.002219308191764,
          0.00215068766372405,
          0.00202501507959497,
          0.00192159466713493,
          0.00218617123828958,
          0.00220236551405802,
          0.00192812202874401,
          0.0017899420090466,
          0.00175437519910247,
          0.00163892248920448,
          0.00166158089277927,
          0.00159351495505021,
          0.00157142646950666,
          0.0016403196783127,
          0.00168144178709982,
          0.00179578020158743,
          0.0017484583454642,
          0.00173183103337542,
          0.00171963861449542,
          0.00172321364106931,
          0.00169756701013698,
          0.00161635176784399,
          0.0015738027846147,
          0.00174073676754739,
          0.00172505543728106,
          0.00167866412000567,
          0.0016743295545807,
          0.0016072389466365,
          0.00145641107813844,
          0.00154169688924479,
          0.0016785112332017,
          0.00144062997747139,
          0.00136754923674243,
          0.00135163251034642,
          0.00131245048452435,
          0.00131091386389109,
          0.00132062746944074,
          0.00129998544012183,
          0.00126560581402488,
          0.00125801597787537,
          0.00102997317969295,
          0.000969289330180415,
          0.00093875690656999,
          0.000938629421682282,
          0.00091978859826611,
          0.000883291905226995,
          0.000979765608001196,
          0.00100493359457872,
          0.000961523720666241,
          0.000939937586152293,
          0.000934101635424433,
          0.000938095123350249,
          0.000942496844355628,
          0.000940038503748454,
          0.000960397881954801,
          0.000956512326257243,
          0.000956743280646345,
          0.000968701393809975,
          0.00108406274989647,
          0.00104792726368245,
          0.00106472272824498,
          0.000940717254480193,
          0.000873027775987115,
          0.00089274478981184,
          0.00087148580994428,
          0.000848909037233423,
          0.000821258872528891,
          0.000787653436531568,
          0.000790085922831715,
          0.000820203393909677,
          0.000843711345504229,
          0.000874702917990896,
          0.000970075883620622,
          0.000961551217548624,
          0.00105531933770463,
          0.0011753461402207,
          0.00122357881106192,
          0.00111598509618352,
          0.00106339031258331,
          0.00104779984664681,
          0.00098996567654712,
          0.00090515494953385,
          0.000957645704628873,
          0.000952825173208803,
          0.00101769754640951,
          0.000942376427150688,
          0.000899193022826598,
          0.000897620042020176,
          0.000922590469224126,
          0.000898961827890858,
          0.000884035412737467,
          0.000911174589474769,
          0.00112655312099327,
          0.00107807747105211,
          0.00105083534234303,
          0.00100504275724801,
          0.00097494167383738,
          0.000902227251541947,
          0.00087951207374925,
          0.000902094598871786,
          0.000904663225614736,
          0.000911509546503828,
          0.000969065639055638,
          0.000952312920262193,
          0.000998578081873018,
          0.00115270549855354,
          0.00122971719040328,
          0.001692738098782428
         ],
         "increasing": {
          "line": {
           "color": "#2ECC71"
          }
         },
         "low": [
          0.00165145111131972,
          0.00152229841332419,
          0.00177752215389449,
          0.00166556476,
          0.00164433883976635,
          0.00157015468842706,
          0.00159938359798726,
          0.00166558688610127,
          0.00171859749998571,
          0.00164177701576979,
          0.00165875199050127,
          0.00161619047853094,
          0.00141127070515909,
          0.00148109369912256,
          0.00147619045288612,
          0.00146386891229236,
          0.00144156655621302,
          0.00140509998900052,
          0.00146345914749424,
          0.00136778258353841,
          0.00140562464812444,
          0.00144135909609637,
          0.00138043591223294,
          0.00128171021991338,
          0.00118515582503525,
          0.00117479656592949,
          0.00117513482579606,
          0.0011115601460939,
          0.001114123147,
          0.00109725802656939,
          0.00102663774106272,
          0.00106355934474196,
          0.00117384691150499,
          0.00112430682756552,
          0.0011783437169027,
          0.00129158610427433,
          0.00144716291165807,
          0.00167794345847184,
          0.0015261860477593,
          0.001420394912,
          0.00154494733563539,
          0.00164663724565012,
          0.0018191814635591,
          0.00211934279726972,
          0.00236842444246905,
          0.00295222582447337,
          0.00364183522645959,
          0.00319567344749328,
          0.00320740607191256,
          0.00303195170956245,
          0.00318355202548007,
          0.00324166298545784,
          0.0033587751550263,
          0.00344495002313826,
          0.00349087613578622,
          0.00262749694,
          0.00256325451883605,
          0.00251670686973985,
          0.00254734318889325,
          0.00240412421078345,
          0.002520319414,
          0.00231270862320255,
          0.00222510301928583,
          0.00220229877727937,
          0.00214726240917747,
          0.00213447053629896,
          0.00187225786777661,
          0.0018778401075,
          0.0019061321675,
          0.001873166335,
          0.00174965331685105,
          0.00180147831617574,
          0.00174359785921551,
          0.00191679025890027,
          0.00216902900520582,
          0.00202439265068157,
          0.0018788016585207,
          0.00183122141429567,
          0.00173834864526977,
          0.00181543144649646,
          0.00179838305867769,
          0.00173787050396065,
          0.0016659236299181,
          0.00132514157000379,
          0.00146312027852624,
          0.00141503017608655,
          0.00148515709346879,
          0.00148489273616232,
          0.00151203461487801,
          0.00155354482779957,
          0.00154111252254402,
          0.00160596230964238,
          0.00161073377287286,
          0.00160038910604211,
          0.00155130467288337,
          0.00157248709666667,
          0.00130273325102333,
          0.00137137663491002,
          0.00147933052259181,
          0.00159376868184912,
          0.00156782109545465,
          0.00147897907848933,
          0.00137643060208614,
          0.00133219194453596,
          0.00134033686362305,
          0.00142443664258095,
          0.0011960854270341,
          0.00128432332913863,
          0.00127333100061291,
          0.00125478971417215,
          0.00122870654415176,
          0.00126393903789617,
          0.00116636433769471,
          0.0011701012972,
          0.000818063645082203,
          0.000930664750276854,
          0.000885407962655913,
          0.00082546449259263,
          0.000903167880193579,
          0.000873677145933098,
          0.000815739639342067,
          0.00082735603178631,
          0.000914085756211721,
          0.00090633857547668,
          0.000853690439269585,
          0.000827233753928644,
          0.000859516525406563,
          0.000859516525406563,
          0.000869617107361912,
          0.000904696099402475,
          0.000845822588110912,
          0.000900666458696671,
          0.000900794083128626,
          0.000896600706837251,
          0.00092901034029785,
          0.000895766315524774,
          0.000828980717777778,
          0.000812929450819436,
          0.0008353679,
          0.000815233454644174,
          0.000776384180783579,
          0.000745949236543184,
          0.000741029050607148,
          0.000719519051422168,
          0.000726077224199288,
          0.0007890100975,
          0.000793129446136456,
          0.000833750156453144,
          0.000877427497291518,
          0.000908394113886012,
          0.000949270073,
          0.00106099394759284,
          0.00103088171760072,
          0.000997255559150306,
          0.000971094114334595,
          0.000785565971221424,
          0.000836711114749499,
          0.00083047536373967,
          0.000887485823815239,
          0.000675922712216715,
          0.000833880427931021,
          0.000833880427931021,
          0.000847652766847842,
          0.000836110414316278,
          0.000845977382142857,
          0.000810704386595408,
          0.000831823091483095,
          0.000865572194531058,
          0.000932091945087961,
          0.000925812288173466,
          0.000903331492936423,
          0.000827003111771723,
          0.000821123134584548,
          0.000830422403407551,
          0.00084141353067787,
          0.000827840241999939,
          0.000845188823069009,
          0.000854536260817303,
          0.000773543040134114,
          0.000843321545852562,
          0.000880257073731943,
          0.00102175986366174,
          0.00119617188604736
         ],
         "name": "Candlesticks",
         "open": [
          0.00194424935259814,
          0.00184363636363636,
          0.00212021868495832,
          0.00182031623236331,
          0.00190325679116519,
          0.0017451155642382,
          0.00179838117696018,
          0.0016719665756113,
          0.001867218544,
          0.00180675313169919,
          0.00172038077761211,
          0.00178735605239432,
          0.00164717770886138,
          0.00159733311668757,
          0.00156266642616353,
          0.00159972246830324,
          0.00151914735903195,
          0.00150502564184575,
          0.00149985309098019,
          0.00159872970328976,
          0.00146231777878684,
          0.00163510652676089,
          0.00144135909609637,
          0.00145290884518918,
          0.00131536118119832,
          0.00124338387668069,
          0.00120043653983902,
          0.00117556212696927,
          0.00114857733770866,
          0.00118527188649859,
          0.00113303283203653,
          0.00106355934474196,
          0.00117384691150499,
          0.00132148499600461,
          0.00126060340487497,
          0.00134470224396044,
          0.00162945117426731,
          0.00167794345847184,
          0.00179403657273101,
          0.00165735168724368,
          0.00162599440142857,
          0.00164663724565012,
          0.00197900054785883,
          0.002155363125,
          0.00250070669612536,
          0.00404597052838744,
          0.00466986916837615,
          0.00386625930024311,
          0.0035927245383564,
          0.0035212755908452,
          0.00345936555438842,
          0.00343657774756961,
          0.00375260716652225,
          0.00365353364164029,
          0.00408810884648746,
          0.00366040343575716,
          0.00291896678477775,
          0.00261435497347837,
          0.00278042070144384,
          0.00277582286461955,
          0.00270433995466125,
          0.00268798564447777,
          0.00247123775187538,
          0.00252904266240004,
          0.00226993916656197,
          0.00228272531717668,
          0.00224753197737806,
          0.00195839149645534,
          0.00208189833955817,
          0.00206954576,
          0.001995787152,
          0.00191479129451308,
          0.00180147831617574,
          0.00197143672078471,
          0.00232620277258487,
          0.00216902900520582,
          0.00202439265068157,
          0.00191821711712349,
          0.00183122141429567,
          0.0019020304742752,
          0.00212815169955773,
          0.00184340631653608,
          0.00177323766090923,
          0.00175437519910247,
          0.00150833443199785,
          0.0015560724355012,
          0.00151388999080473,
          0.00148515709346879,
          0.00153662070246914,
          0.00155354482779957,
          0.00159247127,
          0.00169301783735917,
          0.0016398437125,
          0.00168128173559429,
          0.00167507351606756,
          0.001588299442,
          0.00161635176784399,
          0.00140937484565418,
          0.00149773789937456,
          0.00164179406581257,
          0.00167866412000567,
          0.0015863255085566,
          0.00149404801592948,
          0.00140080070840484,
          0.00134033686362305,
          0.00151439881898081,
          0.00142443664258095,
          0.00133029163212809,
          0.00131868748472887,
          0.00130229267359698,
          0.00127929867748886,
          0.00127886546531393,
          0.00129998544012183,
          0.00120691543333333,
          0.00125630623753821,
          0.000930664750276854,
          0.000964392654337881,
          0.000914540362153793,
          0.000930053039363674,
          0.00091978859826611,
          0.000883291905226995,
          0.000848211327577281,
          0.0009406053681655,
          0.000933117702992648,
          0.00090633857547668,
          0.000857458733390209,
          0.000865549448352331,
          0.000859516525406563,
          0.000912134308785168,
          0.000915772980051605,
          0.000925383970300126,
          0.000919241166396485,
          0.000900794083128626,
          0.000920282499299611,
          0.00101513118367347,
          0.000959347004545455,
          0.000895766315524774,
          0.000849323048107467,
          0.000842453141324109,
          0.00085997851,
          0.000848909037233423,
          0.000795966827687134,
          0.000771459664566905,
          0.000779070108307757,
          0.000742017853761664,
          0.000820203393909677,
          0.000811073745027672,
          0.000833750156453144,
          0.000898718472,
          0.000908394113886012,
          0.000977943273384872,
          0.00114673163584169,
          0.00110403636910536,
          0.00104391590792094,
          0.00104779984664681,
          0.000981151029088106,
          0.000873143095022835,
          0.00084729764462063,
          0.000907405814993411,
          0.000939224341946325,
          0.000899671209474364,
          0.000833880427931021,
          0.000897620042020176,
          0.000848962266056856,
          0.000848960111528394,
          0.000854011584634073,
          0.000831823091483095,
          0.000865572194531058,
          0.00107516293366043,
          0.000991483058377711,
          0.00100504275724801,
          0.000908925449310744,
          0.000853503694739903,
          0.000847758222067893,
          0.000850930297115634,
          0.000854181373839405,
          0.000845188823069009,
          0.000890729937115405,
          0.000922465128653027,
          0.000843321545852562,
          0.000898686069975066,
          0.00104999716411856,
          0.00119617188604736
         ],
         "type": "candlestick",
         "x": [
          "2024-04-13T00:00:00",
          "2024-04-14T00:00:00",
          "2024-04-15T00:00:00",
          "2024-04-16T00:00:00",
          "2024-04-17T00:00:00",
          "2024-04-18T00:00:00",
          "2024-04-19T00:00:00",
          "2024-04-20T00:00:00",
          "2024-04-21T00:00:00",
          "2024-04-22T00:00:00",
          "2024-04-23T00:00:00",
          "2024-04-24T00:00:00",
          "2024-04-25T00:00:00",
          "2024-04-26T00:00:00",
          "2024-04-27T00:00:00",
          "2024-04-28T00:00:00",
          "2024-04-29T00:00:00",
          "2024-04-30T00:00:00",
          "2024-05-01T00:00:00",
          "2024-05-02T00:00:00",
          "2024-05-03T00:00:00",
          "2024-05-04T00:00:00",
          "2024-05-05T00:00:00",
          "2024-05-06T00:00:00",
          "2024-05-07T00:00:00",
          "2024-05-08T00:00:00",
          "2024-05-09T00:00:00",
          "2024-05-10T00:00:00",
          "2024-05-11T00:00:00",
          "2024-05-12T00:00:00",
          "2024-05-13T00:00:00",
          "2024-05-14T00:00:00",
          "2024-05-15T00:00:00",
          "2024-05-16T00:00:00",
          "2024-05-17T00:00:00",
          "2024-05-18T00:00:00",
          "2024-05-19T00:00:00",
          "2024-05-20T00:00:00",
          "2024-05-21T00:00:00",
          "2024-05-22T00:00:00",
          "2024-05-23T00:00:00",
          "2024-05-24T00:00:00",
          "2024-05-25T00:00:00",
          "2024-05-26T00:00:00",
          "2024-05-27T00:00:00",
          "2024-05-28T00:00:00",
          "2024-05-29T00:00:00",
          "2024-05-30T00:00:00",
          "2024-05-31T00:00:00",
          "2024-06-01T00:00:00",
          "2024-06-02T00:00:00",
          "2024-06-03T00:00:00",
          "2024-06-04T00:00:00",
          "2024-06-05T00:00:00",
          "2024-06-06T00:00:00",
          "2024-06-07T00:00:00",
          "2024-06-08T00:00:00",
          "2024-06-09T00:00:00",
          "2024-06-10T00:00:00",
          "2024-06-11T00:00:00",
          "2024-06-12T00:00:00",
          "2024-06-13T00:00:00",
          "2024-06-14T00:00:00",
          "2024-06-15T00:00:00",
          "2024-06-16T00:00:00",
          "2024-06-17T00:00:00",
          "2024-06-18T00:00:00",
          "2024-06-19T00:00:00",
          "2024-06-20T00:00:00",
          "2024-06-21T00:00:00",
          "2024-06-22T00:00:00",
          "2024-06-23T00:00:00",
          "2024-06-24T00:00:00",
          "2024-06-25T00:00:00",
          "2024-06-26T00:00:00",
          "2024-06-27T00:00:00",
          "2024-06-28T00:00:00",
          "2024-06-29T00:00:00",
          "2024-06-30T00:00:00",
          "2024-07-01T00:00:00",
          "2024-07-02T00:00:00",
          "2024-07-03T00:00:00",
          "2024-07-04T00:00:00",
          "2024-07-05T00:00:00",
          "2024-07-06T00:00:00",
          "2024-07-07T00:00:00",
          "2024-07-08T00:00:00",
          "2024-07-09T00:00:00",
          "2024-07-10T00:00:00",
          "2024-07-11T00:00:00",
          "2024-07-12T00:00:00",
          "2024-07-13T00:00:00",
          "2024-07-14T00:00:00",
          "2024-07-15T00:00:00",
          "2024-07-16T00:00:00",
          "2024-07-17T00:00:00",
          "2024-07-18T00:00:00",
          "2024-07-19T00:00:00",
          "2024-07-20T00:00:00",
          "2024-07-21T00:00:00",
          "2024-07-22T00:00:00",
          "2024-07-23T00:00:00",
          "2024-07-24T00:00:00",
          "2024-07-25T00:00:00",
          "2024-07-26T00:00:00",
          "2024-07-27T00:00:00",
          "2024-07-28T00:00:00",
          "2024-07-29T00:00:00",
          "2024-07-30T00:00:00",
          "2024-07-31T00:00:00",
          "2024-08-01T00:00:00",
          "2024-08-02T00:00:00",
          "2024-08-03T00:00:00",
          "2024-08-04T00:00:00",
          "2024-08-05T00:00:00",
          "2024-08-06T00:00:00",
          "2024-08-07T00:00:00",
          "2024-08-08T00:00:00",
          "2024-08-09T00:00:00",
          "2024-08-10T00:00:00",
          "2024-08-11T00:00:00",
          "2024-08-12T00:00:00",
          "2024-08-13T00:00:00",
          "2024-08-14T00:00:00",
          "2024-08-15T00:00:00",
          "2024-08-16T00:00:00",
          "2024-08-17T00:00:00",
          "2024-08-18T00:00:00",
          "2024-08-19T00:00:00",
          "2024-08-20T00:00:00",
          "2024-08-21T00:00:00",
          "2024-08-22T00:00:00",
          "2024-08-23T00:00:00",
          "2024-08-24T00:00:00",
          "2024-08-25T00:00:00",
          "2024-08-26T00:00:00",
          "2024-08-27T00:00:00",
          "2024-08-28T00:00:00",
          "2024-08-29T00:00:00",
          "2024-08-30T00:00:00",
          "2024-08-31T00:00:00",
          "2024-09-01T00:00:00",
          "2024-09-02T00:00:00",
          "2024-09-03T00:00:00",
          "2024-09-04T00:00:00",
          "2024-09-05T00:00:00",
          "2024-09-06T00:00:00",
          "2024-09-07T00:00:00",
          "2024-09-08T00:00:00",
          "2024-09-09T00:00:00",
          "2024-09-10T00:00:00",
          "2024-09-11T00:00:00",
          "2024-09-12T00:00:00",
          "2024-09-13T00:00:00",
          "2024-09-14T00:00:00",
          "2024-09-15T00:00:00",
          "2024-09-16T00:00:00",
          "2024-09-17T00:00:00",
          "2024-09-18T00:00:00",
          "2024-09-19T00:00:00",
          "2024-09-20T00:00:00",
          "2024-09-21T00:00:00",
          "2024-09-22T00:00:00",
          "2024-09-23T00:00:00",
          "2024-09-24T00:00:00",
          "2024-09-25T00:00:00",
          "2024-09-26T00:00:00",
          "2024-09-27T00:00:00",
          "2024-09-28T00:00:00",
          "2024-09-29T00:00:00",
          "2024-09-30T00:00:00",
          "2024-10-01T00:00:00",
          "2024-10-02T00:00:00",
          "2024-10-03T00:00:00",
          "2024-10-04T00:00:00",
          "2024-10-05T00:00:00",
          "2024-10-06T00:00:00",
          "2024-10-07T00:00:00",
          "2024-10-08T00:00:00",
          "2024-10-09T00:00:00",
          "2024-10-10T00:00:00",
          "2024-10-11T00:00:00",
          "2024-10-12T00:00:00"
         ]
        }
       ],
       "layout": {
        "annotations": [
         {
          "showarrow": false,
          "text": "Max Price (183)",
          "x": 1,
          "xanchor": "left",
          "xref": "x domain",
          "y": 0.00573153203829604,
          "yanchor": "middle",
          "yref": "y"
         },
         {
          "showarrow": false,
          "text": "Min Price (183)",
          "x": 1,
          "xanchor": "left",
          "xref": "x domain",
          "y": 0.000675922712216715,
          "yanchor": "middle",
          "yref": "y"
         },
         {
          "showarrow": false,
          "text": "Current Position (0.8420848553907085)",
          "x": 1,
          "xanchor": "left",
          "xref": "x domain",
          "y": 0.001474279990032614,
          "yanchor": "middle",
          "yref": "y"
         }
        ],
        "font": {
         "color": "white",
         "size": 12
        },
        "height": 600,
        "hovermode": "x unified",
        "margin": {
         "b": 20,
         "l": 20,
         "r": 20,
         "t": 50
        },
        "paper_bgcolor": "rgba(0, 0, 0, 0.1)",
        "plot_bgcolor": "rgba(0, 0, 0, 0)",
        "shapes": [
         {
          "line": {
           "color": "green",
           "dash": "dash"
          },
          "type": "line",
          "x0": 0,
          "x1": 1,
          "xref": "x domain",
          "y0": 0.00573153203829604,
          "y1": 0.00573153203829604,
          "yref": "y"
         },
         {
          "line": {
           "color": "red",
           "dash": "dash"
          },
          "type": "line",
          "x0": 0,
          "x1": 1,
          "xref": "x domain",
          "y0": 0.000675922712216715,
          "y1": 0.000675922712216715,
          "yref": "y"
         },
         {
          "line": {
           "color": "orange",
           "dash": "dash"
          },
          "type": "line",
          "x0": 0,
          "x1": 1,
          "xref": "x domain",
          "y0": 0.001474279990032614,
          "y1": 0.001474279990032614,
          "yref": "y"
         }
        ],
        "showlegend": true,
        "template": {
         "data": {
          "bar": [
           {
            "error_x": {
             "color": "#f2f5fa"
            },
            "error_y": {
             "color": "#f2f5fa"
            },
            "marker": {
             "line": {
              "color": "rgb(17,17,17)",
              "width": 0.5
             },
             "pattern": {
              "fillmode": "overlay",
              "size": 10,
              "solidity": 0.2
             }
            },
            "type": "bar"
           }
          ],
          "barpolar": [
           {
            "marker": {
             "line": {
              "color": "rgb(17,17,17)",
              "width": 0.5
             },
             "pattern": {
              "fillmode": "overlay",
              "size": 10,
              "solidity": 0.2
             }
            },
            "type": "barpolar"
           }
          ],
          "carpet": [
           {
            "aaxis": {
             "endlinecolor": "#A2B1C6",
             "gridcolor": "#506784",
             "linecolor": "#506784",
             "minorgridcolor": "#506784",
             "startlinecolor": "#A2B1C6"
            },
            "baxis": {
             "endlinecolor": "#A2B1C6",
             "gridcolor": "#506784",
             "linecolor": "#506784",
             "minorgridcolor": "#506784",
             "startlinecolor": "#A2B1C6"
            },
            "type": "carpet"
           }
          ],
          "choropleth": [
           {
            "colorbar": {
             "outlinewidth": 0,
             "ticks": ""
            },
            "type": "choropleth"
           }
          ],
          "contour": [
           {
            "colorbar": {
             "outlinewidth": 0,
             "ticks": ""
            },
            "colorscale": [
             [
              0,
              "#0d0887"
             ],
             [
              0.1111111111111111,
              "#46039f"
             ],
             [
              0.2222222222222222,
              "#7201a8"
             ],
             [
              0.3333333333333333,
              "#9c179e"
             ],
             [
              0.4444444444444444,
              "#bd3786"
             ],
             [
              0.5555555555555556,
              "#d8576b"
             ],
             [
              0.6666666666666666,
              "#ed7953"
             ],
             [
              0.7777777777777778,
              "#fb9f3a"
             ],
             [
              0.8888888888888888,
              "#fdca26"
             ],
             [
              1,
              "#f0f921"
             ]
            ],
            "type": "contour"
           }
          ],
          "contourcarpet": [
           {
            "colorbar": {
             "outlinewidth": 0,
             "ticks": ""
            },
            "type": "contourcarpet"
           }
          ],
          "heatmap": [
           {
            "colorbar": {
             "outlinewidth": 0,
             "ticks": ""
            },
            "colorscale": [
             [
              0,
              "#0d0887"
             ],
             [
              0.1111111111111111,
              "#46039f"
             ],
             [
              0.2222222222222222,
              "#7201a8"
             ],
             [
              0.3333333333333333,
              "#9c179e"
             ],
             [
              0.4444444444444444,
              "#bd3786"
             ],
             [
              0.5555555555555556,
              "#d8576b"
             ],
             [
              0.6666666666666666,
              "#ed7953"
             ],
             [
              0.7777777777777778,
              "#fb9f3a"
             ],
             [
              0.8888888888888888,
              "#fdca26"
             ],
             [
              1,
              "#f0f921"
             ]
            ],
            "type": "heatmap"
           }
          ],
          "heatmapgl": [
           {
            "colorbar": {
             "outlinewidth": 0,
             "ticks": ""
            },
            "colorscale": [
             [
              0,
              "#0d0887"
             ],
             [
              0.1111111111111111,
              "#46039f"
             ],
             [
              0.2222222222222222,
              "#7201a8"
             ],
             [
              0.3333333333333333,
              "#9c179e"
             ],
             [
              0.4444444444444444,
              "#bd3786"
             ],
             [
              0.5555555555555556,
              "#d8576b"
             ],
             [
              0.6666666666666666,
              "#ed7953"
             ],
             [
              0.7777777777777778,
              "#fb9f3a"
             ],
             [
              0.8888888888888888,
              "#fdca26"
             ],
             [
              1,
              "#f0f921"
             ]
            ],
            "type": "heatmapgl"
           }
          ],
          "histogram": [
           {
            "marker": {
             "pattern": {
              "fillmode": "overlay",
              "size": 10,
              "solidity": 0.2
             }
            },
            "type": "histogram"
           }
          ],
          "histogram2d": [
           {
            "colorbar": {
             "outlinewidth": 0,
             "ticks": ""
            },
            "colorscale": [
             [
              0,
              "#0d0887"
             ],
             [
              0.1111111111111111,
              "#46039f"
             ],
             [
              0.2222222222222222,
              "#7201a8"
             ],
             [
              0.3333333333333333,
              "#9c179e"
             ],
             [
              0.4444444444444444,
              "#bd3786"
             ],
             [
              0.5555555555555556,
              "#d8576b"
             ],
             [
              0.6666666666666666,
              "#ed7953"
             ],
             [
              0.7777777777777778,
              "#fb9f3a"
             ],
             [
              0.8888888888888888,
              "#fdca26"
             ],
             [
              1,
              "#f0f921"
             ]
            ],
            "type": "histogram2d"
           }
          ],
          "histogram2dcontour": [
           {
            "colorbar": {
             "outlinewidth": 0,
             "ticks": ""
            },
            "colorscale": [
             [
              0,
              "#0d0887"
             ],
             [
              0.1111111111111111,
              "#46039f"
             ],
             [
              0.2222222222222222,
              "#7201a8"
             ],
             [
              0.3333333333333333,
              "#9c179e"
             ],
             [
              0.4444444444444444,
              "#bd3786"
             ],
             [
              0.5555555555555556,
              "#d8576b"
             ],
             [
              0.6666666666666666,
              "#ed7953"
             ],
             [
              0.7777777777777778,
              "#fb9f3a"
             ],
             [
              0.8888888888888888,
              "#fdca26"
             ],
             [
              1,
              "#f0f921"
             ]
            ],
            "type": "histogram2dcontour"
           }
          ],
          "mesh3d": [
           {
            "colorbar": {
             "outlinewidth": 0,
             "ticks": ""
            },
            "type": "mesh3d"
           }
          ],
          "parcoords": [
           {
            "line": {
             "colorbar": {
              "outlinewidth": 0,
              "ticks": ""
             }
            },
            "type": "parcoords"
           }
          ],
          "pie": [
           {
            "automargin": true,
            "type": "pie"
           }
          ],
          "scatter": [
           {
            "marker": {
             "line": {
              "color": "#283442"
             }
            },
            "type": "scatter"
           }
          ],
          "scatter3d": [
           {
            "line": {
             "colorbar": {
              "outlinewidth": 0,
              "ticks": ""
             }
            },
            "marker": {
             "colorbar": {
              "outlinewidth": 0,
              "ticks": ""
             }
            },
            "type": "scatter3d"
           }
          ],
          "scattercarpet": [
           {
            "marker": {
             "colorbar": {
              "outlinewidth": 0,
              "ticks": ""
             }
            },
            "type": "scattercarpet"
           }
          ],
          "scattergeo": [
           {
            "marker": {
             "colorbar": {
              "outlinewidth": 0,
              "ticks": ""
             }
            },
            "type": "scattergeo"
           }
          ],
          "scattergl": [
           {
            "marker": {
             "line": {
              "color": "#283442"
             }
            },
            "type": "scattergl"
           }
          ],
          "scattermapbox": [
           {
            "marker": {
             "colorbar": {
              "outlinewidth": 0,
              "ticks": ""
             }
            },
            "type": "scattermapbox"
           }
          ],
          "scatterpolar": [
           {
            "marker": {
             "colorbar": {
              "outlinewidth": 0,
              "ticks": ""
             }
            },
            "type": "scatterpolar"
           }
          ],
          "scatterpolargl": [
           {
            "marker": {
             "colorbar": {
              "outlinewidth": 0,
              "ticks": ""
             }
            },
            "type": "scatterpolargl"
           }
          ],
          "scatterternary": [
           {
            "marker": {
             "colorbar": {
              "outlinewidth": 0,
              "ticks": ""
             }
            },
            "type": "scatterternary"
           }
          ],
          "surface": [
           {
            "colorbar": {
             "outlinewidth": 0,
             "ticks": ""
            },
            "colorscale": [
             [
              0,
              "#0d0887"
             ],
             [
              0.1111111111111111,
              "#46039f"
             ],
             [
              0.2222222222222222,
              "#7201a8"
             ],
             [
              0.3333333333333333,
              "#9c179e"
             ],
             [
              0.4444444444444444,
              "#bd3786"
             ],
             [
              0.5555555555555556,
              "#d8576b"
             ],
             [
              0.6666666666666666,
              "#ed7953"
             ],
             [
              0.7777777777777778,
              "#fb9f3a"
             ],
             [
              0.8888888888888888,
              "#fdca26"
             ],
             [
              1,
              "#f0f921"
             ]
            ],
            "type": "surface"
           }
          ],
          "table": [
           {
            "cells": {
             "fill": {
              "color": "#506784"
             },
             "line": {
              "color": "rgb(17,17,17)"
             }
            },
            "header": {
             "fill": {
              "color": "#2a3f5f"
             },
             "line": {
              "color": "rgb(17,17,17)"
             }
            },
            "type": "table"
           }
          ]
         },
         "layout": {
          "annotationdefaults": {
           "arrowcolor": "#f2f5fa",
           "arrowhead": 0,
           "arrowwidth": 1
          },
          "autotypenumbers": "strict",
          "coloraxis": {
           "colorbar": {
            "outlinewidth": 0,
            "ticks": ""
           }
          },
          "colorscale": {
           "diverging": [
            [
             0,
             "#8e0152"
            ],
            [
             0.1,
             "#c51b7d"
            ],
            [
             0.2,
             "#de77ae"
            ],
            [
             0.3,
             "#f1b6da"
            ],
            [
             0.4,
             "#fde0ef"
            ],
            [
             0.5,
             "#f7f7f7"
            ],
            [
             0.6,
             "#e6f5d0"
            ],
            [
             0.7,
             "#b8e186"
            ],
            [
             0.8,
             "#7fbc41"
            ],
            [
             0.9,
             "#4d9221"
            ],
            [
             1,
             "#276419"
            ]
           ],
           "sequential": [
            [
             0,
             "#0d0887"
            ],
            [
             0.1111111111111111,
             "#46039f"
            ],
            [
             0.2222222222222222,
             "#7201a8"
            ],
            [
             0.3333333333333333,
             "#9c179e"
            ],
            [
             0.4444444444444444,
             "#bd3786"
            ],
            [
             0.5555555555555556,
             "#d8576b"
            ],
            [
             0.6666666666666666,
             "#ed7953"
            ],
            [
             0.7777777777777778,
             "#fb9f3a"
            ],
            [
             0.8888888888888888,
             "#fdca26"
            ],
            [
             1,
             "#f0f921"
            ]
           ],
           "sequentialminus": [
            [
             0,
             "#0d0887"
            ],
            [
             0.1111111111111111,
             "#46039f"
            ],
            [
             0.2222222222222222,
             "#7201a8"
            ],
            [
             0.3333333333333333,
             "#9c179e"
            ],
            [
             0.4444444444444444,
             "#bd3786"
            ],
            [
             0.5555555555555556,
             "#d8576b"
            ],
            [
             0.6666666666666666,
             "#ed7953"
            ],
            [
             0.7777777777777778,
             "#fb9f3a"
            ],
            [
             0.8888888888888888,
             "#fdca26"
            ],
            [
             1,
             "#f0f921"
            ]
           ]
          },
          "colorway": [
           "#636efa",
           "#EF553B",
           "#00cc96",
           "#ab63fa",
           "#FFA15A",
           "#19d3f3",
           "#FF6692",
           "#B6E880",
           "#FF97FF",
           "#FECB52"
          ],
          "font": {
           "color": "#f2f5fa"
          },
          "geo": {
           "bgcolor": "rgb(17,17,17)",
           "lakecolor": "rgb(17,17,17)",
           "landcolor": "rgb(17,17,17)",
           "showlakes": true,
           "showland": true,
           "subunitcolor": "#506784"
          },
          "hoverlabel": {
           "align": "left"
          },
          "hovermode": "closest",
          "mapbox": {
           "style": "dark"
          },
          "paper_bgcolor": "rgb(17,17,17)",
          "plot_bgcolor": "rgb(17,17,17)",
          "polar": {
           "angularaxis": {
            "gridcolor": "#506784",
            "linecolor": "#506784",
            "ticks": ""
           },
           "bgcolor": "rgb(17,17,17)",
           "radialaxis": {
            "gridcolor": "#506784",
            "linecolor": "#506784",
            "ticks": ""
           }
          },
          "scene": {
           "xaxis": {
            "backgroundcolor": "rgb(17,17,17)",
            "gridcolor": "#506784",
            "gridwidth": 2,
            "linecolor": "#506784",
            "showbackground": true,
            "ticks": "",
            "zerolinecolor": "#C8D4E3"
           },
           "yaxis": {
            "backgroundcolor": "rgb(17,17,17)",
            "gridcolor": "#506784",
            "gridwidth": 2,
            "linecolor": "#506784",
            "showbackground": true,
            "ticks": "",
            "zerolinecolor": "#C8D4E3"
           },
           "zaxis": {
            "backgroundcolor": "rgb(17,17,17)",
            "gridcolor": "#506784",
            "gridwidth": 2,
            "linecolor": "#506784",
            "showbackground": true,
            "ticks": "",
            "zerolinecolor": "#C8D4E3"
           }
          },
          "shapedefaults": {
           "line": {
            "color": "#f2f5fa"
           }
          },
          "sliderdefaults": {
           "bgcolor": "#C8D4E3",
           "bordercolor": "rgb(17,17,17)",
           "borderwidth": 1,
           "tickwidth": 0
          },
          "ternary": {
           "aaxis": {
            "gridcolor": "#506784",
            "linecolor": "#506784",
            "ticks": ""
           },
           "baxis": {
            "gridcolor": "#506784",
            "linecolor": "#506784",
            "ticks": ""
           },
           "bgcolor": "rgb(17,17,17)",
           "caxis": {
            "gridcolor": "#506784",
            "linecolor": "#506784",
            "ticks": ""
           }
          },
          "title": {
           "x": 0.05
          },
          "updatemenudefaults": {
           "bgcolor": "#506784",
           "borderwidth": 0
          },
          "xaxis": {
           "automargin": true,
           "gridcolor": "#283442",
           "linecolor": "#506784",
           "ticks": "",
           "title": {
            "standoff": 15
           },
           "zerolinecolor": "#283442",
           "zerolinewidth": 2
          },
          "yaxis": {
           "automargin": true,
           "gridcolor": "#283442",
           "linecolor": "#506784",
           "ticks": "",
           "title": {
            "standoff": 15
           },
           "zerolinecolor": "#283442",
           "zerolinewidth": 2
          }
         }
        },
        "title": {
         "text": "PENG/SOL - Price Range and Current Position"
        },
        "width": 1200,
        "xaxis": {
         "rangeslider": {
          "visible": false
         },
         "title": {
          "text": "Date"
         }
        },
        "yaxis": {
         "title": {
          "text": "Price"
         }
        }
       }
      }
     },
     "metadata": {},
     "output_type": "display_data"
    },
    {
     "data": {
      "application/vnd.plotly.v1+json": {
       "config": {
        "plotlyServerURL": "https://plot.ly"
       },
       "data": [
        {
         "close": [
          0.00000139011935811333,
          0.00000167110811005576,
          0.00000153768896828725,
          0.00000147611148967042,
          0.00000147724337009122,
          0.00000162519785575856,
          0.00000167739052333349,
          0.00000175223462829981,
          0.00000161415994830318,
          0.00000151429754058404,
          0.0000014712369102642,
          0.00000144677956789852,
          0.000001473969060875,
          0.00000142402434912,
          0.00000139571555033129,
          0.00000135216330332051,
          0.0000013747232964135,
          0.00000134696730555869,
          0.00000136250195964912,
          0.00000149904039244641,
          0.00000149393507847758,
          0.00000142818447551648,
          0.00000132380542896559,
          0.00000131808288668787,
          0.00000124143267617792,
          0.00000120662700129231,
          0.00000120756528,
          0.00000113963878886968,
          0.00000116045733918538,
          0.00000116595326980756,
          0.00000113807968845712,
          0.000001089358721242,
          0.00000119127458912612,
          0.00000111164909056885,
          0.00000112377059629646,
          0.00000107533431631236,
          0.00000103569994,
          0.00000103883538905963,
          0.00000102890102408093,
          0.00000107399113836732,
          0.00000113317263309652,
          0.00000109909119958333,
          0.00000136506623251515,
          0.00000131187150704563,
          0.00000141146655212538,
          0.00000146158225274371,
          0.00000137742705982378,
          0.00000129155278884069,
          0.00000124019806698226,
          0.00000121248535195427,
          0.0000012108160273428,
          0.00000124133246484078,
          0.00000125970553730362,
          0.00000122143979782444,
          0.00000116461769204945,
          0.00000115441053463251,
          0.00000107640380860116,
          0.00000111794908288703,
          0.00000103996927302415,
          0.00000107368401306666,
          0.00000105691377295367,
          9.90697353338203e-7,
          9.31430471773813e-7,
          9.07605882440671e-7,
          9.27765162496743e-7,
          8.48782529892838e-7,
          8.38479544939214e-7,
          8.35966757146317e-7,
          8.10424928811835e-7,
          7.77830831511671e-7,
          7.74197829677423e-7,
          7.36067704442825e-7,
          7.49721355017118e-7,
          7.6050277691998e-7,
          7.71039683451255e-7,
          8.4491012417981e-7,
          8.79956030817009e-7,
          9.63816348228903e-7,
          9.9540000771435e-7,
          9.62297465373024e-7,
          8.42494072128857e-7,
          8.06759922485999e-7,
          7.84063900403152e-7,
          7.46094113452781e-7,
          7.55608054483177e-7,
          7.22849400812512e-7,
          7.22073572553322e-7,
          7.4599365704969e-7,
          7.57734925333333e-7,
          7.39227004394971e-7,
          7.41569285483407e-7,
          7.45522403727971e-7,
          7.56905931863462e-7,
          7.80521756748004e-7,
          8.3162618972619e-7,
          7.8596606932081e-7,
          7.83407186784764e-7,
          7.60439655295518e-7,
          7.9289056251221e-7,
          8.66892105325159e-7,
          8.77309211134379e-7,
          8.26806712132774e-7,
          8.29888780487711e-7,
          8.21336494034858e-7,
          8.62553384404666e-7,
          8.64208075e-7,
          8.01424122510877e-7,
          7.8955513425723e-7,
          7.38180397439552e-7,
          7.21658775044735e-7,
          7.04696024507756e-7,
          6.8176434833703e-7,
          6.4444978930697e-7,
          6.3250612e-7,
          5.87892083135908e-7,
          5.99329602051203e-7,
          5.39939765934348e-7,
          5.61356367870722e-7,
          5.48992013853401e-7,
          5.6561558098354e-7,
          5.5242622499956e-7,
          5.68488104285714e-7,
          5.73494335322461e-7,
          5.56313489789783e-7,
          5.35495939966873e-7,
          5.43506834484788e-7,
          5.4993356068969e-7,
          5.50022898685812e-7,
          5.32422435590487e-7,
          5.54408094176953e-7,
          5.55762098222197e-7,
          5.56970815869575e-7,
          5.77268784338662e-7,
          7.05747015e-7,
          6.71199771506999e-7,
          6.22314084754265e-7,
          6.31712317721082e-7,
          6.27244443649374e-7,
          6.44138674374139e-7,
          6.44814955101416e-7,
          6.34861260257921e-7,
          6.29881812126456e-7,
          6.38513499102116e-7,
          6.45708111866187e-7,
          6.63792520967742e-7,
          6.4402069518196e-7,
          6.48011837311931e-7,
          6.55421479862995e-7,
          6.45163353031421e-7,
          6.69523806161862e-7,
          6.63557008456553e-7,
          6.3444628e-7,
          6.57457118290997e-7,
          6.44091405910983e-7,
          6.417050375e-7,
          6.33105898759352e-7,
          6.18860148026593e-7,
          6.41709875077019e-7,
          6.48105274258365e-7,
          6.53194944584353e-7,
          6.44736022240231e-7,
          6.67456903104667e-7,
          6.54858248529677e-7,
          6.60232438376918e-7,
          7.3270959241636e-7,
          6.99175577182668e-7,
          7.28197229792148e-7,
          7.69923732597768e-7,
          7.63304938675897e-7,
          7.71311065868195e-7,
          7.22134191414145e-7,
          6.88846098478952e-7,
          6.88981743127848e-7,
          6.96675800926678e-7,
          7.20522864332264e-7,
          6.91583951731555e-7,
          7.215525075e-7,
          7.3768951048707e-7,
          6.82781640499989e-7,
          6.55490362144316e-7,
          6.5396875e-7,
          6.87277572849463e-7,
          7.184485994118711e-7
         ],
         "decreasing": {
          "line": {
           "color": "#E74C3C"
          }
         },
         "high": [
          0.00000150656094694803,
          0.00000178571428571428,
          0.00000174757281553398,
          0.00000155235462451613,
          0.00000152148944891962,
          0.00000167803627092335,
          0.00000176365644667835,
          0.0000018487764003374,
          0.00000175602011602861,
          0.00000166218564710466,
          0.00000154299988845064,
          0.00000184049079754601,
          0.00000159791372145293,
          0.00000148029533264694,
          0.00000156794425087108,
          0.00000140979435704927,
          0.00000139974492785518,
          0.00000140667143584619,
          0.00000140370154229347,
          0.00000155916808757101,
          0.00000152678848759086,
          0.00000150361262318649,
          0.0000015358361774744,
          0.00000140495867768595,
          0.00000150659133709981,
          0.00000127416254136002,
          0.00000126463700234192,
          0.00000121635993799911,
          0.00000121036526421996,
          0.00000120164515860607,
          0.00000121534214144,
          0.00000116424116424117,
          0.00000121695912332453,
          0.00000119495351065107,
          0.00000118716996153846,
          0.00000119145411428175,
          0.0000010994161340519,
          0.00000107156786220251,
          0.00000120274914089347,
          0.00000111731843575419,
          0.00000123106060606061,
          0.0000011417143904815,
          0.00000138523915605536,
          0.00000136537098248348,
          0.0000014644317986747,
          0.00000150631681243926,
          0.00000167464114832536,
          0.00000163934426229508,
          0.00000142118863049095,
          0.00000127256075893119,
          0.00000123376563961642,
          0.00000131213194758603,
          0.00000147420147420147,
          0.00000134715025906736,
          0.00000144230769230769,
          0.00000138888888888889,
          0.000001270207852194,
          0.00000120793787748059,
          0.00000120096076861489,
          0.00000109317097800105,
          0.00000116758241758242,
          0.00000127118644067797,
          0.00000105596620908131,
          0.00000103686635944701,
          0.00000115740740740741,
          0.00000108108108108108,
          8.96191187453325e-7,
          0.00000101180438448566,
          9.01149949820095e-7,
          8.8809946714032e-7,
          9.65250965250965e-7,
          8.7527352297593e-7,
          8.11808118081183e-7,
          8.9171974522293e-7,
          8.62895493767977e-7,
          8.86075949367088e-7,
          0.00000108499095840868,
          0.00000101694915254237,
          0.00000104740904079383,
          0.00000110294117647059,
          0.00000115473441108545,
          8.76232201533407e-7,
          9.20810313075506e-7,
          9.27643784786642e-7,
          8.47457627118644e-7,
          8.66336633663366e-7,
          7.53186558516802e-7,
          8.03981623277182e-7,
          7.8786455212692e-7,
          7.89767721344465e-7,
          7.63730294008468e-7,
          7.6753321537629e-7,
          7.67827773375816e-7,
          7.92842081452711e-7,
          9.04233456637896e-7,
          8.44511061229104e-7,
          8.19964349376114e-7,
          8.12732814087369e-7,
          8.30074482071322e-7,
          8.94634933149157e-7,
          0.000001001145297,
          9.10179905363659e-7,
          8.95915313332467e-7,
          8.54810263903301e-7,
          8.76061313536988e-7,
          9.34305103844563e-7,
          8.661217695e-7,
          8.44308906913323e-7,
          8.2058933233868e-7,
          7.79510022271715e-7,
          7.40055504162812e-7,
          7.24876441515651e-7,
          7.19581334496293e-7,
          6.68386491557223e-7,
          6.3250612e-7,
          6.39464068209501e-7,
          6.15716644552814e-7,
          5.88811843604399e-7,
          5.69222839426106e-7,
          5.68937788612703e-7,
          5.81790870934195e-7,
          6.19634327263274e-7,
          5.91862784421525e-7,
          5.7721515040795e-7,
          5.63597654847239e-7,
          5.52463056061376e-7,
          5.57000564328358e-7,
          5.74609445142755e-7,
          5.65085771947528e-7,
          5.63847429519071e-7,
          5.61867743239179e-7,
          5.62118344479719e-7,
          5.83587342179622e-7,
          7.17018042331773e-7,
          7.05747015e-7,
          6.83553146794221e-7,
          6.55430711610487e-7,
          6.50790514003933e-7,
          6.55338652038106e-7,
          6.66518769773091e-7,
          6.480872695292e-7,
          6.49707649802219e-7,
          6.40613783745195e-7,
          6.58002961013325e-7,
          6.69626791430107e-7,
          6.65884449548544e-7,
          6.65483584738243e-7,
          6.60015216215272e-7,
          6.61861310409578e-7,
          6.79788323052377e-7,
          6.71241718996159e-7,
          6.63557008456553e-7,
          6.59477345710092e-7,
          6.63011058640188e-7,
          6.49617048772499e-7,
          6.69721536834685e-7,
          6.37688150992257e-7,
          6.44282436990214e-7,
          6.54077712439638e-7,
          6.76119379114715e-7,
          6.82306703914795e-7,
          6.69887935638093e-7,
          6.79054885416667e-7,
          6.72071249681505e-7,
          7.56059714310997e-7,
          7.47334298368113e-7,
          7.58488491646145e-7,
          8.21626693206612e-7,
          7.92341923071703e-7,
          7.86662573394479e-7,
          7.7150182437121e-7,
          7.46505511282946e-7,
          7.07164349513934e-7,
          7.20075289303428e-7,
          7.35886300787435e-7,
          7.26252375969666e-7,
          7.25267944929343e-7,
          7.56148816085958e-7,
          7.43781819209825e-7,
          6.86658573948488e-7,
          6.58139627144773e-7,
          6.89152369919217e-7,
          7.300679582999026e-7
         ],
         "increasing": {
          "line": {
           "color": "#2ECC71"
          }
         },
         "low": [
          0.00000127932482136545,
          0.00000136552644620768,
          0.00000148334461106838,
          0.00000138951931887721,
          0.00000140836701020729,
          0.00000142219102395833,
          0.00000149805737722226,
          0.0000016025641025641,
          0.00000157693833039488,
          0.00000145389886687405,
          0.00000144642883298064,
          0.00000143102179831569,
          0.00000140871103091093,
          0.00000139233895634247,
          0.00000134220412143763,
          0.00000131422082150081,
          0.00000127762188775798,
          0.00000129969027267796,
          0.00000127317165493284,
          0.00000134860874718978,
          0.0000014082135753338,
          0.00000141281835142543,
          0.00000130848000476242,
          0.00000128226238035885,
          0.00000121978059291259,
          0.00000119232076239851,
          0.00000117114244868838,
          0.00000111167865255935,
          0.00000110791170209815,
          0.00000114860796001869,
          0.00000109820231883458,
          0.00000107815000768855,
          0.00000106934374251208,
          0.00000108858507666211,
          0.00000110933095407225,
          0.00000106056145710926,
          0.00000103283956427783,
          9.96978851963746e-7,
          9.7004087360112e-7,
          9.91101698711446e-7,
          0.00000106627270649351,
          0.00000108366118866135,
          0.00000109371627000274,
          0.00000128136976626874,
          0.00000127868598175014,
          0.00000136073176385341,
          0.00000129029456699223,
          0.00000124545926310327,
          0.00000121978546941128,
          0.00000120622505348771,
          0.00000117495104766825,
          0.0000011996730142298,
          0.000001204341635619,
          0.00000121603183396041,
          0.00000115955752821007,
          0.00000103534976424582,
          0.00000105940663284728,
          0.00000105107872730422,
          0.00000102800655778205,
          0.00000101124353511805,
          0.00000105040352920327,
          9.84853143690091e-7,
          8.74170922585906e-7,
          9.00680942536537e-7,
          8.69800152260314e-7,
          8.39255258162566e-7,
          7.52558960051146e-7,
          8.14029343853227e-7,
          7.96586059743953e-7,
          7.72917613067195e-7,
          7.63590458222262e-7,
          7.01754385964912e-7,
          6.9821923846989e-7,
          7.38317157184185e-7,
          7.38267011677414e-7,
          7.19798593333333e-7,
          8.05916828181101e-7,
          8.75355816174201e-7,
          9.48252506095909e-7,
          9.4148793899832e-7,
          8.32444250280488e-7,
          7.92521121007925e-7,
          7.75051390446042e-7,
          6.85001870742189e-7,
          7.29647883334319e-7,
          7.19092126930191e-7,
          7.05597467816166e-7,
          7.20523539067582e-7,
          7.41718472106317e-7,
          7.35826297806238e-7,
          7.366791445e-7,
          7.39197303796417e-7,
          7.37054738763693e-7,
          7.2547460878814e-7,
          7.80521756748004e-7,
          7.79617862442172e-7,
          7.65943827979145e-7,
          7.4448285030577e-7,
          7.59623696572231e-7,
          7.721036131437e-7,
          8.63066253008631e-7,
          7.91939186524185e-7,
          8.00609988562714e-7,
          7.96766472086903e-7,
          8.01371685587663e-7,
          8.40233887970942e-7,
          7.97231959392073e-7,
          7.61904761904762e-7,
          7.35124733995303e-7,
          7.15551325272592e-7,
          6.77187663533567e-7,
          6.67331958866652e-7,
          6.29987400251995e-7,
          6.22320770165727e-7,
          5.61905443082731e-7,
          5.73683291618234e-7,
          5.34113748259591e-7,
          4.84459014997214e-7,
          5.42919526360976e-7,
          5.44712321910482e-7,
          5.45500305909839e-7,
          5.45485282924614e-7,
          5.59936690064308e-7,
          5.54071545804506e-7,
          5.31789870878375e-7,
          5.33738367817094e-7,
          5.3332190363328e-7,
          5.41379900277163e-7,
          5.17921718934225e-7,
          5.28274932247114e-7,
          5.3813822841923e-7,
          5.46466751733333e-7,
          5.52692760660569e-7,
          5.72642757130651e-7,
          6.37803905235118e-7,
          6.1213176e-7,
          6.01829597781924e-7,
          6.13168358270856e-7,
          6.25387533470672e-7,
          6.30783762418912e-7,
          6.26844195153428e-7,
          6.21249801900127e-7,
          6.26246858167933e-7,
          6.27192511291159e-7,
          6.39682812065745e-7,
          6.42337883359309e-7,
          6.32812964345723e-7,
          6.41962473981106e-7,
          6.40845600392185e-7,
          6.45045678670861e-7,
          6.53207109847307e-7,
          6.29040134157099e-7,
          6.24699642096606e-7,
          6.26622572704313e-7,
          6.35953414435464e-7,
          6.31644791721022e-7,
          6.16275311911205e-7,
          6.1527597396774e-7,
          6.32417786666667e-7,
          6.41943464017917e-7,
          6.31125575166667e-7,
          6.30905776505245e-7,
          6.38538107012842e-7,
          6.3334369442011e-7,
          6.42168658796437e-7,
          6.89914363561948e-7,
          6.92714744311099e-7,
          7.24417505578125e-7,
          7.4918149697204e-7,
          7.45925147587468e-7,
          7.19877887142857e-7,
          6.69196963643628e-7,
          6.70655845070763e-7,
          6.88981743127848e-7,
          6.94936600833991e-7,
          6.8871754352902e-7,
          6.83383511126293e-7,
          7.07150713194217e-7,
          6.78408516566587e-7,
          6.22103123438331e-7,
          6.31247421343519e-7,
          6.41241445684504e-7,
          6.803583039359831e-7
         ],
         "name": "Candlesticks",
         "open": [
          0.00000142306436559759,
          0.00000139011935811333,
          0.00000167110811005576,
          0.00000153768896828725,
          0.00000147611148967042,
          0.00000147724337009122,
          0.00000162519785575856,
          0.00000167739052333349,
          0.00000175223462829981,
          0.00000161415994830318,
          0.00000151429754058404,
          0.0000014712369102642,
          0.00000144677956789852,
          0.000001473969060875,
          0.00000142402434912,
          0.00000139571555033129,
          0.00000135216330332051,
          0.0000013747232964135,
          0.00000134696730555869,
          0.00000136250195964912,
          0.00000149904039244641,
          0.00000149393507847758,
          0.00000142818447551648,
          0.00000132380542896559,
          0.00000131808288668787,
          0.00000124143267617792,
          0.00000120662700129231,
          0.00000120756528,
          0.00000113963878886968,
          0.00000116045733918538,
          0.00000116595326980756,
          0.00000113807968845712,
          0.000001089358721242,
          0.00000119127458912612,
          0.00000111164909056885,
          0.00000112377059629646,
          0.00000107533431631236,
          0.00000103569994,
          0.00000103883538905963,
          0.00000102890102408093,
          0.00000107399113836732,
          0.00000113317263309652,
          0.00000109909119958333,
          0.00000136506623251515,
          0.00000131187150704563,
          0.00000141146655212538,
          0.00000146158225274371,
          0.00000137742705982378,
          0.00000129155278884069,
          0.00000124019806698226,
          0.00000121248535195427,
          0.0000012108160273428,
          0.00000124133246484078,
          0.00000125970553730362,
          0.00000122143979782444,
          0.00000116461769204945,
          0.00000115441053463251,
          0.00000107640380860116,
          0.00000111794908288703,
          0.00000103996927302415,
          0.00000107368401306666,
          0.00000105691377295367,
          9.90697353338203e-7,
          9.31430471773813e-7,
          9.07605882440671e-7,
          9.27765162496743e-7,
          8.48782529892838e-7,
          8.38479544939214e-7,
          8.35966757146317e-7,
          8.10424928811835e-7,
          7.77830831511671e-7,
          7.74197829677423e-7,
          7.36067704442825e-7,
          7.49721355017118e-7,
          7.6050277691998e-7,
          7.71039683451255e-7,
          8.4491012417981e-7,
          8.79956030817009e-7,
          9.63816348228903e-7,
          9.9540000771435e-7,
          9.62297465373024e-7,
          8.42494072128857e-7,
          8.06759922485999e-7,
          7.84063900403152e-7,
          7.46094113452781e-7,
          7.55608054483177e-7,
          7.22849400812512e-7,
          7.22073572553322e-7,
          7.4599365704969e-7,
          7.57734925333333e-7,
          7.39227004394971e-7,
          7.41569285483407e-7,
          7.45522403727971e-7,
          7.56905931863462e-7,
          7.80521756748004e-7,
          8.3162618972619e-7,
          7.8596606932081e-7,
          7.83407186784764e-7,
          7.60439655295518e-7,
          7.9289056251221e-7,
          8.66892105325159e-7,
          8.77309211134379e-7,
          8.26806712132774e-7,
          8.29888780487711e-7,
          8.21336494034858e-7,
          8.62553384404666e-7,
          8.64208075e-7,
          8.01424122510877e-7,
          7.8955513425723e-7,
          7.38180397439552e-7,
          7.21658775044735e-7,
          7.04696024507756e-7,
          6.8176434833703e-7,
          6.4444978930697e-7,
          6.3250612e-7,
          5.87892083135908e-7,
          5.99329602051203e-7,
          5.39939765934348e-7,
          5.61356367870722e-7,
          5.48992013853401e-7,
          5.6561558098354e-7,
          5.5242622499956e-7,
          5.68488104285714e-7,
          5.73494335322461e-7,
          5.56313489789783e-7,
          5.35495939966873e-7,
          5.43506834484788e-7,
          5.4993356068969e-7,
          5.50022898685812e-7,
          5.32422435590487e-7,
          5.54408094176953e-7,
          5.55762098222197e-7,
          5.56970815869575e-7,
          5.77268784338662e-7,
          7.05747015e-7,
          6.71199771506999e-7,
          6.22314084754265e-7,
          6.31712317721082e-7,
          6.27244443649374e-7,
          6.44138674374139e-7,
          6.44814955101416e-7,
          6.34861260257921e-7,
          6.29881812126456e-7,
          6.38513499102116e-7,
          6.45708111866187e-7,
          6.63792520967742e-7,
          6.4402069518196e-7,
          6.48011837311931e-7,
          6.55421479862995e-7,
          6.45163353031421e-7,
          6.69523806161862e-7,
          6.63557008456553e-7,
          6.3444628e-7,
          6.57457118290997e-7,
          6.44091405910983e-7,
          6.417050375e-7,
          6.33105898759352e-7,
          6.18860148026593e-7,
          6.41709875077019e-7,
          6.48105274258365e-7,
          6.53194944584353e-7,
          6.44736022240231e-7,
          6.67456903104667e-7,
          6.54858248529677e-7,
          6.60232438376918e-7,
          7.3270959241636e-7,
          6.99175577182668e-7,
          7.28197229792148e-7,
          7.69923732597768e-7,
          7.63304938675897e-7,
          7.71311065868195e-7,
          7.22134191414145e-7,
          6.88846098478952e-7,
          6.88981743127848e-7,
          6.96675800926678e-7,
          7.20522864332264e-7,
          6.91583951731555e-7,
          7.215525075e-7,
          7.3768951048707e-7,
          6.82781640499989e-7,
          6.55490362144316e-7,
          6.5396875e-7,
          6.87277572849463e-7
         ],
         "type": "candlestick",
         "x": [
          "2024-04-13T00:00:00",
          "2024-04-14T00:00:00",
          "2024-04-15T00:00:00",
          "2024-04-16T00:00:00",
          "2024-04-17T00:00:00",
          "2024-04-18T00:00:00",
          "2024-04-19T00:00:00",
          "2024-04-20T00:00:00",
          "2024-04-21T00:00:00",
          "2024-04-22T00:00:00",
          "2024-04-23T00:00:00",
          "2024-04-24T00:00:00",
          "2024-04-25T00:00:00",
          "2024-04-26T00:00:00",
          "2024-04-27T00:00:00",
          "2024-04-28T00:00:00",
          "2024-04-29T00:00:00",
          "2024-04-30T00:00:00",
          "2024-05-01T00:00:00",
          "2024-05-02T00:00:00",
          "2024-05-03T00:00:00",
          "2024-05-04T00:00:00",
          "2024-05-05T00:00:00",
          "2024-05-06T00:00:00",
          "2024-05-07T00:00:00",
          "2024-05-08T00:00:00",
          "2024-05-09T00:00:00",
          "2024-05-10T00:00:00",
          "2024-05-11T00:00:00",
          "2024-05-12T00:00:00",
          "2024-05-13T00:00:00",
          "2024-05-14T00:00:00",
          "2024-05-15T00:00:00",
          "2024-05-16T00:00:00",
          "2024-05-17T00:00:00",
          "2024-05-18T00:00:00",
          "2024-05-19T00:00:00",
          "2024-05-20T00:00:00",
          "2024-05-21T00:00:00",
          "2024-05-22T00:00:00",
          "2024-05-23T00:00:00",
          "2024-05-24T00:00:00",
          "2024-05-25T00:00:00",
          "2024-05-26T00:00:00",
          "2024-05-27T00:00:00",
          "2024-05-28T00:00:00",
          "2024-05-29T00:00:00",
          "2024-05-30T00:00:00",
          "2024-05-31T00:00:00",
          "2024-06-01T00:00:00",
          "2024-06-02T00:00:00",
          "2024-06-03T00:00:00",
          "2024-06-04T00:00:00",
          "2024-06-05T00:00:00",
          "2024-06-06T00:00:00",
          "2024-06-07T00:00:00",
          "2024-06-08T00:00:00",
          "2024-06-09T00:00:00",
          "2024-06-10T00:00:00",
          "2024-06-11T00:00:00",
          "2024-06-12T00:00:00",
          "2024-06-13T00:00:00",
          "2024-06-14T00:00:00",
          "2024-06-15T00:00:00",
          "2024-06-16T00:00:00",
          "2024-06-17T00:00:00",
          "2024-06-18T00:00:00",
          "2024-06-19T00:00:00",
          "2024-06-20T00:00:00",
          "2024-06-21T00:00:00",
          "2024-06-22T00:00:00",
          "2024-06-23T00:00:00",
          "2024-06-24T00:00:00",
          "2024-06-25T00:00:00",
          "2024-06-26T00:00:00",
          "2024-06-27T00:00:00",
          "2024-06-28T00:00:00",
          "2024-06-29T00:00:00",
          "2024-06-30T00:00:00",
          "2024-07-01T00:00:00",
          "2024-07-02T00:00:00",
          "2024-07-03T00:00:00",
          "2024-07-04T00:00:00",
          "2024-07-05T00:00:00",
          "2024-07-06T00:00:00",
          "2024-07-07T00:00:00",
          "2024-07-08T00:00:00",
          "2024-07-09T00:00:00",
          "2024-07-10T00:00:00",
          "2024-07-11T00:00:00",
          "2024-07-12T00:00:00",
          "2024-07-13T00:00:00",
          "2024-07-14T00:00:00",
          "2024-07-15T00:00:00",
          "2024-07-16T00:00:00",
          "2024-07-17T00:00:00",
          "2024-07-18T00:00:00",
          "2024-07-19T00:00:00",
          "2024-07-20T00:00:00",
          "2024-07-21T00:00:00",
          "2024-07-22T00:00:00",
          "2024-07-23T00:00:00",
          "2024-07-24T00:00:00",
          "2024-07-25T00:00:00",
          "2024-07-26T00:00:00",
          "2024-07-27T00:00:00",
          "2024-07-28T00:00:00",
          "2024-07-29T00:00:00",
          "2024-07-30T00:00:00",
          "2024-07-31T00:00:00",
          "2024-08-01T00:00:00",
          "2024-08-02T00:00:00",
          "2024-08-03T00:00:00",
          "2024-08-04T00:00:00",
          "2024-08-05T00:00:00",
          "2024-08-06T00:00:00",
          "2024-08-07T00:00:00",
          "2024-08-08T00:00:00",
          "2024-08-09T00:00:00",
          "2024-08-10T00:00:00",
          "2024-08-11T00:00:00",
          "2024-08-12T00:00:00",
          "2024-08-13T00:00:00",
          "2024-08-14T00:00:00",
          "2024-08-15T00:00:00",
          "2024-08-16T00:00:00",
          "2024-08-17T00:00:00",
          "2024-08-18T00:00:00",
          "2024-08-19T00:00:00",
          "2024-08-20T00:00:00",
          "2024-08-21T00:00:00",
          "2024-08-22T00:00:00",
          "2024-08-23T00:00:00",
          "2024-08-24T00:00:00",
          "2024-08-25T00:00:00",
          "2024-08-26T00:00:00",
          "2024-08-27T00:00:00",
          "2024-08-28T00:00:00",
          "2024-08-29T00:00:00",
          "2024-08-30T00:00:00",
          "2024-08-31T00:00:00",
          "2024-09-01T00:00:00",
          "2024-09-02T00:00:00",
          "2024-09-03T00:00:00",
          "2024-09-04T00:00:00",
          "2024-09-05T00:00:00",
          "2024-09-06T00:00:00",
          "2024-09-07T00:00:00",
          "2024-09-08T00:00:00",
          "2024-09-09T00:00:00",
          "2024-09-10T00:00:00",
          "2024-09-11T00:00:00",
          "2024-09-12T00:00:00",
          "2024-09-13T00:00:00",
          "2024-09-14T00:00:00",
          "2024-09-15T00:00:00",
          "2024-09-16T00:00:00",
          "2024-09-17T00:00:00",
          "2024-09-18T00:00:00",
          "2024-09-19T00:00:00",
          "2024-09-20T00:00:00",
          "2024-09-21T00:00:00",
          "2024-09-22T00:00:00",
          "2024-09-23T00:00:00",
          "2024-09-24T00:00:00",
          "2024-09-25T00:00:00",
          "2024-09-26T00:00:00",
          "2024-09-27T00:00:00",
          "2024-09-28T00:00:00",
          "2024-09-29T00:00:00",
          "2024-09-30T00:00:00",
          "2024-10-01T00:00:00",
          "2024-10-02T00:00:00",
          "2024-10-03T00:00:00",
          "2024-10-04T00:00:00",
          "2024-10-05T00:00:00",
          "2024-10-06T00:00:00",
          "2024-10-07T00:00:00",
          "2024-10-08T00:00:00",
          "2024-10-09T00:00:00",
          "2024-10-10T00:00:00",
          "2024-10-11T00:00:00",
          "2024-10-12T00:00:00"
         ]
        }
       ],
       "layout": {
        "annotations": [
         {
          "showarrow": false,
          "text": "Max Price (183)",
          "x": 1,
          "xanchor": "left",
          "xref": "x domain",
          "y": 0.0000018487764003374,
          "yanchor": "middle",
          "yref": "y"
         },
         {
          "showarrow": false,
          "text": "Min Price (183)",
          "x": 1,
          "xanchor": "left",
          "xref": "x domain",
          "y": 4.84459014997214e-7,
          "yanchor": "middle",
          "yref": "y"
         },
         {
          "showarrow": false,
          "text": "Current Position (0.8284932912759789)",
          "x": 1,
          "xanchor": "left",
          "xref": "x domain",
          "y": 7.184485994118711e-7,
          "yanchor": "middle",
          "yref": "y"
         }
        ],
        "font": {
         "color": "white",
         "size": 12
        },
        "height": 600,
        "hovermode": "x unified",
        "margin": {
         "b": 20,
         "l": 20,
         "r": 20,
         "t": 50
        },
        "paper_bgcolor": "rgba(0, 0, 0, 0.1)",
        "plot_bgcolor": "rgba(0, 0, 0, 0)",
        "shapes": [
         {
          "line": {
           "color": "green",
           "dash": "dash"
          },
          "type": "line",
          "x0": 0,
          "x1": 1,
          "xref": "x domain",
          "y0": 0.0000018487764003374,
          "y1": 0.0000018487764003374,
          "yref": "y"
         },
         {
          "line": {
           "color": "red",
           "dash": "dash"
          },
          "type": "line",
          "x0": 0,
          "x1": 1,
          "xref": "x domain",
          "y0": 4.84459014997214e-7,
          "y1": 4.84459014997214e-7,
          "yref": "y"
         },
         {
          "line": {
           "color": "orange",
           "dash": "dash"
          },
          "type": "line",
          "x0": 0,
          "x1": 1,
          "xref": "x domain",
          "y0": 7.184485994118711e-7,
          "y1": 7.184485994118711e-7,
          "yref": "y"
         }
        ],
        "showlegend": true,
        "template": {
         "data": {
          "bar": [
           {
            "error_x": {
             "color": "#f2f5fa"
            },
            "error_y": {
             "color": "#f2f5fa"
            },
            "marker": {
             "line": {
              "color": "rgb(17,17,17)",
              "width": 0.5
             },
             "pattern": {
              "fillmode": "overlay",
              "size": 10,
              "solidity": 0.2
             }
            },
            "type": "bar"
           }
          ],
          "barpolar": [
           {
            "marker": {
             "line": {
              "color": "rgb(17,17,17)",
              "width": 0.5
             },
             "pattern": {
              "fillmode": "overlay",
              "size": 10,
              "solidity": 0.2
             }
            },
            "type": "barpolar"
           }
          ],
          "carpet": [
           {
            "aaxis": {
             "endlinecolor": "#A2B1C6",
             "gridcolor": "#506784",
             "linecolor": "#506784",
             "minorgridcolor": "#506784",
             "startlinecolor": "#A2B1C6"
            },
            "baxis": {
             "endlinecolor": "#A2B1C6",
             "gridcolor": "#506784",
             "linecolor": "#506784",
             "minorgridcolor": "#506784",
             "startlinecolor": "#A2B1C6"
            },
            "type": "carpet"
           }
          ],
          "choropleth": [
           {
            "colorbar": {
             "outlinewidth": 0,
             "ticks": ""
            },
            "type": "choropleth"
           }
          ],
          "contour": [
           {
            "colorbar": {
             "outlinewidth": 0,
             "ticks": ""
            },
            "colorscale": [
             [
              0,
              "#0d0887"
             ],
             [
              0.1111111111111111,
              "#46039f"
             ],
             [
              0.2222222222222222,
              "#7201a8"
             ],
             [
              0.3333333333333333,
              "#9c179e"
             ],
             [
              0.4444444444444444,
              "#bd3786"
             ],
             [
              0.5555555555555556,
              "#d8576b"
             ],
             [
              0.6666666666666666,
              "#ed7953"
             ],
             [
              0.7777777777777778,
              "#fb9f3a"
             ],
             [
              0.8888888888888888,
              "#fdca26"
             ],
             [
              1,
              "#f0f921"
             ]
            ],
            "type": "contour"
           }
          ],
          "contourcarpet": [
           {
            "colorbar": {
             "outlinewidth": 0,
             "ticks": ""
            },
            "type": "contourcarpet"
           }
          ],
          "heatmap": [
           {
            "colorbar": {
             "outlinewidth": 0,
             "ticks": ""
            },
            "colorscale": [
             [
              0,
              "#0d0887"
             ],
             [
              0.1111111111111111,
              "#46039f"
             ],
             [
              0.2222222222222222,
              "#7201a8"
             ],
             [
              0.3333333333333333,
              "#9c179e"
             ],
             [
              0.4444444444444444,
              "#bd3786"
             ],
             [
              0.5555555555555556,
              "#d8576b"
             ],
             [
              0.6666666666666666,
              "#ed7953"
             ],
             [
              0.7777777777777778,
              "#fb9f3a"
             ],
             [
              0.8888888888888888,
              "#fdca26"
             ],
             [
              1,
              "#f0f921"
             ]
            ],
            "type": "heatmap"
           }
          ],
          "heatmapgl": [
           {
            "colorbar": {
             "outlinewidth": 0,
             "ticks": ""
            },
            "colorscale": [
             [
              0,
              "#0d0887"
             ],
             [
              0.1111111111111111,
              "#46039f"
             ],
             [
              0.2222222222222222,
              "#7201a8"
             ],
             [
              0.3333333333333333,
              "#9c179e"
             ],
             [
              0.4444444444444444,
              "#bd3786"
             ],
             [
              0.5555555555555556,
              "#d8576b"
             ],
             [
              0.6666666666666666,
              "#ed7953"
             ],
             [
              0.7777777777777778,
              "#fb9f3a"
             ],
             [
              0.8888888888888888,
              "#fdca26"
             ],
             [
              1,
              "#f0f921"
             ]
            ],
            "type": "heatmapgl"
           }
          ],
          "histogram": [
           {
            "marker": {
             "pattern": {
              "fillmode": "overlay",
              "size": 10,
              "solidity": 0.2
             }
            },
            "type": "histogram"
           }
          ],
          "histogram2d": [
           {
            "colorbar": {
             "outlinewidth": 0,
             "ticks": ""
            },
            "colorscale": [
             [
              0,
              "#0d0887"
             ],
             [
              0.1111111111111111,
              "#46039f"
             ],
             [
              0.2222222222222222,
              "#7201a8"
             ],
             [
              0.3333333333333333,
              "#9c179e"
             ],
             [
              0.4444444444444444,
              "#bd3786"
             ],
             [
              0.5555555555555556,
              "#d8576b"
             ],
             [
              0.6666666666666666,
              "#ed7953"
             ],
             [
              0.7777777777777778,
              "#fb9f3a"
             ],
             [
              0.8888888888888888,
              "#fdca26"
             ],
             [
              1,
              "#f0f921"
             ]
            ],
            "type": "histogram2d"
           }
          ],
          "histogram2dcontour": [
           {
            "colorbar": {
             "outlinewidth": 0,
             "ticks": ""
            },
            "colorscale": [
             [
              0,
              "#0d0887"
             ],
             [
              0.1111111111111111,
              "#46039f"
             ],
             [
              0.2222222222222222,
              "#7201a8"
             ],
             [
              0.3333333333333333,
              "#9c179e"
             ],
             [
              0.4444444444444444,
              "#bd3786"
             ],
             [
              0.5555555555555556,
              "#d8576b"
             ],
             [
              0.6666666666666666,
              "#ed7953"
             ],
             [
              0.7777777777777778,
              "#fb9f3a"
             ],
             [
              0.8888888888888888,
              "#fdca26"
             ],
             [
              1,
              "#f0f921"
             ]
            ],
            "type": "histogram2dcontour"
           }
          ],
          "mesh3d": [
           {
            "colorbar": {
             "outlinewidth": 0,
             "ticks": ""
            },
            "type": "mesh3d"
           }
          ],
          "parcoords": [
           {
            "line": {
             "colorbar": {
              "outlinewidth": 0,
              "ticks": ""
             }
            },
            "type": "parcoords"
           }
          ],
          "pie": [
           {
            "automargin": true,
            "type": "pie"
           }
          ],
          "scatter": [
           {
            "marker": {
             "line": {
              "color": "#283442"
             }
            },
            "type": "scatter"
           }
          ],
          "scatter3d": [
           {
            "line": {
             "colorbar": {
              "outlinewidth": 0,
              "ticks": ""
             }
            },
            "marker": {
             "colorbar": {
              "outlinewidth": 0,
              "ticks": ""
             }
            },
            "type": "scatter3d"
           }
          ],
          "scattercarpet": [
           {
            "marker": {
             "colorbar": {
              "outlinewidth": 0,
              "ticks": ""
             }
            },
            "type": "scattercarpet"
           }
          ],
          "scattergeo": [
           {
            "marker": {
             "colorbar": {
              "outlinewidth": 0,
              "ticks": ""
             }
            },
            "type": "scattergeo"
           }
          ],
          "scattergl": [
           {
            "marker": {
             "line": {
              "color": "#283442"
             }
            },
            "type": "scattergl"
           }
          ],
          "scattermapbox": [
           {
            "marker": {
             "colorbar": {
              "outlinewidth": 0,
              "ticks": ""
             }
            },
            "type": "scattermapbox"
           }
          ],
          "scatterpolar": [
           {
            "marker": {
             "colorbar": {
              "outlinewidth": 0,
              "ticks": ""
             }
            },
            "type": "scatterpolar"
           }
          ],
          "scatterpolargl": [
           {
            "marker": {
             "colorbar": {
              "outlinewidth": 0,
              "ticks": ""
             }
            },
            "type": "scatterpolargl"
           }
          ],
          "scatterternary": [
           {
            "marker": {
             "colorbar": {
              "outlinewidth": 0,
              "ticks": ""
             }
            },
            "type": "scatterternary"
           }
          ],
          "surface": [
           {
            "colorbar": {
             "outlinewidth": 0,
             "ticks": ""
            },
            "colorscale": [
             [
              0,
              "#0d0887"
             ],
             [
              0.1111111111111111,
              "#46039f"
             ],
             [
              0.2222222222222222,
              "#7201a8"
             ],
             [
              0.3333333333333333,
              "#9c179e"
             ],
             [
              0.4444444444444444,
              "#bd3786"
             ],
             [
              0.5555555555555556,
              "#d8576b"
             ],
             [
              0.6666666666666666,
              "#ed7953"
             ],
             [
              0.7777777777777778,
              "#fb9f3a"
             ],
             [
              0.8888888888888888,
              "#fdca26"
             ],
             [
              1,
              "#f0f921"
             ]
            ],
            "type": "surface"
           }
          ],
          "table": [
           {
            "cells": {
             "fill": {
              "color": "#506784"
             },
             "line": {
              "color": "rgb(17,17,17)"
             }
            },
            "header": {
             "fill": {
              "color": "#2a3f5f"
             },
             "line": {
              "color": "rgb(17,17,17)"
             }
            },
            "type": "table"
           }
          ]
         },
         "layout": {
          "annotationdefaults": {
           "arrowcolor": "#f2f5fa",
           "arrowhead": 0,
           "arrowwidth": 1
          },
          "autotypenumbers": "strict",
          "coloraxis": {
           "colorbar": {
            "outlinewidth": 0,
            "ticks": ""
           }
          },
          "colorscale": {
           "diverging": [
            [
             0,
             "#8e0152"
            ],
            [
             0.1,
             "#c51b7d"
            ],
            [
             0.2,
             "#de77ae"
            ],
            [
             0.3,
             "#f1b6da"
            ],
            [
             0.4,
             "#fde0ef"
            ],
            [
             0.5,
             "#f7f7f7"
            ],
            [
             0.6,
             "#e6f5d0"
            ],
            [
             0.7,
             "#b8e186"
            ],
            [
             0.8,
             "#7fbc41"
            ],
            [
             0.9,
             "#4d9221"
            ],
            [
             1,
             "#276419"
            ]
           ],
           "sequential": [
            [
             0,
             "#0d0887"
            ],
            [
             0.1111111111111111,
             "#46039f"
            ],
            [
             0.2222222222222222,
             "#7201a8"
            ],
            [
             0.3333333333333333,
             "#9c179e"
            ],
            [
             0.4444444444444444,
             "#bd3786"
            ],
            [
             0.5555555555555556,
             "#d8576b"
            ],
            [
             0.6666666666666666,
             "#ed7953"
            ],
            [
             0.7777777777777778,
             "#fb9f3a"
            ],
            [
             0.8888888888888888,
             "#fdca26"
            ],
            [
             1,
             "#f0f921"
            ]
           ],
           "sequentialminus": [
            [
             0,
             "#0d0887"
            ],
            [
             0.1111111111111111,
             "#46039f"
            ],
            [
             0.2222222222222222,
             "#7201a8"
            ],
            [
             0.3333333333333333,
             "#9c179e"
            ],
            [
             0.4444444444444444,
             "#bd3786"
            ],
            [
             0.5555555555555556,
             "#d8576b"
            ],
            [
             0.6666666666666666,
             "#ed7953"
            ],
            [
             0.7777777777777778,
             "#fb9f3a"
            ],
            [
             0.8888888888888888,
             "#fdca26"
            ],
            [
             1,
             "#f0f921"
            ]
           ]
          },
          "colorway": [
           "#636efa",
           "#EF553B",
           "#00cc96",
           "#ab63fa",
           "#FFA15A",
           "#19d3f3",
           "#FF6692",
           "#B6E880",
           "#FF97FF",
           "#FECB52"
          ],
          "font": {
           "color": "#f2f5fa"
          },
          "geo": {
           "bgcolor": "rgb(17,17,17)",
           "lakecolor": "rgb(17,17,17)",
           "landcolor": "rgb(17,17,17)",
           "showlakes": true,
           "showland": true,
           "subunitcolor": "#506784"
          },
          "hoverlabel": {
           "align": "left"
          },
          "hovermode": "closest",
          "mapbox": {
           "style": "dark"
          },
          "paper_bgcolor": "rgb(17,17,17)",
          "plot_bgcolor": "rgb(17,17,17)",
          "polar": {
           "angularaxis": {
            "gridcolor": "#506784",
            "linecolor": "#506784",
            "ticks": ""
           },
           "bgcolor": "rgb(17,17,17)",
           "radialaxis": {
            "gridcolor": "#506784",
            "linecolor": "#506784",
            "ticks": ""
           }
          },
          "scene": {
           "xaxis": {
            "backgroundcolor": "rgb(17,17,17)",
            "gridcolor": "#506784",
            "gridwidth": 2,
            "linecolor": "#506784",
            "showbackground": true,
            "ticks": "",
            "zerolinecolor": "#C8D4E3"
           },
           "yaxis": {
            "backgroundcolor": "rgb(17,17,17)",
            "gridcolor": "#506784",
            "gridwidth": 2,
            "linecolor": "#506784",
            "showbackground": true,
            "ticks": "",
            "zerolinecolor": "#C8D4E3"
           },
           "zaxis": {
            "backgroundcolor": "rgb(17,17,17)",
            "gridcolor": "#506784",
            "gridwidth": 2,
            "linecolor": "#506784",
            "showbackground": true,
            "ticks": "",
            "zerolinecolor": "#C8D4E3"
           }
          },
          "shapedefaults": {
           "line": {
            "color": "#f2f5fa"
           }
          },
          "sliderdefaults": {
           "bgcolor": "#C8D4E3",
           "bordercolor": "rgb(17,17,17)",
           "borderwidth": 1,
           "tickwidth": 0
          },
          "ternary": {
           "aaxis": {
            "gridcolor": "#506784",
            "linecolor": "#506784",
            "ticks": ""
           },
           "baxis": {
            "gridcolor": "#506784",
            "linecolor": "#506784",
            "ticks": ""
           },
           "bgcolor": "rgb(17,17,17)",
           "caxis": {
            "gridcolor": "#506784",
            "linecolor": "#506784",
            "ticks": ""
           }
          },
          "title": {
           "x": 0.05
          },
          "updatemenudefaults": {
           "bgcolor": "#506784",
           "borderwidth": 0
          },
          "xaxis": {
           "automargin": true,
           "gridcolor": "#283442",
           "linecolor": "#506784",
           "ticks": "",
           "title": {
            "standoff": 15
           },
           "zerolinecolor": "#283442",
           "zerolinewidth": 2
          },
          "yaxis": {
           "automargin": true,
           "gridcolor": "#283442",
           "linecolor": "#506784",
           "ticks": "",
           "title": {
            "standoff": 15
           },
           "zerolinecolor": "#283442",
           "zerolinewidth": 2
          }
         }
        },
        "title": {
         "text": "WEN/SOL - Price Range and Current Position"
        },
        "width": 1200,
        "xaxis": {
         "rangeslider": {
          "visible": false
         },
         "title": {
          "text": "Date"
         }
        },
        "yaxis": {
         "title": {
          "text": "Price"
         }
        }
       }
      }
     },
     "metadata": {},
     "output_type": "display_data"
    }
   ],
   "source": [
    "potential_positions = []\n",
    "\n",
    "for pool_id, pool_data in pools_data.items():\n",
    "    candle = pool_data[\"candle\"]\n",
    "    metrics = pool_data[\"metrics\"]\n",
    "    fig = candle.fig()\n",
    "    period = metrics['period']\n",
    "    max_price = metrics['max_price']\n",
    "    min_price = metrics['min_price']\n",
    "    current_position = metrics['current_position']\n",
    "    current_price = metrics['current_price']\n",
    "    tick_spacing = pool_data[\"pool\"][\"tick_spacing\"]\n",
    "    if current_position < 0.8 or pd.isna(tick_spacing):\n",
    "        continue\n",
    "    potential_positions.append({\n",
    "        \"base_symbol\": pool_data[\"pool\"][\"base\"],\n",
    "        \"quote_symbol\": pool_data[\"pool\"][\"quote\"],\n",
    "        \"tick_spacing\": int(tick_spacing),\n",
    "        \"lower_price\": str(min_price),\n",
    "        \"upper_price\": str(current_price),\n",
    "        \"number_of_positions\": 1,\n",
    "    })\n",
    "    # Add horizontal lines for max price, min price, and current position\n",
    "    fig.add_hline(y=max_price, line_dash=\"dash\", line_color=\"green\", annotation_text=f\"Max Price ({period})\", annotation_position=\"right\")\n",
    "    fig.add_hline(y=min_price, line_dash=\"dash\", line_color=\"red\", annotation_text=f\"Min Price ({period})\", annotation_position=\"right\")\n",
    "    fig.add_hline(y=current_price, line_dash=\"dash\", line_color=\"orange\", annotation_text=f\"Current Position ({current_position})\", annotation_position=\"right\")\n",
    "\n",
    "    fig.update_layout(title=f\"{candle.trading_pair} - Price Range and Current Position\",\n",
    "                      xaxis_title=\"Date\",\n",
    "                      yaxis_title=\"Price\",\n",
    "                      showlegend=True)\n",
    "\n",
    "    fig.show()\n"
   ]
  },
  {
   "cell_type": "code",
   "execution_count": 81,
   "metadata": {},
   "outputs": [
    {
     "data": {
      "text/plain": [
       "[{'base_symbol': 'MOBILE',\n",
       "  'quote_symbol': 'SOL',\n",
       "  'tick_spacing': 16,\n",
       "  'lower_price': '6.18706991514442e-06',\n",
       "  'upper_price': '6.630856608617993e-06',\n",
       "  'number_of_positions': 1},\n",
       " {'base_symbol': 'BILLY',\n",
       "  'quote_symbol': 'SOL',\n",
       "  'tick_spacing': 128,\n",
       "  'lower_price': '0.000114572451344222',\n",
       "  'upper_price': '0.0002546411163651981',\n",
       "  'number_of_positions': 1},\n",
       " {'base_symbol': 'GINNAN',\n",
       "  'quote_symbol': 'SOL',\n",
       "  'tick_spacing': 128,\n",
       "  'lower_price': '1.03340670221593e-08',\n",
       "  'upper_price': '1.475654817086934e-08',\n",
       "  'number_of_positions': 1},\n",
       " {'base_symbol': 'CROWN',\n",
       "  'quote_symbol': 'SOL',\n",
       "  'tick_spacing': 64,\n",
       "  'lower_price': '0.00164128692801621',\n",
       "  'upper_price': '0.002804966074436767',\n",
       "  'number_of_positions': 1},\n",
       " {'base_symbol': 'PENG',\n",
       "  'quote_symbol': 'SOL',\n",
       "  'tick_spacing': 128,\n",
       "  'lower_price': '0.000675922712216715',\n",
       "  'upper_price': '0.001474279990032614',\n",
       "  'number_of_positions': 1},\n",
       " {'base_symbol': 'WEN',\n",
       "  'quote_symbol': 'SOL',\n",
       "  'tick_spacing': 16,\n",
       "  'lower_price': '4.84459014997214e-07',\n",
       "  'upper_price': '7.184485994118711e-07',\n",
       "  'number_of_positions': 1}]"
      ]
     },
     "execution_count": 81,
     "metadata": {},
     "output_type": "execute_result"
    }
   ],
   "source": [
    "potential_positions"
   ]
  },
  {
   "cell_type": "code",
   "execution_count": 47,
   "metadata": {},
   "outputs": [],
   "source": [
    "# position_bundle = await client.create_orca_position_bundle()"
   ]
  },
  {
   "cell_type": "code",
   "execution_count": 82,
   "metadata": {},
   "outputs": [
    {
     "data": {
      "text/plain": [
       "{'signature': '2b425QzrCUnCVRWFP2HuBz1e6DksM7ZAuizWmKmNzqzgLHfjKRm226FX6i2ep2ikcFWh3RDReBp913SQtLQrNtDn',\n",
       " 'positionBundleMint': '4oo3ZiUTEZ8A5DBFJBp2Co3t5bqXtTfXf8uJFPPT2Qfm',\n",
       " 'positionBundleAddress': '8REd2q8W3kTKsjZXLX6sktqL9KXbEmfrRfnSU1Sr4SNM'}"
      ]
     },
     "execution_count": 82,
     "metadata": {},
     "output_type": "execute_result"
    }
   ],
   "source": [
    "position_bundle"
   ]
  },
  {
   "cell_type": "code",
   "execution_count": 70,
   "metadata": {},
   "outputs": [
    {
     "data": {
      "text/html": [
       "<div>\n",
       "<style scoped>\n",
       "    .dataframe tbody tr th:only-of-type {\n",
       "        vertical-align: middle;\n",
       "    }\n",
       "\n",
       "    .dataframe tbody tr th {\n",
       "        vertical-align: top;\n",
       "    }\n",
       "\n",
       "    .dataframe thead th {\n",
       "        text-align: right;\n",
       "    }\n",
       "</style>\n",
       "<table border=\"1\" class=\"dataframe\">\n",
       "  <thead>\n",
       "    <tr style=\"text-align: right;\">\n",
       "      <th></th>\n",
       "      <th>id</th>\n",
       "      <th>type</th>\n",
       "      <th>name</th>\n",
       "      <th>base_token_price_usd</th>\n",
       "      <th>base_token_price_native_currency</th>\n",
       "      <th>quote_token_price_usd</th>\n",
       "      <th>quote_token_price_native_currency</th>\n",
       "      <th>address</th>\n",
       "      <th>reserve_in_usd</th>\n",
       "      <th>pool_created_at</th>\n",
       "      <th>...</th>\n",
       "      <th>volume_usd_h24</th>\n",
       "      <th>dex_id</th>\n",
       "      <th>base_token_id</th>\n",
       "      <th>quote_token_id</th>\n",
       "      <th>base</th>\n",
       "      <th>quote</th>\n",
       "      <th>volume_liquidity_ratio</th>\n",
       "      <th>fee_rate</th>\n",
       "      <th>tick_spacing</th>\n",
       "      <th>liquidity</th>\n",
       "    </tr>\n",
       "  </thead>\n",
       "  <tbody>\n",
       "    <tr>\n",
       "      <th>119</th>\n",
       "      <td>solana_9qyqY3BPfc2Ex9BktiZhDJwfqVHChHXwTQpFNH1...</td>\n",
       "      <td>pool</td>\n",
       "      <td>GINNAN / SOL</td>\n",
       "      <td>0.00000201907665288414305644277112080465655945...</td>\n",
       "      <td>0.00000001397897482273685894123435307290850769...</td>\n",
       "      <td>146.725566396059365079484970097803677653801263...</td>\n",
       "      <td>1.0</td>\n",
       "      <td>9qyqY3BPfc2Ex9BktiZhDJwfqVHChHXwTQpFNH136psy</td>\n",
       "      <td>4.896574e+04</td>\n",
       "      <td>2024-07-29 07:26:00</td>\n",
       "      <td>...</td>\n",
       "      <td>1.706224e+05</td>\n",
       "      <td>orca</td>\n",
       "      <td>solana_GinNabffZL4fUj9Vactxha74GDAW8kDPGaHqMtM...</td>\n",
       "      <td>solana_So1111111111111111111111111111111111111...</td>\n",
       "      <td>GINNAN</td>\n",
       "      <td>SOL</td>\n",
       "      <td>3.484526</td>\n",
       "      <td>100.0</td>\n",
       "      <td>128.0</td>\n",
       "      <td>182012584168488</td>\n",
       "    </tr>\n",
       "    <tr>\n",
       "      <th>99</th>\n",
       "      <td>solana_8kVPz3px43yiCysesi91jGpEtzjc5AzNATRPQev...</td>\n",
       "      <td>pool</td>\n",
       "      <td>alpha / SOL</td>\n",
       "      <td>0.00784715344053132344724145065400961706309723...</td>\n",
       "      <td>0.000053606106370048034825891</td>\n",
       "      <td>146.732280530450560626080011116018309037105542...</td>\n",
       "      <td>1.0</td>\n",
       "      <td>8kVPz3px43yiCysesi91jGpEtzjc5AzNATRPQevhuB8p</td>\n",
       "      <td>5.443087e+04</td>\n",
       "      <td>2024-09-22 23:22:28</td>\n",
       "      <td>...</td>\n",
       "      <td>1.733381e+05</td>\n",
       "      <td>orca</td>\n",
       "      <td>solana_2zrH2jE542mzB4HABgBjdWMQPtNC5H12pwo1iLp...</td>\n",
       "      <td>solana_So1111111111111111111111111111111111111...</td>\n",
       "      <td>alpha</td>\n",
       "      <td>SOL</td>\n",
       "      <td>3.184555</td>\n",
       "      <td>NaN</td>\n",
       "      <td>NaN</td>\n",
       "      <td>None</td>\n",
       "    </tr>\n",
       "    <tr>\n",
       "      <th>13</th>\n",
       "      <td>solana_6P1JbEwYEaXZBP9skhXpZZaaHqbXvd8VwdqNUsk...</td>\n",
       "      <td>pool</td>\n",
       "      <td>ZYN / SOL</td>\n",
       "      <td>0.09129610520601853459086206860103563835262490...</td>\n",
       "      <td>0.000626204201716053</td>\n",
       "      <td>146.739111259193053479398442339674264916237291...</td>\n",
       "      <td>1.0</td>\n",
       "      <td>6P1JbEwYEaXZBP9skhXpZZaaHqbXvd8VwdqNUsk9QkPU</td>\n",
       "      <td>7.973046e+05</td>\n",
       "      <td>2024-03-11 13:23:03</td>\n",
       "      <td>...</td>\n",
       "      <td>2.107711e+06</td>\n",
       "      <td>orca</td>\n",
       "      <td>solana_PzuaVAUH2tfxGZcbBR6kMxeJsBngnsPLFotGJNC...</td>\n",
       "      <td>solana_So1111111111111111111111111111111111111...</td>\n",
       "      <td>ZYN</td>\n",
       "      <td>SOL</td>\n",
       "      <td>2.643546</td>\n",
       "      <td>30.0</td>\n",
       "      <td>64.0</td>\n",
       "      <td>50987667210894</td>\n",
       "    </tr>\n",
       "    <tr>\n",
       "      <th>117</th>\n",
       "      <td>solana_8JptKdcwKdARFFfAy4SJtx9j1fMoFyYnGPh4LGq...</td>\n",
       "      <td>pool</td>\n",
       "      <td>🐕 / SOL</td>\n",
       "      <td>0.00889117693625007110685583278777302083371626...</td>\n",
       "      <td>0.000059788023089860257204269</td>\n",
       "      <td>146.648456580026077921291134202224812329421764...</td>\n",
       "      <td>1.0</td>\n",
       "      <td>8JptKdcwKdARFFfAy4SJtx9j1fMoFyYnGPh4LGqG2pRL</td>\n",
       "      <td>4.512132e+04</td>\n",
       "      <td>2024-10-02 03:28:01</td>\n",
       "      <td>...</td>\n",
       "      <td>1.157516e+05</td>\n",
       "      <td>orca</td>\n",
       "      <td>solana_DLScRnWofxiYGqnvZWGy9Gt98MPqKdznaK4TRuk...</td>\n",
       "      <td>solana_So1111111111111111111111111111111111111...</td>\n",
       "      <td>🐕</td>\n",
       "      <td>SOL</td>\n",
       "      <td>2.565341</td>\n",
       "      <td>NaN</td>\n",
       "      <td>NaN</td>\n",
       "      <td>None</td>\n",
       "    </tr>\n",
       "    <tr>\n",
       "      <th>181</th>\n",
       "      <td>solana_HU4mukYu86NQBg5XW3FwVUu3Y5oFResowkeUryi...</td>\n",
       "      <td>pool</td>\n",
       "      <td>LOCKIN / SOL</td>\n",
       "      <td>0.05201197847995445653981654850727835935421211...</td>\n",
       "      <td>0.000352654636578887232381281</td>\n",
       "      <td>146.739111259193053479398442339674264916237291...</td>\n",
       "      <td>1.0</td>\n",
       "      <td>HU4mukYu86NQBg5XW3FwVUu3Y5oFResowkeUryi8D6eN</td>\n",
       "      <td>7.721142e+04</td>\n",
       "      <td>2024-06-03 03:58:28</td>\n",
       "      <td>...</td>\n",
       "      <td>1.794425e+05</td>\n",
       "      <td>orca</td>\n",
       "      <td>solana_8Ki8DpuWNxu9VsS3kQbarsCWMcFGWkzzA8pUPto...</td>\n",
       "      <td>solana_So1111111111111111111111111111111111111...</td>\n",
       "      <td>LOCKIN</td>\n",
       "      <td>SOL</td>\n",
       "      <td>2.324041</td>\n",
       "      <td>100.0</td>\n",
       "      <td>128.0</td>\n",
       "      <td>67455201365791</td>\n",
       "    </tr>\n",
       "    <tr>\n",
       "      <th>111</th>\n",
       "      <td>solana_9BTidgAt1T18SSr1x9Xetig3gLCE7D1AMyssXMK...</td>\n",
       "      <td>pool</td>\n",
       "      <td>PENG / SOL</td>\n",
       "      <td>0.20708209453997984526587778824359333362437546...</td>\n",
       "      <td>0.001441236814483954133129748</td>\n",
       "      <td>146.689751553117249617468185513180043171872754...</td>\n",
       "      <td>1.0</td>\n",
       "      <td>9BTidgAt1T18SSr1x9Xetig3gLCE7D1AMyssXMKJCLKh</td>\n",
       "      <td>6.759658e+04</td>\n",
       "      <td>2024-03-13 10:03:03</td>\n",
       "      <td>...</td>\n",
       "      <td>1.525771e+05</td>\n",
       "      <td>orca</td>\n",
       "      <td>solana_A3eME5CetyZPBoWbRUwY3tSe25S6tb18ba9ZPbW...</td>\n",
       "      <td>solana_So1111111111111111111111111111111111111...</td>\n",
       "      <td>PENG</td>\n",
       "      <td>SOL</td>\n",
       "      <td>2.257171</td>\n",
       "      <td>100.0</td>\n",
       "      <td>128.0</td>\n",
       "      <td>444721099312</td>\n",
       "    </tr>\n",
       "    <tr>\n",
       "      <th>44</th>\n",
       "      <td>solana_8S24t7whcEUn8VuBRXwritKRy27NfdSWLrRz5gw...</td>\n",
       "      <td>pool</td>\n",
       "      <td>MOBILE / SOL</td>\n",
       "      <td>0.00097378354785851562424421539362921179373073...</td>\n",
       "      <td>0.00000657673097721939</td>\n",
       "      <td>146.739111259193053479398442339674264916237291...</td>\n",
       "      <td>1.0</td>\n",
       "      <td>8S24t7whcEUn8VuBRXwritKRy27NfdSWLrRz5gwQXJ9f</td>\n",
       "      <td>1.089048e+05</td>\n",
       "      <td>2024-02-13 04:33:03</td>\n",
       "      <td>...</td>\n",
       "      <td>2.253199e+05</td>\n",
       "      <td>orca</td>\n",
       "      <td>solana_mb1eu7TzEc71KxDpsmsKoucSSuuoGLv1drys1oP...</td>\n",
       "      <td>solana_So1111111111111111111111111111111111111...</td>\n",
       "      <td>MOBILE</td>\n",
       "      <td>SOL</td>\n",
       "      <td>2.068963</td>\n",
       "      <td>16.0</td>\n",
       "      <td>16.0</td>\n",
       "      <td>45225947384185</td>\n",
       "    </tr>\n",
       "    <tr>\n",
       "      <th>138</th>\n",
       "      <td>solana_AGsEkdwzLMDdTzjnHPv2QdKbXhcUfG9udDdauWH...</td>\n",
       "      <td>pool</td>\n",
       "      <td>SIGMA / SOL</td>\n",
       "      <td>0.08416929297022537107226046030097955762608311...</td>\n",
       "      <td>0.000594766227056278337851095</td>\n",
       "      <td>146.739111259193053479398442339674264916237291...</td>\n",
       "      <td>1.0</td>\n",
       "      <td>AGsEkdwzLMDdTzjnHPv2QdKbXhcUfG9udDdauWH1E7kk</td>\n",
       "      <td>2.999367e+05</td>\n",
       "      <td>2024-07-12 20:52:59</td>\n",
       "      <td>...</td>\n",
       "      <td>5.606902e+05</td>\n",
       "      <td>orca</td>\n",
       "      <td>solana_5SVG3T9CNQsm2kEwzbRq6hASqh1oGfjqTtLXYUi...</td>\n",
       "      <td>solana_So1111111111111111111111111111111111111...</td>\n",
       "      <td>SIGMA</td>\n",
       "      <td>SOL</td>\n",
       "      <td>1.869362</td>\n",
       "      <td>200.0</td>\n",
       "      <td>256.0</td>\n",
       "      <td>7386736183406</td>\n",
       "    </tr>\n",
       "    <tr>\n",
       "      <th>25</th>\n",
       "      <td>solana_7BZzoP3QB2zK3R7WqRzjS5fpeeErgdy3HGzxXrN...</td>\n",
       "      <td>pool</td>\n",
       "      <td>WEN / SOL</td>\n",
       "      <td>0.00010525310070475697426025234324636951763306...</td>\n",
       "      <td>0.000000707592621294964</td>\n",
       "      <td>146.725566396059365079484970097803677653801263...</td>\n",
       "      <td>1.0</td>\n",
       "      <td>7BZzoP3QB2zK3R7WqRzjS5fpeeErgdy3HGzxXrN97aEY</td>\n",
       "      <td>3.397690e+05</td>\n",
       "      <td>2024-01-26 16:03:04</td>\n",
       "      <td>...</td>\n",
       "      <td>6.303152e+05</td>\n",
       "      <td>orca</td>\n",
       "      <td>solana_WENWENvqqNya429ubCdR81ZmD69brwQaaBYY6p3...</td>\n",
       "      <td>solana_So1111111111111111111111111111111111111...</td>\n",
       "      <td>WEN</td>\n",
       "      <td>SOL</td>\n",
       "      <td>1.855129</td>\n",
       "      <td>16.0</td>\n",
       "      <td>16.0</td>\n",
       "      <td>64673518864541</td>\n",
       "    </tr>\n",
       "    <tr>\n",
       "      <th>60</th>\n",
       "      <td>solana_369QdoDGUhHU2FzNNBcnk8BztwTYtKAo1fAKNvF...</td>\n",
       "      <td>pool</td>\n",
       "      <td>SILLY / SOL</td>\n",
       "      <td>0.02283073108196366247853395382521511313099202...</td>\n",
       "      <td>0.000155185800602711024548357</td>\n",
       "      <td>146.725566396059365079484970097803677653801263...</td>\n",
       "      <td>1.0</td>\n",
       "      <td>369QdoDGUhHU2FzNNBcnk8BztwTYtKAo1fAKNvFoW5BE</td>\n",
       "      <td>1.778153e+05</td>\n",
       "      <td>2023-12-16 05:03:03</td>\n",
       "      <td>...</td>\n",
       "      <td>2.755357e+05</td>\n",
       "      <td>orca</td>\n",
       "      <td>solana_7EYnhQoR9YM3N7UoaKRoA44Uy8JeaZV3qyouov8...</td>\n",
       "      <td>solana_So1111111111111111111111111111111111111...</td>\n",
       "      <td>SILLY</td>\n",
       "      <td>SOL</td>\n",
       "      <td>1.549562</td>\n",
       "      <td>100.0</td>\n",
       "      <td>128.0</td>\n",
       "      <td>56850681944439</td>\n",
       "    </tr>\n",
       "    <tr>\n",
       "      <th>179</th>\n",
       "      <td>solana_2TmgxdB26y653ty5P9bmaMbp2axqwfbdjV1ii3p...</td>\n",
       "      <td>pool</td>\n",
       "      <td>PESTO / SOL</td>\n",
       "      <td>0.00380995989684199120210313964790046724521554...</td>\n",
       "      <td>0.00002592331975871090529263</td>\n",
       "      <td>146.732280530450560626080011116018309037105542...</td>\n",
       "      <td>1.0</td>\n",
       "      <td>2TmgxdB26y653ty5P9bmaMbp2axqwfbdjV1ii3pcvC29</td>\n",
       "      <td>1.588099e+05</td>\n",
       "      <td>2024-09-21 16:00:00</td>\n",
       "      <td>...</td>\n",
       "      <td>1.709379e+05</td>\n",
       "      <td>orca</td>\n",
       "      <td>solana_34a8ALsPmbWxp7D3bQ6erERrCLz1ahr6u6o66Ud...</td>\n",
       "      <td>solana_So1111111111111111111111111111111111111...</td>\n",
       "      <td>PESTO</td>\n",
       "      <td>SOL</td>\n",
       "      <td>1.076368</td>\n",
       "      <td>NaN</td>\n",
       "      <td>NaN</td>\n",
       "      <td>None</td>\n",
       "    </tr>\n",
       "    <tr>\n",
       "      <th>152</th>\n",
       "      <td>solana_66EJHtNydK1icLA1Zq21LwGwnqkZzmuuWLf495a...</td>\n",
       "      <td>pool</td>\n",
       "      <td>BILLY / SOL</td>\n",
       "      <td>0.03738804712604944588398148471785788176498950...</td>\n",
       "      <td>0.000258415971613105122319547</td>\n",
       "      <td>146.725566396059365079484970097803677653801263...</td>\n",
       "      <td>1.0</td>\n",
       "      <td>66EJHtNydK1icLA1Zq21LwGwnqkZzmuuWLf495aN4mnX</td>\n",
       "      <td>3.312919e+05</td>\n",
       "      <td>2024-06-19 00:01:08</td>\n",
       "      <td>...</td>\n",
       "      <td>3.169504e+05</td>\n",
       "      <td>orca</td>\n",
       "      <td>solana_3B5wuUrMEi5yATD7on46hKfej3pfmd7t1RKgrsN...</td>\n",
       "      <td>solana_So1111111111111111111111111111111111111...</td>\n",
       "      <td>BILLY</td>\n",
       "      <td>SOL</td>\n",
       "      <td>0.956710</td>\n",
       "      <td>100.0</td>\n",
       "      <td>128.0</td>\n",
       "      <td>7830288908079</td>\n",
       "    </tr>\n",
       "    <tr>\n",
       "      <th>42</th>\n",
       "      <td>solana_DxD41srN8Xk9QfYjdNXF9tTnP6qQxeF2bZF8s1e...</td>\n",
       "      <td>pool</td>\n",
       "      <td>INF / SOL</td>\n",
       "      <td>181.972607027046650434111354524163053185519002...</td>\n",
       "      <td>1.24046863824874</td>\n",
       "      <td>146.726005418212675936683979623555148389668307...</td>\n",
       "      <td>1.0</td>\n",
       "      <td>DxD41srN8Xk9QfYjdNXF9tTnP6qQxeF2bZF8s1eN62Pe</td>\n",
       "      <td>3.153255e+06</td>\n",
       "      <td>2023-07-05 14:40:02</td>\n",
       "      <td>...</td>\n",
       "      <td>2.481360e+06</td>\n",
       "      <td>orca</td>\n",
       "      <td>solana_5oVNBeEEQvYi1cX3ir8Dx5n1P7pdxydbGF2X4Tx...</td>\n",
       "      <td>solana_So1111111111111111111111111111111111111...</td>\n",
       "      <td>INF</td>\n",
       "      <td>SOL</td>\n",
       "      <td>0.786920</td>\n",
       "      <td>1.0</td>\n",
       "      <td>1.0</td>\n",
       "      <td>16469271234632568</td>\n",
       "    </tr>\n",
       "    <tr>\n",
       "      <th>159</th>\n",
       "      <td>solana_7B12MDALsnmgLeqxGfJDeLUuPvkekHNyA9rvXEg...</td>\n",
       "      <td>pool</td>\n",
       "      <td>GIKO / SOL</td>\n",
       "      <td>4.67979860236581325152475245183041219529464010...</td>\n",
       "      <td>0.032053153700411826599097479</td>\n",
       "      <td>146.739111259193053479398442339674264916237291...</td>\n",
       "      <td>1.0</td>\n",
       "      <td>7B12MDALsnmgLeqxGfJDeLUuPvkekHNyA9rvXEgnQ7bj</td>\n",
       "      <td>1.832767e+05</td>\n",
       "      <td>2024-05-02 07:27:32</td>\n",
       "      <td>...</td>\n",
       "      <td>1.258123e+05</td>\n",
       "      <td>orca</td>\n",
       "      <td>solana_3WPep4ufaToK1aS5s8BL9inzeUrt4DYaQCiic6Z...</td>\n",
       "      <td>solana_So1111111111111111111111111111111111111...</td>\n",
       "      <td>GIKO</td>\n",
       "      <td>SOL</td>\n",
       "      <td>0.686461</td>\n",
       "      <td>100.0</td>\n",
       "      <td>128.0</td>\n",
       "      <td>5049875057866</td>\n",
       "    </tr>\n",
       "    <tr>\n",
       "      <th>72</th>\n",
       "      <td>solana_GgvEV7WiEM9t7xobkBUw54x5XSXZH9mZ1vf43hC...</td>\n",
       "      <td>pool</td>\n",
       "      <td>CROWN / SOL</td>\n",
       "      <td>0.41333564540780836620345353846353469313614780...</td>\n",
       "      <td>0.00281702855989542</td>\n",
       "      <td>146.725566396059365079484970097803677653801263...</td>\n",
       "      <td>1.0</td>\n",
       "      <td>GgvEV7WiEM9t7xobkBUw54x5XSXZH9mZ1vf43hCmrVyX</td>\n",
       "      <td>7.812855e+05</td>\n",
       "      <td>2023-07-05 14:42:01</td>\n",
       "      <td>...</td>\n",
       "      <td>2.686252e+05</td>\n",
       "      <td>orca</td>\n",
       "      <td>solana_GDfnEsia2WLAW5t8yx2X5j2mkfA74i5kwGdDuZH...</td>\n",
       "      <td>solana_So1111111111111111111111111111111111111...</td>\n",
       "      <td>CROWN</td>\n",
       "      <td>SOL</td>\n",
       "      <td>0.343825</td>\n",
       "      <td>30.0</td>\n",
       "      <td>64.0</td>\n",
       "      <td>112080622027548</td>\n",
       "    </tr>\n",
       "    <tr>\n",
       "      <th>169</th>\n",
       "      <td>solana_4ZPYGoax8uz1LTciwf58gqtFKmk1t3oqwm6aSTd...</td>\n",
       "      <td>pool</td>\n",
       "      <td>MOTHER / SOL</td>\n",
       "      <td>0.07932026358249208697530369369194976878658892...</td>\n",
       "      <td>0.000537092148430761720420965</td>\n",
       "      <td>146.732280530450560626080011116018309037105542...</td>\n",
       "      <td>1.0</td>\n",
       "      <td>4ZPYGoax8uz1LTciwf58gqtFKmk1t3oqwm6aSTdkWZ4D</td>\n",
       "      <td>8.096882e+05</td>\n",
       "      <td>2024-05-29 00:47:42</td>\n",
       "      <td>...</td>\n",
       "      <td>2.686774e+05</td>\n",
       "      <td>orca</td>\n",
       "      <td>solana_3S8qX1MsMqRbiwKg2cQyx7nis1oHMgaCuc9c4Vf...</td>\n",
       "      <td>solana_So1111111111111111111111111111111111111...</td>\n",
       "      <td>MOTHER</td>\n",
       "      <td>SOL</td>\n",
       "      <td>0.331828</td>\n",
       "      <td>100.0</td>\n",
       "      <td>128.0</td>\n",
       "      <td>18358212559636</td>\n",
       "    </tr>\n",
       "    <tr>\n",
       "      <th>182</th>\n",
       "      <td>solana_ALUvp16ecvkD9JD7Hbc2ocecBtE9comyH52zAs2...</td>\n",
       "      <td>pool</td>\n",
       "      <td>hubSOL / SOL</td>\n",
       "      <td>153.055919342768891110354516874887681316597975...</td>\n",
       "      <td>1.04314388180425</td>\n",
       "      <td>146.725566396059365079484970097803677653801263...</td>\n",
       "      <td>1.0</td>\n",
       "      <td>ALUvp16ecvkD9JD7Hbc2ocecBtE9comyH52zAs2ZWNk9</td>\n",
       "      <td>6.018690e+05</td>\n",
       "      <td>2024-08-19 09:50:00</td>\n",
       "      <td>...</td>\n",
       "      <td>1.671525e+05</td>\n",
       "      <td>orca</td>\n",
       "      <td>solana_HUBsveNpjo5pWqNkH57QzxjQASdTVXcSK7bVKTS...</td>\n",
       "      <td>solana_So1111111111111111111111111111111111111...</td>\n",
       "      <td>hubSOL</td>\n",
       "      <td>SOL</td>\n",
       "      <td>0.277722</td>\n",
       "      <td>1.0</td>\n",
       "      <td>1.0</td>\n",
       "      <td>4228548816057651</td>\n",
       "    </tr>\n",
       "  </tbody>\n",
       "</table>\n",
       "<p>17 rows × 28 columns</p>\n",
       "</div>"
      ],
      "text/plain": [
       "                                                    id  type          name  \\\n",
       "119  solana_9qyqY3BPfc2Ex9BktiZhDJwfqVHChHXwTQpFNH1...  pool  GINNAN / SOL   \n",
       "99   solana_8kVPz3px43yiCysesi91jGpEtzjc5AzNATRPQev...  pool   alpha / SOL   \n",
       "13   solana_6P1JbEwYEaXZBP9skhXpZZaaHqbXvd8VwdqNUsk...  pool     ZYN / SOL   \n",
       "117  solana_8JptKdcwKdARFFfAy4SJtx9j1fMoFyYnGPh4LGq...  pool       🐕 / SOL   \n",
       "181  solana_HU4mukYu86NQBg5XW3FwVUu3Y5oFResowkeUryi...  pool  LOCKIN / SOL   \n",
       "111  solana_9BTidgAt1T18SSr1x9Xetig3gLCE7D1AMyssXMK...  pool    PENG / SOL   \n",
       "44   solana_8S24t7whcEUn8VuBRXwritKRy27NfdSWLrRz5gw...  pool  MOBILE / SOL   \n",
       "138  solana_AGsEkdwzLMDdTzjnHPv2QdKbXhcUfG9udDdauWH...  pool   SIGMA / SOL   \n",
       "25   solana_7BZzoP3QB2zK3R7WqRzjS5fpeeErgdy3HGzxXrN...  pool     WEN / SOL   \n",
       "60   solana_369QdoDGUhHU2FzNNBcnk8BztwTYtKAo1fAKNvF...  pool   SILLY / SOL   \n",
       "179  solana_2TmgxdB26y653ty5P9bmaMbp2axqwfbdjV1ii3p...  pool   PESTO / SOL   \n",
       "152  solana_66EJHtNydK1icLA1Zq21LwGwnqkZzmuuWLf495a...  pool   BILLY / SOL   \n",
       "42   solana_DxD41srN8Xk9QfYjdNXF9tTnP6qQxeF2bZF8s1e...  pool     INF / SOL   \n",
       "159  solana_7B12MDALsnmgLeqxGfJDeLUuPvkekHNyA9rvXEg...  pool    GIKO / SOL   \n",
       "72   solana_GgvEV7WiEM9t7xobkBUw54x5XSXZH9mZ1vf43hC...  pool   CROWN / SOL   \n",
       "169  solana_4ZPYGoax8uz1LTciwf58gqtFKmk1t3oqwm6aSTd...  pool  MOTHER / SOL   \n",
       "182  solana_ALUvp16ecvkD9JD7Hbc2ocecBtE9comyH52zAs2...  pool  hubSOL / SOL   \n",
       "\n",
       "                                  base_token_price_usd  \\\n",
       "119  0.00000201907665288414305644277112080465655945...   \n",
       "99   0.00784715344053132344724145065400961706309723...   \n",
       "13   0.09129610520601853459086206860103563835262490...   \n",
       "117  0.00889117693625007110685583278777302083371626...   \n",
       "181  0.05201197847995445653981654850727835935421211...   \n",
       "111  0.20708209453997984526587778824359333362437546...   \n",
       "44   0.00097378354785851562424421539362921179373073...   \n",
       "138  0.08416929297022537107226046030097955762608311...   \n",
       "25   0.00010525310070475697426025234324636951763306...   \n",
       "60   0.02283073108196366247853395382521511313099202...   \n",
       "179  0.00380995989684199120210313964790046724521554...   \n",
       "152  0.03738804712604944588398148471785788176498950...   \n",
       "42   181.972607027046650434111354524163053185519002...   \n",
       "159  4.67979860236581325152475245183041219529464010...   \n",
       "72   0.41333564540780836620345353846353469313614780...   \n",
       "169  0.07932026358249208697530369369194976878658892...   \n",
       "182  153.055919342768891110354516874887681316597975...   \n",
       "\n",
       "                      base_token_price_native_currency  \\\n",
       "119  0.00000001397897482273685894123435307290850769...   \n",
       "99                       0.000053606106370048034825891   \n",
       "13                                0.000626204201716053   \n",
       "117                      0.000059788023089860257204269   \n",
       "181                      0.000352654636578887232381281   \n",
       "111                      0.001441236814483954133129748   \n",
       "44                              0.00000657673097721939   \n",
       "138                      0.000594766227056278337851095   \n",
       "25                             0.000000707592621294964   \n",
       "60                       0.000155185800602711024548357   \n",
       "179                       0.00002592331975871090529263   \n",
       "152                      0.000258415971613105122319547   \n",
       "42                                    1.24046863824874   \n",
       "159                      0.032053153700411826599097479   \n",
       "72                                 0.00281702855989542   \n",
       "169                      0.000537092148430761720420965   \n",
       "182                                   1.04314388180425   \n",
       "\n",
       "                                 quote_token_price_usd  \\\n",
       "119  146.725566396059365079484970097803677653801263...   \n",
       "99   146.732280530450560626080011116018309037105542...   \n",
       "13   146.739111259193053479398442339674264916237291...   \n",
       "117  146.648456580026077921291134202224812329421764...   \n",
       "181  146.739111259193053479398442339674264916237291...   \n",
       "111  146.689751553117249617468185513180043171872754...   \n",
       "44   146.739111259193053479398442339674264916237291...   \n",
       "138  146.739111259193053479398442339674264916237291...   \n",
       "25   146.725566396059365079484970097803677653801263...   \n",
       "60   146.725566396059365079484970097803677653801263...   \n",
       "179  146.732280530450560626080011116018309037105542...   \n",
       "152  146.725566396059365079484970097803677653801263...   \n",
       "42   146.726005418212675936683979623555148389668307...   \n",
       "159  146.739111259193053479398442339674264916237291...   \n",
       "72   146.725566396059365079484970097803677653801263...   \n",
       "169  146.732280530450560626080011116018309037105542...   \n",
       "182  146.725566396059365079484970097803677653801263...   \n",
       "\n",
       "    quote_token_price_native_currency  \\\n",
       "119                               1.0   \n",
       "99                                1.0   \n",
       "13                                1.0   \n",
       "117                               1.0   \n",
       "181                               1.0   \n",
       "111                               1.0   \n",
       "44                                1.0   \n",
       "138                               1.0   \n",
       "25                                1.0   \n",
       "60                                1.0   \n",
       "179                               1.0   \n",
       "152                               1.0   \n",
       "42                                1.0   \n",
       "159                               1.0   \n",
       "72                                1.0   \n",
       "169                               1.0   \n",
       "182                               1.0   \n",
       "\n",
       "                                          address  reserve_in_usd  \\\n",
       "119  9qyqY3BPfc2Ex9BktiZhDJwfqVHChHXwTQpFNH136psy    4.896574e+04   \n",
       "99   8kVPz3px43yiCysesi91jGpEtzjc5AzNATRPQevhuB8p    5.443087e+04   \n",
       "13   6P1JbEwYEaXZBP9skhXpZZaaHqbXvd8VwdqNUsk9QkPU    7.973046e+05   \n",
       "117  8JptKdcwKdARFFfAy4SJtx9j1fMoFyYnGPh4LGqG2pRL    4.512132e+04   \n",
       "181  HU4mukYu86NQBg5XW3FwVUu3Y5oFResowkeUryi8D6eN    7.721142e+04   \n",
       "111  9BTidgAt1T18SSr1x9Xetig3gLCE7D1AMyssXMKJCLKh    6.759658e+04   \n",
       "44   8S24t7whcEUn8VuBRXwritKRy27NfdSWLrRz5gwQXJ9f    1.089048e+05   \n",
       "138  AGsEkdwzLMDdTzjnHPv2QdKbXhcUfG9udDdauWH1E7kk    2.999367e+05   \n",
       "25   7BZzoP3QB2zK3R7WqRzjS5fpeeErgdy3HGzxXrN97aEY    3.397690e+05   \n",
       "60   369QdoDGUhHU2FzNNBcnk8BztwTYtKAo1fAKNvFoW5BE    1.778153e+05   \n",
       "179  2TmgxdB26y653ty5P9bmaMbp2axqwfbdjV1ii3pcvC29    1.588099e+05   \n",
       "152  66EJHtNydK1icLA1Zq21LwGwnqkZzmuuWLf495aN4mnX    3.312919e+05   \n",
       "42   DxD41srN8Xk9QfYjdNXF9tTnP6qQxeF2bZF8s1eN62Pe    3.153255e+06   \n",
       "159  7B12MDALsnmgLeqxGfJDeLUuPvkekHNyA9rvXEgnQ7bj    1.832767e+05   \n",
       "72   GgvEV7WiEM9t7xobkBUw54x5XSXZH9mZ1vf43hCmrVyX    7.812855e+05   \n",
       "169  4ZPYGoax8uz1LTciwf58gqtFKmk1t3oqwm6aSTdkWZ4D    8.096882e+05   \n",
       "182  ALUvp16ecvkD9JD7Hbc2ocecBtE9comyH52zAs2ZWNk9    6.018690e+05   \n",
       "\n",
       "        pool_created_at  ... volume_usd_h24  dex_id  \\\n",
       "119 2024-07-29 07:26:00  ...   1.706224e+05    orca   \n",
       "99  2024-09-22 23:22:28  ...   1.733381e+05    orca   \n",
       "13  2024-03-11 13:23:03  ...   2.107711e+06    orca   \n",
       "117 2024-10-02 03:28:01  ...   1.157516e+05    orca   \n",
       "181 2024-06-03 03:58:28  ...   1.794425e+05    orca   \n",
       "111 2024-03-13 10:03:03  ...   1.525771e+05    orca   \n",
       "44  2024-02-13 04:33:03  ...   2.253199e+05    orca   \n",
       "138 2024-07-12 20:52:59  ...   5.606902e+05    orca   \n",
       "25  2024-01-26 16:03:04  ...   6.303152e+05    orca   \n",
       "60  2023-12-16 05:03:03  ...   2.755357e+05    orca   \n",
       "179 2024-09-21 16:00:00  ...   1.709379e+05    orca   \n",
       "152 2024-06-19 00:01:08  ...   3.169504e+05    orca   \n",
       "42  2023-07-05 14:40:02  ...   2.481360e+06    orca   \n",
       "159 2024-05-02 07:27:32  ...   1.258123e+05    orca   \n",
       "72  2023-07-05 14:42:01  ...   2.686252e+05    orca   \n",
       "169 2024-05-29 00:47:42  ...   2.686774e+05    orca   \n",
       "182 2024-08-19 09:50:00  ...   1.671525e+05    orca   \n",
       "\n",
       "                                         base_token_id  \\\n",
       "119  solana_GinNabffZL4fUj9Vactxha74GDAW8kDPGaHqMtM...   \n",
       "99   solana_2zrH2jE542mzB4HABgBjdWMQPtNC5H12pwo1iLp...   \n",
       "13   solana_PzuaVAUH2tfxGZcbBR6kMxeJsBngnsPLFotGJNC...   \n",
       "117  solana_DLScRnWofxiYGqnvZWGy9Gt98MPqKdznaK4TRuk...   \n",
       "181  solana_8Ki8DpuWNxu9VsS3kQbarsCWMcFGWkzzA8pUPto...   \n",
       "111  solana_A3eME5CetyZPBoWbRUwY3tSe25S6tb18ba9ZPbW...   \n",
       "44   solana_mb1eu7TzEc71KxDpsmsKoucSSuuoGLv1drys1oP...   \n",
       "138  solana_5SVG3T9CNQsm2kEwzbRq6hASqh1oGfjqTtLXYUi...   \n",
       "25   solana_WENWENvqqNya429ubCdR81ZmD69brwQaaBYY6p3...   \n",
       "60   solana_7EYnhQoR9YM3N7UoaKRoA44Uy8JeaZV3qyouov8...   \n",
       "179  solana_34a8ALsPmbWxp7D3bQ6erERrCLz1ahr6u6o66Ud...   \n",
       "152  solana_3B5wuUrMEi5yATD7on46hKfej3pfmd7t1RKgrsN...   \n",
       "42   solana_5oVNBeEEQvYi1cX3ir8Dx5n1P7pdxydbGF2X4Tx...   \n",
       "159  solana_3WPep4ufaToK1aS5s8BL9inzeUrt4DYaQCiic6Z...   \n",
       "72   solana_GDfnEsia2WLAW5t8yx2X5j2mkfA74i5kwGdDuZH...   \n",
       "169  solana_3S8qX1MsMqRbiwKg2cQyx7nis1oHMgaCuc9c4Vf...   \n",
       "182  solana_HUBsveNpjo5pWqNkH57QzxjQASdTVXcSK7bVKTS...   \n",
       "\n",
       "                                        quote_token_id    base  quote  \\\n",
       "119  solana_So1111111111111111111111111111111111111...  GINNAN    SOL   \n",
       "99   solana_So1111111111111111111111111111111111111...   alpha    SOL   \n",
       "13   solana_So1111111111111111111111111111111111111...     ZYN    SOL   \n",
       "117  solana_So1111111111111111111111111111111111111...       🐕    SOL   \n",
       "181  solana_So1111111111111111111111111111111111111...  LOCKIN    SOL   \n",
       "111  solana_So1111111111111111111111111111111111111...    PENG    SOL   \n",
       "44   solana_So1111111111111111111111111111111111111...  MOBILE    SOL   \n",
       "138  solana_So1111111111111111111111111111111111111...   SIGMA    SOL   \n",
       "25   solana_So1111111111111111111111111111111111111...     WEN    SOL   \n",
       "60   solana_So1111111111111111111111111111111111111...   SILLY    SOL   \n",
       "179  solana_So1111111111111111111111111111111111111...   PESTO    SOL   \n",
       "152  solana_So1111111111111111111111111111111111111...   BILLY    SOL   \n",
       "42   solana_So1111111111111111111111111111111111111...     INF    SOL   \n",
       "159  solana_So1111111111111111111111111111111111111...    GIKO    SOL   \n",
       "72   solana_So1111111111111111111111111111111111111...   CROWN    SOL   \n",
       "169  solana_So1111111111111111111111111111111111111...  MOTHER    SOL   \n",
       "182  solana_So1111111111111111111111111111111111111...  hubSOL    SOL   \n",
       "\n",
       "     volume_liquidity_ratio  fee_rate  tick_spacing          liquidity  \n",
       "119                3.484526     100.0         128.0    182012584168488  \n",
       "99                 3.184555       NaN           NaN               None  \n",
       "13                 2.643546      30.0          64.0     50987667210894  \n",
       "117                2.565341       NaN           NaN               None  \n",
       "181                2.324041     100.0         128.0     67455201365791  \n",
       "111                2.257171     100.0         128.0       444721099312  \n",
       "44                 2.068963      16.0          16.0     45225947384185  \n",
       "138                1.869362     200.0         256.0      7386736183406  \n",
       "25                 1.855129      16.0          16.0     64673518864541  \n",
       "60                 1.549562     100.0         128.0     56850681944439  \n",
       "179                1.076368       NaN           NaN               None  \n",
       "152                0.956710     100.0         128.0      7830288908079  \n",
       "42                 0.786920       1.0           1.0  16469271234632568  \n",
       "159                0.686461     100.0         128.0      5049875057866  \n",
       "72                 0.343825      30.0          64.0    112080622027548  \n",
       "169                0.331828     100.0         128.0     18358212559636  \n",
       "182                0.277722       1.0           1.0   4228548816057651  \n",
       "\n",
       "[17 rows x 28 columns]"
      ]
     },
     "execution_count": 70,
     "metadata": {},
     "output_type": "execute_result"
    }
   ],
   "source": [
    "pools_filtered"
   ]
  },
  {
   "cell_type": "code",
   "execution_count": 84,
   "metadata": {},
   "outputs": [
    {
     "data": {
      "text/plain": [
       "{'base_symbol': 'BILLY',\n",
       " 'quote_symbol': 'SOL',\n",
       " 'tick_spacing': 128,\n",
       " 'lower_price': '0.000114572451344222',\n",
       " 'upper_price': '0.0002546411163651981',\n",
       " 'number_of_positions': 1,\n",
       " 'position_bundle_address': '8REd2q8W3kTKsjZXLX6sktqL9KXbEmfrRfnSU1Sr4SNM'}"
      ]
     },
     "execution_count": 84,
     "metadata": {},
     "output_type": "execute_result"
    }
   ],
   "source": [
    "position_to_create = potential_positions[1]\n",
    "position_to_create[\"position_bundle_address\"] = position_bundle[\"positionBundleAddress\"]\n",
    "position_to_create"
   ]
  },
  {
   "cell_type": "code",
   "execution_count": 72,
   "metadata": {},
   "outputs": [
    {
     "name": "stdout",
     "output_type": "stream",
     "text": [
      "Error: 500 - {\"statusCode\":500,\"error\":\"Internal Server Error\",\"message\":\"Unable to fetch Whirlpool at address at JD6sK1G9KKTUw2zzebgN6qL9SrXpJ7x8fuK7UEqh5qY\"}\n"
     ]
    },
    {
     "data": {
      "text/plain": [
       "{'error': '{\"statusCode\":500,\"error\":\"Internal Server Error\",\"message\":\"Unable to fetch Whirlpool at address at JD6sK1G9KKTUw2zzebgN6qL9SrXpJ7x8fuK7UEqh5qY\"}',\n",
       " 'status': 500}"
      ]
     },
     "execution_count": 72,
     "metadata": {},
     "output_type": "execute_result"
    }
   ],
   "source": [
    "await client.open_orca_positions_in_bundle(\n",
    "    **position_to_create\n",
    ")"
   ]
  },
  {
   "cell_type": "code",
   "execution_count": null,
   "metadata": {},
   "outputs": [],
   "source": []
  }
 ],
 "metadata": {
  "kernelspec": {
   "display_name": "quants-lab",
   "language": "python",
   "name": "python3"
  },
  "language_info": {
   "codemirror_mode": {
    "name": "ipython",
    "version": 3
   },
   "file_extension": ".py",
   "mimetype": "text/x-python",
   "name": "python",
   "nbconvert_exporter": "python",
   "pygments_lexer": "ipython3",
   "version": "3.10.15"
  }
 },
 "nbformat": 4,
 "nbformat_minor": 2
}
