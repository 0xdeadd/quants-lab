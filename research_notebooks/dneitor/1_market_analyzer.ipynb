{
 "cells": [
  {
   "cell_type": "code",
   "execution_count": 1,
   "metadata": {
    "collapsed": false,
    "jupyter": {
     "outputs_hidden": false
    },
    "ExecuteTime": {
     "end_time": "2024-09-23T18:20:36.554691Z",
     "start_time": "2024-09-23T18:20:36.550156Z"
    }
   },
   "outputs": [],
   "source": [
    "# This is necessary to recognize the modules\n",
    "import os\n",
    "import sys\n",
    "from decimal import Decimal\n",
    "import warnings\n",
    "\n",
    "warnings.filterwarnings(\"ignore\")\n",
    "\n",
    "root_path = os.path.abspath(os.path.join(os.getcwd(), '../..'))\n",
    "sys.path.append(root_path)"
   ]
  },
  {
   "cell_type": "code",
   "execution_count": 2,
   "metadata": {
    "collapsed": false,
    "jupyter": {
     "outputs_hidden": false
    },
    "ExecuteTime": {
     "end_time": "2024-09-23T18:20:37.534374Z",
     "start_time": "2024-09-23T18:20:36.555448Z"
    }
   },
   "outputs": [
    {
     "name": "stderr",
     "output_type": "stream",
     "text": [
      "2024-09-24 02:20:37,284 - asyncio - ERROR - Unclosed client session\n",
      "client_session: <aiohttp.client.ClientSession object at 0x107244790>\n"
     ]
    }
   ],
   "source": [
    "from core.data_sources.clob import CLOBDataSource\n",
    "\n",
    "# Get trading rules and candles\n",
    "clob = CLOBDataSource()"
   ]
  },
  {
   "cell_type": "code",
   "execution_count": 3,
   "metadata": {
    "collapsed": false,
    "jupyter": {
     "outputs_hidden": false
    },
    "ExecuteTime": {
     "end_time": "2024-09-23T18:20:37.537038Z",
     "start_time": "2024-09-23T18:20:37.535Z"
    }
   },
   "outputs": [],
   "source": [
    "# Constants\n",
    "CONNECTOR_NAME = \"okx\"\n",
    "INTERVAL = \"1d\"\n",
    "DAYS = 360\n",
    "FETCH_CANDLES = False\n",
    "# Features configuration\n",
    "VOLATILITY_WINDOW = 20\n",
    "VOLUME_SHORT_WINDOW = 20\n",
    "VOLUME_LONG_WINDOW = 50"
   ]
  },
  {
   "cell_type": "markdown",
   "metadata": {
    "collapsed": false,
    "jupyter": {
     "outputs_hidden": false
    }
   },
   "source": [
    "# Download data\n",
    "- Get trading rules\n",
    "- Get candles for the last x days"
   ]
  },
  {
   "cell_type": "code",
   "execution_count": 4,
   "metadata": {
    "collapsed": false,
    "jupyter": {
     "outputs_hidden": false
    },
    "ExecuteTime": {
     "end_time": "2024-09-23T18:20:38.453112Z",
     "start_time": "2024-09-23T18:20:37.539146Z"
    }
   },
   "outputs": [
    {
     "name": "stderr",
     "output_type": "stream",
     "text": [
      "2024-09-24 02:20:37,905 - asyncio - ERROR - Unclosed client session\n",
      "client_session: <aiohttp.client.ClientSession object at 0x14e973fa0>\n",
      "2024-09-24 02:20:37,906 - asyncio - ERROR - Unclosed connector\n",
      "connections: ['[(<aiohttp.client_proto.ResponseHandler object at 0x1071f1900>, 571680.458916625)]']\n",
      "connector: <aiohttp.connector.TCPConnector object at 0x14e9734c0>\n"
     ]
    }
   ],
   "source": [
    "import asyncio\n",
    "\n",
    "trading_rules = await clob.get_trading_rules(CONNECTOR_NAME)\n",
    "trading_pairs = trading_rules.filter_by_quote_asset(\"USDT\")\\\n",
    "    .filter_by_min_notional_size(Decimal(\"5\"))\\\n",
    "    .get_all_trading_pairs()"
   ]
  },
  {
   "cell_type": "code",
   "execution_count": 5,
   "outputs": [
    {
     "data": {
      "text/plain": "['BONE-USDT',\n 'PRQ-USDT',\n 'RAY-USDT',\n 'GLMR-USDT',\n 'AVIVE-USDT',\n 'CVX-USDT',\n 'GMT-USDT',\n 'LPT-USDT',\n 'AUCTION-USDT',\n 'ZRX-USDT',\n 'MXC-USDT',\n 'NMR-USDT',\n 'AGLD-USDT',\n 'LRC-USDT',\n 'IQ-USDT',\n 'MAGIC-USDT',\n 'GFT-USDT',\n 'UTK-USDT',\n 'ICX-USDT',\n 'DOGE-USDT',\n 'ENJ-USDT',\n 'YFI-USDT',\n 'MLN-USDT',\n 'KAN-USDT',\n 'PRCL-USDT',\n 'VENOM-USDT',\n 'CFX-USDT',\n 'KDA-USDT',\n 'POLYDOGE-USDT',\n 'DIA-USDT',\n 'TNSR-USDT',\n 'APT-USDT',\n 'EGLD-USDT',\n 'ETHW-USDT',\n 'OKB-USDT',\n 'WLD-USDT',\n 'SOL-USDT',\n 'CSPR-USDT',\n 'ICP-USDT',\n 'MILO-USDT',\n 'INJ-USDT',\n 'SAFE-USDT',\n 'CHZ-USDT',\n 'BNT-USDT',\n 'SSWP-USDT',\n 'BICO-USDT',\n 'GODS-USDT',\n 'LEO-USDT',\n 'ARB-USDT',\n 'AEVO-USDT',\n 'METIS-USDT',\n 'ZENT-USDT',\n 'MERL-USDT',\n 'G-USDT',\n 'SAND-USDT',\n 'FLR-USDT',\n 'OM-USDT',\n 'LQTY-USDT',\n 'GMX-USDT',\n 'LUNC-USDT',\n 'VELODROME-USDT',\n 'AVAX-USDT',\n 'ETH-USDT',\n 'BLUR-USDT',\n 'OXT-USDT',\n 'DAO-USDT',\n 'IOST-USDT',\n 'SAMO-USDT',\n 'NEAR-USDT',\n 'XR-USDT',\n 'THETA-USDT',\n 'REN-USDT',\n 'CITY-USDT',\n 'API3-USDT',\n 'T-USDT',\n 'ARKM-USDT',\n 'MYRIA-USDT',\n 'ELON-USDT',\n 'PEPE-USDT',\n 'RSR-USDT',\n 'RACA-USDT',\n 'BETH-USDT',\n 'ULTI-USDT',\n 'CEEK-USDT',\n 'FLOW-USDT',\n 'JUP-USDT',\n 'CELO-USDT',\n 'PERP-USDT',\n 'IOTA-USDT',\n 'OP-USDT',\n 'ZK-USDT',\n 'WSM-USDT',\n 'RADAR-USDT',\n 'ONDO-USDT',\n 'LUNA-USDT',\n 'VELO-USDT',\n 'ZRO-USDT',\n 'SPURS-USDT',\n 'DOT-USDT',\n 'ASTR-USDT',\n 'LAT-USDT',\n 'BLOCK-USDT',\n 'CORE-USDT',\n 'VELA-USDT',\n 'NOT-USDT',\n 'BOME-USDT',\n 'STORJ-USDT',\n 'ONE-USDT',\n 'ZKJ-USDT',\n 'GALA-USDT',\n 'CRO-USDT',\n 'SUI-USDT',\n 'JST-USDT',\n 'DEGEN-USDT',\n 'WIF-USDT',\n 'CTC-USDT',\n 'KSM-USDT',\n 'AR-USDT',\n 'ERN-USDT',\n 'SWEAT-USDT',\n 'GHST-USDT',\n 'SLP-USDT',\n 'JTO-USDT',\n 'USTC-USDT',\n 'ARTY-USDT',\n 'ETC-USDT',\n 'BADGER-USDT',\n 'APE-USDT',\n 'BTT-USDT',\n 'FOXY-USDT',\n 'WOO-USDT',\n 'ALCX-USDT',\n 'RSS3-USDT',\n 'BIGTIME-USDT',\n 'TRB-USDT',\n 'SLERF-USDT',\n 'ARG-USDT',\n 'QTUM-USDT',\n 'BCH-USDT',\n 'ENS-USDT',\n 'WBTC-USDT',\n 'ALPHA-USDT',\n 'BTC-USDT',\n 'MANA-USDT',\n 'ATH-USDT',\n 'GLM-USDT',\n 'SSV-USDT',\n 'DORA-USDT',\n 'NULS-USDT',\n 'WAXP-USDT',\n 'WIN-USDT',\n 'MINA-USDT',\n 'LEASH-USDT',\n 'CATI-USDT',\n 'RON-USDT',\n 'COMP-USDT',\n 'KLAY-USDT',\n 'HBAR-USDT',\n 'BAT-USDT',\n 'VRA-USDT',\n 'NEO-USDT',\n 'BORA-USDT',\n 'ONT-USDT',\n 'MOVR-USDT',\n 'DAI-USDT',\n 'POR-USDT',\n 'ACE-USDT',\n 'LINK-USDT',\n 'SATS-USDT',\n 'UMA-USDT',\n 'BORING-USDT',\n 'CRV-USDT',\n 'GEAR-USDT',\n 'TIA-USDT',\n 'XTZ-USDT',\n 'TRA-USDT',\n 'FORTH-USDT',\n 'BAL-USDT',\n 'ETHFI-USDT',\n 'OMI-USDT',\n 'GALFT-USDT',\n 'SIS-USDT',\n 'STRK-USDT',\n 'CETUS-USDT',\n 'ORB-USDT',\n 'OAS-USDT',\n 'PSTAKE-USDT',\n 'ELF-USDT',\n 'ILV-USDT',\n 'LAMB-USDT',\n 'RDNT-USDT',\n 'AAVE-USDT',\n 'FTM-USDT',\n 'RUNECOIN-USDT',\n 'SNX-USDT',\n 'TRX-USDT',\n 'W-USDT',\n 'AST-USDT',\n 'OKT-USDT',\n 'KP3R-USDT',\n 'LOOKS-USDT',\n 'LTC-USDT',\n 'TON-USDT',\n 'MAX-USDT',\n 'ZBCN-USDT',\n 'ICE-USDT',\n 'PEOPLE-USDT',\n '1INCH-USDT',\n 'KINE-USDT',\n 'USDC-USDT',\n 'BZZ-USDT',\n 'PHA-USDT',\n 'ALGO-USDT',\n 'SD-USDT',\n 'XAUT-USDT',\n 'FXS-USDT',\n 'FLM-USDT',\n 'AERGO-USDT',\n 'FLOKI-USDT',\n 'GOAL-USDT',\n 'FET-USDT',\n 'GRT-USDT',\n 'LON-USDT',\n 'CFG-USDT',\n 'SUSHI-USDT',\n 'SC-USDT',\n 'CVC-USDT',\n 'JOE-USDT',\n 'ORDI-USDT',\n 'ATOM-USDT',\n 'GAS-USDT',\n 'BONK-USDT',\n 'MEME-USDT',\n 'POL-USDT',\n 'RPL-USDT',\n 'SHIB-USDT',\n 'STETH-USDT',\n 'ORBS-USDT',\n 'AXS-USDT',\n 'BABYDOGE-USDT',\n 'UXLINK-USDT',\n 'MASK-USDT',\n 'YGG-USDT',\n 'GOG-USDT',\n 'PYTH-USDT',\n 'XCH-USDT',\n 'ACH-USDT',\n 'LSK-USDT',\n 'AIDOGE-USDT',\n 'KISHU-USDT',\n 'MENGO-USDT',\n 'RIO-USDT',\n 'WIFI-USDT',\n 'ZEUS-USDT',\n 'FIL-USDT',\n 'XLM-USDT',\n 'MEW-USDT',\n 'SWFTC-USDT',\n 'BNB-USDT',\n 'ZIL-USDT',\n 'RENDER-USDT',\n 'SKL-USDT',\n 'WXT-USDT',\n 'CELR-USDT',\n 'UNI-USDT',\n 'MKR-USDT',\n 'ZERO-USDT',\n 'DEP-USDT',\n 'GPT-USDT',\n 'NFT-USDT',\n 'ACA-USDT',\n 'CTXC-USDT',\n 'DOGS-USDT',\n 'DGB-USDT',\n 'SNT-USDT',\n 'BAND-USDT',\n 'TAKI-USDT',\n 'IMX-USDT',\n 'CXT-USDT',\n 'ADA-USDT',\n 'LDO-USDT',\n 'PIXEL-USDT',\n 'RVN-USDT',\n 'TURBO-USDT',\n 'XNO-USDT',\n 'BSV-USDT',\n 'EOS-USDT',\n 'DYDX-USDT',\n 'ZETA-USDT',\n 'ID-USDT',\n 'KNC-USDT',\n 'XRP-USDT',\n 'STX-USDT',\n 'LBR-USDT',\n 'MDT-USDT',\n 'CLV-USDT']"
     },
     "execution_count": 5,
     "metadata": {},
     "output_type": "execute_result"
    }
   ],
   "source": [
    "trading_pairs"
   ],
   "metadata": {
    "collapsed": false,
    "ExecuteTime": {
     "end_time": "2024-09-23T18:20:38.458406Z",
     "start_time": "2024-09-23T18:20:38.455800Z"
    }
   }
  },
  {
   "cell_type": "code",
   "execution_count": 6,
   "outputs": [],
   "source": [
    "BATCH_CANDLES_REQUEST = 2\n",
    "SLEEP_REQUEST = 2.0\n",
    "\n",
    "\n",
    "if FETCH_CANDLES:\n",
    "    candles = await clob.get_candles_batch_last_days(CONNECTOR_NAME, trading_pairs, INTERVAL, DAYS, BATCH_CANDLES_REQUEST, SLEEP_REQUEST)\n",
    "    clob.dump_candles_cache(root_path)\n",
    "else:\n",
    "    clob.load_candles_cache(root_path)"
   ],
   "metadata": {
    "collapsed": false,
    "ExecuteTime": {
     "end_time": "2024-09-23T18:20:39.772340Z",
     "start_time": "2024-09-23T18:20:38.458900Z"
    }
   }
  },
  {
   "cell_type": "code",
   "execution_count": 7,
   "outputs": [],
   "source": [
    "candles = [value for key, value in clob.candles_cache.items() if key[2] == INTERVAL and key[0] == CONNECTOR_NAME]"
   ],
   "metadata": {
    "collapsed": false,
    "ExecuteTime": {
     "end_time": "2024-09-23T18:20:39.775460Z",
     "start_time": "2024-09-23T18:20:39.773590Z"
    }
   }
  },
  {
   "cell_type": "code",
   "execution_count": 8,
   "metadata": {
    "collapsed": false,
    "jupyter": {
     "outputs_hidden": false
    },
    "ExecuteTime": {
     "end_time": "2024-09-23T18:20:41.115625Z",
     "start_time": "2024-09-23T18:20:39.776457Z"
    }
   },
   "outputs": [
    {
     "name": "stdout",
     "output_type": "stream",
     "text": [
      "Error processing POL-USDT: unsupported operand type(s) for /: 'NoneType' and 'int'\n",
      "Error processing CATI-USDT: unsupported operand type(s) for /: 'NoneType' and 'int'\n"
     ]
    },
    {
     "data": {
      "text/plain": "    trading_pair  mean_volatility  mean_natr  mean_bb_width  latest_trend  \\\n0      MILO-USDT       0.12015105 0.14084198    57.17151534            -1   \n1       NEO-USDT       0.04614496  0.0769013    29.93791474            -1   \n2       GFT-USDT       0.06372236  0.1221588    36.84857235            -1   \n3       SLP-USDT       0.05591378 0.09294876    36.59973258            -1   \n4       RIO-USDT       0.07202075 0.12035815    50.97068945            -1   \n..           ...              ...        ...            ...           ...   \n289     ORB-USDT       0.07277634 0.13558808    49.00954413            -1   \n290    ARKM-USDT        0.0458201 0.08115417    34.81660191            -1   \n291     NOT-USDT       0.09016941   0.128562    58.75293163            -1   \n292   GALFT-USDT       0.05048451 0.09059968    29.93586053            -1   \n293     DAI-USDT       0.00052574 0.00354176      0.1923729            -1   \n\n     average_volume_per_hour  current_position  range_price_pct  \\\n0             29938.48677793        0.76098522       0.94169284   \n1            119192.86431087        0.77373305       0.69995912   \n2             89156.63676779        0.89426758        0.7264929   \n3             34022.14417855        0.81904311       0.82589984   \n4             64899.83817987        0.57451472       0.95329055   \n..                       ...               ...              ...   \n289           11531.66331575        0.95173018       0.88901869   \n290           21365.31978145        0.37974684       0.29743976   \n291         2129783.13495673        0.86079973       0.78727608   \n292            4140.36827405        0.88219895       0.70930472   \n293           38951.89093824        0.43589744       0.00389222   \n\n     normalized_score  \n0          0.01156202  \n1          0.01899478  \n2          0.02707471  \n3          0.00818514  \n4          0.01636937  \n..                ...  \n289        0.00506203  \n290        0.00074938  \n291        0.71000864  \n292        0.00089816  \n293         0.0000009  \n\n[294 rows x 9 columns]",
      "text/html": "<div>\n<style scoped>\n    .dataframe tbody tr th:only-of-type {\n        vertical-align: middle;\n    }\n\n    .dataframe tbody tr th {\n        vertical-align: top;\n    }\n\n    .dataframe thead th {\n        text-align: right;\n    }\n</style>\n<table border=\"1\" class=\"dataframe\">\n  <thead>\n    <tr style=\"text-align: right;\">\n      <th></th>\n      <th>trading_pair</th>\n      <th>mean_volatility</th>\n      <th>mean_natr</th>\n      <th>mean_bb_width</th>\n      <th>latest_trend</th>\n      <th>average_volume_per_hour</th>\n      <th>current_position</th>\n      <th>range_price_pct</th>\n      <th>normalized_score</th>\n    </tr>\n  </thead>\n  <tbody>\n    <tr>\n      <th>0</th>\n      <td>MILO-USDT</td>\n      <td>0.12015105</td>\n      <td>0.14084198</td>\n      <td>57.17151534</td>\n      <td>-1</td>\n      <td>29938.48677793</td>\n      <td>0.76098522</td>\n      <td>0.94169284</td>\n      <td>0.01156202</td>\n    </tr>\n    <tr>\n      <th>1</th>\n      <td>NEO-USDT</td>\n      <td>0.04614496</td>\n      <td>0.0769013</td>\n      <td>29.93791474</td>\n      <td>-1</td>\n      <td>119192.86431087</td>\n      <td>0.77373305</td>\n      <td>0.69995912</td>\n      <td>0.01899478</td>\n    </tr>\n    <tr>\n      <th>2</th>\n      <td>GFT-USDT</td>\n      <td>0.06372236</td>\n      <td>0.1221588</td>\n      <td>36.84857235</td>\n      <td>-1</td>\n      <td>89156.63676779</td>\n      <td>0.89426758</td>\n      <td>0.7264929</td>\n      <td>0.02707471</td>\n    </tr>\n    <tr>\n      <th>3</th>\n      <td>SLP-USDT</td>\n      <td>0.05591378</td>\n      <td>0.09294876</td>\n      <td>36.59973258</td>\n      <td>-1</td>\n      <td>34022.14417855</td>\n      <td>0.81904311</td>\n      <td>0.82589984</td>\n      <td>0.00818514</td>\n    </tr>\n    <tr>\n      <th>4</th>\n      <td>RIO-USDT</td>\n      <td>0.07202075</td>\n      <td>0.12035815</td>\n      <td>50.97068945</td>\n      <td>-1</td>\n      <td>64899.83817987</td>\n      <td>0.57451472</td>\n      <td>0.95329055</td>\n      <td>0.01636937</td>\n    </tr>\n    <tr>\n      <th>...</th>\n      <td>...</td>\n      <td>...</td>\n      <td>...</td>\n      <td>...</td>\n      <td>...</td>\n      <td>...</td>\n      <td>...</td>\n      <td>...</td>\n      <td>...</td>\n    </tr>\n    <tr>\n      <th>289</th>\n      <td>ORB-USDT</td>\n      <td>0.07277634</td>\n      <td>0.13558808</td>\n      <td>49.00954413</td>\n      <td>-1</td>\n      <td>11531.66331575</td>\n      <td>0.95173018</td>\n      <td>0.88901869</td>\n      <td>0.00506203</td>\n    </tr>\n    <tr>\n      <th>290</th>\n      <td>ARKM-USDT</td>\n      <td>0.0458201</td>\n      <td>0.08115417</td>\n      <td>34.81660191</td>\n      <td>-1</td>\n      <td>21365.31978145</td>\n      <td>0.37974684</td>\n      <td>0.29743976</td>\n      <td>0.00074938</td>\n    </tr>\n    <tr>\n      <th>291</th>\n      <td>NOT-USDT</td>\n      <td>0.09016941</td>\n      <td>0.128562</td>\n      <td>58.75293163</td>\n      <td>-1</td>\n      <td>2129783.13495673</td>\n      <td>0.86079973</td>\n      <td>0.78727608</td>\n      <td>0.71000864</td>\n    </tr>\n    <tr>\n      <th>292</th>\n      <td>GALFT-USDT</td>\n      <td>0.05048451</td>\n      <td>0.09059968</td>\n      <td>29.93586053</td>\n      <td>-1</td>\n      <td>4140.36827405</td>\n      <td>0.88219895</td>\n      <td>0.70930472</td>\n      <td>0.00089816</td>\n    </tr>\n    <tr>\n      <th>293</th>\n      <td>DAI-USDT</td>\n      <td>0.00052574</td>\n      <td>0.00354176</td>\n      <td>0.1923729</td>\n      <td>-1</td>\n      <td>38951.89093824</td>\n      <td>0.43589744</td>\n      <td>0.00389222</td>\n      <td>0.0000009</td>\n    </tr>\n  </tbody>\n</table>\n<p>294 rows × 9 columns</p>\n</div>"
     },
     "execution_count": 8,
     "metadata": {},
     "output_type": "execute_result"
    }
   ],
   "source": [
    "from core.features.candles.volatility import VolatilityConfig\n",
    "from core.features.candles.volume import VolumeConfig\n",
    "from research_notebooks.dneitor.utils import generate_report\n",
    "\n",
    "report = generate_report(\n",
    "    candles=candles,\n",
    "    volatility_config=VolatilityConfig(window=VOLATILITY_WINDOW),\n",
    "    volume_config=VolumeConfig(short_window=VOLUME_SHORT_WINDOW, long_window=VOLUME_LONG_WINDOW))\n",
    "report"
   ]
  },
  {
   "cell_type": "code",
   "execution_count": 9,
   "outputs": [
    {
     "data": {
      "text/plain": "     trading_pair  mean_volatility  mean_natr  mean_bb_width  latest_trend  \\\n291      NOT-USDT       0.09016941   0.128562    58.75293163            -1   \n242      WLD-USDT       0.07444602 0.11919296    50.06082628            -1   \n226     DOGS-USDT       0.06476049 0.13812272     34.2198502            -1   \n156      FIL-USDT        0.0473841 0.07938209    31.59597349            -1   \n59     ETHFI-USDT       0.07050695 0.12593389    48.48634452            -1   \n200  BIGTIME-USDT       0.08403233 0.14097898    56.82757786            -1   \n154     STRK-USDT       0.05590467 0.10233372    38.36375113            -1   \n254     PYTH-USDT       0.05977047 0.10790244    39.18555602            -1   \n25      ULTI-USDT          0.09892 0.17359534      63.010477            -1   \n161      ARB-USDT       0.04540451 0.07859069    31.07679454            -1   \n\n     average_volume_per_hour  current_position  range_price_pct  \\\n291         2129783.13495673        0.86079973       0.78727608   \n242         1048887.32515181        0.97808669       0.88576315   \n226         1430342.92449739                 1       0.43500339   \n156         1407354.30374117        0.93361548       0.72264942   \n59            681332.5215788        0.96465061        0.8448743   \n200          559363.79684727        0.92047862       0.92455568   \n154          696749.18937831        0.98116678       0.86840103   \n254          773400.12266918        0.91955504        0.7762225   \n25           429208.38984384        0.95121951       0.75388967   \n161          812890.68853631        0.93295084       0.78712477   \n\n     normalized_score  \n291        0.71000864  \n242        0.41443921  \n226         0.3288398  \n156        0.28840853  \n59         0.26757796  \n200        0.25679227  \n154        0.23245818  \n254        0.22792182  \n25         0.20444724  \n161        0.17951139  ",
      "text/html": "<div>\n<style scoped>\n    .dataframe tbody tr th:only-of-type {\n        vertical-align: middle;\n    }\n\n    .dataframe tbody tr th {\n        vertical-align: top;\n    }\n\n    .dataframe thead th {\n        text-align: right;\n    }\n</style>\n<table border=\"1\" class=\"dataframe\">\n  <thead>\n    <tr style=\"text-align: right;\">\n      <th></th>\n      <th>trading_pair</th>\n      <th>mean_volatility</th>\n      <th>mean_natr</th>\n      <th>mean_bb_width</th>\n      <th>latest_trend</th>\n      <th>average_volume_per_hour</th>\n      <th>current_position</th>\n      <th>range_price_pct</th>\n      <th>normalized_score</th>\n    </tr>\n  </thead>\n  <tbody>\n    <tr>\n      <th>291</th>\n      <td>NOT-USDT</td>\n      <td>0.09016941</td>\n      <td>0.128562</td>\n      <td>58.75293163</td>\n      <td>-1</td>\n      <td>2129783.13495673</td>\n      <td>0.86079973</td>\n      <td>0.78727608</td>\n      <td>0.71000864</td>\n    </tr>\n    <tr>\n      <th>242</th>\n      <td>WLD-USDT</td>\n      <td>0.07444602</td>\n      <td>0.11919296</td>\n      <td>50.06082628</td>\n      <td>-1</td>\n      <td>1048887.32515181</td>\n      <td>0.97808669</td>\n      <td>0.88576315</td>\n      <td>0.41443921</td>\n    </tr>\n    <tr>\n      <th>226</th>\n      <td>DOGS-USDT</td>\n      <td>0.06476049</td>\n      <td>0.13812272</td>\n      <td>34.2198502</td>\n      <td>-1</td>\n      <td>1430342.92449739</td>\n      <td>1</td>\n      <td>0.43500339</td>\n      <td>0.3288398</td>\n    </tr>\n    <tr>\n      <th>156</th>\n      <td>FIL-USDT</td>\n      <td>0.0473841</td>\n      <td>0.07938209</td>\n      <td>31.59597349</td>\n      <td>-1</td>\n      <td>1407354.30374117</td>\n      <td>0.93361548</td>\n      <td>0.72264942</td>\n      <td>0.28840853</td>\n    </tr>\n    <tr>\n      <th>59</th>\n      <td>ETHFI-USDT</td>\n      <td>0.07050695</td>\n      <td>0.12593389</td>\n      <td>48.48634452</td>\n      <td>-1</td>\n      <td>681332.5215788</td>\n      <td>0.96465061</td>\n      <td>0.8448743</td>\n      <td>0.26757796</td>\n    </tr>\n    <tr>\n      <th>200</th>\n      <td>BIGTIME-USDT</td>\n      <td>0.08403233</td>\n      <td>0.14097898</td>\n      <td>56.82757786</td>\n      <td>-1</td>\n      <td>559363.79684727</td>\n      <td>0.92047862</td>\n      <td>0.92455568</td>\n      <td>0.25679227</td>\n    </tr>\n    <tr>\n      <th>154</th>\n      <td>STRK-USDT</td>\n      <td>0.05590467</td>\n      <td>0.10233372</td>\n      <td>38.36375113</td>\n      <td>-1</td>\n      <td>696749.18937831</td>\n      <td>0.98116678</td>\n      <td>0.86840103</td>\n      <td>0.23245818</td>\n    </tr>\n    <tr>\n      <th>254</th>\n      <td>PYTH-USDT</td>\n      <td>0.05977047</td>\n      <td>0.10790244</td>\n      <td>39.18555602</td>\n      <td>-1</td>\n      <td>773400.12266918</td>\n      <td>0.91955504</td>\n      <td>0.7762225</td>\n      <td>0.22792182</td>\n    </tr>\n    <tr>\n      <th>25</th>\n      <td>ULTI-USDT</td>\n      <td>0.09892</td>\n      <td>0.17359534</td>\n      <td>63.010477</td>\n      <td>-1</td>\n      <td>429208.38984384</td>\n      <td>0.95121951</td>\n      <td>0.75388967</td>\n      <td>0.20444724</td>\n    </tr>\n    <tr>\n      <th>161</th>\n      <td>ARB-USDT</td>\n      <td>0.04540451</td>\n      <td>0.07859069</td>\n      <td>31.07679454</td>\n      <td>-1</td>\n      <td>812890.68853631</td>\n      <td>0.93295084</td>\n      <td>0.78712477</td>\n      <td>0.17951139</td>\n    </tr>\n  </tbody>\n</table>\n</div>"
     },
     "execution_count": 9,
     "metadata": {},
     "output_type": "execute_result"
    }
   ],
   "source": [
    "from research_notebooks.dneitor.utils import filter_top_markets\n",
    "\n",
    "TOP_X_MARKETS = 10  # Number of top markets to select\n",
    "MIN_VOLUME_USD = 2000  # Minimum volume in USD\n",
    "MIN_NATR = 0.01  # Minimum ATR\n",
    "CURRENT_POSITION_THRESHOLD = 0.8  # Trend threshold\n",
    "\n",
    "top_markets = filter_top_markets(report_df=report, top_x=TOP_X_MARKETS, min_volume_usd=MIN_VOLUME_USD, min_natr=MIN_NATR, current_position_threshold=CURRENT_POSITION_THRESHOLD)\n",
    "top_markets_candles = {candle.trading_pair: candle for candle in candles if candle.trading_pair in top_markets[\"trading_pair\"].values}\n",
    "top_markets"
   ],
   "metadata": {
    "collapsed": false,
    "ExecuteTime": {
     "end_time": "2024-09-23T18:20:41.123753Z",
     "start_time": "2024-09-23T18:20:41.117263Z"
    }
   }
  },
  {
   "cell_type": "code",
   "execution_count": 13,
   "metadata": {
    "collapsed": false,
    "jupyter": {
     "outputs_hidden": false
    },
    "ExecuteTime": {
     "end_time": "2024-09-23T18:23:31.318826Z",
     "start_time": "2024-09-23T18:23:31.299499Z"
    }
   },
   "outputs": [],
   "source": [
    "from hummingbot.core.data_type.common import OrderType\n",
    "from research_notebooks.dneitor.utils import generate_config\n",
    "from core.utils import dump_dict_to_yaml\n",
    "\n",
    "\n",
    "TOTAL_AMOUNT = 500  # General total amount for all markets\n",
    "ACTIVATION_BOUNDS = 0.002  # Input activation bounds\n",
    "MAX_OPEN_ORDERS = 1  # Input max open orders for each market\n",
    "MIN_ORDER_AMOUNT = 2  # Minimum order amount for each market\n",
    "LEVERAGE = 1  # Leverage for each market\n",
    "TAKE_PROFIT_ORDER_TYPE = OrderType.MARKET\n",
    "\n",
    "TAKE_PROFIT_MULTIPLIER = 0.2  # Multiplier for take profit based on NATR\n",
    "AMOUNTS_QUOTE_PCT = [0.1, 0.1, 0.1, 0.1, 0.2, 0.2]  # Weights for each cluster\n",
    "\n",
    "strategy_config = generate_config(\n",
    "    id=f\"dneitor-{CONNECTOR_NAME}_0.6\",\n",
    "    connector_name=CONNECTOR_NAME,\n",
    "    candles=top_markets_candles,\n",
    "    top_markets=top_markets,\n",
    "    total_amount=TOTAL_AMOUNT,\n",
    "    amounts_quote_pct=AMOUNTS_QUOTE_PCT,\n",
    "    activation_bounds=ACTIVATION_BOUNDS,\n",
    "    take_profit_multiplier=TAKE_PROFIT_MULTIPLIER,\n",
    "    max_open_orders=MAX_OPEN_ORDERS,\n",
    "    min_order_amount=MIN_ORDER_AMOUNT,\n",
    "    leverage=LEVERAGE,\n",
    "    take_profit_order_type=TAKE_PROFIT_ORDER_TYPE\n",
    ")"
   ]
  },
  {
   "cell_type": "code",
   "execution_count": 14,
   "outputs": [
    {
     "data": {
      "text/plain": "[{'id': 'dneitor-okx_0.6_NOT-USDT',\n  'controller_name': 'dneitor',\n  'controller_type': 'generic',\n  'manual_kill_switch': None,\n  'candles_config': [],\n  'connector_name': 'okx',\n  'trading_pair': 'NOT-USDT',\n  'total_amount_quote': 500,\n  'prices': [0.022776,\n   0.014573333333333334,\n   0.0127005,\n   0.008808,\n   0.0069595,\n   0.0045],\n  'amounts_quote_pct': [0.1, 0.1, 0.1, 0.1, 0.2, 0.2],\n  'take_profit': 0.025712400625299434,\n  'activation_bounds': 0.002,\n  'max_open_orders': 1,\n  'min_order_amount': 1,\n  'leverage': 1,\n  'time_limit': None},\n {'id': 'dneitor-okx_0.6_WLD-USDT',\n  'controller_name': 'dneitor',\n  'controller_type': 'generic',\n  'manual_kill_switch': None,\n  'candles_config': [],\n  'connector_name': 'okx',\n  'trading_pair': 'WLD-USDT',\n  'total_amount_quote': 500,\n  'prices': [11.695,\n   8.8,\n   6.853666666666666,\n   4.7382,\n   3.575333333333333,\n   1.856869230769231],\n  'amounts_quote_pct': [0.1, 0.1, 0.1, 0.1, 0.2, 0.2],\n  'take_profit': 0.023838591827325006,\n  'activation_bounds': 0.002,\n  'max_open_orders': 1,\n  'min_order_amount': 1,\n  'leverage': 1,\n  'time_limit': None},\n {'id': 'dneitor-okx_0.6_DOGS-USDT',\n  'controller_name': 'dneitor',\n  'controller_type': 'generic',\n  'manual_kill_switch': None,\n  'candles_config': [],\n  'connector_name': 'okx',\n  'trading_pair': 'DOGS-USDT',\n  'total_amount_quote': 500,\n  'prices': [0.001477, 0.001008, nan, nan, nan, nan],\n  'amounts_quote_pct': [0.1, 0.1, 0.1, 0.1, 0.2, 0.2],\n  'take_profit': 0.0276245437247098,\n  'activation_bounds': 0.002,\n  'max_open_orders': 1,\n  'min_order_amount': 1,\n  'leverage': 1,\n  'time_limit': None},\n {'id': 'dneitor-okx_0.6_FIL-USDT',\n  'controller_name': 'dneitor',\n  'controller_type': 'generic',\n  'manual_kill_switch': None,\n  'candles_config': [],\n  'connector_name': 'okx',\n  'trading_pair': 'FIL-USDT',\n  'total_amount_quote': 500,\n  'prices': [11.444,\n   9.45,\n   7.3596,\n   5.257363636363636,\n   4.271444444444445,\n   3.185666666666666],\n  'amounts_quote_pct': [0.1, 0.1, 0.1, 0.1, 0.2, 0.2],\n  'take_profit': 0.015876417112426374,\n  'activation_bounds': 0.002,\n  'max_open_orders': 1,\n  'min_order_amount': 1,\n  'leverage': 1,\n  'time_limit': None},\n {'id': 'dneitor-okx_0.6_ETHFI-USDT',\n  'controller_name': 'dneitor',\n  'controller_type': 'generic',\n  'manual_kill_switch': None,\n  'candles_config': [],\n  'connector_name': 'okx',\n  'trading_pair': 'ETHFI-USDT',\n  'total_amount_quote': 500,\n  'prices': [7.9355, 4.52915, 3.56365, 3.105866666666667, 1.8305, 1.124],\n  'amounts_quote_pct': [0.1, 0.1, 0.1, 0.1, 0.2, 0.2],\n  'take_profit': 0.02518677898671355,\n  'activation_bounds': 0.002,\n  'max_open_orders': 1,\n  'min_order_amount': 1,\n  'leverage': 1,\n  'time_limit': None},\n {'id': 'dneitor-okx_0.6_BIGTIME-USDT',\n  'controller_name': 'dneitor',\n  'controller_type': 'generic',\n  'manual_kill_switch': None,\n  'candles_config': [],\n  'connector_name': 'okx',\n  'trading_pair': 'BIGTIME-USDT',\n  'total_amount_quote': 500,\n  'prices': [0.8271,\n   0.5101666666666667,\n   0.37189999999999995,\n   0.29464285714285715,\n   0.145304,\n   0.07263000000000001],\n  'amounts_quote_pct': [0.1, 0.1, 0.1, 0.1, 0.2, 0.2],\n  'take_profit': 0.028195796624478076,\n  'activation_bounds': 0.002,\n  'max_open_orders': 1,\n  'min_order_amount': 1,\n  'leverage': 1,\n  'time_limit': None},\n {'id': 'dneitor-okx_0.6_STRK-USDT',\n  'controller_name': 'dneitor',\n  'controller_type': 'generic',\n  'manual_kill_switch': None,\n  'candles_config': [],\n  'connector_name': 'okx',\n  'trading_pair': 'STRK-USDT',\n  'total_amount_quote': 500,\n  'prices': [2.6292,\n   2.17,\n   1.7280666666666669,\n   1.0989833333333332,\n   0.631,\n   0.3817],\n  'amounts_quote_pct': [0.1, 0.1, 0.1, 0.1, 0.2, 0.2],\n  'take_profit': 0.02046674308341078,\n  'activation_bounds': 0.002,\n  'max_open_orders': 1,\n  'min_order_amount': 1,\n  'leverage': 1,\n  'time_limit': None},\n {'id': 'dneitor-okx_0.6_PYTH-USDT',\n  'controller_name': 'dneitor',\n  'controller_type': 'generic',\n  'manual_kill_switch': None,\n  'candles_config': [],\n  'connector_name': 'okx',\n  'trading_pair': 'PYTH-USDT',\n  'total_amount_quote': 500,\n  'prices': [1.1002,\n   0.86195,\n   0.78495,\n   0.48319999999999996,\n   0.3615,\n   0.2508888888888889],\n  'amounts_quote_pct': [0.1, 0.1, 0.1, 0.1, 0.2, 0.2],\n  'take_profit': 0.02158048779980484,\n  'activation_bounds': 0.002,\n  'max_open_orders': 1,\n  'min_order_amount': 1,\n  'leverage': 1,\n  'time_limit': None},\n {'id': 'dneitor-okx_0.6_ULTI-USDT',\n  'controller_name': 'dneitor',\n  'controller_type': 'generic',\n  'manual_kill_switch': None,\n  'candles_config': [],\n  'connector_name': 'okx',\n  'trading_pair': 'ULTI-USDT',\n  'total_amount_quote': 500,\n  'prices': [0.06363,\n   0.04831,\n   0.02862,\n   0.02442,\n   0.02015,\n   0.015917999999999998],\n  'amounts_quote_pct': [0.1, 0.1, 0.1, 0.1, 0.2, 0.2],\n  'take_profit': 0.03471906859928843,\n  'activation_bounds': 0.002,\n  'max_open_orders': 1,\n  'min_order_amount': 1,\n  'leverage': 1,\n  'time_limit': None},\n {'id': 'dneitor-okx_0.6_ARB-USDT',\n  'controller_name': 'dneitor',\n  'controller_type': 'generic',\n  'manual_kill_switch': None,\n  'candles_config': [],\n  'connector_name': 'okx',\n  'trading_pair': 'ARB-USDT',\n  'total_amount_quote': 500,\n  'prices': [2.2586,\n   1.7878166666666668,\n   1.4267833333333335,\n   0.9629769230769232,\n   0.7417666666666666,\n   0.4949],\n  'amounts_quote_pct': [0.1, 0.1, 0.1, 0.1, 0.2, 0.2],\n  'take_profit': 0.01571813738558257,\n  'activation_bounds': 0.002,\n  'max_open_orders': 1,\n  'min_order_amount': 1,\n  'leverage': 1,\n  'time_limit': None}]"
     },
     "execution_count": 14,
     "metadata": {},
     "output_type": "execute_result"
    }
   ],
   "source": [
    "strategy_config"
   ],
   "metadata": {
    "collapsed": false,
    "ExecuteTime": {
     "end_time": "2024-09-23T18:23:31.735263Z",
     "start_time": "2024-09-23T18:23:31.732906Z"
    }
   }
  },
  {
   "cell_type": "code",
   "execution_count": 15,
   "outputs": [],
   "source": [
    "for config in strategy_config:\n",
    "    dump_dict_to_yaml(config, \"configs\")"
   ],
   "metadata": {
    "collapsed": false,
    "ExecuteTime": {
     "end_time": "2024-09-23T18:23:32.503438Z",
     "start_time": "2024-09-23T18:23:32.498780Z"
    }
   }
  },
  {
   "cell_type": "code",
   "execution_count": null,
   "outputs": [],
   "source": [],
   "metadata": {
    "collapsed": false
   }
  }
 ],
 "metadata": {
  "kernelspec": {
   "display_name": "Python 3 (ipykernel)",
   "language": "python",
   "name": "python3"
  },
  "language_info": {
   "codemirror_mode": {
    "name": "ipython",
    "version": 3
   },
   "file_extension": ".py",
   "mimetype": "text/x-python",
   "name": "python",
   "nbconvert_exporter": "python",
   "pygments_lexer": "ipython3",
   "version": "3.10.14"
  }
 },
 "nbformat": 4,
 "nbformat_minor": 4
}
