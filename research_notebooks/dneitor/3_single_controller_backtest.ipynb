{
 "cells": [
  {
   "cell_type": "code",
   "execution_count": null,
   "outputs": [],
   "source": [
    "# This is necessary to recognize the modules\n",
    "import os\n",
    "import sys\n",
    "import datetime\n",
    "import warnings\n",
    "\n",
    "warnings.filterwarnings(\"ignore\")\n",
    "\n",
    "root_path = os.path.abspath(os.path.join(os.getcwd(), '../..'))\n",
    "sys.path.append(root_path)"
   ],
   "metadata": {
    "collapsed": false
   }
  },
  {
   "cell_type": "code",
   "execution_count": 2,
   "metadata": {
    "ExecuteTime": {
     "end_time": "2024-09-07T23:05:46.067391Z",
     "start_time": "2024-09-07T23:05:40.683772Z"
    },
    "collapsed": false,
    "jupyter": {
     "outputs_hidden": false
    }
   },
   "outputs": [],
   "source": [
    "from core.backtesting import BacktestingEngine\n",
    "\n",
    "backtesting = BacktestingEngine(root_path=root_path, load_cached_data=True)"
   ]
  },
  {
   "cell_type": "code",
   "execution_count": 3,
   "metadata": {},
   "outputs": [
    {
     "data": {
      "text/html": [
       "<div>\n",
       "<style scoped>\n",
       "    .dataframe tbody tr th:only-of-type {\n",
       "        vertical-align: middle;\n",
       "    }\n",
       "\n",
       "    .dataframe tbody tr th {\n",
       "        vertical-align: top;\n",
       "    }\n",
       "\n",
       "    .dataframe thead th {\n",
       "        text-align: right;\n",
       "    }\n",
       "</style>\n",
       "<table border=\"1\" class=\"dataframe\">\n",
       "  <thead>\n",
       "    <tr style=\"text-align: right;\">\n",
       "      <th></th>\n",
       "      <th>timestamp</th>\n",
       "      <th>open</th>\n",
       "      <th>high</th>\n",
       "      <th>low</th>\n",
       "      <th>close</th>\n",
       "      <th>volume</th>\n",
       "      <th>quote_asset_volume</th>\n",
       "      <th>n_trades</th>\n",
       "      <th>taker_buy_base_volume</th>\n",
       "      <th>taker_buy_quote_volume</th>\n",
       "    </tr>\n",
       "  </thead>\n",
       "  <tbody>\n",
       "    <tr>\n",
       "      <th>2024-08-24 03:15:00</th>\n",
       "      <td>1724469300</td>\n",
       "      <td>0.0089314</td>\n",
       "      <td>0.0089327</td>\n",
       "      <td>0.0089179</td>\n",
       "      <td>0.0089306</td>\n",
       "      <td>61926117</td>\n",
       "      <td>552595.8614473</td>\n",
       "      <td>1005</td>\n",
       "      <td>47331769</td>\n",
       "      <td>422323.0680508</td>\n",
       "    </tr>\n",
       "    <tr>\n",
       "      <th>2024-08-24 03:16:00</th>\n",
       "      <td>1724469360</td>\n",
       "      <td>0.0089307</td>\n",
       "      <td>0.0089445</td>\n",
       "      <td>0.0089253</td>\n",
       "      <td>0.0089438</td>\n",
       "      <td>54635200</td>\n",
       "      <td>488157.4309937</td>\n",
       "      <td>980</td>\n",
       "      <td>38233612</td>\n",
       "      <td>341665.2255694</td>\n",
       "    </tr>\n",
       "    <tr>\n",
       "      <th>2024-08-24 03:17:00</th>\n",
       "      <td>1724469420</td>\n",
       "      <td>0.0089444</td>\n",
       "      <td>0.0089507</td>\n",
       "      <td>0.0089423</td>\n",
       "      <td>0.0089454</td>\n",
       "      <td>32141621</td>\n",
       "      <td>287538.4226658</td>\n",
       "      <td>728</td>\n",
       "      <td>17000357</td>\n",
       "      <td>152088.2780939</td>\n",
       "    </tr>\n",
       "    <tr>\n",
       "      <th>2024-08-24 03:18:00</th>\n",
       "      <td>1724469480</td>\n",
       "      <td>0.0089455</td>\n",
       "      <td>0.0089476</td>\n",
       "      <td>0.0089356</td>\n",
       "      <td>0.0089364</td>\n",
       "      <td>34395852</td>\n",
       "      <td>307560.8648765</td>\n",
       "      <td>530</td>\n",
       "      <td>7920616</td>\n",
       "      <td>70840.185985</td>\n",
       "    </tr>\n",
       "    <tr>\n",
       "      <th>2024-08-24 03:19:00</th>\n",
       "      <td>1724469540</td>\n",
       "      <td>0.0089364</td>\n",
       "      <td>0.0089375</td>\n",
       "      <td>0.0089221</td>\n",
       "      <td>0.0089227</td>\n",
       "      <td>32721732</td>\n",
       "      <td>292230.4915685</td>\n",
       "      <td>735</td>\n",
       "      <td>14914945</td>\n",
       "      <td>133158.3491865</td>\n",
       "    </tr>\n",
       "    <tr>\n",
       "      <th>...</th>\n",
       "      <td>...</td>\n",
       "      <td>...</td>\n",
       "      <td>...</td>\n",
       "      <td>...</td>\n",
       "      <td>...</td>\n",
       "      <td>...</td>\n",
       "      <td>...</td>\n",
       "      <td>...</td>\n",
       "      <td>...</td>\n",
       "      <td>...</td>\n",
       "    </tr>\n",
       "    <tr>\n",
       "      <th>2024-08-31 03:07:00</th>\n",
       "      <td>1725073620</td>\n",
       "      <td>0.0077644</td>\n",
       "      <td>0.0077644</td>\n",
       "      <td>0.0077601</td>\n",
       "      <td>0.0077619</td>\n",
       "      <td>9939964</td>\n",
       "      <td>77163.0860634</td>\n",
       "      <td>289</td>\n",
       "      <td>3601609</td>\n",
       "      <td>27958.4468139</td>\n",
       "    </tr>\n",
       "    <tr>\n",
       "      <th>2024-08-31 03:08:00</th>\n",
       "      <td>1725073680</td>\n",
       "      <td>0.0077623</td>\n",
       "      <td>0.0077623</td>\n",
       "      <td>0.0077538</td>\n",
       "      <td>0.0077564</td>\n",
       "      <td>19693057</td>\n",
       "      <td>152775.1236712</td>\n",
       "      <td>574</td>\n",
       "      <td>5719436</td>\n",
       "      <td>44370.0776795</td>\n",
       "    </tr>\n",
       "    <tr>\n",
       "      <th>2024-08-31 03:09:00</th>\n",
       "      <td>1725073740</td>\n",
       "      <td>0.0077564</td>\n",
       "      <td>0.007765</td>\n",
       "      <td>0.0077549</td>\n",
       "      <td>0.0077641</td>\n",
       "      <td>7262792</td>\n",
       "      <td>56352.342602</td>\n",
       "      <td>265</td>\n",
       "      <td>5152704</td>\n",
       "      <td>39983.2083516</td>\n",
       "    </tr>\n",
       "    <tr>\n",
       "      <th>2024-08-31 03:10:00</th>\n",
       "      <td>1725073800</td>\n",
       "      <td>0.0077641</td>\n",
       "      <td>0.0077649</td>\n",
       "      <td>0.0077579</td>\n",
       "      <td>0.0077608</td>\n",
       "      <td>15808259</td>\n",
       "      <td>122697.2778205</td>\n",
       "      <td>442</td>\n",
       "      <td>6191393</td>\n",
       "      <td>48054.4331655</td>\n",
       "    </tr>\n",
       "    <tr>\n",
       "      <th>2024-08-31 03:11:00</th>\n",
       "      <td>1725073860</td>\n",
       "      <td>0.0077602</td>\n",
       "      <td>0.0077653</td>\n",
       "      <td>0.0077602</td>\n",
       "      <td>0.0077623</td>\n",
       "      <td>3533305</td>\n",
       "      <td>27424.7977256</td>\n",
       "      <td>246</td>\n",
       "      <td>2425596</td>\n",
       "      <td>18826.5782645</td>\n",
       "    </tr>\n",
       "  </tbody>\n",
       "</table>\n",
       "<p>10071 rows × 10 columns</p>\n",
       "</div>"
      ],
      "text/plain": [
       "                     timestamp      open      high       low     close  \\\n",
       "2024-08-24 03:15:00 1724469300 0.0089314 0.0089327 0.0089179 0.0089306   \n",
       "2024-08-24 03:16:00 1724469360 0.0089307 0.0089445 0.0089253 0.0089438   \n",
       "2024-08-24 03:17:00 1724469420 0.0089444 0.0089507 0.0089423 0.0089454   \n",
       "2024-08-24 03:18:00 1724469480 0.0089455 0.0089476 0.0089356 0.0089364   \n",
       "2024-08-24 03:19:00 1724469540 0.0089364 0.0089375 0.0089221 0.0089227   \n",
       "...                        ...       ...       ...       ...       ...   \n",
       "2024-08-31 03:07:00 1725073620 0.0077644 0.0077644 0.0077601 0.0077619   \n",
       "2024-08-31 03:08:00 1725073680 0.0077623 0.0077623 0.0077538 0.0077564   \n",
       "2024-08-31 03:09:00 1725073740 0.0077564  0.007765 0.0077549 0.0077641   \n",
       "2024-08-31 03:10:00 1725073800 0.0077641 0.0077649 0.0077579 0.0077608   \n",
       "2024-08-31 03:11:00 1725073860 0.0077602 0.0077653 0.0077602 0.0077623   \n",
       "\n",
       "                      volume  quote_asset_volume  n_trades  \\\n",
       "2024-08-24 03:15:00 61926117      552595.8614473      1005   \n",
       "2024-08-24 03:16:00 54635200      488157.4309937       980   \n",
       "2024-08-24 03:17:00 32141621      287538.4226658       728   \n",
       "2024-08-24 03:18:00 34395852      307560.8648765       530   \n",
       "2024-08-24 03:19:00 32721732      292230.4915685       735   \n",
       "...                      ...                 ...       ...   \n",
       "2024-08-31 03:07:00  9939964       77163.0860634       289   \n",
       "2024-08-31 03:08:00 19693057      152775.1236712       574   \n",
       "2024-08-31 03:09:00  7262792        56352.342602       265   \n",
       "2024-08-31 03:10:00 15808259      122697.2778205       442   \n",
       "2024-08-31 03:11:00  3533305       27424.7977256       246   \n",
       "\n",
       "                     taker_buy_base_volume  taker_buy_quote_volume  \n",
       "2024-08-24 03:15:00               47331769          422323.0680508  \n",
       "2024-08-24 03:16:00               38233612          341665.2255694  \n",
       "2024-08-24 03:17:00               17000357          152088.2780939  \n",
       "2024-08-24 03:18:00                7920616            70840.185985  \n",
       "2024-08-24 03:19:00               14914945          133158.3491865  \n",
       "...                                    ...                     ...  \n",
       "2024-08-31 03:07:00                3601609           27958.4468139  \n",
       "2024-08-31 03:08:00                5719436           44370.0776795  \n",
       "2024-08-31 03:09:00                5152704           39983.2083516  \n",
       "2024-08-31 03:10:00                6191393           48054.4331655  \n",
       "2024-08-31 03:11:00                2425596           18826.5782645  \n",
       "\n",
       "[10071 rows x 10 columns]"
      ]
     },
     "execution_count": 3,
     "metadata": {},
     "output_type": "execute_result"
    }
   ],
   "source": [
    "backtesting._dt_bt.backtesting_data_provider.get_candles_df(\"binance_perpetual\", \"1000PEPE-USDT\", \"1m\")"
   ]
  },
  {
   "cell_type": "code",
   "execution_count": 4,
   "metadata": {
    "ExecuteTime": {
     "end_time": "2024-09-07T23:05:46.076394Z",
     "start_time": "2024-09-07T23:05:46.070461Z"
    },
    "collapsed": false,
    "jupyter": {
     "outputs_hidden": false
    }
   },
   "outputs": [],
   "source": [
    "from controllers.generic.dneitor import DneitorConfig\n",
    "from decimal import Decimal\n",
    "\n",
    "\n",
    "# Controller configuration\n",
    "connector_name = \"binance_perpetual\"\n",
    "trading_pair = \"1000PEPE-USDT\"\n",
    "total_amount_quote = 1000\n",
    "take_profit = 0.002\n",
    "prices = [0.0068, 0.0075, 0.0077]\n",
    "amounts_quote_pct = [1, 0.5, 0.2]\n",
    "activation_bounds = 0.03\n",
    "max_open_orders = 50\n",
    "start = int(datetime.datetime(2024, 8, 24, 5).timestamp())\n",
    "end = int(datetime.datetime(2024, 8, 31, 3).timestamp())\n",
    "backtesting_resolution = \"1m\"\n",
    "\n",
    "\n",
    "# Creating the instance of the configuration and the controller\n",
    "config = DneitorConfig(\n",
    "    connector_name=connector_name,\n",
    "    trading_pair=trading_pair,\n",
    "    total_amount_quote=Decimal(total_amount_quote),\n",
    "    take_profit=Decimal(take_profit),\n",
    "    prices=prices,\n",
    "    amounts_quote_pct=amounts_quote_pct,\n",
    "    activation_bounds=activation_bounds,\n",
    "    max_open_orders=max_open_orders)"
   ]
  },
  {
   "cell_type": "code",
   "execution_count": 5,
   "metadata": {
    "ExecuteTime": {
     "start_time": "2024-09-07T23:05:46.077199Z"
    },
    "collapsed": false
   },
   "outputs": [
    {
     "ename": "AttributeError",
     "evalue": "'BacktestingDataProvider' object has no attribute 'get_trading_rules'",
     "output_type": "error",
     "traceback": [
      "\u001B[0;31m---------------------------------------------------------------------------\u001B[0m",
      "\u001B[0;31mAttributeError\u001B[0m                            Traceback (most recent call last)",
      "Cell \u001B[0;32mIn[5], line 8\u001B[0m\n\u001B[1;32m      5\u001B[0m backtester\u001B[38;5;241m.\u001B[39mbacktesting_data_provider\u001B[38;5;241m.\u001B[39mend_time \u001B[38;5;241m=\u001B[39m end\n\u001B[1;32m      7\u001B[0m \u001B[38;5;66;03m# Running the backtesting this will output a backtesting result object that has built in methods to visualize the results\u001B[39;00m\n\u001B[0;32m----> 8\u001B[0m backtesting_result \u001B[38;5;241m=\u001B[39m \u001B[38;5;28;01mawait\u001B[39;00m backtesting\u001B[38;5;241m.\u001B[39mrun_backtesting(\n\u001B[1;32m      9\u001B[0m     config\u001B[38;5;241m=\u001B[39mconfig,\n\u001B[1;32m     10\u001B[0m     start\u001B[38;5;241m=\u001B[39mstart,\n\u001B[1;32m     11\u001B[0m     end\u001B[38;5;241m=\u001B[39mend,\n\u001B[1;32m     12\u001B[0m     backtesting_resolution\u001B[38;5;241m=\u001B[39mbacktesting_resolution,\n\u001B[1;32m     13\u001B[0m     backtester\u001B[38;5;241m=\u001B[39mbacktester\n\u001B[1;32m     14\u001B[0m )\n",
      "File \u001B[0;32m~/Documents/work/quants-lab/core/backtesting/engine.py:80\u001B[0m, in \u001B[0;36mBacktestingEngine.run_backtesting\u001B[0;34m(self, config, start, end, backtesting_resolution, trade_cost, backtester)\u001B[0m\n\u001B[1;32m     78\u001B[0m \u001B[38;5;28;01melse\u001B[39;00m:\n\u001B[1;32m     79\u001B[0m     \u001B[38;5;28;01mraise\u001B[39;00m \u001B[38;5;167;01mException\u001B[39;00m(\u001B[38;5;124m\"\u001B[39m\u001B[38;5;124mBacktester not specified\u001B[39m\u001B[38;5;124m\"\u001B[39m)\n\u001B[0;32m---> 80\u001B[0m bt_result \u001B[38;5;241m=\u001B[39m \u001B[38;5;28;01mawait\u001B[39;00m backtester\u001B[38;5;241m.\u001B[39mrun_backtesting(config, start, end, backtesting_resolution, trade_cost)\n\u001B[1;32m     81\u001B[0m \u001B[38;5;28;01mreturn\u001B[39;00m BacktestingResult(bt_result, config)\n",
      "File \u001B[0;32m~/anaconda3/envs/quants-lab/lib/python3.10/site-packages/hummingbot/strategy_v2/backtesting/backtesting_engine_base.py:93\u001B[0m, in \u001B[0;36mBacktestingEngineBase.run_backtesting\u001B[0;34m(self, controller_config, start, end, backtesting_resolution, trade_cost)\u001B[0m\n\u001B[1;32m     91\u001B[0m \u001B[38;5;28;01mawait\u001B[39;00m \u001B[38;5;28mself\u001B[39m\u001B[38;5;241m.\u001B[39minitialize_backtesting_data_provider()\n\u001B[1;32m     92\u001B[0m \u001B[38;5;28;01mawait\u001B[39;00m \u001B[38;5;28mself\u001B[39m\u001B[38;5;241m.\u001B[39mcontroller\u001B[38;5;241m.\u001B[39mupdate_processed_data()\n\u001B[0;32m---> 93\u001B[0m executors_info \u001B[38;5;241m=\u001B[39m \u001B[38;5;28;43mself\u001B[39;49m\u001B[38;5;241;43m.\u001B[39;49m\u001B[43msimulate_execution\u001B[49m\u001B[43m(\u001B[49m\u001B[43mtrade_cost\u001B[49m\u001B[38;5;241;43m=\u001B[39;49m\u001B[43mtrade_cost\u001B[49m\u001B[43m)\u001B[49m\n\u001B[1;32m     94\u001B[0m results \u001B[38;5;241m=\u001B[39m \u001B[38;5;28mself\u001B[39m\u001B[38;5;241m.\u001B[39msummarize_results(executors_info)\n\u001B[1;32m     95\u001B[0m \u001B[38;5;28;01mreturn\u001B[39;00m {\n\u001B[1;32m     96\u001B[0m     \u001B[38;5;124m\"\u001B[39m\u001B[38;5;124mexecutors\u001B[39m\u001B[38;5;124m\"\u001B[39m: executors_info,\n\u001B[1;32m     97\u001B[0m     \u001B[38;5;124m\"\u001B[39m\u001B[38;5;124mresults\u001B[39m\u001B[38;5;124m\"\u001B[39m: results,\n\u001B[1;32m     98\u001B[0m     \u001B[38;5;124m\"\u001B[39m\u001B[38;5;124mprocessed_data\u001B[39m\u001B[38;5;124m\"\u001B[39m: \u001B[38;5;28mself\u001B[39m\u001B[38;5;241m.\u001B[39mcontroller\u001B[38;5;241m.\u001B[39mprocessed_data,\n\u001B[1;32m     99\u001B[0m }\n",
      "File \u001B[0;32m~/anaconda3/envs/quants-lab/lib/python3.10/site-packages/hummingbot/strategy_v2/backtesting/backtesting_engine_base.py:128\u001B[0m, in \u001B[0;36mBacktestingEngineBase.simulate_execution\u001B[0;34m(self, trade_cost)\u001B[0m\n\u001B[1;32m    126\u001B[0m \u001B[38;5;28mself\u001B[39m\u001B[38;5;241m.\u001B[39mupdate_processed_data(row)\n\u001B[1;32m    127\u001B[0m \u001B[38;5;28mself\u001B[39m\u001B[38;5;241m.\u001B[39mupdate_executors_info(row[\u001B[38;5;124m\"\u001B[39m\u001B[38;5;124mtimestamp\u001B[39m\u001B[38;5;124m\"\u001B[39m])\n\u001B[0;32m--> 128\u001B[0m \u001B[38;5;28;01mfor\u001B[39;00m action \u001B[38;5;129;01min\u001B[39;00m \u001B[38;5;28;43mself\u001B[39;49m\u001B[38;5;241;43m.\u001B[39;49m\u001B[43mcontroller\u001B[49m\u001B[38;5;241;43m.\u001B[39;49m\u001B[43mdetermine_executor_actions\u001B[49m\u001B[43m(\u001B[49m\u001B[43m)\u001B[49m:\n\u001B[1;32m    129\u001B[0m     \u001B[38;5;28;01mif\u001B[39;00m \u001B[38;5;28misinstance\u001B[39m(action, CreateExecutorAction):\n\u001B[1;32m    130\u001B[0m         executor_simulation \u001B[38;5;241m=\u001B[39m \u001B[38;5;28mself\u001B[39m\u001B[38;5;241m.\u001B[39msimulate_executor(action\u001B[38;5;241m.\u001B[39mexecutor_config, processed_features\u001B[38;5;241m.\u001B[39mloc[i:], trade_cost)\n",
      "File \u001B[0;32m~/Documents/work/quants-lab/controllers/generic/dneitor.py:82\u001B[0m, in \u001B[0;36mDneitor.determine_executor_actions\u001B[0;34m(self)\u001B[0m\n\u001B[1;32m     78\u001B[0m \u001B[38;5;250m\u001B[39m\u001B[38;5;124;03m\"\"\"\u001B[39;00m\n\u001B[1;32m     79\u001B[0m \u001B[38;5;124;03mDetermines the actions needed to create or stop executors based on current market conditions.\u001B[39;00m\n\u001B[1;32m     80\u001B[0m \u001B[38;5;124;03m\"\"\"\u001B[39;00m\n\u001B[1;32m     81\u001B[0m executor_actions \u001B[38;5;241m=\u001B[39m []\n\u001B[0;32m---> 82\u001B[0m executor_actions\u001B[38;5;241m.\u001B[39mextend(\u001B[38;5;28;43mself\u001B[39;49m\u001B[38;5;241;43m.\u001B[39;49m\u001B[43mdetermine_create_executor_actions\u001B[49m\u001B[43m(\u001B[49m\u001B[43m)\u001B[49m)\n\u001B[1;32m     83\u001B[0m executor_actions\u001B[38;5;241m.\u001B[39mextend(\u001B[38;5;28mself\u001B[39m\u001B[38;5;241m.\u001B[39mdetermine_stop_executor_actions())\n\u001B[1;32m     84\u001B[0m \u001B[38;5;28;01mreturn\u001B[39;00m executor_actions\n",
      "File \u001B[0;32m~/Documents/work/quants-lab/controllers/generic/dneitor.py:103\u001B[0m, in \u001B[0;36mDneitor.determine_create_executor_actions\u001B[0;34m(self)\u001B[0m\n\u001B[1;32m    101\u001B[0m current_balance \u001B[38;5;241m=\u001B[39m \u001B[38;5;28msum\u001B[39m([executor\u001B[38;5;241m.\u001B[39mfilled_amount_quote \u001B[38;5;28;01mfor\u001B[39;00m executor \u001B[38;5;129;01min\u001B[39;00m all_executors])\n\u001B[1;32m    102\u001B[0m imbalance \u001B[38;5;241m=\u001B[39m expected_cumulative_balance_lower_bound \u001B[38;5;241m-\u001B[39m current_balance\n\u001B[0;32m--> 103\u001B[0m trading_rules \u001B[38;5;241m=\u001B[39m \u001B[38;5;28;43mself\u001B[39;49m\u001B[38;5;241;43m.\u001B[39;49m\u001B[43mmarket_data_provider\u001B[49m\u001B[38;5;241;43m.\u001B[39;49m\u001B[43mget_trading_rules\u001B[49m(\u001B[38;5;28mself\u001B[39m\u001B[38;5;241m.\u001B[39mconfig\u001B[38;5;241m.\u001B[39mconnector_name, \u001B[38;5;28mself\u001B[39m\u001B[38;5;241m.\u001B[39mconfig\u001B[38;5;241m.\u001B[39mtrading_pair)\n\u001B[1;32m    104\u001B[0m min_order_size \u001B[38;5;241m=\u001B[39m trading_rules\u001B[38;5;241m.\u001B[39mmin_order_size\n\u001B[1;32m    105\u001B[0m min_notional_size \u001B[38;5;241m=\u001B[39m trading_rules\u001B[38;5;241m.\u001B[39mmin_notional_size\n",
      "\u001B[0;31mAttributeError\u001B[0m: 'BacktestingDataProvider' object has no attribute 'get_trading_rules'"
     ]
    }
   ],
   "source": [
    "from research_notebooks.dneitor.dneitor_bt import DneitorBacktesting\n",
    "\n",
    "backtester = DneitorBacktesting()\n",
    "backtester.backtesting_data_provider.start_time = start\n",
    "backtester.backtesting_data_provider.end_time = end\n",
    "\n",
    "# Running the backtesting this will output a backtesting result object that has built in methods to visualize the results\n",
    "backtesting_result = await backtesting.run_backtesting(\n",
    "    config=config,\n",
    "    start=start,\n",
    "    end=end,\n",
    "    backtesting_resolution=backtesting_resolution,\n",
    "    backtester=backtester\n",
    ")"
   ]
  },
  {
   "cell_type": "code",
   "execution_count": null,
   "metadata": {},
   "outputs": [],
   "source": [
    "# Let's see what is inside the backtesting results\n",
    "print(backtesting_result.get_results_summary())\n",
    "backtesting_result.get_backtesting_figure()"
   ]
  },
  {
   "cell_type": "code",
   "execution_count": null,
   "metadata": {
    "collapsed": false,
    "jupyter": {
     "outputs_hidden": false
    }
   },
   "outputs": [],
   "source": [
    "# 2. The executors dataframe: this is the dataframe that contains the information of the orders that were executed\n",
    "import pandas as pd\n",
    "\n",
    "executors_df = backtesting_result.executors_df\n",
    "executors_df.head()"
   ]
  },
  {
   "cell_type": "markdown",
   "metadata": {
    "collapsed": false
   },
   "source": [
    "### Backtesting Analysis"
   ]
  },
  {
   "cell_type": "markdown",
   "metadata": {
    "collapsed": false,
    "jupyter": {
     "outputs_hidden": false
    }
   },
   "source": [
    "### Scatter of PNL per Trade\n",
    "This bar chart illustrates the PNL for each individual trade. Positive PNLs are shown in green and negative PNLs in red, providing a clear view of profitable vs. unprofitable trades.\n"
   ]
  },
  {
   "cell_type": "code",
   "execution_count": null,
   "metadata": {
    "collapsed": false,
    "jupyter": {
     "outputs_hidden": false
    }
   },
   "outputs": [],
   "source": [
    "import plotly.express as px\n",
    "\n",
    "# Create a new column for profitability\n",
    "executors_df['profitable'] = executors_df['net_pnl_quote'] > 0\n",
    "\n",
    "# Create the scatter plot\n",
    "fig = px.scatter(\n",
    "    executors_df,\n",
    "    x=\"timestamp\",\n",
    "    y='net_pnl_quote',\n",
    "    title='PNL per Trade',\n",
    "    color='profitable',\n",
    "    color_discrete_map={True: 'green', False: 'red'},\n",
    "    labels={'timestamp': 'Timestamp', 'net_pnl_quote': 'Net PNL (Quote)'},\n",
    "    hover_data=['filled_amount_quote', 'side']\n",
    ")\n",
    "\n",
    "# Customize the layout\n",
    "fig.update_layout(\n",
    "    xaxis_title=\"Timestamp\",\n",
    "    yaxis_title=\"Net PNL (Quote)\",\n",
    "    legend_title=\"Profitable\",\n",
    "    font=dict(size=12, color=\"white\"),\n",
    "    showlegend=False,\n",
    "    plot_bgcolor='rgba(0,0,0,0.8)',  # Dark background\n",
    "    paper_bgcolor='rgba(0,0,0,0.8)',  # Dark background for the entire plot area\n",
    "    xaxis=dict(gridcolor=\"gray\"),\n",
    "    yaxis=dict(gridcolor=\"gray\")\n",
    ")\n",
    "\n",
    "# Add a horizontal line at y=0 to clearly separate profits and losses\n",
    "fig.add_hline(y=0, line_dash=\"dash\", line_color=\"lightgray\")\n",
    "\n",
    "# Show the plot\n",
    "fig.show()"
   ]
  },
  {
   "cell_type": "markdown",
   "metadata": {
    "collapsed": false,
    "jupyter": {
     "outputs_hidden": false
    }
   },
   "source": [
    "### Histogram of PNL Distribution\n",
    "The histogram displays the distribution of PNL values across all trades. It helps in understanding the frequency and range of profit and loss outcomes.\n"
   ]
  },
  {
   "cell_type": "code",
   "execution_count": null,
   "metadata": {
    "collapsed": false,
    "jupyter": {
     "outputs_hidden": false
    }
   },
   "outputs": [],
   "source": [
    "fig = px.histogram(executors_df, x='net_pnl_quote', title='PNL Distribution')\n",
    "fig.show()\n"
   ]
  },
  {
   "cell_type": "markdown",
   "metadata": {
    "collapsed": false,
    "jupyter": {
     "outputs_hidden": false
    }
   },
   "source": [
    "# Conclusion\n",
    "We can see that the indicator has potential to bring good signals to trade and might be interesting to see how we can design a market maker that shifts the mid price based on this indicator.\n",
    "A lot of the short signals are wrong but if we zoom in into the loss signals we can see that the losses are not that big and the wins are bigger and if we had implemented the trailing stop feature probably a lot of them are going to be profits."
   ]
  },
  {
   "cell_type": "markdown",
   "metadata": {
    "collapsed": false,
    "jupyter": {
     "outputs_hidden": false
    }
   },
   "source": [
    "# Next steps\n",
    "- Filter only the loss signals and understand what you can do to prevent them\n",
    "- Try different configuration values for the indicator\n",
    "- Test in multiple markets, pick mature markets like BTC-USDT or ETH-USDT and also volatile markets like DOGE-USDT or SHIB-USDT"
   ]
  }
 ],
 "metadata": {
  "kernelspec": {
   "display_name": "Python 3 (ipykernel)",
   "language": "python",
   "name": "python3"
  },
  "language_info": {
   "codemirror_mode": {
    "name": "ipython",
    "version": 3
   },
   "file_extension": ".py",
   "mimetype": "text/x-python",
   "name": "python",
   "nbconvert_exporter": "python",
   "pygments_lexer": "ipython3",
   "version": "3.10.14"
  }
 },
 "nbformat": 4,
 "nbformat_minor": 4
}
