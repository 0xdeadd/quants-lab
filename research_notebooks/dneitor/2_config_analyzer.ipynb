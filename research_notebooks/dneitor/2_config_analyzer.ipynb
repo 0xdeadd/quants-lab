{
 "cells": [
  {
   "cell_type": "code",
   "execution_count": null,
   "metadata": {},
   "outputs": [],
   "source": [
    "import os\n",
    "import sys\n",
    "from decimal import Decimal\n",
    "import asyncio\n",
    "\n",
    "root_path = os.path.abspath(os.path.join(os.getcwd(), '../..'))\n",
    "sys.path.append(root_path)\n",
    "\n",
    "\n",
    "from data_sources.clob import CLOBDataSource\n",
    "from research_notebooks.dneitor.utils import read_yaml_to_dict\n",
    "\n",
    "clob = CLOBDataSource()\n",
    "config = read_yaml_to_dict('configs/dneitor-okx_0.4.yml')\n",
    "FETCH_CANDLES = False\n",
    "trading_pairs = [config[\"trading_pair\"] for config in config[\"markets\"]]\n",
    "CONNECTOR_NAME = config[\"markets\"][0][\"connector_name\"]\n",
    "DAYS = 7\n",
    "INTERVALS = [\"15m\"]"
   ]
  },
  {
   "cell_type": "code",
   "execution_count": null,
   "metadata": {
    "collapsed": false,
    "jupyter": {
     "outputs_hidden": false
    }
   },
   "outputs": [],
   "source": [
    "BATCH_CANDLES_REQUEST = 3\n",
    "SLEEP_REQUEST = 2.0\n",
    "\n",
    "\n",
    "if FETCH_CANDLES:\n",
    "    number_of_calls = (len(trading_pairs) // BATCH_CANDLES_REQUEST) + 1\n",
    "\n",
    "    all_candles = {}\n",
    "\n",
    "    for i in range(number_of_calls):\n",
    "        print(f\"Batch {i + 1}/{number_of_calls}\")\n",
    "        start = i * BATCH_CANDLES_REQUEST\n",
    "        end = (i + 1) * BATCH_CANDLES_REQUEST\n",
    "        print(f\"Start: {start}, End: {end}\")\n",
    "        end = min(end, len(trading_pairs))\n",
    "        trading_pairs_batch = trading_pairs[start:end]\n",
    "\n",
    "        tasks = [clob.get_candles_last_days(\n",
    "        connector_name=CONNECTOR_NAME,\n",
    "        trading_pair=trading_pair,\n",
    "        interval=interval,\n",
    "        days=DAYS,\n",
    "        ) for trading_pair in trading_pairs_batch for interval in INTERVALS]\n",
    "\n",
    "        candles = await asyncio.gather(*tasks)\n",
    "        candles = {trading_pair: candle for trading_pair, candle in zip(trading_pairs, candles)}\n",
    "        all_candles.update(candles)\n",
    "        if i != number_of_calls - 1:\n",
    "            print(f\"Sleeping for {SLEEP_REQUEST} seconds\")\n",
    "            await asyncio.sleep(SLEEP_REQUEST)\n",
    "    clob.dump_candles_cache(os.path.join(root_path, \"data\"))\n",
    "else:\n",
    "    clob.load_candles_cache(os.path.join(root_path, \"data\"))"
   ]
  },
  {
   "cell_type": "code",
   "execution_count": null,
   "metadata": {
    "collapsed": false,
    "jupyter": {
     "outputs_hidden": false
    }
   },
   "outputs": [],
   "source": [
    "market_configs = config[\"markets\"]\n",
    "for market_config in market_configs:\n",
    "    candle = clob.candles_cache[(market_config[\"connector_name\"], market_config[\"trading_pair\"], \"15m\")]\n",
    "    fig = candle.fig(\"candles\")\n",
    "    for price in market_config['prices']:\n",
    "        fig.add_hline(y=price, line=dict(color='blue', dash='dash'))\n",
    "    fig.show()"
   ]
  },
  {
   "cell_type": "code",
   "execution_count": null,
   "outputs": [],
   "source": [
    "from services.backend_api_client import BackendAPIClient\n",
    "from dotenv import load_dotenv\n",
    "import os\n",
    "\n",
    "load_dotenv()\n",
    "servers = os.environ.get(\"SERVERS\").split(\",\")"
   ],
   "metadata": {
    "collapsed": false
   }
  },
  {
   "cell_type": "code",
   "execution_count": null,
   "outputs": [],
   "source": [
    "client = BackendAPIClient(servers[0])\n",
    "client.add_controller_config(config)"
   ],
   "metadata": {
    "collapsed": false
   }
  },
  {
   "cell_type": "code",
   "execution_count": null,
   "outputs": [],
   "source": [
    "config_binance = read_yaml_to_dict('configs/dneitor-binance_0.4.yml')\n",
    "client.add_controller_config(config_binance)"
   ],
   "metadata": {
    "collapsed": false
   }
  },
  {
   "cell_type": "code",
   "execution_count": null,
   "outputs": [],
   "source": [
    "client.deploy_script_with_controllers(\n",
    "    bot_name=\"dneitor\",\n",
    "    controller_configs=[\"dneitor-binance_0.4.yml\"],\n",
    "    image_name=\"hummingbot/hummingbot:development\"\n",
    ")"
   ],
   "metadata": {
    "collapsed": false
   }
  },
  {
   "cell_type": "code",
   "execution_count": null,
   "outputs": [],
   "source": [
    "client.get_accounts_state()"
   ],
   "metadata": {
    "collapsed": false
   }
  }
 ],
 "metadata": {
  "kernelspec": {
   "display_name": "Python 3 (ipykernel)",
   "language": "python",
   "name": "python3"
  },
  "language_info": {
   "codemirror_mode": {
    "name": "ipython",
    "version": 3
   },
   "file_extension": ".py",
   "mimetype": "text/x-python",
   "name": "python",
   "nbconvert_exporter": "python",
   "pygments_lexer": "ipython3",
   "version": "3.10.14"
  }
 },
 "nbformat": 4,
 "nbformat_minor": 4
}
