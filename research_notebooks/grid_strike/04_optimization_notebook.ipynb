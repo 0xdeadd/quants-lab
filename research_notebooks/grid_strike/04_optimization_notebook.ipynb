{
 "cells": [
  {
   "cell_type": "code",
   "execution_count": 1,
   "metadata": {
    "collapsed": false,
    "ExecuteTime": {
     "end_time": "2024-09-12T06:22:43.653698Z",
     "start_time": "2024-09-12T06:22:43.649968Z"
    }
   },
   "outputs": [],
   "source": [
    "import os\n",
    "import sys\n",
    "\n",
    "root_path = os.path.abspath(os.path.join(os.getcwd(), '../..'))\n",
    "sys.path.append(root_path)"
   ]
  },
  {
   "cell_type": "code",
   "execution_count": 2,
   "metadata": {
    "ExecuteTime": {
     "end_time": "2024-09-12T06:22:47.097016Z",
     "start_time": "2024-09-12T06:22:43.664913Z"
    }
   },
   "outputs": [],
   "source": [
    "from research_notebooks.grid_strike.grid_strike_bt import GridStrikeBT\n",
    "from core.features.candles.volume import VolumeConfig\n",
    "from core.features.candles.volatility import VolatilityConfig\n",
    "from research_notebooks.grid_strike.utils import generate_report\n",
    "import pandas as pd\n",
    "import datetime\n",
    "from controllers.generic.grid_strike import GridStrikeConfig\n",
    "from core.backtesting.optimizer import BacktestingConfig, BaseStrategyConfigGenerator\n",
    "from decimal import Decimal\n",
    "from core.data_sources.clob import CLOBDataSource\n",
    "\n",
    "\n",
    "\n",
    "class GridStrikeConfigGenerator(BaseStrategyConfigGenerator):\n",
    "    def __init__(self, start_date: datetime.datetime, end_date: datetime.datetime, backtester= GridStrikeBT()):\n",
    "        super().__init__(start_date, end_date, backtester)\n",
    "        self.report = None\n",
    "        self.trading_pairs = None\n",
    "        self.candles = None\n",
    "\n",
    "    async def generate_top_markets_report(self,\n",
    "                                          connector_name: str,\n",
    "                                          interval: str,\n",
    "                                          days: int,\n",
    "                                          quote_asset: str,\n",
    "                                          min_notional_size: float,\n",
    "                                          volatility_window: int,\n",
    "                                          batch_size: int,\n",
    "                                          sleep_time: float,\n",
    "                                          volatility_threshold: float,\n",
    "                                          volume_threshold: float,\n",
    "                                          ) -> pd.DataFrame:\n",
    "        clob = CLOBDataSource()\n",
    "        trading_rules = await clob.get_trading_rules(connector_name)\n",
    "        trading_pairs = trading_rules.filter_by_quote_asset(quote_asset).filter_by_min_notional_size(Decimal(min_notional_size)).get_all_trading_pairs()\n",
    "        candles = await clob.get_candles_batch_last_days(connector_name, trading_pairs, interval, days, batch_size, sleep_time)\n",
    "        report_df = generate_report(candles, volatility_config=VolatilityConfig(window=volatility_window), volume_config=VolumeConfig(short_window=5, long_window=20))\n",
    "        natr_percentile = report_df['mean_natr'].quantile(volatility_threshold)\n",
    "        volume_percentile = report_df['average_volume_per_hour'].quantile(volume_threshold)\n",
    "\n",
    "        filtered_df = report_df[\n",
    "            (report_df['mean_natr'] > natr_percentile) &\n",
    "            (report_df['average_volume_per_hour'] > volume_percentile)\n",
    "            ]\n",
    "        self.report = filtered_df.sort_values(by='normalized_score', ascending=False)\n",
    "        self.trading_pairs = self.report['trading_pair'].to_list()\n",
    "        self.candles = {candle.trading_pair: candle for candle in candles}\n",
    "\n",
    "    def generate_config(self, trial) -> BacktestingConfig:\n",
    "        # Suggest hyperparameters using the trial object\n",
    "        connector_name = \"binance\"\n",
    "        total_amount_quote = 1000\n",
    "        trading_pair = trial.suggest_categorical(\"trading_pair\", self.trading_pairs)\n",
    "        grid_mid_price = self.report[self.report['trading_pair'] == trading_pair]['grid_mid_price'].values[0]\n",
    "        sniper_upper_price = self.report[self.report['trading_pair'] == trading_pair]['sniper_upper_price'].values[0]\n",
    "        sniper_lower_price = self.report[self.report['trading_pair'] == trading_pair]['sniper_lower_price'].values[0]\n",
    "        grid_step = trial.suggest_float(\"grid_step\", 0.005, 0.02, step=0.005)\n",
    "        grid_upper_price_quantile = trial.suggest_float(\"grid_upper_price_quantile\", 0.75, 0.95, step=0.05)\n",
    "        grid_lower_price_quantile = trial.suggest_float(\"grid_lower_price_quantile\", 0.05, 0.25, step=0.05)\n",
    "        candles = self.candles[trading_pair]\n",
    "        grid_upper_price = candles.data.close.quantile(grid_upper_price_quantile)\n",
    "        grid_lower_price = candles.data.close.quantile(grid_lower_price_quantile)\n",
    "\n",
    "        # Create the strategy configuration\n",
    "        config = GridStrikeConfig(\n",
    "            connector_name=connector_name,\n",
    "            trading_pair=trading_pair,\n",
    "            total_amount_quote=Decimal(total_amount_quote),\n",
    "            grid_upper_price=grid_upper_price,\n",
    "            grid_mid_price=grid_mid_price,\n",
    "            grid_lower_price=grid_lower_price,\n",
    "            sniper_upper_price=sniper_upper_price,\n",
    "            sniper_lower_price=sniper_lower_price,\n",
    "            grid_step=grid_step,\n",
    "            rebalanced=True,\n",
    "        )\n",
    "\n",
    "        # Return the configuration encapsulated in BacktestingConfig\n",
    "        return BacktestingConfig(config=config, start=self.start, end=self.end)"
   ]
  },
  {
   "cell_type": "code",
   "execution_count": 3,
   "metadata": {
    "ExecuteTime": {
     "end_time": "2024-09-12T06:22:50.401668Z",
     "start_time": "2024-09-12T06:22:47.098502Z"
    }
   },
   "outputs": [
    {
     "name": "stderr",
     "output_type": "stream",
     "text": [
      "2024-09-12 14:22:47,074 - asyncio - ERROR - Unclosed client session\n",
      "client_session: <aiohttp.client.ClientSession object at 0x104a97610>\n",
      "2024-09-12 14:22:47,667 - asyncio - ERROR - Unclosed client session\n",
      "client_session: <aiohttp.client.ClientSession object at 0x14934cc70>\n",
      "2024-09-12 14:22:47,671 - asyncio - ERROR - Unclosed connector\n",
      "connections: ['[(<aiohttp.client_proto.ResponseHandler object at 0x1491de440>, 292415.144830208)]']\n",
      "connector: <aiohttp.connector.TCPConnector object at 0x14934cca0>\n"
     ]
    },
    {
     "name": "stdout",
     "output_type": "stream",
     "text": [
      "Batch 1/1\n",
      "Start: 0, End: 100\n"
     ]
    },
    {
     "name": "stderr",
     "output_type": "stream",
     "text": [
      "2024-09-12 14:22:49,455 - asyncio - ERROR - Unclosed client session\n",
      "client_session: <aiohttp.client.ClientSession object at 0x149225540>\n",
      "2024-09-12 14:22:49,456 - asyncio - ERROR - Unclosed connector\n",
      "connections: ['[(<aiohttp.client_proto.ResponseHandler object at 0x14b3d2500>, 292416.925244958)]']\n",
      "connector: <aiohttp.connector.TCPConnector object at 0x1492256c0>\n",
      "2024-09-12 14:22:49,799 - asyncio - ERROR - Unclosed client session\n",
      "client_session: <aiohttp.client.ClientSession object at 0x149265690>\n",
      "2024-09-12 14:22:49,800 - asyncio - ERROR - Unclosed connector\n",
      "connections: ['[(<aiohttp.client_proto.ResponseHandler object at 0x14b3d2ec0>, 292417.270173375)]']\n",
      "connector: <aiohttp.connector.TCPConnector object at 0x1492656f0>\n",
      "2024-09-12 14:22:49,894 - asyncio - ERROR - Unclosed client session\n",
      "client_session: <aiohttp.client.ClientSession object at 0x14923ef50>\n",
      "2024-09-12 14:22:49,895 - asyncio - ERROR - Unclosed connector\n",
      "connections: ['[(<aiohttp.client_proto.ResponseHandler object at 0x14b3d09a0>, 292417.364125625)]']\n",
      "connector: <aiohttp.connector.TCPConnector object at 0x14923f0a0>\n",
      "2024-09-12 14:22:49,904 - asyncio - ERROR - Unclosed client session\n",
      "client_session: <aiohttp.client.ClientSession object at 0x149277190>\n",
      "2024-09-12 14:22:49,904 - asyncio - ERROR - Unclosed connector\n",
      "connections: ['[(<aiohttp.client_proto.ResponseHandler object at 0x14b3d23e0>, 292417.373709708)]']\n",
      "connector: <aiohttp.connector.TCPConnector object at 0x1492770d0>\n",
      "2024-09-12 14:22:50,120 - asyncio - ERROR - Unclosed client session\n",
      "client_session: <aiohttp.client.ClientSession object at 0x149251030>\n",
      "2024-09-12 14:22:50,120 - asyncio - ERROR - Unclosed connector\n",
      "connections: ['[(<aiohttp.client_proto.ResponseHandler object at 0x14b3d0640>, 292417.546089458)]']\n",
      "connector: <aiohttp.connector.TCPConnector object at 0x1492511e0>\n",
      "2024-09-12 14:22:50,128 - asyncio - ERROR - Unclosed client session\n",
      "client_session: <aiohttp.client.ClientSession object at 0x1492753c0>\n",
      "2024-09-12 14:22:50,129 - asyncio - ERROR - Unclosed connector\n",
      "connections: ['[(<aiohttp.client_proto.ResponseHandler object at 0x14b3d1fc0>, 292417.553375958)]']\n",
      "connector: <aiohttp.connector.TCPConnector object at 0x1492743a0>\n",
      "2024-09-12 14:22:50,138 - asyncio - ERROR - Unclosed client session\n",
      "client_session: <aiohttp.client.ClientSession object at 0x104a963e0>\n",
      "2024-09-12 14:22:50,138 - asyncio - ERROR - Unclosed connector\n",
      "connections: ['[(<aiohttp.client_proto.ResponseHandler object at 0x14b3d1b40>, 292417.558410166)]']\n",
      "connector: <aiohttp.connector.TCPConnector object at 0x104a96860>\n",
      "2024-09-12 14:22:50,155 - asyncio - ERROR - Unclosed client session\n",
      "client_session: <aiohttp.client.ClientSession object at 0x149298e80>\n",
      "2024-09-12 14:22:50,156 - asyncio - ERROR - Unclosed connector\n",
      "connections: ['[(<aiohttp.client_proto.ResponseHandler object at 0x14b3d39a0>, 292417.589634166)]']\n",
      "connector: <aiohttp.connector.TCPConnector object at 0x149298fd0>\n",
      "2024-09-12 14:22:50,165 - asyncio - ERROR - Unclosed client session\n",
      "client_session: <aiohttp.client.ClientSession object at 0x1492199c0>\n",
      "2024-09-12 14:22:50,166 - asyncio - ERROR - Unclosed connector\n",
      "connections: ['[(<aiohttp.client_proto.ResponseHandler object at 0x14b3d1a20>, 292417.634648416)]']\n",
      "connector: <aiohttp.connector.TCPConnector object at 0x1492197e0>\n",
      "2024-09-12 14:22:50,174 - asyncio - ERROR - Unclosed client session\n",
      "client_session: <aiohttp.client.ClientSession object at 0x149284d90>\n",
      "2024-09-12 14:22:50,174 - asyncio - ERROR - Unclosed connector\n",
      "connections: ['[(<aiohttp.client_proto.ResponseHandler object at 0x14b3d27a0>, 292417.634763875)]']\n",
      "connector: <aiohttp.connector.TCPConnector object at 0x149284ac0>\n",
      "2024-09-12 14:22:50,182 - asyncio - ERROR - Unclosed client session\n",
      "client_session: <aiohttp.client.ClientSession object at 0x149252d40>\n",
      "2024-09-12 14:22:50,183 - asyncio - ERROR - Unclosed connector\n",
      "connections: ['[(<aiohttp.client_proto.ResponseHandler object at 0x14b3d21a0>, 292417.634916)]']\n",
      "connector: <aiohttp.connector.TCPConnector object at 0x149251a20>\n",
      "2024-09-12 14:22:50,192 - asyncio - ERROR - Unclosed client session\n",
      "client_session: <aiohttp.client.ClientSession object at 0x1492273d0>\n",
      "2024-09-12 14:22:50,192 - asyncio - ERROR - Unclosed connector\n",
      "connections: ['[(<aiohttp.client_proto.ResponseHandler object at 0x14b3d2860>, 292417.635197166)]']\n",
      "connector: <aiohttp.connector.TCPConnector object at 0x149227310>\n",
      "2024-09-12 14:22:50,200 - asyncio - ERROR - Unclosed client session\n",
      "client_session: <aiohttp.client.ClientSession object at 0x14923d0c0>\n",
      "2024-09-12 14:22:50,201 - asyncio - ERROR - Unclosed connector\n",
      "connections: ['[(<aiohttp.client_proto.ResponseHandler object at 0x14b3d26e0>, 292417.635421458)]']\n",
      "connector: <aiohttp.connector.TCPConnector object at 0x14923d210>\n",
      "2024-09-12 14:22:50,209 - asyncio - ERROR - Unclosed client session\n",
      "client_session: <aiohttp.client.ClientSession object at 0x149287370>\n",
      "2024-09-12 14:22:50,210 - asyncio - ERROR - Unclosed connector\n",
      "connections: ['[(<aiohttp.client_proto.ResponseHandler object at 0x14b3d3460>, 292417.635659375)]']\n",
      "connector: <aiohttp.connector.TCPConnector object at 0x1492872b0>\n",
      "2024-09-12 14:22:50,218 - asyncio - ERROR - Unclosed client session\n",
      "client_session: <aiohttp.client.ClientSession object at 0x14929ab60>\n",
      "2024-09-12 14:22:50,219 - asyncio - ERROR - Unclosed connector\n",
      "connections: ['[(<aiohttp.client_proto.ResponseHandler object at 0x14b3d0ac0>, 292417.636054166)]']\n",
      "connector: <aiohttp.connector.TCPConnector object at 0x14929acb0>\n",
      "2024-09-12 14:22:50,222 - asyncio - ERROR - Unclosed client session\n",
      "client_session: <aiohttp.client.ClientSession object at 0x149218f70>\n",
      "2024-09-12 14:22:50,222 - asyncio - ERROR - Unclosed connector\n",
      "connections: ['[(<aiohttp.client_proto.ResponseHandler object at 0x14b3d35e0>, 292417.6976725)]']\n",
      "connector: <aiohttp.connector.TCPConnector object at 0x149218f10>\n",
      "2024-09-12 14:22:50,231 - asyncio - ERROR - Unclosed client session\n",
      "client_session: <aiohttp.client.ClientSession object at 0x149267790>\n",
      "2024-09-12 14:22:50,232 - asyncio - ERROR - Unclosed connector\n",
      "connections: ['[(<aiohttp.client_proto.ResponseHandler object at 0x14b3d2740>, 292417.701795583)]']\n",
      "connector: <aiohttp.connector.TCPConnector object at 0x1492678e0>\n",
      "2024-09-12 14:22:50,397 - asyncio - ERROR - Unclosed client session\n",
      "client_session: <aiohttp.client.ClientSession object at 0x104a978b0>\n"
     ]
    }
   ],
   "source": [
    "from core.backtesting.optimizer import StrategyOptimizer\n",
    "import datetime\n",
    "\n",
    "connector_name = \"binance\"\n",
    "interval = \"15m\"\n",
    "days = 30\n",
    "quote_asset = \"USDT\"\n",
    "min_notional_size = 1\n",
    "volatility_window = 20\n",
    "batch_size = 100\n",
    "sleep_time = 2.0\n",
    "volatility_threshold = 0.4\n",
    "volume_threshold = 0.4\n",
    "\n",
    "start_date = datetime.datetime(2024, 9, 10)\n",
    "end_date = datetime.datetime(2024, 9, 12)\n",
    "config_generator = GridStrikeConfigGenerator(start_date=start_date, end_date=end_date)\n",
    "await config_generator.generate_top_markets_report(\n",
    "    connector_name=connector_name, interval=interval, days=days, quote_asset=quote_asset,\n",
    "    min_notional_size=min_notional_size, volatility_window=volatility_window, batch_size=batch_size, sleep_time=sleep_time, volatility_threshold=volatility_threshold, volume_threshold=volume_threshold)\n"
   ]
  },
  {
   "cell_type": "code",
   "execution_count": 6,
   "outputs": [
    {
     "name": "stderr",
     "output_type": "stream",
     "text": [
      "[I 2024-09-12 14:23:38,643] Using an existing study with name 'grid_strike_2' instead of creating a new one.\n",
      "2024-09-12 14:23:39,110 - asyncio - ERROR - Unclosed client session\n",
      "client_session: <aiohttp.client.ClientSession object at 0x14a92feb0>\n",
      "2024-09-12 14:23:39,114 - asyncio - ERROR - Unclosed connector\n",
      "connections: ['[(<aiohttp.client_proto.ResponseHandler object at 0x14d3d4580>, 292466.579744375)]']\n",
      "connector: <aiohttp.connector.TCPConnector object at 0x14a92c1f0>\n",
      "2024-09-12 14:23:40,727 - asyncio - ERROR - Unclosed client session\n",
      "client_session: <aiohttp.client.ClientSession object at 0x14a92c400>\n",
      "2024-09-12 14:23:40,731 - asyncio - ERROR - Unclosed connector\n",
      "connections: ['[(<aiohttp.client_proto.ResponseHandler object at 0x14d3d4580>, 292468.195902833)]']\n",
      "connector: <aiohttp.connector.TCPConnector object at 0x14a92e680>\n",
      "2024-09-12 14:23:41,527 - asyncio - ERROR - Unclosed client session\n",
      "client_session: <aiohttp.client.ClientSession object at 0x14b08e740>\n",
      "2024-09-12 14:23:41,527 - asyncio - ERROR - Unclosed connector\n",
      "connections: ['[(<aiohttp.client_proto.ResponseHandler object at 0x14aaed0c0>, 292468.998721333)]']\n",
      "connector: <aiohttp.connector.TCPConnector object at 0x14b08dae0>\n",
      "2024-09-12 14:23:46,035 - asyncio - ERROR - Unclosed client session\n",
      "client_session: <aiohttp.client.ClientSession object at 0x14af7d6f0>\n",
      "2024-09-12 14:23:46,036 - asyncio - ERROR - Unclosed client session\n",
      "client_session: <aiohttp.client.ClientSession object at 0x14a012d40>\n",
      "2024-09-12 14:23:49,730 - asyncio - ERROR - Unclosed client session\n",
      "client_session: <aiohttp.client.ClientSession object at 0x1492c4430>\n",
      "2024-09-12 14:23:49,733 - asyncio - ERROR - Unclosed connector\n",
      "connections: ['[(<aiohttp.client_proto.ResponseHandler object at 0x14acbf280>, 292477.185490916)]']\n",
      "connector: <aiohttp.connector.TCPConnector object at 0x1492c6860>\n",
      "2024-09-12 14:23:50,466 - asyncio - ERROR - Unclosed client session\n",
      "client_session: <aiohttp.client.ClientSession object at 0x14ab12c20>\n",
      "2024-09-12 14:23:50,468 - asyncio - ERROR - Unclosed connector\n",
      "connections: ['[(<aiohttp.client_proto.ResponseHandler object at 0x14ac38a00>, 292477.935484708)]']\n",
      "connector: <aiohttp.connector.TCPConnector object at 0x14ab11b10>\n",
      "2024-09-12 14:23:53,027 - asyncio - ERROR - Unclosed client session\n",
      "client_session: <aiohttp.client.ClientSession object at 0x14930b730>\n",
      "2024-09-12 14:23:53,027 - asyncio - ERROR - Unclosed connector\n",
      "connections: ['[(<aiohttp.client_proto.ResponseHandler object at 0x149333640>, 292480.4945075)]']\n",
      "connector: <aiohttp.connector.TCPConnector object at 0x14930bee0>\n"
     ]
    }
   ],
   "source": [
    "optimizer = StrategyOptimizer(root_path=root_path)\n",
    "await optimizer.optimize(\n",
    "    study_name=\"grid_strike_2\",\n",
    "    config_generator=config_generator,\n",
    "    n_trials=1000,\n",
    ")"
   ],
   "metadata": {
    "collapsed": false,
    "ExecuteTime": {
     "end_time": "2024-09-12T06:29:47.416806Z",
     "start_time": "2024-09-12T06:23:38.561775Z"
    }
   }
  },
  {
   "cell_type": "code",
   "execution_count": 5,
   "outputs": [],
   "source": [
    "optimizer.launch_optuna_dashboard()"
   ],
   "metadata": {
    "collapsed": false,
    "ExecuteTime": {
     "end_time": "2024-09-12T06:23:04.182909Z",
     "start_time": "2024-09-12T06:23:04.152693Z"
    }
   }
  },
  {
   "cell_type": "code",
   "execution_count": 5,
   "outputs": [],
   "source": [],
   "metadata": {
    "collapsed": false,
    "ExecuteTime": {
     "end_time": "2024-09-12T06:23:04.183452Z",
     "start_time": "2024-09-12T06:23:04.172044Z"
    }
   }
  }
 ],
 "metadata": {
  "kernelspec": {
   "display_name": "Python 3",
   "language": "python",
   "name": "python3"
  },
  "language_info": {
   "codemirror_mode": {
    "name": "ipython",
    "version": 3
   },
   "file_extension": ".py",
   "mimetype": "text/x-python",
   "name": "python",
   "nbconvert_exporter": "python",
   "pygments_lexer": "ipython3",
   "version": "3.10.14"
  }
 },
 "nbformat": 4,
 "nbformat_minor": 0
}
