{
 "cells": [
  {
   "cell_type": "code",
   "execution_count": 10,
   "metadata": {
    "collapsed": false,
    "ExecuteTime": {
     "end_time": "2024-09-12T06:56:32.271775Z",
     "start_time": "2024-09-12T06:56:32.266622Z"
    }
   },
   "outputs": [],
   "source": [
    "# This is necessary to recognize the modules\n",
    "import os\n",
    "import sys\n",
    "import json\n",
    "import warnings\n",
    "\n",
    "warnings.filterwarnings(\"ignore\")\n",
    "\n",
    "root_path = os.path.abspath(os.path.join(os.getcwd(), '../..'))\n",
    "sys.path.append(root_path)"
   ]
  },
  {
   "cell_type": "code",
   "execution_count": 4,
   "metadata": {
    "collapsed": false,
    "jupyter": {
     "outputs_hidden": false
    },
    "ExecuteTime": {
     "end_time": "2024-09-12T06:55:02.341057Z",
     "start_time": "2024-09-12T06:55:02.286731Z"
    }
   },
   "outputs": [],
   "source": [
    "from core.backtesting import BacktestingEngine\n",
    "\n",
    "backtesting = BacktestingEngine(root_path=root_path, load_cached_data=False)"
   ]
  },
  {
   "cell_type": "code",
   "execution_count": 5,
   "outputs": [
    {
     "name": "stderr",
     "output_type": "stream",
     "text": [
      "2024-09-12 14:55:03,414 - asyncio - ERROR - Unclosed client session\n",
      "client_session: <aiohttp.client.ClientSession object at 0x16bcb6a40>\n",
      "2024-09-12 14:55:03,415 - asyncio - ERROR - Unclosed client session\n",
      "client_session: <aiohttp.client.ClientSession object at 0x16bf33c70>\n"
     ]
    },
    {
     "data": {
      "text/plain": "['pmm_simple_with_optimizer',\n 'macd_bb_v1_with_optimizer',\n 'grid_strike_1',\n 'grid_strike_2']"
     },
     "execution_count": 5,
     "metadata": {},
     "output_type": "execute_result"
    }
   ],
   "source": [
    "from core.backtesting.optimizer import StrategyOptimizer\n",
    "\n",
    "optimizer = StrategyOptimizer(root_path=root_path, database_name=\"optimization_database\")\n",
    "optimizer.get_all_study_names()"
   ],
   "metadata": {
    "collapsed": false,
    "ExecuteTime": {
     "end_time": "2024-09-12T06:55:03.571899Z",
     "start_time": "2024-09-12T06:55:03.242570Z"
    }
   }
  },
  {
   "cell_type": "code",
   "execution_count": 6,
   "outputs": [
    {
     "data": {
      "text/plain": "      number      value             datetime_start          datetime_complete  \\\n0          0 0.00311473 2024-09-12 14:22:50.749167 2024-09-12 14:22:52.882544   \n1          1  0.0090071 2024-09-12 14:22:52.890955 2024-09-12 14:22:54.828764   \n2          2 0.01303866 2024-09-12 14:22:54.833791 2024-09-12 14:22:57.272525   \n3          3 0.01653198 2024-09-12 14:22:57.278639 2024-09-12 14:22:57.971084   \n4          4 0.05148438 2024-09-12 14:22:57.978805 2024-09-12 14:22:58.924965   \n...      ...        ...                        ...                        ...   \n1005    1005 0.02786819 2024-09-12 14:29:45.898139 2024-09-12 14:29:46.153086   \n1006    1006 0.06252497 2024-09-12 14:29:46.160108 2024-09-12 14:29:46.460889   \n1007    1007 0.05587068 2024-09-12 14:29:46.467483 2024-09-12 14:29:46.823227   \n1008    1008 0.00730804 2024-09-12 14:29:46.831188 2024-09-12 14:29:47.097090   \n1009    1009 0.06252497 2024-09-12 14:29:47.103731 2024-09-12 14:29:47.393861   \n\n                   duration  params_grid_lower_price_quantile  \\\n0    0 days 00:00:02.133377                              0.25   \n1    0 days 00:00:01.937809                               0.1   \n2    0 days 00:00:02.438734                              0.25   \n3    0 days 00:00:00.692445                              0.25   \n4    0 days 00:00:00.946160                               0.2   \n...                     ...                               ...   \n1005 0 days 00:00:00.254947                              0.25   \n1006 0 days 00:00:00.300781                              0.25   \n1007 0 days 00:00:00.355744                              0.25   \n1008 0 days 00:00:00.265902                              0.25   \n1009 0 days 00:00:00.290130                              0.25   \n\n      params_grid_step  params_grid_upper_price_quantile params_trading_pair  \\\n0                 0.02                              0.95           DOGS-USDT   \n1                0.005                               0.9           DOGS-USDT   \n2                0.005                               0.9         PEOPLE-USDT   \n3                0.015                              0.85         PEOPLE-USDT   \n4                0.015                               0.8            WIF-USDT   \n...                ...                               ...                 ...   \n1005             0.015                               0.8       1000SATS-USDT   \n1006             0.015                               0.8            WIF-USDT   \n1007              0.01                               0.8            WIF-USDT   \n1008             0.015                               0.8           PEPE-USDT   \n1009             0.015                               0.8            WIF-USDT   \n\n       accuracy  ...  profit_factor  sharpe_ratio total_executors  \\\n0           0.6  ...     1.94951422    1.97556223              48   \n1    0.86486486  ...     3.45498138    3.74452277             172   \n2             1  ...              1    4.10820234             216   \n3             1  ...              1    6.36014175              60   \n4             1  ...              1    5.85564069              38   \n...         ...  ...            ...           ...             ...   \n1005          1  ...              1    9.54935109              26   \n1006          1  ...              1    5.30316522              36   \n1007          1  ...              1    6.27838504              50   \n1008        0.4  ...     2.75627721    2.44132505              24   \n1009          1  ...              1    5.30316522              36   \n\n     total_executors_with_position  total_long  total_positions  total_short  \\\n0                               10           8               10            2   \n1                               74          64               74           10   \n2                               76          12               76           64   \n3                               17           3               17           14   \n4                               20           6               20           14   \n...                            ...         ...              ...          ...   \n1005                            14           6               14            8   \n1006                            20           6               20           14   \n1007                            28           6               28           22   \n1008                            10          10               10            0   \n1009                            20           6               20           14   \n\n      total_volume  win_signals     state  \n0     848.94470806            6  COMPLETE  \n1    1990.97627136           64  COMPLETE  \n2     1850.0035836           76  COMPLETE  \n3    1378.25701425           17  COMPLETE  \n4     3793.4244666           20  COMPLETE  \n...            ...          ...       ...  \n1005 3406.46537481           14  COMPLETE  \n1006 4269.67010348           20  COMPLETE  \n1007 4338.67943487           28  COMPLETE  \n1008 2118.66531165            4  COMPLETE  \n1009 4269.67010348           20  COMPLETE  \n\n[1010 rows x 29 columns]",
      "text/html": "<div>\n<style scoped>\n    .dataframe tbody tr th:only-of-type {\n        vertical-align: middle;\n    }\n\n    .dataframe tbody tr th {\n        vertical-align: top;\n    }\n\n    .dataframe thead th {\n        text-align: right;\n    }\n</style>\n<table border=\"1\" class=\"dataframe\">\n  <thead>\n    <tr style=\"text-align: right;\">\n      <th></th>\n      <th>number</th>\n      <th>value</th>\n      <th>datetime_start</th>\n      <th>datetime_complete</th>\n      <th>duration</th>\n      <th>params_grid_lower_price_quantile</th>\n      <th>params_grid_step</th>\n      <th>params_grid_upper_price_quantile</th>\n      <th>params_trading_pair</th>\n      <th>accuracy</th>\n      <th>...</th>\n      <th>profit_factor</th>\n      <th>sharpe_ratio</th>\n      <th>total_executors</th>\n      <th>total_executors_with_position</th>\n      <th>total_long</th>\n      <th>total_positions</th>\n      <th>total_short</th>\n      <th>total_volume</th>\n      <th>win_signals</th>\n      <th>state</th>\n    </tr>\n  </thead>\n  <tbody>\n    <tr>\n      <th>0</th>\n      <td>0</td>\n      <td>0.00311473</td>\n      <td>2024-09-12 14:22:50.749167</td>\n      <td>2024-09-12 14:22:52.882544</td>\n      <td>0 days 00:00:02.133377</td>\n      <td>0.25</td>\n      <td>0.02</td>\n      <td>0.95</td>\n      <td>DOGS-USDT</td>\n      <td>0.6</td>\n      <td>...</td>\n      <td>1.94951422</td>\n      <td>1.97556223</td>\n      <td>48</td>\n      <td>10</td>\n      <td>8</td>\n      <td>10</td>\n      <td>2</td>\n      <td>848.94470806</td>\n      <td>6</td>\n      <td>COMPLETE</td>\n    </tr>\n    <tr>\n      <th>1</th>\n      <td>1</td>\n      <td>0.0090071</td>\n      <td>2024-09-12 14:22:52.890955</td>\n      <td>2024-09-12 14:22:54.828764</td>\n      <td>0 days 00:00:01.937809</td>\n      <td>0.1</td>\n      <td>0.005</td>\n      <td>0.9</td>\n      <td>DOGS-USDT</td>\n      <td>0.86486486</td>\n      <td>...</td>\n      <td>3.45498138</td>\n      <td>3.74452277</td>\n      <td>172</td>\n      <td>74</td>\n      <td>64</td>\n      <td>74</td>\n      <td>10</td>\n      <td>1990.97627136</td>\n      <td>64</td>\n      <td>COMPLETE</td>\n    </tr>\n    <tr>\n      <th>2</th>\n      <td>2</td>\n      <td>0.01303866</td>\n      <td>2024-09-12 14:22:54.833791</td>\n      <td>2024-09-12 14:22:57.272525</td>\n      <td>0 days 00:00:02.438734</td>\n      <td>0.25</td>\n      <td>0.005</td>\n      <td>0.9</td>\n      <td>PEOPLE-USDT</td>\n      <td>1</td>\n      <td>...</td>\n      <td>1</td>\n      <td>4.10820234</td>\n      <td>216</td>\n      <td>76</td>\n      <td>12</td>\n      <td>76</td>\n      <td>64</td>\n      <td>1850.0035836</td>\n      <td>76</td>\n      <td>COMPLETE</td>\n    </tr>\n    <tr>\n      <th>3</th>\n      <td>3</td>\n      <td>0.01653198</td>\n      <td>2024-09-12 14:22:57.278639</td>\n      <td>2024-09-12 14:22:57.971084</td>\n      <td>0 days 00:00:00.692445</td>\n      <td>0.25</td>\n      <td>0.015</td>\n      <td>0.85</td>\n      <td>PEOPLE-USDT</td>\n      <td>1</td>\n      <td>...</td>\n      <td>1</td>\n      <td>6.36014175</td>\n      <td>60</td>\n      <td>17</td>\n      <td>3</td>\n      <td>17</td>\n      <td>14</td>\n      <td>1378.25701425</td>\n      <td>17</td>\n      <td>COMPLETE</td>\n    </tr>\n    <tr>\n      <th>4</th>\n      <td>4</td>\n      <td>0.05148438</td>\n      <td>2024-09-12 14:22:57.978805</td>\n      <td>2024-09-12 14:22:58.924965</td>\n      <td>0 days 00:00:00.946160</td>\n      <td>0.2</td>\n      <td>0.015</td>\n      <td>0.8</td>\n      <td>WIF-USDT</td>\n      <td>1</td>\n      <td>...</td>\n      <td>1</td>\n      <td>5.85564069</td>\n      <td>38</td>\n      <td>20</td>\n      <td>6</td>\n      <td>20</td>\n      <td>14</td>\n      <td>3793.4244666</td>\n      <td>20</td>\n      <td>COMPLETE</td>\n    </tr>\n    <tr>\n      <th>...</th>\n      <td>...</td>\n      <td>...</td>\n      <td>...</td>\n      <td>...</td>\n      <td>...</td>\n      <td>...</td>\n      <td>...</td>\n      <td>...</td>\n      <td>...</td>\n      <td>...</td>\n      <td>...</td>\n      <td>...</td>\n      <td>...</td>\n      <td>...</td>\n      <td>...</td>\n      <td>...</td>\n      <td>...</td>\n      <td>...</td>\n      <td>...</td>\n      <td>...</td>\n      <td>...</td>\n    </tr>\n    <tr>\n      <th>1005</th>\n      <td>1005</td>\n      <td>0.02786819</td>\n      <td>2024-09-12 14:29:45.898139</td>\n      <td>2024-09-12 14:29:46.153086</td>\n      <td>0 days 00:00:00.254947</td>\n      <td>0.25</td>\n      <td>0.015</td>\n      <td>0.8</td>\n      <td>1000SATS-USDT</td>\n      <td>1</td>\n      <td>...</td>\n      <td>1</td>\n      <td>9.54935109</td>\n      <td>26</td>\n      <td>14</td>\n      <td>6</td>\n      <td>14</td>\n      <td>8</td>\n      <td>3406.46537481</td>\n      <td>14</td>\n      <td>COMPLETE</td>\n    </tr>\n    <tr>\n      <th>1006</th>\n      <td>1006</td>\n      <td>0.06252497</td>\n      <td>2024-09-12 14:29:46.160108</td>\n      <td>2024-09-12 14:29:46.460889</td>\n      <td>0 days 00:00:00.300781</td>\n      <td>0.25</td>\n      <td>0.015</td>\n      <td>0.8</td>\n      <td>WIF-USDT</td>\n      <td>1</td>\n      <td>...</td>\n      <td>1</td>\n      <td>5.30316522</td>\n      <td>36</td>\n      <td>20</td>\n      <td>6</td>\n      <td>20</td>\n      <td>14</td>\n      <td>4269.67010348</td>\n      <td>20</td>\n      <td>COMPLETE</td>\n    </tr>\n    <tr>\n      <th>1007</th>\n      <td>1007</td>\n      <td>0.05587068</td>\n      <td>2024-09-12 14:29:46.467483</td>\n      <td>2024-09-12 14:29:46.823227</td>\n      <td>0 days 00:00:00.355744</td>\n      <td>0.25</td>\n      <td>0.01</td>\n      <td>0.8</td>\n      <td>WIF-USDT</td>\n      <td>1</td>\n      <td>...</td>\n      <td>1</td>\n      <td>6.27838504</td>\n      <td>50</td>\n      <td>28</td>\n      <td>6</td>\n      <td>28</td>\n      <td>22</td>\n      <td>4338.67943487</td>\n      <td>28</td>\n      <td>COMPLETE</td>\n    </tr>\n    <tr>\n      <th>1008</th>\n      <td>1008</td>\n      <td>0.00730804</td>\n      <td>2024-09-12 14:29:46.831188</td>\n      <td>2024-09-12 14:29:47.097090</td>\n      <td>0 days 00:00:00.265902</td>\n      <td>0.25</td>\n      <td>0.015</td>\n      <td>0.8</td>\n      <td>PEPE-USDT</td>\n      <td>0.4</td>\n      <td>...</td>\n      <td>2.75627721</td>\n      <td>2.44132505</td>\n      <td>24</td>\n      <td>10</td>\n      <td>10</td>\n      <td>10</td>\n      <td>0</td>\n      <td>2118.66531165</td>\n      <td>4</td>\n      <td>COMPLETE</td>\n    </tr>\n    <tr>\n      <th>1009</th>\n      <td>1009</td>\n      <td>0.06252497</td>\n      <td>2024-09-12 14:29:47.103731</td>\n      <td>2024-09-12 14:29:47.393861</td>\n      <td>0 days 00:00:00.290130</td>\n      <td>0.25</td>\n      <td>0.015</td>\n      <td>0.8</td>\n      <td>WIF-USDT</td>\n      <td>1</td>\n      <td>...</td>\n      <td>1</td>\n      <td>5.30316522</td>\n      <td>36</td>\n      <td>20</td>\n      <td>6</td>\n      <td>20</td>\n      <td>14</td>\n      <td>4269.67010348</td>\n      <td>20</td>\n      <td>COMPLETE</td>\n    </tr>\n  </tbody>\n</table>\n<p>1010 rows × 29 columns</p>\n</div>"
     },
     "execution_count": 6,
     "metadata": {},
     "output_type": "execute_result"
    }
   ],
   "source": [
    "df = optimizer.get_study_trials_df(\"grid_strike_2\")\n",
    "df"
   ],
   "metadata": {
    "collapsed": false,
    "ExecuteTime": {
     "end_time": "2024-09-12T06:55:17.101539Z",
     "start_time": "2024-09-12T06:55:16.484959Z"
    }
   }
  },
  {
   "cell_type": "code",
   "execution_count": 14,
   "outputs": [
    {
     "data": {
      "text/plain": "{'id': 'C385eyWFUL8E3UYCRTow7AFaMsuuyjfdjT498AnVutua',\n 'controller_name': 'grid_strike',\n 'controller_type': 'generic',\n 'total_amount_quote': 1000,\n 'manual_kill_switch': None,\n 'candles_config': [],\n 'connector_name': 'binance',\n 'trading_pair': 'WIF-USDT',\n 'leverage': 1,\n 'position_mode': 'HEDGE',\n 'grid_mid_price': 1.552,\n 'grid_upper_price': 1.661,\n 'grid_lower_price': 1.49825,\n 'sniper_upper_price': 2.016,\n 'sniper_lower_price': 1.327,\n 'grid_allocation': 0.85,\n 'inventory_buffer': 0.05,\n 'n_levels': 11,\n 'grid_step': 0.01,\n 'take_profit': None,\n 'activation_bounds': None,\n 'rebalanced': True}"
     },
     "execution_count": 14,
     "metadata": {},
     "output_type": "execute_result"
    }
   ],
   "source": [
    "config_id = 946\n",
    "\n",
    "config_to_backtest = json.loads(df[df[\"number\"] == config_id].to_dict(orient=\"records\")[0][\"config\"])\n",
    "config_to_backtest"
   ],
   "metadata": {
    "collapsed": false,
    "ExecuteTime": {
     "end_time": "2024-09-12T07:08:52.328699Z",
     "start_time": "2024-09-12T07:08:52.252605Z"
    }
   }
  },
  {
   "cell_type": "code",
   "execution_count": 15,
   "metadata": {
    "collapsed": false,
    "jupyter": {
     "outputs_hidden": false
    },
    "ExecuteTime": {
     "end_time": "2024-09-12T07:09:24.760924Z",
     "start_time": "2024-09-12T07:08:52.257936Z"
    }
   },
   "outputs": [
    {
     "name": "stderr",
     "output_type": "stream",
     "text": [
      "2024-09-12 15:08:52,923 - asyncio - ERROR - Unclosed client session\n",
      "client_session: <aiohttp.client.ClientSession object at 0x309bd59c0>\n",
      "2024-09-12 15:08:52,923 - asyncio - ERROR - Unclosed connector\n",
      "connections: ['[(<aiohttp.client_proto.ResponseHandler object at 0x30a0c3dc0>, 295180.365952625)]']\n",
      "connector: <aiohttp.connector.TCPConnector object at 0x309bd7a90>\n",
      "2024-09-12 15:08:53,691 - asyncio - ERROR - Unclosed client session\n",
      "client_session: <aiohttp.client.ClientSession object at 0x3093a6b60>\n",
      "2024-09-12 15:08:53,691 - asyncio - ERROR - Unclosed client session\n",
      "client_session: <aiohttp.client.ClientSession object at 0x309aef2b0>\n"
     ]
    }
   ],
   "source": [
    "from research_notebooks.grid_strike.grid_strike_bt import GridStrikeBT\n",
    "\n",
    "import datetime\n",
    "\n",
    "start = int(datetime.datetime(2024, 9, 1).timestamp())\n",
    "end = int(datetime.datetime(2024, 9, 12).timestamp())\n",
    "\n",
    "config = backtesting.get_controller_config_instance_from_dict(config_to_backtest)\n",
    "# Running the backtesting this will output a backtesting result object that has built in methods to visualize the results\n",
    "backtester = GridStrikeBT()\n",
    "backtesting_result = await backtesting.run_backtesting(\n",
    "    config=config,\n",
    "    start=start,\n",
    "    end=end,\n",
    "    backtesting_resolution=\"3m\",\n",
    "    trade_cost=0,\n",
    "    backtester=backtester,\n",
    ")\n",
    "# Let's see what is inside the backtesting results\n",
    "print(backtesting_result.get_results_summary())\n",
    "backtesting_result.get_backtesting_figure()"
   ]
  }
 ],
 "metadata": {
  "kernelspec": {
   "display_name": "Python 3 (ipykernel)",
   "language": "python",
   "name": "python3"
  },
  "language_info": {
   "codemirror_mode": {
    "name": "ipython",
    "version": 3
   },
   "file_extension": ".py",
   "mimetype": "text/x-python",
   "name": "python",
   "nbconvert_exporter": "python",
   "pygments_lexer": "ipython3",
   "version": "3.10.14"
  }
 },
 "nbformat": 4,
 "nbformat_minor": 4
}
