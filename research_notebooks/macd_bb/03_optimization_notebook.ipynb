{
 "cells": [
  {
   "cell_type": "code",
   "execution_count": 1,
   "metadata": {
    "collapsed": false,
    "ExecuteTime": {
     "end_time": "2024-09-11T23:09:41.760865Z",
     "start_time": "2024-09-11T23:09:41.757895Z"
    }
   },
   "outputs": [],
   "source": [
    "import os\n",
    "import sys\n",
    "\n",
    "root_path = os.path.abspath(os.path.join(os.getcwd(), '../..'))\n",
    "sys.path.append(root_path)"
   ]
  },
  {
   "cell_type": "code",
   "execution_count": 2,
   "metadata": {
    "ExecuteTime": {
     "end_time": "2024-09-11T23:09:43.049962Z",
     "start_time": "2024-09-11T23:09:41.765327Z"
    }
   },
   "outputs": [],
   "source": [
    "from core.backtesting.optimizer import BacktestingConfig, BaseStrategyConfigGenerator\n",
    "from hummingbot.strategy_v2.executors.position_executor.data_types import TrailingStop\n",
    "from controllers.directional_trading.macd_bb_v1 import MACDBBV1ControllerConfig\n",
    "from decimal import Decimal\n",
    "\n",
    "\n",
    "class MACDBBConfigGenerator(BaseStrategyConfigGenerator):\n",
    "    \"\"\"\n",
    "    Strategy configuration generator for MACD and Bollinger Bands optimization.\n",
    "    \"\"\"\n",
    "    def generate_config(self, trial) -> BacktestingConfig:\n",
    "        # Suggest hyperparameters using the trial object\n",
    "        fast_ma = trial.suggest_int(\"fast_ma\", 9, 59, step=10)\n",
    "        slow_ma = trial.suggest_int(\"slow_ma\", 21, 201, step=10)\n",
    "        signal_ma = trial.suggest_int(\"signal_ma\", 10, 200, step=10)\n",
    "        bb_length = trial.suggest_int(\"bb_length\", 10, 200, step=10)\n",
    "        bb_std = trial.suggest_float(\"bb_std\", 1.0, 2.5, step=0.1)\n",
    "        total_amount_quote = 1000\n",
    "        max_executors_per_side = trial.suggest_int(\"max_executors_per_side\", 1, 10)\n",
    "        take_profit = trial.suggest_float(\"take_profit\", 0.01, 0.1, step=0.01)\n",
    "        stop_loss = trial.suggest_float(\"stop_loss\", 0.01, 0.1, step=0.01)\n",
    "        trailing_stop_activation_price = trial.suggest_float(\"trailing_stop_activation_price\", 0.004, 0.02, step=0.001)\n",
    "        trailing_delta_ratio = trial.suggest_float(\"trailing_delta_ratio\", 0.05, 0.1, step=0.01)\n",
    "        trailing_stop_trailing_delta = trailing_stop_activation_price * trailing_delta_ratio\n",
    "        time_limit = 60 * 60 * 24 * 2\n",
    "        cooldown_time = 60 * 15\n",
    "\n",
    "        # Create the strategy configuration\n",
    "        config = MACDBBV1ControllerConfig(\n",
    "            connector_name=\"binance_perpetual\",\n",
    "            trading_pair=\"1000PEPE-USDT\",\n",
    "            macd_fast=fast_ma,\n",
    "            macd_slow=slow_ma,\n",
    "            macd_signal=signal_ma,\n",
    "            bb_length=bb_length,\n",
    "            bb_std=bb_std,\n",
    "            total_amount_quote=Decimal(total_amount_quote),\n",
    "            take_profit=Decimal(take_profit),\n",
    "            stop_loss=Decimal(stop_loss),\n",
    "            trailing_stop=TrailingStop(\n",
    "                activation_price=Decimal(trailing_stop_activation_price),\n",
    "                trailing_delta=Decimal(trailing_stop_trailing_delta),\n",
    "            ),\n",
    "            time_limit=time_limit,\n",
    "            max_executors_per_side=max_executors_per_side,\n",
    "            cooldown_time=cooldown_time,\n",
    "        )\n",
    "\n",
    "        # Return the configuration encapsulated in BacktestingConfig\n",
    "        return BacktestingConfig(config=config, start=self.start, end=self.end)"
   ]
  },
  {
   "cell_type": "code",
   "execution_count": 3,
   "metadata": {
    "ExecuteTime": {
     "end_time": "2024-09-11T23:11:29.666321Z",
     "start_time": "2024-09-11T23:09:43.051704Z"
    }
   },
   "outputs": [
    {
     "name": "stderr",
     "output_type": "stream",
     "text": [
      "[I 2024-09-12 07:09:43,278] Using an existing study with name 'macd_bb_v1_with_optimizer' instead of creating a new one.\n",
      "2024-09-12 07:09:44,700 - asyncio - ERROR - Unclosed client session\n",
      "client_session: <aiohttp.client.ClientSession object at 0x1425fa260>\n",
      "2024-09-12 07:09:44,703 - asyncio - ERROR - Unclosed connector\n",
      "connections: ['[(<aiohttp.client_proto.ResponseHandler object at 0x140a55c60>, 267794.876828583)]']\n",
      "connector: <aiohttp.connector.TCPConnector object at 0x1425fa170>\n",
      "2024-09-12 07:09:47,270 - asyncio - ERROR - Unclosed client session\n",
      "client_session: <aiohttp.client.ClientSession object at 0x1425ebc70>\n",
      "2024-09-12 07:09:47,271 - asyncio - ERROR - Unclosed connector\n",
      "connections: ['[(<aiohttp.client_proto.ResponseHandler object at 0x1420fbf40>, 267797.434463333)]']\n",
      "connector: <aiohttp.connector.TCPConnector object at 0x1425eba90>\n",
      "2024-09-12 07:09:57,926 - asyncio - ERROR - Unclosed client session\n",
      "client_session: <aiohttp.client.ClientSession object at 0x1425ebf70>\n",
      "2024-09-12 07:09:57,927 - asyncio - ERROR - Unclosed connector\n",
      "connections: ['[(<aiohttp.client_proto.ResponseHandler object at 0x1420fb7c0>, 267808.0872255)]']\n",
      "connector: <aiohttp.connector.TCPConnector object at 0x1425ea620>\n",
      "2024-09-12 07:10:39,866 - root - ERROR - Error writing configs: [Errno 2] No such file or directory: '/Users/dardonacci/Documents/work/quants-lab/conf/conf_client.yml'\n",
      "Traceback (most recent call last):\n",
      "  File \"/Users/dardonacci/Documents/work/quants-lab/hummingbot/client/config/config_helpers.py\", line 876, in save_to_yml\n",
      "    with open(yml_path, \"w\", encoding=\"utf-8\") as outfile:\n",
      "FileNotFoundError: [Errno 2] No such file or directory: '/Users/dardonacci/Documents/work/quants-lab/conf/conf_client.yml'\n"
     ]
    }
   ],
   "source": [
    "from core.backtesting.optimizer import StrategyOptimizer\n",
    "import datetime\n",
    "\n",
    "start_date = datetime.datetime(2024, 8, 1)\n",
    "end_date = datetime.datetime(2024, 8, 31)\n",
    "config_generator = MACDBBConfigGenerator(start_date=start_date, end_date=end_date)\n",
    "\n",
    "optimizer = StrategyOptimizer(root_path=root_path)\n",
    "await optimizer.optimize(\n",
    "    study_name=\"macd_bb_v1_with_optimizer\",\n",
    "    config_generator=config_generator,\n",
    "    n_trials=100,\n",
    ")"
   ]
  },
  {
   "cell_type": "code",
   "execution_count": 4,
   "outputs": [],
   "source": [
    "optimizer.launch_optuna_dashboard()"
   ],
   "metadata": {
    "collapsed": false,
    "ExecuteTime": {
     "end_time": "2024-09-11T23:11:29.676162Z",
     "start_time": "2024-09-11T23:11:29.666601Z"
    }
   }
  },
  {
   "cell_type": "code",
   "execution_count": 4,
   "outputs": [],
   "source": [],
   "metadata": {
    "collapsed": false,
    "ExecuteTime": {
     "end_time": "2024-09-11T23:11:29.677796Z",
     "start_time": "2024-09-11T23:11:29.677028Z"
    }
   }
  }
 ],
 "metadata": {
  "kernelspec": {
   "display_name": "Python 3",
   "language": "python",
   "name": "python3"
  },
  "language_info": {
   "codemirror_mode": {
    "name": "ipython",
    "version": 3
   },
   "file_extension": ".py",
   "mimetype": "text/x-python",
   "name": "python",
   "nbconvert_exporter": "python",
   "pygments_lexer": "ipython3",
   "version": "3.10.14"
  }
 },
 "nbformat": 4,
 "nbformat_minor": 0
}
